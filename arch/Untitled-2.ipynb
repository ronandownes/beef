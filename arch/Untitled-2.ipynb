{
 "cells": [
  {
   "cell_type": "code",
   "execution_count": null,
   "metadata": {},
   "outputs": [],
   "source": []
  },
  {
   "cell_type": "code",
   "execution_count": null,
   "metadata": {},
   "outputs": [],
   "source": []
  },
  {
   "cell_type": "markdown",
   "metadata": {},
   "source": [
    "## Data Input/Output:\n",
    "- readr()\n",
    "- scan()\n",
    "\n",
    "## Data Cleaning:\n",
    "- camel()\n",
    "- pascal()\n",
    "- snake()\n",
    "- clean_df()\n",
    "- eu()\n",
    "- now2()\n",
    "- split_file_name()\n",
    "- splitter()\n",
    "\n",
    "## Data Exploration:\n",
    "- filter_col_by_type()\n",
    "- plot_bar()\n",
    "- plot_line()\n",
    "- plot_heatmap()\n",
    "- plot_scatter()\n",
    "- plot_line_interactive()\n",
    "- plot_interactive_scatter()\n",
    "- plot_heatmap_interactive()\n",
    "- plot_map_interactive()\n",
    "\n",
    "## Data Transformation:\n",
    "- get_annual_aggregates()\n",
    "- get_dfs()\n",
    "- get_multi_index_df()\n",
    "- get_ranking_df()\n",
    "- pivot_table_aggregate()\n",
    "- prepare_wealth_data()\n",
    "\n",
    "## Data Combination:\n",
    "- merge_dfs()\n",
    "\n",
    "## Key Functions:\n",
    "- calculate_IRL_beef_diff()\n",
    "- get_data()\n",
    "- get_df_diff()\n",
    "- get_irish_data()\n",
    "- get_luxembourg_data()"
   ]
  }
 ],
 "metadata": {
  "kernelspec": {
   "display_name": "Python 3",
   "language": "python",
   "name": "python3"
  },
  "language_info": {
   "codemirror_mode": {
    "name": "ipython",
    "version": 3
   },
   "file_extension": ".py",
   "mimetype": "text/x-python",
   "name": "python",
   "nbconvert_exporter": "python",
   "pygments_lexer": "ipython3",
   "version": "3.11.1"
  },
  "orig_nbformat": 4,
  "vscode": {
   "interpreter": {
    "hash": "176c50ef35c1bea354c0b29ab49541bc440d8d3995eb0ac67d8fed55fa1f426e"
   }
  }
 },
 "nbformat": 4,
 "nbformat_minor": 2
}
