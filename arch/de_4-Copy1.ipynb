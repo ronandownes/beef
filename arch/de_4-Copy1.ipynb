{
 "cells": [
  {
   "cell_type": "markdown",
   "metadata": {
    "toc": true
   },
   "source": [
    "<h1>Table of Contents (Clickable in sidebar)<span class=\"tocSkip\"></span></h1>\n",
    "<div class=\"toc\"><ul class=\"toc-item\"><li><span><a href=\"#Introduction\" data-toc-modified-id=\"Introduction-1\"><span class=\"toc-item-num\">1&nbsp;&nbsp;</span>Introduction</a></span><ul class=\"toc-item\"><li><span><a href=\"#Analytical-Methods-and-Features-of-this-Report\" data-toc-modified-id=\"Analytical-Methods-and-Features-of-this-Report-1.1\"><span class=\"toc-item-num\">1.1&nbsp;&nbsp;</span>Analytical Methods and Features of this Report</a></span></li><li><span><a href=\"#Modules-and--libraries--\" data-toc-modified-id=\"Modules-and--libraries---1.2\"><span class=\"toc-item-num\">1.2&nbsp;&nbsp;</span>Modules and  libraries  <a id=\"libraries\" rel=\"nofollow\"></a></a></span></li><li><span><a href=\"#Climate-Change-Knowledge-Portal-(CCKP)\" data-toc-modified-id=\"Climate-Change-Knowledge-Portal-(CCKP)-1.3\"><span class=\"toc-item-num\">1.3&nbsp;&nbsp;</span>Climate Change Knowledge Portal (CCKP)</a></span><ul class=\"toc-item\"><li><span><a href=\"#About-FAOSTAT\" data-toc-modified-id=\"About-FAOSTAT-1.3.1\"><span class=\"toc-item-num\">1.3.1&nbsp;&nbsp;</span>About FAOSTAT</a></span></li><li><span><a href=\"#Licencing\" data-toc-modified-id=\"Licencing-1.3.2\"><span class=\"toc-item-num\">1.3.2&nbsp;&nbsp;</span>Licencing</a></span></li></ul></li></ul></li><li><span><a href=\"#Functions\" data-toc-modified-id=\"Functions-2\"><span class=\"toc-item-num\">2&nbsp;&nbsp;</span>Functions</a></span><ul class=\"toc-item\"><li><span><a href=\"#Aggregate-Concatenate-and--Split\" data-toc-modified-id=\"Aggregate-Concatenate-and--Split-2.1\"><span class=\"toc-item-num\">2.1&nbsp;&nbsp;</span>Aggregate Concatenate and  Split</a></span><ul class=\"toc-item\"><li><span><a href=\"#Transform\" data-toc-modified-id=\"Transform-2.1.1\"><span class=\"toc-item-num\">2.1.1&nbsp;&nbsp;</span>Transform</a></span></li><li><span><a href=\"#Combine-Files\" data-toc-modified-id=\"Combine-Files-2.1.2\"><span class=\"toc-item-num\">2.1.2&nbsp;&nbsp;</span>Combine Files</a></span></li></ul></li><li><span><a href=\"#Predictor-variables--of-average-temperature-and-rainfall-from-the--the-CCKP-website\" data-toc-modified-id=\"Predictor-variables--of-average-temperature-and-rainfall-from-the--the-CCKP-website-2.2\"><span class=\"toc-item-num\">2.2&nbsp;&nbsp;</span>Predictor variables  of average temperature and rainfall from the  <a href=\"https://climateknowledgeportal.worldbank.org/\" rel=\"nofollow\" target=\"_blank\">the CCKP website</a></a></span><ul class=\"toc-item\"><li><span><a href=\"#CCKP-Data\" data-toc-modified-id=\"CCKP-Data-2.2.1\"><span class=\"toc-item-num\">2.2.1&nbsp;&nbsp;</span>CCKP Data</a></span></li><li><span><a href=\"#Our-first-bit-of-EDA\" data-toc-modified-id=\"Our-first-bit-of-EDA-2.2.2\"><span class=\"toc-item-num\">2.2.2&nbsp;&nbsp;</span>Our first bit of EDA</a></span></li><li><span><a href=\"#Split\" data-toc-modified-id=\"Split-2.2.3\"><span class=\"toc-item-num\">2.2.3&nbsp;&nbsp;</span>Split</a></span></li><li><span><a href=\"#Key\" data-toc-modified-id=\"Key-2.2.4\"><span class=\"toc-item-num\">2.2.4&nbsp;&nbsp;</span>Key</a></span></li></ul></li><li><span><a href=\"#Text-Styles-and-counts\" data-toc-modified-id=\"Text-Styles-and-counts-2.3\"><span class=\"toc-item-num\">2.3&nbsp;&nbsp;</span>Text Styles and counts</a></span><ul class=\"toc-item\"><li><span><a href=\"#Snake\" data-toc-modified-id=\"Snake-2.3.1\"><span class=\"toc-item-num\">2.3.1&nbsp;&nbsp;</span>Snake</a></span></li><li><span><a href=\"#Pascal\" data-toc-modified-id=\"Pascal-2.3.2\"><span class=\"toc-item-num\">2.3.2&nbsp;&nbsp;</span>Pascal</a></span></li><li><span><a href=\"#Camel\" data-toc-modified-id=\"Camel-2.3.3\"><span class=\"toc-item-num\">2.3.3&nbsp;&nbsp;</span>Camel</a></span></li><li><span><a href=\"#Title\" data-toc-modified-id=\"Title-2.3.4\"><span class=\"toc-item-num\">2.3.4&nbsp;&nbsp;</span>Title</a></span></li><li><span><a href=\"#Word-count\" data-toc-modified-id=\"Word-count-2.3.5\"><span class=\"toc-item-num\">2.3.5&nbsp;&nbsp;</span>Word count</a></span></li><li><span><a href=\"#Total-Character\" data-toc-modified-id=\"Total-Character-2.3.6\"><span class=\"toc-item-num\">2.3.6&nbsp;&nbsp;</span>Total Character</a></span></li></ul></li><li><span><a href=\"#Scanners,--Readers-and-Writers\" data-toc-modified-id=\"Scanners,--Readers-and-Writers-2.4\"><span class=\"toc-item-num\">2.4&nbsp;&nbsp;</span>Scanners,  Readers and Writers</a></span><ul class=\"toc-item\"><li><span><a href=\"#Scanners\" data-toc-modified-id=\"Scanners-2.4.1\"><span class=\"toc-item-num\">2.4.1&nbsp;&nbsp;</span>Scanners</a></span></li><li><span><a href=\"#Readers\" data-toc-modified-id=\"Readers-2.4.2\"><span class=\"toc-item-num\">2.4.2&nbsp;&nbsp;</span>Readers</a></span></li><li><span><a href=\"#Splitters\" data-toc-modified-id=\"Splitters-2.4.3\"><span class=\"toc-item-num\">2.4.3&nbsp;&nbsp;</span>Splitters</a></span></li><li><span><a href=\"#Delete\" data-toc-modified-id=\"Delete-2.4.4\"><span class=\"toc-item-num\">2.4.4&nbsp;&nbsp;</span>Delete</a></span></li><li><span><a href=\"#Rename\" data-toc-modified-id=\"Rename-2.4.5\"><span class=\"toc-item-num\">2.4.5&nbsp;&nbsp;</span>Rename</a></span></li><li><span><a href=\"#Replace\" data-toc-modified-id=\"Replace-2.4.6\"><span class=\"toc-item-num\">2.4.6&nbsp;&nbsp;</span>Replace</a></span></li></ul></li><li><span><a href=\"#Filters\" data-toc-modified-id=\"Filters-2.5\"><span class=\"toc-item-num\">2.5&nbsp;&nbsp;</span>Filters</a></span><ul class=\"toc-item\"><li><span><a href=\"#EU-27\" data-toc-modified-id=\"EU-27-2.5.1\"><span class=\"toc-item-num\">2.5.1&nbsp;&nbsp;</span>EU 27</a></span></li><li><span><a href=\"#Now-or-Never!\" data-toc-modified-id=\"Now-or-Never!-2.5.2\"><span class=\"toc-item-num\">2.5.2&nbsp;&nbsp;</span>Now or Never!</a></span></li><li><span><a href=\"#Markdown-Table-of-Folder\" data-toc-modified-id=\"Markdown-Table-of-Folder-2.5.3\"><span class=\"toc-item-num\">2.5.3&nbsp;&nbsp;</span>Markdown Table of Folder</a></span></li></ul></li></ul></li><li><span><a href=\"#Exploratory-Data-Analysis-(EDA)\" data-toc-modified-id=\"Exploratory-Data-Analysis-(EDA)-3\"><span class=\"toc-item-num\">3&nbsp;&nbsp;</span>Exploratory Data Analysis (EDA)</a></span><ul class=\"toc-item\"><li><span><a href=\"#FAOSTAT-Data-Domains\" data-toc-modified-id=\"FAOSTAT-Data-Domains-3.1\"><span class=\"toc-item-num\">3.1&nbsp;&nbsp;</span>FAOSTAT Data Domains</a></span></li><li><span><a href=\"#Table-2:-List-of-Raw-CSV-Files-from-FAOSTAT\" data-toc-modified-id=\"Table-2:-List-of-Raw-CSV-Files-from-FAOSTAT-3.2\"><span class=\"toc-item-num\">3.2&nbsp;&nbsp;</span>Table 2: List of Raw CSV Files from FAOSTAT</a></span></li><li><span><a href=\"#Keeping-Null-Values-at-Download-Stage\" data-toc-modified-id=\"Keeping-Null-Values-at-Download-Stage-3.3\"><span class=\"toc-item-num\">3.3&nbsp;&nbsp;</span>Keeping Null Values at Download Stage</a></span></li><li><span><a href=\"#Tailoring--Downloads-for-the-EU-27--Countries:-Possible-but-unwise.\" data-toc-modified-id=\"Tailoring--Downloads-for-the-EU-27--Countries:-Possible-but-unwise.-3.4\"><span class=\"toc-item-num\">3.4&nbsp;&nbsp;</span>Tailoring  Downloads for the EU 27  Countries: Possible but unwise.</a></span></li><li><span><a href=\"#Production-of-live-animals\" data-toc-modified-id=\"Production-of-live-animals-3.5\"><span class=\"toc-item-num\">3.5&nbsp;&nbsp;</span>Production of live animals</a></span></li><li><span><a href=\"#Production-Livestock-Primary-Meat-data\" data-toc-modified-id=\"Production-Livestock-Primary-Meat-data-3.6\"><span class=\"toc-item-num\">3.6&nbsp;&nbsp;</span>Production Livestock Primary Meat data</a></span></li><li><span><a href=\"#Production-Prices--Data\" data-toc-modified-id=\"Production-Prices--Data-3.7\"><span class=\"toc-item-num\">3.7&nbsp;&nbsp;</span>Production Prices  Data</a></span></li><li><span><a href=\"#Trade-Crops-and-livestock-products\" data-toc-modified-id=\"Trade-Crops-and-livestock-products-3.8\"><span class=\"toc-item-num\">3.8&nbsp;&nbsp;</span>Trade Crops and livestock products</a></span></li><li><span><a href=\"#Trade-Indices\" data-toc-modified-id=\"Trade-Indices-3.9\"><span class=\"toc-item-num\">3.9&nbsp;&nbsp;</span>Trade Indices</a></span></li><li><span><a href=\"#Producer-Prices-Annual\" data-toc-modified-id=\"Producer-Prices-Annual-3.10\"><span class=\"toc-item-num\">3.10&nbsp;&nbsp;</span>Producer Prices Annual</a></span></li><li><span><a href=\"#Consumer-Price-Indices\" data-toc-modified-id=\"Consumer-Price-Indices-3.11\"><span class=\"toc-item-num\">3.11&nbsp;&nbsp;</span>Consumer Price Indices</a></span></li><li><span><a href=\"#Price-Deflators---price_deflators.csv\" data-toc-modified-id=\"Price-Deflators---price_deflators.csv-3.12\"><span class=\"toc-item-num\">3.12&nbsp;&nbsp;</span>Price Deflators - price_deflators.csv</a></span></li><li><span><a href=\"#Price-Exchange-Rates----price_exchange_rates.csv\" data-toc-modified-id=\"Price-Exchange-Rates----price_exchange_rates.csv-3.13\"><span class=\"toc-item-num\">3.13&nbsp;&nbsp;</span>Price Exchange Rates  - price_exchange_rates.csv</a></span></li><li><span><a href=\"#Land-Use\" data-toc-modified-id=\"Land-Use-3.14\"><span class=\"toc-item-num\">3.14&nbsp;&nbsp;</span>Land Use</a></span></li><li><span><a href=\"#Land-Cover\" data-toc-modified-id=\"Land-Cover-3.15\"><span class=\"toc-item-num\">3.15&nbsp;&nbsp;</span>Land Cover</a></span></li><li><span><a href=\"#Input-Fertilizers-by-Nutrient\" data-toc-modified-id=\"Input-Fertilizers-by-Nutrient-3.16\"><span class=\"toc-item-num\">3.16&nbsp;&nbsp;</span>Input Fertilizers by Nutrient</a></span></li><li><span><a href=\"#Input-Livestock-Manure\" data-toc-modified-id=\"Input-Livestock-Manure-3.17\"><span class=\"toc-item-num\">3.17&nbsp;&nbsp;</span>Input Livestock Manure</a></span></li><li><span><a href=\"#Input-Pesticides-Use\" data-toc-modified-id=\"Input-Pesticides-Use-3.18\"><span class=\"toc-item-num\">3.18&nbsp;&nbsp;</span>Input Pesticides Use</a></span></li><li><span><a href=\"#Population-and-Employment\" data-toc-modified-id=\"Population-and-Employment-3.19\"><span class=\"toc-item-num\">3.19&nbsp;&nbsp;</span>Population and Employment</a></span></li><li><span><a href=\"#Investment-Credit-to-Agriculture\" data-toc-modified-id=\"Investment-Credit-to-Agriculture-3.20\"><span class=\"toc-item-num\">3.20&nbsp;&nbsp;</span>Investment Credit to Agriculture</a></span></li><li><span><a href=\"#Investment-Government-Expenditure\" data-toc-modified-id=\"Investment-Government-Expenditure-3.21\"><span class=\"toc-item-num\">3.21&nbsp;&nbsp;</span>Investment Government Expenditure</a></span></li></ul></li><li><span><a href=\"#Cleaning-and-Preparing\" data-toc-modified-id=\"Cleaning-and-Preparing-4\"><span class=\"toc-item-num\">4&nbsp;&nbsp;</span>Cleaning and Preparing</a></span><ul class=\"toc-item\"><li><span><a href=\"#Production-Livestock-Primary-Meat-data\" data-toc-modified-id=\"Production-Livestock-Primary-Meat-data-4.1\"><span class=\"toc-item-num\">4.1&nbsp;&nbsp;</span>Production Livestock Primary Meat data</a></span></li><li><span><a href=\"#the-query()-method-EU-filter\" data-toc-modified-id=\"the-query()-method-EU-filter-4.2\"><span class=\"toc-item-num\">4.2&nbsp;&nbsp;</span>the query() method EU filter</a></span></li><li><span><a href=\"#Mergable-Key-Using-Concatenate-and-Astype()-Method\" data-toc-modified-id=\"Mergable-Key-Using-Concatenate-and-Astype()-Method-4.3\"><span class=\"toc-item-num\">4.3&nbsp;&nbsp;</span>Mergable Key Using Concatenate and Astype() Method</a></span></li><li><span><a href=\"#Lineplots-of-the-top-5-producers\" data-toc-modified-id=\"Lineplots-of-the-top-5-producers-4.4\"><span class=\"toc-item-num\">4.4&nbsp;&nbsp;</span>Lineplots of the top 5 producers</a></span></li><li><span><a href=\"#EDA-code-lines-commented-out-below-and-the-distribution-of-yields--all-indicated-that-no-cleaning-or-imputation-was-required\" data-toc-modified-id=\"EDA-code-lines-commented-out-below-and-the-distribution-of-yields--all-indicated-that-no-cleaning-or-imputation-was-required-4.5\"><span class=\"toc-item-num\">4.5&nbsp;&nbsp;</span>EDA code lines commented out below and the distribution of yields  all indicated that no cleaning or imputation was required</a></span></li></ul></li><li><span><a href=\"#The-price-a-farmer-gets-for-her-meat-ppi-should-be-an-influencial-predictor-variable\" data-toc-modified-id=\"The-price-a-farmer-gets-for-her-meat-ppi-should-be-an-influencial-predictor-variable-5\"><span class=\"toc-item-num\">5&nbsp;&nbsp;</span>The price a farmer gets for her meat ppi should be an influencial predictor variable</a></span></li><li><span><a href=\"#Shit-happens!\" data-toc-modified-id=\"Shit-happens!-6\"><span class=\"toc-item-num\">6&nbsp;&nbsp;</span>Shit happens!</a></span></li><li><span><a href=\"#Processing-the--CCKP-weather\" data-toc-modified-id=\"Processing-the--CCKP-weather-7\"><span class=\"toc-item-num\">7&nbsp;&nbsp;</span>Processing the  CCKP weather</a></span><ul class=\"toc-item\"><li><span><a href=\"#a)-First-we-will-deal-with-the-missing-values-using-the-method-constructed-above\" data-toc-modified-id=\"a)-First-we-will-deal-with-the-missing-values-using-the-method-constructed-above-7.1\"><span class=\"toc-item-num\">7.1&nbsp;&nbsp;</span>a) First we will deal with the missing values using the method constructed above</a></span></li></ul></li><li><span><a href=\"#Modeling\" data-toc-modified-id=\"Modeling-8\"><span class=\"toc-item-num\">8&nbsp;&nbsp;</span>Modeling</a></span></li><li><span><a href=\"#Results\" data-toc-modified-id=\"Results-9\"><span class=\"toc-item-num\">9&nbsp;&nbsp;</span>Results</a></span></li><li><span><a href=\"#Conclusion\" data-toc-modified-id=\"Conclusion-10\"><span class=\"toc-item-num\">10&nbsp;&nbsp;</span>Conclusion</a></span></li><li><span><a href=\"#References\" data-toc-modified-id=\"References-11\"><span class=\"toc-item-num\">11&nbsp;&nbsp;</span>References</a></span></li><li><span><a href=\"#Snippets\" data-toc-modified-id=\"Snippets-12\"><span class=\"toc-item-num\">12&nbsp;&nbsp;</span>Snippets</a></span></li><li><span><a href=\"#Appendices\" data-toc-modified-id=\"Appendices-13\"><span class=\"toc-item-num\">13&nbsp;&nbsp;</span>Appendices</a></span></li></ul></div>"
   ]
  },
  {
   "cell_type": "code",
   "execution_count": 1,
   "metadata": {},
   "outputs": [
    {
     "name": "stdout",
     "output_type": "stream",
     "text": [
      "Requirement already satisfied: jupyter_contrib_nbextensions in c:\\users\\ronan\\anaconda3\\lib\\site-packages (0.7.0)\n",
      "Requirement already satisfied: lxml in c:\\users\\ronan\\anaconda3\\lib\\site-packages (from jupyter_contrib_nbextensions) (4.9.1)\n",
      "Requirement already satisfied: jupyter-nbextensions-configurator>=0.4.0 in c:\\users\\ronan\\anaconda3\\lib\\site-packages (from jupyter_contrib_nbextensions) (0.6.1)\n",
      "Requirement already satisfied: ipython-genutils in c:\\users\\ronan\\anaconda3\\lib\\site-packages (from jupyter_contrib_nbextensions) (0.2.0)\n",
      "Requirement already satisfied: jupyter-contrib-core>=0.3.3 in c:\\users\\ronan\\anaconda3\\lib\\site-packages (from jupyter_contrib_nbextensions) (0.4.2)\n",
      "Requirement already satisfied: traitlets>=4.1 in c:\\users\\ronan\\anaconda3\\lib\\site-packages (from jupyter_contrib_nbextensions) (5.1.1)\n",
      "Requirement already satisfied: nbconvert>=6.0 in c:\\users\\ronan\\anaconda3\\lib\\site-packages (from jupyter_contrib_nbextensions) (7.2.9)\n",
      "Requirement already satisfied: jupyter-highlight-selected-word>=0.1.1 in c:\\users\\ronan\\anaconda3\\lib\\site-packages (from jupyter_contrib_nbextensions) (0.2.0)\n",
      "Requirement already satisfied: tornado in c:\\users\\ronan\\anaconda3\\lib\\site-packages (from jupyter_contrib_nbextensions) (6.1)\n",
      "Requirement already satisfied: jupyter-core in c:\\users\\ronan\\anaconda3\\lib\\site-packages (from jupyter_contrib_nbextensions) (4.11.1)\n",
      "Requirement already satisfied: notebook>=6.0 in c:\\users\\ronan\\anaconda3\\lib\\site-packages (from jupyter_contrib_nbextensions) (6.4.12)\n",
      "Requirement already satisfied: setuptools in c:\\users\\ronan\\anaconda3\\lib\\site-packages (from jupyter-contrib-core>=0.3.3->jupyter_contrib_nbextensions) (63.4.1)\n",
      "Requirement already satisfied: pyyaml in c:\\users\\ronan\\anaconda3\\lib\\site-packages (from jupyter-nbextensions-configurator>=0.4.0->jupyter_contrib_nbextensions) (6.0)\n",
      "Requirement already satisfied: tinycss2 in c:\\users\\ronan\\anaconda3\\lib\\site-packages (from nbconvert>=6.0->jupyter_contrib_nbextensions) (1.2.1)\n",
      "Requirement already satisfied: pandocfilters>=1.4.1 in c:\\users\\ronan\\anaconda3\\lib\\site-packages (from nbconvert>=6.0->jupyter_contrib_nbextensions) (1.5.0)\n",
      "Requirement already satisfied: nbclient>=0.5.0 in c:\\users\\ronan\\anaconda3\\lib\\site-packages (from nbconvert>=6.0->jupyter_contrib_nbextensions) (0.5.13)\n",
      "Requirement already satisfied: jinja2>=3.0 in c:\\users\\ronan\\anaconda3\\lib\\site-packages (from nbconvert>=6.0->jupyter_contrib_nbextensions) (3.1.2)\n",
      "Requirement already satisfied: nbformat>=5.1 in c:\\users\\ronan\\anaconda3\\lib\\site-packages (from nbconvert>=6.0->jupyter_contrib_nbextensions) (5.5.0)\n",
      "Requirement already satisfied: markupsafe>=2.0 in c:\\users\\ronan\\anaconda3\\lib\\site-packages (from nbconvert>=6.0->jupyter_contrib_nbextensions) (2.0.1)\n",
      "Requirement already satisfied: pygments>=2.4.1 in c:\\users\\ronan\\anaconda3\\lib\\site-packages (from nbconvert>=6.0->jupyter_contrib_nbextensions) (2.11.2)\n",
      "Requirement already satisfied: beautifulsoup4 in c:\\users\\ronan\\anaconda3\\lib\\site-packages (from nbconvert>=6.0->jupyter_contrib_nbextensions) (4.11.1)\n",
      "Requirement already satisfied: importlib-metadata>=3.6 in c:\\users\\ronan\\anaconda3\\lib\\site-packages (from nbconvert>=6.0->jupyter_contrib_nbextensions) (4.11.3)\n",
      "Requirement already satisfied: jupyterlab-pygments in c:\\users\\ronan\\anaconda3\\lib\\site-packages (from nbconvert>=6.0->jupyter_contrib_nbextensions) (0.1.2)\n",
      "Requirement already satisfied: mistune<3,>=2.0.3 in c:\\users\\ronan\\anaconda3\\lib\\site-packages (from nbconvert>=6.0->jupyter_contrib_nbextensions) (2.0.5)\n",
      "Requirement already satisfied: defusedxml in c:\\users\\ronan\\anaconda3\\lib\\site-packages (from nbconvert>=6.0->jupyter_contrib_nbextensions) (0.7.1)\n",
      "Requirement already satisfied: bleach in c:\\users\\ronan\\anaconda3\\lib\\site-packages (from nbconvert>=6.0->jupyter_contrib_nbextensions) (4.1.0)\n",
      "Requirement already satisfied: packaging in c:\\users\\ronan\\anaconda3\\lib\\site-packages (from nbconvert>=6.0->jupyter_contrib_nbextensions) (21.3)\n",
      "Requirement already satisfied: pywin32>=1.0 in c:\\users\\ronan\\anaconda3\\lib\\site-packages (from jupyter-core->jupyter_contrib_nbextensions) (302)\n",
      "Requirement already satisfied: jupyter-client>=5.3.4 in c:\\users\\ronan\\anaconda3\\lib\\site-packages (from notebook>=6.0->jupyter_contrib_nbextensions) (7.3.4)\n",
      "Requirement already satisfied: Send2Trash>=1.8.0 in c:\\users\\ronan\\anaconda3\\lib\\site-packages (from notebook>=6.0->jupyter_contrib_nbextensions) (1.8.0)\n",
      "Requirement already satisfied: prometheus-client in c:\\users\\ronan\\anaconda3\\lib\\site-packages (from notebook>=6.0->jupyter_contrib_nbextensions) (0.14.1)\n",
      "Requirement already satisfied: ipykernel in c:\\users\\ronan\\anaconda3\\lib\\site-packages (from notebook>=6.0->jupyter_contrib_nbextensions) (6.15.2)\n",
      "Requirement already satisfied: argon2-cffi in c:\\users\\ronan\\anaconda3\\lib\\site-packages (from notebook>=6.0->jupyter_contrib_nbextensions) (21.3.0)\n",
      "Requirement already satisfied: terminado>=0.8.3 in c:\\users\\ronan\\anaconda3\\lib\\site-packages (from notebook>=6.0->jupyter_contrib_nbextensions) (0.13.1)\n",
      "Requirement already satisfied: pyzmq>=17 in c:\\users\\ronan\\anaconda3\\lib\\site-packages (from notebook>=6.0->jupyter_contrib_nbextensions) (23.2.0)\n",
      "Requirement already satisfied: nest-asyncio>=1.5 in c:\\users\\ronan\\anaconda3\\lib\\site-packages (from notebook>=6.0->jupyter_contrib_nbextensions) (1.5.5)\n",
      "Requirement already satisfied: zipp>=0.5 in c:\\users\\ronan\\anaconda3\\lib\\site-packages (from importlib-metadata>=3.6->nbconvert>=6.0->jupyter_contrib_nbextensions) (3.8.0)\n",
      "Requirement already satisfied: python-dateutil>=2.8.2 in c:\\users\\ronan\\anaconda3\\lib\\site-packages (from jupyter-client>=5.3.4->notebook>=6.0->jupyter_contrib_nbextensions) (2.8.2)\n",
      "Requirement already satisfied: entrypoints in c:\\users\\ronan\\anaconda3\\lib\\site-packages (from jupyter-client>=5.3.4->notebook>=6.0->jupyter_contrib_nbextensions) (0.4)\n",
      "Requirement already satisfied: fastjsonschema in c:\\users\\ronan\\anaconda3\\lib\\site-packages (from nbformat>=5.1->nbconvert>=6.0->jupyter_contrib_nbextensions) (2.16.2)\n",
      "Requirement already satisfied: jsonschema>=2.6 in c:\\users\\ronan\\anaconda3\\lib\\site-packages (from nbformat>=5.1->nbconvert>=6.0->jupyter_contrib_nbextensions) (4.16.0)\n",
      "Requirement already satisfied: pywinpty>=1.1.0 in c:\\users\\ronan\\anaconda3\\lib\\site-packages (from terminado>=0.8.3->notebook>=6.0->jupyter_contrib_nbextensions) (2.0.2)\n",
      "Requirement already satisfied: argon2-cffi-bindings in c:\\users\\ronan\\anaconda3\\lib\\site-packages (from argon2-cffi->notebook>=6.0->jupyter_contrib_nbextensions) (21.2.0)\n",
      "Requirement already satisfied: soupsieve>1.2 in c:\\users\\ronan\\anaconda3\\lib\\site-packages (from beautifulsoup4->nbconvert>=6.0->jupyter_contrib_nbextensions) (2.3.1)\n",
      "Requirement already satisfied: six>=1.9.0 in c:\\users\\ronan\\anaconda3\\lib\\site-packages (from bleach->nbconvert>=6.0->jupyter_contrib_nbextensions) (1.16.0)\n",
      "Requirement already satisfied: webencodings in c:\\users\\ronan\\anaconda3\\lib\\site-packages (from bleach->nbconvert>=6.0->jupyter_contrib_nbextensions) (0.5.1)\n",
      "Requirement already satisfied: debugpy>=1.0 in c:\\users\\ronan\\anaconda3\\lib\\site-packages (from ipykernel->notebook>=6.0->jupyter_contrib_nbextensions) (1.5.1)\n",
      "Requirement already satisfied: matplotlib-inline>=0.1 in c:\\users\\ronan\\anaconda3\\lib\\site-packages (from ipykernel->notebook>=6.0->jupyter_contrib_nbextensions) (0.1.6)\n",
      "Requirement already satisfied: psutil in c:\\users\\ronan\\anaconda3\\lib\\site-packages (from ipykernel->notebook>=6.0->jupyter_contrib_nbextensions) (5.9.0)\n",
      "Requirement already satisfied: ipython>=7.23.1 in c:\\users\\ronan\\anaconda3\\lib\\site-packages (from ipykernel->notebook>=6.0->jupyter_contrib_nbextensions) (7.31.1)\n",
      "Requirement already satisfied: pyparsing!=3.0.5,>=2.0.2 in c:\\users\\ronan\\anaconda3\\lib\\site-packages (from packaging->nbconvert>=6.0->jupyter_contrib_nbextensions) (3.0.9)\n",
      "Requirement already satisfied: colorama in c:\\users\\ronan\\anaconda3\\lib\\site-packages (from ipython>=7.23.1->ipykernel->notebook>=6.0->jupyter_contrib_nbextensions) (0.4.5)\n",
      "Requirement already satisfied: decorator in c:\\users\\ronan\\anaconda3\\lib\\site-packages (from ipython>=7.23.1->ipykernel->notebook>=6.0->jupyter_contrib_nbextensions) (5.1.1)\n",
      "Requirement already satisfied: jedi>=0.16 in c:\\users\\ronan\\anaconda3\\lib\\site-packages (from ipython>=7.23.1->ipykernel->notebook>=6.0->jupyter_contrib_nbextensions) (0.18.1)\n",
      "Requirement already satisfied: prompt-toolkit!=3.0.0,!=3.0.1,<3.1.0,>=2.0.0 in c:\\users\\ronan\\anaconda3\\lib\\site-packages (from ipython>=7.23.1->ipykernel->notebook>=6.0->jupyter_contrib_nbextensions) (3.0.20)\n",
      "Requirement already satisfied: pickleshare in c:\\users\\ronan\\anaconda3\\lib\\site-packages (from ipython>=7.23.1->ipykernel->notebook>=6.0->jupyter_contrib_nbextensions) (0.7.5)\n",
      "Requirement already satisfied: backcall in c:\\users\\ronan\\anaconda3\\lib\\site-packages (from ipython>=7.23.1->ipykernel->notebook>=6.0->jupyter_contrib_nbextensions) (0.2.0)\n",
      "Requirement already satisfied: pyrsistent!=0.17.0,!=0.17.1,!=0.17.2,>=0.14.0 in c:\\users\\ronan\\anaconda3\\lib\\site-packages (from jsonschema>=2.6->nbformat>=5.1->nbconvert>=6.0->jupyter_contrib_nbextensions) (0.18.0)\n",
      "Requirement already satisfied: attrs>=17.4.0 in c:\\users\\ronan\\anaconda3\\lib\\site-packages (from jsonschema>=2.6->nbformat>=5.1->nbconvert>=6.0->jupyter_contrib_nbextensions) (21.4.0)\n",
      "Requirement already satisfied: cffi>=1.0.1 in c:\\users\\ronan\\anaconda3\\lib\\site-packages (from argon2-cffi-bindings->argon2-cffi->notebook>=6.0->jupyter_contrib_nbextensions) (1.15.1)\n",
      "Requirement already satisfied: pycparser in c:\\users\\ronan\\anaconda3\\lib\\site-packages (from cffi>=1.0.1->argon2-cffi-bindings->argon2-cffi->notebook>=6.0->jupyter_contrib_nbextensions) (2.21)\n",
      "Requirement already satisfied: parso<0.9.0,>=0.8.0 in c:\\users\\ronan\\anaconda3\\lib\\site-packages (from jedi>=0.16->ipython>=7.23.1->ipykernel->notebook>=6.0->jupyter_contrib_nbextensions) (0.8.3)\n",
      "Requirement already satisfied: wcwidth in c:\\users\\ronan\\anaconda3\\lib\\site-packages (from prompt-toolkit!=3.0.0,!=3.0.1,<3.1.0,>=2.0.0->ipython>=7.23.1->ipykernel->notebook>=6.0->jupyter_contrib_nbextensions) (0.2.5)\n",
      "Note: you may need to restart the kernel to use updated packages.\n"
     ]
    }
   ],
   "source": [
    "pip install jupyter_contrib_nbextensions\n"
   ]
  },
  {
   "cell_type": "code",
   "execution_count": null,
   "metadata": {},
   "outputs": [],
   "source": []
  },
  {
   "cell_type": "code",
   "execution_count": null,
   "metadata": {},
   "outputs": [],
   "source": []
  },
  {
   "cell_type": "code",
   "execution_count": null,
   "metadata": {},
   "outputs": [],
   "source": []
  },
  {
   "cell_type": "code",
   "execution_count": null,
   "metadata": {},
   "outputs": [],
   "source": []
  },
  {
   "cell_type": "code",
   "execution_count": null,
   "metadata": {},
   "outputs": [],
   "source": []
  },
  {
   "cell_type": "markdown",
   "metadata": {},
   "source": [
    "# Analysis and  comparison of Ireland's beef sector with other  EU contries\n",
    "\n",
    "Final name 1_Data_Exploration\n",
    "\n",
    "\n",
    "## Introduction \n",
    "\n",
    "![image1](../images/tu04.png)\n",
    "\n",
    "<span style=\"font-size: 24px;\">                 </span>\n",
    "\n",
    "Between €28.5bn and €32.6bn of the European Union's subsidies for farmers supports the livestock sector, [Greenpeace said in a new report published Tuesday (12 February)]( https://storage.googleapis.com/planet4-eu-unit-stateless/2019/02/83254ee1-190212-feeding-the-problem-dangerous-intensification-of-animal-farming-in-europe.pdf).\n",
    "That estimate amounts to between 18 and 20 percent of the entire EU budget. \n",
    "\n",
    "Beef production analysis and comparison using machine learning (ML) techniques then provides valuable insights into the industry here in Ireland. Forecasting prices and fertilizer demand, as well as understanding the sentiment of key stakeholders are all provided  as well as an  exposition and justification for the methodologies used throughout.\n",
    "\n",
    "The Department of Agriculture, Food and the Marine is responsible for implementing The Common Agricultural Policy (CAP) and managing the various programs and initiatives available to Irish beef farmers. For this reason the departments [The CAP Strategic Plan 2023 -2027](https://www.gov.ie/en/publication/76026-common-agricultural-policy-cap-post-2020/#irelands-cap-strategic-plan-2023-2027) documents were used as motivation to discover data with the most significant statistical impact.\n",
    "\n",
    "###   Analytical Methods and Features of this Report \n",
    "- forecasting\n",
    "- sentiment analysis\n",
    "- Evidence based recommendations for farmers and policy makers are given.\n",
    "- Exposition of and justification for all methodologies.\n",
    "- Discussion  of choice of project management framework.\n",
    "- Regular commits of my report, code files and project repository directories were made to Github.\n",
    "- Ireland is the base line for this study.\n",
    "\n",
    "### Modules and  libraries  <a id=\"libraries\"></a>\n",
    "\n",
    "This  code block imports various Python libraries  used for data analysis and visualization, including Pandas, Matplotlib, Seaborn, Scikit-Learn, and others. It also sets some options for data wrangling, visualization, and controlling warnings. Additionally, it imports a few specific functions and classes from some of these libraries, such as GridSearchCV from Scikit-Learn and ks_2samp from Scipy. Finally, it sets a color variable to be used in plotting. It's visibility can be toggled on and off woth the button underneath."
   ]
  },
  {
   "cell_type": "code",
   "execution_count": 33,
   "metadata": {},
   "outputs": [],
   "source": [
    "import csv\n",
    "import datetime\n",
    "import glob\n",
    "import fancyimpute\n",
    "import html\n",
    "import matplotlib.axes\n",
    "import matplotlib.image as mpimg\n",
    "import matplotlib.pyplot as plt\n",
    "import missingno as msno\n",
    "import numpy as np\n",
    "import os\n",
    "import pandas as pd\n",
    "import pycountry\n",
    "import plotly.express as px\n",
    "import re\n",
    "import requests\n",
    "import seaborn as sns\n",
    "import time\n",
    "from IPython.display import HTML, Image, display\n",
    "from countrygroups import EUROPEAN_UNION\n",
    "from countryinfo import CountryInfo\n",
    "from functools import partial, reduce\n",
    "from scipy.stats import ks_2samp, shapiro\n",
    "from sklearn.ensemble import GradientBoostingRegressor, RandomForestRegressor\n",
    "from sklearn.impute import SimpleImputer\n",
    "from sklearn.linear_model import ElasticNet, Lasso, LinearRegression, Ridge\n",
    "from sklearn.metrics import mean_absolute_error, r2_score\n",
    "from sklearn.model_selection import GridSearchCV, RandomizedSearchCV, train_test_split\n",
    "from sklearn.neighbors import KNeighborsRegressor\n",
    "from sklearn.svm import LinearSVR\n",
    "from typing import Dict, List, Tuple\n"
   ]
  },
  {
   "cell_type": "markdown",
   "metadata": {},
   "source": [
    "### Climate Change Knowledge Portal (CCKP)\n",
    "\n",
    "<img src=\"../images/tu03.png\" alt=\"image5\" width=\"50%\">\n",
    "<span style=\"font-size: 24px;\">                  </span>\n",
    " Only two attributes are taken from the CCKP database: Mean_Temperature and Precipitation.\n",
    "\n",
    "[The CCKP website](https://climateknowledgeportal.worldbank.org/)\n",
    " is a  resource for information on the impacts of climate change and the actions taken to address these impacts. While this is outside the remit of this project the CCKP also provides access to global data on a historical  basis for the **Mean_Temperature** and **Precipitation** at the  country-by-country level  on both monthly and yearly aggregates. While **humidity** is also a known influential predictor variable these two should have a statistically significant imapct on our predictive modelling. Spatial data is provided as a global NetCDF file, with Climatology, Timeseries and Heatplot data is provided as a CSV file.\n",
    "\n",
    "Climate conditions, such as average temperature and rainfall (precipitation ) can greatly affect the growth and health of cattle. Precipitation and temperature predictor variables were  retrieved  but they were   aggragated by country and this necessitated  the **cckp** and  **combine**  functions for data wrangling."
   ]
  },
  {
   "cell_type": "markdown",
   "metadata": {},
   "source": [
    "####  About FAOSTAT\n",
    "\n",
    "<img src=\"../images/tu02.png\" alt=\"image5\" width=\"50%\">\n",
    "\n",
    "<span style=\"font-size: 24px;\">                  </span>\n",
    "FAOSTAT is a comprehensive database maintained by the Food and Agriculture Organization of the United Nations (FAO), providing timely, reliable data on agriculture, food, and nutrition for over 200 countries. Its information is used to inform decision-making, policy formulation, and research in the field, covering topics such as production, trade, and fertilizer use. FAOSTAT is a valuable resource for governments, organizations, researchers, and the public, informing policy and interventions to enhance food security and reduce poverty.\n",
    "\n",
    "#### Licencing \n",
    "All datasets from the [FAOSTAT](https://www.fao.org/faostat/en/#home) are licensed under the Creative Commons Attribution-NonCommercial-ShareAlike 3.0 IGO [(CC BY-NC-SA 3.0 IGO)](https://creativecommons.org/licenses/by-nc-sa/3.0/igo/). Source: FAOSTAT (2023). Time Series datasets.\n",
    "<img src=\"../images/tu06.png\" alt=\"image5\" width=\"50%\">\n",
    "<span style=\"font-size: 24px;\">                  </span>\n"
   ]
  },
  {
   "cell_type": "markdown",
   "metadata": {},
   "source": [
    "## Functions\n",
    "\n",
    "We write functions for operations that are commonly repeated or have a well-defined purpose. It took me a lot of time but this modular strategy is more organized, easier to read, and less prone to errors overall. On the other hand, they introduce an added administrative burden and can leave code harder to follow and disjointed.\n",
    "\n",
    "\n",
    "### Aggregate Concatenate and  Split \n",
    "\n",
    "####  Transform \n",
    "\n",
    "The transform function reads in a CSV file, renames a column, and filters the resulting dataframe to only include the 'key' and specified column. It returns the resulting dataframe after renaming the specified column and filtering."
   ]
  },
  {
   "cell_type": "code",
   "execution_count": 43,
   "metadata": {},
   "outputs": [],
   "source": [
    "def transform(path: str, filename: str, col_name: str) -> pd.DataFrame:\n",
    "    \"\"\"Reads in a CSV file from the given directory, renames a column to the given column name, and\n",
    "    filters the resulting dataframe to only include the 'key' and specified column.\n",
    "    \n",
    "    Args:\n",
    "        path (str): The relative path of the directory containing the data.\n",
    "        filename (str): The name of the CSV file to read in.\n",
    "        col_name (str): The name to assign to the specified column in the resulting dataframe.\n",
    "        \n",
    "    Returns:\n",
    "        pandas.DataFrame: The resulting dataframe after renaming the specified column and filtering\n",
    "        to only include the 'key' and specified column.\n",
    "    \"\"\"\n",
    "    try:\n",
    "        file_path = os.path.join(path, filename)\n",
    "        df = pd.read_csv(file_path, on_bad_lines='skip', skiprows=1)\n",
    "        df.rename(columns={'Unnamed: 0': 'Year'}, inplace=True)\n",
    "        df['key'] = df.columns[1] + df['Year'].astype(str)\n",
    "        df.rename(columns={df.columns[1]: col_name}, inplace=True)\n",
    "        df = df.filter(['key', col_name])\n",
    "        return df\n",
    "    except Exception as e:\n",
    "        print(f\"Error reading in CSV file {file_path}: {e}\")"
   ]
  },
  {
   "cell_type": "markdown",
   "metadata": {},
   "source": [
    "\n",
    "####  Combine Files\n",
    "\n",
    "The combine function is designed to read in all  the **precicipitation** or **mean-temperature** CSV files  from either the 'pr' or 'ts' folders, apply the transform function to each file to rename a column with the country the data relates to and filter at the superregional level. It then combines    all the the resulting dataframes together into a single dataframe for all the 27 EU counties."
   ]
  },
  {
   "cell_type": "code",
   "execution_count": 44,
   "metadata": {},
   "outputs": [],
   "source": [
    "def combine(path: str, subfolder: str, col_name: str) -> pd.DataFrame:\n",
    "    \"\"\"Reads in all CSV files in the given subfolder of the directory, applies the 'transform' function to each file, and\n",
    "    combines the resulting dataframes together into a single dataframe.\n",
    "    \n",
    "    Args:\n",
    "        path (str): The relative path of the directory containing the data.\n",
    "        subfolder (str): The name of the subfolder within the directory to read the CSV files from.\n",
    "        col_name (str): The name to assign to the specified column in the resulting dataframe.\n",
    "        \n",
    "    Returns:\n",
    "        pandas.DataFrame: The resulting dataframe after combining data from all CSV files in the\n",
    "        specified subfolder.\n",
    "    \"\"\"\n",
    "    try:\n",
    "        folder_path = os.path.join(path, subfolder)\n",
    "        csv_filenames = glob.glob(folder_path + \"/*.csv\")\n",
    "        processed_dfs = (transform(path, os.path.join(subfolder, os.path.basename(FileName)), col_name) for FileName in csv_filenames)\n",
    "        df = pd.concat(processed_dfs, ignore_index=True)\n",
    "        return df\n",
    "    except Exception as e:\n",
    "        print(f\"Error combining CSV files in folder {folder_path}: {e}\")"
   ]
  },
  {
   "cell_type": "markdown",
   "metadata": {},
   "source": [
    "### Predictor variables  of average temperature and rainfall from the  [the CCKP website](https://climateknowledgeportal.worldbank.org/)\n",
    "\n",
    "\n",
    "\n",
    "\n",
    "#### CCKP Data \n",
    "\n",
    "<div style=\"display: flex; justify-content: center;\">\n",
    "  <img src=\"../images/we28.png\" alt=\"image19\" style=\"width: 30%;\">\n",
    "  <img src=\"../images/we29.png\" alt=\"image20\" style=\"width: 30%;\">\n",
    "    <img src=\"../images/we30.png\" alt=\"image20\" style=\"width: 30%;\">\n",
    "</div>\n",
    "\n",
    "<span style=\"font-size: 18px;\">Figure 3:Time Series Data downloaded for 27 EU countries from  CCKP site </span>\n",
    "\n",
    "\n",
    "To maintain consistency with the FAO data, annual and not monthly time series  aggregates were taken from the Climatic Research Unit (CRU) dataset for **precipitation** and   **mean-temperature**. These datasets are provided by the CRU TS 4.04 dataset, a gridded climate dataset produced by the Climatic Research Unit (CRU) at the University of East Anglia in the United Kingdom. In the statistics section, range, variance, and standard deviation of monthly data may be revisited for insights.\n",
    "\n",
    "The file names and folder names of the CCKP data used in this project are tabulated below.\n",
    "\n",
    "<span style=\"font-size: 24px;\">Table : Table shows Time Series data filenames and folders  for 27 EU countries from  CCKP site </span>\n",
    "\n",
    "\n",
    "\n",
    "| Country        | Code | TasAnnual (Folder with Tempature data)                              | PrAnnual   (Folder with Precipitation Data)                        |\n",
    "|:--------------:|:----:|:--------------------------------------:|:---------------------------------:|\n",
    "| Albania        | ALB  | tas_timeseries_annual_cru_1901-2021_ALB.csv | pr_timeseries_annual_cru_1901-2021_ALB.csv |\n",
    "| Andorra        | AND  | tas_timeseries_annual_cru_1901-2021_AND.csv | pr_timeseries_annual_cru_1901-2021_AND.csv |\n",
    "| Austria        | AUT  | tas_timeseries_annual_cru_1901-2021_AUT.csv | pr_timeseries_annual_cru_1901-2021_AUT.csv |\n",
    "| Belarus        | BLR  | tas_timeseries_annual_cru_1901-2021_BLR.csv | pr_timeseries_annual_cru_1901-2021_BLR.csv |\n",
    "| Belgium        | BEL  | tas_timeseries_annual_cru_1901-2021_BEL.csv | pr_timeseries_annual_cru_1901-2021_BEL.csv |\n",
    "| Bosnia and Herzegovina | BIH  | tas_timeseries_annual_cru_1901-2021_BIH.csv | pr_timeseries_annual_cru_1901-2021_BIH.csv |\n",
    "| Bulgaria       | BGR  | tas_timeseries_annual_cru_1901-2021_BGR.csv | pr_timeseries_annual_cru_1901-2021_BGR.csv |\n",
    "| Croatia        | HRV  | tas_timeseries_annual_cru_1901-2021_HRV.csv | pr_timeseries_annual_cru_1901-2021_HRV.csv |\n",
    "| Cyprus         | CYP  | tas_timeseries_annual_cru_1901-2021_CYP.csv | pr_timeseries_annual_cru_1901-2021_CYP.csv |\n",
    "| Czech Republic | CZE  | tas_timeseries_annual_cru_1901-2021_CZE.csv | pr_timeseries_annual_cru_1901-2021_CZE.csv |\n",
    "| Denmark        | DNK  | tas_timeseries_annual_cru_1901-2021_DNK.csv | pr_timeseries_annual_cru_1901-2021_DNK.csv |\n",
    "| Estonia        | EST  | tas_timeseries_annual_cru_1901-2021_EST.csv | pr_timeseries_annual_cru_1901-2021_EST.csv |\n",
    "| Finland        | FIN  | tas_timeseries_annual_cru_1901-2021_FIN.csv | pr_timeseries_annual_cru_1901-2021_FIN.csv |\n",
    "| France         | FRA  | tas_timeseries_annual_cru_1901-2021_FRA.csv | pr_timeseries_annual_cru_1901-2021_FRA.csv |\n",
    "| Germany        | DEU  | tas_timeseries_annual_cru_1901-2021_DEU.csv | pr_timeseries_annual_cru_1901-2021_DEU.csv |\n",
    "| Gibraltar      | GIB  | tas_timeseries_annual_cru_1901-2021_GIB.csv | pr_timeseries_annual_cru_1901-2021_GIB.csv |\n",
    "| Greece | GRC | tas_timeseries_annual_cru_1901-2021_GRC.csv | pr_timeseries_annual_cru_1901-2021_GRC.csv |\n",
    "| Croatia | HRV | tas_timeseries_annual_cru_1901-2021_HRV.csv | pr_timeseries_annual_cru_1901-2021_HRV.csv |\n",
    "| Hungary | HUN | tas_timeseries_annual_cru_1901-2021_HUN.csv | pr_timeseries_annual_cru_1901-2021_HUN.csv |\n",
    "| Ireland | IRL | tas_timeseries_annual_cru_1901-2021_IRL.csv | pr_timeseries_annual_cru_1901-2021_IRL.csv |\n",
    "| Italy | ITA | tas_timeseries_annual_cru_1901-2021_ITA.csv | pr_timeseries_annual_cru_1901-2021_ITA.csv |\n",
    "| Lithuania | LTU | tas_timeseries_annual_cru_1901-2021_LTU.csv | pr_timeseries_annual_cru_1901-2021_LTU.csv |\n",
    "| Luxembourg | LUX | tas_timeseries_annual_cru_1901-2021_LUX.csv | pr_timeseries_annual_cru_1901-2021_LUX.csv |\n",
    "| Latvia | LVA | tas_timeseries_annual_cru_1901-2021_LVA.csv | pr_timeseries_annual_cru_1901-2021_LVA.csv |\n",
    "| Malta | MLT | tas_timeseries_annual_cru_1901-2021_MLT.csv | pr_timeseries_annual_cru_1901-2021_MLT.csv |\n",
    "| Netherlands | NLD | tas_timeseries_annual_cru_1901-2021_NLD.csv | pr_timeseries_annual_cru_1901-2021_NLD.csv |\n",
    "| Poland | POL | tas_timeseries_annual_cru_1901-2021_POL.csv | pr_timeseries_annual_cru_1901-2021_POL.csv |\n",
    "| Portugal | PRT | tas_timeseries_annual_cru_1901-2021_PRT.csv | pr_timeseries_annual_cru_1901-2021_PRT.csv |\n",
    "| Romania | ROU | tas_timeseries_annual_cru_1901-2021_ROU.csv | pr_timeseries_annual_cru_1901-2021_ROU.csv |\n",
    "| Slovakia | SVK | tas_timeseries_annual_cru_1901-2021_SVK.csv | pr_timeseries_annual_cru_1901-2021_SVK.csv |\n",
    "| Slovenia | SVN | tas_timeseries_annual_cru_1901-2021_SVN.csv | pr_timeseries_annual_cru_1901-2021_SVN.csv |\n",
    "| Sweden | SWE | tas_timeseries_annual_cru_1901-2021_SWE.csv | pr_timeseries_annual_cru_1901-2021_SWE.csv |\n",
    "\n",
    "\n",
    "All datasets from the CCKP are licensed under the Creative Commons Attribution-NonCommercial-ShareAlike 3.0 IGO (CC BY-NC-SA 3.0 IGO). \n",
    "Source: CCKP (2023). Time Series datasets. Retrieved from [https://climateknowledgeportal.worldbank.org/download-data]."
   ]
  },
  {
   "cell_type": "markdown",
   "metadata": {},
   "source": [
    "####  Our first bit of EDA "
   ]
  },
  {
   "cell_type": "code",
   "execution_count": null,
   "metadata": {},
   "outputs": [],
   "source": [
    "rain_df = combine('../data', 'pr', 'Rain_mm/yr')\n",
    "temp_df = combine('../data', 'tas', 'Temperature_C')\n",
    "\n"
   ]
  },
  {
   "cell_type": "markdown",
   "metadata": {},
   "source": [
    "  #### Split\n",
    "The split function takes a pandas DataFrame df and a column name col as input, and returns a dictionary where each key corresponds to a unique value in the specified column, and each value is a DataFrame containing all rows with that unique value.\n",
    "\n",
    "\n"
   ]
  },
  {
   "cell_type": "code",
   "execution_count": 36,
   "metadata": {},
   "outputs": [],
   "source": [
    "def split(df: pd.DataFrame, col: str) -> dict:\n",
    "    \"\"\"\n",
    "    \n",
    " \n",
    "    Parameters:\n",
    "        df (pd.DataFrame): The DataFrame to split.\n",
    "        col (str): The name of the column to group by.\n",
    "\n",
    "    Returns:\n",
    "        dict: A dictionary where each key corresponds to a unique value in the specified column,\n",
    "        and each value is a DataFrame containing all rows with that unique value.\n",
    "    \"\"\"\n",
    "    dfs = dict(tuple(df.groupby(col)))\n",
    "    return dfs\n",
    "\n"
   ]
  },
  {
   "cell_type": "markdown",
   "metadata": {},
   "source": [
    "#### Key"
   ]
  },
  {
   "cell_type": "code",
   "execution_count": 37,
   "metadata": {},
   "outputs": [],
   "source": [
    "\n",
    "\n",
    "\n",
    "def key(df, area_col='Area', year_col='Year', key_col='key'):\n",
    "    \"\"\"\n",
    "    Add a new column to a pandas DataFrame that concatenates the values in the 'area_col' and 'year_col' columns.\n",
    "\n",
    "    Parameters:\n",
    "    - df (pandas.DataFrame): The DataFrame to add the new column to.\n",
    "    - area_col (str): The name of the column that contains the area values.\n",
    "    - year_col (str): The name of the column that contains the year values.\n",
    "    - key_col (str): The name of the new column to create.\n",
    "\n",
    "    Returns:\n",
    "    - None\n",
    "    \"\"\"\n",
    "    df[key_col] = df[area_col] + df[year_col].astype(str)\n"
   ]
  },
  {
   "cell_type": "markdown",
   "metadata": {},
   "source": [
    "### Text Styles and counts\n",
    "\n"
   ]
  },
  {
   "cell_type": "markdown",
   "metadata": {},
   "source": [
    "#### Snake\n"
   ]
  },
  {
   "cell_type": "code",
   "execution_count": 38,
   "metadata": {},
   "outputs": [],
   "source": [
    "\n",
    "\n",
    "def snake(text):\n",
    "    \"\"\"\n",
    "    Converts a given string to snake_case by replacing any whitespace characters with underscores,\n",
    "    converting to all lowercase, and adding an underscore to the beginning if it doesn't already start with one.\n",
    "\n",
    "    Parameters:\n",
    "        text (str): The string to convert to snake_case.\n",
    "\n",
    "    Returns:\n",
    "        str: The resulting string in snake_case format.\n",
    "    \"\"\"\n",
    "    # Convert to string and strip leading/trailing whitespace\n",
    "    text = str(text).strip()\n",
    "    # Replace any whitespace characters with underscores\n",
    "    text = re.sub(r'\\s+', '_', text)\n",
    "    # Convert to all lowercase\n",
    "    text = text.lower()\n",
    "    # Add an underscore to the beginning if it doesn't already start with one\n",
    "    if not text.startswith('_'):\n",
    "        text = '_' + text\n",
    "    return text\n"
   ]
  },
  {
   "cell_type": "markdown",
   "metadata": {},
   "source": [
    "git config --global user.email \"ronandownes@gmail.com\"\n",
    "git config --global user.name \"Ronan Downes\""
   ]
  },
  {
   "cell_type": "markdown",
   "metadata": {},
   "source": [
    "####  Pascal\n",
    "The 'pascal' naming function takes in a string as input and converts it to a PascalCase format. PascalCase is a naming convention where the first letter of each word is capitalized, and there are no spaces or separators between the words."
   ]
  },
  {
   "cell_type": "code",
   "execution_count": 39,
   "metadata": {},
   "outputs": [],
   "source": [
    "def pascal(string):\n",
    "    \"\"\"\n",
    "    Convert a space- or snake-separated string to PascalCase.\n",
    "\n",
    "    Parameters:\n",
    "        string (str): The input string to convert to PascalCase.\n",
    "\n",
    "    Returns:\n",
    "        str: The input string in PascalCase format.\n",
    "\n",
    "    \"\"\"\n",
    "    # Replace any underscores with spaces\n",
    "    string = string.replace(\"_\", \" \")\n",
    "    # Capitalize the first letter of each word\n",
    "    words = string.title()\n",
    "    # Remove any remaining spaces\n",
    "    words = words.replace(\" \", \"\")\n",
    "    return words\n"
   ]
  },
  {
   "cell_type": "markdown",
   "metadata": {},
   "source": [
    "#### Camel\n",
    "\n",
    "Camel case is a naming convention in which each word in a compound word is capitalized, except for the first word which is in lower case. It is commonly used in programming languages for naming variables and functions.\n",
    "\n",
    "handles both snake_case and space-separated strings"
   ]
  },
  {
   "cell_type": "code",
   "execution_count": 40,
   "metadata": {},
   "outputs": [],
   "source": [
    "def camel(string):\n",
    "    \"\"\"\n",
    "    Convert a space-separated or snake_case string to camelCase.\n",
    "\n",
    "    Parameters:\n",
    "        string (str): The string to convert.\n",
    "\n",
    "    Returns:\n",
    "        str: The converted string in camelCase.\n",
    "    \"\"\"\n",
    "    # Replace underscores with spaces and split the string into a list of words\n",
    "    words = string.replace(\"_\", \" \").split()\n",
    "    # Convert the first word to lowercase and capitalize all subsequent words\n",
    "    camel_cased = [words[0].lower()] + [word.capitalize() for word in words[1:]]\n",
    "    # Concatenate the words together and return the resulting string\n",
    "    return \"    \" + ''.join(camel_cased) + \"    \"\n"
   ]
  },
  {
   "cell_type": "markdown",
   "metadata": {},
   "source": [
    "#### Title \n",
    "The 'title' naming convention is where each word starts with a capital letter, except for prepositions and conjunctions, which start with a lowercase letter. \n",
    "The function takes a string as input and converts it to title case, where the first letter of each non-conjunction/preposition word is capitalized, and all other letters are lowercase. It achieves this by splitting the input string into a list of words, identifying which words are prepositions or conjunctions based on a predefined list, and then capitalizing the first letter of all other words while converting prepositions and conjunctions to lowercase. The resulting list of processed words is then joined back into a single string with proper spacing and returned.\n"
   ]
  },
  {
   "cell_type": "code",
   "execution_count": 10,
   "metadata": {},
   "outputs": [],
   "source": [
    "def title(sentence):\n",
    "    \"\"\"\n",
    "    Takes a string and converts it to title case, where the first letter of each\n",
    "    non-conjunction/preposition word is capitalized, and all other letters are lowercase.\n",
    "    \n",
    "    Args:\n",
    "        sentence (str): The string to convert to title case.\n",
    "        \n",
    "    Returns:\n",
    "        str: The input string converted to title case.\n",
    "    \"\"\"\n",
    "    # Define a list of common prepositions and conjunctions\n",
    "    prepositions_conjunctions = ['a', 'this', 'an', 'the', 'and', 'but', 'or', 'for', 'has', 'nor', 'on', 'at', 'to', 'from', 'by', 'over', 'under', 'in', 'out', 'of']\n",
    "    # Split the input string into a list of words\n",
    "    words = sentence.split()\n",
    "    processed_words = []\n",
    "    for word in words:\n",
    "        # If the word is not a preposition or conjunction, capitalize the first letter and lowercase the rest\n",
    "        if word.lower() not in prepositions_conjunctions:\n",
    "            processed_words.append(word.capitalize())\n",
    "        # If the word is a preposition or conjunction, convert to lowercase\n",
    "        else:\n",
    "            processed_words.append(word.lower())\n",
    "    # Join the list of processed words into a single string, with proper spacing\n",
    "    output = \" \".join(processed_words)\n",
    "    # Remove any leading/trailing whitespace and add some padding\n",
    "    return \"     \" + re.sub('\\s+', ' ', output.strip()) + \"     \"\n",
    "\n"
   ]
  },
  {
   "cell_type": "markdown",
   "metadata": {},
   "source": [
    "#### Word count"
   ]
  },
  {
   "cell_type": "code",
   "execution_count": 11,
   "metadata": {},
   "outputs": [],
   "source": [
    "def word_count(text):\n",
    "    \"\"\"\n",
    "    Counts the number of words in a given text.\n",
    "    \n",
    "    Parameters:\n",
    "        text (str): The text to be counted.\n",
    "        \n",
    "    Returns:\n",
    "        int: The number of words in the text.\n",
    "    \"\"\"\n",
    "    words = text.split()\n",
    "    return len(words)"
   ]
  },
  {
   "cell_type": "markdown",
   "metadata": {},
   "source": [
    "#### Total Character"
   ]
  },
  {
   "cell_type": "code",
   "execution_count": 12,
   "metadata": {},
   "outputs": [],
   "source": [
    "def char_count(string):\n",
    "    \"\"\"\n",
    "    Count the number of characters in a string.\n",
    "\n",
    "    Parameters:\n",
    "    - string (str): The string to count characters in.\n",
    "\n",
    "    Returns:\n",
    "    - int: The number of characters in the string.\n",
    "    \"\"\"\n",
    "    return len(string)\n"
   ]
  },
  {
   "cell_type": "markdown",
   "metadata": {},
   "source": [
    "\n",
    "### Scanners,  Readers and Writers\n",
    "#### Scanners\n",
    "\n",
    "\n",
    "\n"
   ]
  },
  {
   "cell_type": "code",
   "execution_count": 13,
   "metadata": {},
   "outputs": [],
   "source": [
    "\n",
    "def scan(folder_name):\n",
    "    \"\"\"Scans the specified folder and prints information about its contents.\n",
    "\n",
    "    Parameters:\n",
    "        folder_name (str): The name of the folder to scan.\n",
    "\n",
    "    Returns:\n",
    "        None.\n",
    "    \"\"\"\n",
    "    current_dir = os.getcwd()\n",
    "    folder_path = os.path.join(current_dir, folder_name)\n",
    "    try:\n",
    "        contents = os.listdir(folder_path)\n",
    "    except FileNotFoundError:\n",
    "        print(\"Directory not found\")\n",
    "        return\n",
    "    except OSError:\n",
    "        print(\"Invalid folder path\")\n",
    "        return\n",
    "    print(\"Contents of the folder '{}':\".format(folder_path))\n",
    "    for item in contents:\n",
    "        item_path = os.path.join(folder_path, item)\n",
    "        if os.path.isfile(item_path):\n",
    "            size = os.path.getsize(item_path)\n",
    "            modified_time = datetime.datetime.fromtimestamp(os.path.getmtime(item_path)).strftime('%Y-%m-%d %H:%M')\n",
    "            print(\"{:30} {:10} {}\".format(item, size, modified_time))\n",
    "        else:\n",
    "            print(\"{} (directory)\".format(item))\n",
    "# scan('../../images')    "
   ]
  },
  {
   "cell_type": "code",
   "execution_count": 14,
   "metadata": {},
   "outputs": [],
   "source": [
    "def scann():\n",
    "    \"\"\"Scans the raw data folder and prints contents information.\n",
    "\n",
    "    Parameters:\n",
    "        None\n",
    "\n",
    "    Returns:\n",
    "        Prints out contents information of the raw data folder.\n",
    "    \"\"\"\n",
    "    folder_path = \"../notebooks\"\n",
    "    try:\n",
    "        contents = os.listdir(folder_path)\n",
    "    except FileNotFoundError:\n",
    "        print(\"Directory not found\")\n",
    "        return\n",
    "    except OSError:\n",
    "        print(\"Invalid folder path\")\n",
    "        return\n",
    "    print(\"Contents of the folder '{}':\".format(folder_path))\n",
    "    for item in contents:\n",
    "        item_path = os.path.join(folder_path, item)\n",
    "        if os.path.isfile(item_path):\n",
    "            size = os.path.getsize(item_path)\n",
    "            modified_time = datetime.datetime.fromtimestamp(os.path.getmtime(item_path)).strftime('%Y-%m-%d %H:%M')\n",
    "            print(\"{:30} {:10} {}\".format(item, size, modified_time))\n",
    "        else:\n",
    "            print(\"{} (directory)\".format(item))\n",
    "# scann()"
   ]
  },
  {
   "cell_type": "code",
   "execution_count": 15,
   "metadata": {},
   "outputs": [],
   "source": [
    "def scanr():\n",
    "    \"\"\"Scans the raw data folder and prints contents information.\n",
    "\n",
    "    Parameters:\n",
    "        None\n",
    "\n",
    "    Returns:\n",
    "        Prints out contents information of the raw data folder.\n",
    "    \"\"\" \n",
    "    folder_name = '../data/raw'\n",
    "    current_dir = os.getcwd()\n",
    "    folder_path = os.path.join(current_dir, folder_name)\n",
    "    try:\n",
    "        contents = os.listdir(folder_path)\n",
    "    except FileNotFoundError:\n",
    "        print(\"Directory not found\")\n",
    "        return\n",
    "    except OSError:\n",
    "        print(\"Invalid folder path\")\n",
    "        return\n",
    "    print(\"Contents of the folder '{}':\".format(folder_name))\n",
    "    for item in contents:\n",
    "        item_path = os.path.join(folder_path, item)\n",
    "        if os.path.isfile(item_path):\n",
    "            size = os.path.getsize(item_path)\n",
    "            modified_time = datetime.datetime.fromtimestamp(os.path.getmtime(item_path)).strftime('%Y-%m-%d %H:%M')\n",
    "            print(\"{:30} {:10} {}\".format(item, size, modified_time))\n",
    "        else:\n",
    "            print(\"{} (directory)\".format(item))\n",
    "# scanr()"
   ]
  },
  {
   "cell_type": "code",
   "execution_count": 16,
   "metadata": {},
   "outputs": [],
   "source": [
    "def scanp():\n",
    "    \"\"\"Scans the raw data folder and prints contents information.\n",
    "\n",
    "    Parameters:\n",
    "        None\n",
    "\n",
    "    Returns:\n",
    "        Prints out contents information of the raw data folder.\n",
    "    \"\"\" \n",
    "    folder_name = '../data/processed'\n",
    "    current_dir = os.getcwd()\n",
    "    folder_path = os.path.join(current_dir, folder_name)\n",
    "    try:\n",
    "        contents = os.listdir(folder_path)\n",
    "    except FileNotFoundError:\n",
    "        print(\"Directory not found\")\n",
    "        return\n",
    "    except OSError:\n",
    "        print(\"Invalid folder path\")\n",
    "        return\n",
    "    print(\"Contents of the folder '{}':\".format(folder_name))\n",
    "    for item in contents:\n",
    "        item_path = os.path.join(folder_path, item)\n",
    "        if os.path.isfile(item_path):\n",
    "            size = os.path.getsize(item_path)\n",
    "            modified_time = datetime.datetime.fromtimestamp(os.path.getmtime(item_path)).strftime('%Y-%m-%d %H:%M')\n",
    "            print(\"{:30} {:10} {}\".format(item, size, modified_time))\n",
    "        else:\n",
    "            print(\"{} (directory)\".format(item))\n",
    "# scanr()"
   ]
  },
  {
   "cell_type": "markdown",
   "metadata": {},
   "source": [
    "#### Readers\n",
    "\n",
    "'read_csv' is a function in the Pandas library for reading in CSV (Comma Separated Values) files into a DataFrame. It is a flexible function that can handle a variety of input formats, including different delimiters, encodings, and line endings."
   ]
  },
  {
   "cell_type": "code",
   "execution_count": 17,
   "metadata": {},
   "outputs": [],
   "source": [
    "def read(filename, df_name, folder_path):\n",
    "    \"\"\"\n",
    "    Reads a CSV file from the specified folder and returns a pandas DataFrame\n",
    "    with the specified name.\n",
    "\n",
    "    Parameters:\n",
    "        filename (str): The name of the CSV file to be read.\n",
    "        df_name (str): The name to be assigned to the resulting DataFrame.\n",
    "        folder_path (str): The path of the folder containing the CSV file.\n",
    "\n",
    "    Returns:\n",
    "        pandas.DataFrame: A DataFrame created from the data in the CSV file with\n",
    "        the specified name.\n",
    "    \"\"\"\n",
    "    file_path = os.path.join(folder_path, f'{filename}.csv')\n",
    "    df = pd.read_csv(file_path)\n",
    "    df.name = df_name\n",
    "    return df\n"
   ]
  },
  {
   "cell_type": "code",
   "execution_count": 18,
   "metadata": {},
   "outputs": [],
   "source": [
    "def readr(filename, df_name):\n",
    "    \"\"\"\n",
    "    Reads a CSV file from  the raw data folder and returns a pandas DataFrame.\n",
    "    \n",
    "    Parameters:\n",
    "        filename (str): base name of CSV file to be read.\n",
    "        df_name (str): The DataFrame name to be assigned \n",
    "        \n",
    "    Returns:\n",
    "        pandas.DataFrame: A DataFrame created from the data in the CSV file with\n",
    "        the specified name.\n",
    "    \"\"\"\n",
    "    file_path = '../data/raw/' + filename + '.csv'\n",
    "    df = pd.read_csv(file_path)\n",
    "    df.name = df_name\n",
    "    return df\n",
    "# readr('land_use','land_use_df')"
   ]
  },
  {
   "cell_type": "code",
   "execution_count": 19,
   "metadata": {},
   "outputs": [],
   "source": [
    "def readp(filename, df_name):\n",
    "    \"\"\"\n",
    "    Reads a CSV file from the specified file path in the processed folder and returns a pandas DataFrame\n",
    "    with the specified name.\n",
    "    \n",
    "    Parameters:\n",
    "        filename (str): The name of the CSV file to be read.\n",
    "        df_name (str): The name to be assigned to the resulting DataFrame.\n",
    "        \n",
    "    Returns:\n",
    "        pandas.DataFrame: A DataFrame created from the data in the CSV file with\n",
    "        the specified name.\n",
    "    \"\"\"\n",
    "    file_path = f'../data/processed/{filename}.csv'\n",
    "    df = pd.read_csv(file_path)\n",
    "    df.name = df_name\n",
    "    return df\n",
    "# df=readp('missing','missing_df')\n",
    "# df"
   ]
  },
  {
   "cell_type": "markdown",
   "metadata": {},
   "source": [
    "#### Splitters"
   ]
  },
  {
   "cell_type": "code",
   "execution_count": 3,
   "metadata": {},
   "outputs": [
    {
     "ename": "NameError",
     "evalue": "name 'Tuple' is not defined",
     "output_type": "error",
     "traceback": [
      "\u001b[1;31m---------------------------------------------------------------------------\u001b[0m",
      "\u001b[1;31mNameError\u001b[0m                                 Traceback (most recent call last)",
      "\u001b[1;32m~\\AppData\\Local\\Temp\\ipykernel_10852\\3053015011.py\u001b[0m in \u001b[0;36m<module>\u001b[1;34m\u001b[0m\n\u001b[1;32m----> 1\u001b[1;33m \u001b[1;32mdef\u001b[0m \u001b[0msplit_by_elementr\u001b[0m\u001b[1;33m(\u001b[0m\u001b[0mfile_name\u001b[0m\u001b[1;33m:\u001b[0m \u001b[0mstr\u001b[0m\u001b[1;33m)\u001b[0m \u001b[1;33m->\u001b[0m \u001b[0mTuple\u001b[0m\u001b[1;33m[\u001b[0m\u001b[0mDict\u001b[0m\u001b[1;33m[\u001b[0m\u001b[0mstr\u001b[0m\u001b[1;33m,\u001b[0m \u001b[0mpd\u001b[0m\u001b[1;33m.\u001b[0m\u001b[0mDataFrame\u001b[0m\u001b[1;33m]\u001b[0m\u001b[1;33m,\u001b[0m \u001b[0mList\u001b[0m\u001b[1;33m[\u001b[0m\u001b[0mstr\u001b[0m\u001b[1;33m]\u001b[0m\u001b[1;33m]\u001b[0m\u001b[1;33m:\u001b[0m\u001b[1;33m\u001b[0m\u001b[1;33m\u001b[0m\u001b[0m\n\u001b[0m\u001b[0;32m      2\u001b[0m     \"\"\"\n\u001b[0;32m      3\u001b[0m     \u001b[0mSplits\u001b[0m \u001b[0ma\u001b[0m \u001b[0mCSV\u001b[0m \u001b[0mfile\u001b[0m \u001b[0minto\u001b[0m \u001b[0mmultiple\u001b[0m \u001b[0mdataframes\u001b[0m \u001b[0mbased\u001b[0m \u001b[0mon\u001b[0m \u001b[0mthe\u001b[0m \u001b[0munique\u001b[0m \u001b[0mvalues\u001b[0m \u001b[1;32min\u001b[0m \u001b[0mthe\u001b[0m \u001b[1;34m'Element'\u001b[0m \u001b[0mcolumn\u001b[0m\u001b[1;33m.\u001b[0m\u001b[1;33m\u001b[0m\u001b[1;33m\u001b[0m\u001b[0m\n\u001b[0;32m      4\u001b[0m \u001b[1;33m\u001b[0m\u001b[0m\n\u001b[0;32m      5\u001b[0m     \u001b[0mParameters\u001b[0m\u001b[1;33m:\u001b[0m\u001b[1;33m\u001b[0m\u001b[1;33m\u001b[0m\u001b[0m\n",
      "\u001b[1;31mNameError\u001b[0m: name 'Tuple' is not defined"
     ]
    }
   ],
   "source": [
    "def split_by_elementr(file_name: str) -> Tuple[Dict[str, pd.DataFrame], List[str]]:\n",
    "    \"\"\"\n",
    "    Splits a CSV file into multiple dataframes based on the unique values in the 'Element' column.\n",
    "    \n",
    "    Parameters:\n",
    "        file_name (str): The name of the CSV file to read in.\n",
    "        \n",
    "    Returns:\n",
    "        Tuple[Dict[str, pd.DataFrame], List[str]]: A tuple containing a dictionary where each key corresponds\n",
    "        to a unique value in the 'Element' column, and each value is a dataframe containing all rows with that\n",
    "        unique value, and a list of unique values in the 'Element' column.\n",
    "    \"\"\"\n",
    "    if not file_name.endswith('.csv'):\n",
    "        raise ValueError('Input file must be a .csv file')\n",
    "    \n",
    "    # Load the specified dataframe\n",
    "    df = pd.read_csv(f'../data/raw/{file_name}')\n",
    "    \n",
    "    # Group the dataframe by the 'Element' column\n",
    "    dfs = dict(tuple(df.groupby('Element')))\n",
    "    \n",
    "    # Get the unique values in the 'Element' column\n",
    "    elements = list(df['Element'].unique())\n",
    "    \n",
    "    return dfs, elements\n"
   ]
  },
  {
   "cell_type": "code",
   "execution_count": 21,
   "metadata": {},
   "outputs": [],
   "source": [
    "def split_by_elementr(file_name: str) -> Tuple[Dict[str, pd.DataFrame], List[str]]:\n",
    "    \"\"\"\n",
    "    Splits a CSV file into multiple dataframes based on the unique values in the 'Element' column.\n",
    "    \n",
    "    Parameters:\n",
    "        file_name (str): The name of the CSV file to read in.\n",
    "        \n",
    "    Returns:\n",
    "        Tuple[Dict[str, pd.DataFrame], List[str]]: A tuple containing a dictionary where each key corresponds\n",
    "        to a unique value in the 'Element' column, and each value is a dataframe containing all rows with that\n",
    "        unique value, and a list of unique values in the 'Element' column.\n",
    "    \"\"\"\n",
    "    # Load the specified dataframe\n",
    "    df = pd.read_csv(f'../data/raw/{file_name}')\n",
    "    \n",
    "    # Group the dataframe by the 'Element' column\n",
    "    dfs = dict(tuple(df.groupby('Element')))\n",
    "    \n",
    "    # Get the unique values in the 'Element' column\n",
    "    elements = list(df['Element'].unique())\n",
    "    \n",
    "    return dfs, elements\n",
    "\n"
   ]
  },
  {
   "cell_type": "code",
   "execution_count": 22,
   "metadata": {},
   "outputs": [],
   "source": [
    "def split_df_by_element(df: pd.DataFrame) -> Tuple[Dict[str, pd.DataFrame], List[str]]:\n",
    "    \"\"\"\n",
    "    Splits a DataFrame into multiple dataframes based on the unique values in the 'Element' column.\n",
    "\n",
    "    Parameters:\n",
    "        df (pd.DataFrame): The DataFrame to split.\n",
    "    \n",
    "    Returns:\n",
    "        Tuple[Dict[str, pd.DataFrame], List[str]]: A tuple containing a dictionary where each key corresponds\n",
    "        to a unique value in the 'Element' column, and each value is a dataframe containing all rows with that\n",
    "        unique value, and a list of unique values in the 'Element' column.\n",
    "    \"\"\"\n",
    "    # Group the dataframe by the 'Element' column\n",
    "    dfs = dict(tuple(df.groupby('Element')))\n",
    "    \n",
    "    # Get the unique values in the 'Element' column\n",
    "    elements = list(df['Element'].unique())\n",
    "    \n",
    "    return dfs, elements\n"
   ]
  },
  {
   "cell_type": "code",
   "execution_count": 23,
   "metadata": {},
   "outputs": [],
   "source": [
    "def groupdf(df, column_name):\n",
    "    # Group the dataframe by the specified column\n",
    "    dfs = dict(tuple(df.groupby(column_name)))\n",
    "    return dfs"
   ]
  },
  {
   "cell_type": "markdown",
   "metadata": {},
   "source": [
    "####  Delete\n",
    "\n",
    "In this code, we use the os module to delete a file at the specified file path. We first check if the file exists using the os.path.exists() function. If the file exists, we delete it using the os.remove() function. If the file does not exist, we print a message indicating that the file was not found.\n",
    "\n",
    "Note that this code permanently deletes the file, so you should use it with caution. Once a file is deleted, it cannot be easily recovered."
   ]
  },
  {
   "cell_type": "code",
   "execution_count": 24,
   "metadata": {},
   "outputs": [],
   "source": [
    "\n",
    "def delete(file_name):\n",
    "    file_path = os.path.join(\"..\", \"data\", file_name)\n",
    "    if os.path.exists(file_path):\n",
    "        os.remove(file_path)\n",
    "        print(f\"{file_name} deleted successfully\")\n",
    "    else:\n",
    "        print(f\"{file_name} not found\")\n"
   ]
  },
  {
   "cell_type": "markdown",
   "metadata": {},
   "source": [
    "#### Rename\n",
    "\n",
    "This function takes two arguments: old_filename specifies the current name or path of the file to rename, and new_filename specifies the new name or path to give the file.\n",
    "\n",
    "The os.rename() function is used to rename the file. If the file is successfully renamed, the function prints a success message. If an error occurs, such as the file not being found, a file with the new name already existing, or an invalid file path or name, the function prints an appropriate error message.\n",
    "\n",
    "To use this function, simply call it with the old and new filenames as arguments, like this:"
   ]
  },
  {
   "cell_type": "code",
   "execution_count": 25,
   "metadata": {},
   "outputs": [],
   "source": [
    "\n",
    "def rename(old_filename, new_filename):\n",
    "    old_file_path = os.path.join(\"..\", \"data\", old_filename)\n",
    "    new_file_path = os.path.join(\"..\", \"data\", new_filename)\n",
    "    try:\n",
    "        os.rename(old_file_path, new_file_path)\n",
    "        print(f\"{old_filename} renamed to {new_filename} successfully\")\n",
    "    except FileNotFoundError:\n",
    "        print(f\"{old_filename} not found\")\n",
    "    except FileExistsError:\n",
    "        print(f\"A file with the name {new_filename} already exists\")\n",
    "    except OSError:\n",
    "        print(\"Invalid file path or name\")\n"
   ]
  },
  {
   "cell_type": "markdown",
   "metadata": {},
   "source": [
    "#### Replace"
   ]
  },
  {
   "cell_type": "code",
   "execution_count": 26,
   "metadata": {},
   "outputs": [],
   "source": [
    "def replace(input_str, find_str, replace_str):\n",
    "    output_str = re.sub(find_str, replace_str, input_str)\n",
    "    \n",
    "    if output_str == input_str:\n",
    "        warnings.warn(\"Replacement unsuccessful: '{}' not found in input string.\".format(find_str))\n",
    "    \n",
    "    return output_str"
   ]
  },
  {
   "cell_type": "markdown",
   "metadata": {},
   "source": [
    "### Filters\n",
    "Geographical and temporal filters are useful in exploratory data analysis (EDA) because they help to identify patterns and trends in data that may be difficult to discern otherwise. By limiting the data to a specific geographic or time period, it becomes easier to identify trends and patterns that might be obscured by noise in the larger dataset.\n",
    "\n",
    "####  EU 27"
   ]
  },
  {
   "cell_type": "code",
   "execution_count": 27,
   "metadata": {},
   "outputs": [],
   "source": [
    "def eu(df):\n",
    "    \"\"\"\n",
    "    Filter a pandas DataFrame to include only the rows where the 'Area' column contains values that match the countries in the European Union.\n",
    "\n",
    "    Parameters:\n",
    "    - df (pandas.DataFrame): The DataFrame to filter.\n",
    "\n",
    "    Returns:\n",
    "    - pandas.DataFrame: The filtered DataFrame.\n",
    "    \"\"\"\n",
    "    country_list = ['Austria', 'Belgium', 'Bulgaria', 'Croatia', 'Cyprus', 'Czechia', 'Denmark', \n",
    "                    'Estonia', 'Finland', 'France', 'Germany', 'Greece', 'Hungary', 'Ireland', 'Italy', \n",
    "                    'Latvia', 'Lithuania', 'Luxembourg', 'Malta', 'Netherlands', 'Poland', 'Portugal', 'Romania', \n",
    "                    'Slovakia', 'Slovenia', 'Spain', 'Sweden']\n",
    "    return df[df['Area'].isin(country_list)]\n",
    "\n",
    "# df=readr('meat','df')\n",
    "# df=eu(df)\n",
    "# df\n"
   ]
  },
  {
   "cell_type": "markdown",
   "metadata": {},
   "source": [
    "####  Now or Never!\n",
    "df=readr('meat','df')\n",
    "df = now(df, 2015)\n",
    "df.head()"
   ]
  },
  {
   "cell_type": "code",
   "execution_count": 28,
   "metadata": {},
   "outputs": [],
   "source": [
    "def now(df, year_min):\n",
    "    \"\"\"\n",
    "    Filter to 'Year'>.\n",
    "    Parameters:\n",
    "    - df (pandas.DataFrame): The DataFrame to filter.\n",
    "    - year_min (int): The minimum year to include in the filtered DataFrame.\n",
    "    Returns:\n",
    "    - pandas.DataFrame: The filtered DataFrame.\n",
    "    \"\"\"\n",
    "    return df[df['Year'] >= year_min]\n",
    "\n",
    "# df=readr('meat','df')\n",
    "# df = now(df, 2015)\n",
    "# df.head()"
   ]
  },
  {
   "cell_type": "code",
   "execution_count": 30,
   "metadata": {},
   "outputs": [],
   "source": [
    "def now2(df):\n",
    "    \"\"\"\n",
    "    Filter to 'Year' >= 2000.\n",
    "\n",
    "    Parameters:\n",
    "    - df (pandas.DataFrame): The DataFrame to filter.\n",
    "\n",
    "    Returns:\n",
    "    - pandas.DataFrame: The filtered DataFrame.\n",
    "    \"\"\"\n",
    "    year_min = 2000\n",
    "    return df[df['Year'] >= year_min]"
   ]
  },
  {
   "cell_type": "code",
   "execution_count": 31,
   "metadata": {
    "scrolled": true
   },
   "outputs": [
    {
     "data": {
      "text/html": [
       "<div>\n",
       "<style scoped>\n",
       "    .dataframe tbody tr th:only-of-type {\n",
       "        vertical-align: middle;\n",
       "    }\n",
       "\n",
       "    .dataframe tbody tr th {\n",
       "        vertical-align: top;\n",
       "    }\n",
       "\n",
       "    .dataframe thead th {\n",
       "        text-align: right;\n",
       "    }\n",
       "</style>\n",
       "<table border=\"1\" class=\"dataframe\">\n",
       "  <thead>\n",
       "    <tr style=\"text-align: right;\">\n",
       "      <th></th>\n",
       "      <th>Domain Code</th>\n",
       "      <th>Domain</th>\n",
       "      <th>Area Code (M49)</th>\n",
       "      <th>Area</th>\n",
       "      <th>Element Code</th>\n",
       "      <th>Element</th>\n",
       "      <th>Item Code (CPC)</th>\n",
       "      <th>Item</th>\n",
       "      <th>Year Code</th>\n",
       "      <th>Year</th>\n",
       "      <th>Unit</th>\n",
       "      <th>Value</th>\n",
       "      <th>Flag</th>\n",
       "      <th>Flag Description</th>\n",
       "    </tr>\n",
       "  </thead>\n",
       "  <tbody>\n",
       "    <tr>\n",
       "      <th>1503</th>\n",
       "      <td>QCL</td>\n",
       "      <td>Crops and livestock products</td>\n",
       "      <td>40</td>\n",
       "      <td>Austria</td>\n",
       "      <td>5417</td>\n",
       "      <td>Yield/Carcass Weight</td>\n",
       "      <td>21111.01</td>\n",
       "      <td>Meat of cattle with the bone, fresh or chilled</td>\n",
       "      <td>2000</td>\n",
       "      <td>2000</td>\n",
       "      <td>hg/An</td>\n",
       "      <td>3031.0</td>\n",
       "      <td>A</td>\n",
       "      <td>Official figure</td>\n",
       "    </tr>\n",
       "    <tr>\n",
       "      <th>1504</th>\n",
       "      <td>QCL</td>\n",
       "      <td>Crops and livestock products</td>\n",
       "      <td>40</td>\n",
       "      <td>Austria</td>\n",
       "      <td>5417</td>\n",
       "      <td>Yield/Carcass Weight</td>\n",
       "      <td>21111.01</td>\n",
       "      <td>Meat of cattle with the bone, fresh or chilled</td>\n",
       "      <td>2001</td>\n",
       "      <td>2001</td>\n",
       "      <td>hg/An</td>\n",
       "      <td>2993.0</td>\n",
       "      <td>A</td>\n",
       "      <td>Official figure</td>\n",
       "    </tr>\n",
       "    <tr>\n",
       "      <th>1505</th>\n",
       "      <td>QCL</td>\n",
       "      <td>Crops and livestock products</td>\n",
       "      <td>40</td>\n",
       "      <td>Austria</td>\n",
       "      <td>5417</td>\n",
       "      <td>Yield/Carcass Weight</td>\n",
       "      <td>21111.01</td>\n",
       "      <td>Meat of cattle with the bone, fresh or chilled</td>\n",
       "      <td>2002</td>\n",
       "      <td>2002</td>\n",
       "      <td>hg/An</td>\n",
       "      <td>2995.0</td>\n",
       "      <td>A</td>\n",
       "      <td>Official figure</td>\n",
       "    </tr>\n",
       "    <tr>\n",
       "      <th>1506</th>\n",
       "      <td>QCL</td>\n",
       "      <td>Crops and livestock products</td>\n",
       "      <td>40</td>\n",
       "      <td>Austria</td>\n",
       "      <td>5417</td>\n",
       "      <td>Yield/Carcass Weight</td>\n",
       "      <td>21111.01</td>\n",
       "      <td>Meat of cattle with the bone, fresh or chilled</td>\n",
       "      <td>2003</td>\n",
       "      <td>2003</td>\n",
       "      <td>hg/An</td>\n",
       "      <td>3033.0</td>\n",
       "      <td>A</td>\n",
       "      <td>Official figure</td>\n",
       "    </tr>\n",
       "    <tr>\n",
       "      <th>1507</th>\n",
       "      <td>QCL</td>\n",
       "      <td>Crops and livestock products</td>\n",
       "      <td>40</td>\n",
       "      <td>Austria</td>\n",
       "      <td>5417</td>\n",
       "      <td>Yield/Carcass Weight</td>\n",
       "      <td>21111.01</td>\n",
       "      <td>Meat of cattle with the bone, fresh or chilled</td>\n",
       "      <td>2004</td>\n",
       "      <td>2004</td>\n",
       "      <td>hg/An</td>\n",
       "      <td>3058.0</td>\n",
       "      <td>A</td>\n",
       "      <td>Official figure</td>\n",
       "    </tr>\n",
       "  </tbody>\n",
       "</table>\n",
       "</div>"
      ],
      "text/plain": [
       "     Domain Code                        Domain  Area Code (M49)     Area  \\\n",
       "1503         QCL  Crops and livestock products               40  Austria   \n",
       "1504         QCL  Crops and livestock products               40  Austria   \n",
       "1505         QCL  Crops and livestock products               40  Austria   \n",
       "1506         QCL  Crops and livestock products               40  Austria   \n",
       "1507         QCL  Crops and livestock products               40  Austria   \n",
       "\n",
       "      Element Code               Element  Item Code (CPC)  \\\n",
       "1503          5417  Yield/Carcass Weight         21111.01   \n",
       "1504          5417  Yield/Carcass Weight         21111.01   \n",
       "1505          5417  Yield/Carcass Weight         21111.01   \n",
       "1506          5417  Yield/Carcass Weight         21111.01   \n",
       "1507          5417  Yield/Carcass Weight         21111.01   \n",
       "\n",
       "                                                Item  Year Code  Year   Unit  \\\n",
       "1503  Meat of cattle with the bone, fresh or chilled       2000  2000  hg/An   \n",
       "1504  Meat of cattle with the bone, fresh or chilled       2001  2001  hg/An   \n",
       "1505  Meat of cattle with the bone, fresh or chilled       2002  2002  hg/An   \n",
       "1506  Meat of cattle with the bone, fresh or chilled       2003  2003  hg/An   \n",
       "1507  Meat of cattle with the bone, fresh or chilled       2004  2004  hg/An   \n",
       "\n",
       "       Value Flag Flag Description  \n",
       "1503  3031.0    A  Official figure  \n",
       "1504  2993.0    A  Official figure  \n",
       "1505  2995.0    A  Official figure  \n",
       "1506  3033.0    A  Official figure  \n",
       "1507  3058.0    A  Official figure  "
      ]
     },
     "execution_count": 31,
     "metadata": {},
     "output_type": "execute_result"
    }
   ],
   "source": [
    "df = pd.read_csv('../data/raw/meat.csv')\n",
    "\n",
    "# Apply the 'eu' function to filter down to only European Union countries\n",
    "df= eu(df)\n",
    "\n",
    "# Apply the 'now2' function to filter down further to only years greater than or equal to 2000\n",
    "df= now2(df)\n",
    "\n",
    "# Print the first 5 rows of the filtered DataFrame\n",
    "df.head()"
   ]
  },
  {
   "cell_type": "markdown",
   "metadata": {},
   "source": [
    "####  Markdown Table of Folder "
   ]
  },
  {
   "cell_type": "code",
   "execution_count": 61,
   "metadata": {},
   "outputs": [],
   "source": [
    "def file_info_table(folder_path):\n",
    "    \"\"\"\n",
    "    Generate an HTML table with information on files in a given folder.\n",
    "\n",
    "    Parameters:\n",
    "    - folder_path (str): The path to the folder containing the files.\n",
    "\n",
    "    Returns:\n",
    "    - str: The HTML code for the table.\n",
    "    \"\"\"\n",
    "    # Get the contents of the folder\n",
    "    try:\n",
    "        contents = os.listdir(folder_path)\n",
    "    except FileNotFoundError:\n",
    "        return \"Directory not found\"\n",
    "    except OSError:\n",
    "        return \"Invalid folder path\"\n",
    "\n",
    "    # Create the table header\n",
    "    table = '<table style=\"font-size:100%\"><thead><tr><th>File Name</th><th>Size</th><th>Modified Time</th></tr></thead><tbody>'\n",
    "\n",
    "    # Add a row for each file\n",
    "    for item in contents:\n",
    "        item_path = os.path.join(folder_path, item)\n",
    "        if os.path.isfile(item_path):\n",
    "            # Get the file size and modified time\n",
    "            size = os.path.getsize(item_path)\n",
    "            modified_time = datetime.datetime.fromtimestamp(os.path.getmtime(item_path)).strftime('%Y-%m-%d %H:%M')\n",
    "            # Add a row to the table\n",
    "            table += '<tr><td>{}</td><td>{}</td><td>{}</td></tr>'.format(item, size, modified_time)\n",
    "\n",
    "    # Close the table\n",
    "    table += '</tbody></table>'\n",
    "\n",
    "    return table\n",
    "\n",
    "# folder_path = \"../data/raw\"\n",
    "# table = file_info_table(folder_path)\n",
    "# print(table)"
   ]
  },
  {
   "cell_type": "markdown",
   "metadata": {},
   "source": [
    "## Exploratory Data Analysis (EDA) "
   ]
  },
  {
   "cell_type": "markdown",
   "metadata": {},
   "source": [
    "###  FAOSTAT Data Domains \n",
    "\n",
    "\n",
    "\n",
    "\n",
    "<img src=\"../images/we16.png\" alt=\"image7\" width=\"80%\">\n",
    "\n",
    "[<span style=\"font-size: 18px;\">Figure 2:Data Domain Table view of FAOSTAT which basically opens out all the drop down options </span>\n",
    "](https://www.fao.org/faostat/en/#data/domains_table)\n",
    "\n",
    "\n",
    "\n",
    "\n",
    "The [FAOSTAT Data Domains](https://www.fao.org/faostat/en/#data/domains_table)  are organised as follows:\n",
    "\n",
    "  -  Production: Production of crops and livestock products, including production indices and the value of agricultural production.\n",
    "\n",
    "  - Food Security and Nutrition: Information on SDG indicators related to food security and nutrition and food balances.\n",
    "\n",
    "  - Trade: Including detailed trade matrices, trade indices, and updates on related data.\n",
    "\n",
    "  - Prices: Producer and   consumer price indices, deflators, and exchange rates.\n",
    "\n",
    "  - Land, Inputs and Sustainability:Land use, land cover, inputs, including fertilizers and manure and pesticides.\n",
    "  \n",
    "  - Population and Employment: Annual population including those specific to agriculture and rural areas.\n",
    "\n",
    "  - Investment: Government expenditure, credit to agriculture, foreign direct investment, and country investment statistics.\n",
    "\n",
    "  - Macro-Economic Indicators: Such as capital stock.\n",
    "\n",
    "  - Food Value Chain: This domain provides information on the value shares of the food industry and primary factors.\n",
    "\n",
    "  - Climate Change: Emissions, crop residues, forests, and other indicators related to climate change.\n",
    "\n",
    "  - Forestry: Forestry production and trade, as well as forestry trade flows.\n",
    "\n",
    "  - SDG Indicators: The Sustainable Development Goals (SDGs) are a set of 17 goals established by the United Nations in 2015.\n",
    "\n",
    "  - World Census of Agriculture: This domain provides structural data from agricultural censuses taken around the world\n",
    "\n",
    "  - Discontinued archives and data series: This includes data on indicators from surveys and research.\n",
    "\n",
    "\n",
    "\n",
    "\n",
    "\n",
    "### Table 2: List of Raw CSV Files from FAOSTAT\n",
    "\n",
    "\n",
    "\n",
    "<table style=\"font-size:100%\"><thead><tr><th>File Name</th><th>Size</th><th>Modified Time</th></tr></thead><tbody><tr><td>consumer_price_indices.csv</td><td>7167669</td><td>2023-02-16 22:16</td></tr><tr><td>country_area.csv</td><td>1653232</td><td>2023-02-15 19:40</td></tr><tr><td>input_fertilizers_by_nutrient.csv</td><td>7073332</td><td>2023-02-16 22:16</td></tr><tr><td>investment_credit_to_agriculture.csv</td><td>2952305</td><td>2023-02-15 20:40</td></tr><tr><td>investment_government_expenditure.csv</td><td>827587</td><td>2023-02-15 20:49</td></tr><tr><td>land_cover.csv</td><td>2721521</td><td>2023-02-15 20:18</td></tr><tr><td>land_input_livestock_manure.csv</td><td>1019522</td><td>2023-02-16 22:16</td></tr><tr><td>land_use.csv</td><td>7647950</td><td>2023-02-16 22:16</td></tr><tr><td>meat.csv</td><td>7500469</td><td>2023-02-17 00:39</td></tr><tr><td>population.csv</td><td>17089991</td><td>2023-02-16 22:16</td></tr><tr><td>prices_for_producers.csv</td><td>1945297</td><td>2023-02-15 18:29</td></tr><tr><td>price_deflators.csv</td><td>767758</td><td>2023-02-16 22:16</td></tr><tr><td>price_exchange_rates.csv</td><td>4531028</td><td>2023-02-16 22:16</td></tr><tr><td>producer_avocadoos_prices.csv</td><td>147829</td><td>2023-02-16 23:44</td></tr><tr><td>produce_beef_value.csv</td><td>13444776</td><td>2023-02-16 22:16</td></tr><tr><td>produce_live_animal.csv</td><td>3312619</td><td>2023-02-15 08:40</td></tr><tr><td>produce_primary_meat.csv</td><td>7500469</td><td>2023-02-16 22:16</td></tr><tr><td>production_bug.csv</td><td>198993</td><td>2023-02-16 02:59</td></tr><tr><td>stocks_bug.csv</td><td>229309</td><td>2023-02-16 03:00</td></tr><tr><td>trade_indices.csv</td><td>1132795</td><td>2023-02-16 22:16</td></tr><tr><td>trade_produce.csv</td><td>2654211</td><td>2023-02-15 17:12</td></tr></tbody></table>"
   ]
  },
  {
   "cell_type": "markdown",
   "metadata": {},
   "source": [
    "### Keeping Null Values at Download Stage\n",
    "All data is downloaded as CSV Tables  with no thousands separator and and all output formating options turned on. These are all defaul settings except the Null Values button which is toggled 'off' by default!\n",
    "\n",
    "\n",
    "\n",
    "![Example Image](../images/we03.png)\n",
    "\n",
    "<span style=\"font-size: 18px;\"> Figure :Null values are omitted by default but we always include them                 </span>\n",
    "\n",
    "By keeping null values we get a complete picture and allow for the option to remove them later, impute missing values with estimated values. This can be done by filling missing values with a constant value, the mean or median of the remaining values in the column, or using more advanced techniques such as Forward fill,  backward fill or even reformating the research question based on quality of the data.\n",
    "\n",
    "\n",
    "###  Tailoring  Downloads for the EU 27  Countries: Possible but unwise.\n",
    "\n",
    "Taoiloring FAOSTAT downloads for the EU 27  coutries was possible as shown but leaving this to the pythonic EDA stage allows for the option to broaden the research during or after the project is submitted. Github did not like some larger files like the consumer index so it was used then.\n",
    "\n",
    "<div style=\"display:flex; flex-direction: row;\">\n",
    "  <img src=\"../images/we14.png\" alt=\"Image 1\" style=\"width:45%; height:auto; margin-right:1%;\">\n",
    "  <img src=\"../images/we15.png\" alt=\"Image 2\" style=\"width:45%; height:auto; margin-right:1%;\">\n",
    "</div>\n",
    "\n",
    "<span style=\"font-size: 18px;\">Figure 5: Filtering to the EU 27 at retrieval  was possible but not choosen.</span>\n",
    "\n",
    "\n",
    "Dealing with null (missing) values is a strategic step in data analysis and not to choose this option would be effectively taking the **Drop missing values  approach** and the dropna() method in pandas will have the same outcome  if deemed appropriate to the emerging goals of the analysis.\n",
    "\n",
    "\n",
    "\n",
    "We can aggregate dataframes latter using our  **groupdf** function so in principle downloading super sets of data is preffered over pre-emptive filtration of data. Having said that, that is **super** with a small 's' as  common sense segregation now introduces an element of organisation and and brings valuable insights.\n",
    "\n",
    "Fist we download a csv file that is likely to give rise to a **response variable**  that is indicative of production in the beef sector and can be normalised for population. "
   ]
  },
  {
   "cell_type": "markdown",
   "metadata": {},
   "source": [
    "### Production of live animals\n",
    "\n",
    "Crop and livestock statistics  for cattle and meat\n",
    "\n",
    "\n",
    "<br>\n",
    "This file will most likely lead to a predictor variable for the study. This might be in terms of head of cattle or yield.\n",
    "<br>\n",
    "\n",
    "\n",
    "\n",
    "\n",
    "<div style=\"display:flex; flex-direction: row;\">\n",
    "  <img src=\"../images/we11.png\" alt=\"Image 1\" style=\"width:33.33%; height:auto; margin-right:1%;\">\n",
    "  <img src=\"../images/we12.png\" alt=\"Image 2\" style=\"width:33.33%; height:auto; margin-right:1%;\">\n",
    "  <img src=\"../images/we13.png\" alt=\"Image 3\" style=\"width:33.33%; height:auto;\">\n",
    "</div>\n",
    "\n",
    "\n",
    "\n",
    "<span style=\"font-size: 18px;\">Figure 4:Filters and Controls for produce_live_animal.csv           3312619 2023-02-15 08:40:53.</span>\n",
    "\n",
    "\n",
    "\n",
    "\n",
    "\n",
    "\n",
    "Cattle was choosen from the live animals list in the crops and livestock section of the production domain of FAOSTAT and all elements were selected. The file was renamed and downloades as **production_and_slaughter.csv.** "
   ]
  },
  {
   "cell_type": "code",
   "execution_count": 1,
   "metadata": {},
   "outputs": [
    {
     "ename": "NameError",
     "evalue": "name 'pd' is not defined",
     "output_type": "error",
     "traceback": [
      "\u001b[1;31m---------------------------------------------------------------------------\u001b[0m",
      "\u001b[1;31mNameError\u001b[0m                                 Traceback (most recent call last)",
      "\u001b[1;32m~\\AppData\\Local\\Temp\\ipykernel_10852\\1432967017.py\u001b[0m in \u001b[0;36m<module>\u001b[1;34m\u001b[0m\n\u001b[1;32m----> 1\u001b[1;33m \u001b[0mdf\u001b[0m \u001b[1;33m=\u001b[0m \u001b[0mpd\u001b[0m\u001b[1;33m.\u001b[0m\u001b[0mread_csv\u001b[0m\u001b[1;33m(\u001b[0m\u001b[1;34m'../data/raw/produce_live_animal.csv'\u001b[0m\u001b[1;33m)\u001b[0m\u001b[1;33m\u001b[0m\u001b[1;33m\u001b[0m\u001b[0m\n\u001b[0m\u001b[0;32m      2\u001b[0m \u001b[0mlive_df\u001b[0m\u001b[1;33m=\u001b[0m\u001b[0mdf\u001b[0m\u001b[1;33m\u001b[0m\u001b[1;33m\u001b[0m\u001b[0m\n\u001b[0;32m      3\u001b[0m \u001b[0mlive_df\u001b[0m\u001b[1;33m.\u001b[0m\u001b[0mhead\u001b[0m\u001b[1;33m(\u001b[0m\u001b[1;33m)\u001b[0m\u001b[1;33m\u001b[0m\u001b[1;33m\u001b[0m\u001b[0m\n",
      "\u001b[1;31mNameError\u001b[0m: name 'pd' is not defined"
     ]
    }
   ],
   "source": [
    "df = pd.read_csv('../data/raw/produce_live_animal.csv')\n",
    "df=df\n",
    "live_df.head()"
   ]
  },
  {
   "cell_type": "markdown",
   "metadata": {},
   "source": [
    "###   Production Livestock Primary Meat data\n",
    "Crop and livestock statistics  for cattle and meat\n",
    "\n",
    "\n",
    "\n",
    "\n",
    "<div style=\"display:flex; flex-direction: row;\">\n",
    "  <img src=\"../images/we83.png\" alt=\"Image 1\" style=\"width:45%; height:auto; margin-right:1%;\">\n",
    "  <img src=\"../images/we84.png\" alt=\"Image 2\" style=\"width:45%; height:auto; margin-right:1%;\">\n",
    "</div>\n",
    "\n",
    "<span style=\"font-size:18px;\">     </span>\n",
    "\n",
    "\n",
    "\n",
    "\n",
    "\n",
    "\n",
    "<span style=\"font-size: 18px;\"> Figure 6: Shows that only 'meat of cattle with the bone, fresh or chilled' was the only selection from livestock primary. All elements were selected. The csv was downloaded as  LivestockPrimaryMeat.csv which may provide response and/or predictor   variables  depending on EDA.          </span>\n",
    "\n",
    "\n",
    "produce_primary_meat.csv          7500469   2023-02-15 13:35:40"
   ]
  },
  {
   "cell_type": "markdown",
   "metadata": {},
   "source": [
    "###   Production Prices  Data\n",
    "Crop and livestock statistics  for cattle and meat\n",
    "<div style=\"display:flex; flex-direction: row;\">\n",
    "  <img src=\"../images/we40.png\" alt=\"Image 1\" style=\"width:45%; height:auto; margin-right:1%;\">\n",
    "  <img src=\"../images/we41.png\" alt=\"Image 2\" style=\"width:45%; height:auto; margin-right:1%;\">\n",
    "</div>\n",
    "\n",
    "<span style=\"font-size: 18px;\">Figure 7:Production value of meat of cattle across 5 units of measurement called elements. ProductionValueMeatofCattle.csv</span>\n",
    "\n",
    "producer_prices.csv               1945297 2023-02-15 18:29:49"
   ]
  },
  {
   "cell_type": "markdown",
   "metadata": {},
   "source": [
    "###   Trade Crops and livestock products\n",
    "\n",
    "Trade data for the food and agricultural trade dataset is collected, processed and disseminated by FAO according to the standard International Merchandise Trade Statistics (IMTS) Methodology. The data is mainly provided by UNSD, Eurostat, and other national authorities as needed. This source data is checked for outliers. The trade database includes the following variables: export quantity, export value, import quantity, and import value. The trade database includes all food and agricultural products imported/exported annually by all the countries in the world. \n",
    "\n",
    "<div style=\"display:flex; flex-direction: row;\">\n",
    "  <img src=\"../images/we45.png\" alt=\"Image 1\" style=\"width:45%; height:auto; margin-right:1%;\">\n",
    "  <img src=\"../images/we46.png\" alt=\"Image 2\" style=\"width:45%; height:auto; margin-right:1%;\">\n",
    "</div>\n",
    "\n",
    "<span style=\"font-size: 16px;\">Figure 8 :The trade database includes all food and agricultural products imported/exported annually by all the countries in the world according to the standard International Merchandise Trade Statistics (IMTS) Methodology. Trade.csv</span>"
   ]
  },
  {
   "cell_type": "markdown",
   "metadata": {},
   "source": [
    "###   Trade Indices\n",
    "\n",
    "Trade data for the food and agricultural trade dataset is collected, processed and disseminated by FAO according to the standard International Merchandise Trade Statistics (IMTS) Methodology. The data is mainly provided by UNSD, Eurostat, and other national authorities as needed. This source data is checked for outliers. The trade database includes the following variables: export quantity, export value, import quantity, and import value. The trade database includes all food and agricultural products imported/exported annually by all the countries in the world. \n",
    "\n",
    "<div style=\"display:flex; flex-direction: row;\">\n",
    "  <img src=\"../images/we47.png\" alt=\"Image 1\" style=\"width:45%; height:auto; margin-right:1%;\">\n",
    "  <img src=\"../images/we48.png\" alt=\"Image 2\" style=\"width:45%; height:auto; margin-right:1%;\">\n",
    "</div>\n",
    "\n",
    "<span style=\"font-size: 16px;\">Figure 9 :</span>"
   ]
  },
  {
   "cell_type": "markdown",
   "metadata": {},
   "source": [
    "###   Producer Prices Annual\n",
    "\n",
    "prices_for_producers.csv          1945297 2023-02-15 18:29:49\n",
    "\n",
    "This domain contains data on Agriculture Producer Prices and Producer Price Index. Agriculture Producer Prices are prices received by farmers for primary crops, live animals and livestock primary products as collected at the point of initial sale (prices paid at the farm-gate). Annual data are provided from 1991, while mothly data from January 2010 for 180 country and 212 product. Producer Price Index is the index of agricultural producer prices that measures the average annual change over time in the selling prices received by farmers (prices at the farm-gate or at the first point of sale). The three categories of producer price index available in FAOSTAT comprise: single-item price index, commodity group index and the agriculture producer price index. \n",
    "\n",
    "<div style=\"display:flex; flex-direction: row;\">\n",
    "  <img src=\"../images/we49.png\" alt=\"Image 1\" style=\"width:45%; height:auto; margin-right:1%;\">\n",
    "  <img src=\"../images/we50.png\" alt=\"Image 2\" style=\"width:45%; height:auto; margin-right:1%;\">\n",
    "</div>\n",
    "\n",
    "<span style=\"font-size: 16px;\">Figure11 : producer_prices.csv         </span>"
   ]
  },
  {
   "cell_type": "markdown",
   "metadata": {},
   "source": [
    "###   Consumer Price Indices \n",
    "\n",
    "consumer_price_indices.csv       27918339 2023-02-15 19:20:16\n",
    "\n",
    "\n",
    "A complete and consistent set of time series from **January 2000** onwards. Data gaps on monthly Food CPI and General CPI are filled using statistical estimation procedures to have full data coverage for all countries for Food CPI and for General CPI. These indices measure the price change between the current and reference periods of the average basket of goods and services purchased by households. The CPI,all items is typically **used to measure and monitor inflation**, set monetary policy targets, index social benefits such as pensions and unemployment benefits, and to escalate thresholds and credits in the income tax systems and wages in public and private wage contracts. \n",
    "\n",
    "\n",
    "\n",
    "The FAOSTAT monthly Food CPI inflation rates are annual year-over-year inflation or percentage change over corresponding month of the previous year. The FAOSTAT regional Food CPI and CPI of General are weighted average of Food CPI and General CPI of countries in each region using the weights of HouseHold Final Consumption Expenditure in USD in 2015 from UNSD.\n",
    "\n",
    "Note: This data will need to be reaggregated to annual data.\n",
    "\n",
    "\n",
    "<div style=\"display:flex; flex-direction: row;\">\n",
    "  <img src=\"../images/we53.png\" alt=\"Image 1\" style=\"width:45%; height:auto; margin-right:1%;\">\n",
    "  <img src=\"../images/we54.png\" alt=\"Image 2\" style=\"width:45%; height:auto; margin-right:1%;\">\n",
    "</div>\n",
    "\n",
    "<span style=\"font-size: 16px;\">Figure12 :consumer_price_indices.csv        </span>"
   ]
  },
  {
   "cell_type": "markdown",
   "metadata": {},
   "source": [
    "\n",
    "\n",
    "\n",
    "###   Price Deflators - price_deflators.csv  \n",
    "\n",
    "price_deflators.csv              13862875 2023-02-15 19:29:01\n",
    "\n",
    "\n",
    "The FAOSTAT Deflators database provides the following selection of implicit price deflator series by country and at regional level: Gross Domestic Product (GDP) deflator, Gross Fixed Capital Formation (GFCF) deflator, Agriculture, Forestry, Fishery Value-Added (VA_AFF) deflator, and Manufacturing Valued-Added (VA_MAN) deflator.\n",
    "\n",
    "\n",
    "\n",
    "A deflator is a figure expressing the change in prices over a period of time for a product or a basket of products by comparing a reference period to a base period. It is obtained by dividing a current price value of a given aggregate by its real counterpart. When calculated from the major national accounting aggregates such as GDP or agriculture value added, implicit price deflators pertains to wider ranges of goods and services in the economy than that represented by any of the individual price indexes (such as CPIs, PPIs). Movements in an implicit price deflator reflect both changes in price and changes in the composition of the aggregate for which the deflator is calculated.\n",
    "\n",
    "\n",
    "\n",
    "In the FAOSTAT Deflators database, all series are derived from the United Nations Statistics Division (UNSD) National Accounts Analysis of Main Aggregates database (UNSD AMA). In particular, the implicit GDP deflator, the implicit GFCF deflator, the implicit value added deflator of Agriculture, Forestry, Fishery and the implicit value added deflator of Manufacturing are obtained by dividing the series in current prices by those in constant 2015 prices (base year)\n",
    "\n",
    "\n",
    "<div style=\"display:flex; flex-direction: row;\">\n",
    "  <img src=\"../images/we55.png\" alt=\"Image 1\" style=\"width:45%; height:auto; margin-right:1%;\">\n",
    "  <img src=\"../images/we56.png\" alt=\"Image 2\" style=\"width:45%; height:auto; margin-right:1%;\">\n",
    "</div>\n",
    "\n",
    "<span style=\"font-size:18px;\">Figure 15 : Price Deflators.csv        </span>"
   ]
  },
  {
   "cell_type": "markdown",
   "metadata": {},
   "source": [
    "###   Price Exchange Rates  - price_exchange_rates.csv\n",
    "\n",
    "price_exchange_rates.csv          4531028 2023-02-15 19:37:52\n",
    "\n",
    "\n",
    "Exchange rates\n",
    "- Annual exchange rates, Standard Local Currency Units (SLC) per US dollar.\n",
    "\n",
    "- Annual and Monthly exchange rates, Local currency Units (LCU) per US dollar.\n",
    "\n",
    "\n"
   ]
  },
  {
   "cell_type": "markdown",
   "metadata": {},
   "source": [
    "###  Land Use\n",
    "\n",
    "|CA2-Beef\\rawdata\\land_use.csv  |        7647950 |2023-02-15| 19:45:10|\n",
    "\n",
    "\n",
    "The FAOSTAT Land Use domain contains data on forty-four categories of land use, irrigation and agricultural practices, relevant to monitor agriculture, forestry and fisheries activities at national, regional and global level.\n",
    "\n",
    "Data are available by country and year, with global coverage and annual updates.\n",
    "\n",
    "\n",
    "<div style=\"display:flex; flex-direction: row;\">\n",
    "  <img src=\"../images/we60.png\" alt=\"Image 1\" style=\"width:45%; height:auto; margin-right:1%;\">\n",
    "  <img src=\"../images/we61.png\" alt=\"Image 2\" style=\"width:45%; height:auto; margin-right:1%;\">\n",
    "</div>\n",
    "\n",
    "<span style=\"font-size:18px;\">Figure 16 : price_exchange_rates.csv       </span>\n",
    "\n",
    "Scanned folder: C:\\Users\\ronan\\CA2-Beef\\rawdata"
   ]
  },
  {
   "cell_type": "markdown",
   "metadata": {},
   "source": [
    "###  Land Cover\n",
    "\n",
    "\n",
    "\n",
    "The FAOSTAT domain Land Cover under the Agri-Environmental Indicators section contains land cover information organized by the land cover classes of the international standard system for Environmental and Economic Accounting Central Framework (SEEA CF). The land cover information is compiled from publicly available Global Land Cover (GLC) maps: a) MODIS land cover types based on the Land Cover Classification System, LCCS (2001–2018) and b) the European Spatial Agency (ESA) Climate Change Initiative (CCI) annual land cover maps (1992–2018) produced by the Université catholique de Louvain (UCL)-Geomatics and now under the European Copernicus Program.\n",
    "\n",
    "<div style=\"display:flex; flex-direction: row;\">\n",
    "  <img src=\"../images/we62.png\" alt=\"Image 1\" style=\"width:45%; height:auto; margin-right:1%;\">\n",
    "  <img src=\"../images/we63.png\" alt=\"Image 2\" style=\"width:45%; height:auto; margin-right:1%;\">\n",
    "</div>\n",
    "\n",
    "<span style=\"font-size:18px;\">Figure 16 : price_exchange_rates.csv       </span>\n",
    "\n",
    "Scanned folder: C:\\Users\\ronan\\CA2-Beef\\rawdatam"
   ]
  },
  {
   "cell_type": "markdown",
   "metadata": {},
   "source": [
    "###  Input Fertilizers by Nutrient\n",
    "\n",
    "\n",
    "The Fertilizers by Nutrient dataset contains information on the totals in nutrients for Production, Trade and Agriculture Use of inorganic (chemical or mineral) fertilizers, over the time series 1961-present. The data are provided for the three primary plant nutrients: nitrogen (N), phosphorus (expressed as P2O5) and potassium (expressed as K2O). Both straight and compound fertilizers are included.\n",
    "\n",
    "<div style=\"display:flex; flex-direction: row;\">\n",
    "  <img src=\"../images/we64.png\" alt=\"Image 1\" style=\"width:45%; height:auto; margin-right:1%;\">\n",
    "  <img src=\"../images/we65.png\" alt=\"Image 2\" style=\"width:45%; height:auto; margin-right:1%;\">\n",
    "</div>\n",
    "\n",
    "<span style=\"font-size:18px;\">Figure: input_fertilizers_by_nutrient      </span>\n",
    "\n",
    "input_fertilizers_by_nutrient.csv     "
   ]
  },
  {
   "cell_type": "markdown",
   "metadata": {},
   "source": [
    "###  Input Livestock Manure \n",
    "\n",
    "\n",
    "The Livestock Manure domain of FAOSTAT contains estimates of nitrogen (N) inputs to agricultural soils from livestock manure. Data on the N losses to air and water are also disseminated. These estimates are compiled using official FAOSTAT statistics of animal stocks and by applying the internationally approved Guidelines of the Intergovernmental Panel on Climate Change (IPCC). Data are available by country, with global coverage and relative to the period 1961–2020, with annual updates. The following elements are disseminated: 1) Stocks; 2) Amount excreted in manure (N content); 3) Manure left on pasture (N content); 4) Manure left on pasture that volatilises (N content); 5) Manure left on pasture that leaches (N content); 6) Manure treated (N content); 7) Losses from manure treated (N content); 8) Manure applied to soils (N content); 9) Manure applied to soils that volatilises (N content); 10) Manure applied to soils that leaches (N content)\n",
    "\n",
    "\n",
    "<div style=\"display:flex; flex-direction: row;\">\n",
    "  <img src=\"../images/we69.png\" alt=\"Image 1\" style=\"width:45%; height:auto; margin-right:1%;\">\n",
    "  <img src=\"../images/we70.png\" alt=\"Image 2\" style=\"width:45%; height:auto; margin-right:1%;\">\n",
    "</div>\n",
    "\n",
    "<span style=\"font-size:18px;\">Figure: Input Livestock Manure       </span>\n",
    "\n",
    "  "
   ]
  },
  {
   "cell_type": "markdown",
   "metadata": {},
   "source": [
    "###  Input Pesticides Use \n",
    "\n",
    "\n",
    "The Pesticides Use database includes data on the use of major pesticide groups (Insecticides, Herbicides, Fungicides, Plant growth regulators and Rodenticides) and of relevant chemical families. Data report the quantities (in tonnes of active ingredients) of pesticides used in or sold to the agricultural sector for crops and seeds. Information on quantities applied to single crops is not available. \n",
    "\n",
    "\n",
    "<div style=\"display:flex; flex-direction: row;\">\n",
    "  <img src=\"../images/we71.png\" alt=\"Image 1\" style=\"width:45%; height:auto; margin-right:1%;\">\n",
    "  <img src=\"../images/we72.png\" alt=\"Image 2\" style=\"width:45%; height:auto; margin-right:1%;\">\n",
    "</div>\n",
    "\n",
    "<span style=\"font-size:18px;\">Figure: Input Pesticides Use        </span>\n",
    "\n",
    "  "
   ]
  },
  {
   "cell_type": "markdown",
   "metadata": {},
   "source": [
    "### Population and Employment\n",
    "\n",
    "\n",
    "The FAOSTAT Population module contains time series data on population, by sex and urban/rural. The series consist of both estimates and projections for different periods as available from the original sources, namely:\n",
    "1. Population data refers to the World Population Prospects: The 2019 Revision from the UN Population Division.\n",
    "2. Urban/rural population data refers to the World Urbanization Prospects: The 2018 Revision from the UN Population Division.\n",
    "\n",
    "\n",
    "\n",
    "<div style=\"display:flex; flex-direction: row;\">\n",
    "  <img src=\"../images/we77.png\" alt=\"Image 1\" style=\"width:45%; height:auto; margin-right:1%;\">\n",
    "  <img src=\"../images/we78.png\" alt=\"Image 2\" style=\"width:45%; height:auto; margin-right:1%;\">\n",
    "</div>\n",
    "\n",
    "<span style=\"font-size:18px;\">Figure: Population       </span>\n",
    "\n",
    "  "
   ]
  },
  {
   "cell_type": "markdown",
   "metadata": {},
   "source": [
    "### Investment Credit to Agriculture\n",
    "\n",
    "The Credit to Agriculture dataset provides national data for over 130 countries on the amount of loans provided by the private/commercial banking sector to producers in agriculture, forestry and fishing, including household producers, cooperatives, and agro-businesses. For some countries, the three subsectors of agriculture, forestry, and fishing are completely specified. In other cases, complete disaggregations are not available. The dataset also provides statistics on the total credit to all industries, indicators on the share of credit to agricultural producers, and an agriculture orientation index (AOI) for credit that normalizes the share of credit to agriculture over total credit by dividing it by the share of agriculture in gross domestic product (GDP). As such, it can provide a more accurate indication of the relative importance that banking sectors place on financing the sector. An AOI lower than 1 indicates that the agriculture sector receives a credit share lower than its contribution to the economy, while an AOI greater than 1 indicates a credit share to the agriculture sector greater than its economic contribution.\n",
    "\n",
    "<div style=\"display:flex; flex-direction: row;\">\n",
    "  <img src=\"../images/we79.png\" alt=\"Image 1\" style=\"width:45%; height:auto; margin-right:1%;\">\n",
    "  <img src=\"../images/we80.png\" alt=\"Image 2\" style=\"width:45%; height:auto; margin-right:1%;\">\n",
    "</div>\n",
    "\n",
    "<span style=\"font-size:18px;\">Figure: Investment Credit to Agriculture       </span>\n",
    "\n",
    "  "
   ]
  },
  {
   "cell_type": "markdown",
   "metadata": {},
   "source": [
    "### Investment Government Expenditure\n",
    "\n",
    "The FAO's Statistics Division collects annual data on Government Expenditure on Agriculture via a questionnaire developed in partnership with the International Monetary Fund (IMF). The IMF collects Government Finance Statistics (GFS) data and uses the Classification of the Functions of Government (COFOG) developed by the OECD to categorize governments' functions according to their purposes. The FAO questionnaire aligns with Table 7 of the IMF GFS questionnaire and provides a time series of data from 2001 onwards on Total Government Expenditure and expenditure in Economic affairs, Agriculture, Forestry, Fishing and Hunting, along with its subsectors and other indicators. Imputation methods are used to provide a complete and consistent global dataset due to challenges in implementing the GFS methodology and COFOG classification at the country level. Data are reported for the highest level of government available and are available for about 100 countries on a regular basis.\n",
    "\n",
    "<div style=\"display:flex; flex-direction: row;\">\n",
    "  <img src=\"../images/we81.png\" alt=\"Image 1\" style=\"width:45%; height:auto; margin-right:1%;\">\n",
    "  <img src=\"../images/we82.png\" alt=\"Image 2\" style=\"width:45%; height:auto; margin-right:1%;\">\n",
    "</div>\n",
    "\n",
    "<span style=\"font-size:18px;\">Figure:nvestment Government Expenditure      </span>\n",
    "\n",
    "  "
   ]
  },
  {
   "cell_type": "markdown",
   "metadata": {},
   "source": [
    "The trade dataset is collected, processed and disseminated by FAO . The data is mainly provided by UNSD, Eurostat, and other national authorities as needed. This source data is checked for outliers, trade partner data is used for non-reporting countries or missing cells, and data on food aid is added to take into account total cross-border trade flows. The trade database includes the following variables: export quantity, export value, import quantity, and import value. "
   ]
  },
  {
   "cell_type": "markdown",
   "metadata": {},
   "source": [
    "##  Cleaning and Preparing \n",
    "\n",
    "We need to clean and preprocess the data, identify and process missing values, and deal with outliers and inconsistencies before using our raw  data for exploratory data analysis and machine learning. This includes:\n",
    "\n",
    "\n",
    "\n",
    "\n",
    "- Identify and handle missing values: Use pandas functions such as isna(), fillna(), dropna() to identify and handle missing values in the DataFrame.\n",
    "\n",
    "- Drop unnecessary columns: If the DataFrame contains columns that are not needed for the analysis, use the drop() method to drop those columns.\n",
    "\n",
    "- Rename columns: Use the rename() method to rename columns with descriptive labels that are easy to understand.\n",
    "\n",
    "- Convert data types: Use the astype() method to convert columns to the appropriate data type, such as converting numerical columns to int or float.\n",
    "\n",
    "- Remove duplicates: Use the drop_duplicates() method to remove duplicate rows from the DataFrame.\n",
    "\n",
    "- Filter rows: Use pandas functions such as query(), loc[], and iloc[] to filter rows that meet certain criteria.\n",
    "\n",
    "- Group and aggregate data: Use the groupby() method to group the data by one or more columns, and then use aggregation functions such as sum(), mean(), and count() to calculate summary statistics for each group.\n",
    "\n",
    "-  Visualize the data: Use matplotlib, seaborn, or other visualization libraries to create graphs and plots that help you understand the data and communicate your findings.\n",
    "\n",
    "\n",
    "\n",
    "\n",
    "\n",
    "\n",
    "\n",
    "\n",
    "\n",
    "\n",
    "\n",
    "\n",
    "\n",
    "\n",
    "\n",
    "\n",
    "\n",
    "\n",
    "\n",
    "\n",
    "\n",
    "\n",
    "\n"
   ]
  },
  {
   "cell_type": "code",
   "execution_count": 174,
   "metadata": {
    "scrolled": true
   },
   "outputs": [
    {
     "name": "stdout",
     "output_type": "stream",
     "text": [
      "Contents of the folder '../data/raw':\n",
      "consumer_price_indices.csv        7167669 2023-02-16 22:16\n",
      "country_area.csv                  1653232 2023-02-15 19:40\n",
      "input_fertilizers_by_nutrient.csv    7073332 2023-02-16 22:16\n",
      "investment_credit_to_agriculture.csv    2952305 2023-02-15 20:40\n",
      "investment_government_expenditure.csv     827587 2023-02-15 20:49\n",
      "land_cover.csv                    2721521 2023-02-15 20:18\n",
      "land_input_livestock_manure.csv    1019522 2023-02-16 22:16\n",
      "land_use.csv                      7647950 2023-02-16 22:16\n",
      "meat.csv                          7500469 2023-02-17 00:39\n",
      "population.csv                   17089991 2023-02-16 22:16\n",
      "prices_for_producers.csv          1945297 2023-02-15 18:29\n",
      "price_deflators.csv                767758 2023-02-16 22:16\n",
      "price_exchange_rates.csv          4531028 2023-02-16 22:16\n",
      "producer_avocadoos_prices.csv      147829 2023-02-16 23:44\n",
      "produce_beef_value.csv           13444776 2023-02-16 22:16\n",
      "produce_live_animal.csv           3312619 2023-02-15 08:40\n",
      "produce_primary_meat.csv          7500469 2023-02-16 22:16\n",
      "production_bug.csv                 198993 2023-02-16 02:59\n",
      "stocks_bug.csv                     229309 2023-02-16 03:00\n",
      "trade_indices.csv                 1132795 2023-02-16 22:16\n",
      "trade_produce.csv                 2654211 2023-02-15 17:12\n"
     ]
    }
   ],
   "source": [
    "scanr()"
   ]
  },
  {
   "cell_type": "markdown",
   "metadata": {},
   "source": [
    "###   Production Livestock Primary Meat data\n",
    "Crop and livestock statistics  for cattle and meat\n",
    "\n",
    "\n",
    "\n",
    "\n",
    "<div style=\"display:flex; flex-direction: row;\">\n",
    "  <img src=\"../images/we83.png\" alt=\"Image 1\" style=\"width:45%; height:auto; margin-right:1%;\">\n",
    "  <img src=\"../images/we84.png\" alt=\"Image 2\" style=\"width:45%; height:auto; margin-right:1%;\">\n",
    "</div>\n",
    "\n",
    "<span style=\"font-size:18px;\">     </span>\n",
    "\n",
    "\n",
    "\n",
    "\n",
    "\n",
    "\n",
    "<span style=\"font-size: 14px;\"> Figure 6: Shows that only 'meat of cattle with the bone, fresh or chilled' was the only selection from livestock primary. All elements were selected. The csv was downloaded as  LivestockPrimaryMeat.csv which may provide response and/or predictor   variables  depending on EDA.          </span>\n",
    "\n",
    "\n",
    "produce_primary_meat.csv          7500469   2023-02-15 13:35:40"
   ]
  },
  {
   "cell_type": "code",
   "execution_count": 179,
   "metadata": {},
   "outputs": [
    {
     "data": {
      "text/html": [
       "<div>\n",
       "<style scoped>\n",
       "    .dataframe tbody tr th:only-of-type {\n",
       "        vertical-align: middle;\n",
       "    }\n",
       "\n",
       "    .dataframe tbody tr th {\n",
       "        vertical-align: top;\n",
       "    }\n",
       "\n",
       "    .dataframe thead th {\n",
       "        text-align: right;\n",
       "    }\n",
       "</style>\n",
       "<table border=\"1\" class=\"dataframe\">\n",
       "  <thead>\n",
       "    <tr style=\"text-align: right;\">\n",
       "      <th></th>\n",
       "      <th>Domain Code</th>\n",
       "      <th>Domain</th>\n",
       "      <th>Area Code (M49)</th>\n",
       "      <th>Area</th>\n",
       "      <th>Element Code</th>\n",
       "      <th>Element</th>\n",
       "      <th>Item Code (CPC)</th>\n",
       "      <th>Item</th>\n",
       "      <th>Year Code</th>\n",
       "      <th>Year</th>\n",
       "      <th>Unit</th>\n",
       "      <th>Value</th>\n",
       "      <th>Flag</th>\n",
       "      <th>Flag Description</th>\n",
       "    </tr>\n",
       "  </thead>\n",
       "  <tbody>\n",
       "    <tr>\n",
       "      <th>0</th>\n",
       "      <td>QCL</td>\n",
       "      <td>Crops and livestock products</td>\n",
       "      <td>4</td>\n",
       "      <td>Afghanistan</td>\n",
       "      <td>5510</td>\n",
       "      <td>Production</td>\n",
       "      <td>2111</td>\n",
       "      <td>Cattle</td>\n",
       "      <td>1961</td>\n",
       "      <td>1961</td>\n",
       "      <td>NaN</td>\n",
       "      <td>NaN</td>\n",
       "      <td>NaN</td>\n",
       "      <td>NaN</td>\n",
       "    </tr>\n",
       "    <tr>\n",
       "      <th>1</th>\n",
       "      <td>QCL</td>\n",
       "      <td>Crops and livestock products</td>\n",
       "      <td>4</td>\n",
       "      <td>Afghanistan</td>\n",
       "      <td>5510</td>\n",
       "      <td>Production</td>\n",
       "      <td>2111</td>\n",
       "      <td>Cattle</td>\n",
       "      <td>1962</td>\n",
       "      <td>1962</td>\n",
       "      <td>NaN</td>\n",
       "      <td>NaN</td>\n",
       "      <td>NaN</td>\n",
       "      <td>NaN</td>\n",
       "    </tr>\n",
       "    <tr>\n",
       "      <th>2</th>\n",
       "      <td>QCL</td>\n",
       "      <td>Crops and livestock products</td>\n",
       "      <td>4</td>\n",
       "      <td>Afghanistan</td>\n",
       "      <td>5510</td>\n",
       "      <td>Production</td>\n",
       "      <td>2111</td>\n",
       "      <td>Cattle</td>\n",
       "      <td>1963</td>\n",
       "      <td>1963</td>\n",
       "      <td>NaN</td>\n",
       "      <td>NaN</td>\n",
       "      <td>NaN</td>\n",
       "      <td>NaN</td>\n",
       "    </tr>\n",
       "    <tr>\n",
       "      <th>3</th>\n",
       "      <td>QCL</td>\n",
       "      <td>Crops and livestock products</td>\n",
       "      <td>4</td>\n",
       "      <td>Afghanistan</td>\n",
       "      <td>5510</td>\n",
       "      <td>Production</td>\n",
       "      <td>2111</td>\n",
       "      <td>Cattle</td>\n",
       "      <td>1964</td>\n",
       "      <td>1964</td>\n",
       "      <td>NaN</td>\n",
       "      <td>NaN</td>\n",
       "      <td>NaN</td>\n",
       "      <td>NaN</td>\n",
       "    </tr>\n",
       "    <tr>\n",
       "      <th>4</th>\n",
       "      <td>QCL</td>\n",
       "      <td>Crops and livestock products</td>\n",
       "      <td>4</td>\n",
       "      <td>Afghanistan</td>\n",
       "      <td>5510</td>\n",
       "      <td>Production</td>\n",
       "      <td>2111</td>\n",
       "      <td>Cattle</td>\n",
       "      <td>1965</td>\n",
       "      <td>1965</td>\n",
       "      <td>NaN</td>\n",
       "      <td>NaN</td>\n",
       "      <td>NaN</td>\n",
       "      <td>NaN</td>\n",
       "    </tr>\n",
       "  </tbody>\n",
       "</table>\n",
       "</div>"
      ],
      "text/plain": [
       "  Domain Code                        Domain  Area Code (M49)         Area  \\\n",
       "0         QCL  Crops and livestock products                4  Afghanistan   \n",
       "1         QCL  Crops and livestock products                4  Afghanistan   \n",
       "2         QCL  Crops and livestock products                4  Afghanistan   \n",
       "3         QCL  Crops and livestock products                4  Afghanistan   \n",
       "4         QCL  Crops and livestock products                4  Afghanistan   \n",
       "\n",
       "   Element Code     Element  Item Code (CPC)    Item  Year Code  Year Unit  \\\n",
       "0          5510  Production             2111  Cattle       1961  1961  NaN   \n",
       "1          5510  Production             2111  Cattle       1962  1962  NaN   \n",
       "2          5510  Production             2111  Cattle       1963  1963  NaN   \n",
       "3          5510  Production             2111  Cattle       1964  1964  NaN   \n",
       "4          5510  Production             2111  Cattle       1965  1965  NaN   \n",
       "\n",
       "   Value Flag Flag Description  \n",
       "0    NaN  NaN              NaN  \n",
       "1    NaN  NaN              NaN  \n",
       "2    NaN  NaN              NaN  \n",
       "3    NaN  NaN              NaN  \n",
       "4    NaN  NaN              NaN  "
      ]
     },
     "execution_count": 179,
     "metadata": {},
     "output_type": "execute_result"
    }
   ],
   "source": [
    "\n"
   ]
  },
  {
   "cell_type": "code",
   "execution_count": 66,
   "metadata": {
    "scrolled": true
   },
   "outputs": [
    {
     "ename": "FileNotFoundError",
     "evalue": "[Errno 2] No such file or directory: 'rawdata/produce_live_animal.csv'",
     "output_type": "error",
     "traceback": [
      "\u001b[1;31m---------------------------------------------------------------------------\u001b[0m",
      "\u001b[1;31mFileNotFoundError\u001b[0m                         Traceback (most recent call last)",
      "\u001b[1;32m~\\AppData\\Local\\Temp\\ipykernel_7340\\781630512.py\u001b[0m in \u001b[0;36m<module>\u001b[1;34m\u001b[0m\n\u001b[0;32m      1\u001b[0m \u001b[1;31m# Read in the raw live animal produce data data file\u001b[0m\u001b[1;33m\u001b[0m\u001b[1;33m\u001b[0m\u001b[0m\n\u001b[1;32m----> 2\u001b[1;33m \u001b[0mproduce\u001b[0m \u001b[1;33m=\u001b[0m \u001b[0mpd\u001b[0m\u001b[1;33m.\u001b[0m\u001b[0mread_csv\u001b[0m\u001b[1;33m(\u001b[0m\u001b[1;34m'rawdata/produce_live_animal.csv'\u001b[0m\u001b[1;33m,\u001b[0m \u001b[0mon_bad_lines\u001b[0m\u001b[1;33m=\u001b[0m\u001b[1;34m'skip'\u001b[0m\u001b[1;33m)\u001b[0m\u001b[1;33m\u001b[0m\u001b[1;33m\u001b[0m\u001b[0m\n\u001b[0m\u001b[0;32m      3\u001b[0m \u001b[0mdf\u001b[0m\u001b[1;33m=\u001b[0m\u001b[0mproduce\u001b[0m\u001b[1;33m\u001b[0m\u001b[1;33m\u001b[0m\u001b[0m\n\u001b[0;32m      4\u001b[0m \u001b[0mdf\u001b[0m\u001b[1;33m.\u001b[0m\u001b[0mhead\u001b[0m\u001b[1;33m(\u001b[0m\u001b[1;33m)\u001b[0m\u001b[1;33m\u001b[0m\u001b[1;33m\u001b[0m\u001b[0m\n",
      "\u001b[1;32m~\\anaconda3\\lib\\site-packages\\pandas\\util\\_decorators.py\u001b[0m in \u001b[0;36mwrapper\u001b[1;34m(*args, **kwargs)\u001b[0m\n\u001b[0;32m    309\u001b[0m                     \u001b[0mstacklevel\u001b[0m\u001b[1;33m=\u001b[0m\u001b[0mstacklevel\u001b[0m\u001b[1;33m,\u001b[0m\u001b[1;33m\u001b[0m\u001b[1;33m\u001b[0m\u001b[0m\n\u001b[0;32m    310\u001b[0m                 )\n\u001b[1;32m--> 311\u001b[1;33m             \u001b[1;32mreturn\u001b[0m \u001b[0mfunc\u001b[0m\u001b[1;33m(\u001b[0m\u001b[1;33m*\u001b[0m\u001b[0margs\u001b[0m\u001b[1;33m,\u001b[0m \u001b[1;33m**\u001b[0m\u001b[0mkwargs\u001b[0m\u001b[1;33m)\u001b[0m\u001b[1;33m\u001b[0m\u001b[1;33m\u001b[0m\u001b[0m\n\u001b[0m\u001b[0;32m    312\u001b[0m \u001b[1;33m\u001b[0m\u001b[0m\n\u001b[0;32m    313\u001b[0m         \u001b[1;32mreturn\u001b[0m \u001b[0mwrapper\u001b[0m\u001b[1;33m\u001b[0m\u001b[1;33m\u001b[0m\u001b[0m\n",
      "\u001b[1;32m~\\anaconda3\\lib\\site-packages\\pandas\\io\\parsers\\readers.py\u001b[0m in \u001b[0;36mread_csv\u001b[1;34m(filepath_or_buffer, sep, delimiter, header, names, index_col, usecols, squeeze, prefix, mangle_dupe_cols, dtype, engine, converters, true_values, false_values, skipinitialspace, skiprows, skipfooter, nrows, na_values, keep_default_na, na_filter, verbose, skip_blank_lines, parse_dates, infer_datetime_format, keep_date_col, date_parser, dayfirst, cache_dates, iterator, chunksize, compression, thousands, decimal, lineterminator, quotechar, quoting, doublequote, escapechar, comment, encoding, encoding_errors, dialect, error_bad_lines, warn_bad_lines, on_bad_lines, delim_whitespace, low_memory, memory_map, float_precision, storage_options)\u001b[0m\n\u001b[0;32m    676\u001b[0m     \u001b[0mkwds\u001b[0m\u001b[1;33m.\u001b[0m\u001b[0mupdate\u001b[0m\u001b[1;33m(\u001b[0m\u001b[0mkwds_defaults\u001b[0m\u001b[1;33m)\u001b[0m\u001b[1;33m\u001b[0m\u001b[1;33m\u001b[0m\u001b[0m\n\u001b[0;32m    677\u001b[0m \u001b[1;33m\u001b[0m\u001b[0m\n\u001b[1;32m--> 678\u001b[1;33m     \u001b[1;32mreturn\u001b[0m \u001b[0m_read\u001b[0m\u001b[1;33m(\u001b[0m\u001b[0mfilepath_or_buffer\u001b[0m\u001b[1;33m,\u001b[0m \u001b[0mkwds\u001b[0m\u001b[1;33m)\u001b[0m\u001b[1;33m\u001b[0m\u001b[1;33m\u001b[0m\u001b[0m\n\u001b[0m\u001b[0;32m    679\u001b[0m \u001b[1;33m\u001b[0m\u001b[0m\n\u001b[0;32m    680\u001b[0m \u001b[1;33m\u001b[0m\u001b[0m\n",
      "\u001b[1;32m~\\anaconda3\\lib\\site-packages\\pandas\\io\\parsers\\readers.py\u001b[0m in \u001b[0;36m_read\u001b[1;34m(filepath_or_buffer, kwds)\u001b[0m\n\u001b[0;32m    573\u001b[0m \u001b[1;33m\u001b[0m\u001b[0m\n\u001b[0;32m    574\u001b[0m     \u001b[1;31m# Create the parser.\u001b[0m\u001b[1;33m\u001b[0m\u001b[1;33m\u001b[0m\u001b[0m\n\u001b[1;32m--> 575\u001b[1;33m     \u001b[0mparser\u001b[0m \u001b[1;33m=\u001b[0m \u001b[0mTextFileReader\u001b[0m\u001b[1;33m(\u001b[0m\u001b[0mfilepath_or_buffer\u001b[0m\u001b[1;33m,\u001b[0m \u001b[1;33m**\u001b[0m\u001b[0mkwds\u001b[0m\u001b[1;33m)\u001b[0m\u001b[1;33m\u001b[0m\u001b[1;33m\u001b[0m\u001b[0m\n\u001b[0m\u001b[0;32m    576\u001b[0m \u001b[1;33m\u001b[0m\u001b[0m\n\u001b[0;32m    577\u001b[0m     \u001b[1;32mif\u001b[0m \u001b[0mchunksize\u001b[0m \u001b[1;32mor\u001b[0m \u001b[0miterator\u001b[0m\u001b[1;33m:\u001b[0m\u001b[1;33m\u001b[0m\u001b[1;33m\u001b[0m\u001b[0m\n",
      "\u001b[1;32m~\\anaconda3\\lib\\site-packages\\pandas\\io\\parsers\\readers.py\u001b[0m in \u001b[0;36m__init__\u001b[1;34m(self, f, engine, **kwds)\u001b[0m\n\u001b[0;32m    930\u001b[0m \u001b[1;33m\u001b[0m\u001b[0m\n\u001b[0;32m    931\u001b[0m         \u001b[0mself\u001b[0m\u001b[1;33m.\u001b[0m\u001b[0mhandles\u001b[0m\u001b[1;33m:\u001b[0m \u001b[0mIOHandles\u001b[0m \u001b[1;33m|\u001b[0m \u001b[1;32mNone\u001b[0m \u001b[1;33m=\u001b[0m \u001b[1;32mNone\u001b[0m\u001b[1;33m\u001b[0m\u001b[1;33m\u001b[0m\u001b[0m\n\u001b[1;32m--> 932\u001b[1;33m         \u001b[0mself\u001b[0m\u001b[1;33m.\u001b[0m\u001b[0m_engine\u001b[0m \u001b[1;33m=\u001b[0m \u001b[0mself\u001b[0m\u001b[1;33m.\u001b[0m\u001b[0m_make_engine\u001b[0m\u001b[1;33m(\u001b[0m\u001b[0mf\u001b[0m\u001b[1;33m,\u001b[0m \u001b[0mself\u001b[0m\u001b[1;33m.\u001b[0m\u001b[0mengine\u001b[0m\u001b[1;33m)\u001b[0m\u001b[1;33m\u001b[0m\u001b[1;33m\u001b[0m\u001b[0m\n\u001b[0m\u001b[0;32m    933\u001b[0m \u001b[1;33m\u001b[0m\u001b[0m\n\u001b[0;32m    934\u001b[0m     \u001b[1;32mdef\u001b[0m \u001b[0mclose\u001b[0m\u001b[1;33m(\u001b[0m\u001b[0mself\u001b[0m\u001b[1;33m)\u001b[0m\u001b[1;33m:\u001b[0m\u001b[1;33m\u001b[0m\u001b[1;33m\u001b[0m\u001b[0m\n",
      "\u001b[1;32m~\\anaconda3\\lib\\site-packages\\pandas\\io\\parsers\\readers.py\u001b[0m in \u001b[0;36m_make_engine\u001b[1;34m(self, f, engine)\u001b[0m\n\u001b[0;32m   1214\u001b[0m             \u001b[1;31m# \"Union[str, PathLike[str], ReadCsvBuffer[bytes], ReadCsvBuffer[str]]\"\u001b[0m\u001b[1;33m\u001b[0m\u001b[1;33m\u001b[0m\u001b[0m\n\u001b[0;32m   1215\u001b[0m             \u001b[1;31m# , \"str\", \"bool\", \"Any\", \"Any\", \"Any\", \"Any\", \"Any\"\u001b[0m\u001b[1;33m\u001b[0m\u001b[1;33m\u001b[0m\u001b[0m\n\u001b[1;32m-> 1216\u001b[1;33m             self.handles = get_handle(  # type: ignore[call-overload]\n\u001b[0m\u001b[0;32m   1217\u001b[0m                 \u001b[0mf\u001b[0m\u001b[1;33m,\u001b[0m\u001b[1;33m\u001b[0m\u001b[1;33m\u001b[0m\u001b[0m\n\u001b[0;32m   1218\u001b[0m                 \u001b[0mmode\u001b[0m\u001b[1;33m,\u001b[0m\u001b[1;33m\u001b[0m\u001b[1;33m\u001b[0m\u001b[0m\n",
      "\u001b[1;32m~\\anaconda3\\lib\\site-packages\\pandas\\io\\common.py\u001b[0m in \u001b[0;36mget_handle\u001b[1;34m(path_or_buf, mode, encoding, compression, memory_map, is_text, errors, storage_options)\u001b[0m\n\u001b[0;32m    784\u001b[0m         \u001b[1;32mif\u001b[0m \u001b[0mioargs\u001b[0m\u001b[1;33m.\u001b[0m\u001b[0mencoding\u001b[0m \u001b[1;32mand\u001b[0m \u001b[1;34m\"b\"\u001b[0m \u001b[1;32mnot\u001b[0m \u001b[1;32min\u001b[0m \u001b[0mioargs\u001b[0m\u001b[1;33m.\u001b[0m\u001b[0mmode\u001b[0m\u001b[1;33m:\u001b[0m\u001b[1;33m\u001b[0m\u001b[1;33m\u001b[0m\u001b[0m\n\u001b[0;32m    785\u001b[0m             \u001b[1;31m# Encoding\u001b[0m\u001b[1;33m\u001b[0m\u001b[1;33m\u001b[0m\u001b[0m\n\u001b[1;32m--> 786\u001b[1;33m             handle = open(\n\u001b[0m\u001b[0;32m    787\u001b[0m                 \u001b[0mhandle\u001b[0m\u001b[1;33m,\u001b[0m\u001b[1;33m\u001b[0m\u001b[1;33m\u001b[0m\u001b[0m\n\u001b[0;32m    788\u001b[0m                 \u001b[0mioargs\u001b[0m\u001b[1;33m.\u001b[0m\u001b[0mmode\u001b[0m\u001b[1;33m,\u001b[0m\u001b[1;33m\u001b[0m\u001b[1;33m\u001b[0m\u001b[0m\n",
      "\u001b[1;31mFileNotFoundError\u001b[0m: [Errno 2] No such file or directory: 'rawdata/produce_live_animal.csv'"
     ]
    }
   ],
   "source": [
    "# Read in the raw live animal produce data data file\n",
    "produce = pd.read_csv('rawdata/produce_live_animal.csv', on_bad_lines='skip')\n",
    "df=produce\n",
    "df.head()"
   ]
  },
  {
   "cell_type": "code",
   "execution_count": 68,
   "metadata": {
    "scrolled": true
   },
   "outputs": [
    {
     "ename": "KeyError",
     "evalue": "'Stocks'",
     "output_type": "error",
     "traceback": [
      "\u001b[1;31m---------------------------------------------------------------------------\u001b[0m",
      "\u001b[1;31mKeyError\u001b[0m                                  Traceback (most recent call last)",
      "\u001b[1;32m~\\AppData\\Local\\Temp\\ipykernel_7340\\377927380.py\u001b[0m in \u001b[0;36m<module>\u001b[1;34m\u001b[0m\n\u001b[0;32m      4\u001b[0m \u001b[0mgrouped_df\u001b[0m \u001b[1;33m=\u001b[0m \u001b[0mdf\u001b[0m\u001b[1;33m.\u001b[0m\u001b[0mgroupby\u001b[0m\u001b[1;33m(\u001b[0m\u001b[1;34m'Element'\u001b[0m\u001b[1;33m)\u001b[0m\u001b[1;33m\u001b[0m\u001b[1;33m\u001b[0m\u001b[0m\n\u001b[0;32m      5\u001b[0m \u001b[0mproduction\u001b[0m \u001b[1;33m=\u001b[0m \u001b[0mgrouped_df\u001b[0m\u001b[1;33m.\u001b[0m\u001b[0mget_group\u001b[0m\u001b[1;33m(\u001b[0m\u001b[1;34m'Production'\u001b[0m\u001b[1;33m)\u001b[0m\u001b[1;33m\u001b[0m\u001b[1;33m\u001b[0m\u001b[0m\n\u001b[1;32m----> 6\u001b[1;33m \u001b[0mstocks\u001b[0m \u001b[1;33m=\u001b[0m \u001b[0mgrouped_df\u001b[0m\u001b[1;33m.\u001b[0m\u001b[0mget_group\u001b[0m\u001b[1;33m(\u001b[0m\u001b[1;34m'Stocks'\u001b[0m\u001b[1;33m)\u001b[0m\u001b[1;33m\u001b[0m\u001b[1;33m\u001b[0m\u001b[0m\n\u001b[0m\u001b[0;32m      7\u001b[0m \u001b[0mproduction\u001b[0m\u001b[1;33m.\u001b[0m\u001b[0mto_csv\u001b[0m\u001b[1;33m(\u001b[0m\u001b[1;34m'engineered_data/production.csv'\u001b[0m\u001b[1;33m,\u001b[0m \u001b[0mindex\u001b[0m\u001b[1;33m=\u001b[0m\u001b[1;32mFalse\u001b[0m\u001b[1;33m)\u001b[0m\u001b[1;33m\u001b[0m\u001b[1;33m\u001b[0m\u001b[0m\n\u001b[0;32m      8\u001b[0m \u001b[0mstocks\u001b[0m\u001b[1;33m.\u001b[0m\u001b[0mto_csv\u001b[0m\u001b[1;33m(\u001b[0m\u001b[1;34m'engineered_data/stocks.csv'\u001b[0m\u001b[1;33m,\u001b[0m \u001b[0mindex\u001b[0m\u001b[1;33m=\u001b[0m\u001b[1;32mFalse\u001b[0m\u001b[1;33m)\u001b[0m\u001b[1;33m\u001b[0m\u001b[1;33m\u001b[0m\u001b[0m\n",
      "\u001b[1;32m~\\anaconda3\\lib\\site-packages\\pandas\\core\\groupby\\groupby.py\u001b[0m in \u001b[0;36mget_group\u001b[1;34m(self, name, obj)\u001b[0m\n\u001b[0;32m    745\u001b[0m         \u001b[0minds\u001b[0m \u001b[1;33m=\u001b[0m \u001b[0mself\u001b[0m\u001b[1;33m.\u001b[0m\u001b[0m_get_index\u001b[0m\u001b[1;33m(\u001b[0m\u001b[0mname\u001b[0m\u001b[1;33m)\u001b[0m\u001b[1;33m\u001b[0m\u001b[1;33m\u001b[0m\u001b[0m\n\u001b[0;32m    746\u001b[0m         \u001b[1;32mif\u001b[0m \u001b[1;32mnot\u001b[0m \u001b[0mlen\u001b[0m\u001b[1;33m(\u001b[0m\u001b[0minds\u001b[0m\u001b[1;33m)\u001b[0m\u001b[1;33m:\u001b[0m\u001b[1;33m\u001b[0m\u001b[1;33m\u001b[0m\u001b[0m\n\u001b[1;32m--> 747\u001b[1;33m             \u001b[1;32mraise\u001b[0m \u001b[0mKeyError\u001b[0m\u001b[1;33m(\u001b[0m\u001b[0mname\u001b[0m\u001b[1;33m)\u001b[0m\u001b[1;33m\u001b[0m\u001b[1;33m\u001b[0m\u001b[0m\n\u001b[0m\u001b[0;32m    748\u001b[0m \u001b[1;33m\u001b[0m\u001b[0m\n\u001b[0;32m    749\u001b[0m         \u001b[1;32mreturn\u001b[0m \u001b[0mobj\u001b[0m\u001b[1;33m.\u001b[0m\u001b[0m_take_with_is_copy\u001b[0m\u001b[1;33m(\u001b[0m\u001b[0minds\u001b[0m\u001b[1;33m,\u001b[0m \u001b[0maxis\u001b[0m\u001b[1;33m=\u001b[0m\u001b[0mself\u001b[0m\u001b[1;33m.\u001b[0m\u001b[0maxis\u001b[0m\u001b[1;33m)\u001b[0m\u001b[1;33m\u001b[0m\u001b[1;33m\u001b[0m\u001b[0m\n",
      "\u001b[1;31mKeyError\u001b[0m: 'Stocks'"
     ]
    }
   ],
   "source": [
    "\n",
    "grouped_df = df.groupby('Element')\n",
    "production = grouped_df.get_group('Production')\n",
    "stocks = grouped_df.get_group('Stocks')\n",
    "production.to_csv('engineered_data/production.csv', index=False)\n",
    "stocks.to_csv('engineered_data/stocks.csv', index=False)\n"
   ]
  },
  {
   "cell_type": "code",
   "execution_count": 69,
   "metadata": {},
   "outputs": [
    {
     "data": {
      "text/html": [
       "<div>\n",
       "<style scoped>\n",
       "    .dataframe tbody tr th:only-of-type {\n",
       "        vertical-align: middle;\n",
       "    }\n",
       "\n",
       "    .dataframe tbody tr th {\n",
       "        vertical-align: top;\n",
       "    }\n",
       "\n",
       "    .dataframe thead th {\n",
       "        text-align: right;\n",
       "    }\n",
       "</style>\n",
       "<table border=\"1\" class=\"dataframe\">\n",
       "  <thead>\n",
       "    <tr style=\"text-align: right;\">\n",
       "      <th></th>\n",
       "      <th>Domain Code</th>\n",
       "      <th>Domain</th>\n",
       "      <th>Area Code (M49)</th>\n",
       "      <th>Area</th>\n",
       "      <th>Element Code</th>\n",
       "      <th>Element</th>\n",
       "      <th>Item Code (CPC)</th>\n",
       "      <th>Item</th>\n",
       "      <th>Year Code</th>\n",
       "      <th>Year</th>\n",
       "      <th>Unit</th>\n",
       "      <th>Value</th>\n",
       "      <th>Flag</th>\n",
       "      <th>Flag Description</th>\n",
       "    </tr>\n",
       "  </thead>\n",
       "  <tbody>\n",
       "    <tr>\n",
       "      <th>1525</th>\n",
       "      <td>QCL</td>\n",
       "      <td>Crops and livestock products</td>\n",
       "      <td>40</td>\n",
       "      <td>Austria</td>\n",
       "      <td>5510</td>\n",
       "      <td>Production</td>\n",
       "      <td>21111.01</td>\n",
       "      <td>Meat of cattle with the bone, fresh or chilled</td>\n",
       "      <td>1961</td>\n",
       "      <td>1961</td>\n",
       "      <td>tonnes</td>\n",
       "      <td>125581.0</td>\n",
       "      <td>A</td>\n",
       "      <td>Official figure</td>\n",
       "    </tr>\n",
       "    <tr>\n",
       "      <th>1526</th>\n",
       "      <td>QCL</td>\n",
       "      <td>Crops and livestock products</td>\n",
       "      <td>40</td>\n",
       "      <td>Austria</td>\n",
       "      <td>5510</td>\n",
       "      <td>Production</td>\n",
       "      <td>21111.01</td>\n",
       "      <td>Meat of cattle with the bone, fresh or chilled</td>\n",
       "      <td>1962</td>\n",
       "      <td>1962</td>\n",
       "      <td>tonnes</td>\n",
       "      <td>140546.0</td>\n",
       "      <td>A</td>\n",
       "      <td>Official figure</td>\n",
       "    </tr>\n",
       "  </tbody>\n",
       "</table>\n",
       "</div>"
      ],
      "text/plain": [
       "     Domain Code                        Domain  Area Code (M49)     Area  \\\n",
       "1525         QCL  Crops and livestock products               40  Austria   \n",
       "1526         QCL  Crops and livestock products               40  Austria   \n",
       "\n",
       "      Element Code     Element  Item Code (CPC)  \\\n",
       "1525          5510  Production         21111.01   \n",
       "1526          5510  Production         21111.01   \n",
       "\n",
       "                                                Item  Year Code  Year    Unit  \\\n",
       "1525  Meat of cattle with the bone, fresh or chilled       1961  1961  tonnes   \n",
       "1526  Meat of cattle with the bone, fresh or chilled       1962  1962  tonnes   \n",
       "\n",
       "         Value Flag Flag Description  \n",
       "1525  125581.0    A  Official figure  \n",
       "1526  140546.0    A  Official figure  "
      ]
     },
     "execution_count": 69,
     "metadata": {},
     "output_type": "execute_result"
    }
   ],
   "source": [
    "production.head(2)"
   ]
  },
  {
   "cell_type": "code",
   "execution_count": 70,
   "metadata": {},
   "outputs": [
    {
     "ename": "NameError",
     "evalue": "name 'stocks' is not defined",
     "output_type": "error",
     "traceback": [
      "\u001b[1;31m---------------------------------------------------------------------------\u001b[0m",
      "\u001b[1;31mNameError\u001b[0m                                 Traceback (most recent call last)",
      "\u001b[1;32m~\\AppData\\Local\\Temp\\ipykernel_7340\\419640788.py\u001b[0m in \u001b[0;36m<module>\u001b[1;34m\u001b[0m\n\u001b[1;32m----> 1\u001b[1;33m \u001b[0mstocks\u001b[0m\u001b[1;33m.\u001b[0m\u001b[0msample\u001b[0m\u001b[1;33m(\u001b[0m\u001b[1;36m2\u001b[0m\u001b[1;33m)\u001b[0m\u001b[1;33m\u001b[0m\u001b[1;33m\u001b[0m\u001b[0m\n\u001b[0m",
      "\u001b[1;31mNameError\u001b[0m: name 'stocks' is not defined"
     ]
    }
   ],
   "source": [
    "stocks.sample(2)"
   ]
  },
  {
   "cell_type": "code",
   "execution_count": 71,
   "metadata": {},
   "outputs": [
    {
     "name": "stdout",
     "output_type": "stream",
     "text": [
      "Directory not found\n"
     ]
    }
   ],
   "source": [
    "scan('engineered_data')"
   ]
  },
  {
   "cell_type": "markdown",
   "metadata": {},
   "source": [
    "### the query() method EU filter\n",
    "The stocks df is filterd to include only the rows where the 'Area' column  is in \n",
    "the EUROPEAN_UNION.names list of 27 countries.\n",
    "\n",
    "The query string \"Area in @EUROPEAN_UNION.names\" is passed to the query() method.\n",
    "If the 'Area' value is in EUROPEAN_UNION.names list it is kep and otherwise it is dropped.\n",
    "\n",
    "The result of the filtering is stored as a new df called main\n"
   ]
  },
  {
   "cell_type": "code",
   "execution_count": 72,
   "metadata": {},
   "outputs": [
    {
     "ename": "NameError",
     "evalue": "name 'stocks' is not defined",
     "output_type": "error",
     "traceback": [
      "\u001b[1;31m---------------------------------------------------------------------------\u001b[0m",
      "\u001b[1;31mNameError\u001b[0m                                 Traceback (most recent call last)",
      "\u001b[1;32m~\\AppData\\Local\\Temp\\ipykernel_7340\\1630912230.py\u001b[0m in \u001b[0;36m<module>\u001b[1;34m\u001b[0m\n\u001b[1;32m----> 1\u001b[1;33m \u001b[0mdf\u001b[0m \u001b[1;33m=\u001b[0m \u001b[0mstocks\u001b[0m\u001b[1;33m.\u001b[0m\u001b[0mquery\u001b[0m\u001b[1;33m(\u001b[0m\u001b[1;34m\"Area in @EUROPEAN_UNION.names\"\u001b[0m\u001b[1;33m)\u001b[0m\u001b[1;33m\u001b[0m\u001b[1;33m\u001b[0m\u001b[0m\n\u001b[0m",
      "\u001b[1;31mNameError\u001b[0m: name 'stocks' is not defined"
     ]
    }
   ],
   "source": [
    "df = stocks.query(\"Area in @EUROPEAN_UNION.names\")"
   ]
  },
  {
   "cell_type": "code",
   "execution_count": 73,
   "metadata": {
    "scrolled": true
   },
   "outputs": [
    {
     "data": {
      "text/plain": [
       "['Austria',\n",
       " 'Belgium',\n",
       " 'Bulgaria',\n",
       " 'Croatia',\n",
       " 'Cyprus',\n",
       " 'Czechia',\n",
       " 'Denmark',\n",
       " 'Estonia',\n",
       " 'Finland',\n",
       " 'France',\n",
       " 'Germany',\n",
       " 'Greece',\n",
       " 'Hungary',\n",
       " 'Ireland',\n",
       " 'Italy',\n",
       " 'Latvia',\n",
       " 'Lithuania',\n",
       " 'Luxembourg',\n",
       " 'Malta',\n",
       " 'Netherlands',\n",
       " 'Poland',\n",
       " 'Portugal',\n",
       " 'Romania',\n",
       " 'Slovakia',\n",
       " 'Slovenia',\n",
       " 'Spain',\n",
       " 'Sweden']"
      ]
     },
     "execution_count": 73,
     "metadata": {},
     "output_type": "execute_result"
    }
   ],
   "source": [
    "\n",
    "# Generate a list of European Union countries for the eu function\n",
    "country_list = df['Area'].unique().tolist()\n",
    "country_list"
   ]
  },
  {
   "cell_type": "markdown",
   "metadata": {},
   "source": [
    "\n",
    "### Mergable Key Using Concatenate and Astype() Method \n",
    "This code adds a new column called 'key' to the pandas DataFrame main. The values in the new column are calculated by concatenating the values in the 'Area' column and the 'Year' column, after converting the 'Year' column to a string using the astype() method."
   ]
  },
  {
   "cell_type": "code",
   "execution_count": 74,
   "metadata": {
    "scrolled": false
   },
   "outputs": [
    {
     "data": {
      "text/html": [
       "<div>\n",
       "<style scoped>\n",
       "    .dataframe tbody tr th:only-of-type {\n",
       "        vertical-align: middle;\n",
       "    }\n",
       "\n",
       "    .dataframe tbody tr th {\n",
       "        vertical-align: top;\n",
       "    }\n",
       "\n",
       "    .dataframe thead th {\n",
       "        text-align: right;\n",
       "    }\n",
       "</style>\n",
       "<table border=\"1\" class=\"dataframe\">\n",
       "  <thead>\n",
       "    <tr style=\"text-align: right;\">\n",
       "      <th></th>\n",
       "      <th>Domain Code</th>\n",
       "      <th>Domain</th>\n",
       "      <th>Area Code (M49)</th>\n",
       "      <th>Area</th>\n",
       "      <th>Element Code</th>\n",
       "      <th>Element</th>\n",
       "      <th>Item Code (CPC)</th>\n",
       "      <th>Item</th>\n",
       "      <th>Year Code</th>\n",
       "      <th>Year</th>\n",
       "      <th>Unit</th>\n",
       "      <th>Value</th>\n",
       "      <th>Flag</th>\n",
       "      <th>Flag Description</th>\n",
       "      <th>key</th>\n",
       "    </tr>\n",
       "  </thead>\n",
       "  <tbody>\n",
       "    <tr>\n",
       "      <th>1464</th>\n",
       "      <td>QCL</td>\n",
       "      <td>Crops and livestock products</td>\n",
       "      <td>40</td>\n",
       "      <td>Austria</td>\n",
       "      <td>5417</td>\n",
       "      <td>Yield/Carcass Weight</td>\n",
       "      <td>21111.01</td>\n",
       "      <td>Meat of cattle with the bone, fresh or chilled</td>\n",
       "      <td>1961</td>\n",
       "      <td>1961</td>\n",
       "      <td>hg/An</td>\n",
       "      <td>1501.0</td>\n",
       "      <td>E</td>\n",
       "      <td>Estimated value</td>\n",
       "      <td>Austria1961</td>\n",
       "    </tr>\n",
       "    <tr>\n",
       "      <th>1465</th>\n",
       "      <td>QCL</td>\n",
       "      <td>Crops and livestock products</td>\n",
       "      <td>40</td>\n",
       "      <td>Austria</td>\n",
       "      <td>5417</td>\n",
       "      <td>Yield/Carcass Weight</td>\n",
       "      <td>21111.01</td>\n",
       "      <td>Meat of cattle with the bone, fresh or chilled</td>\n",
       "      <td>1962</td>\n",
       "      <td>1962</td>\n",
       "      <td>hg/An</td>\n",
       "      <td>1510.0</td>\n",
       "      <td>E</td>\n",
       "      <td>Estimated value</td>\n",
       "      <td>Austria1962</td>\n",
       "    </tr>\n",
       "    <tr>\n",
       "      <th>1466</th>\n",
       "      <td>QCL</td>\n",
       "      <td>Crops and livestock products</td>\n",
       "      <td>40</td>\n",
       "      <td>Austria</td>\n",
       "      <td>5417</td>\n",
       "      <td>Yield/Carcass Weight</td>\n",
       "      <td>21111.01</td>\n",
       "      <td>Meat of cattle with the bone, fresh or chilled</td>\n",
       "      <td>1963</td>\n",
       "      <td>1963</td>\n",
       "      <td>hg/An</td>\n",
       "      <td>1497.0</td>\n",
       "      <td>E</td>\n",
       "      <td>Estimated value</td>\n",
       "      <td>Austria1963</td>\n",
       "    </tr>\n",
       "    <tr>\n",
       "      <th>1467</th>\n",
       "      <td>QCL</td>\n",
       "      <td>Crops and livestock products</td>\n",
       "      <td>40</td>\n",
       "      <td>Austria</td>\n",
       "      <td>5417</td>\n",
       "      <td>Yield/Carcass Weight</td>\n",
       "      <td>21111.01</td>\n",
       "      <td>Meat of cattle with the bone, fresh or chilled</td>\n",
       "      <td>1964</td>\n",
       "      <td>1964</td>\n",
       "      <td>hg/An</td>\n",
       "      <td>1564.0</td>\n",
       "      <td>E</td>\n",
       "      <td>Estimated value</td>\n",
       "      <td>Austria1964</td>\n",
       "    </tr>\n",
       "    <tr>\n",
       "      <th>1468</th>\n",
       "      <td>QCL</td>\n",
       "      <td>Crops and livestock products</td>\n",
       "      <td>40</td>\n",
       "      <td>Austria</td>\n",
       "      <td>5417</td>\n",
       "      <td>Yield/Carcass Weight</td>\n",
       "      <td>21111.01</td>\n",
       "      <td>Meat of cattle with the bone, fresh or chilled</td>\n",
       "      <td>1965</td>\n",
       "      <td>1965</td>\n",
       "      <td>hg/An</td>\n",
       "      <td>1658.0</td>\n",
       "      <td>E</td>\n",
       "      <td>Estimated value</td>\n",
       "      <td>Austria1965</td>\n",
       "    </tr>\n",
       "  </tbody>\n",
       "</table>\n",
       "</div>"
      ],
      "text/plain": [
       "     Domain Code                        Domain  Area Code (M49)     Area  \\\n",
       "1464         QCL  Crops and livestock products               40  Austria   \n",
       "1465         QCL  Crops and livestock products               40  Austria   \n",
       "1466         QCL  Crops and livestock products               40  Austria   \n",
       "1467         QCL  Crops and livestock products               40  Austria   \n",
       "1468         QCL  Crops and livestock products               40  Austria   \n",
       "\n",
       "      Element Code               Element  Item Code (CPC)  \\\n",
       "1464          5417  Yield/Carcass Weight         21111.01   \n",
       "1465          5417  Yield/Carcass Weight         21111.01   \n",
       "1466          5417  Yield/Carcass Weight         21111.01   \n",
       "1467          5417  Yield/Carcass Weight         21111.01   \n",
       "1468          5417  Yield/Carcass Weight         21111.01   \n",
       "\n",
       "                                                Item  Year Code  Year   Unit  \\\n",
       "1464  Meat of cattle with the bone, fresh or chilled       1961  1961  hg/An   \n",
       "1465  Meat of cattle with the bone, fresh or chilled       1962  1962  hg/An   \n",
       "1466  Meat of cattle with the bone, fresh or chilled       1963  1963  hg/An   \n",
       "1467  Meat of cattle with the bone, fresh or chilled       1964  1964  hg/An   \n",
       "1468  Meat of cattle with the bone, fresh or chilled       1965  1965  hg/An   \n",
       "\n",
       "       Value Flag Flag Description          key  \n",
       "1464  1501.0    E  Estimated value  Austria1961  \n",
       "1465  1510.0    E  Estimated value  Austria1962  \n",
       "1466  1497.0    E  Estimated value  Austria1963  \n",
       "1467  1564.0    E  Estimated value  Austria1964  \n",
       "1468  1658.0    E  Estimated value  Austria1965  "
      ]
     },
     "execution_count": 74,
     "metadata": {},
     "output_type": "execute_result"
    }
   ],
   "source": [
    "\n",
    "df['key'] = df['Area'] + df['Year'].astype(str) \n",
    "\n",
    "df.head()"
   ]
  },
  {
   "cell_type": "code",
   "execution_count": 75,
   "metadata": {},
   "outputs": [
    {
     "data": {
      "text/html": [
       "<div>\n",
       "<style scoped>\n",
       "    .dataframe tbody tr th:only-of-type {\n",
       "        vertical-align: middle;\n",
       "    }\n",
       "\n",
       "    .dataframe tbody tr th {\n",
       "        vertical-align: top;\n",
       "    }\n",
       "\n",
       "    .dataframe thead th {\n",
       "        text-align: right;\n",
       "    }\n",
       "</style>\n",
       "<table border=\"1\" class=\"dataframe\">\n",
       "  <thead>\n",
       "    <tr style=\"text-align: right;\">\n",
       "      <th></th>\n",
       "      <th>Area</th>\n",
       "      <th>Year</th>\n",
       "      <th>Value</th>\n",
       "      <th>key</th>\n",
       "    </tr>\n",
       "  </thead>\n",
       "  <tbody>\n",
       "    <tr>\n",
       "      <th>1464</th>\n",
       "      <td>Austria</td>\n",
       "      <td>1961</td>\n",
       "      <td>1501.0</td>\n",
       "      <td>Austria1961</td>\n",
       "    </tr>\n",
       "    <tr>\n",
       "      <th>1465</th>\n",
       "      <td>Austria</td>\n",
       "      <td>1962</td>\n",
       "      <td>1510.0</td>\n",
       "      <td>Austria1962</td>\n",
       "    </tr>\n",
       "    <tr>\n",
       "      <th>1466</th>\n",
       "      <td>Austria</td>\n",
       "      <td>1963</td>\n",
       "      <td>1497.0</td>\n",
       "      <td>Austria1963</td>\n",
       "    </tr>\n",
       "    <tr>\n",
       "      <th>1467</th>\n",
       "      <td>Austria</td>\n",
       "      <td>1964</td>\n",
       "      <td>1564.0</td>\n",
       "      <td>Austria1964</td>\n",
       "    </tr>\n",
       "    <tr>\n",
       "      <th>1468</th>\n",
       "      <td>Austria</td>\n",
       "      <td>1965</td>\n",
       "      <td>1658.0</td>\n",
       "      <td>Austria1965</td>\n",
       "    </tr>\n",
       "  </tbody>\n",
       "</table>\n",
       "</div>"
      ],
      "text/plain": [
       "         Area  Year   Value          key\n",
       "1464  Austria  1961  1501.0  Austria1961\n",
       "1465  Austria  1962  1510.0  Austria1962\n",
       "1466  Austria  1963  1497.0  Austria1963\n",
       "1467  Austria  1964  1564.0  Austria1964\n",
       "1468  Austria  1965  1658.0  Austria1965"
      ]
     },
     "execution_count": 75,
     "metadata": {},
     "output_type": "execute_result"
    }
   ],
   "source": [
    "\n",
    "\n",
    "# Select only the 'Area', 'Year', 'Value', and 'key' columns\n",
    "df = df.loc[:, ['Area', 'Year', 'Value', 'key']]\n",
    "df\n",
    "main=df\n",
    "main.head()"
   ]
  },
  {
   "cell_type": "code",
   "execution_count": 76,
   "metadata": {},
   "outputs": [
    {
     "ename": "NameError",
     "evalue": "name 'stocks' is not defined",
     "output_type": "error",
     "traceback": [
      "\u001b[1;31m---------------------------------------------------------------------------\u001b[0m",
      "\u001b[1;31mNameError\u001b[0m                                 Traceback (most recent call last)",
      "\u001b[1;32m~\\AppData\\Local\\Temp\\ipykernel_7340\\2239157855.py\u001b[0m in \u001b[0;36m<module>\u001b[1;34m\u001b[0m\n\u001b[1;32m----> 1\u001b[1;33m \u001b[0mdf\u001b[0m\u001b[1;33m=\u001b[0m\u001b[0mstocks\u001b[0m\u001b[1;33m\u001b[0m\u001b[1;33m\u001b[0m\u001b[0m\n\u001b[0m\u001b[0;32m      2\u001b[0m \u001b[0mdf\u001b[0m\u001b[1;33m.\u001b[0m\u001b[0mhead\u001b[0m\u001b[1;33m(\u001b[0m\u001b[1;33m)\u001b[0m\u001b[1;33m\u001b[0m\u001b[1;33m\u001b[0m\u001b[0m\n",
      "\u001b[1;31mNameError\u001b[0m: name 'stocks' is not defined"
     ]
    }
   ],
   "source": [
    "df=stocks\n",
    "df.head()"
   ]
  },
  {
   "cell_type": "code",
   "execution_count": 77,
   "metadata": {},
   "outputs": [
    {
     "data": {
      "text/html": [
       "<div>\n",
       "<style scoped>\n",
       "    .dataframe tbody tr th:only-of-type {\n",
       "        vertical-align: middle;\n",
       "    }\n",
       "\n",
       "    .dataframe tbody tr th {\n",
       "        vertical-align: top;\n",
       "    }\n",
       "\n",
       "    .dataframe thead th {\n",
       "        text-align: right;\n",
       "    }\n",
       "</style>\n",
       "<table border=\"1\" class=\"dataframe\">\n",
       "  <thead>\n",
       "    <tr style=\"text-align: right;\">\n",
       "      <th></th>\n",
       "      <th>Area</th>\n",
       "      <th>Year</th>\n",
       "      <th>Value</th>\n",
       "      <th>key</th>\n",
       "    </tr>\n",
       "  </thead>\n",
       "  <tbody>\n",
       "    <tr>\n",
       "      <th>1464</th>\n",
       "      <td>Austria</td>\n",
       "      <td>1961</td>\n",
       "      <td>1501.0</td>\n",
       "      <td>Austria1961</td>\n",
       "    </tr>\n",
       "    <tr>\n",
       "      <th>1465</th>\n",
       "      <td>Austria</td>\n",
       "      <td>1962</td>\n",
       "      <td>1510.0</td>\n",
       "      <td>Austria1962</td>\n",
       "    </tr>\n",
       "    <tr>\n",
       "      <th>1466</th>\n",
       "      <td>Austria</td>\n",
       "      <td>1963</td>\n",
       "      <td>1497.0</td>\n",
       "      <td>Austria1963</td>\n",
       "    </tr>\n",
       "    <tr>\n",
       "      <th>1467</th>\n",
       "      <td>Austria</td>\n",
       "      <td>1964</td>\n",
       "      <td>1564.0</td>\n",
       "      <td>Austria1964</td>\n",
       "    </tr>\n",
       "    <tr>\n",
       "      <th>1468</th>\n",
       "      <td>Austria</td>\n",
       "      <td>1965</td>\n",
       "      <td>1658.0</td>\n",
       "      <td>Austria1965</td>\n",
       "    </tr>\n",
       "  </tbody>\n",
       "</table>\n",
       "</div>"
      ],
      "text/plain": [
       "         Area  Year   Value          key\n",
       "1464  Austria  1961  1501.0  Austria1961\n",
       "1465  Austria  1962  1510.0  Austria1962\n",
       "1466  Austria  1963  1497.0  Austria1963\n",
       "1467  Austria  1964  1564.0  Austria1964\n",
       "1468  Austria  1965  1658.0  Austria1965"
      ]
     },
     "execution_count": 77,
     "metadata": {},
     "output_type": "execute_result"
    }
   ],
   "source": [
    "\n",
    "\n",
    "\n",
    "\n",
    "# Filter the DataFrame to include only European Union countries\n",
    "df = eu(df)\n",
    "\n",
    "# Add a new 'key' column to the DataFrame\n",
    "key(df)\n",
    "df.head()"
   ]
  },
  {
   "cell_type": "code",
   "execution_count": 78,
   "metadata": {
    "scrolled": true
   },
   "outputs": [
    {
     "ename": "KeyError",
     "evalue": "'Element'",
     "output_type": "error",
     "traceback": [
      "\u001b[1;31m---------------------------------------------------------------------------\u001b[0m",
      "\u001b[1;31mKeyError\u001b[0m                                  Traceback (most recent call last)",
      "\u001b[1;32m~\\anaconda3\\lib\\site-packages\\pandas\\core\\indexes\\base.py\u001b[0m in \u001b[0;36mget_loc\u001b[1;34m(self, key, method, tolerance)\u001b[0m\n\u001b[0;32m   3628\u001b[0m             \u001b[1;32mtry\u001b[0m\u001b[1;33m:\u001b[0m\u001b[1;33m\u001b[0m\u001b[1;33m\u001b[0m\u001b[0m\n\u001b[1;32m-> 3629\u001b[1;33m                 \u001b[1;32mreturn\u001b[0m \u001b[0mself\u001b[0m\u001b[1;33m.\u001b[0m\u001b[0m_engine\u001b[0m\u001b[1;33m.\u001b[0m\u001b[0mget_loc\u001b[0m\u001b[1;33m(\u001b[0m\u001b[0mcasted_key\u001b[0m\u001b[1;33m)\u001b[0m\u001b[1;33m\u001b[0m\u001b[1;33m\u001b[0m\u001b[0m\n\u001b[0m\u001b[0;32m   3630\u001b[0m             \u001b[1;32mexcept\u001b[0m \u001b[0mKeyError\u001b[0m \u001b[1;32mas\u001b[0m \u001b[0merr\u001b[0m\u001b[1;33m:\u001b[0m\u001b[1;33m\u001b[0m\u001b[1;33m\u001b[0m\u001b[0m\n",
      "\u001b[1;32m~\\anaconda3\\lib\\site-packages\\pandas\\_libs\\index.pyx\u001b[0m in \u001b[0;36mpandas._libs.index.IndexEngine.get_loc\u001b[1;34m()\u001b[0m\n",
      "\u001b[1;32m~\\anaconda3\\lib\\site-packages\\pandas\\_libs\\index.pyx\u001b[0m in \u001b[0;36mpandas._libs.index.IndexEngine.get_loc\u001b[1;34m()\u001b[0m\n",
      "\u001b[1;32mpandas\\_libs\\hashtable_class_helper.pxi\u001b[0m in \u001b[0;36mpandas._libs.hashtable.PyObjectHashTable.get_item\u001b[1;34m()\u001b[0m\n",
      "\u001b[1;32mpandas\\_libs\\hashtable_class_helper.pxi\u001b[0m in \u001b[0;36mpandas._libs.hashtable.PyObjectHashTable.get_item\u001b[1;34m()\u001b[0m\n",
      "\u001b[1;31mKeyError\u001b[0m: 'Element'",
      "\nThe above exception was the direct cause of the following exception:\n",
      "\u001b[1;31mKeyError\u001b[0m                                  Traceback (most recent call last)",
      "\u001b[1;32m~\\AppData\\Local\\Temp\\ipykernel_7340\\2069100837.py\u001b[0m in \u001b[0;36m<module>\u001b[1;34m\u001b[0m\n\u001b[0;32m      1\u001b[0m \u001b[1;31m# Extract the value from the 'Element' column\u001b[0m\u001b[1;33m\u001b[0m\u001b[1;33m\u001b[0m\u001b[0m\n\u001b[1;32m----> 2\u001b[1;33m \u001b[0melement_value\u001b[0m \u001b[1;33m=\u001b[0m \u001b[0mdf\u001b[0m\u001b[1;33m[\u001b[0m\u001b[1;34m'Element'\u001b[0m\u001b[1;33m]\u001b[0m\u001b[1;33m.\u001b[0m\u001b[0miloc\u001b[0m\u001b[1;33m[\u001b[0m\u001b[1;36m0\u001b[0m\u001b[1;33m]\u001b[0m\u001b[1;33m\u001b[0m\u001b[1;33m\u001b[0m\u001b[0m\n\u001b[0m\u001b[0;32m      3\u001b[0m \u001b[1;33m\u001b[0m\u001b[0m\n\u001b[0;32m      4\u001b[0m \u001b[1;31m# Rename the 'Value' column to the value in the 'Element' column\u001b[0m\u001b[1;33m\u001b[0m\u001b[1;33m\u001b[0m\u001b[0m\n\u001b[0;32m      5\u001b[0m \u001b[0mdf\u001b[0m \u001b[1;33m=\u001b[0m \u001b[0mdf\u001b[0m\u001b[1;33m.\u001b[0m\u001b[0mset_axis\u001b[0m\u001b[1;33m(\u001b[0m\u001b[1;33m[\u001b[0m\u001b[0mcol\u001b[0m \u001b[1;32mif\u001b[0m \u001b[0mcol\u001b[0m \u001b[1;33m!=\u001b[0m \u001b[1;34m'Value'\u001b[0m \u001b[1;32melse\u001b[0m \u001b[0melement_value\u001b[0m \u001b[1;32mfor\u001b[0m \u001b[0mcol\u001b[0m \u001b[1;32min\u001b[0m \u001b[0mdf\u001b[0m\u001b[1;33m.\u001b[0m\u001b[0mcolumns\u001b[0m\u001b[1;33m]\u001b[0m\u001b[1;33m,\u001b[0m \u001b[0maxis\u001b[0m\u001b[1;33m=\u001b[0m\u001b[1;36m1\u001b[0m\u001b[1;33m)\u001b[0m\u001b[1;33m\u001b[0m\u001b[1;33m\u001b[0m\u001b[0m\n",
      "\u001b[1;32m~\\anaconda3\\lib\\site-packages\\pandas\\core\\frame.py\u001b[0m in \u001b[0;36m__getitem__\u001b[1;34m(self, key)\u001b[0m\n\u001b[0;32m   3503\u001b[0m             \u001b[1;32mif\u001b[0m \u001b[0mself\u001b[0m\u001b[1;33m.\u001b[0m\u001b[0mcolumns\u001b[0m\u001b[1;33m.\u001b[0m\u001b[0mnlevels\u001b[0m \u001b[1;33m>\u001b[0m \u001b[1;36m1\u001b[0m\u001b[1;33m:\u001b[0m\u001b[1;33m\u001b[0m\u001b[1;33m\u001b[0m\u001b[0m\n\u001b[0;32m   3504\u001b[0m                 \u001b[1;32mreturn\u001b[0m \u001b[0mself\u001b[0m\u001b[1;33m.\u001b[0m\u001b[0m_getitem_multilevel\u001b[0m\u001b[1;33m(\u001b[0m\u001b[0mkey\u001b[0m\u001b[1;33m)\u001b[0m\u001b[1;33m\u001b[0m\u001b[1;33m\u001b[0m\u001b[0m\n\u001b[1;32m-> 3505\u001b[1;33m             \u001b[0mindexer\u001b[0m \u001b[1;33m=\u001b[0m \u001b[0mself\u001b[0m\u001b[1;33m.\u001b[0m\u001b[0mcolumns\u001b[0m\u001b[1;33m.\u001b[0m\u001b[0mget_loc\u001b[0m\u001b[1;33m(\u001b[0m\u001b[0mkey\u001b[0m\u001b[1;33m)\u001b[0m\u001b[1;33m\u001b[0m\u001b[1;33m\u001b[0m\u001b[0m\n\u001b[0m\u001b[0;32m   3506\u001b[0m             \u001b[1;32mif\u001b[0m \u001b[0mis_integer\u001b[0m\u001b[1;33m(\u001b[0m\u001b[0mindexer\u001b[0m\u001b[1;33m)\u001b[0m\u001b[1;33m:\u001b[0m\u001b[1;33m\u001b[0m\u001b[1;33m\u001b[0m\u001b[0m\n\u001b[0;32m   3507\u001b[0m                 \u001b[0mindexer\u001b[0m \u001b[1;33m=\u001b[0m \u001b[1;33m[\u001b[0m\u001b[0mindexer\u001b[0m\u001b[1;33m]\u001b[0m\u001b[1;33m\u001b[0m\u001b[1;33m\u001b[0m\u001b[0m\n",
      "\u001b[1;32m~\\anaconda3\\lib\\site-packages\\pandas\\core\\indexes\\base.py\u001b[0m in \u001b[0;36mget_loc\u001b[1;34m(self, key, method, tolerance)\u001b[0m\n\u001b[0;32m   3629\u001b[0m                 \u001b[1;32mreturn\u001b[0m \u001b[0mself\u001b[0m\u001b[1;33m.\u001b[0m\u001b[0m_engine\u001b[0m\u001b[1;33m.\u001b[0m\u001b[0mget_loc\u001b[0m\u001b[1;33m(\u001b[0m\u001b[0mcasted_key\u001b[0m\u001b[1;33m)\u001b[0m\u001b[1;33m\u001b[0m\u001b[1;33m\u001b[0m\u001b[0m\n\u001b[0;32m   3630\u001b[0m             \u001b[1;32mexcept\u001b[0m \u001b[0mKeyError\u001b[0m \u001b[1;32mas\u001b[0m \u001b[0merr\u001b[0m\u001b[1;33m:\u001b[0m\u001b[1;33m\u001b[0m\u001b[1;33m\u001b[0m\u001b[0m\n\u001b[1;32m-> 3631\u001b[1;33m                 \u001b[1;32mraise\u001b[0m \u001b[0mKeyError\u001b[0m\u001b[1;33m(\u001b[0m\u001b[0mkey\u001b[0m\u001b[1;33m)\u001b[0m \u001b[1;32mfrom\u001b[0m \u001b[0merr\u001b[0m\u001b[1;33m\u001b[0m\u001b[1;33m\u001b[0m\u001b[0m\n\u001b[0m\u001b[0;32m   3632\u001b[0m             \u001b[1;32mexcept\u001b[0m \u001b[0mTypeError\u001b[0m\u001b[1;33m:\u001b[0m\u001b[1;33m\u001b[0m\u001b[1;33m\u001b[0m\u001b[0m\n\u001b[0;32m   3633\u001b[0m                 \u001b[1;31m# If we have a listlike key, _check_indexing_error will raise\u001b[0m\u001b[1;33m\u001b[0m\u001b[1;33m\u001b[0m\u001b[0m\n",
      "\u001b[1;31mKeyError\u001b[0m: 'Element'"
     ]
    }
   ],
   "source": [
    "\n",
    "# Extract the value from the 'Element' column\n",
    "element_value = df['Element'].iloc[0]\n",
    "\n",
    "# Rename the 'Value' column to the value in the 'Element' column\n",
    "df = df.set_axis([col if col != 'Value' else element_value for col in df.columns], axis=1)\n",
    "df.head()"
   ]
  },
  {
   "cell_type": "code",
   "execution_count": 79,
   "metadata": {},
   "outputs": [
    {
     "name": "stdout",
     "output_type": "stream",
     "text": [
      "{'__name__': '__main__', '__doc__': 'Automatically created module for IPython interactive environment', '__package__': None, '__loader__': None, '__spec__': None, '__builtin__': <module 'builtins' (built-in)>, '__builtins__': <module 'builtins' (built-in)>, '_ih': ['', 'def file_info_table(folder_path):\\n    \"\"\"\\n    Generate an HTML table with information on files in a given folder.\\n\\n    Parameters:\\n    - folder_path (str): The path to the folder containing the files.\\n\\n    Returns:\\n    - str: The HTML code for the table.\\n    \"\"\"\\n    # Get the contents of the folder\\n    try:\\n        contents = os.listdir(folder_path)\\n    except FileNotFoundError:\\n        return \"Directory not found\"\\n    except OSError:\\n        return \"Invalid folder path\"\\n\\n    # Create the table header\\n    table = \\'<table style=\"font-size:100%\"><thead><tr><th>File Name</th><th>Size</th><th>Modified Time</th></tr></thead><tbody>\\'\\n\\n    # Add a row for each file\\n    for item in contents:\\n        item_path = os.path.join(folder_path, item)\\n        if os.path.isfile(item_path):\\n            # Get the file size and modified time\\n            size = os.path.getsize(item_path)\\n            modified_time = datetime.datetime.fromtimestamp(os.path.getmtime(item_path)).strftime(\\'%Y-%m-%d %H:%M\\')\\n            # Add a row to the table\\n            table += \\'<tr><td>{}</td><td>{}</td><td>{}</td></tr>\\'.format(item, size, modified_time)\\n\\n    # Close the table\\n    table += \\'</tbody></table>\\'\\n\\n    return table\\n\\nfolder_path = \"../data/raw\"\\ntable = file_info_table(folder_path)\\nprint(table)', 'def file_info_table(folder_path):\\n    \"\"\"\\n    Generate an HTML table with information on files in a given folder.\\n\\n    Parameters:\\n    - folder_path (str): The path to the folder containing the files.\\n\\n    Returns:\\n    - str: The HTML code for the table.\\n    \"\"\"\\n    # Get the contents of the folder\\n    try:\\n        contents = os.listdir(folder_path)\\n    except FileNotFoundError:\\n        return \"Directory not found\"\\n    except OSError:\\n        return \"Invalid folder path\"\\n\\n    # Create the table header\\n    table = \\'<table style=\"font-size:100%\"><thead><tr><th>File Name</th><th>Size</th><th>Modified Time</th></tr></thead><tbody>\\'\\n\\n    # Add a row for each file\\n    for item in contents:\\n        item_path = os.path.join(folder_path, item)\\n        if os.path.isfile(item_path):\\n            # Get the file size and modified time\\n            size = os.path.getsize(item_path)\\n            modified_time = datetime.datetime.fromtimestamp(os.path.getmtime(item_path)).strftime(\\'%Y-%m-%d %H:%M\\')\\n            # Add a row to the table\\n            table += \\'<tr><td>{}</td><td>{}</td><td>{}</td></tr>\\'.format(item, size, modified_time)\\n\\n    # Close the table\\n    table += \\'</tbody></table>\\'\\n\\n    return table\\n\\nfolder_path = \"../data/raw\"\\ntable = file_info_table(folder_path)\\nprint(table)', 'import csv\\nimport datetime\\nimport glob\\nimport fancyimpute\\nimport html\\nimport matplotlib.axes\\nimport matplotlib.image as mpimg\\nimport matplotlib.pyplot as plt\\nimport missingno as msno\\nimport numpy as np\\nimport os\\nimport pandas as pd\\nimport pycountry\\nimport plotly.express as px\\nimport re\\nimport requests\\nimport seaborn as sns\\nimport time\\nfrom IPython.display import HTML, Image, display\\nfrom countrygroups import EUROPEAN_UNION\\nfrom countryinfo import CountryInfo\\nfrom functools import partial, reduce\\nfrom scipy.stats import ks_2samp, shapiro\\nfrom sklearn.ensemble import GradientBoostingRegressor, RandomForestRegressor\\nfrom sklearn.impute import SimpleImputer\\nfrom sklearn.linear_model import ElasticNet, Lasso, LinearRegression, Ridge\\nfrom sklearn.metrics import mean_absolute_error, r2_score\\nfrom sklearn.model_selection import GridSearchCV, RandomizedSearchCV, train_test_split\\nfrom sklearn.neighbors import KNeighborsRegressor\\nfrom sklearn.svm import LinearSVR\\nfrom typing import Dict, List, Tuple', 'def file_info_table(folder_path):\\n    \"\"\"\\n    Generate an HTML table with information on files in a given folder.\\n\\n    Parameters:\\n    - folder_path (str): The path to the folder containing the files.\\n\\n    Returns:\\n    - str: The HTML code for the table.\\n    \"\"\"\\n    # Get the contents of the folder\\n    try:\\n        contents = os.listdir(folder_path)\\n    except FileNotFoundError:\\n        return \"Directory not found\"\\n    except OSError:\\n        return \"Invalid folder path\"\\n\\n    # Create the table header\\n    table = \\'<table style=\"font-size:100%\"><thead><tr><th>File Name</th><th>Size</th><th>Modified Time</th></tr></thead><tbody>\\'\\n\\n    # Add a row for each file\\n    for item in contents:\\n        item_path = os.path.join(folder_path, item)\\n        if os.path.isfile(item_path):\\n            # Get the file size and modified time\\n            size = os.path.getsize(item_path)\\n            modified_time = datetime.datetime.fromtimestamp(os.path.getmtime(item_path)).strftime(\\'%Y-%m-%d %H:%M\\')\\n            # Add a row to the table\\n            table += \\'<tr><td>{}</td><td>{}</td><td>{}</td></tr>\\'.format(item, size, modified_time)\\n\\n    # Close the table\\n    table += \\'</tbody></table>\\'\\n\\n    return table\\n\\nfolder_path = \"../data/raw\"\\ntable = file_info_table(folder_path)\\nprint(table)', '# folder_path = \"../data/raw\"\\n# table = file_info_table(folder_path)\\n# print(table)', \"scan('images')\", 'def scan(folder_name):\\n    \"\"\"Scans the specified folder and prints information about its contents.\\n\\n    Parameters:\\n        folder_name (str): The name of the folder to scan.\\n\\n    Returns:\\n        None.\\n    \"\"\"\\n    current_dir = os.getcwd()\\n    folder_path = os.path.join(current_dir, folder_name)\\n    try:\\n        contents = os.listdir(folder_path)\\n    except FileNotFoundError:\\n        print(\"Directory not found\")\\n        return\\n    except OSError:\\n        print(\"Invalid folder path\")\\n        return\\n    print(\"Contents of the folder \\'{}\\':\".format(folder_path))\\n    for item in contents:\\n        item_path = os.path.join(folder_path, item)\\n        if os.path.isfile(item_path):\\n            size = os.path.getsize(item_path)\\n            modified_time = datetime.datetime.fromtimestamp(os.path.getmtime(item_path)).strftime(\\'%Y-%m-%d %H:%M\\')\\n            print(\"{:30} {:10} {}\".format(item, size, modified_time))\\n        else:\\n            print(\"{} (directory)\".format(item))\\n# scan(\\'../../images\\')    ', 'def scann():\\n    \"\"\"Scans the raw data folder and prints contents information.\\n\\n    Parameters:\\n        None\\n\\n    Returns:\\n        Prints out contents information of the raw data folder.\\n    \"\"\"\\n    folder_path = \"../notebooks\"\\n    try:\\n        contents = os.listdir(folder_path)\\n    except FileNotFoundError:\\n        print(\"Directory not found\")\\n        return\\n    except OSError:\\n        print(\"Invalid folder path\")\\n        return\\n    print(\"Contents of the folder \\'{}\\':\".format(folder_path))\\n    for item in contents:\\n        item_path = os.path.join(folder_path, item)\\n        if os.path.isfile(item_path):\\n            size = os.path.getsize(item_path)\\n            modified_time = datetime.datetime.fromtimestamp(os.path.getmtime(item_path)).strftime(\\'%Y-%m-%d %H:%M\\')\\n            print(\"{:30} {:10} {}\".format(item, size, modified_time))\\n        else:\\n            print(\"{} (directory)\".format(item))\\n# scann()', 'def scanr():\\n    \"\"\"Scans the raw data folder and prints contents information.\\n\\n    Parameters:\\n        None\\n\\n    Returns:\\n        Prints out contents information of the raw data folder.\\n    \"\"\" \\n    folder_name = \\'../data/raw\\'\\n    current_dir = os.getcwd()\\n    folder_path = os.path.join(current_dir, folder_name)\\n    try:\\n        contents = os.listdir(folder_path)\\n    except FileNotFoundError:\\n        print(\"Directory not found\")\\n        return\\n    except OSError:\\n        print(\"Invalid folder path\")\\n        return\\n    print(\"Contents of the folder \\'{}\\':\".format(folder_name))\\n    for item in contents:\\n        item_path = os.path.join(folder_path, item)\\n        if os.path.isfile(item_path):\\n            size = os.path.getsize(item_path)\\n            modified_time = datetime.datetime.fromtimestamp(os.path.getmtime(item_path)).strftime(\\'%Y-%m-%d %H:%M\\')\\n            print(\"{:30} {:10} {}\".format(item, size, modified_time))\\n        else:\\n            print(\"{} (directory)\".format(item))\\n# scanr()', 'def read(filename, df_name, folder_path):\\n    \"\"\"\\n    Reads a CSV file from the specified folder and returns a pandas DataFrame\\n    with the specified name.\\n\\n    Parameters:\\n        filename (str): The name of the CSV file to be read.\\n        df_name (str): The name to be assigned to the resulting DataFrame.\\n        folder_path (str): The path of the folder containing the CSV file.\\n\\n    Returns:\\n        pandas.DataFrame: A DataFrame created from the data in the CSV file with\\n        the specified name.\\n    \"\"\"\\n    file_path = os.path.join(folder_path, f\\'{filename}.csv\\')\\n    df = pd.read_csv(file_path)\\n    df.name = df_name\\n    return df', 'def readr(filename, df_name):\\n    \"\"\"\\n    Reads a CSV file from  the raw data folder and returns a pandas DataFrame.\\n    \\n    Parameters:\\n        filename (str): base name of CSV file to be read.\\n        df_name (str): The DataFrame name to be assigned \\n        \\n    Returns:\\n        pandas.DataFrame: A DataFrame created from the data in the CSV file with\\n        the specified name.\\n    \"\"\"\\n    file_path = \\'../data/raw/\\' + filename + \\'.csv\\'\\n    df = pd.read_csv(file_path)\\n    df.name = df_name\\n    return df\\n# readr(\\'land_use\\',\\'land_use_df\\')', 'def readp(filename, df_name):\\n    \"\"\"\\n    Reads a CSV file from the specified file path in the processed folder and returns a pandas DataFrame\\n    with the specified name.\\n    \\n    Parameters:\\n        filename (str): The name of the CSV file to be read.\\n        df_name (str): The name to be assigned to the resulting DataFrame.\\n        \\n    Returns:\\n        pandas.DataFrame: A DataFrame created from the data in the CSV file with\\n        the specified name.\\n    \"\"\"\\n    file_path = f\\'../data/processed/{filename}.csv\\'\\n    df = pd.read_csv(file_path)\\n    df.name = df_name\\n    return df\\n# df=readp(\\'missing\\',\\'missing_df\\')\\n# df', 'def split_by_elementr(file_name: str) -> Tuple[Dict[str, pd.DataFrame], List[str]]:\\n    \"\"\"\\n    Splits a CSV file into multiple dataframes based on the unique values in the \\'Element\\' column.\\n    \\n    Parameters:\\n        file_name (str): The name of the CSV file to read in.\\n        \\n    Returns:\\n        Tuple[Dict[str, pd.DataFrame], List[str]]: A tuple containing a dictionary where each key corresponds\\n        to a unique value in the \\'Element\\' column, and each value is a dataframe containing all rows with that\\n        unique value, and a list of unique values in the \\'Element\\' column.\\n    \"\"\"\\n    if not file_name.endswith(\\'.csv\\'):\\n        raise ValueError(\\'Input file must be a .csv file\\')\\n    \\n    # Load the specified dataframe\\n    df = pd.read_csv(f\\'../data/raw/{file_name}\\')\\n    \\n    # Group the dataframe by the \\'Element\\' column\\n    dfs = dict(tuple(df.groupby(\\'Element\\')))\\n    \\n    # Get the unique values in the \\'Element\\' column\\n    elements = list(df[\\'Element\\'].unique())\\n    \\n    return dfs, elements', 'def split_by_elementr(file_name: str) -> Tuple[Dict[str, pd.DataFrame], List[str]]:\\n    \"\"\"\\n    Splits a CSV file into multiple dataframes based on the unique values in the \\'Element\\' column.\\n    \\n    Parameters:\\n        file_name (str): The name of the CSV file to read in.\\n        \\n    Returns:\\n        Tuple[Dict[str, pd.DataFrame], List[str]]: A tuple containing a dictionary where each key corresponds\\n        to a unique value in the \\'Element\\' column, and each value is a dataframe containing all rows with that\\n        unique value, and a list of unique values in the \\'Element\\' column.\\n    \"\"\"\\n    # Load the specified dataframe\\n    df = pd.read_csv(f\\'../data/raw/{file_name}\\')\\n    \\n    # Group the dataframe by the \\'Element\\' column\\n    dfs = dict(tuple(df.groupby(\\'Element\\')))\\n    \\n    # Get the unique values in the \\'Element\\' column\\n    elements = list(df[\\'Element\\'].unique())\\n    \\n    return dfs, elements', 'def split_df_by_element(df: pd.DataFrame) -> Tuple[Dict[str, pd.DataFrame], List[str]]:\\n    \"\"\"\\n    Splits a DataFrame into multiple dataframes based on the unique values in the \\'Element\\' column.\\n\\n    Parameters:\\n        df (pd.DataFrame): The DataFrame to split.\\n    \\n    Returns:\\n        Tuple[Dict[str, pd.DataFrame], List[str]]: A tuple containing a dictionary where each key corresponds\\n        to a unique value in the \\'Element\\' column, and each value is a dataframe containing all rows with that\\n        unique value, and a list of unique values in the \\'Element\\' column.\\n    \"\"\"\\n    # Group the dataframe by the \\'Element\\' column\\n    dfs = dict(tuple(df.groupby(\\'Element\\')))\\n    \\n    # Get the unique values in the \\'Element\\' column\\n    elements = list(df[\\'Element\\'].unique())\\n    \\n    return dfs, elements', 'def groupdf(df, column_name):\\n    # Group the dataframe by the specified column\\n    dfs = dict(tuple(df.groupby(column_name)))\\n    return dfs', 'def delete(file_name):\\n    file_path = os.path.join(\"..\", \"data\", file_name)\\n    if os.path.exists(file_path):\\n        os.remove(file_path)\\n        print(f\"{file_name} deleted successfully\")\\n    else:\\n        print(f\"{file_name} not found\")', 'def rename(old_filename, new_filename):\\n    old_file_path = os.path.join(\"..\", \"data\", old_filename)\\n    new_file_path = os.path.join(\"..\", \"data\", new_filename)\\n    try:\\n        os.rename(old_file_path, new_file_path)\\n        print(f\"{old_filename} renamed to {new_filename} successfully\")\\n    except FileNotFoundError:\\n        print(f\"{old_filename} not found\")\\n    except FileExistsError:\\n        print(f\"A file with the name {new_filename} already exists\")\\n    except OSError:\\n        print(\"Invalid file path or name\")', 'def replace(input_str, find_str, replace_str):\\n    output_str = re.sub(find_str, replace_str, input_str)\\n    \\n    if output_str == input_str:\\n        warnings.warn(\"Replacement unsuccessful: \\'{}\\' not found in input string.\".format(find_str))\\n    \\n    return output_str', 'def eu(df):\\n    \"\"\"\\n    Filter a pandas DataFrame to include only the rows where the \\'Area\\' column contains values that match the countries in the European Union.\\n\\n    Parameters:\\n    - df (pandas.DataFrame): The DataFrame to filter.\\n\\n    Returns:\\n    - pandas.DataFrame: The filtered DataFrame.\\n    \"\"\"\\n    country_list = [\\'Austria\\', \\'Belgium\\', \\'Bulgaria\\', \\'Croatia\\', \\'Cyprus\\', \\'Czechia\\', \\'Denmark\\', \\n                    \\'Estonia\\', \\'Finland\\', \\'France\\', \\'Germany\\', \\'Greece\\', \\'Hungary\\', \\'Ireland\\', \\'Italy\\', \\n                    \\'Latvia\\', \\'Lithuania\\', \\'Luxembourg\\', \\'Malta\\', \\'Netherlands\\', \\'Poland\\', \\'Portugal\\', \\'Romania\\', \\n                    \\'Slovakia\\', \\'Slovenia\\', \\'Spain\\', \\'Sweden\\']\\n    return df[df[\\'Area\\'].isin(country_list)]\\n\\n# df=readr(\\'meat\\',\\'df\\')\\n# df=eu(df)\\n# df', 'def now(df, year_min):\\n    \"\"\"\\n    Filter to \\'Year\\'>.\\n    Parameters:\\n    - df (pandas.DataFrame): The DataFrame to filter.\\n    - year_min (int): The minimum year to include in the filtered DataFrame.\\n    Returns:\\n    - pandas.DataFrame: The filtered DataFrame.\\n    \"\"\"\\n    return df[df[\\'Year\\'] >= year_min]\\n\\n# df=readr(\\'meat\\',\\'df\\')\\n# df = now(df, 2015)\\n# df.head()', \"df=readr('meat','df')\\ndf=eu(df)\", \"df = pd.read_csv('../data/raw/meat.csv')\\n\\n# Apply the 'eu' function to filter down to only European Union countries\\ndf= eu(df)\\n\\n# Apply the 'now2' function to filter down further to only years greater than or equal to 2000\\ndf= now2(df)\\n\\n# Print the first 5 rows of the filtered DataFrame\\ndf.head()\", 'def file_info_table(folder_path):\\n    \"\"\"\\n    Generate an HTML table with information on files in a given folder.\\n\\n    Parameters:\\n    - folder_path (str): The path to the folder containing the files.\\n\\n    Returns:\\n    - str: The HTML code for the table.\\n    \"\"\"\\n    # Get the contents of the folder\\n    try:\\n        contents = os.listdir(folder_path)\\n    except FileNotFoundError:\\n        return \"Directory not found\"\\n    except OSError:\\n        return \"Invalid folder path\"\\n\\n    # Create the table header\\n    table = \\'<table style=\"font-size:100%\"><thead><tr><th>File Name</th><th>Size</th><th>Modified Time</th></tr></thead><tbody>\\'\\n\\n    # Add a row for each file\\n    for item in contents:\\n        item_path = os.path.join(folder_path, item)\\n        if os.path.isfile(item_path):\\n            # Get the file size and modified time\\n            size = os.path.getsize(item_path)\\n            modified_time = datetime.datetime.fromtimestamp(os.path.getmtime(item_path)).strftime(\\'%Y-%m-%d %H:%M\\')\\n            # Add a row to the table\\n            table += \\'<tr><td>{}</td><td>{}</td><td>{}</td></tr>\\'.format(item, size, modified_time)\\n\\n    # Close the table\\n    table += \\'</tbody></table>\\'\\n\\n    return table\\n\\n# folder_path = \"../data/raw\"\\n# table = file_info_table(folder_path)\\n# print(table)', \"scan('images')\", \"scan('../images')\", 'scan(../images)', \"scan(''../images')\", \"scan('../images')\", '\\\\u2103', \"rain_df = combine('../data', 'pr', 'Rain_mm/yr')\\nrain_df.head()\", \"rain_df = combine('../data', 'pr', 'Rain_mm/yr')\\nrain_df.head()\", 'import csv\\nimport datetime\\nimport glob\\nimport fancyimpute\\nimport html\\nimport matplotlib.axes\\nimport matplotlib.image as mpimg\\nimport matplotlib.pyplot as plt\\nimport missingno as msno\\nimport numpy as np\\nimport os\\nimport pandas as pd\\nimport pycountry\\nimport plotly.express as px\\nimport re\\nimport requests\\nimport seaborn as sns\\nimport time\\nfrom IPython.display import HTML, Image, display\\nfrom countrygroups import EUROPEAN_UNION\\nfrom countryinfo import CountryInfo\\nfrom functools import partial, reduce\\nfrom scipy.stats import ks_2samp, shapiro\\nfrom sklearn.ensemble import GradientBoostingRegressor, RandomForestRegressor\\nfrom sklearn.impute import SimpleImputer\\nfrom sklearn.linear_model import ElasticNet, Lasso, LinearRegression, Ridge\\nfrom sklearn.metrics import mean_absolute_error, r2_score\\nfrom sklearn.model_selection import GridSearchCV, RandomizedSearchCV, train_test_split\\nfrom sklearn.neighbors import KNeighborsRegressor\\nfrom sklearn.svm import LinearSVR\\nfrom typing import Dict, List, Tuple', 'def transform(path: str, filename: str, col_name: str) -> pd.DataFrame:\\n    \"\"\"Reads in a CSV file from the given directory, renames a column to the given column name, and\\n    filters the resulting dataframe to only include the \\'key\\' and specified column.\\n    \\n    Args:\\n        path (str): The relative path of the directory containing the data.\\n        filename (str): The name of the CSV file to read in.\\n        col_name (str): The name to assign to the specified column in the resulting dataframe.\\n        \\n    Returns:\\n        pandas.DataFrame: The resulting dataframe after renaming the specified column and filtering\\n        to only include the \\'key\\' and specified column.\\n    \"\"\"\\n    try:\\n        file_path = os.path.join(path, filename)\\n        df = pd.read_csv(file_path, on_bad_lines=\\'skip\\', skiprows=1)\\n        df.rename(columns={\\'Unnamed: 0\\': \\'Year\\'}, inplace=True)\\n        df[\\'key\\'] = df.columns[1] + df[\\'Year\\'].astype(str)\\n        df.rename(columns={df.columns[1]: col_name}, inplace=True)\\n        df = df.filter([\\'key\\', col_name])\\n        return df\\n    except Exception as e:\\n        print(f\"Error reading in CSV file {file_path}: {e}\")', 'def combine(path: str, subfolder: str, col_name: str) -> pd.DataFrame:\\n    \"\"\"Reads in all CSV files in the given subfolder of the directory, applies the \\'transform\\' function to each file, and\\n    combines the resulting dataframes together into a single dataframe.\\n    \\n    Args:\\n        path (str): The relative path of the directory containing the data.\\n        subfolder (str): The name of the subfolder within the directory to read the CSV files from.\\n        col_name (str): The name to assign to the specified column in the resulting dataframe.\\n        \\n    Returns:\\n        pandas.DataFrame: The resulting dataframe after combining data from all CSV files in the\\n        specified subfolder.\\n    \"\"\"\\n    try:\\n        folder_path = os.path.join(path, subfolder)\\n        csv_filenames = glob.glob(folder_path + \"/*.csv\")\\n        processed_dfs = (transform(path, os.path.join(subfolder, os.path.basename(FileName)), col_name) for FileName in csv_filenames)\\n        df = pd.concat(processed_dfs, ignore_index=True)\\n        return df\\n    except Exception as e:\\n        print(f\"Error combining CSV files in folder {folder_path}: {e}\")', 'def split(df: pd.DataFrame, col: str) -> dict:\\n    \"\"\"\\n    \\n \\n    Parameters:\\n        df (pd.DataFrame): The DataFrame to split.\\n        col (str): The name of the column to group by.\\n\\n    Returns:\\n        dict: A dictionary where each key corresponds to a unique value in the specified column,\\n        and each value is a DataFrame containing all rows with that unique value.\\n    \"\"\"\\n    dfs = dict(tuple(df.groupby(col)))\\n    return dfs', 'def key(df, area_col=\\'Area\\', year_col=\\'Year\\', key_col=\\'key\\'):\\n    \"\"\"\\n    Add a new column to a pandas DataFrame that concatenates the values in the \\'area_col\\' and \\'year_col\\' columns.\\n\\n    Parameters:\\n    - df (pandas.DataFrame): The DataFrame to add the new column to.\\n    - area_col (str): The name of the column that contains the area values.\\n    - year_col (str): The name of the column that contains the year values.\\n    - key_col (str): The name of the new column to create.\\n\\n    Returns:\\n    - None\\n    \"\"\"\\n    df[key_col] = df[area_col] + df[year_col].astype(str)', 'def snake(text):\\n    \"\"\"\\n    Converts a given string to snake_case by replacing any whitespace characters with underscores,\\n    converting to all lowercase, and adding an underscore to the beginning if it doesn\\'t already start with one.\\n\\n    Parameters:\\n        text (str): The string to convert to snake_case.\\n\\n    Returns:\\n        str: The resulting string in snake_case format.\\n    \"\"\"\\n    # Convert to string and strip leading/trailing whitespace\\n    text = str(text).strip()\\n    # Replace any whitespace characters with underscores\\n    text = re.sub(r\\'\\\\s+\\', \\'_\\', text)\\n    # Convert to all lowercase\\n    text = text.lower()\\n    # Add an underscore to the beginning if it doesn\\'t already start with one\\n    if not text.startswith(\\'_\\'):\\n        text = \\'_\\' + text\\n    return text', 'def pascal(string):\\n    \"\"\"\\n    Convert a space- or snake-separated string to PascalCase.\\n\\n    Parameters:\\n        string (str): The input string to convert to PascalCase.\\n\\n    Returns:\\n        str: The input string in PascalCase format.\\n\\n    \"\"\"\\n    # Replace any underscores with spaces\\n    string = string.replace(\"_\", \" \")\\n    # Capitalize the first letter of each word\\n    words = string.title()\\n    # Remove any remaining spaces\\n    words = words.replace(\" \", \"\")\\n    return words', 'def camel(string):\\n    \"\"\"\\n    Convert a space-separated or snake_case string to camelCase.\\n\\n    Parameters:\\n        string (str): The string to convert.\\n\\n    Returns:\\n        str: The converted string in camelCase.\\n    \"\"\"\\n    # Replace underscores with spaces and split the string into a list of words\\n    words = string.replace(\"_\", \" \").split()\\n    # Convert the first word to lowercase and capitalize all subsequent words\\n    camel_cased = [words[0].lower()] + [word.capitalize() for word in words[1:]]\\n    # Concatenate the words together and return the resulting string\\n    return \"    \" + \\'\\'.join(camel_cased) + \"    \"', 'def title(sentence):\\n    \"\"\"\\n    Takes a string and converts it to title case, where the first letter of each\\n    non-conjunction/preposition word is capitalized, and all other letters are lowercase.\\n    \\n    Args:\\n        sentence (str): The string to convert to title case.\\n        \\n    Returns:\\n        str: The input string converted to title case.\\n    \"\"\"\\n    # Define a list of common prepositions and conjunctions\\n    prepositions_conjunctions = [\\'a\\', \\'this\\', \\'an\\', \\'the\\', \\'and\\', \\'but\\', \\'or\\', \\'for\\', \\'has\\', \\'nor\\', \\'on\\', \\'at\\', \\'to\\', \\'from\\', \\'by\\', \\'over\\', \\'under\\', \\'in\\', \\'out\\', \\'of\\']\\n    # Split the input string into a list of words\\n    words = sentence.split()\\n    processed_words = []\\n    for word in words:\\n        # If the word is not a preposition or conjunction, capitalize the first letter and lowercase the rest\\n        if word.lower() not in prepositions_conjunctions:\\n            processed_words.append(word.capitalize())\\n        # If the word is a preposition or conjunction, convert to lowercase\\n        else:\\n            processed_words.append(word.lower())\\n    # Join the list of processed words into a single string, with proper spacing\\n    output = \" \".join(processed_words)\\n    # Remove any leading/trailing whitespace and add some padding\\n    return \"     \" + re.sub(\\'\\\\s+\\', \\' \\', output.strip()) + \"     \"', 'def word_count(text):\\n    \"\"\"\\n    Counts the number of words in a given text.\\n    \\n    Parameters:\\n        text (str): The text to be counted.\\n        \\n    Returns:\\n        int: The number of words in the text.\\n    \"\"\"\\n    words = text.split()\\n    return len(words)', 'def char_count(string):\\n    \"\"\"\\n    Count the number of characters in a string.\\n\\n    Parameters:\\n    - string (str): The string to count characters in.\\n\\n    Returns:\\n    - int: The number of characters in the string.\\n    \"\"\"\\n    return len(string)', 'def scan(folder_name):\\n    \"\"\"Scans the specified folder and prints information about its contents.\\n\\n    Parameters:\\n        folder_name (str): The name of the folder to scan.\\n\\n    Returns:\\n        None.\\n    \"\"\"\\n    current_dir = os.getcwd()\\n    folder_path = os.path.join(current_dir, folder_name)\\n    try:\\n        contents = os.listdir(folder_path)\\n    except FileNotFoundError:\\n        print(\"Directory not found\")\\n        return\\n    except OSError:\\n        print(\"Invalid folder path\")\\n        return\\n    print(\"Contents of the folder \\'{}\\':\".format(folder_path))\\n    for item in contents:\\n        item_path = os.path.join(folder_path, item)\\n        if os.path.isfile(item_path):\\n            size = os.path.getsize(item_path)\\n            modified_time = datetime.datetime.fromtimestamp(os.path.getmtime(item_path)).strftime(\\'%Y-%m-%d %H:%M\\')\\n            print(\"{:30} {:10} {}\".format(item, size, modified_time))\\n        else:\\n            print(\"{} (directory)\".format(item))\\n# scan(\\'../../images\\')    ', 'def scann():\\n    \"\"\"Scans the raw data folder and prints contents information.\\n\\n    Parameters:\\n        None\\n\\n    Returns:\\n        Prints out contents information of the raw data folder.\\n    \"\"\"\\n    folder_path = \"../notebooks\"\\n    try:\\n        contents = os.listdir(folder_path)\\n    except FileNotFoundError:\\n        print(\"Directory not found\")\\n        return\\n    except OSError:\\n        print(\"Invalid folder path\")\\n        return\\n    print(\"Contents of the folder \\'{}\\':\".format(folder_path))\\n    for item in contents:\\n        item_path = os.path.join(folder_path, item)\\n        if os.path.isfile(item_path):\\n            size = os.path.getsize(item_path)\\n            modified_time = datetime.datetime.fromtimestamp(os.path.getmtime(item_path)).strftime(\\'%Y-%m-%d %H:%M\\')\\n            print(\"{:30} {:10} {}\".format(item, size, modified_time))\\n        else:\\n            print(\"{} (directory)\".format(item))\\n# scann()', 'def scanr():\\n    \"\"\"Scans the raw data folder and prints contents information.\\n\\n    Parameters:\\n        None\\n\\n    Returns:\\n        Prints out contents information of the raw data folder.\\n    \"\"\" \\n    folder_name = \\'../data/raw\\'\\n    current_dir = os.getcwd()\\n    folder_path = os.path.join(current_dir, folder_name)\\n    try:\\n        contents = os.listdir(folder_path)\\n    except FileNotFoundError:\\n        print(\"Directory not found\")\\n        return\\n    except OSError:\\n        print(\"Invalid folder path\")\\n        return\\n    print(\"Contents of the folder \\'{}\\':\".format(folder_name))\\n    for item in contents:\\n        item_path = os.path.join(folder_path, item)\\n        if os.path.isfile(item_path):\\n            size = os.path.getsize(item_path)\\n            modified_time = datetime.datetime.fromtimestamp(os.path.getmtime(item_path)).strftime(\\'%Y-%m-%d %H:%M\\')\\n            print(\"{:30} {:10} {}\".format(item, size, modified_time))\\n        else:\\n            print(\"{} (directory)\".format(item))\\n# scanr()', 'def read(filename, df_name, folder_path):\\n    \"\"\"\\n    Reads a CSV file from the specified folder and returns a pandas DataFrame\\n    with the specified name.\\n\\n    Parameters:\\n        filename (str): The name of the CSV file to be read.\\n        df_name (str): The name to be assigned to the resulting DataFrame.\\n        folder_path (str): The path of the folder containing the CSV file.\\n\\n    Returns:\\n        pandas.DataFrame: A DataFrame created from the data in the CSV file with\\n        the specified name.\\n    \"\"\"\\n    file_path = os.path.join(folder_path, f\\'{filename}.csv\\')\\n    df = pd.read_csv(file_path)\\n    df.name = df_name\\n    return df', 'def readr(filename, df_name):\\n    \"\"\"\\n    Reads a CSV file from  the raw data folder and returns a pandas DataFrame.\\n    \\n    Parameters:\\n        filename (str): base name of CSV file to be read.\\n        df_name (str): The DataFrame name to be assigned \\n        \\n    Returns:\\n        pandas.DataFrame: A DataFrame created from the data in the CSV file with\\n        the specified name.\\n    \"\"\"\\n    file_path = \\'../data/raw/\\' + filename + \\'.csv\\'\\n    df = pd.read_csv(file_path)\\n    df.name = df_name\\n    return df\\n# readr(\\'land_use\\',\\'land_use_df\\')', 'def readp(filename, df_name):\\n    \"\"\"\\n    Reads a CSV file from the specified file path in the processed folder and returns a pandas DataFrame\\n    with the specified name.\\n    \\n    Parameters:\\n        filename (str): The name of the CSV file to be read.\\n        df_name (str): The name to be assigned to the resulting DataFrame.\\n        \\n    Returns:\\n        pandas.DataFrame: A DataFrame created from the data in the CSV file with\\n        the specified name.\\n    \"\"\"\\n    file_path = f\\'../data/processed/{filename}.csv\\'\\n    df = pd.read_csv(file_path)\\n    df.name = df_name\\n    return df\\n# df=readp(\\'missing\\',\\'missing_df\\')\\n# df', 'def split_by_elementr(file_name: str) -> Tuple[Dict[str, pd.DataFrame], List[str]]:\\n    \"\"\"\\n    Splits a CSV file into multiple dataframes based on the unique values in the \\'Element\\' column.\\n    \\n    Parameters:\\n        file_name (str): The name of the CSV file to read in.\\n        \\n    Returns:\\n        Tuple[Dict[str, pd.DataFrame], List[str]]: A tuple containing a dictionary where each key corresponds\\n        to a unique value in the \\'Element\\' column, and each value is a dataframe containing all rows with that\\n        unique value, and a list of unique values in the \\'Element\\' column.\\n    \"\"\"\\n    if not file_name.endswith(\\'.csv\\'):\\n        raise ValueError(\\'Input file must be a .csv file\\')\\n    \\n    # Load the specified dataframe\\n    df = pd.read_csv(f\\'../data/raw/{file_name}\\')\\n    \\n    # Group the dataframe by the \\'Element\\' column\\n    dfs = dict(tuple(df.groupby(\\'Element\\')))\\n    \\n    # Get the unique values in the \\'Element\\' column\\n    elements = list(df[\\'Element\\'].unique())\\n    \\n    return dfs, elements', 'def split_by_elementr(file_name: str) -> Tuple[Dict[str, pd.DataFrame], List[str]]:\\n    \"\"\"\\n    Splits a CSV file into multiple dataframes based on the unique values in the \\'Element\\' column.\\n    \\n    Parameters:\\n        file_name (str): The name of the CSV file to read in.\\n        \\n    Returns:\\n        Tuple[Dict[str, pd.DataFrame], List[str]]: A tuple containing a dictionary where each key corresponds\\n        to a unique value in the \\'Element\\' column, and each value is a dataframe containing all rows with that\\n        unique value, and a list of unique values in the \\'Element\\' column.\\n    \"\"\"\\n    # Load the specified dataframe\\n    df = pd.read_csv(f\\'../data/raw/{file_name}\\')\\n    \\n    # Group the dataframe by the \\'Element\\' column\\n    dfs = dict(tuple(df.groupby(\\'Element\\')))\\n    \\n    # Get the unique values in the \\'Element\\' column\\n    elements = list(df[\\'Element\\'].unique())\\n    \\n    return dfs, elements', 'def split_df_by_element(df: pd.DataFrame) -> Tuple[Dict[str, pd.DataFrame], List[str]]:\\n    \"\"\"\\n    Splits a DataFrame into multiple dataframes based on the unique values in the \\'Element\\' column.\\n\\n    Parameters:\\n        df (pd.DataFrame): The DataFrame to split.\\n    \\n    Returns:\\n        Tuple[Dict[str, pd.DataFrame], List[str]]: A tuple containing a dictionary where each key corresponds\\n        to a unique value in the \\'Element\\' column, and each value is a dataframe containing all rows with that\\n        unique value, and a list of unique values in the \\'Element\\' column.\\n    \"\"\"\\n    # Group the dataframe by the \\'Element\\' column\\n    dfs = dict(tuple(df.groupby(\\'Element\\')))\\n    \\n    # Get the unique values in the \\'Element\\' column\\n    elements = list(df[\\'Element\\'].unique())\\n    \\n    return dfs, elements', 'def groupdf(df, column_name):\\n    # Group the dataframe by the specified column\\n    dfs = dict(tuple(df.groupby(column_name)))\\n    return dfs', 'def delete(file_name):\\n    file_path = os.path.join(\"..\", \"data\", file_name)\\n    if os.path.exists(file_path):\\n        os.remove(file_path)\\n        print(f\"{file_name} deleted successfully\")\\n    else:\\n        print(f\"{file_name} not found\")', 'def rename(old_filename, new_filename):\\n    old_file_path = os.path.join(\"..\", \"data\", old_filename)\\n    new_file_path = os.path.join(\"..\", \"data\", new_filename)\\n    try:\\n        os.rename(old_file_path, new_file_path)\\n        print(f\"{old_filename} renamed to {new_filename} successfully\")\\n    except FileNotFoundError:\\n        print(f\"{old_filename} not found\")\\n    except FileExistsError:\\n        print(f\"A file with the name {new_filename} already exists\")\\n    except OSError:\\n        print(\"Invalid file path or name\")', 'def replace(input_str, find_str, replace_str):\\n    output_str = re.sub(find_str, replace_str, input_str)\\n    \\n    if output_str == input_str:\\n        warnings.warn(\"Replacement unsuccessful: \\'{}\\' not found in input string.\".format(find_str))\\n    \\n    return output_str', 'def eu(df):\\n    \"\"\"\\n    Filter a pandas DataFrame to include only the rows where the \\'Area\\' column contains values that match the countries in the European Union.\\n\\n    Parameters:\\n    - df (pandas.DataFrame): The DataFrame to filter.\\n\\n    Returns:\\n    - pandas.DataFrame: The filtered DataFrame.\\n    \"\"\"\\n    country_list = [\\'Austria\\', \\'Belgium\\', \\'Bulgaria\\', \\'Croatia\\', \\'Cyprus\\', \\'Czechia\\', \\'Denmark\\', \\n                    \\'Estonia\\', \\'Finland\\', \\'France\\', \\'Germany\\', \\'Greece\\', \\'Hungary\\', \\'Ireland\\', \\'Italy\\', \\n                    \\'Latvia\\', \\'Lithuania\\', \\'Luxembourg\\', \\'Malta\\', \\'Netherlands\\', \\'Poland\\', \\'Portugal\\', \\'Romania\\', \\n                    \\'Slovakia\\', \\'Slovenia\\', \\'Spain\\', \\'Sweden\\']\\n    return df[df[\\'Area\\'].isin(country_list)]\\n\\n# df=readr(\\'meat\\',\\'df\\')\\n# df=eu(df)\\n# df', 'def now(df, year_min):\\n    \"\"\"\\n    Filter to \\'Year\\'>.\\n    Parameters:\\n    - df (pandas.DataFrame): The DataFrame to filter.\\n    - year_min (int): The minimum year to include in the filtered DataFrame.\\n    Returns:\\n    - pandas.DataFrame: The filtered DataFrame.\\n    \"\"\"\\n    return df[df[\\'Year\\'] >= year_min]\\n\\n# df=readr(\\'meat\\',\\'df\\')\\n# df = now(df, 2015)\\n# df.head()', \"df=readr('meat','df')\\ndf=eu(df)\", \"df = pd.read_csv('../data/raw/meat.csv')\\n\\n# Apply the 'eu' function to filter down to only European Union countries\\ndf= eu(df)\\n\\n# Apply the 'now2' function to filter down further to only years greater than or equal to 2000\\ndf= now2(df)\\n\\n# Print the first 5 rows of the filtered DataFrame\\ndf.head()\", 'def file_info_table(folder_path):\\n    \"\"\"\\n    Generate an HTML table with information on files in a given folder.\\n\\n    Parameters:\\n    - folder_path (str): The path to the folder containing the files.\\n\\n    Returns:\\n    - str: The HTML code for the table.\\n    \"\"\"\\n    # Get the contents of the folder\\n    try:\\n        contents = os.listdir(folder_path)\\n    except FileNotFoundError:\\n        return \"Directory not found\"\\n    except OSError:\\n        return \"Invalid folder path\"\\n\\n    # Create the table header\\n    table = \\'<table style=\"font-size:100%\"><thead><tr><th>File Name</th><th>Size</th><th>Modified Time</th></tr></thead><tbody>\\'\\n\\n    # Add a row for each file\\n    for item in contents:\\n        item_path = os.path.join(folder_path, item)\\n        if os.path.isfile(item_path):\\n            # Get the file size and modified time\\n            size = os.path.getsize(item_path)\\n            modified_time = datetime.datetime.fromtimestamp(os.path.getmtime(item_path)).strftime(\\'%Y-%m-%d %H:%M\\')\\n            # Add a row to the table\\n            table += \\'<tr><td>{}</td><td>{}</td><td>{}</td></tr>\\'.format(item, size, modified_time)\\n\\n    # Close the table\\n    table += \\'</tbody></table>\\'\\n\\n    return table\\n\\n# folder_path = \"../data/raw\"\\n# table = file_info_table(folder_path)\\n# print(table)', \"rain_df = combine('../data', 'pr', 'Rain_mm/yr')\\nrain_df.head()\", \"temp_df = combine('../data', 'tas', 'Temperature_C')\", '\\\\u2103', \"# # Load the CSV file into a DataFrame\\n# df = pd.read_csv('../data/raw/consumer_price_indices.csv')\\n\\n# # Print the first five rows of the DataFrame\\n# print(df.head())\\n\\n# # Print the last five rows of the DataFrame\\n# print(df.tail())\\n\\n# # Get the shape of the DataFrame\\n# print(df.shape)\\n\\n# # Get the data types of the columns in the DataFrame\\n# print(df.dtypes)\\n\\n# # Get summary statistics for numeric columns in the DataFrame\\n# print(df.describe())\", \"# Read in the raw live animal produce data data file\\nproduce = pd.read_csv('rawdata/produce_live_animal.csv', on_bad_lines='skip')\\ndf=produce\\ndf.head()\", \"element_df = df['Element'].unique()\\nelement_df                                   \", \"# element_df = df['Element'].unique()\\n# element_df  \\n\\ngrouped_df = df.groupby('Element')\\nproduction = grouped_df.get_group('Production')\\nstocks = grouped_df.get_group('Stocks')\\nproduction.to_csv('engineered_data/production.csv', index=False)\\nstocks.to_csv('engineered_data/stocks.csv', index=False)\", 'production.head(2)', 'stocks.sample(2)', \"scan('engineered_data')\", 'df = stocks.query(\"Area in @EUROPEAN_UNION.names\")', \"# Generate a list of European Union countries for the eu function\\ncountry_list = df['Area'].unique().tolist()\\ncountry_list\", \"df['key'] = df['Area'] + df['Year'].astype(str) \\n\\ndf.head()\", \"# Select only the 'Area', 'Year', 'Value', and 'key' columns\\ndf = df.loc[:, ['Area', 'Year', 'Value', 'key']]\\ndf\\nmain=df\\nmain.head()\", 'df=stocks\\ndf.head()', \"# Filter the DataFrame to include only European Union countries\\ndf = eu(df)\\n\\n# Add a new 'key' column to the DataFrame\\nkey(df)\\ndf.head()\", \"# Extract the value from the 'Element' column\\nelement_value = df['Element'].iloc[0]\\n\\n# Rename the 'Value' column to the value in the 'Element' column\\ndf = df.set_axis([col if col != 'Value' else element_value for col in df.columns], axis=1)\\ndf.head()\", '# view all open variables\\nprint(globals())'], '_oh': {62:            key  Rain_mm/yr\n",
      "0  Austria1901     1052.84\n",
      "1  Austria1902     1061.55\n",
      "2  Austria1903     1201.34\n",
      "3  Austria1904     1146.14\n",
      "4  Austria1905     1127.85, 67: array(['Yield/Carcass Weight', 'Production',\n",
      "       'Producing Animals/Slaughtered'], dtype=object), 69:      Domain Code                        Domain  Area Code (M49)     Area  \\\n",
      "1525         QCL  Crops and livestock products               40  Austria   \n",
      "1526         QCL  Crops and livestock products               40  Austria   \n",
      "\n",
      "      Element Code     Element  Item Code (CPC)  \\\n",
      "1525          5510  Production         21111.01   \n",
      "1526          5510  Production         21111.01   \n",
      "\n",
      "                                                Item  Year Code  Year    Unit  \\\n",
      "1525  Meat of cattle with the bone, fresh or chilled       1961  1961  tonnes   \n",
      "1526  Meat of cattle with the bone, fresh or chilled       1962  1962  tonnes   \n",
      "\n",
      "         Value Flag Flag Description  \n",
      "1525  125581.0    A  Official figure  \n",
      "1526  140546.0    A  Official figure  , 73: ['Austria', 'Belgium', 'Bulgaria', 'Croatia', 'Cyprus', 'Czechia', 'Denmark', 'Estonia', 'Finland', 'France', 'Germany', 'Greece', 'Hungary', 'Ireland', 'Italy', 'Latvia', 'Lithuania', 'Luxembourg', 'Malta', 'Netherlands', 'Poland', 'Portugal', 'Romania', 'Slovakia', 'Slovenia', 'Spain', 'Sweden'], 74:      Domain Code                        Domain  Area Code (M49)     Area  \\\n",
      "1464         QCL  Crops and livestock products               40  Austria   \n",
      "1465         QCL  Crops and livestock products               40  Austria   \n",
      "1466         QCL  Crops and livestock products               40  Austria   \n",
      "1467         QCL  Crops and livestock products               40  Austria   \n",
      "1468         QCL  Crops and livestock products               40  Austria   \n",
      "\n",
      "      Element Code               Element  Item Code (CPC)  \\\n",
      "1464          5417  Yield/Carcass Weight         21111.01   \n",
      "1465          5417  Yield/Carcass Weight         21111.01   \n",
      "1466          5417  Yield/Carcass Weight         21111.01   \n",
      "1467          5417  Yield/Carcass Weight         21111.01   \n",
      "1468          5417  Yield/Carcass Weight         21111.01   \n",
      "\n",
      "                                                Item  Year Code  Year   Unit  \\\n",
      "1464  Meat of cattle with the bone, fresh or chilled       1961  1961  hg/An   \n",
      "1465  Meat of cattle with the bone, fresh or chilled       1962  1962  hg/An   \n",
      "1466  Meat of cattle with the bone, fresh or chilled       1963  1963  hg/An   \n",
      "1467  Meat of cattle with the bone, fresh or chilled       1964  1964  hg/An   \n",
      "1468  Meat of cattle with the bone, fresh or chilled       1965  1965  hg/An   \n",
      "\n",
      "       Value Flag Flag Description          key  \n",
      "1464  1501.0    E  Estimated value  Austria1961  \n",
      "1465  1510.0    E  Estimated value  Austria1962  \n",
      "1466  1497.0    E  Estimated value  Austria1963  \n",
      "1467  1564.0    E  Estimated value  Austria1964  \n",
      "1468  1658.0    E  Estimated value  Austria1965  , 75:          Area  Year   Value          key\n",
      "1464  Austria  1961  1501.0  Austria1961\n",
      "1465  Austria  1962  1510.0  Austria1962\n",
      "1466  Austria  1963  1497.0  Austria1963\n",
      "1467  Austria  1964  1564.0  Austria1964\n",
      "1468  Austria  1965  1658.0  Austria1965, 77:          Area  Year   Value          key\n",
      "1464  Austria  1961  1501.0  Austria1961\n",
      "1465  Austria  1962  1510.0  Austria1962\n",
      "1466  Austria  1963  1497.0  Austria1963\n",
      "1467  Austria  1964  1564.0  Austria1964\n",
      "1468  Austria  1965  1658.0  Austria1965}, '_dh': ['C:\\\\Users\\\\ronan\\\\beef_analysis\\\\notebooks'], 'In': ['', 'def file_info_table(folder_path):\\n    \"\"\"\\n    Generate an HTML table with information on files in a given folder.\\n\\n    Parameters:\\n    - folder_path (str): The path to the folder containing the files.\\n\\n    Returns:\\n    - str: The HTML code for the table.\\n    \"\"\"\\n    # Get the contents of the folder\\n    try:\\n        contents = os.listdir(folder_path)\\n    except FileNotFoundError:\\n        return \"Directory not found\"\\n    except OSError:\\n        return \"Invalid folder path\"\\n\\n    # Create the table header\\n    table = \\'<table style=\"font-size:100%\"><thead><tr><th>File Name</th><th>Size</th><th>Modified Time</th></tr></thead><tbody>\\'\\n\\n    # Add a row for each file\\n    for item in contents:\\n        item_path = os.path.join(folder_path, item)\\n        if os.path.isfile(item_path):\\n            # Get the file size and modified time\\n            size = os.path.getsize(item_path)\\n            modified_time = datetime.datetime.fromtimestamp(os.path.getmtime(item_path)).strftime(\\'%Y-%m-%d %H:%M\\')\\n            # Add a row to the table\\n            table += \\'<tr><td>{}</td><td>{}</td><td>{}</td></tr>\\'.format(item, size, modified_time)\\n\\n    # Close the table\\n    table += \\'</tbody></table>\\'\\n\\n    return table\\n\\nfolder_path = \"../data/raw\"\\ntable = file_info_table(folder_path)\\nprint(table)', 'def file_info_table(folder_path):\\n    \"\"\"\\n    Generate an HTML table with information on files in a given folder.\\n\\n    Parameters:\\n    - folder_path (str): The path to the folder containing the files.\\n\\n    Returns:\\n    - str: The HTML code for the table.\\n    \"\"\"\\n    # Get the contents of the folder\\n    try:\\n        contents = os.listdir(folder_path)\\n    except FileNotFoundError:\\n        return \"Directory not found\"\\n    except OSError:\\n        return \"Invalid folder path\"\\n\\n    # Create the table header\\n    table = \\'<table style=\"font-size:100%\"><thead><tr><th>File Name</th><th>Size</th><th>Modified Time</th></tr></thead><tbody>\\'\\n\\n    # Add a row for each file\\n    for item in contents:\\n        item_path = os.path.join(folder_path, item)\\n        if os.path.isfile(item_path):\\n            # Get the file size and modified time\\n            size = os.path.getsize(item_path)\\n            modified_time = datetime.datetime.fromtimestamp(os.path.getmtime(item_path)).strftime(\\'%Y-%m-%d %H:%M\\')\\n            # Add a row to the table\\n            table += \\'<tr><td>{}</td><td>{}</td><td>{}</td></tr>\\'.format(item, size, modified_time)\\n\\n    # Close the table\\n    table += \\'</tbody></table>\\'\\n\\n    return table\\n\\nfolder_path = \"../data/raw\"\\ntable = file_info_table(folder_path)\\nprint(table)', 'import csv\\nimport datetime\\nimport glob\\nimport fancyimpute\\nimport html\\nimport matplotlib.axes\\nimport matplotlib.image as mpimg\\nimport matplotlib.pyplot as plt\\nimport missingno as msno\\nimport numpy as np\\nimport os\\nimport pandas as pd\\nimport pycountry\\nimport plotly.express as px\\nimport re\\nimport requests\\nimport seaborn as sns\\nimport time\\nfrom IPython.display import HTML, Image, display\\nfrom countrygroups import EUROPEAN_UNION\\nfrom countryinfo import CountryInfo\\nfrom functools import partial, reduce\\nfrom scipy.stats import ks_2samp, shapiro\\nfrom sklearn.ensemble import GradientBoostingRegressor, RandomForestRegressor\\nfrom sklearn.impute import SimpleImputer\\nfrom sklearn.linear_model import ElasticNet, Lasso, LinearRegression, Ridge\\nfrom sklearn.metrics import mean_absolute_error, r2_score\\nfrom sklearn.model_selection import GridSearchCV, RandomizedSearchCV, train_test_split\\nfrom sklearn.neighbors import KNeighborsRegressor\\nfrom sklearn.svm import LinearSVR\\nfrom typing import Dict, List, Tuple', 'def file_info_table(folder_path):\\n    \"\"\"\\n    Generate an HTML table with information on files in a given folder.\\n\\n    Parameters:\\n    - folder_path (str): The path to the folder containing the files.\\n\\n    Returns:\\n    - str: The HTML code for the table.\\n    \"\"\"\\n    # Get the contents of the folder\\n    try:\\n        contents = os.listdir(folder_path)\\n    except FileNotFoundError:\\n        return \"Directory not found\"\\n    except OSError:\\n        return \"Invalid folder path\"\\n\\n    # Create the table header\\n    table = \\'<table style=\"font-size:100%\"><thead><tr><th>File Name</th><th>Size</th><th>Modified Time</th></tr></thead><tbody>\\'\\n\\n    # Add a row for each file\\n    for item in contents:\\n        item_path = os.path.join(folder_path, item)\\n        if os.path.isfile(item_path):\\n            # Get the file size and modified time\\n            size = os.path.getsize(item_path)\\n            modified_time = datetime.datetime.fromtimestamp(os.path.getmtime(item_path)).strftime(\\'%Y-%m-%d %H:%M\\')\\n            # Add a row to the table\\n            table += \\'<tr><td>{}</td><td>{}</td><td>{}</td></tr>\\'.format(item, size, modified_time)\\n\\n    # Close the table\\n    table += \\'</tbody></table>\\'\\n\\n    return table\\n\\nfolder_path = \"../data/raw\"\\ntable = file_info_table(folder_path)\\nprint(table)', '# folder_path = \"../data/raw\"\\n# table = file_info_table(folder_path)\\n# print(table)', \"scan('images')\", 'def scan(folder_name):\\n    \"\"\"Scans the specified folder and prints information about its contents.\\n\\n    Parameters:\\n        folder_name (str): The name of the folder to scan.\\n\\n    Returns:\\n        None.\\n    \"\"\"\\n    current_dir = os.getcwd()\\n    folder_path = os.path.join(current_dir, folder_name)\\n    try:\\n        contents = os.listdir(folder_path)\\n    except FileNotFoundError:\\n        print(\"Directory not found\")\\n        return\\n    except OSError:\\n        print(\"Invalid folder path\")\\n        return\\n    print(\"Contents of the folder \\'{}\\':\".format(folder_path))\\n    for item in contents:\\n        item_path = os.path.join(folder_path, item)\\n        if os.path.isfile(item_path):\\n            size = os.path.getsize(item_path)\\n            modified_time = datetime.datetime.fromtimestamp(os.path.getmtime(item_path)).strftime(\\'%Y-%m-%d %H:%M\\')\\n            print(\"{:30} {:10} {}\".format(item, size, modified_time))\\n        else:\\n            print(\"{} (directory)\".format(item))\\n# scan(\\'../../images\\')    ', 'def scann():\\n    \"\"\"Scans the raw data folder and prints contents information.\\n\\n    Parameters:\\n        None\\n\\n    Returns:\\n        Prints out contents information of the raw data folder.\\n    \"\"\"\\n    folder_path = \"../notebooks\"\\n    try:\\n        contents = os.listdir(folder_path)\\n    except FileNotFoundError:\\n        print(\"Directory not found\")\\n        return\\n    except OSError:\\n        print(\"Invalid folder path\")\\n        return\\n    print(\"Contents of the folder \\'{}\\':\".format(folder_path))\\n    for item in contents:\\n        item_path = os.path.join(folder_path, item)\\n        if os.path.isfile(item_path):\\n            size = os.path.getsize(item_path)\\n            modified_time = datetime.datetime.fromtimestamp(os.path.getmtime(item_path)).strftime(\\'%Y-%m-%d %H:%M\\')\\n            print(\"{:30} {:10} {}\".format(item, size, modified_time))\\n        else:\\n            print(\"{} (directory)\".format(item))\\n# scann()', 'def scanr():\\n    \"\"\"Scans the raw data folder and prints contents information.\\n\\n    Parameters:\\n        None\\n\\n    Returns:\\n        Prints out contents information of the raw data folder.\\n    \"\"\" \\n    folder_name = \\'../data/raw\\'\\n    current_dir = os.getcwd()\\n    folder_path = os.path.join(current_dir, folder_name)\\n    try:\\n        contents = os.listdir(folder_path)\\n    except FileNotFoundError:\\n        print(\"Directory not found\")\\n        return\\n    except OSError:\\n        print(\"Invalid folder path\")\\n        return\\n    print(\"Contents of the folder \\'{}\\':\".format(folder_name))\\n    for item in contents:\\n        item_path = os.path.join(folder_path, item)\\n        if os.path.isfile(item_path):\\n            size = os.path.getsize(item_path)\\n            modified_time = datetime.datetime.fromtimestamp(os.path.getmtime(item_path)).strftime(\\'%Y-%m-%d %H:%M\\')\\n            print(\"{:30} {:10} {}\".format(item, size, modified_time))\\n        else:\\n            print(\"{} (directory)\".format(item))\\n# scanr()', 'def read(filename, df_name, folder_path):\\n    \"\"\"\\n    Reads a CSV file from the specified folder and returns a pandas DataFrame\\n    with the specified name.\\n\\n    Parameters:\\n        filename (str): The name of the CSV file to be read.\\n        df_name (str): The name to be assigned to the resulting DataFrame.\\n        folder_path (str): The path of the folder containing the CSV file.\\n\\n    Returns:\\n        pandas.DataFrame: A DataFrame created from the data in the CSV file with\\n        the specified name.\\n    \"\"\"\\n    file_path = os.path.join(folder_path, f\\'{filename}.csv\\')\\n    df = pd.read_csv(file_path)\\n    df.name = df_name\\n    return df', 'def readr(filename, df_name):\\n    \"\"\"\\n    Reads a CSV file from  the raw data folder and returns a pandas DataFrame.\\n    \\n    Parameters:\\n        filename (str): base name of CSV file to be read.\\n        df_name (str): The DataFrame name to be assigned \\n        \\n    Returns:\\n        pandas.DataFrame: A DataFrame created from the data in the CSV file with\\n        the specified name.\\n    \"\"\"\\n    file_path = \\'../data/raw/\\' + filename + \\'.csv\\'\\n    df = pd.read_csv(file_path)\\n    df.name = df_name\\n    return df\\n# readr(\\'land_use\\',\\'land_use_df\\')', 'def readp(filename, df_name):\\n    \"\"\"\\n    Reads a CSV file from the specified file path in the processed folder and returns a pandas DataFrame\\n    with the specified name.\\n    \\n    Parameters:\\n        filename (str): The name of the CSV file to be read.\\n        df_name (str): The name to be assigned to the resulting DataFrame.\\n        \\n    Returns:\\n        pandas.DataFrame: A DataFrame created from the data in the CSV file with\\n        the specified name.\\n    \"\"\"\\n    file_path = f\\'../data/processed/{filename}.csv\\'\\n    df = pd.read_csv(file_path)\\n    df.name = df_name\\n    return df\\n# df=readp(\\'missing\\',\\'missing_df\\')\\n# df', 'def split_by_elementr(file_name: str) -> Tuple[Dict[str, pd.DataFrame], List[str]]:\\n    \"\"\"\\n    Splits a CSV file into multiple dataframes based on the unique values in the \\'Element\\' column.\\n    \\n    Parameters:\\n        file_name (str): The name of the CSV file to read in.\\n        \\n    Returns:\\n        Tuple[Dict[str, pd.DataFrame], List[str]]: A tuple containing a dictionary where each key corresponds\\n        to a unique value in the \\'Element\\' column, and each value is a dataframe containing all rows with that\\n        unique value, and a list of unique values in the \\'Element\\' column.\\n    \"\"\"\\n    if not file_name.endswith(\\'.csv\\'):\\n        raise ValueError(\\'Input file must be a .csv file\\')\\n    \\n    # Load the specified dataframe\\n    df = pd.read_csv(f\\'../data/raw/{file_name}\\')\\n    \\n    # Group the dataframe by the \\'Element\\' column\\n    dfs = dict(tuple(df.groupby(\\'Element\\')))\\n    \\n    # Get the unique values in the \\'Element\\' column\\n    elements = list(df[\\'Element\\'].unique())\\n    \\n    return dfs, elements', 'def split_by_elementr(file_name: str) -> Tuple[Dict[str, pd.DataFrame], List[str]]:\\n    \"\"\"\\n    Splits a CSV file into multiple dataframes based on the unique values in the \\'Element\\' column.\\n    \\n    Parameters:\\n        file_name (str): The name of the CSV file to read in.\\n        \\n    Returns:\\n        Tuple[Dict[str, pd.DataFrame], List[str]]: A tuple containing a dictionary where each key corresponds\\n        to a unique value in the \\'Element\\' column, and each value is a dataframe containing all rows with that\\n        unique value, and a list of unique values in the \\'Element\\' column.\\n    \"\"\"\\n    # Load the specified dataframe\\n    df = pd.read_csv(f\\'../data/raw/{file_name}\\')\\n    \\n    # Group the dataframe by the \\'Element\\' column\\n    dfs = dict(tuple(df.groupby(\\'Element\\')))\\n    \\n    # Get the unique values in the \\'Element\\' column\\n    elements = list(df[\\'Element\\'].unique())\\n    \\n    return dfs, elements', 'def split_df_by_element(df: pd.DataFrame) -> Tuple[Dict[str, pd.DataFrame], List[str]]:\\n    \"\"\"\\n    Splits a DataFrame into multiple dataframes based on the unique values in the \\'Element\\' column.\\n\\n    Parameters:\\n        df (pd.DataFrame): The DataFrame to split.\\n    \\n    Returns:\\n        Tuple[Dict[str, pd.DataFrame], List[str]]: A tuple containing a dictionary where each key corresponds\\n        to a unique value in the \\'Element\\' column, and each value is a dataframe containing all rows with that\\n        unique value, and a list of unique values in the \\'Element\\' column.\\n    \"\"\"\\n    # Group the dataframe by the \\'Element\\' column\\n    dfs = dict(tuple(df.groupby(\\'Element\\')))\\n    \\n    # Get the unique values in the \\'Element\\' column\\n    elements = list(df[\\'Element\\'].unique())\\n    \\n    return dfs, elements', 'def groupdf(df, column_name):\\n    # Group the dataframe by the specified column\\n    dfs = dict(tuple(df.groupby(column_name)))\\n    return dfs', 'def delete(file_name):\\n    file_path = os.path.join(\"..\", \"data\", file_name)\\n    if os.path.exists(file_path):\\n        os.remove(file_path)\\n        print(f\"{file_name} deleted successfully\")\\n    else:\\n        print(f\"{file_name} not found\")', 'def rename(old_filename, new_filename):\\n    old_file_path = os.path.join(\"..\", \"data\", old_filename)\\n    new_file_path = os.path.join(\"..\", \"data\", new_filename)\\n    try:\\n        os.rename(old_file_path, new_file_path)\\n        print(f\"{old_filename} renamed to {new_filename} successfully\")\\n    except FileNotFoundError:\\n        print(f\"{old_filename} not found\")\\n    except FileExistsError:\\n        print(f\"A file with the name {new_filename} already exists\")\\n    except OSError:\\n        print(\"Invalid file path or name\")', 'def replace(input_str, find_str, replace_str):\\n    output_str = re.sub(find_str, replace_str, input_str)\\n    \\n    if output_str == input_str:\\n        warnings.warn(\"Replacement unsuccessful: \\'{}\\' not found in input string.\".format(find_str))\\n    \\n    return output_str', 'def eu(df):\\n    \"\"\"\\n    Filter a pandas DataFrame to include only the rows where the \\'Area\\' column contains values that match the countries in the European Union.\\n\\n    Parameters:\\n    - df (pandas.DataFrame): The DataFrame to filter.\\n\\n    Returns:\\n    - pandas.DataFrame: The filtered DataFrame.\\n    \"\"\"\\n    country_list = [\\'Austria\\', \\'Belgium\\', \\'Bulgaria\\', \\'Croatia\\', \\'Cyprus\\', \\'Czechia\\', \\'Denmark\\', \\n                    \\'Estonia\\', \\'Finland\\', \\'France\\', \\'Germany\\', \\'Greece\\', \\'Hungary\\', \\'Ireland\\', \\'Italy\\', \\n                    \\'Latvia\\', \\'Lithuania\\', \\'Luxembourg\\', \\'Malta\\', \\'Netherlands\\', \\'Poland\\', \\'Portugal\\', \\'Romania\\', \\n                    \\'Slovakia\\', \\'Slovenia\\', \\'Spain\\', \\'Sweden\\']\\n    return df[df[\\'Area\\'].isin(country_list)]\\n\\n# df=readr(\\'meat\\',\\'df\\')\\n# df=eu(df)\\n# df', 'def now(df, year_min):\\n    \"\"\"\\n    Filter to \\'Year\\'>.\\n    Parameters:\\n    - df (pandas.DataFrame): The DataFrame to filter.\\n    - year_min (int): The minimum year to include in the filtered DataFrame.\\n    Returns:\\n    - pandas.DataFrame: The filtered DataFrame.\\n    \"\"\"\\n    return df[df[\\'Year\\'] >= year_min]\\n\\n# df=readr(\\'meat\\',\\'df\\')\\n# df = now(df, 2015)\\n# df.head()', \"df=readr('meat','df')\\ndf=eu(df)\", \"df = pd.read_csv('../data/raw/meat.csv')\\n\\n# Apply the 'eu' function to filter down to only European Union countries\\ndf= eu(df)\\n\\n# Apply the 'now2' function to filter down further to only years greater than or equal to 2000\\ndf= now2(df)\\n\\n# Print the first 5 rows of the filtered DataFrame\\ndf.head()\", 'def file_info_table(folder_path):\\n    \"\"\"\\n    Generate an HTML table with information on files in a given folder.\\n\\n    Parameters:\\n    - folder_path (str): The path to the folder containing the files.\\n\\n    Returns:\\n    - str: The HTML code for the table.\\n    \"\"\"\\n    # Get the contents of the folder\\n    try:\\n        contents = os.listdir(folder_path)\\n    except FileNotFoundError:\\n        return \"Directory not found\"\\n    except OSError:\\n        return \"Invalid folder path\"\\n\\n    # Create the table header\\n    table = \\'<table style=\"font-size:100%\"><thead><tr><th>File Name</th><th>Size</th><th>Modified Time</th></tr></thead><tbody>\\'\\n\\n    # Add a row for each file\\n    for item in contents:\\n        item_path = os.path.join(folder_path, item)\\n        if os.path.isfile(item_path):\\n            # Get the file size and modified time\\n            size = os.path.getsize(item_path)\\n            modified_time = datetime.datetime.fromtimestamp(os.path.getmtime(item_path)).strftime(\\'%Y-%m-%d %H:%M\\')\\n            # Add a row to the table\\n            table += \\'<tr><td>{}</td><td>{}</td><td>{}</td></tr>\\'.format(item, size, modified_time)\\n\\n    # Close the table\\n    table += \\'</tbody></table>\\'\\n\\n    return table\\n\\n# folder_path = \"../data/raw\"\\n# table = file_info_table(folder_path)\\n# print(table)', \"scan('images')\", \"scan('../images')\", 'scan(../images)', \"scan(''../images')\", \"scan('../images')\", '\\\\u2103', \"rain_df = combine('../data', 'pr', 'Rain_mm/yr')\\nrain_df.head()\", \"rain_df = combine('../data', 'pr', 'Rain_mm/yr')\\nrain_df.head()\", 'import csv\\nimport datetime\\nimport glob\\nimport fancyimpute\\nimport html\\nimport matplotlib.axes\\nimport matplotlib.image as mpimg\\nimport matplotlib.pyplot as plt\\nimport missingno as msno\\nimport numpy as np\\nimport os\\nimport pandas as pd\\nimport pycountry\\nimport plotly.express as px\\nimport re\\nimport requests\\nimport seaborn as sns\\nimport time\\nfrom IPython.display import HTML, Image, display\\nfrom countrygroups import EUROPEAN_UNION\\nfrom countryinfo import CountryInfo\\nfrom functools import partial, reduce\\nfrom scipy.stats import ks_2samp, shapiro\\nfrom sklearn.ensemble import GradientBoostingRegressor, RandomForestRegressor\\nfrom sklearn.impute import SimpleImputer\\nfrom sklearn.linear_model import ElasticNet, Lasso, LinearRegression, Ridge\\nfrom sklearn.metrics import mean_absolute_error, r2_score\\nfrom sklearn.model_selection import GridSearchCV, RandomizedSearchCV, train_test_split\\nfrom sklearn.neighbors import KNeighborsRegressor\\nfrom sklearn.svm import LinearSVR\\nfrom typing import Dict, List, Tuple', 'def transform(path: str, filename: str, col_name: str) -> pd.DataFrame:\\n    \"\"\"Reads in a CSV file from the given directory, renames a column to the given column name, and\\n    filters the resulting dataframe to only include the \\'key\\' and specified column.\\n    \\n    Args:\\n        path (str): The relative path of the directory containing the data.\\n        filename (str): The name of the CSV file to read in.\\n        col_name (str): The name to assign to the specified column in the resulting dataframe.\\n        \\n    Returns:\\n        pandas.DataFrame: The resulting dataframe after renaming the specified column and filtering\\n        to only include the \\'key\\' and specified column.\\n    \"\"\"\\n    try:\\n        file_path = os.path.join(path, filename)\\n        df = pd.read_csv(file_path, on_bad_lines=\\'skip\\', skiprows=1)\\n        df.rename(columns={\\'Unnamed: 0\\': \\'Year\\'}, inplace=True)\\n        df[\\'key\\'] = df.columns[1] + df[\\'Year\\'].astype(str)\\n        df.rename(columns={df.columns[1]: col_name}, inplace=True)\\n        df = df.filter([\\'key\\', col_name])\\n        return df\\n    except Exception as e:\\n        print(f\"Error reading in CSV file {file_path}: {e}\")', 'def combine(path: str, subfolder: str, col_name: str) -> pd.DataFrame:\\n    \"\"\"Reads in all CSV files in the given subfolder of the directory, applies the \\'transform\\' function to each file, and\\n    combines the resulting dataframes together into a single dataframe.\\n    \\n    Args:\\n        path (str): The relative path of the directory containing the data.\\n        subfolder (str): The name of the subfolder within the directory to read the CSV files from.\\n        col_name (str): The name to assign to the specified column in the resulting dataframe.\\n        \\n    Returns:\\n        pandas.DataFrame: The resulting dataframe after combining data from all CSV files in the\\n        specified subfolder.\\n    \"\"\"\\n    try:\\n        folder_path = os.path.join(path, subfolder)\\n        csv_filenames = glob.glob(folder_path + \"/*.csv\")\\n        processed_dfs = (transform(path, os.path.join(subfolder, os.path.basename(FileName)), col_name) for FileName in csv_filenames)\\n        df = pd.concat(processed_dfs, ignore_index=True)\\n        return df\\n    except Exception as e:\\n        print(f\"Error combining CSV files in folder {folder_path}: {e}\")', 'def split(df: pd.DataFrame, col: str) -> dict:\\n    \"\"\"\\n    \\n \\n    Parameters:\\n        df (pd.DataFrame): The DataFrame to split.\\n        col (str): The name of the column to group by.\\n\\n    Returns:\\n        dict: A dictionary where each key corresponds to a unique value in the specified column,\\n        and each value is a DataFrame containing all rows with that unique value.\\n    \"\"\"\\n    dfs = dict(tuple(df.groupby(col)))\\n    return dfs', 'def key(df, area_col=\\'Area\\', year_col=\\'Year\\', key_col=\\'key\\'):\\n    \"\"\"\\n    Add a new column to a pandas DataFrame that concatenates the values in the \\'area_col\\' and \\'year_col\\' columns.\\n\\n    Parameters:\\n    - df (pandas.DataFrame): The DataFrame to add the new column to.\\n    - area_col (str): The name of the column that contains the area values.\\n    - year_col (str): The name of the column that contains the year values.\\n    - key_col (str): The name of the new column to create.\\n\\n    Returns:\\n    - None\\n    \"\"\"\\n    df[key_col] = df[area_col] + df[year_col].astype(str)', 'def snake(text):\\n    \"\"\"\\n    Converts a given string to snake_case by replacing any whitespace characters with underscores,\\n    converting to all lowercase, and adding an underscore to the beginning if it doesn\\'t already start with one.\\n\\n    Parameters:\\n        text (str): The string to convert to snake_case.\\n\\n    Returns:\\n        str: The resulting string in snake_case format.\\n    \"\"\"\\n    # Convert to string and strip leading/trailing whitespace\\n    text = str(text).strip()\\n    # Replace any whitespace characters with underscores\\n    text = re.sub(r\\'\\\\s+\\', \\'_\\', text)\\n    # Convert to all lowercase\\n    text = text.lower()\\n    # Add an underscore to the beginning if it doesn\\'t already start with one\\n    if not text.startswith(\\'_\\'):\\n        text = \\'_\\' + text\\n    return text', 'def pascal(string):\\n    \"\"\"\\n    Convert a space- or snake-separated string to PascalCase.\\n\\n    Parameters:\\n        string (str): The input string to convert to PascalCase.\\n\\n    Returns:\\n        str: The input string in PascalCase format.\\n\\n    \"\"\"\\n    # Replace any underscores with spaces\\n    string = string.replace(\"_\", \" \")\\n    # Capitalize the first letter of each word\\n    words = string.title()\\n    # Remove any remaining spaces\\n    words = words.replace(\" \", \"\")\\n    return words', 'def camel(string):\\n    \"\"\"\\n    Convert a space-separated or snake_case string to camelCase.\\n\\n    Parameters:\\n        string (str): The string to convert.\\n\\n    Returns:\\n        str: The converted string in camelCase.\\n    \"\"\"\\n    # Replace underscores with spaces and split the string into a list of words\\n    words = string.replace(\"_\", \" \").split()\\n    # Convert the first word to lowercase and capitalize all subsequent words\\n    camel_cased = [words[0].lower()] + [word.capitalize() for word in words[1:]]\\n    # Concatenate the words together and return the resulting string\\n    return \"    \" + \\'\\'.join(camel_cased) + \"    \"', 'def title(sentence):\\n    \"\"\"\\n    Takes a string and converts it to title case, where the first letter of each\\n    non-conjunction/preposition word is capitalized, and all other letters are lowercase.\\n    \\n    Args:\\n        sentence (str): The string to convert to title case.\\n        \\n    Returns:\\n        str: The input string converted to title case.\\n    \"\"\"\\n    # Define a list of common prepositions and conjunctions\\n    prepositions_conjunctions = [\\'a\\', \\'this\\', \\'an\\', \\'the\\', \\'and\\', \\'but\\', \\'or\\', \\'for\\', \\'has\\', \\'nor\\', \\'on\\', \\'at\\', \\'to\\', \\'from\\', \\'by\\', \\'over\\', \\'under\\', \\'in\\', \\'out\\', \\'of\\']\\n    # Split the input string into a list of words\\n    words = sentence.split()\\n    processed_words = []\\n    for word in words:\\n        # If the word is not a preposition or conjunction, capitalize the first letter and lowercase the rest\\n        if word.lower() not in prepositions_conjunctions:\\n            processed_words.append(word.capitalize())\\n        # If the word is a preposition or conjunction, convert to lowercase\\n        else:\\n            processed_words.append(word.lower())\\n    # Join the list of processed words into a single string, with proper spacing\\n    output = \" \".join(processed_words)\\n    # Remove any leading/trailing whitespace and add some padding\\n    return \"     \" + re.sub(\\'\\\\s+\\', \\' \\', output.strip()) + \"     \"', 'def word_count(text):\\n    \"\"\"\\n    Counts the number of words in a given text.\\n    \\n    Parameters:\\n        text (str): The text to be counted.\\n        \\n    Returns:\\n        int: The number of words in the text.\\n    \"\"\"\\n    words = text.split()\\n    return len(words)', 'def char_count(string):\\n    \"\"\"\\n    Count the number of characters in a string.\\n\\n    Parameters:\\n    - string (str): The string to count characters in.\\n\\n    Returns:\\n    - int: The number of characters in the string.\\n    \"\"\"\\n    return len(string)', 'def scan(folder_name):\\n    \"\"\"Scans the specified folder and prints information about its contents.\\n\\n    Parameters:\\n        folder_name (str): The name of the folder to scan.\\n\\n    Returns:\\n        None.\\n    \"\"\"\\n    current_dir = os.getcwd()\\n    folder_path = os.path.join(current_dir, folder_name)\\n    try:\\n        contents = os.listdir(folder_path)\\n    except FileNotFoundError:\\n        print(\"Directory not found\")\\n        return\\n    except OSError:\\n        print(\"Invalid folder path\")\\n        return\\n    print(\"Contents of the folder \\'{}\\':\".format(folder_path))\\n    for item in contents:\\n        item_path = os.path.join(folder_path, item)\\n        if os.path.isfile(item_path):\\n            size = os.path.getsize(item_path)\\n            modified_time = datetime.datetime.fromtimestamp(os.path.getmtime(item_path)).strftime(\\'%Y-%m-%d %H:%M\\')\\n            print(\"{:30} {:10} {}\".format(item, size, modified_time))\\n        else:\\n            print(\"{} (directory)\".format(item))\\n# scan(\\'../../images\\')    ', 'def scann():\\n    \"\"\"Scans the raw data folder and prints contents information.\\n\\n    Parameters:\\n        None\\n\\n    Returns:\\n        Prints out contents information of the raw data folder.\\n    \"\"\"\\n    folder_path = \"../notebooks\"\\n    try:\\n        contents = os.listdir(folder_path)\\n    except FileNotFoundError:\\n        print(\"Directory not found\")\\n        return\\n    except OSError:\\n        print(\"Invalid folder path\")\\n        return\\n    print(\"Contents of the folder \\'{}\\':\".format(folder_path))\\n    for item in contents:\\n        item_path = os.path.join(folder_path, item)\\n        if os.path.isfile(item_path):\\n            size = os.path.getsize(item_path)\\n            modified_time = datetime.datetime.fromtimestamp(os.path.getmtime(item_path)).strftime(\\'%Y-%m-%d %H:%M\\')\\n            print(\"{:30} {:10} {}\".format(item, size, modified_time))\\n        else:\\n            print(\"{} (directory)\".format(item))\\n# scann()', 'def scanr():\\n    \"\"\"Scans the raw data folder and prints contents information.\\n\\n    Parameters:\\n        None\\n\\n    Returns:\\n        Prints out contents information of the raw data folder.\\n    \"\"\" \\n    folder_name = \\'../data/raw\\'\\n    current_dir = os.getcwd()\\n    folder_path = os.path.join(current_dir, folder_name)\\n    try:\\n        contents = os.listdir(folder_path)\\n    except FileNotFoundError:\\n        print(\"Directory not found\")\\n        return\\n    except OSError:\\n        print(\"Invalid folder path\")\\n        return\\n    print(\"Contents of the folder \\'{}\\':\".format(folder_name))\\n    for item in contents:\\n        item_path = os.path.join(folder_path, item)\\n        if os.path.isfile(item_path):\\n            size = os.path.getsize(item_path)\\n            modified_time = datetime.datetime.fromtimestamp(os.path.getmtime(item_path)).strftime(\\'%Y-%m-%d %H:%M\\')\\n            print(\"{:30} {:10} {}\".format(item, size, modified_time))\\n        else:\\n            print(\"{} (directory)\".format(item))\\n# scanr()', 'def read(filename, df_name, folder_path):\\n    \"\"\"\\n    Reads a CSV file from the specified folder and returns a pandas DataFrame\\n    with the specified name.\\n\\n    Parameters:\\n        filename (str): The name of the CSV file to be read.\\n        df_name (str): The name to be assigned to the resulting DataFrame.\\n        folder_path (str): The path of the folder containing the CSV file.\\n\\n    Returns:\\n        pandas.DataFrame: A DataFrame created from the data in the CSV file with\\n        the specified name.\\n    \"\"\"\\n    file_path = os.path.join(folder_path, f\\'{filename}.csv\\')\\n    df = pd.read_csv(file_path)\\n    df.name = df_name\\n    return df', 'def readr(filename, df_name):\\n    \"\"\"\\n    Reads a CSV file from  the raw data folder and returns a pandas DataFrame.\\n    \\n    Parameters:\\n        filename (str): base name of CSV file to be read.\\n        df_name (str): The DataFrame name to be assigned \\n        \\n    Returns:\\n        pandas.DataFrame: A DataFrame created from the data in the CSV file with\\n        the specified name.\\n    \"\"\"\\n    file_path = \\'../data/raw/\\' + filename + \\'.csv\\'\\n    df = pd.read_csv(file_path)\\n    df.name = df_name\\n    return df\\n# readr(\\'land_use\\',\\'land_use_df\\')', 'def readp(filename, df_name):\\n    \"\"\"\\n    Reads a CSV file from the specified file path in the processed folder and returns a pandas DataFrame\\n    with the specified name.\\n    \\n    Parameters:\\n        filename (str): The name of the CSV file to be read.\\n        df_name (str): The name to be assigned to the resulting DataFrame.\\n        \\n    Returns:\\n        pandas.DataFrame: A DataFrame created from the data in the CSV file with\\n        the specified name.\\n    \"\"\"\\n    file_path = f\\'../data/processed/{filename}.csv\\'\\n    df = pd.read_csv(file_path)\\n    df.name = df_name\\n    return df\\n# df=readp(\\'missing\\',\\'missing_df\\')\\n# df', 'def split_by_elementr(file_name: str) -> Tuple[Dict[str, pd.DataFrame], List[str]]:\\n    \"\"\"\\n    Splits a CSV file into multiple dataframes based on the unique values in the \\'Element\\' column.\\n    \\n    Parameters:\\n        file_name (str): The name of the CSV file to read in.\\n        \\n    Returns:\\n        Tuple[Dict[str, pd.DataFrame], List[str]]: A tuple containing a dictionary where each key corresponds\\n        to a unique value in the \\'Element\\' column, and each value is a dataframe containing all rows with that\\n        unique value, and a list of unique values in the \\'Element\\' column.\\n    \"\"\"\\n    if not file_name.endswith(\\'.csv\\'):\\n        raise ValueError(\\'Input file must be a .csv file\\')\\n    \\n    # Load the specified dataframe\\n    df = pd.read_csv(f\\'../data/raw/{file_name}\\')\\n    \\n    # Group the dataframe by the \\'Element\\' column\\n    dfs = dict(tuple(df.groupby(\\'Element\\')))\\n    \\n    # Get the unique values in the \\'Element\\' column\\n    elements = list(df[\\'Element\\'].unique())\\n    \\n    return dfs, elements', 'def split_by_elementr(file_name: str) -> Tuple[Dict[str, pd.DataFrame], List[str]]:\\n    \"\"\"\\n    Splits a CSV file into multiple dataframes based on the unique values in the \\'Element\\' column.\\n    \\n    Parameters:\\n        file_name (str): The name of the CSV file to read in.\\n        \\n    Returns:\\n        Tuple[Dict[str, pd.DataFrame], List[str]]: A tuple containing a dictionary where each key corresponds\\n        to a unique value in the \\'Element\\' column, and each value is a dataframe containing all rows with that\\n        unique value, and a list of unique values in the \\'Element\\' column.\\n    \"\"\"\\n    # Load the specified dataframe\\n    df = pd.read_csv(f\\'../data/raw/{file_name}\\')\\n    \\n    # Group the dataframe by the \\'Element\\' column\\n    dfs = dict(tuple(df.groupby(\\'Element\\')))\\n    \\n    # Get the unique values in the \\'Element\\' column\\n    elements = list(df[\\'Element\\'].unique())\\n    \\n    return dfs, elements', 'def split_df_by_element(df: pd.DataFrame) -> Tuple[Dict[str, pd.DataFrame], List[str]]:\\n    \"\"\"\\n    Splits a DataFrame into multiple dataframes based on the unique values in the \\'Element\\' column.\\n\\n    Parameters:\\n        df (pd.DataFrame): The DataFrame to split.\\n    \\n    Returns:\\n        Tuple[Dict[str, pd.DataFrame], List[str]]: A tuple containing a dictionary where each key corresponds\\n        to a unique value in the \\'Element\\' column, and each value is a dataframe containing all rows with that\\n        unique value, and a list of unique values in the \\'Element\\' column.\\n    \"\"\"\\n    # Group the dataframe by the \\'Element\\' column\\n    dfs = dict(tuple(df.groupby(\\'Element\\')))\\n    \\n    # Get the unique values in the \\'Element\\' column\\n    elements = list(df[\\'Element\\'].unique())\\n    \\n    return dfs, elements', 'def groupdf(df, column_name):\\n    # Group the dataframe by the specified column\\n    dfs = dict(tuple(df.groupby(column_name)))\\n    return dfs', 'def delete(file_name):\\n    file_path = os.path.join(\"..\", \"data\", file_name)\\n    if os.path.exists(file_path):\\n        os.remove(file_path)\\n        print(f\"{file_name} deleted successfully\")\\n    else:\\n        print(f\"{file_name} not found\")', 'def rename(old_filename, new_filename):\\n    old_file_path = os.path.join(\"..\", \"data\", old_filename)\\n    new_file_path = os.path.join(\"..\", \"data\", new_filename)\\n    try:\\n        os.rename(old_file_path, new_file_path)\\n        print(f\"{old_filename} renamed to {new_filename} successfully\")\\n    except FileNotFoundError:\\n        print(f\"{old_filename} not found\")\\n    except FileExistsError:\\n        print(f\"A file with the name {new_filename} already exists\")\\n    except OSError:\\n        print(\"Invalid file path or name\")', 'def replace(input_str, find_str, replace_str):\\n    output_str = re.sub(find_str, replace_str, input_str)\\n    \\n    if output_str == input_str:\\n        warnings.warn(\"Replacement unsuccessful: \\'{}\\' not found in input string.\".format(find_str))\\n    \\n    return output_str', 'def eu(df):\\n    \"\"\"\\n    Filter a pandas DataFrame to include only the rows where the \\'Area\\' column contains values that match the countries in the European Union.\\n\\n    Parameters:\\n    - df (pandas.DataFrame): The DataFrame to filter.\\n\\n    Returns:\\n    - pandas.DataFrame: The filtered DataFrame.\\n    \"\"\"\\n    country_list = [\\'Austria\\', \\'Belgium\\', \\'Bulgaria\\', \\'Croatia\\', \\'Cyprus\\', \\'Czechia\\', \\'Denmark\\', \\n                    \\'Estonia\\', \\'Finland\\', \\'France\\', \\'Germany\\', \\'Greece\\', \\'Hungary\\', \\'Ireland\\', \\'Italy\\', \\n                    \\'Latvia\\', \\'Lithuania\\', \\'Luxembourg\\', \\'Malta\\', \\'Netherlands\\', \\'Poland\\', \\'Portugal\\', \\'Romania\\', \\n                    \\'Slovakia\\', \\'Slovenia\\', \\'Spain\\', \\'Sweden\\']\\n    return df[df[\\'Area\\'].isin(country_list)]\\n\\n# df=readr(\\'meat\\',\\'df\\')\\n# df=eu(df)\\n# df', 'def now(df, year_min):\\n    \"\"\"\\n    Filter to \\'Year\\'>.\\n    Parameters:\\n    - df (pandas.DataFrame): The DataFrame to filter.\\n    - year_min (int): The minimum year to include in the filtered DataFrame.\\n    Returns:\\n    - pandas.DataFrame: The filtered DataFrame.\\n    \"\"\"\\n    return df[df[\\'Year\\'] >= year_min]\\n\\n# df=readr(\\'meat\\',\\'df\\')\\n# df = now(df, 2015)\\n# df.head()', \"df=readr('meat','df')\\ndf=eu(df)\", \"df = pd.read_csv('../data/raw/meat.csv')\\n\\n# Apply the 'eu' function to filter down to only European Union countries\\ndf= eu(df)\\n\\n# Apply the 'now2' function to filter down further to only years greater than or equal to 2000\\ndf= now2(df)\\n\\n# Print the first 5 rows of the filtered DataFrame\\ndf.head()\", 'def file_info_table(folder_path):\\n    \"\"\"\\n    Generate an HTML table with information on files in a given folder.\\n\\n    Parameters:\\n    - folder_path (str): The path to the folder containing the files.\\n\\n    Returns:\\n    - str: The HTML code for the table.\\n    \"\"\"\\n    # Get the contents of the folder\\n    try:\\n        contents = os.listdir(folder_path)\\n    except FileNotFoundError:\\n        return \"Directory not found\"\\n    except OSError:\\n        return \"Invalid folder path\"\\n\\n    # Create the table header\\n    table = \\'<table style=\"font-size:100%\"><thead><tr><th>File Name</th><th>Size</th><th>Modified Time</th></tr></thead><tbody>\\'\\n\\n    # Add a row for each file\\n    for item in contents:\\n        item_path = os.path.join(folder_path, item)\\n        if os.path.isfile(item_path):\\n            # Get the file size and modified time\\n            size = os.path.getsize(item_path)\\n            modified_time = datetime.datetime.fromtimestamp(os.path.getmtime(item_path)).strftime(\\'%Y-%m-%d %H:%M\\')\\n            # Add a row to the table\\n            table += \\'<tr><td>{}</td><td>{}</td><td>{}</td></tr>\\'.format(item, size, modified_time)\\n\\n    # Close the table\\n    table += \\'</tbody></table>\\'\\n\\n    return table\\n\\n# folder_path = \"../data/raw\"\\n# table = file_info_table(folder_path)\\n# print(table)', \"rain_df = combine('../data', 'pr', 'Rain_mm/yr')\\nrain_df.head()\", \"temp_df = combine('../data', 'tas', 'Temperature_C')\", '\\\\u2103', \"# # Load the CSV file into a DataFrame\\n# df = pd.read_csv('../data/raw/consumer_price_indices.csv')\\n\\n# # Print the first five rows of the DataFrame\\n# print(df.head())\\n\\n# # Print the last five rows of the DataFrame\\n# print(df.tail())\\n\\n# # Get the shape of the DataFrame\\n# print(df.shape)\\n\\n# # Get the data types of the columns in the DataFrame\\n# print(df.dtypes)\\n\\n# # Get summary statistics for numeric columns in the DataFrame\\n# print(df.describe())\", \"# Read in the raw live animal produce data data file\\nproduce = pd.read_csv('rawdata/produce_live_animal.csv', on_bad_lines='skip')\\ndf=produce\\ndf.head()\", \"element_df = df['Element'].unique()\\nelement_df                                   \", \"# element_df = df['Element'].unique()\\n# element_df  \\n\\ngrouped_df = df.groupby('Element')\\nproduction = grouped_df.get_group('Production')\\nstocks = grouped_df.get_group('Stocks')\\nproduction.to_csv('engineered_data/production.csv', index=False)\\nstocks.to_csv('engineered_data/stocks.csv', index=False)\", 'production.head(2)', 'stocks.sample(2)', \"scan('engineered_data')\", 'df = stocks.query(\"Area in @EUROPEAN_UNION.names\")', \"# Generate a list of European Union countries for the eu function\\ncountry_list = df['Area'].unique().tolist()\\ncountry_list\", \"df['key'] = df['Area'] + df['Year'].astype(str) \\n\\ndf.head()\", \"# Select only the 'Area', 'Year', 'Value', and 'key' columns\\ndf = df.loc[:, ['Area', 'Year', 'Value', 'key']]\\ndf\\nmain=df\\nmain.head()\", 'df=stocks\\ndf.head()', \"# Filter the DataFrame to include only European Union countries\\ndf = eu(df)\\n\\n# Add a new 'key' column to the DataFrame\\nkey(df)\\ndf.head()\", \"# Extract the value from the 'Element' column\\nelement_value = df['Element'].iloc[0]\\n\\n# Rename the 'Value' column to the value in the 'Element' column\\ndf = df.set_axis([col if col != 'Value' else element_value for col in df.columns], axis=1)\\ndf.head()\", '# view all open variables\\nprint(globals())'], 'Out': {62:            key  Rain_mm/yr\n",
      "0  Austria1901     1052.84\n",
      "1  Austria1902     1061.55\n",
      "2  Austria1903     1201.34\n",
      "3  Austria1904     1146.14\n",
      "4  Austria1905     1127.85, 67: array(['Yield/Carcass Weight', 'Production',\n",
      "       'Producing Animals/Slaughtered'], dtype=object), 69:      Domain Code                        Domain  Area Code (M49)     Area  \\\n",
      "1525         QCL  Crops and livestock products               40  Austria   \n",
      "1526         QCL  Crops and livestock products               40  Austria   \n",
      "\n",
      "      Element Code     Element  Item Code (CPC)  \\\n",
      "1525          5510  Production         21111.01   \n",
      "1526          5510  Production         21111.01   \n",
      "\n",
      "                                                Item  Year Code  Year    Unit  \\\n",
      "1525  Meat of cattle with the bone, fresh or chilled       1961  1961  tonnes   \n",
      "1526  Meat of cattle with the bone, fresh or chilled       1962  1962  tonnes   \n",
      "\n",
      "         Value Flag Flag Description  \n",
      "1525  125581.0    A  Official figure  \n",
      "1526  140546.0    A  Official figure  , 73: ['Austria', 'Belgium', 'Bulgaria', 'Croatia', 'Cyprus', 'Czechia', 'Denmark', 'Estonia', 'Finland', 'France', 'Germany', 'Greece', 'Hungary', 'Ireland', 'Italy', 'Latvia', 'Lithuania', 'Luxembourg', 'Malta', 'Netherlands', 'Poland', 'Portugal', 'Romania', 'Slovakia', 'Slovenia', 'Spain', 'Sweden'], 74:      Domain Code                        Domain  Area Code (M49)     Area  \\\n",
      "1464         QCL  Crops and livestock products               40  Austria   \n",
      "1465         QCL  Crops and livestock products               40  Austria   \n",
      "1466         QCL  Crops and livestock products               40  Austria   \n",
      "1467         QCL  Crops and livestock products               40  Austria   \n",
      "1468         QCL  Crops and livestock products               40  Austria   \n",
      "\n",
      "      Element Code               Element  Item Code (CPC)  \\\n",
      "1464          5417  Yield/Carcass Weight         21111.01   \n",
      "1465          5417  Yield/Carcass Weight         21111.01   \n",
      "1466          5417  Yield/Carcass Weight         21111.01   \n",
      "1467          5417  Yield/Carcass Weight         21111.01   \n",
      "1468          5417  Yield/Carcass Weight         21111.01   \n",
      "\n",
      "                                                Item  Year Code  Year   Unit  \\\n",
      "1464  Meat of cattle with the bone, fresh or chilled       1961  1961  hg/An   \n",
      "1465  Meat of cattle with the bone, fresh or chilled       1962  1962  hg/An   \n",
      "1466  Meat of cattle with the bone, fresh or chilled       1963  1963  hg/An   \n",
      "1467  Meat of cattle with the bone, fresh or chilled       1964  1964  hg/An   \n",
      "1468  Meat of cattle with the bone, fresh or chilled       1965  1965  hg/An   \n",
      "\n",
      "       Value Flag Flag Description          key  \n",
      "1464  1501.0    E  Estimated value  Austria1961  \n",
      "1465  1510.0    E  Estimated value  Austria1962  \n",
      "1466  1497.0    E  Estimated value  Austria1963  \n",
      "1467  1564.0    E  Estimated value  Austria1964  \n",
      "1468  1658.0    E  Estimated value  Austria1965  , 75:          Area  Year   Value          key\n",
      "1464  Austria  1961  1501.0  Austria1961\n",
      "1465  Austria  1962  1510.0  Austria1962\n",
      "1466  Austria  1963  1497.0  Austria1963\n",
      "1467  Austria  1964  1564.0  Austria1964\n",
      "1468  Austria  1965  1658.0  Austria1965, 77:          Area  Year   Value          key\n",
      "1464  Austria  1961  1501.0  Austria1961\n",
      "1465  Austria  1962  1510.0  Austria1962\n",
      "1466  Austria  1963  1497.0  Austria1963\n",
      "1467  Austria  1964  1564.0  Austria1964\n",
      "1468  Austria  1965  1658.0  Austria1965}, 'get_ipython': <bound method InteractiveShell.get_ipython of <ipykernel.zmqshell.ZMQInteractiveShell object at 0x000002C7C67F4040>>, 'exit': <IPython.core.autocall.ZMQExitAutocall object at 0x000002C7C6871820>, 'quit': <IPython.core.autocall.ZMQExitAutocall object at 0x000002C7C6871820>, '_':          Area  Year   Value          key\n",
      "1464  Austria  1961  1501.0  Austria1961\n",
      "1465  Austria  1962  1510.0  Austria1962\n",
      "1466  Austria  1963  1497.0  Austria1963\n",
      "1467  Austria  1964  1564.0  Austria1964\n",
      "1468  Austria  1965  1658.0  Austria1965, '__':          Area  Year   Value          key\n",
      "1464  Austria  1961  1501.0  Austria1961\n",
      "1465  Austria  1962  1510.0  Austria1962\n",
      "1466  Austria  1963  1497.0  Austria1963\n",
      "1467  Austria  1964  1564.0  Austria1964\n",
      "1468  Austria  1965  1658.0  Austria1965, '___':      Domain Code                        Domain  Area Code (M49)     Area  \\\n",
      "1464         QCL  Crops and livestock products               40  Austria   \n",
      "1465         QCL  Crops and livestock products               40  Austria   \n",
      "1466         QCL  Crops and livestock products               40  Austria   \n",
      "1467         QCL  Crops and livestock products               40  Austria   \n",
      "1468         QCL  Crops and livestock products               40  Austria   \n",
      "\n",
      "      Element Code               Element  Item Code (CPC)  \\\n",
      "1464          5417  Yield/Carcass Weight         21111.01   \n",
      "1465          5417  Yield/Carcass Weight         21111.01   \n",
      "1466          5417  Yield/Carcass Weight         21111.01   \n",
      "1467          5417  Yield/Carcass Weight         21111.01   \n",
      "1468          5417  Yield/Carcass Weight         21111.01   \n",
      "\n",
      "                                                Item  Year Code  Year   Unit  \\\n",
      "1464  Meat of cattle with the bone, fresh or chilled       1961  1961  hg/An   \n",
      "1465  Meat of cattle with the bone, fresh or chilled       1962  1962  hg/An   \n",
      "1466  Meat of cattle with the bone, fresh or chilled       1963  1963  hg/An   \n",
      "1467  Meat of cattle with the bone, fresh or chilled       1964  1964  hg/An   \n",
      "1468  Meat of cattle with the bone, fresh or chilled       1965  1965  hg/An   \n",
      "\n",
      "       Value Flag Flag Description          key  \n",
      "1464  1501.0    E  Estimated value  Austria1961  \n",
      "1465  1510.0    E  Estimated value  Austria1962  \n",
      "1466  1497.0    E  Estimated value  Austria1963  \n",
      "1467  1564.0    E  Estimated value  Austria1964  \n",
      "1468  1658.0    E  Estimated value  Austria1965  , '_i': \"\\n# Extract the value from the 'Element' column\\nelement_value = df['Element'].iloc[0]\\n\\n# Rename the 'Value' column to the value in the 'Element' column\\ndf = df.set_axis([col if col != 'Value' else element_value for col in df.columns], axis=1)\\ndf.head()\", '_ii': \"\\n\\n\\n\\n# Filter the DataFrame to include only European Union countries\\ndf = eu(df)\\n\\n# Add a new 'key' column to the DataFrame\\nkey(df)\\ndf.head()\", '_iii': 'df=stocks\\ndf.head()', '_i1': '\\ndef file_info_table(folder_path):\\n    \"\"\"\\n    Generate an HTML table with information on files in a given folder.\\n\\n    Parameters:\\n    - folder_path (str): The path to the folder containing the files.\\n\\n    Returns:\\n    - str: The HTML code for the table.\\n    \"\"\"\\n    # Get the contents of the folder\\n    try:\\n        contents = os.listdir(folder_path)\\n    except FileNotFoundError:\\n        return \"Directory not found\"\\n    except OSError:\\n        return \"Invalid folder path\"\\n\\n    # Create the table header\\n    table = \\'<table style=\"font-size:100%\"><thead><tr><th>File Name</th><th>Size</th><th>Modified Time</th></tr></thead><tbody>\\'\\n\\n    # Add a row for each file\\n    for item in contents:\\n        item_path = os.path.join(folder_path, item)\\n        if os.path.isfile(item_path):\\n            # Get the file size and modified time\\n            size = os.path.getsize(item_path)\\n            modified_time = datetime.datetime.fromtimestamp(os.path.getmtime(item_path)).strftime(\\'%Y-%m-%d %H:%M\\')\\n            # Add a row to the table\\n            table += \\'<tr><td>{}</td><td>{}</td><td>{}</td></tr>\\'.format(item, size, modified_time)\\n\\n    # Close the table\\n    table += \\'</tbody></table>\\'\\n\\n    return table\\n\\nfolder_path = \"../data/raw\"\\ntable = file_info_table(folder_path)\\nprint(table)', 'file_info_table': <function file_info_table at 0x000002C7FF8028B0>, 'folder_path': '../data/raw', '_i2': '\\ndef file_info_table(folder_path):\\n    \"\"\"\\n    Generate an HTML table with information on files in a given folder.\\n\\n    Parameters:\\n    - folder_path (str): The path to the folder containing the files.\\n\\n    Returns:\\n    - str: The HTML code for the table.\\n    \"\"\"\\n    # Get the contents of the folder\\n    try:\\n        contents = os.listdir(folder_path)\\n    except FileNotFoundError:\\n        return \"Directory not found\"\\n    except OSError:\\n        return \"Invalid folder path\"\\n\\n    # Create the table header\\n    table = \\'<table style=\"font-size:100%\"><thead><tr><th>File Name</th><th>Size</th><th>Modified Time</th></tr></thead><tbody>\\'\\n\\n    # Add a row for each file\\n    for item in contents:\\n        item_path = os.path.join(folder_path, item)\\n        if os.path.isfile(item_path):\\n            # Get the file size and modified time\\n            size = os.path.getsize(item_path)\\n            modified_time = datetime.datetime.fromtimestamp(os.path.getmtime(item_path)).strftime(\\'%Y-%m-%d %H:%M\\')\\n            # Add a row to the table\\n            table += \\'<tr><td>{}</td><td>{}</td><td>{}</td></tr>\\'.format(item, size, modified_time)\\n\\n    # Close the table\\n    table += \\'</tbody></table>\\'\\n\\n    return table\\n\\nfolder_path = \"../data/raw\"\\ntable = file_info_table(folder_path)\\nprint(table)', '_i3': 'import csv\\nimport datetime\\nimport glob\\nimport fancyimpute\\nimport html\\nimport matplotlib.axes\\nimport matplotlib.image as mpimg\\nimport matplotlib.pyplot as plt\\nimport missingno as msno\\nimport numpy as np\\nimport os\\nimport pandas as pd\\nimport pycountry\\nimport plotly.express as px\\nimport re\\nimport requests\\nimport seaborn as sns\\nimport time\\nfrom IPython.display import HTML, Image, display\\nfrom countrygroups import EUROPEAN_UNION\\nfrom countryinfo import CountryInfo\\nfrom functools import partial, reduce\\nfrom scipy.stats import ks_2samp, shapiro\\nfrom sklearn.ensemble import GradientBoostingRegressor, RandomForestRegressor\\nfrom sklearn.impute import SimpleImputer\\nfrom sklearn.linear_model import ElasticNet, Lasso, LinearRegression, Ridge\\nfrom sklearn.metrics import mean_absolute_error, r2_score\\nfrom sklearn.model_selection import GridSearchCV, RandomizedSearchCV, train_test_split\\nfrom sklearn.neighbors import KNeighborsRegressor\\nfrom sklearn.svm import LinearSVR\\nfrom typing import Dict, List, Tuple', 'csv': <module 'csv' from 'C:\\\\Users\\\\ronan\\\\anaconda3\\\\lib\\\\csv.py'>, 'datetime': <module 'datetime' from 'C:\\\\Users\\\\ronan\\\\anaconda3\\\\lib\\\\datetime.py'>, 'glob': <module 'glob' from 'C:\\\\Users\\\\ronan\\\\anaconda3\\\\lib\\\\glob.py'>, 'fancyimpute': <module 'fancyimpute' from 'C:\\\\Users\\\\ronan\\\\anaconda3\\\\lib\\\\site-packages\\\\fancyimpute\\\\__init__.py'>, 'html': <module 'html' from 'C:\\\\Users\\\\ronan\\\\anaconda3\\\\lib\\\\html\\\\__init__.py'>, 'matplotlib': <module 'matplotlib' from 'C:\\\\Users\\\\ronan\\\\anaconda3\\\\lib\\\\site-packages\\\\matplotlib\\\\__init__.py'>, 'mpimg': <module 'matplotlib.image' from 'C:\\\\Users\\\\ronan\\\\anaconda3\\\\lib\\\\site-packages\\\\matplotlib\\\\image.py'>, 'plt': <module 'matplotlib.pyplot' from 'C:\\\\Users\\\\ronan\\\\anaconda3\\\\lib\\\\site-packages\\\\matplotlib\\\\pyplot.py'>, 'msno': <module 'missingno' from 'C:\\\\Users\\\\ronan\\\\anaconda3\\\\lib\\\\site-packages\\\\missingno\\\\__init__.py'>, 'np': <module 'numpy' from 'C:\\\\Users\\\\ronan\\\\anaconda3\\\\lib\\\\site-packages\\\\numpy\\\\__init__.py'>, 'os': <module 'os' from 'C:\\\\Users\\\\ronan\\\\anaconda3\\\\lib\\\\os.py'>, 'pd': <module 'pandas' from 'C:\\\\Users\\\\ronan\\\\anaconda3\\\\lib\\\\site-packages\\\\pandas\\\\__init__.py'>, 'pycountry': <module 'pycountry' from 'C:\\\\Users\\\\ronan\\\\anaconda3\\\\lib\\\\site-packages\\\\pycountry\\\\__init__.py'>, 'px': <module 'plotly.express' from 'C:\\\\Users\\\\ronan\\\\anaconda3\\\\lib\\\\site-packages\\\\plotly\\\\express\\\\__init__.py'>, 're': <module 're' from 'C:\\\\Users\\\\ronan\\\\anaconda3\\\\lib\\\\re.py'>, 'requests': <module 'requests' from 'C:\\\\Users\\\\ronan\\\\anaconda3\\\\lib\\\\site-packages\\\\requests\\\\__init__.py'>, 'sns': <module 'seaborn' from 'C:\\\\Users\\\\ronan\\\\anaconda3\\\\lib\\\\site-packages\\\\seaborn\\\\__init__.py'>, 'time': <module 'time' (built-in)>, 'HTML': <class 'IPython.core.display.HTML'>, 'Image': <class 'IPython.core.display.Image'>, 'display': <function display at 0x000002C7C4E9FDC0>, 'EUROPEAN_UNION': ['AUT', 'BEL', 'BGR', 'CYP', 'CZE', 'DEU', 'DNK', 'ESP', 'EST', 'FIN', 'FRA', 'GRC', 'HRV', 'HUN', 'IRL', 'ITA', 'LTU', 'LUX', 'LVA', 'MLT', 'NLD', 'POL', 'PRT', 'ROU', 'SVK', 'SVN', 'SWE'], 'CountryInfo': <class 'countryinfo.countryinfo.CountryInfo'>, 'partial': <class 'functools.partial'>, 'reduce': <built-in function reduce>, 'ks_2samp': <function ks_2samp at 0x000002C7C9574EE0>, 'shapiro': <function shapiro at 0x000002C7C95A0670>, 'GradientBoostingRegressor': <class 'sklearn.ensemble._gb.GradientBoostingRegressor'>, 'RandomForestRegressor': <class 'sklearn.ensemble._forest.RandomForestRegressor'>, 'SimpleImputer': <class 'sklearn.impute._base.SimpleImputer'>, 'ElasticNet': <class 'sklearn.linear_model._coordinate_descent.ElasticNet'>, 'Lasso': <class 'sklearn.linear_model._coordinate_descent.Lasso'>, 'LinearRegression': <class 'sklearn.linear_model._base.LinearRegression'>, 'Ridge': <class 'sklearn.linear_model._ridge.Ridge'>, 'mean_absolute_error': <function mean_absolute_error at 0x000002C7F9CBF1F0>, 'r2_score': <function r2_score at 0x000002C7F9CBFEE0>, 'GridSearchCV': <class 'sklearn.model_selection._search.GridSearchCV'>, 'RandomizedSearchCV': <class 'sklearn.model_selection._search.RandomizedSearchCV'>, 'train_test_split': <function train_test_split at 0x000002C7F9DA2F70>, 'KNeighborsRegressor': <class 'sklearn.neighbors._regression.KNeighborsRegressor'>, 'LinearSVR': <class 'sklearn.svm._classes.LinearSVR'>, 'Dict': typing.Dict, 'List': typing.List, 'Tuple': typing.Tuple, '_i4': '\\ndef file_info_table(folder_path):\\n    \"\"\"\\n    Generate an HTML table with information on files in a given folder.\\n\\n    Parameters:\\n    - folder_path (str): The path to the folder containing the files.\\n\\n    Returns:\\n    - str: The HTML code for the table.\\n    \"\"\"\\n    # Get the contents of the folder\\n    try:\\n        contents = os.listdir(folder_path)\\n    except FileNotFoundError:\\n        return \"Directory not found\"\\n    except OSError:\\n        return \"Invalid folder path\"\\n\\n    # Create the table header\\n    table = \\'<table style=\"font-size:100%\"><thead><tr><th>File Name</th><th>Size</th><th>Modified Time</th></tr></thead><tbody>\\'\\n\\n    # Add a row for each file\\n    for item in contents:\\n        item_path = os.path.join(folder_path, item)\\n        if os.path.isfile(item_path):\\n            # Get the file size and modified time\\n            size = os.path.getsize(item_path)\\n            modified_time = datetime.datetime.fromtimestamp(os.path.getmtime(item_path)).strftime(\\'%Y-%m-%d %H:%M\\')\\n            # Add a row to the table\\n            table += \\'<tr><td>{}</td><td>{}</td><td>{}</td></tr>\\'.format(item, size, modified_time)\\n\\n    # Close the table\\n    table += \\'</tbody></table>\\'\\n\\n    return table\\n\\nfolder_path = \"../data/raw\"\\ntable = file_info_table(folder_path)\\nprint(table)', 'table': '<table style=\"font-size:100%\"><thead><tr><th>File Name</th><th>Size</th><th>Modified Time</th></tr></thead><tbody><tr><td>consumer_price_indices.csv</td><td>7167669</td><td>2023-02-16 22:16</td></tr><tr><td>country_area.csv</td><td>1653232</td><td>2023-02-15 19:40</td></tr><tr><td>input_fertilizers_by_nutrient.csv</td><td>7073332</td><td>2023-02-16 22:16</td></tr><tr><td>investment_credit_to_agriculture.csv</td><td>2952305</td><td>2023-02-15 20:40</td></tr><tr><td>investment_government_expenditure.csv</td><td>827587</td><td>2023-02-15 20:49</td></tr><tr><td>land_cover.csv</td><td>2721521</td><td>2023-02-15 20:18</td></tr><tr><td>land_input_livestock_manure.csv</td><td>1019522</td><td>2023-02-16 22:16</td></tr><tr><td>land_use.csv</td><td>7647950</td><td>2023-02-16 22:16</td></tr><tr><td>meat.csv</td><td>7500469</td><td>2023-02-17 00:39</td></tr><tr><td>population.csv</td><td>17089991</td><td>2023-02-16 22:16</td></tr><tr><td>prices_for_producers.csv</td><td>1945297</td><td>2023-02-15 18:29</td></tr><tr><td>price_deflators.csv</td><td>767758</td><td>2023-02-16 22:16</td></tr><tr><td>price_exchange_rates.csv</td><td>4531028</td><td>2023-02-16 22:16</td></tr><tr><td>producer_avocadoos_prices.csv</td><td>147829</td><td>2023-02-16 23:44</td></tr><tr><td>produce_beef_value.csv</td><td>13444776</td><td>2023-02-16 22:16</td></tr><tr><td>produce_live_animal.csv</td><td>3312619</td><td>2023-02-15 08:40</td></tr><tr><td>produce_primary_meat.csv</td><td>7500469</td><td>2023-02-16 22:16</td></tr><tr><td>production_bug.csv</td><td>198993</td><td>2023-02-16 02:59</td></tr><tr><td>stocks_bug.csv</td><td>229309</td><td>2023-02-16 03:00</td></tr><tr><td>trade_indices.csv</td><td>1132795</td><td>2023-02-16 22:16</td></tr><tr><td>trade_produce.csv</td><td>2654211</td><td>2023-02-15 17:12</td></tr></tbody></table>', '_i5': '# folder_path = \"../data/raw\"\\n# table = file_info_table(folder_path)\\n# print(table)', '_i6': \"scan('images')\", '_i7': '\\ndef scan(folder_name):\\n    \"\"\"Scans the specified folder and prints information about its contents.\\n\\n    Parameters:\\n        folder_name (str): The name of the folder to scan.\\n\\n    Returns:\\n        None.\\n    \"\"\"\\n    current_dir = os.getcwd()\\n    folder_path = os.path.join(current_dir, folder_name)\\n    try:\\n        contents = os.listdir(folder_path)\\n    except FileNotFoundError:\\n        print(\"Directory not found\")\\n        return\\n    except OSError:\\n        print(\"Invalid folder path\")\\n        return\\n    print(\"Contents of the folder \\'{}\\':\".format(folder_path))\\n    for item in contents:\\n        item_path = os.path.join(folder_path, item)\\n        if os.path.isfile(item_path):\\n            size = os.path.getsize(item_path)\\n            modified_time = datetime.datetime.fromtimestamp(os.path.getmtime(item_path)).strftime(\\'%Y-%m-%d %H:%M\\')\\n            print(\"{:30} {:10} {}\".format(item, size, modified_time))\\n        else:\\n            print(\"{} (directory)\".format(item))\\n# scan(\\'../../images\\')    ', 'scan': <function scan at 0x000002C7FF80CE50>, '_i8': 'def scann():\\n    \"\"\"Scans the raw data folder and prints contents information.\\n\\n    Parameters:\\n        None\\n\\n    Returns:\\n        Prints out contents information of the raw data folder.\\n    \"\"\"\\n    folder_path = \"../notebooks\"\\n    try:\\n        contents = os.listdir(folder_path)\\n    except FileNotFoundError:\\n        print(\"Directory not found\")\\n        return\\n    except OSError:\\n        print(\"Invalid folder path\")\\n        return\\n    print(\"Contents of the folder \\'{}\\':\".format(folder_path))\\n    for item in contents:\\n        item_path = os.path.join(folder_path, item)\\n        if os.path.isfile(item_path):\\n            size = os.path.getsize(item_path)\\n            modified_time = datetime.datetime.fromtimestamp(os.path.getmtime(item_path)).strftime(\\'%Y-%m-%d %H:%M\\')\\n            print(\"{:30} {:10} {}\".format(item, size, modified_time))\\n        else:\\n            print(\"{} (directory)\".format(item))\\n# scann()', 'scann': <function scann at 0x000002C7FF80CDC0>, '_i9': 'def scanr():\\n    \"\"\"Scans the raw data folder and prints contents information.\\n\\n    Parameters:\\n        None\\n\\n    Returns:\\n        Prints out contents information of the raw data folder.\\n    \"\"\" \\n    folder_name = \\'../data/raw\\'\\n    current_dir = os.getcwd()\\n    folder_path = os.path.join(current_dir, folder_name)\\n    try:\\n        contents = os.listdir(folder_path)\\n    except FileNotFoundError:\\n        print(\"Directory not found\")\\n        return\\n    except OSError:\\n        print(\"Invalid folder path\")\\n        return\\n    print(\"Contents of the folder \\'{}\\':\".format(folder_name))\\n    for item in contents:\\n        item_path = os.path.join(folder_path, item)\\n        if os.path.isfile(item_path):\\n            size = os.path.getsize(item_path)\\n            modified_time = datetime.datetime.fromtimestamp(os.path.getmtime(item_path)).strftime(\\'%Y-%m-%d %H:%M\\')\\n            print(\"{:30} {:10} {}\".format(item, size, modified_time))\\n        else:\\n            print(\"{} (directory)\".format(item))\\n# scanr()', 'scanr': <function scanr at 0x000002C7FF80CF70>, '_i10': 'def read(filename, df_name, folder_path):\\n    \"\"\"\\n    Reads a CSV file from the specified folder and returns a pandas DataFrame\\n    with the specified name.\\n\\n    Parameters:\\n        filename (str): The name of the CSV file to be read.\\n        df_name (str): The name to be assigned to the resulting DataFrame.\\n        folder_path (str): The path of the folder containing the CSV file.\\n\\n    Returns:\\n        pandas.DataFrame: A DataFrame created from the data in the CSV file with\\n        the specified name.\\n    \"\"\"\\n    file_path = os.path.join(folder_path, f\\'{filename}.csv\\')\\n    df = pd.read_csv(file_path)\\n    df.name = df_name\\n    return df', 'read': <function read at 0x000002C7FF80CCA0>, '_i11': 'def readr(filename, df_name):\\n    \"\"\"\\n    Reads a CSV file from  the raw data folder and returns a pandas DataFrame.\\n    \\n    Parameters:\\n        filename (str): base name of CSV file to be read.\\n        df_name (str): The DataFrame name to be assigned \\n        \\n    Returns:\\n        pandas.DataFrame: A DataFrame created from the data in the CSV file with\\n        the specified name.\\n    \"\"\"\\n    file_path = \\'../data/raw/\\' + filename + \\'.csv\\'\\n    df = pd.read_csv(file_path)\\n    df.name = df_name\\n    return df\\n# readr(\\'land_use\\',\\'land_use_df\\')', 'readr': <function readr at 0x000002C7FF802B80>, '_i12': 'def readp(filename, df_name):\\n    \"\"\"\\n    Reads a CSV file from the specified file path in the processed folder and returns a pandas DataFrame\\n    with the specified name.\\n    \\n    Parameters:\\n        filename (str): The name of the CSV file to be read.\\n        df_name (str): The name to be assigned to the resulting DataFrame.\\n        \\n    Returns:\\n        pandas.DataFrame: A DataFrame created from the data in the CSV file with\\n        the specified name.\\n    \"\"\"\\n    file_path = f\\'../data/processed/{filename}.csv\\'\\n    df = pd.read_csv(file_path)\\n    df.name = df_name\\n    return df\\n# df=readp(\\'missing\\',\\'missing_df\\')\\n# df', 'readp': <function readp at 0x000002C7FF802790>, '_i13': 'def split_by_elementr(file_name: str) -> Tuple[Dict[str, pd.DataFrame], List[str]]:\\n    \"\"\"\\n    Splits a CSV file into multiple dataframes based on the unique values in the \\'Element\\' column.\\n    \\n    Parameters:\\n        file_name (str): The name of the CSV file to read in.\\n        \\n    Returns:\\n        Tuple[Dict[str, pd.DataFrame], List[str]]: A tuple containing a dictionary where each key corresponds\\n        to a unique value in the \\'Element\\' column, and each value is a dataframe containing all rows with that\\n        unique value, and a list of unique values in the \\'Element\\' column.\\n    \"\"\"\\n    if not file_name.endswith(\\'.csv\\'):\\n        raise ValueError(\\'Input file must be a .csv file\\')\\n    \\n    # Load the specified dataframe\\n    df = pd.read_csv(f\\'../data/raw/{file_name}\\')\\n    \\n    # Group the dataframe by the \\'Element\\' column\\n    dfs = dict(tuple(df.groupby(\\'Element\\')))\\n    \\n    # Get the unique values in the \\'Element\\' column\\n    elements = list(df[\\'Element\\'].unique())\\n    \\n    return dfs, elements', 'split_by_elementr': <function split_by_elementr at 0x000002C7FF802E50>, '_i14': 'def split_by_elementr(file_name: str) -> Tuple[Dict[str, pd.DataFrame], List[str]]:\\n    \"\"\"\\n    Splits a CSV file into multiple dataframes based on the unique values in the \\'Element\\' column.\\n    \\n    Parameters:\\n        file_name (str): The name of the CSV file to read in.\\n        \\n    Returns:\\n        Tuple[Dict[str, pd.DataFrame], List[str]]: A tuple containing a dictionary where each key corresponds\\n        to a unique value in the \\'Element\\' column, and each value is a dataframe containing all rows with that\\n        unique value, and a list of unique values in the \\'Element\\' column.\\n    \"\"\"\\n    # Load the specified dataframe\\n    df = pd.read_csv(f\\'../data/raw/{file_name}\\')\\n    \\n    # Group the dataframe by the \\'Element\\' column\\n    dfs = dict(tuple(df.groupby(\\'Element\\')))\\n    \\n    # Get the unique values in the \\'Element\\' column\\n    elements = list(df[\\'Element\\'].unique())\\n    \\n    return dfs, elements', '_i15': 'def split_df_by_element(df: pd.DataFrame) -> Tuple[Dict[str, pd.DataFrame], List[str]]:\\n    \"\"\"\\n    Splits a DataFrame into multiple dataframes based on the unique values in the \\'Element\\' column.\\n\\n    Parameters:\\n        df (pd.DataFrame): The DataFrame to split.\\n    \\n    Returns:\\n        Tuple[Dict[str, pd.DataFrame], List[str]]: A tuple containing a dictionary where each key corresponds\\n        to a unique value in the \\'Element\\' column, and each value is a dataframe containing all rows with that\\n        unique value, and a list of unique values in the \\'Element\\' column.\\n    \"\"\"\\n    # Group the dataframe by the \\'Element\\' column\\n    dfs = dict(tuple(df.groupby(\\'Element\\')))\\n    \\n    # Get the unique values in the \\'Element\\' column\\n    elements = list(df[\\'Element\\'].unique())\\n    \\n    return dfs, elements', 'split_df_by_element': <function split_df_by_element at 0x000002C7FF80C4C0>, '_i16': 'def groupdf(df, column_name):\\n    # Group the dataframe by the specified column\\n    dfs = dict(tuple(df.groupby(column_name)))\\n    return dfs', 'groupdf': <function groupdf at 0x000002C7FF802820>, '_i17': '\\ndef delete(file_name):\\n    file_path = os.path.join(\"..\", \"data\", file_name)\\n    if os.path.exists(file_path):\\n        os.remove(file_path)\\n        print(f\"{file_name} deleted successfully\")\\n    else:\\n        print(f\"{file_name} not found\")', 'delete': <function delete at 0x000002C7FF802F70>, '_i18': '\\ndef rename(old_filename, new_filename):\\n    old_file_path = os.path.join(\"..\", \"data\", old_filename)\\n    new_file_path = os.path.join(\"..\", \"data\", new_filename)\\n    try:\\n        os.rename(old_file_path, new_file_path)\\n        print(f\"{old_filename} renamed to {new_filename} successfully\")\\n    except FileNotFoundError:\\n        print(f\"{old_filename} not found\")\\n    except FileExistsError:\\n        print(f\"A file with the name {new_filename} already exists\")\\n    except OSError:\\n        print(\"Invalid file path or name\")', 'rename': <function rename at 0x000002C7C6C479D0>, '_i19': 'def replace(input_str, find_str, replace_str):\\n    output_str = re.sub(find_str, replace_str, input_str)\\n    \\n    if output_str == input_str:\\n        warnings.warn(\"Replacement unsuccessful: \\'{}\\' not found in input string.\".format(find_str))\\n    \\n    return output_str', 'replace': <function replace at 0x000002C7FF40C820>, '_i20': 'def eu(df):\\n    \"\"\"\\n    Filter a pandas DataFrame to include only the rows where the \\'Area\\' column contains values that match the countries in the European Union.\\n\\n    Parameters:\\n    - df (pandas.DataFrame): The DataFrame to filter.\\n\\n    Returns:\\n    - pandas.DataFrame: The filtered DataFrame.\\n    \"\"\"\\n    country_list = [\\'Austria\\', \\'Belgium\\', \\'Bulgaria\\', \\'Croatia\\', \\'Cyprus\\', \\'Czechia\\', \\'Denmark\\', \\n                    \\'Estonia\\', \\'Finland\\', \\'France\\', \\'Germany\\', \\'Greece\\', \\'Hungary\\', \\'Ireland\\', \\'Italy\\', \\n                    \\'Latvia\\', \\'Lithuania\\', \\'Luxembourg\\', \\'Malta\\', \\'Netherlands\\', \\'Poland\\', \\'Portugal\\', \\'Romania\\', \\n                    \\'Slovakia\\', \\'Slovenia\\', \\'Spain\\', \\'Sweden\\']\\n    return df[df[\\'Area\\'].isin(country_list)]\\n\\n# df=readr(\\'meat\\',\\'df\\')\\n# df=eu(df)\\n# df', 'eu': <function eu at 0x000002C780023430>, '_i21': 'def now(df, year_min):\\n    \"\"\"\\n    Filter to \\'Year\\'>.\\n    Parameters:\\n    - df (pandas.DataFrame): The DataFrame to filter.\\n    - year_min (int): The minimum year to include in the filtered DataFrame.\\n    Returns:\\n    - pandas.DataFrame: The filtered DataFrame.\\n    \"\"\"\\n    return df[df[\\'Year\\'] >= year_min]\\n\\n# df=readr(\\'meat\\',\\'df\\')\\n# df = now(df, 2015)\\n# df.head()', 'now': <function now at 0x000002C7C6CB69D0>, '_i22': \"df=readr('meat','df')\\ndf=eu(df)\", 'df':           Area  Year     Value          key\n",
      "1464   Austria  1961    1501.0  Austria1961\n",
      "1465   Austria  1962    1510.0  Austria1962\n",
      "1466   Austria  1963    1497.0  Austria1963\n",
      "1467   Austria  1964    1564.0  Austria1964\n",
      "1468   Austria  1965    1658.0  Austria1965\n",
      "...        ...   ...       ...          ...\n",
      "33301   Sweden  2017  406030.0   Sweden2017\n",
      "33302   Sweden  2018  435130.0   Sweden2018\n",
      "33303   Sweden  2019  441780.0   Sweden2019\n",
      "33304   Sweden  2020  443690.0   Sweden2020\n",
      "33305   Sweden  2021  420950.0   Sweden2021\n",
      "\n",
      "[4941 rows x 4 columns], '_i23': \"df = pd.read_csv('../data/raw/meat.csv')\\n\\n# Apply the 'eu' function to filter down to only European Union countries\\ndf= eu(df)\\n\\n# Apply the 'now2' function to filter down further to only years greater than or equal to 2000\\ndf= now2(df)\\n\\n# Print the first 5 rows of the filtered DataFrame\\ndf.head()\", '_i24': 'def file_info_table(folder_path):\\n    \"\"\"\\n    Generate an HTML table with information on files in a given folder.\\n\\n    Parameters:\\n    - folder_path (str): The path to the folder containing the files.\\n\\n    Returns:\\n    - str: The HTML code for the table.\\n    \"\"\"\\n    # Get the contents of the folder\\n    try:\\n        contents = os.listdir(folder_path)\\n    except FileNotFoundError:\\n        return \"Directory not found\"\\n    except OSError:\\n        return \"Invalid folder path\"\\n\\n    # Create the table header\\n    table = \\'<table style=\"font-size:100%\"><thead><tr><th>File Name</th><th>Size</th><th>Modified Time</th></tr></thead><tbody>\\'\\n\\n    # Add a row for each file\\n    for item in contents:\\n        item_path = os.path.join(folder_path, item)\\n        if os.path.isfile(item_path):\\n            # Get the file size and modified time\\n            size = os.path.getsize(item_path)\\n            modified_time = datetime.datetime.fromtimestamp(os.path.getmtime(item_path)).strftime(\\'%Y-%m-%d %H:%M\\')\\n            # Add a row to the table\\n            table += \\'<tr><td>{}</td><td>{}</td><td>{}</td></tr>\\'.format(item, size, modified_time)\\n\\n    # Close the table\\n    table += \\'</tbody></table>\\'\\n\\n    return table\\n\\n# folder_path = \"../data/raw\"\\n# table = file_info_table(folder_path)\\n# print(table)', '_i25': \"scan('images')\", '_i26': \"scan('../images')\", '_i27': 'scan(../images)', '_i28': \"scan(''../images')\", '_i29': \"scan('../images')\", '_i30': '\\\\u2103', '_i31': \"rain_df = combine('../data', 'pr', 'Rain_mm/yr')\\nrain_df.head()\", '_i32': \"rain_df = combine('../data', 'pr', 'Rain_mm/yr')\\nrain_df.head()\", '_i33': 'import csv\\nimport datetime\\nimport glob\\nimport fancyimpute\\nimport html\\nimport matplotlib.axes\\nimport matplotlib.image as mpimg\\nimport matplotlib.pyplot as plt\\nimport missingno as msno\\nimport numpy as np\\nimport os\\nimport pandas as pd\\nimport pycountry\\nimport plotly.express as px\\nimport re\\nimport requests\\nimport seaborn as sns\\nimport time\\nfrom IPython.display import HTML, Image, display\\nfrom countrygroups import EUROPEAN_UNION\\nfrom countryinfo import CountryInfo\\nfrom functools import partial, reduce\\nfrom scipy.stats import ks_2samp, shapiro\\nfrom sklearn.ensemble import GradientBoostingRegressor, RandomForestRegressor\\nfrom sklearn.impute import SimpleImputer\\nfrom sklearn.linear_model import ElasticNet, Lasso, LinearRegression, Ridge\\nfrom sklearn.metrics import mean_absolute_error, r2_score\\nfrom sklearn.model_selection import GridSearchCV, RandomizedSearchCV, train_test_split\\nfrom sklearn.neighbors import KNeighborsRegressor\\nfrom sklearn.svm import LinearSVR\\nfrom typing import Dict, List, Tuple', '_i34': 'def transform(path: str, filename: str, col_name: str) -> pd.DataFrame:\\n    \"\"\"Reads in a CSV file from the given directory, renames a column to the given column name, and\\n    filters the resulting dataframe to only include the \\'key\\' and specified column.\\n    \\n    Args:\\n        path (str): The relative path of the directory containing the data.\\n        filename (str): The name of the CSV file to read in.\\n        col_name (str): The name to assign to the specified column in the resulting dataframe.\\n        \\n    Returns:\\n        pandas.DataFrame: The resulting dataframe after renaming the specified column and filtering\\n        to only include the \\'key\\' and specified column.\\n    \"\"\"\\n    try:\\n        file_path = os.path.join(path, filename)\\n        df = pd.read_csv(file_path, on_bad_lines=\\'skip\\', skiprows=1)\\n        df.rename(columns={\\'Unnamed: 0\\': \\'Year\\'}, inplace=True)\\n        df[\\'key\\'] = df.columns[1] + df[\\'Year\\'].astype(str)\\n        df.rename(columns={df.columns[1]: col_name}, inplace=True)\\n        df = df.filter([\\'key\\', col_name])\\n        return df\\n    except Exception as e:\\n        print(f\"Error reading in CSV file {file_path}: {e}\")', 'transform': <function transform at 0x000002C7FF530EE0>, '_i35': 'def combine(path: str, subfolder: str, col_name: str) -> pd.DataFrame:\\n    \"\"\"Reads in all CSV files in the given subfolder of the directory, applies the \\'transform\\' function to each file, and\\n    combines the resulting dataframes together into a single dataframe.\\n    \\n    Args:\\n        path (str): The relative path of the directory containing the data.\\n        subfolder (str): The name of the subfolder within the directory to read the CSV files from.\\n        col_name (str): The name to assign to the specified column in the resulting dataframe.\\n        \\n    Returns:\\n        pandas.DataFrame: The resulting dataframe after combining data from all CSV files in the\\n        specified subfolder.\\n    \"\"\"\\n    try:\\n        folder_path = os.path.join(path, subfolder)\\n        csv_filenames = glob.glob(folder_path + \"/*.csv\")\\n        processed_dfs = (transform(path, os.path.join(subfolder, os.path.basename(FileName)), col_name) for FileName in csv_filenames)\\n        df = pd.concat(processed_dfs, ignore_index=True)\\n        return df\\n    except Exception as e:\\n        print(f\"Error combining CSV files in folder {folder_path}: {e}\")', 'combine': <function combine at 0x000002C7FF802DC0>, '_i36': 'def split(df: pd.DataFrame, col: str) -> dict:\\n    \"\"\"\\n    \\n \\n    Parameters:\\n        df (pd.DataFrame): The DataFrame to split.\\n        col (str): The name of the column to group by.\\n\\n    Returns:\\n        dict: A dictionary where each key corresponds to a unique value in the specified column,\\n        and each value is a DataFrame containing all rows with that unique value.\\n    \"\"\"\\n    dfs = dict(tuple(df.groupby(col)))\\n    return dfs', 'split': <function split at 0x000002C7FF80C9D0>, '_i37': '\\n\\n\\ndef key(df, area_col=\\'Area\\', year_col=\\'Year\\', key_col=\\'key\\'):\\n    \"\"\"\\n    Add a new column to a pandas DataFrame that concatenates the values in the \\'area_col\\' and \\'year_col\\' columns.\\n\\n    Parameters:\\n    - df (pandas.DataFrame): The DataFrame to add the new column to.\\n    - area_col (str): The name of the column that contains the area values.\\n    - year_col (str): The name of the column that contains the year values.\\n    - key_col (str): The name of the new column to create.\\n\\n    Returns:\\n    - None\\n    \"\"\"\\n    df[key_col] = df[area_col] + df[year_col].astype(str)', 'key': <function key at 0x000002C7FF80CA60>, '_i38': '\\n\\ndef snake(text):\\n    \"\"\"\\n    Converts a given string to snake_case by replacing any whitespace characters with underscores,\\n    converting to all lowercase, and adding an underscore to the beginning if it doesn\\'t already start with one.\\n\\n    Parameters:\\n        text (str): The string to convert to snake_case.\\n\\n    Returns:\\n        str: The resulting string in snake_case format.\\n    \"\"\"\\n    # Convert to string and strip leading/trailing whitespace\\n    text = str(text).strip()\\n    # Replace any whitespace characters with underscores\\n    text = re.sub(r\\'\\\\s+\\', \\'_\\', text)\\n    # Convert to all lowercase\\n    text = text.lower()\\n    # Add an underscore to the beginning if it doesn\\'t already start with one\\n    if not text.startswith(\\'_\\'):\\n        text = \\'_\\' + text\\n    return text', 'snake': <function snake at 0x000002C7FF80C1F0>, '_i39': 'def pascal(string):\\n    \"\"\"\\n    Convert a space- or snake-separated string to PascalCase.\\n\\n    Parameters:\\n        string (str): The input string to convert to PascalCase.\\n\\n    Returns:\\n        str: The input string in PascalCase format.\\n\\n    \"\"\"\\n    # Replace any underscores with spaces\\n    string = string.replace(\"_\", \" \")\\n    # Capitalize the first letter of each word\\n    words = string.title()\\n    # Remove any remaining spaces\\n    words = words.replace(\" \", \"\")\\n    return words', 'pascal': <function pascal at 0x000002C7FF80C550>, '_i40': 'def camel(string):\\n    \"\"\"\\n    Convert a space-separated or snake_case string to camelCase.\\n\\n    Parameters:\\n        string (str): The string to convert.\\n\\n    Returns:\\n        str: The converted string in camelCase.\\n    \"\"\"\\n    # Replace underscores with spaces and split the string into a list of words\\n    words = string.replace(\"_\", \" \").split()\\n    # Convert the first word to lowercase and capitalize all subsequent words\\n    camel_cased = [words[0].lower()] + [word.capitalize() for word in words[1:]]\\n    # Concatenate the words together and return the resulting string\\n    return \"    \" + \\'\\'.join(camel_cased) + \"    \"', 'camel': <function camel at 0x000002C7FF80C8B0>, '_i41': 'def title(sentence):\\n    \"\"\"\\n    Takes a string and converts it to title case, where the first letter of each\\n    non-conjunction/preposition word is capitalized, and all other letters are lowercase.\\n    \\n    Args:\\n        sentence (str): The string to convert to title case.\\n        \\n    Returns:\\n        str: The input string converted to title case.\\n    \"\"\"\\n    # Define a list of common prepositions and conjunctions\\n    prepositions_conjunctions = [\\'a\\', \\'this\\', \\'an\\', \\'the\\', \\'and\\', \\'but\\', \\'or\\', \\'for\\', \\'has\\', \\'nor\\', \\'on\\', \\'at\\', \\'to\\', \\'from\\', \\'by\\', \\'over\\', \\'under\\', \\'in\\', \\'out\\', \\'of\\']\\n    # Split the input string into a list of words\\n    words = sentence.split()\\n    processed_words = []\\n    for word in words:\\n        # If the word is not a preposition or conjunction, capitalize the first letter and lowercase the rest\\n        if word.lower() not in prepositions_conjunctions:\\n            processed_words.append(word.capitalize())\\n        # If the word is a preposition or conjunction, convert to lowercase\\n        else:\\n            processed_words.append(word.lower())\\n    # Join the list of processed words into a single string, with proper spacing\\n    output = \" \".join(processed_words)\\n    # Remove any leading/trailing whitespace and add some padding\\n    return \"     \" + re.sub(\\'\\\\s+\\', \\' \\', output.strip()) + \"     \"', 'title': <function title at 0x000002C7800230D0>, '_i42': 'def word_count(text):\\n    \"\"\"\\n    Counts the number of words in a given text.\\n    \\n    Parameters:\\n        text (str): The text to be counted.\\n        \\n    Returns:\\n        int: The number of words in the text.\\n    \"\"\"\\n    words = text.split()\\n    return len(words)', 'word_count': <function word_count at 0x000002C7FF80CD30>, '_i43': 'def char_count(string):\\n    \"\"\"\\n    Count the number of characters in a string.\\n\\n    Parameters:\\n    - string (str): The string to count characters in.\\n\\n    Returns:\\n    - int: The number of characters in the string.\\n    \"\"\"\\n    return len(string)', 'char_count': <function char_count at 0x000002C7FF80CEE0>, '_i44': '\\ndef scan(folder_name):\\n    \"\"\"Scans the specified folder and prints information about its contents.\\n\\n    Parameters:\\n        folder_name (str): The name of the folder to scan.\\n\\n    Returns:\\n        None.\\n    \"\"\"\\n    current_dir = os.getcwd()\\n    folder_path = os.path.join(current_dir, folder_name)\\n    try:\\n        contents = os.listdir(folder_path)\\n    except FileNotFoundError:\\n        print(\"Directory not found\")\\n        return\\n    except OSError:\\n        print(\"Invalid folder path\")\\n        return\\n    print(\"Contents of the folder \\'{}\\':\".format(folder_path))\\n    for item in contents:\\n        item_path = os.path.join(folder_path, item)\\n        if os.path.isfile(item_path):\\n            size = os.path.getsize(item_path)\\n            modified_time = datetime.datetime.fromtimestamp(os.path.getmtime(item_path)).strftime(\\'%Y-%m-%d %H:%M\\')\\n            print(\"{:30} {:10} {}\".format(item, size, modified_time))\\n        else:\\n            print(\"{} (directory)\".format(item))\\n# scan(\\'../../images\\')    ', '_i45': 'def scann():\\n    \"\"\"Scans the raw data folder and prints contents information.\\n\\n    Parameters:\\n        None\\n\\n    Returns:\\n        Prints out contents information of the raw data folder.\\n    \"\"\"\\n    folder_path = \"../notebooks\"\\n    try:\\n        contents = os.listdir(folder_path)\\n    except FileNotFoundError:\\n        print(\"Directory not found\")\\n        return\\n    except OSError:\\n        print(\"Invalid folder path\")\\n        return\\n    print(\"Contents of the folder \\'{}\\':\".format(folder_path))\\n    for item in contents:\\n        item_path = os.path.join(folder_path, item)\\n        if os.path.isfile(item_path):\\n            size = os.path.getsize(item_path)\\n            modified_time = datetime.datetime.fromtimestamp(os.path.getmtime(item_path)).strftime(\\'%Y-%m-%d %H:%M\\')\\n            print(\"{:30} {:10} {}\".format(item, size, modified_time))\\n        else:\\n            print(\"{} (directory)\".format(item))\\n# scann()', '_i46': 'def scanr():\\n    \"\"\"Scans the raw data folder and prints contents information.\\n\\n    Parameters:\\n        None\\n\\n    Returns:\\n        Prints out contents information of the raw data folder.\\n    \"\"\" \\n    folder_name = \\'../data/raw\\'\\n    current_dir = os.getcwd()\\n    folder_path = os.path.join(current_dir, folder_name)\\n    try:\\n        contents = os.listdir(folder_path)\\n    except FileNotFoundError:\\n        print(\"Directory not found\")\\n        return\\n    except OSError:\\n        print(\"Invalid folder path\")\\n        return\\n    print(\"Contents of the folder \\'{}\\':\".format(folder_name))\\n    for item in contents:\\n        item_path = os.path.join(folder_path, item)\\n        if os.path.isfile(item_path):\\n            size = os.path.getsize(item_path)\\n            modified_time = datetime.datetime.fromtimestamp(os.path.getmtime(item_path)).strftime(\\'%Y-%m-%d %H:%M\\')\\n            print(\"{:30} {:10} {}\".format(item, size, modified_time))\\n        else:\\n            print(\"{} (directory)\".format(item))\\n# scanr()', '_i47': 'def read(filename, df_name, folder_path):\\n    \"\"\"\\n    Reads a CSV file from the specified folder and returns a pandas DataFrame\\n    with the specified name.\\n\\n    Parameters:\\n        filename (str): The name of the CSV file to be read.\\n        df_name (str): The name to be assigned to the resulting DataFrame.\\n        folder_path (str): The path of the folder containing the CSV file.\\n\\n    Returns:\\n        pandas.DataFrame: A DataFrame created from the data in the CSV file with\\n        the specified name.\\n    \"\"\"\\n    file_path = os.path.join(folder_path, f\\'{filename}.csv\\')\\n    df = pd.read_csv(file_path)\\n    df.name = df_name\\n    return df', '_i48': 'def readr(filename, df_name):\\n    \"\"\"\\n    Reads a CSV file from  the raw data folder and returns a pandas DataFrame.\\n    \\n    Parameters:\\n        filename (str): base name of CSV file to be read.\\n        df_name (str): The DataFrame name to be assigned \\n        \\n    Returns:\\n        pandas.DataFrame: A DataFrame created from the data in the CSV file with\\n        the specified name.\\n    \"\"\"\\n    file_path = \\'../data/raw/\\' + filename + \\'.csv\\'\\n    df = pd.read_csv(file_path)\\n    df.name = df_name\\n    return df\\n# readr(\\'land_use\\',\\'land_use_df\\')', '_i49': 'def readp(filename, df_name):\\n    \"\"\"\\n    Reads a CSV file from the specified file path in the processed folder and returns a pandas DataFrame\\n    with the specified name.\\n    \\n    Parameters:\\n        filename (str): The name of the CSV file to be read.\\n        df_name (str): The name to be assigned to the resulting DataFrame.\\n        \\n    Returns:\\n        pandas.DataFrame: A DataFrame created from the data in the CSV file with\\n        the specified name.\\n    \"\"\"\\n    file_path = f\\'../data/processed/{filename}.csv\\'\\n    df = pd.read_csv(file_path)\\n    df.name = df_name\\n    return df\\n# df=readp(\\'missing\\',\\'missing_df\\')\\n# df', '_i50': 'def split_by_elementr(file_name: str) -> Tuple[Dict[str, pd.DataFrame], List[str]]:\\n    \"\"\"\\n    Splits a CSV file into multiple dataframes based on the unique values in the \\'Element\\' column.\\n    \\n    Parameters:\\n        file_name (str): The name of the CSV file to read in.\\n        \\n    Returns:\\n        Tuple[Dict[str, pd.DataFrame], List[str]]: A tuple containing a dictionary where each key corresponds\\n        to a unique value in the \\'Element\\' column, and each value is a dataframe containing all rows with that\\n        unique value, and a list of unique values in the \\'Element\\' column.\\n    \"\"\"\\n    if not file_name.endswith(\\'.csv\\'):\\n        raise ValueError(\\'Input file must be a .csv file\\')\\n    \\n    # Load the specified dataframe\\n    df = pd.read_csv(f\\'../data/raw/{file_name}\\')\\n    \\n    # Group the dataframe by the \\'Element\\' column\\n    dfs = dict(tuple(df.groupby(\\'Element\\')))\\n    \\n    # Get the unique values in the \\'Element\\' column\\n    elements = list(df[\\'Element\\'].unique())\\n    \\n    return dfs, elements', '_i51': 'def split_by_elementr(file_name: str) -> Tuple[Dict[str, pd.DataFrame], List[str]]:\\n    \"\"\"\\n    Splits a CSV file into multiple dataframes based on the unique values in the \\'Element\\' column.\\n    \\n    Parameters:\\n        file_name (str): The name of the CSV file to read in.\\n        \\n    Returns:\\n        Tuple[Dict[str, pd.DataFrame], List[str]]: A tuple containing a dictionary where each key corresponds\\n        to a unique value in the \\'Element\\' column, and each value is a dataframe containing all rows with that\\n        unique value, and a list of unique values in the \\'Element\\' column.\\n    \"\"\"\\n    # Load the specified dataframe\\n    df = pd.read_csv(f\\'../data/raw/{file_name}\\')\\n    \\n    # Group the dataframe by the \\'Element\\' column\\n    dfs = dict(tuple(df.groupby(\\'Element\\')))\\n    \\n    # Get the unique values in the \\'Element\\' column\\n    elements = list(df[\\'Element\\'].unique())\\n    \\n    return dfs, elements', '_i52': 'def split_df_by_element(df: pd.DataFrame) -> Tuple[Dict[str, pd.DataFrame], List[str]]:\\n    \"\"\"\\n    Splits a DataFrame into multiple dataframes based on the unique values in the \\'Element\\' column.\\n\\n    Parameters:\\n        df (pd.DataFrame): The DataFrame to split.\\n    \\n    Returns:\\n        Tuple[Dict[str, pd.DataFrame], List[str]]: A tuple containing a dictionary where each key corresponds\\n        to a unique value in the \\'Element\\' column, and each value is a dataframe containing all rows with that\\n        unique value, and a list of unique values in the \\'Element\\' column.\\n    \"\"\"\\n    # Group the dataframe by the \\'Element\\' column\\n    dfs = dict(tuple(df.groupby(\\'Element\\')))\\n    \\n    # Get the unique values in the \\'Element\\' column\\n    elements = list(df[\\'Element\\'].unique())\\n    \\n    return dfs, elements', '_i53': 'def groupdf(df, column_name):\\n    # Group the dataframe by the specified column\\n    dfs = dict(tuple(df.groupby(column_name)))\\n    return dfs', '_i54': '\\ndef delete(file_name):\\n    file_path = os.path.join(\"..\", \"data\", file_name)\\n    if os.path.exists(file_path):\\n        os.remove(file_path)\\n        print(f\"{file_name} deleted successfully\")\\n    else:\\n        print(f\"{file_name} not found\")', '_i55': '\\ndef rename(old_filename, new_filename):\\n    old_file_path = os.path.join(\"..\", \"data\", old_filename)\\n    new_file_path = os.path.join(\"..\", \"data\", new_filename)\\n    try:\\n        os.rename(old_file_path, new_file_path)\\n        print(f\"{old_filename} renamed to {new_filename} successfully\")\\n    except FileNotFoundError:\\n        print(f\"{old_filename} not found\")\\n    except FileExistsError:\\n        print(f\"A file with the name {new_filename} already exists\")\\n    except OSError:\\n        print(\"Invalid file path or name\")', '_i56': 'def replace(input_str, find_str, replace_str):\\n    output_str = re.sub(find_str, replace_str, input_str)\\n    \\n    if output_str == input_str:\\n        warnings.warn(\"Replacement unsuccessful: \\'{}\\' not found in input string.\".format(find_str))\\n    \\n    return output_str', '_i57': 'def eu(df):\\n    \"\"\"\\n    Filter a pandas DataFrame to include only the rows where the \\'Area\\' column contains values that match the countries in the European Union.\\n\\n    Parameters:\\n    - df (pandas.DataFrame): The DataFrame to filter.\\n\\n    Returns:\\n    - pandas.DataFrame: The filtered DataFrame.\\n    \"\"\"\\n    country_list = [\\'Austria\\', \\'Belgium\\', \\'Bulgaria\\', \\'Croatia\\', \\'Cyprus\\', \\'Czechia\\', \\'Denmark\\', \\n                    \\'Estonia\\', \\'Finland\\', \\'France\\', \\'Germany\\', \\'Greece\\', \\'Hungary\\', \\'Ireland\\', \\'Italy\\', \\n                    \\'Latvia\\', \\'Lithuania\\', \\'Luxembourg\\', \\'Malta\\', \\'Netherlands\\', \\'Poland\\', \\'Portugal\\', \\'Romania\\', \\n                    \\'Slovakia\\', \\'Slovenia\\', \\'Spain\\', \\'Sweden\\']\\n    return df[df[\\'Area\\'].isin(country_list)]\\n\\n# df=readr(\\'meat\\',\\'df\\')\\n# df=eu(df)\\n# df', '_i58': 'def now(df, year_min):\\n    \"\"\"\\n    Filter to \\'Year\\'>.\\n    Parameters:\\n    - df (pandas.DataFrame): The DataFrame to filter.\\n    - year_min (int): The minimum year to include in the filtered DataFrame.\\n    Returns:\\n    - pandas.DataFrame: The filtered DataFrame.\\n    \"\"\"\\n    return df[df[\\'Year\\'] >= year_min]\\n\\n# df=readr(\\'meat\\',\\'df\\')\\n# df = now(df, 2015)\\n# df.head()', '_i59': \"df=readr('meat','df')\\ndf=eu(df)\", '_i60': \"df = pd.read_csv('../data/raw/meat.csv')\\n\\n# Apply the 'eu' function to filter down to only European Union countries\\ndf= eu(df)\\n\\n# Apply the 'now2' function to filter down further to only years greater than or equal to 2000\\ndf= now2(df)\\n\\n# Print the first 5 rows of the filtered DataFrame\\ndf.head()\", '_i61': 'def file_info_table(folder_path):\\n    \"\"\"\\n    Generate an HTML table with information on files in a given folder.\\n\\n    Parameters:\\n    - folder_path (str): The path to the folder containing the files.\\n\\n    Returns:\\n    - str: The HTML code for the table.\\n    \"\"\"\\n    # Get the contents of the folder\\n    try:\\n        contents = os.listdir(folder_path)\\n    except FileNotFoundError:\\n        return \"Directory not found\"\\n    except OSError:\\n        return \"Invalid folder path\"\\n\\n    # Create the table header\\n    table = \\'<table style=\"font-size:100%\"><thead><tr><th>File Name</th><th>Size</th><th>Modified Time</th></tr></thead><tbody>\\'\\n\\n    # Add a row for each file\\n    for item in contents:\\n        item_path = os.path.join(folder_path, item)\\n        if os.path.isfile(item_path):\\n            # Get the file size and modified time\\n            size = os.path.getsize(item_path)\\n            modified_time = datetime.datetime.fromtimestamp(os.path.getmtime(item_path)).strftime(\\'%Y-%m-%d %H:%M\\')\\n            # Add a row to the table\\n            table += \\'<tr><td>{}</td><td>{}</td><td>{}</td></tr>\\'.format(item, size, modified_time)\\n\\n    # Close the table\\n    table += \\'</tbody></table>\\'\\n\\n    return table\\n\\n# folder_path = \"../data/raw\"\\n# table = file_info_table(folder_path)\\n# print(table)', '_i62': \"rain_df = combine('../data', 'pr', 'Rain_mm/yr')\\nrain_df.head()\", 'rain_df':               key  Rain_mm/yr\n",
      "0     Austria1901     1052.84\n",
      "1     Austria1902     1061.55\n",
      "2     Austria1903     1201.34\n",
      "3     Austria1904     1146.14\n",
      "4     Austria1905     1127.85\n",
      "...           ...         ...\n",
      "3262   Sweden2017      678.22\n",
      "3263   Sweden2018      539.63\n",
      "3264   Sweden2019      682.36\n",
      "3265   Sweden2020      669.34\n",
      "3266   Sweden2021      608.87\n",
      "\n",
      "[3267 rows x 2 columns], '_62':            key  Rain_mm/yr\n",
      "0  Austria1901     1052.84\n",
      "1  Austria1902     1061.55\n",
      "2  Austria1903     1201.34\n",
      "3  Austria1904     1146.14\n",
      "4  Austria1905     1127.85, '_i63': \"temp_df = combine('../data', 'tas', 'Temperature_C')\", 'temp_df':               key  Temperature_C\n",
      "0     Austria1901           5.41\n",
      "1     Austria1902           5.34\n",
      "2     Austria1903           5.88\n",
      "3     Austria1904           6.22\n",
      "4     Austria1905           5.79\n",
      "...           ...            ...\n",
      "3262   Sweden2017           3.16\n",
      "3263   Sweden2018           3.62\n",
      "3264   Sweden2019           3.34\n",
      "3265   Sweden2020           4.47\n",
      "3266   Sweden2021           3.02\n",
      "\n",
      "[3267 rows x 2 columns], '_i64': '\\\\u2103', '_i65': \"# # Load the CSV file into a DataFrame\\n# df = pd.read_csv('../data/raw/consumer_price_indices.csv')\\n\\n# # Print the first five rows of the DataFrame\\n# print(df.head())\\n\\n# # Print the last five rows of the DataFrame\\n# print(df.tail())\\n\\n# # Get the shape of the DataFrame\\n# print(df.shape)\\n\\n# # Get the data types of the columns in the DataFrame\\n# print(df.dtypes)\\n\\n# # Get summary statistics for numeric columns in the DataFrame\\n# print(df.describe())\", '_i66': \"# Read in the raw live animal produce data data file\\nproduce = pd.read_csv('rawdata/produce_live_animal.csv', on_bad_lines='skip')\\ndf=produce\\ndf.head()\", '_i67': \"element_df = df['Element'].unique()\\nelement_df                                   \", 'element_df': array(['Yield/Carcass Weight', 'Production',\n",
      "       'Producing Animals/Slaughtered'], dtype=object), '_67': array(['Yield/Carcass Weight', 'Production',\n",
      "       'Producing Animals/Slaughtered'], dtype=object), '_i68': \"# element_df = df['Element'].unique()\\n# element_df  \\n\\ngrouped_df = df.groupby('Element')\\nproduction = grouped_df.get_group('Production')\\nstocks = grouped_df.get_group('Stocks')\\nproduction.to_csv('engineered_data/production.csv', index=False)\\nstocks.to_csv('engineered_data/stocks.csv', index=False)\", 'grouped_df': <pandas.core.groupby.generic.DataFrameGroupBy object at 0x000002C780018AC0>, 'production':       Domain Code                        Domain  Area Code (M49)     Area  \\\n",
      "1525          QCL  Crops and livestock products               40  Austria   \n",
      "1526          QCL  Crops and livestock products               40  Austria   \n",
      "1527          QCL  Crops and livestock products               40  Austria   \n",
      "1528          QCL  Crops and livestock products               40  Austria   \n",
      "1529          QCL  Crops and livestock products               40  Austria   \n",
      "...           ...                           ...              ...      ...   \n",
      "33240         QCL  Crops and livestock products              752   Sweden   \n",
      "33241         QCL  Crops and livestock products              752   Sweden   \n",
      "33242         QCL  Crops and livestock products              752   Sweden   \n",
      "33243         QCL  Crops and livestock products              752   Sweden   \n",
      "33244         QCL  Crops and livestock products              752   Sweden   \n",
      "\n",
      "       Element Code     Element  Item Code (CPC)  \\\n",
      "1525           5510  Production         21111.01   \n",
      "1526           5510  Production         21111.01   \n",
      "1527           5510  Production         21111.01   \n",
      "1528           5510  Production         21111.01   \n",
      "1529           5510  Production         21111.01   \n",
      "...             ...         ...              ...   \n",
      "33240          5510  Production         21111.01   \n",
      "33241          5510  Production         21111.01   \n",
      "33242          5510  Production         21111.01   \n",
      "33243          5510  Production         21111.01   \n",
      "33244          5510  Production         21111.01   \n",
      "\n",
      "                                                 Item  Year Code  Year  \\\n",
      "1525   Meat of cattle with the bone, fresh or chilled       1961  1961   \n",
      "1526   Meat of cattle with the bone, fresh or chilled       1962  1962   \n",
      "1527   Meat of cattle with the bone, fresh or chilled       1963  1963   \n",
      "1528   Meat of cattle with the bone, fresh or chilled       1964  1964   \n",
      "1529   Meat of cattle with the bone, fresh or chilled       1965  1965   \n",
      "...                                               ...        ...   ...   \n",
      "33240  Meat of cattle with the bone, fresh or chilled       2017  2017   \n",
      "33241  Meat of cattle with the bone, fresh or chilled       2018  2018   \n",
      "33242  Meat of cattle with the bone, fresh or chilled       2019  2019   \n",
      "33243  Meat of cattle with the bone, fresh or chilled       2020  2020   \n",
      "33244  Meat of cattle with the bone, fresh or chilled       2021  2021   \n",
      "\n",
      "         Unit     Value Flag Flag Description  \n",
      "1525   tonnes  125581.0    A  Official figure  \n",
      "1526   tonnes  140546.0    A  Official figure  \n",
      "1527   tonnes  142974.0    A  Official figure  \n",
      "1528   tonnes  133735.0    A  Official figure  \n",
      "1529   tonnes  127563.0    A  Official figure  \n",
      "...       ...       ...  ...              ...  \n",
      "33240  tonnes  132070.0    A  Official figure  \n",
      "33241  tonnes  138420.0    A  Official figure  \n",
      "33242  tonnes  141150.0    A  Official figure  \n",
      "33243  tonnes  142520.0    A  Official figure  \n",
      "33244  tonnes  137370.0    A  Official figure  \n",
      "\n",
      "[1647 rows x 14 columns], '_i69': 'production.head(2)', '_69':      Domain Code                        Domain  Area Code (M49)     Area  \\\n",
      "1525         QCL  Crops and livestock products               40  Austria   \n",
      "1526         QCL  Crops and livestock products               40  Austria   \n",
      "\n",
      "      Element Code     Element  Item Code (CPC)  \\\n",
      "1525          5510  Production         21111.01   \n",
      "1526          5510  Production         21111.01   \n",
      "\n",
      "                                                Item  Year Code  Year    Unit  \\\n",
      "1525  Meat of cattle with the bone, fresh or chilled       1961  1961  tonnes   \n",
      "1526  Meat of cattle with the bone, fresh or chilled       1962  1962  tonnes   \n",
      "\n",
      "         Value Flag Flag Description  \n",
      "1525  125581.0    A  Official figure  \n",
      "1526  140546.0    A  Official figure  , '_i70': 'stocks.sample(2)', '_i71': \"scan('engineered_data')\", '_i72': 'df = stocks.query(\"Area in @EUROPEAN_UNION.names\")', '_i73': \"\\n# Generate a list of European Union countries for the eu function\\ncountry_list = df['Area'].unique().tolist()\\ncountry_list\", 'country_list': ['Austria', 'Belgium', 'Bulgaria', 'Croatia', 'Cyprus', 'Czechia', 'Denmark', 'Estonia', 'Finland', 'France', 'Germany', 'Greece', 'Hungary', 'Ireland', 'Italy', 'Latvia', 'Lithuania', 'Luxembourg', 'Malta', 'Netherlands', 'Poland', 'Portugal', 'Romania', 'Slovakia', 'Slovenia', 'Spain', 'Sweden'], '_73': ['Austria', 'Belgium', 'Bulgaria', 'Croatia', 'Cyprus', 'Czechia', 'Denmark', 'Estonia', 'Finland', 'France', 'Germany', 'Greece', 'Hungary', 'Ireland', 'Italy', 'Latvia', 'Lithuania', 'Luxembourg', 'Malta', 'Netherlands', 'Poland', 'Portugal', 'Romania', 'Slovakia', 'Slovenia', 'Spain', 'Sweden'], '_i74': \"\\ndf['key'] = df['Area'] + df['Year'].astype(str) \\n\\ndf.head()\", '_74':      Domain Code                        Domain  Area Code (M49)     Area  \\\n",
      "1464         QCL  Crops and livestock products               40  Austria   \n",
      "1465         QCL  Crops and livestock products               40  Austria   \n",
      "1466         QCL  Crops and livestock products               40  Austria   \n",
      "1467         QCL  Crops and livestock products               40  Austria   \n",
      "1468         QCL  Crops and livestock products               40  Austria   \n",
      "\n",
      "      Element Code               Element  Item Code (CPC)  \\\n",
      "1464          5417  Yield/Carcass Weight         21111.01   \n",
      "1465          5417  Yield/Carcass Weight         21111.01   \n",
      "1466          5417  Yield/Carcass Weight         21111.01   \n",
      "1467          5417  Yield/Carcass Weight         21111.01   \n",
      "1468          5417  Yield/Carcass Weight         21111.01   \n",
      "\n",
      "                                                Item  Year Code  Year   Unit  \\\n",
      "1464  Meat of cattle with the bone, fresh or chilled       1961  1961  hg/An   \n",
      "1465  Meat of cattle with the bone, fresh or chilled       1962  1962  hg/An   \n",
      "1466  Meat of cattle with the bone, fresh or chilled       1963  1963  hg/An   \n",
      "1467  Meat of cattle with the bone, fresh or chilled       1964  1964  hg/An   \n",
      "1468  Meat of cattle with the bone, fresh or chilled       1965  1965  hg/An   \n",
      "\n",
      "       Value Flag Flag Description          key  \n",
      "1464  1501.0    E  Estimated value  Austria1961  \n",
      "1465  1510.0    E  Estimated value  Austria1962  \n",
      "1466  1497.0    E  Estimated value  Austria1963  \n",
      "1467  1564.0    E  Estimated value  Austria1964  \n",
      "1468  1658.0    E  Estimated value  Austria1965  , '_i75': \"\\n\\n# Select only the 'Area', 'Year', 'Value', and 'key' columns\\ndf = df.loc[:, ['Area', 'Year', 'Value', 'key']]\\ndf\\nmain=df\\nmain.head()\", 'main':           Area  Year     Value          key\n",
      "1464   Austria  1961    1501.0  Austria1961\n",
      "1465   Austria  1962    1510.0  Austria1962\n",
      "1466   Austria  1963    1497.0  Austria1963\n",
      "1467   Austria  1964    1564.0  Austria1964\n",
      "1468   Austria  1965    1658.0  Austria1965\n",
      "...        ...   ...       ...          ...\n",
      "33301   Sweden  2017  406030.0   Sweden2017\n",
      "33302   Sweden  2018  435130.0   Sweden2018\n",
      "33303   Sweden  2019  441780.0   Sweden2019\n",
      "33304   Sweden  2020  443690.0   Sweden2020\n",
      "33305   Sweden  2021  420950.0   Sweden2021\n",
      "\n",
      "[4941 rows x 4 columns], '_75':          Area  Year   Value          key\n",
      "1464  Austria  1961  1501.0  Austria1961\n",
      "1465  Austria  1962  1510.0  Austria1962\n",
      "1466  Austria  1963  1497.0  Austria1963\n",
      "1467  Austria  1964  1564.0  Austria1964\n",
      "1468  Austria  1965  1658.0  Austria1965, '_i76': 'df=stocks\\ndf.head()', '_i77': \"\\n\\n\\n\\n# Filter the DataFrame to include only European Union countries\\ndf = eu(df)\\n\\n# Add a new 'key' column to the DataFrame\\nkey(df)\\ndf.head()\", '_77':          Area  Year   Value          key\n",
      "1464  Austria  1961  1501.0  Austria1961\n",
      "1465  Austria  1962  1510.0  Austria1962\n",
      "1466  Austria  1963  1497.0  Austria1963\n",
      "1467  Austria  1964  1564.0  Austria1964\n",
      "1468  Austria  1965  1658.0  Austria1965, '_i78': \"\\n# Extract the value from the 'Element' column\\nelement_value = df['Element'].iloc[0]\\n\\n# Rename the 'Value' column to the value in the 'Element' column\\ndf = df.set_axis([col if col != 'Value' else element_value for col in df.columns], axis=1)\\ndf.head()\", '_i79': '# view all open variables\\nprint(globals())'}\n"
     ]
    }
   ],
   "source": [
    "# view all open variables\n",
    "print(globals())"
   ]
  },
  {
   "cell_type": "code",
   "execution_count": 80,
   "metadata": {
    "scrolled": true
   },
   "outputs": [
    {
     "data": {
      "text/html": [
       "<div>\n",
       "<style scoped>\n",
       "    .dataframe tbody tr th:only-of-type {\n",
       "        vertical-align: middle;\n",
       "    }\n",
       "\n",
       "    .dataframe tbody tr th {\n",
       "        vertical-align: top;\n",
       "    }\n",
       "\n",
       "    .dataframe thead th {\n",
       "        text-align: right;\n",
       "    }\n",
       "</style>\n",
       "<table border=\"1\" class=\"dataframe\">\n",
       "  <thead>\n",
       "    <tr style=\"text-align: right;\">\n",
       "      <th></th>\n",
       "      <th>Area</th>\n",
       "      <th>Year</th>\n",
       "      <th>Value</th>\n",
       "      <th>key</th>\n",
       "    </tr>\n",
       "  </thead>\n",
       "  <tbody>\n",
       "    <tr>\n",
       "      <th>1464</th>\n",
       "      <td>Austria</td>\n",
       "      <td>1961</td>\n",
       "      <td>1501.0</td>\n",
       "      <td>Austria1961</td>\n",
       "    </tr>\n",
       "    <tr>\n",
       "      <th>1465</th>\n",
       "      <td>Austria</td>\n",
       "      <td>1962</td>\n",
       "      <td>1510.0</td>\n",
       "      <td>Austria1962</td>\n",
       "    </tr>\n",
       "    <tr>\n",
       "      <th>1466</th>\n",
       "      <td>Austria</td>\n",
       "      <td>1963</td>\n",
       "      <td>1497.0</td>\n",
       "      <td>Austria1963</td>\n",
       "    </tr>\n",
       "    <tr>\n",
       "      <th>1467</th>\n",
       "      <td>Austria</td>\n",
       "      <td>1964</td>\n",
       "      <td>1564.0</td>\n",
       "      <td>Austria1964</td>\n",
       "    </tr>\n",
       "    <tr>\n",
       "      <th>1468</th>\n",
       "      <td>Austria</td>\n",
       "      <td>1965</td>\n",
       "      <td>1658.0</td>\n",
       "      <td>Austria1965</td>\n",
       "    </tr>\n",
       "    <tr>\n",
       "      <th>...</th>\n",
       "      <td>...</td>\n",
       "      <td>...</td>\n",
       "      <td>...</td>\n",
       "      <td>...</td>\n",
       "    </tr>\n",
       "    <tr>\n",
       "      <th>33301</th>\n",
       "      <td>Sweden</td>\n",
       "      <td>2017</td>\n",
       "      <td>406030.0</td>\n",
       "      <td>Sweden2017</td>\n",
       "    </tr>\n",
       "    <tr>\n",
       "      <th>33302</th>\n",
       "      <td>Sweden</td>\n",
       "      <td>2018</td>\n",
       "      <td>435130.0</td>\n",
       "      <td>Sweden2018</td>\n",
       "    </tr>\n",
       "    <tr>\n",
       "      <th>33303</th>\n",
       "      <td>Sweden</td>\n",
       "      <td>2019</td>\n",
       "      <td>441780.0</td>\n",
       "      <td>Sweden2019</td>\n",
       "    </tr>\n",
       "    <tr>\n",
       "      <th>33304</th>\n",
       "      <td>Sweden</td>\n",
       "      <td>2020</td>\n",
       "      <td>443690.0</td>\n",
       "      <td>Sweden2020</td>\n",
       "    </tr>\n",
       "    <tr>\n",
       "      <th>33305</th>\n",
       "      <td>Sweden</td>\n",
       "      <td>2021</td>\n",
       "      <td>420950.0</td>\n",
       "      <td>Sweden2021</td>\n",
       "    </tr>\n",
       "  </tbody>\n",
       "</table>\n",
       "<p>4941 rows × 4 columns</p>\n",
       "</div>"
      ],
      "text/plain": [
       "          Area  Year     Value          key\n",
       "1464   Austria  1961    1501.0  Austria1961\n",
       "1465   Austria  1962    1510.0  Austria1962\n",
       "1466   Austria  1963    1497.0  Austria1963\n",
       "1467   Austria  1964    1564.0  Austria1964\n",
       "1468   Austria  1965    1658.0  Austria1965\n",
       "...        ...   ...       ...          ...\n",
       "33301   Sweden  2017  406030.0   Sweden2017\n",
       "33302   Sweden  2018  435130.0   Sweden2018\n",
       "33303   Sweden  2019  441780.0   Sweden2019\n",
       "33304   Sweden  2020  443690.0   Sweden2020\n",
       "33305   Sweden  2021  420950.0   Sweden2021\n",
       "\n",
       "[4941 rows x 4 columns]"
      ]
     },
     "execution_count": 80,
     "metadata": {},
     "output_type": "execute_result"
    }
   ],
   "source": [
    "main"
   ]
  },
  {
   "cell_type": "code",
   "execution_count": 81,
   "metadata": {},
   "outputs": [
    {
     "name": "stdout",
     "output_type": "stream",
     "text": [
      "<class 'pandas.core.frame.DataFrame'>\n",
      "Int64Index: 4941 entries, 1464 to 33305\n",
      "Data columns (total 4 columns):\n",
      " #   Column             Non-Null Count  Dtype  \n",
      "---  ------             --------------  -----  \n",
      " 0   Area               4941 non-null   object \n",
      " 1   Year               4941 non-null   int64  \n",
      " 2   cattle_head_count  4050 non-null   float64\n",
      " 3   key                4941 non-null   object \n",
      "dtypes: float64(1), int64(1), object(2)\n",
      "memory usage: 193.0+ KB\n"
     ]
    }
   ],
   "source": [
    "main = main.rename(columns={'Value': 'cattle_head_count'})\n",
    "main.info()"
   ]
  },
  {
   "cell_type": "code",
   "execution_count": 82,
   "metadata": {},
   "outputs": [
    {
     "name": "stdout",
     "output_type": "stream",
     "text": [
      "Contents of the folder '../data/raw':\n",
      "consumer_price_indices.csv        7167669 2023-02-16 22:16\n",
      "country_area.csv                  1653232 2023-02-15 19:40\n",
      "input_fertilizers_by_nutrient.csv    7073332 2023-02-16 22:16\n",
      "investment_credit_to_agriculture.csv    2952305 2023-02-15 20:40\n",
      "investment_government_expenditure.csv     827587 2023-02-15 20:49\n",
      "land_cover.csv                    2721521 2023-02-15 20:18\n",
      "land_input_livestock_manure.csv    1019522 2023-02-16 22:16\n",
      "land_use.csv                      7647950 2023-02-16 22:16\n",
      "meat.csv                          7500469 2023-02-17 00:39\n",
      "population.csv                   17089991 2023-02-16 22:16\n",
      "prices_for_producers.csv          1945297 2023-02-15 18:29\n",
      "price_deflators.csv                767758 2023-02-16 22:16\n",
      "price_exchange_rates.csv          4531028 2023-02-16 22:16\n",
      "producer_avocadoos_prices.csv      147829 2023-02-16 23:44\n",
      "produce_beef_value.csv           13444776 2023-02-16 22:16\n",
      "produce_live_animal.csv           3312619 2023-02-15 08:40\n",
      "produce_primary_meat.csv          7500469 2023-02-16 22:16\n",
      "production_bug.csv                 198993 2023-02-16 02:59\n",
      "stocks_bug.csv                     229309 2023-02-16 03:00\n",
      "trade_indices.csv                 1132795 2023-02-16 22:16\n",
      "trade_produce.csv                 2654211 2023-02-15 17:12\n"
     ]
    }
   ],
   "source": [
    "scanr()"
   ]
  },
  {
   "cell_type": "code",
   "execution_count": 83,
   "metadata": {},
   "outputs": [
    {
     "ename": "FileNotFoundError",
     "evalue": "[Errno 2] No such file or directory: '../data/raw/chickens.csv'",
     "output_type": "error",
     "traceback": [
      "\u001b[1;31m---------------------------------------------------------------------------\u001b[0m",
      "\u001b[1;31mFileNotFoundError\u001b[0m                         Traceback (most recent call last)",
      "\u001b[1;32m~\\AppData\\Local\\Temp\\ipykernel_7340\\1935725734.py\u001b[0m in \u001b[0;36m<module>\u001b[1;34m\u001b[0m\n\u001b[1;32m----> 1\u001b[1;33m \u001b[0mreadr\u001b[0m\u001b[1;33m(\u001b[0m\u001b[1;34m'chickens'\u001b[0m\u001b[1;33m,\u001b[0m\u001b[1;34m'df'\u001b[0m\u001b[1;33m)\u001b[0m\u001b[1;33m\u001b[0m\u001b[1;33m\u001b[0m\u001b[0m\n\u001b[0m",
      "\u001b[1;32m~\\AppData\\Local\\Temp\\ipykernel_7340\\3134819734.py\u001b[0m in \u001b[0;36mreadr\u001b[1;34m(filename, df_name)\u001b[0m\n\u001b[0;32m     12\u001b[0m     \"\"\"\n\u001b[0;32m     13\u001b[0m     \u001b[0mfile_path\u001b[0m \u001b[1;33m=\u001b[0m \u001b[1;34m'../data/raw/'\u001b[0m \u001b[1;33m+\u001b[0m \u001b[0mfilename\u001b[0m \u001b[1;33m+\u001b[0m \u001b[1;34m'.csv'\u001b[0m\u001b[1;33m\u001b[0m\u001b[1;33m\u001b[0m\u001b[0m\n\u001b[1;32m---> 14\u001b[1;33m     \u001b[0mdf\u001b[0m \u001b[1;33m=\u001b[0m \u001b[0mpd\u001b[0m\u001b[1;33m.\u001b[0m\u001b[0mread_csv\u001b[0m\u001b[1;33m(\u001b[0m\u001b[0mfile_path\u001b[0m\u001b[1;33m)\u001b[0m\u001b[1;33m\u001b[0m\u001b[1;33m\u001b[0m\u001b[0m\n\u001b[0m\u001b[0;32m     15\u001b[0m     \u001b[0mdf\u001b[0m\u001b[1;33m.\u001b[0m\u001b[0mname\u001b[0m \u001b[1;33m=\u001b[0m \u001b[0mdf_name\u001b[0m\u001b[1;33m\u001b[0m\u001b[1;33m\u001b[0m\u001b[0m\n\u001b[0;32m     16\u001b[0m     \u001b[1;32mreturn\u001b[0m \u001b[0mdf\u001b[0m\u001b[1;33m\u001b[0m\u001b[1;33m\u001b[0m\u001b[0m\n",
      "\u001b[1;32m~\\anaconda3\\lib\\site-packages\\pandas\\util\\_decorators.py\u001b[0m in \u001b[0;36mwrapper\u001b[1;34m(*args, **kwargs)\u001b[0m\n\u001b[0;32m    309\u001b[0m                     \u001b[0mstacklevel\u001b[0m\u001b[1;33m=\u001b[0m\u001b[0mstacklevel\u001b[0m\u001b[1;33m,\u001b[0m\u001b[1;33m\u001b[0m\u001b[1;33m\u001b[0m\u001b[0m\n\u001b[0;32m    310\u001b[0m                 )\n\u001b[1;32m--> 311\u001b[1;33m             \u001b[1;32mreturn\u001b[0m \u001b[0mfunc\u001b[0m\u001b[1;33m(\u001b[0m\u001b[1;33m*\u001b[0m\u001b[0margs\u001b[0m\u001b[1;33m,\u001b[0m \u001b[1;33m**\u001b[0m\u001b[0mkwargs\u001b[0m\u001b[1;33m)\u001b[0m\u001b[1;33m\u001b[0m\u001b[1;33m\u001b[0m\u001b[0m\n\u001b[0m\u001b[0;32m    312\u001b[0m \u001b[1;33m\u001b[0m\u001b[0m\n\u001b[0;32m    313\u001b[0m         \u001b[1;32mreturn\u001b[0m \u001b[0mwrapper\u001b[0m\u001b[1;33m\u001b[0m\u001b[1;33m\u001b[0m\u001b[0m\n",
      "\u001b[1;32m~\\anaconda3\\lib\\site-packages\\pandas\\io\\parsers\\readers.py\u001b[0m in \u001b[0;36mread_csv\u001b[1;34m(filepath_or_buffer, sep, delimiter, header, names, index_col, usecols, squeeze, prefix, mangle_dupe_cols, dtype, engine, converters, true_values, false_values, skipinitialspace, skiprows, skipfooter, nrows, na_values, keep_default_na, na_filter, verbose, skip_blank_lines, parse_dates, infer_datetime_format, keep_date_col, date_parser, dayfirst, cache_dates, iterator, chunksize, compression, thousands, decimal, lineterminator, quotechar, quoting, doublequote, escapechar, comment, encoding, encoding_errors, dialect, error_bad_lines, warn_bad_lines, on_bad_lines, delim_whitespace, low_memory, memory_map, float_precision, storage_options)\u001b[0m\n\u001b[0;32m    676\u001b[0m     \u001b[0mkwds\u001b[0m\u001b[1;33m.\u001b[0m\u001b[0mupdate\u001b[0m\u001b[1;33m(\u001b[0m\u001b[0mkwds_defaults\u001b[0m\u001b[1;33m)\u001b[0m\u001b[1;33m\u001b[0m\u001b[1;33m\u001b[0m\u001b[0m\n\u001b[0;32m    677\u001b[0m \u001b[1;33m\u001b[0m\u001b[0m\n\u001b[1;32m--> 678\u001b[1;33m     \u001b[1;32mreturn\u001b[0m \u001b[0m_read\u001b[0m\u001b[1;33m(\u001b[0m\u001b[0mfilepath_or_buffer\u001b[0m\u001b[1;33m,\u001b[0m \u001b[0mkwds\u001b[0m\u001b[1;33m)\u001b[0m\u001b[1;33m\u001b[0m\u001b[1;33m\u001b[0m\u001b[0m\n\u001b[0m\u001b[0;32m    679\u001b[0m \u001b[1;33m\u001b[0m\u001b[0m\n\u001b[0;32m    680\u001b[0m \u001b[1;33m\u001b[0m\u001b[0m\n",
      "\u001b[1;32m~\\anaconda3\\lib\\site-packages\\pandas\\io\\parsers\\readers.py\u001b[0m in \u001b[0;36m_read\u001b[1;34m(filepath_or_buffer, kwds)\u001b[0m\n\u001b[0;32m    573\u001b[0m \u001b[1;33m\u001b[0m\u001b[0m\n\u001b[0;32m    574\u001b[0m     \u001b[1;31m# Create the parser.\u001b[0m\u001b[1;33m\u001b[0m\u001b[1;33m\u001b[0m\u001b[0m\n\u001b[1;32m--> 575\u001b[1;33m     \u001b[0mparser\u001b[0m \u001b[1;33m=\u001b[0m \u001b[0mTextFileReader\u001b[0m\u001b[1;33m(\u001b[0m\u001b[0mfilepath_or_buffer\u001b[0m\u001b[1;33m,\u001b[0m \u001b[1;33m**\u001b[0m\u001b[0mkwds\u001b[0m\u001b[1;33m)\u001b[0m\u001b[1;33m\u001b[0m\u001b[1;33m\u001b[0m\u001b[0m\n\u001b[0m\u001b[0;32m    576\u001b[0m \u001b[1;33m\u001b[0m\u001b[0m\n\u001b[0;32m    577\u001b[0m     \u001b[1;32mif\u001b[0m \u001b[0mchunksize\u001b[0m \u001b[1;32mor\u001b[0m \u001b[0miterator\u001b[0m\u001b[1;33m:\u001b[0m\u001b[1;33m\u001b[0m\u001b[1;33m\u001b[0m\u001b[0m\n",
      "\u001b[1;32m~\\anaconda3\\lib\\site-packages\\pandas\\io\\parsers\\readers.py\u001b[0m in \u001b[0;36m__init__\u001b[1;34m(self, f, engine, **kwds)\u001b[0m\n\u001b[0;32m    930\u001b[0m \u001b[1;33m\u001b[0m\u001b[0m\n\u001b[0;32m    931\u001b[0m         \u001b[0mself\u001b[0m\u001b[1;33m.\u001b[0m\u001b[0mhandles\u001b[0m\u001b[1;33m:\u001b[0m \u001b[0mIOHandles\u001b[0m \u001b[1;33m|\u001b[0m \u001b[1;32mNone\u001b[0m \u001b[1;33m=\u001b[0m \u001b[1;32mNone\u001b[0m\u001b[1;33m\u001b[0m\u001b[1;33m\u001b[0m\u001b[0m\n\u001b[1;32m--> 932\u001b[1;33m         \u001b[0mself\u001b[0m\u001b[1;33m.\u001b[0m\u001b[0m_engine\u001b[0m \u001b[1;33m=\u001b[0m \u001b[0mself\u001b[0m\u001b[1;33m.\u001b[0m\u001b[0m_make_engine\u001b[0m\u001b[1;33m(\u001b[0m\u001b[0mf\u001b[0m\u001b[1;33m,\u001b[0m \u001b[0mself\u001b[0m\u001b[1;33m.\u001b[0m\u001b[0mengine\u001b[0m\u001b[1;33m)\u001b[0m\u001b[1;33m\u001b[0m\u001b[1;33m\u001b[0m\u001b[0m\n\u001b[0m\u001b[0;32m    933\u001b[0m \u001b[1;33m\u001b[0m\u001b[0m\n\u001b[0;32m    934\u001b[0m     \u001b[1;32mdef\u001b[0m \u001b[0mclose\u001b[0m\u001b[1;33m(\u001b[0m\u001b[0mself\u001b[0m\u001b[1;33m)\u001b[0m\u001b[1;33m:\u001b[0m\u001b[1;33m\u001b[0m\u001b[1;33m\u001b[0m\u001b[0m\n",
      "\u001b[1;32m~\\anaconda3\\lib\\site-packages\\pandas\\io\\parsers\\readers.py\u001b[0m in \u001b[0;36m_make_engine\u001b[1;34m(self, f, engine)\u001b[0m\n\u001b[0;32m   1214\u001b[0m             \u001b[1;31m# \"Union[str, PathLike[str], ReadCsvBuffer[bytes], ReadCsvBuffer[str]]\"\u001b[0m\u001b[1;33m\u001b[0m\u001b[1;33m\u001b[0m\u001b[0m\n\u001b[0;32m   1215\u001b[0m             \u001b[1;31m# , \"str\", \"bool\", \"Any\", \"Any\", \"Any\", \"Any\", \"Any\"\u001b[0m\u001b[1;33m\u001b[0m\u001b[1;33m\u001b[0m\u001b[0m\n\u001b[1;32m-> 1216\u001b[1;33m             self.handles = get_handle(  # type: ignore[call-overload]\n\u001b[0m\u001b[0;32m   1217\u001b[0m                 \u001b[0mf\u001b[0m\u001b[1;33m,\u001b[0m\u001b[1;33m\u001b[0m\u001b[1;33m\u001b[0m\u001b[0m\n\u001b[0;32m   1218\u001b[0m                 \u001b[0mmode\u001b[0m\u001b[1;33m,\u001b[0m\u001b[1;33m\u001b[0m\u001b[1;33m\u001b[0m\u001b[0m\n",
      "\u001b[1;32m~\\anaconda3\\lib\\site-packages\\pandas\\io\\common.py\u001b[0m in \u001b[0;36mget_handle\u001b[1;34m(path_or_buf, mode, encoding, compression, memory_map, is_text, errors, storage_options)\u001b[0m\n\u001b[0;32m    784\u001b[0m         \u001b[1;32mif\u001b[0m \u001b[0mioargs\u001b[0m\u001b[1;33m.\u001b[0m\u001b[0mencoding\u001b[0m \u001b[1;32mand\u001b[0m \u001b[1;34m\"b\"\u001b[0m \u001b[1;32mnot\u001b[0m \u001b[1;32min\u001b[0m \u001b[0mioargs\u001b[0m\u001b[1;33m.\u001b[0m\u001b[0mmode\u001b[0m\u001b[1;33m:\u001b[0m\u001b[1;33m\u001b[0m\u001b[1;33m\u001b[0m\u001b[0m\n\u001b[0;32m    785\u001b[0m             \u001b[1;31m# Encoding\u001b[0m\u001b[1;33m\u001b[0m\u001b[1;33m\u001b[0m\u001b[0m\n\u001b[1;32m--> 786\u001b[1;33m             handle = open(\n\u001b[0m\u001b[0;32m    787\u001b[0m                 \u001b[0mhandle\u001b[0m\u001b[1;33m,\u001b[0m\u001b[1;33m\u001b[0m\u001b[1;33m\u001b[0m\u001b[0m\n\u001b[0;32m    788\u001b[0m                 \u001b[0mioargs\u001b[0m\u001b[1;33m.\u001b[0m\u001b[0mmode\u001b[0m\u001b[1;33m,\u001b[0m\u001b[1;33m\u001b[0m\u001b[1;33m\u001b[0m\u001b[0m\n",
      "\u001b[1;31mFileNotFoundError\u001b[0m: [Errno 2] No such file or directory: '../data/raw/chickens.csv'"
     ]
    }
   ],
   "source": [
    "readr('chickens','df')\n"
   ]
  },
  {
   "cell_type": "code",
   "execution_count": 84,
   "metadata": {},
   "outputs": [
    {
     "data": {
      "text/html": [
       "<div>\n",
       "<style scoped>\n",
       "    .dataframe tbody tr th:only-of-type {\n",
       "        vertical-align: middle;\n",
       "    }\n",
       "\n",
       "    .dataframe tbody tr th {\n",
       "        vertical-align: top;\n",
       "    }\n",
       "\n",
       "    .dataframe thead th {\n",
       "        text-align: right;\n",
       "    }\n",
       "</style>\n",
       "<table border=\"1\" class=\"dataframe\">\n",
       "  <thead>\n",
       "    <tr style=\"text-align: right;\">\n",
       "      <th></th>\n",
       "      <th>Area</th>\n",
       "      <th>Year</th>\n",
       "      <th>Value</th>\n",
       "      <th>key</th>\n",
       "    </tr>\n",
       "  </thead>\n",
       "  <tbody>\n",
       "    <tr>\n",
       "      <th>1464</th>\n",
       "      <td>Austria</td>\n",
       "      <td>1961</td>\n",
       "      <td>1501.0</td>\n",
       "      <td>Austria1961</td>\n",
       "    </tr>\n",
       "    <tr>\n",
       "      <th>1465</th>\n",
       "      <td>Austria</td>\n",
       "      <td>1962</td>\n",
       "      <td>1510.0</td>\n",
       "      <td>Austria1962</td>\n",
       "    </tr>\n",
       "    <tr>\n",
       "      <th>1466</th>\n",
       "      <td>Austria</td>\n",
       "      <td>1963</td>\n",
       "      <td>1497.0</td>\n",
       "      <td>Austria1963</td>\n",
       "    </tr>\n",
       "    <tr>\n",
       "      <th>1467</th>\n",
       "      <td>Austria</td>\n",
       "      <td>1964</td>\n",
       "      <td>1564.0</td>\n",
       "      <td>Austria1964</td>\n",
       "    </tr>\n",
       "    <tr>\n",
       "      <th>1468</th>\n",
       "      <td>Austria</td>\n",
       "      <td>1965</td>\n",
       "      <td>1658.0</td>\n",
       "      <td>Austria1965</td>\n",
       "    </tr>\n",
       "    <tr>\n",
       "      <th>...</th>\n",
       "      <td>...</td>\n",
       "      <td>...</td>\n",
       "      <td>...</td>\n",
       "      <td>...</td>\n",
       "    </tr>\n",
       "    <tr>\n",
       "      <th>33301</th>\n",
       "      <td>Sweden</td>\n",
       "      <td>2017</td>\n",
       "      <td>406030.0</td>\n",
       "      <td>Sweden2017</td>\n",
       "    </tr>\n",
       "    <tr>\n",
       "      <th>33302</th>\n",
       "      <td>Sweden</td>\n",
       "      <td>2018</td>\n",
       "      <td>435130.0</td>\n",
       "      <td>Sweden2018</td>\n",
       "    </tr>\n",
       "    <tr>\n",
       "      <th>33303</th>\n",
       "      <td>Sweden</td>\n",
       "      <td>2019</td>\n",
       "      <td>441780.0</td>\n",
       "      <td>Sweden2019</td>\n",
       "    </tr>\n",
       "    <tr>\n",
       "      <th>33304</th>\n",
       "      <td>Sweden</td>\n",
       "      <td>2020</td>\n",
       "      <td>443690.0</td>\n",
       "      <td>Sweden2020</td>\n",
       "    </tr>\n",
       "    <tr>\n",
       "      <th>33305</th>\n",
       "      <td>Sweden</td>\n",
       "      <td>2021</td>\n",
       "      <td>420950.0</td>\n",
       "      <td>Sweden2021</td>\n",
       "    </tr>\n",
       "  </tbody>\n",
       "</table>\n",
       "<p>4941 rows × 4 columns</p>\n",
       "</div>"
      ],
      "text/plain": [
       "          Area  Year     Value          key\n",
       "1464   Austria  1961    1501.0  Austria1961\n",
       "1465   Austria  1962    1510.0  Austria1962\n",
       "1466   Austria  1963    1497.0  Austria1963\n",
       "1467   Austria  1964    1564.0  Austria1964\n",
       "1468   Austria  1965    1658.0  Austria1965\n",
       "...        ...   ...       ...          ...\n",
       "33301   Sweden  2017  406030.0   Sweden2017\n",
       "33302   Sweden  2018  435130.0   Sweden2018\n",
       "33303   Sweden  2019  441780.0   Sweden2019\n",
       "33304   Sweden  2020  443690.0   Sweden2020\n",
       "33305   Sweden  2021  420950.0   Sweden2021\n",
       "\n",
       "[4941 rows x 4 columns]"
      ]
     },
     "execution_count": 84,
     "metadata": {},
     "output_type": "execute_result"
    }
   ],
   "source": [
    "\n",
    "df=eu(df)\n",
    "df"
   ]
  },
  {
   "cell_type": "code",
   "execution_count": 85,
   "metadata": {},
   "outputs": [],
   "source": [
    "df=key(df)\n",
    "df"
   ]
  },
  {
   "cell_type": "code",
   "execution_count": 86,
   "metadata": {},
   "outputs": [
    {
     "data": {
      "text/html": [
       "<div>\n",
       "<style scoped>\n",
       "    .dataframe tbody tr th:only-of-type {\n",
       "        vertical-align: middle;\n",
       "    }\n",
       "\n",
       "    .dataframe tbody tr th {\n",
       "        vertical-align: top;\n",
       "    }\n",
       "\n",
       "    .dataframe thead th {\n",
       "        text-align: right;\n",
       "    }\n",
       "</style>\n",
       "<table border=\"1\" class=\"dataframe\">\n",
       "  <thead>\n",
       "    <tr style=\"text-align: right;\">\n",
       "      <th></th>\n",
       "      <th>Area</th>\n",
       "      <th>Year</th>\n",
       "      <th>cattle_head_count</th>\n",
       "      <th>key</th>\n",
       "    </tr>\n",
       "  </thead>\n",
       "  <tbody>\n",
       "    <tr>\n",
       "      <th>1464</th>\n",
       "      <td>Austria</td>\n",
       "      <td>1961</td>\n",
       "      <td>1501.0</td>\n",
       "      <td>Austria1961</td>\n",
       "    </tr>\n",
       "    <tr>\n",
       "      <th>1465</th>\n",
       "      <td>Austria</td>\n",
       "      <td>1962</td>\n",
       "      <td>1510.0</td>\n",
       "      <td>Austria1962</td>\n",
       "    </tr>\n",
       "    <tr>\n",
       "      <th>1466</th>\n",
       "      <td>Austria</td>\n",
       "      <td>1963</td>\n",
       "      <td>1497.0</td>\n",
       "      <td>Austria1963</td>\n",
       "    </tr>\n",
       "    <tr>\n",
       "      <th>1467</th>\n",
       "      <td>Austria</td>\n",
       "      <td>1964</td>\n",
       "      <td>1564.0</td>\n",
       "      <td>Austria1964</td>\n",
       "    </tr>\n",
       "    <tr>\n",
       "      <th>1468</th>\n",
       "      <td>Austria</td>\n",
       "      <td>1965</td>\n",
       "      <td>1658.0</td>\n",
       "      <td>Austria1965</td>\n",
       "    </tr>\n",
       "  </tbody>\n",
       "</table>\n",
       "</div>"
      ],
      "text/plain": [
       "         Area  Year  cattle_head_count          key\n",
       "1464  Austria  1961             1501.0  Austria1961\n",
       "1465  Austria  1962             1510.0  Austria1962\n",
       "1466  Austria  1963             1497.0  Austria1963\n",
       "1467  Austria  1964             1564.0  Austria1964\n",
       "1468  Austria  1965             1658.0  Austria1965"
      ]
     },
     "execution_count": 86,
     "metadata": {},
     "output_type": "execute_result"
    }
   ],
   "source": [
    "main.head()"
   ]
  },
  {
   "cell_type": "code",
   "execution_count": 87,
   "metadata": {},
   "outputs": [
    {
     "data": {
      "text/plain": [
       "Area                   0\n",
       "Year                   0\n",
       "cattle_head_count    891\n",
       "key                    0\n",
       "dtype: int64"
      ]
     },
     "execution_count": 87,
     "metadata": {},
     "output_type": "execute_result"
    }
   ],
   "source": [
    "missing_values = main.isnull().sum()\n",
    "missing_values\n"
   ]
  },
  {
   "cell_type": "code",
   "execution_count": 88,
   "metadata": {
    "scrolled": true
   },
   "outputs": [
    {
     "name": "stdout",
     "output_type": "stream",
     "text": [
      "<class 'pandas.core.frame.DataFrame'>\n",
      "Int64Index: 4941 entries, 1464 to 33305\n",
      "Data columns (total 4 columns):\n",
      " #   Column             Non-Null Count  Dtype  \n",
      "---  ------             --------------  -----  \n",
      " 0   Area               4941 non-null   object \n",
      " 1   Year               4941 non-null   int64  \n",
      " 2   cattle_head_count  4050 non-null   float64\n",
      " 3   key                4941 non-null   object \n",
      "dtypes: float64(1), int64(1), object(2)\n",
      "memory usage: 193.0+ KB\n"
     ]
    }
   ],
   "source": [
    "main.info()"
   ]
  },
  {
   "cell_type": "code",
   "execution_count": 89,
   "metadata": {},
   "outputs": [],
   "source": [
    "df=main"
   ]
  },
  {
   "cell_type": "code",
   "execution_count": 90,
   "metadata": {},
   "outputs": [
    {
     "data": {
      "text/plain": [
       "Area                   0\n",
       "Year                   0\n",
       "cattle_head_count    891\n",
       "key                    0\n",
       "dtype: int64"
      ]
     },
     "execution_count": 90,
     "metadata": {},
     "output_type": "execute_result"
    }
   ],
   "source": [
    "df.isna().sum()"
   ]
  },
  {
   "cell_type": "code",
   "execution_count": 91,
   "metadata": {},
   "outputs": [
    {
     "data": {
      "text/plain": [
       "<AxesSubplot:>"
      ]
     },
     "execution_count": 91,
     "metadata": {},
     "output_type": "execute_result"
    },
    {
     "data": {
      "image/png": "[encoded data removed]",
      "text/plain": [
       "<Figure size 2500x1000 with 3 Axes>"
      ]
     },
     "metadata": {},
     "output_type": "display_data"
    }
   ],
   "source": [
    "msno.bar(df)"
   ]
  },
  {
   "cell_type": "code",
   "execution_count": 92,
   "metadata": {
    "scrolled": false
   },
   "outputs": [
    {
     "data": {
      "text/plain": [
       "' \\n. This will display the distribution of missing values across all columns in the DataFrame, \\nwith each row representing a different observation or row in the DataFrame, and each column representing \\na different variable or column in the DataFrame. The matrix will display colored blocks where data is present and white blocks where data\\nis missing. You can use this plot to identify which countries and years have the most missing values.\\n\\n\\n\\n\\n\\n'"
      ]
     },
     "execution_count": 92,
     "metadata": {},
     "output_type": "execute_result"
    },
    {
     "data": {
      "image/png": "[encoded data removed]",
      "text/plain": [
       "<Figure size 2500x1000 with 2 Axes>"
      ]
     },
     "metadata": {},
     "output_type": "display_data"
    }
   ],
   "source": [
    "msno.matrix(df)\n",
    "\n",
    "\n",
    "\"\"\" \n",
    ". This will display the distribution of missing values across all columns in the DataFrame, \n",
    "with each row representing a different observation or row in the DataFrame, and each column representing \n",
    "a different variable or column in the DataFrame. The matrix will display colored blocks where data is present and white blocks where data\n",
    "is missing. You can use this plot to identify which countries and years have the most missing values.\n",
    "\n",
    "\n",
    "\n",
    "\n",
    "\n",
    "\"\"\""
   ]
  },
  {
   "cell_type": "code",
   "execution_count": 93,
   "metadata": {
    "scrolled": true
   },
   "outputs": [
    {
     "data": {
      "text/html": [
       "<div>\n",
       "<style scoped>\n",
       "    .dataframe tbody tr th:only-of-type {\n",
       "        vertical-align: middle;\n",
       "    }\n",
       "\n",
       "    .dataframe tbody tr th {\n",
       "        vertical-align: top;\n",
       "    }\n",
       "\n",
       "    .dataframe thead th {\n",
       "        text-align: right;\n",
       "    }\n",
       "</style>\n",
       "<table border=\"1\" class=\"dataframe\">\n",
       "  <thead>\n",
       "    <tr style=\"text-align: right;\">\n",
       "      <th></th>\n",
       "      <th>Area</th>\n",
       "      <th>Year</th>\n",
       "      <th>cattle_head_count</th>\n",
       "      <th>key</th>\n",
       "    </tr>\n",
       "  </thead>\n",
       "  <tbody>\n",
       "    <tr>\n",
       "      <th>1464</th>\n",
       "      <td>Austria</td>\n",
       "      <td>1961</td>\n",
       "      <td>1501.0</td>\n",
       "      <td>Austria1961</td>\n",
       "    </tr>\n",
       "    <tr>\n",
       "      <th>1465</th>\n",
       "      <td>Austria</td>\n",
       "      <td>1962</td>\n",
       "      <td>1510.0</td>\n",
       "      <td>Austria1962</td>\n",
       "    </tr>\n",
       "    <tr>\n",
       "      <th>1466</th>\n",
       "      <td>Austria</td>\n",
       "      <td>1963</td>\n",
       "      <td>1497.0</td>\n",
       "      <td>Austria1963</td>\n",
       "    </tr>\n",
       "    <tr>\n",
       "      <th>1467</th>\n",
       "      <td>Austria</td>\n",
       "      <td>1964</td>\n",
       "      <td>1564.0</td>\n",
       "      <td>Austria1964</td>\n",
       "    </tr>\n",
       "    <tr>\n",
       "      <th>1468</th>\n",
       "      <td>Austria</td>\n",
       "      <td>1965</td>\n",
       "      <td>1658.0</td>\n",
       "      <td>Austria1965</td>\n",
       "    </tr>\n",
       "  </tbody>\n",
       "</table>\n",
       "</div>"
      ],
      "text/plain": [
       "         Area  Year  cattle_head_count          key\n",
       "1464  Austria  1961             1501.0  Austria1961\n",
       "1465  Austria  1962             1510.0  Austria1962\n",
       "1466  Austria  1963             1497.0  Austria1963\n",
       "1467  Austria  1964             1564.0  Austria1964\n",
       "1468  Austria  1965             1658.0  Austria1965"
      ]
     },
     "execution_count": 93,
     "metadata": {},
     "output_type": "execute_result"
    }
   ],
   "source": [
    "df.head()"
   ]
  },
  {
   "cell_type": "code",
   "execution_count": 94,
   "metadata": {},
   "outputs": [
    {
     "data": {
      "text/html": [
       "<div>\n",
       "<style scoped>\n",
       "    .dataframe tbody tr th:only-of-type {\n",
       "        vertical-align: middle;\n",
       "    }\n",
       "\n",
       "    .dataframe tbody tr th {\n",
       "        vertical-align: top;\n",
       "    }\n",
       "\n",
       "    .dataframe thead th {\n",
       "        text-align: right;\n",
       "    }\n",
       "</style>\n",
       "<table border=\"1\" class=\"dataframe\">\n",
       "  <thead>\n",
       "    <tr style=\"text-align: right;\">\n",
       "      <th></th>\n",
       "      <th>Area</th>\n",
       "      <th>Year</th>\n",
       "      <th>cattle_head_count</th>\n",
       "      <th>key</th>\n",
       "    </tr>\n",
       "  </thead>\n",
       "  <tbody>\n",
       "    <tr>\n",
       "      <th>1464</th>\n",
       "      <td>False</td>\n",
       "      <td>False</td>\n",
       "      <td>False</td>\n",
       "      <td>False</td>\n",
       "    </tr>\n",
       "    <tr>\n",
       "      <th>1465</th>\n",
       "      <td>False</td>\n",
       "      <td>False</td>\n",
       "      <td>False</td>\n",
       "      <td>False</td>\n",
       "    </tr>\n",
       "    <tr>\n",
       "      <th>1466</th>\n",
       "      <td>False</td>\n",
       "      <td>False</td>\n",
       "      <td>False</td>\n",
       "      <td>False</td>\n",
       "    </tr>\n",
       "    <tr>\n",
       "      <th>1467</th>\n",
       "      <td>False</td>\n",
       "      <td>False</td>\n",
       "      <td>False</td>\n",
       "      <td>False</td>\n",
       "    </tr>\n",
       "    <tr>\n",
       "      <th>1468</th>\n",
       "      <td>False</td>\n",
       "      <td>False</td>\n",
       "      <td>False</td>\n",
       "      <td>False</td>\n",
       "    </tr>\n",
       "    <tr>\n",
       "      <th>...</th>\n",
       "      <td>...</td>\n",
       "      <td>...</td>\n",
       "      <td>...</td>\n",
       "      <td>...</td>\n",
       "    </tr>\n",
       "    <tr>\n",
       "      <th>33301</th>\n",
       "      <td>False</td>\n",
       "      <td>False</td>\n",
       "      <td>False</td>\n",
       "      <td>False</td>\n",
       "    </tr>\n",
       "    <tr>\n",
       "      <th>33302</th>\n",
       "      <td>False</td>\n",
       "      <td>False</td>\n",
       "      <td>False</td>\n",
       "      <td>False</td>\n",
       "    </tr>\n",
       "    <tr>\n",
       "      <th>33303</th>\n",
       "      <td>False</td>\n",
       "      <td>False</td>\n",
       "      <td>False</td>\n",
       "      <td>False</td>\n",
       "    </tr>\n",
       "    <tr>\n",
       "      <th>33304</th>\n",
       "      <td>False</td>\n",
       "      <td>False</td>\n",
       "      <td>False</td>\n",
       "      <td>False</td>\n",
       "    </tr>\n",
       "    <tr>\n",
       "      <th>33305</th>\n",
       "      <td>False</td>\n",
       "      <td>False</td>\n",
       "      <td>False</td>\n",
       "      <td>False</td>\n",
       "    </tr>\n",
       "  </tbody>\n",
       "</table>\n",
       "<p>4941 rows × 4 columns</p>\n",
       "</div>"
      ],
      "text/plain": [
       "        Area   Year  cattle_head_count    key\n",
       "1464   False  False              False  False\n",
       "1465   False  False              False  False\n",
       "1466   False  False              False  False\n",
       "1467   False  False              False  False\n",
       "1468   False  False              False  False\n",
       "...      ...    ...                ...    ...\n",
       "33301  False  False              False  False\n",
       "33302  False  False              False  False\n",
       "33303  False  False              False  False\n",
       "33304  False  False              False  False\n",
       "33305  False  False              False  False\n",
       "\n",
       "[4941 rows x 4 columns]"
      ]
     },
     "execution_count": 94,
     "metadata": {},
     "output_type": "execute_result"
    }
   ],
   "source": [
    "missing_values = main.isnull()\n",
    "missing_values"
   ]
  },
  {
   "cell_type": "code",
   "execution_count": 95,
   "metadata": {},
   "outputs": [],
   "source": [
    "missing_rows = main.loc[main['cattle_head_count'].isnull()]"
   ]
  },
  {
   "cell_type": "code",
   "execution_count": 96,
   "metadata": {},
   "outputs": [
    {
     "data": {
      "text/html": [
       "<div>\n",
       "<style scoped>\n",
       "    .dataframe tbody tr th:only-of-type {\n",
       "        vertical-align: middle;\n",
       "    }\n",
       "\n",
       "    .dataframe tbody tr th {\n",
       "        vertical-align: top;\n",
       "    }\n",
       "\n",
       "    .dataframe thead th {\n",
       "        text-align: right;\n",
       "    }\n",
       "</style>\n",
       "<table border=\"1\" class=\"dataframe\">\n",
       "  <thead>\n",
       "    <tr style=\"text-align: right;\">\n",
       "      <th></th>\n",
       "      <th>Area</th>\n",
       "      <th>Year</th>\n",
       "      <th>cattle_head_count</th>\n",
       "      <th>key</th>\n",
       "    </tr>\n",
       "  </thead>\n",
       "  <tbody>\n",
       "    <tr>\n",
       "      <th>2745</th>\n",
       "      <td>Belgium</td>\n",
       "      <td>1961</td>\n",
       "      <td>NaN</td>\n",
       "      <td>Belgium1961</td>\n",
       "    </tr>\n",
       "    <tr>\n",
       "      <th>2746</th>\n",
       "      <td>Belgium</td>\n",
       "      <td>1962</td>\n",
       "      <td>NaN</td>\n",
       "      <td>Belgium1962</td>\n",
       "    </tr>\n",
       "    <tr>\n",
       "      <th>2747</th>\n",
       "      <td>Belgium</td>\n",
       "      <td>1963</td>\n",
       "      <td>NaN</td>\n",
       "      <td>Belgium1963</td>\n",
       "    </tr>\n",
       "    <tr>\n",
       "      <th>2748</th>\n",
       "      <td>Belgium</td>\n",
       "      <td>1964</td>\n",
       "      <td>NaN</td>\n",
       "      <td>Belgium1964</td>\n",
       "    </tr>\n",
       "    <tr>\n",
       "      <th>2749</th>\n",
       "      <td>Belgium</td>\n",
       "      <td>1965</td>\n",
       "      <td>NaN</td>\n",
       "      <td>Belgium1965</td>\n",
       "    </tr>\n",
       "    <tr>\n",
       "      <th>...</th>\n",
       "      <td>...</td>\n",
       "      <td>...</td>\n",
       "      <td>...</td>\n",
       "      <td>...</td>\n",
       "    </tr>\n",
       "    <tr>\n",
       "      <th>31441</th>\n",
       "      <td>Slovenia</td>\n",
       "      <td>1987</td>\n",
       "      <td>NaN</td>\n",
       "      <td>Slovenia1987</td>\n",
       "    </tr>\n",
       "    <tr>\n",
       "      <th>31442</th>\n",
       "      <td>Slovenia</td>\n",
       "      <td>1988</td>\n",
       "      <td>NaN</td>\n",
       "      <td>Slovenia1988</td>\n",
       "    </tr>\n",
       "    <tr>\n",
       "      <th>31443</th>\n",
       "      <td>Slovenia</td>\n",
       "      <td>1989</td>\n",
       "      <td>NaN</td>\n",
       "      <td>Slovenia1989</td>\n",
       "    </tr>\n",
       "    <tr>\n",
       "      <th>31444</th>\n",
       "      <td>Slovenia</td>\n",
       "      <td>1990</td>\n",
       "      <td>NaN</td>\n",
       "      <td>Slovenia1990</td>\n",
       "    </tr>\n",
       "    <tr>\n",
       "      <th>31445</th>\n",
       "      <td>Slovenia</td>\n",
       "      <td>1991</td>\n",
       "      <td>NaN</td>\n",
       "      <td>Slovenia1991</td>\n",
       "    </tr>\n",
       "  </tbody>\n",
       "</table>\n",
       "<p>891 rows × 4 columns</p>\n",
       "</div>"
      ],
      "text/plain": [
       "           Area  Year  cattle_head_count           key\n",
       "2745    Belgium  1961                NaN   Belgium1961\n",
       "2746    Belgium  1962                NaN   Belgium1962\n",
       "2747    Belgium  1963                NaN   Belgium1963\n",
       "2748    Belgium  1964                NaN   Belgium1964\n",
       "2749    Belgium  1965                NaN   Belgium1965\n",
       "...         ...   ...                ...           ...\n",
       "31441  Slovenia  1987                NaN  Slovenia1987\n",
       "31442  Slovenia  1988                NaN  Slovenia1988\n",
       "31443  Slovenia  1989                NaN  Slovenia1989\n",
       "31444  Slovenia  1990                NaN  Slovenia1990\n",
       "31445  Slovenia  1991                NaN  Slovenia1991\n",
       "\n",
       "[891 rows x 4 columns]"
      ]
     },
     "execution_count": 96,
     "metadata": {},
     "output_type": "execute_result"
    }
   ],
   "source": [
    "missing_rows"
   ]
  },
  {
   "cell_type": "code",
   "execution_count": 97,
   "metadata": {
    "scrolled": false
   },
   "outputs": [
    {
     "data": {
      "image/png": "[encoded data removed]",
      "text/plain": [
       "<Figure size 640x480 with 1 Axes>"
      ]
     },
     "metadata": {},
     "output_type": "display_data"
    }
   ],
   "source": [
    "\n",
    "import matplotlib.pyplot as plt\n",
    "\n",
    "plt.hist(missing_rows.Year, bins=30)\n",
    "plt.xlim(right=2023)\n",
    "plt.xlabel('Year')\n",
    "plt.ylabel('Number of missing rows')\n",
    "plt.show()\n",
    "\n"
   ]
  },
  {
   "cell_type": "code",
   "execution_count": 98,
   "metadata": {},
   "outputs": [
    {
     "data": {
      "text/html": [
       "<div>\n",
       "<style scoped>\n",
       "    .dataframe tbody tr th:only-of-type {\n",
       "        vertical-align: middle;\n",
       "    }\n",
       "\n",
       "    .dataframe tbody tr th {\n",
       "        vertical-align: top;\n",
       "    }\n",
       "\n",
       "    .dataframe thead th {\n",
       "        text-align: right;\n",
       "    }\n",
       "</style>\n",
       "<table border=\"1\" class=\"dataframe\">\n",
       "  <thead>\n",
       "    <tr style=\"text-align: right;\">\n",
       "      <th></th>\n",
       "      <th>Area</th>\n",
       "      <th>Year</th>\n",
       "      <th>cattle_head_count</th>\n",
       "      <th>key</th>\n",
       "    </tr>\n",
       "  </thead>\n",
       "  <tbody>\n",
       "    <tr>\n",
       "      <th>2833</th>\n",
       "      <td>Belgium</td>\n",
       "      <td>1988</td>\n",
       "      <td>NaN</td>\n",
       "      <td>Belgium1988</td>\n",
       "    </tr>\n",
       "    <tr>\n",
       "      <th>32388</th>\n",
       "      <td>Spain</td>\n",
       "      <td>2019</td>\n",
       "      <td>2510770.0</td>\n",
       "      <td>Spain2019</td>\n",
       "    </tr>\n",
       "    <tr>\n",
       "      <th>1485</th>\n",
       "      <td>Austria</td>\n",
       "      <td>1982</td>\n",
       "      <td>2640.0</td>\n",
       "      <td>Austria1982</td>\n",
       "    </tr>\n",
       "  </tbody>\n",
       "</table>\n",
       "</div>"
      ],
      "text/plain": [
       "          Area  Year  cattle_head_count          key\n",
       "2833   Belgium  1988                NaN  Belgium1988\n",
       "32388    Spain  2019          2510770.0    Spain2019\n",
       "1485   Austria  1982             2640.0  Austria1982"
      ]
     },
     "execution_count": 98,
     "metadata": {},
     "output_type": "execute_result"
    }
   ],
   "source": [
    "main.sample(3)"
   ]
  },
  {
   "cell_type": "code",
   "execution_count": 99,
   "metadata": {
    "scrolled": true
   },
   "outputs": [
    {
     "name": "stdout",
     "output_type": "stream",
     "text": [
      "Directory not found\n"
     ]
    }
   ],
   "source": [
    "scan('engineered_data')"
   ]
  },
  {
   "cell_type": "code",
   "execution_count": 100,
   "metadata": {},
   "outputs": [
    {
     "name": "stdout",
     "output_type": "stream",
     "text": [
      "The last missing value arose in the year: 2021\n"
     ]
    }
   ],
   "source": [
    "if pd.isna(main.loc[main.index[-1], 'cattle_head_count']):\n",
    "    last_missing_index = main.index[-1]\n",
    "else:\n",
    "    last_missing_index = main['cattle_head_count'].last_valid_index() + 1\n",
    "\n",
    "last_missing_year = main.loc[last_missing_index - 1, 'Year']\n",
    "print(\"The last missing value arose in the year:\", last_missing_year)\n"
   ]
  },
  {
   "cell_type": "code",
   "execution_count": 101,
   "metadata": {
    "scrolled": true
   },
   "outputs": [
    {
     "data": {
      "image/png": "[encoded data removed]",
      "text/plain": [
       "<Figure size 640x480 with 1 Axes>"
      ]
     },
     "metadata": {},
     "output_type": "display_data"
    }
   ],
   "source": [
    "# Count missing values per year\n",
    "missing_values_per_year = main['cattle_head_count'].isnull().groupby(main['Year']).sum()\n",
    "\n",
    "# Create bar plot\n",
    "plt.bar(missing_values_per_year.index, missing_values_per_year.values)\n",
    "plt.xlabel('Year')\n",
    "plt.ylabel('Number of missing values')\n",
    "plt.title('Missing values in cattle head count per year')\n",
    "plt.show()\n"
   ]
  },
  {
   "cell_type": "code",
   "execution_count": 102,
   "metadata": {},
   "outputs": [],
   "source": [
    "master = main[main['Year'] >= 1970]"
   ]
  },
  {
   "cell_type": "code",
   "execution_count": 103,
   "metadata": {
    "scrolled": true
   },
   "outputs": [
    {
     "data": {
      "text/plain": [
       "(648, 4)"
      ]
     },
     "execution_count": 103,
     "metadata": {},
     "output_type": "execute_result"
    }
   ],
   "source": [
    "missing = master.loc[master['cattle_head_count'].isnull()]\n",
    "missing.shape\n"
   ]
  },
  {
   "cell_type": "code",
   "execution_count": 104,
   "metadata": {},
   "outputs": [
    {
     "data": {
      "text/html": [
       "<div>\n",
       "<style scoped>\n",
       "    .dataframe tbody tr th:only-of-type {\n",
       "        vertical-align: middle;\n",
       "    }\n",
       "\n",
       "    .dataframe tbody tr th {\n",
       "        vertical-align: top;\n",
       "    }\n",
       "\n",
       "    .dataframe thead th {\n",
       "        text-align: right;\n",
       "    }\n",
       "</style>\n",
       "<table border=\"1\" class=\"dataframe\">\n",
       "  <thead>\n",
       "    <tr style=\"text-align: right;\">\n",
       "      <th></th>\n",
       "      <th>Year</th>\n",
       "      <th>cattle_head_count</th>\n",
       "    </tr>\n",
       "  </thead>\n",
       "  <tbody>\n",
       "    <tr>\n",
       "      <th>count</th>\n",
       "      <td>4212.000000</td>\n",
       "      <td>3.564000e+03</td>\n",
       "    </tr>\n",
       "    <tr>\n",
       "      <th>mean</th>\n",
       "      <td>1995.500000</td>\n",
       "      <td>5.717124e+05</td>\n",
       "    </tr>\n",
       "    <tr>\n",
       "      <th>std</th>\n",
       "      <td>15.010113</td>\n",
       "      <td>1.243155e+06</td>\n",
       "    </tr>\n",
       "    <tr>\n",
       "      <th>min</th>\n",
       "      <td>1970.000000</td>\n",
       "      <td>9.260000e+02</td>\n",
       "    </tr>\n",
       "    <tr>\n",
       "      <th>25%</th>\n",
       "      <td>1982.750000</td>\n",
       "      <td>2.730000e+03</td>\n",
       "    </tr>\n",
       "    <tr>\n",
       "      <th>50%</th>\n",
       "      <td>1995.500000</td>\n",
       "      <td>8.637000e+04</td>\n",
       "    </tr>\n",
       "    <tr>\n",
       "      <th>75%</th>\n",
       "      <td>2008.250000</td>\n",
       "      <td>4.980862e+05</td>\n",
       "    </tr>\n",
       "    <tr>\n",
       "      <th>max</th>\n",
       "      <td>2021.000000</td>\n",
       "      <td>8.726000e+06</td>\n",
       "    </tr>\n",
       "  </tbody>\n",
       "</table>\n",
       "</div>"
      ],
      "text/plain": [
       "              Year  cattle_head_count\n",
       "count  4212.000000       3.564000e+03\n",
       "mean   1995.500000       5.717124e+05\n",
       "std      15.010113       1.243155e+06\n",
       "min    1970.000000       9.260000e+02\n",
       "25%    1982.750000       2.730000e+03\n",
       "50%    1995.500000       8.637000e+04\n",
       "75%    2008.250000       4.980862e+05\n",
       "max    2021.000000       8.726000e+06"
      ]
     },
     "execution_count": 104,
     "metadata": {},
     "output_type": "execute_result"
    }
   ],
   "source": [
    "master.describe()\n"
   ]
  },
  {
   "cell_type": "markdown",
   "metadata": {},
   "source": []
  },
  {
   "cell_type": "code",
   "execution_count": 105,
   "metadata": {},
   "outputs": [],
   "source": [
    "def plot_missing(main, start_year, end_year):\n",
    "    # Filter for years within the specified range\n",
    "    main = main[(main['Year'] >= start_year) & (main['Year'] <= end_year)]\n",
    "    \n",
    "    # Find missing values\n",
    "    missing = main[main['cattle_head_count'].isnull()]\n",
    "\n",
    "    # Group by year and count missing values\n",
    "    missing_by_year = missing.groupby('Year').size()\n",
    "\n",
    "    # Create bar plot\n",
    "    plt.figure(figsize=(10,5))\n",
    "    plt.bar(missing_by_year.index, missing_by_year.values)\n",
    "    plt.title(f\"Missing Values in Cattle Head Count from {start_year} to {end_year}\")\n",
    "    plt.xlabel(\"Year\")\n",
    "    plt.ylabel(\"Missing Values\")\n",
    "    plt.show()"
   ]
  },
  {
   "cell_type": "code",
   "execution_count": 106,
   "metadata": {
    "scrolled": true
   },
   "outputs": [
    {
     "data": {
      "image/png": "[encoded data removed]",
      "text/plain": [
       "<Figure size 1000x500 with 1 Axes>"
      ]
     },
     "metadata": {},
     "output_type": "display_data"
    }
   ],
   "source": [
    "plot_missing(main,1961,2021)"
   ]
  },
  {
   "cell_type": "code",
   "execution_count": 107,
   "metadata": {
    "scrolled": true
   },
   "outputs": [
    {
     "data": {
      "image/png": "[encoded data removed]",
      "text/plain": [
       "<Figure size 1000x500 with 1 Axes>"
      ]
     },
     "metadata": {},
     "output_type": "display_data"
    }
   ],
   "source": [
    "plot_missing(main,1990,2000)"
   ]
  },
  {
   "cell_type": "code",
   "execution_count": 108,
   "metadata": {
    "scrolled": true
   },
   "outputs": [
    {
     "name": "stdout",
     "output_type": "stream",
     "text": [
      "['Belgium' 'Croatia' 'Czechia' 'Estonia' 'Latvia' 'Lithuania' 'Luxembourg'\n",
      " 'Slovakia' 'Slovenia']\n"
     ]
    }
   ],
   "source": [
    "missing = master[master['cattle_head_count'].isnull()]\n",
    "print(missing['Area'].unique())"
   ]
  },
  {
   "cell_type": "code",
   "execution_count": 109,
   "metadata": {},
   "outputs": [
    {
     "ename": "NameError",
     "evalue": "name 'ax' is not defined",
     "output_type": "error",
     "traceback": [
      "\u001b[1;31m---------------------------------------------------------------------------\u001b[0m",
      "\u001b[1;31mNameError\u001b[0m                                 Traceback (most recent call last)",
      "\u001b[1;32m~\\AppData\\Local\\Temp\\ipykernel_7340\\3015784152.py\u001b[0m in \u001b[0;36m<module>\u001b[1;34m\u001b[0m\n\u001b[0;32m     10\u001b[0m \u001b[1;31m# set plot title and labels\u001b[0m\u001b[1;33m\u001b[0m\u001b[1;33m\u001b[0m\u001b[0m\n\u001b[0;32m     11\u001b[0m \u001b[1;33m\u001b[0m\u001b[0m\n\u001b[1;32m---> 12\u001b[1;33m \u001b[0max\u001b[0m\u001b[1;33m.\u001b[0m\u001b[0mset_xlim\u001b[0m\u001b[1;33m(\u001b[0m\u001b[1;36m1993\u001b[0m\u001b[1;33m,\u001b[0m \u001b[1;36m1994\u001b[0m\u001b[1;33m)\u001b[0m\u001b[1;33m\u001b[0m\u001b[1;33m\u001b[0m\u001b[0m\n\u001b[0m\u001b[0;32m     13\u001b[0m \u001b[0max\u001b[0m\u001b[1;33m.\u001b[0m\u001b[0mset_ylim\u001b[0m\u001b[1;33m(\u001b[0m\u001b[1;36m0\u001b[0m\u001b[1;33m,\u001b[0m \u001b[1;36m30\u001b[0m\u001b[1;33m)\u001b[0m\u001b[1;33m\u001b[0m\u001b[1;33m\u001b[0m\u001b[0m\n\u001b[0;32m     14\u001b[0m \u001b[1;33m\u001b[0m\u001b[0m\n",
      "\u001b[1;31mNameError\u001b[0m: name 'ax' is not defined"
     ]
    },
    {
     "data": {
      "image/png": "[encoded data removed]",
      "text/plain": [
       "<Figure size 640x480 with 1 Axes>"
      ]
     },
     "metadata": {},
     "output_type": "display_data"
    }
   ],
   "source": [
    "# filter to missing values in Area column\n",
    "missing = master.loc[master['cattle_head_count'].isnull()]\n",
    "\n",
    "# group missing values by year and Area and count them\n",
    "missing_by_year_area = missing.groupby(['Year', 'Area']).size().reset_index(name='count')\n",
    "\n",
    "# create a bar plot of missing values by year and Area\n",
    "sns.barplot(x='Year', y='count', hue='Area', data=missing_by_year_area)\n",
    "\n",
    "# set plot title and labels\n",
    "\n",
    "ax.set_xlim(1993, 1994)\n",
    "ax.set_ylim(0, 30)\n",
    "\n",
    "\n",
    "plt.title('Missing Cattle Head Count by Year and Area')\n",
    "plt.xlabel('Year')\n",
    "plt.ylabel('Missing Count')\n",
    "\n",
    "# show the plot\n",
    "plt.show()\n"
   ]
  },
  {
   "cell_type": "code",
   "execution_count": null,
   "metadata": {
    "scrolled": true
   },
   "outputs": [],
   "source": [
    "# filter to missing values in Area column\n",
    "missing = master.loc[master['cattle_head_count'].isnull()]\n",
    "\n",
    "# group missing values by year and Area and count them\n",
    "missing_by_year_area = missing.groupby(['Year', 'Area']).size().reset_index(name='count')\n",
    "\n",
    "# create a bar plot of missing values by year and Area\n",
    "ax = sns.barplot(x='Year', y='count', hue='Area', data=missing_by_year_area)\n",
    "\n",
    "# set axis limits\n",
    "ax.set_xlim(1988, 1993)\n",
    "ax.set_ylim(0, 5)\n",
    "\n",
    "# set plot title and labels\n",
    "plt.title('Missing Cattle Head Count by Year and Area')\n",
    "plt.xlabel('Year')\n",
    "plt.ylabel('Missing Count')\n",
    "\n",
    "# show the plot\n",
    "plt.show()\n",
    "\n",
    "\n"
   ]
  },
  {
   "cell_type": "code",
   "execution_count": null,
   "metadata": {},
   "outputs": [],
   "source": [
    "missing_by_year_area.tail()"
   ]
  },
  {
   "cell_type": "code",
   "execution_count": null,
   "metadata": {},
   "outputs": [],
   "source": [
    "main = main[main['Year'] >= 2000]\n",
    "main.head()"
   ]
  },
  {
   "cell_type": "code",
   "execution_count": null,
   "metadata": {},
   "outputs": [],
   "source": [
    "write(missing_by_year_area,'missing')"
   ]
  },
  {
   "cell_type": "code",
   "execution_count": null,
   "metadata": {
    "scrolled": true
   },
   "outputs": [],
   "source": [
    "scan('engineered_data')"
   ]
  },
  {
   "cell_type": "code",
   "execution_count": null,
   "metadata": {},
   "outputs": [],
   "source": [
    "preparation"
   ]
  },
  {
   "cell_type": "markdown",
   "metadata": {},
   "source": [
    "### Lineplots of the top 5 producers\n",
    "\n",
    "Ireland has moved up the rankings  from 5th to 3rd in terms of cattle head count overtakig Poland and Italy at about the tun of the centuary."
   ]
  },
  {
   "cell_type": "code",
   "execution_count": null,
   "metadata": {},
   "outputs": [],
   "source": [
    "# group data by key and calculate the mean cattle head count for each group\n",
    "grouped_data = main.groupby('key')['cattle_head_count'].mean().reset_index()\n",
    "\n",
    "# sort groups by average cattle head count in descending order\n",
    "sorted_groups = grouped_data.sort_values(by='cattle_head_count', ascending=False)\n",
    "\n",
    "# get the sorted key column\n",
    "sorted_key = sorted_groups['key']\n",
    "# group data by Area and Year, and calculate the sum of cattle_head_count for each group\n",
    "grouped_data = main.groupby(['Area', 'Year'])['cattle_head_count'].sum().reset_index()\n",
    "\n",
    "# get the total cattle head count for each Area\n",
    "area_totals = grouped_data.groupby('Area')['cattle_head_count'].sum()\n",
    "\n",
    "# sort areas by total cattle head count and get the top 5 areas\n",
    "top_areas = area_totals.sort_values(ascending=False)[:5].index.tolist()\n",
    "\n",
    "# filter data to include only the top 10 areas\n",
    "filtered_data = grouped_data[grouped_data['Area'].isin(top_areas)]\n",
    "\n",
    "# create a line plot with a different color for each Area\n",
    "sns.lineplot(data=filtered_data, x='Year', y='cattle_head_count', hue='Area')\n"
   ]
  },
  {
   "cell_type": "code",
   "execution_count": null,
   "metadata": {},
   "outputs": [],
   "source": [
    "\n",
    "# df1.shape\n",
    "#  df1.isna().sum()\n",
    "#  yield_df.describe(include=object)\n",
    "#  duplicate_df = df1[df1.duplicated()]\n",
    "#  df1.dtypes"
   ]
  },
  {
   "cell_type": "code",
   "execution_count": null,
   "metadata": {},
   "outputs": [],
   "source": [
    "df=year(df)"
   ]
  },
  {
   "cell_type": "code",
   "execution_count": null,
   "metadata": {},
   "outputs": [],
   "source": [
    "scanraw()"
   ]
  },
  {
   "cell_type": "code",
   "execution_count": 110,
   "metadata": {},
   "outputs": [
    {
     "data": {
      "text/html": [
       "<div>\n",
       "<style scoped>\n",
       "    .dataframe tbody tr th:only-of-type {\n",
       "        vertical-align: middle;\n",
       "    }\n",
       "\n",
       "    .dataframe tbody tr th {\n",
       "        vertical-align: top;\n",
       "    }\n",
       "\n",
       "    .dataframe thead th {\n",
       "        text-align: right;\n",
       "    }\n",
       "</style>\n",
       "<table border=\"1\" class=\"dataframe\">\n",
       "  <thead>\n",
       "    <tr style=\"text-align: right;\">\n",
       "      <th></th>\n",
       "      <th>Area</th>\n",
       "      <th>Year</th>\n",
       "      <th>cattle_head_count</th>\n",
       "      <th>key</th>\n",
       "    </tr>\n",
       "  </thead>\n",
       "  <tbody>\n",
       "    <tr>\n",
       "      <th>1464</th>\n",
       "      <td>Austria</td>\n",
       "      <td>1961</td>\n",
       "      <td>1501.0</td>\n",
       "      <td>Austria1961</td>\n",
       "    </tr>\n",
       "    <tr>\n",
       "      <th>1465</th>\n",
       "      <td>Austria</td>\n",
       "      <td>1962</td>\n",
       "      <td>1510.0</td>\n",
       "      <td>Austria1962</td>\n",
       "    </tr>\n",
       "    <tr>\n",
       "      <th>1466</th>\n",
       "      <td>Austria</td>\n",
       "      <td>1963</td>\n",
       "      <td>1497.0</td>\n",
       "      <td>Austria1963</td>\n",
       "    </tr>\n",
       "    <tr>\n",
       "      <th>1467</th>\n",
       "      <td>Austria</td>\n",
       "      <td>1964</td>\n",
       "      <td>1564.0</td>\n",
       "      <td>Austria1964</td>\n",
       "    </tr>\n",
       "    <tr>\n",
       "      <th>1468</th>\n",
       "      <td>Austria</td>\n",
       "      <td>1965</td>\n",
       "      <td>1658.0</td>\n",
       "      <td>Austria1965</td>\n",
       "    </tr>\n",
       "    <tr>\n",
       "      <th>...</th>\n",
       "      <td>...</td>\n",
       "      <td>...</td>\n",
       "      <td>...</td>\n",
       "      <td>...</td>\n",
       "    </tr>\n",
       "    <tr>\n",
       "      <th>33301</th>\n",
       "      <td>Sweden</td>\n",
       "      <td>2017</td>\n",
       "      <td>406030.0</td>\n",
       "      <td>Sweden2017</td>\n",
       "    </tr>\n",
       "    <tr>\n",
       "      <th>33302</th>\n",
       "      <td>Sweden</td>\n",
       "      <td>2018</td>\n",
       "      <td>435130.0</td>\n",
       "      <td>Sweden2018</td>\n",
       "    </tr>\n",
       "    <tr>\n",
       "      <th>33303</th>\n",
       "      <td>Sweden</td>\n",
       "      <td>2019</td>\n",
       "      <td>441780.0</td>\n",
       "      <td>Sweden2019</td>\n",
       "    </tr>\n",
       "    <tr>\n",
       "      <th>33304</th>\n",
       "      <td>Sweden</td>\n",
       "      <td>2020</td>\n",
       "      <td>443690.0</td>\n",
       "      <td>Sweden2020</td>\n",
       "    </tr>\n",
       "    <tr>\n",
       "      <th>33305</th>\n",
       "      <td>Sweden</td>\n",
       "      <td>2021</td>\n",
       "      <td>420950.0</td>\n",
       "      <td>Sweden2021</td>\n",
       "    </tr>\n",
       "  </tbody>\n",
       "</table>\n",
       "<p>4941 rows × 4 columns</p>\n",
       "</div>"
      ],
      "text/plain": [
       "          Area  Year  cattle_head_count          key\n",
       "1464   Austria  1961             1501.0  Austria1961\n",
       "1465   Austria  1962             1510.0  Austria1962\n",
       "1466   Austria  1963             1497.0  Austria1963\n",
       "1467   Austria  1964             1564.0  Austria1964\n",
       "1468   Austria  1965             1658.0  Austria1965\n",
       "...        ...   ...                ...          ...\n",
       "33301   Sweden  2017           406030.0   Sweden2017\n",
       "33302   Sweden  2018           435130.0   Sweden2018\n",
       "33303   Sweden  2019           441780.0   Sweden2019\n",
       "33304   Sweden  2020           443690.0   Sweden2020\n",
       "33305   Sweden  2021           420950.0   Sweden2021\n",
       "\n",
       "[4941 rows x 4 columns]"
      ]
     },
     "execution_count": 110,
     "metadata": {},
     "output_type": "execute_result"
    }
   ],
   "source": [
    "data=df\n",
    "df"
   ]
  },
  {
   "cell_type": "code",
   "execution_count": 111,
   "metadata": {
    "scrolled": true
   },
   "outputs": [
    {
     "ename": "FileNotFoundError",
     "evalue": "[Errno 2] No such file or directory: 'rawdata/produce_primary_meat.csv'",
     "output_type": "error",
     "traceback": [
      "\u001b[1;31m---------------------------------------------------------------------------\u001b[0m",
      "\u001b[1;31mFileNotFoundError\u001b[0m                         Traceback (most recent call last)",
      "\u001b[1;32m~\\AppData\\Local\\Temp\\ipykernel_7340\\2381744945.py\u001b[0m in \u001b[0;36m<module>\u001b[1;34m\u001b[0m\n\u001b[1;32m----> 1\u001b[1;33m \u001b[0mdf\u001b[0m \u001b[1;33m=\u001b[0m \u001b[0mpd\u001b[0m\u001b[1;33m.\u001b[0m\u001b[0mread_csv\u001b[0m\u001b[1;33m(\u001b[0m\u001b[1;34m'rawdata/produce_primary_meat.csv'\u001b[0m\u001b[1;33m)\u001b[0m\u001b[1;33m\u001b[0m\u001b[1;33m\u001b[0m\u001b[0m\n\u001b[0m\u001b[0;32m      2\u001b[0m \u001b[0mdf\u001b[0m\u001b[1;33m=\u001b[0m\u001b[0mkey\u001b[0m\u001b[1;33m(\u001b[0m\u001b[0mdf\u001b[0m\u001b[1;33m)\u001b[0m\u001b[1;33m\u001b[0m\u001b[1;33m\u001b[0m\u001b[0m\n\u001b[0;32m      3\u001b[0m \u001b[0mdf\u001b[0m\u001b[1;33m.\u001b[0m\u001b[0minfo\u001b[0m\u001b[1;33m(\u001b[0m\u001b[1;33m)\u001b[0m\u001b[1;33m\u001b[0m\u001b[1;33m\u001b[0m\u001b[0m\n",
      "\u001b[1;32m~\\anaconda3\\lib\\site-packages\\pandas\\util\\_decorators.py\u001b[0m in \u001b[0;36mwrapper\u001b[1;34m(*args, **kwargs)\u001b[0m\n\u001b[0;32m    309\u001b[0m                     \u001b[0mstacklevel\u001b[0m\u001b[1;33m=\u001b[0m\u001b[0mstacklevel\u001b[0m\u001b[1;33m,\u001b[0m\u001b[1;33m\u001b[0m\u001b[1;33m\u001b[0m\u001b[0m\n\u001b[0;32m    310\u001b[0m                 )\n\u001b[1;32m--> 311\u001b[1;33m             \u001b[1;32mreturn\u001b[0m \u001b[0mfunc\u001b[0m\u001b[1;33m(\u001b[0m\u001b[1;33m*\u001b[0m\u001b[0margs\u001b[0m\u001b[1;33m,\u001b[0m \u001b[1;33m**\u001b[0m\u001b[0mkwargs\u001b[0m\u001b[1;33m)\u001b[0m\u001b[1;33m\u001b[0m\u001b[1;33m\u001b[0m\u001b[0m\n\u001b[0m\u001b[0;32m    312\u001b[0m \u001b[1;33m\u001b[0m\u001b[0m\n\u001b[0;32m    313\u001b[0m         \u001b[1;32mreturn\u001b[0m \u001b[0mwrapper\u001b[0m\u001b[1;33m\u001b[0m\u001b[1;33m\u001b[0m\u001b[0m\n",
      "\u001b[1;32m~\\anaconda3\\lib\\site-packages\\pandas\\io\\parsers\\readers.py\u001b[0m in \u001b[0;36mread_csv\u001b[1;34m(filepath_or_buffer, sep, delimiter, header, names, index_col, usecols, squeeze, prefix, mangle_dupe_cols, dtype, engine, converters, true_values, false_values, skipinitialspace, skiprows, skipfooter, nrows, na_values, keep_default_na, na_filter, verbose, skip_blank_lines, parse_dates, infer_datetime_format, keep_date_col, date_parser, dayfirst, cache_dates, iterator, chunksize, compression, thousands, decimal, lineterminator, quotechar, quoting, doublequote, escapechar, comment, encoding, encoding_errors, dialect, error_bad_lines, warn_bad_lines, on_bad_lines, delim_whitespace, low_memory, memory_map, float_precision, storage_options)\u001b[0m\n\u001b[0;32m    676\u001b[0m     \u001b[0mkwds\u001b[0m\u001b[1;33m.\u001b[0m\u001b[0mupdate\u001b[0m\u001b[1;33m(\u001b[0m\u001b[0mkwds_defaults\u001b[0m\u001b[1;33m)\u001b[0m\u001b[1;33m\u001b[0m\u001b[1;33m\u001b[0m\u001b[0m\n\u001b[0;32m    677\u001b[0m \u001b[1;33m\u001b[0m\u001b[0m\n\u001b[1;32m--> 678\u001b[1;33m     \u001b[1;32mreturn\u001b[0m \u001b[0m_read\u001b[0m\u001b[1;33m(\u001b[0m\u001b[0mfilepath_or_buffer\u001b[0m\u001b[1;33m,\u001b[0m \u001b[0mkwds\u001b[0m\u001b[1;33m)\u001b[0m\u001b[1;33m\u001b[0m\u001b[1;33m\u001b[0m\u001b[0m\n\u001b[0m\u001b[0;32m    679\u001b[0m \u001b[1;33m\u001b[0m\u001b[0m\n\u001b[0;32m    680\u001b[0m \u001b[1;33m\u001b[0m\u001b[0m\n",
      "\u001b[1;32m~\\anaconda3\\lib\\site-packages\\pandas\\io\\parsers\\readers.py\u001b[0m in \u001b[0;36m_read\u001b[1;34m(filepath_or_buffer, kwds)\u001b[0m\n\u001b[0;32m    573\u001b[0m \u001b[1;33m\u001b[0m\u001b[0m\n\u001b[0;32m    574\u001b[0m     \u001b[1;31m# Create the parser.\u001b[0m\u001b[1;33m\u001b[0m\u001b[1;33m\u001b[0m\u001b[0m\n\u001b[1;32m--> 575\u001b[1;33m     \u001b[0mparser\u001b[0m \u001b[1;33m=\u001b[0m \u001b[0mTextFileReader\u001b[0m\u001b[1;33m(\u001b[0m\u001b[0mfilepath_or_buffer\u001b[0m\u001b[1;33m,\u001b[0m \u001b[1;33m**\u001b[0m\u001b[0mkwds\u001b[0m\u001b[1;33m)\u001b[0m\u001b[1;33m\u001b[0m\u001b[1;33m\u001b[0m\u001b[0m\n\u001b[0m\u001b[0;32m    576\u001b[0m \u001b[1;33m\u001b[0m\u001b[0m\n\u001b[0;32m    577\u001b[0m     \u001b[1;32mif\u001b[0m \u001b[0mchunksize\u001b[0m \u001b[1;32mor\u001b[0m \u001b[0miterator\u001b[0m\u001b[1;33m:\u001b[0m\u001b[1;33m\u001b[0m\u001b[1;33m\u001b[0m\u001b[0m\n",
      "\u001b[1;32m~\\anaconda3\\lib\\site-packages\\pandas\\io\\parsers\\readers.py\u001b[0m in \u001b[0;36m__init__\u001b[1;34m(self, f, engine, **kwds)\u001b[0m\n\u001b[0;32m    930\u001b[0m \u001b[1;33m\u001b[0m\u001b[0m\n\u001b[0;32m    931\u001b[0m         \u001b[0mself\u001b[0m\u001b[1;33m.\u001b[0m\u001b[0mhandles\u001b[0m\u001b[1;33m:\u001b[0m \u001b[0mIOHandles\u001b[0m \u001b[1;33m|\u001b[0m \u001b[1;32mNone\u001b[0m \u001b[1;33m=\u001b[0m \u001b[1;32mNone\u001b[0m\u001b[1;33m\u001b[0m\u001b[1;33m\u001b[0m\u001b[0m\n\u001b[1;32m--> 932\u001b[1;33m         \u001b[0mself\u001b[0m\u001b[1;33m.\u001b[0m\u001b[0m_engine\u001b[0m \u001b[1;33m=\u001b[0m \u001b[0mself\u001b[0m\u001b[1;33m.\u001b[0m\u001b[0m_make_engine\u001b[0m\u001b[1;33m(\u001b[0m\u001b[0mf\u001b[0m\u001b[1;33m,\u001b[0m \u001b[0mself\u001b[0m\u001b[1;33m.\u001b[0m\u001b[0mengine\u001b[0m\u001b[1;33m)\u001b[0m\u001b[1;33m\u001b[0m\u001b[1;33m\u001b[0m\u001b[0m\n\u001b[0m\u001b[0;32m    933\u001b[0m \u001b[1;33m\u001b[0m\u001b[0m\n\u001b[0;32m    934\u001b[0m     \u001b[1;32mdef\u001b[0m \u001b[0mclose\u001b[0m\u001b[1;33m(\u001b[0m\u001b[0mself\u001b[0m\u001b[1;33m)\u001b[0m\u001b[1;33m:\u001b[0m\u001b[1;33m\u001b[0m\u001b[1;33m\u001b[0m\u001b[0m\n",
      "\u001b[1;32m~\\anaconda3\\lib\\site-packages\\pandas\\io\\parsers\\readers.py\u001b[0m in \u001b[0;36m_make_engine\u001b[1;34m(self, f, engine)\u001b[0m\n\u001b[0;32m   1214\u001b[0m             \u001b[1;31m# \"Union[str, PathLike[str], ReadCsvBuffer[bytes], ReadCsvBuffer[str]]\"\u001b[0m\u001b[1;33m\u001b[0m\u001b[1;33m\u001b[0m\u001b[0m\n\u001b[0;32m   1215\u001b[0m             \u001b[1;31m# , \"str\", \"bool\", \"Any\", \"Any\", \"Any\", \"Any\", \"Any\"\u001b[0m\u001b[1;33m\u001b[0m\u001b[1;33m\u001b[0m\u001b[0m\n\u001b[1;32m-> 1216\u001b[1;33m             self.handles = get_handle(  # type: ignore[call-overload]\n\u001b[0m\u001b[0;32m   1217\u001b[0m                 \u001b[0mf\u001b[0m\u001b[1;33m,\u001b[0m\u001b[1;33m\u001b[0m\u001b[1;33m\u001b[0m\u001b[0m\n\u001b[0;32m   1218\u001b[0m                 \u001b[0mmode\u001b[0m\u001b[1;33m,\u001b[0m\u001b[1;33m\u001b[0m\u001b[1;33m\u001b[0m\u001b[0m\n",
      "\u001b[1;32m~\\anaconda3\\lib\\site-packages\\pandas\\io\\common.py\u001b[0m in \u001b[0;36mget_handle\u001b[1;34m(path_or_buf, mode, encoding, compression, memory_map, is_text, errors, storage_options)\u001b[0m\n\u001b[0;32m    784\u001b[0m         \u001b[1;32mif\u001b[0m \u001b[0mioargs\u001b[0m\u001b[1;33m.\u001b[0m\u001b[0mencoding\u001b[0m \u001b[1;32mand\u001b[0m \u001b[1;34m\"b\"\u001b[0m \u001b[1;32mnot\u001b[0m \u001b[1;32min\u001b[0m \u001b[0mioargs\u001b[0m\u001b[1;33m.\u001b[0m\u001b[0mmode\u001b[0m\u001b[1;33m:\u001b[0m\u001b[1;33m\u001b[0m\u001b[1;33m\u001b[0m\u001b[0m\n\u001b[0;32m    785\u001b[0m             \u001b[1;31m# Encoding\u001b[0m\u001b[1;33m\u001b[0m\u001b[1;33m\u001b[0m\u001b[0m\n\u001b[1;32m--> 786\u001b[1;33m             handle = open(\n\u001b[0m\u001b[0;32m    787\u001b[0m                 \u001b[0mhandle\u001b[0m\u001b[1;33m,\u001b[0m\u001b[1;33m\u001b[0m\u001b[1;33m\u001b[0m\u001b[0m\n\u001b[0;32m    788\u001b[0m                 \u001b[0mioargs\u001b[0m\u001b[1;33m.\u001b[0m\u001b[0mmode\u001b[0m\u001b[1;33m,\u001b[0m\u001b[1;33m\u001b[0m\u001b[1;33m\u001b[0m\u001b[0m\n",
      "\u001b[1;31mFileNotFoundError\u001b[0m: [Errno 2] No such file or directory: 'rawdata/produce_primary_meat.csv'"
     ]
    }
   ],
   "source": [
    "\n",
    "df = pd.read_csv('rawdata/produce_primary_meat.csv')\n",
    "df=key(df)\n",
    "df.info()"
   ]
  },
  {
   "cell_type": "code",
   "execution_count": 112,
   "metadata": {},
   "outputs": [
    {
     "ename": "KeyError",
     "evalue": "'Element'",
     "output_type": "error",
     "traceback": [
      "\u001b[1;31m---------------------------------------------------------------------------\u001b[0m",
      "\u001b[1;31mKeyError\u001b[0m                                  Traceback (most recent call last)",
      "\u001b[1;32m~\\anaconda3\\lib\\site-packages\\pandas\\core\\indexes\\base.py\u001b[0m in \u001b[0;36mget_loc\u001b[1;34m(self, key, method, tolerance)\u001b[0m\n\u001b[0;32m   3628\u001b[0m             \u001b[1;32mtry\u001b[0m\u001b[1;33m:\u001b[0m\u001b[1;33m\u001b[0m\u001b[1;33m\u001b[0m\u001b[0m\n\u001b[1;32m-> 3629\u001b[1;33m                 \u001b[1;32mreturn\u001b[0m \u001b[0mself\u001b[0m\u001b[1;33m.\u001b[0m\u001b[0m_engine\u001b[0m\u001b[1;33m.\u001b[0m\u001b[0mget_loc\u001b[0m\u001b[1;33m(\u001b[0m\u001b[0mcasted_key\u001b[0m\u001b[1;33m)\u001b[0m\u001b[1;33m\u001b[0m\u001b[1;33m\u001b[0m\u001b[0m\n\u001b[0m\u001b[0;32m   3630\u001b[0m             \u001b[1;32mexcept\u001b[0m \u001b[0mKeyError\u001b[0m \u001b[1;32mas\u001b[0m \u001b[0merr\u001b[0m\u001b[1;33m:\u001b[0m\u001b[1;33m\u001b[0m\u001b[1;33m\u001b[0m\u001b[0m\n",
      "\u001b[1;32m~\\anaconda3\\lib\\site-packages\\pandas\\_libs\\index.pyx\u001b[0m in \u001b[0;36mpandas._libs.index.IndexEngine.get_loc\u001b[1;34m()\u001b[0m\n",
      "\u001b[1;32m~\\anaconda3\\lib\\site-packages\\pandas\\_libs\\index.pyx\u001b[0m in \u001b[0;36mpandas._libs.index.IndexEngine.get_loc\u001b[1;34m()\u001b[0m\n",
      "\u001b[1;32mpandas\\_libs\\hashtable_class_helper.pxi\u001b[0m in \u001b[0;36mpandas._libs.hashtable.PyObjectHashTable.get_item\u001b[1;34m()\u001b[0m\n",
      "\u001b[1;32mpandas\\_libs\\hashtable_class_helper.pxi\u001b[0m in \u001b[0;36mpandas._libs.hashtable.PyObjectHashTable.get_item\u001b[1;34m()\u001b[0m\n",
      "\u001b[1;31mKeyError\u001b[0m: 'Element'",
      "\nThe above exception was the direct cause of the following exception:\n",
      "\u001b[1;31mKeyError\u001b[0m                                  Traceback (most recent call last)",
      "\u001b[1;32m~\\AppData\\Local\\Temp\\ipykernel_7340\\352629435.py\u001b[0m in \u001b[0;36m<module>\u001b[1;34m\u001b[0m\n\u001b[1;32m----> 1\u001b[1;33m \u001b[0munique\u001b[0m \u001b[1;33m=\u001b[0m \u001b[0mdf\u001b[0m\u001b[1;33m[\u001b[0m\u001b[1;34m'Element'\u001b[0m\u001b[1;33m]\u001b[0m\u001b[1;33m.\u001b[0m\u001b[0munique\u001b[0m\u001b[1;33m(\u001b[0m\u001b[1;33m)\u001b[0m\u001b[1;33m\u001b[0m\u001b[1;33m\u001b[0m\u001b[0m\n\u001b[0m\u001b[0;32m      2\u001b[0m \u001b[0munique\u001b[0m\u001b[1;33m\u001b[0m\u001b[1;33m\u001b[0m\u001b[0m\n",
      "\u001b[1;32m~\\anaconda3\\lib\\site-packages\\pandas\\core\\frame.py\u001b[0m in \u001b[0;36m__getitem__\u001b[1;34m(self, key)\u001b[0m\n\u001b[0;32m   3503\u001b[0m             \u001b[1;32mif\u001b[0m \u001b[0mself\u001b[0m\u001b[1;33m.\u001b[0m\u001b[0mcolumns\u001b[0m\u001b[1;33m.\u001b[0m\u001b[0mnlevels\u001b[0m \u001b[1;33m>\u001b[0m \u001b[1;36m1\u001b[0m\u001b[1;33m:\u001b[0m\u001b[1;33m\u001b[0m\u001b[1;33m\u001b[0m\u001b[0m\n\u001b[0;32m   3504\u001b[0m                 \u001b[1;32mreturn\u001b[0m \u001b[0mself\u001b[0m\u001b[1;33m.\u001b[0m\u001b[0m_getitem_multilevel\u001b[0m\u001b[1;33m(\u001b[0m\u001b[0mkey\u001b[0m\u001b[1;33m)\u001b[0m\u001b[1;33m\u001b[0m\u001b[1;33m\u001b[0m\u001b[0m\n\u001b[1;32m-> 3505\u001b[1;33m             \u001b[0mindexer\u001b[0m \u001b[1;33m=\u001b[0m \u001b[0mself\u001b[0m\u001b[1;33m.\u001b[0m\u001b[0mcolumns\u001b[0m\u001b[1;33m.\u001b[0m\u001b[0mget_loc\u001b[0m\u001b[1;33m(\u001b[0m\u001b[0mkey\u001b[0m\u001b[1;33m)\u001b[0m\u001b[1;33m\u001b[0m\u001b[1;33m\u001b[0m\u001b[0m\n\u001b[0m\u001b[0;32m   3506\u001b[0m             \u001b[1;32mif\u001b[0m \u001b[0mis_integer\u001b[0m\u001b[1;33m(\u001b[0m\u001b[0mindexer\u001b[0m\u001b[1;33m)\u001b[0m\u001b[1;33m:\u001b[0m\u001b[1;33m\u001b[0m\u001b[1;33m\u001b[0m\u001b[0m\n\u001b[0;32m   3507\u001b[0m                 \u001b[0mindexer\u001b[0m \u001b[1;33m=\u001b[0m \u001b[1;33m[\u001b[0m\u001b[0mindexer\u001b[0m\u001b[1;33m]\u001b[0m\u001b[1;33m\u001b[0m\u001b[1;33m\u001b[0m\u001b[0m\n",
      "\u001b[1;32m~\\anaconda3\\lib\\site-packages\\pandas\\core\\indexes\\base.py\u001b[0m in \u001b[0;36mget_loc\u001b[1;34m(self, key, method, tolerance)\u001b[0m\n\u001b[0;32m   3629\u001b[0m                 \u001b[1;32mreturn\u001b[0m \u001b[0mself\u001b[0m\u001b[1;33m.\u001b[0m\u001b[0m_engine\u001b[0m\u001b[1;33m.\u001b[0m\u001b[0mget_loc\u001b[0m\u001b[1;33m(\u001b[0m\u001b[0mcasted_key\u001b[0m\u001b[1;33m)\u001b[0m\u001b[1;33m\u001b[0m\u001b[1;33m\u001b[0m\u001b[0m\n\u001b[0;32m   3630\u001b[0m             \u001b[1;32mexcept\u001b[0m \u001b[0mKeyError\u001b[0m \u001b[1;32mas\u001b[0m \u001b[0merr\u001b[0m\u001b[1;33m:\u001b[0m\u001b[1;33m\u001b[0m\u001b[1;33m\u001b[0m\u001b[0m\n\u001b[1;32m-> 3631\u001b[1;33m                 \u001b[1;32mraise\u001b[0m \u001b[0mKeyError\u001b[0m\u001b[1;33m(\u001b[0m\u001b[0mkey\u001b[0m\u001b[1;33m)\u001b[0m \u001b[1;32mfrom\u001b[0m \u001b[0merr\u001b[0m\u001b[1;33m\u001b[0m\u001b[1;33m\u001b[0m\u001b[0m\n\u001b[0m\u001b[0;32m   3632\u001b[0m             \u001b[1;32mexcept\u001b[0m \u001b[0mTypeError\u001b[0m\u001b[1;33m:\u001b[0m\u001b[1;33m\u001b[0m\u001b[1;33m\u001b[0m\u001b[0m\n\u001b[0;32m   3633\u001b[0m                 \u001b[1;31m# If we have a listlike key, _check_indexing_error will raise\u001b[0m\u001b[1;33m\u001b[0m\u001b[1;33m\u001b[0m\u001b[0m\n",
      "\u001b[1;31mKeyError\u001b[0m: 'Element'"
     ]
    }
   ],
   "source": [
    "unique = df['Element'].unique()\n",
    "unique"
   ]
  },
  {
   "cell_type": "code",
   "execution_count": 113,
   "metadata": {},
   "outputs": [],
   "source": [
    "df=eu(df)"
   ]
  },
  {
   "cell_type": "code",
   "execution_count": 114,
   "metadata": {},
   "outputs": [
    {
     "ename": "NameError",
     "evalue": "name 'year' is not defined",
     "output_type": "error",
     "traceback": [
      "\u001b[1;31m---------------------------------------------------------------------------\u001b[0m",
      "\u001b[1;31mNameError\u001b[0m                                 Traceback (most recent call last)",
      "\u001b[1;32m~\\AppData\\Local\\Temp\\ipykernel_7340\\3435878507.py\u001b[0m in \u001b[0;36m<module>\u001b[1;34m\u001b[0m\n\u001b[1;32m----> 1\u001b[1;33m \u001b[0mdf\u001b[0m\u001b[1;33m=\u001b[0m\u001b[0myear\u001b[0m\u001b[1;33m(\u001b[0m\u001b[0mdf\u001b[0m\u001b[1;33m)\u001b[0m\u001b[1;33m\u001b[0m\u001b[1;33m\u001b[0m\u001b[0m\n\u001b[0m",
      "\u001b[1;31mNameError\u001b[0m: name 'year' is not defined"
     ]
    }
   ],
   "source": [
    "df=year(df)"
   ]
  },
  {
   "cell_type": "code",
   "execution_count": 115,
   "metadata": {
    "scrolled": true
   },
   "outputs": [
    {
     "ename": "NameError",
     "evalue": "name 'scanraw' is not defined",
     "output_type": "error",
     "traceback": [
      "\u001b[1;31m---------------------------------------------------------------------------\u001b[0m",
      "\u001b[1;31mNameError\u001b[0m                                 Traceback (most recent call last)",
      "\u001b[1;32m~\\AppData\\Local\\Temp\\ipykernel_7340\\3327852206.py\u001b[0m in \u001b[0;36m<module>\u001b[1;34m\u001b[0m\n\u001b[1;32m----> 1\u001b[1;33m \u001b[0mscanraw\u001b[0m\u001b[1;33m(\u001b[0m\u001b[1;33m)\u001b[0m\u001b[1;33m\u001b[0m\u001b[1;33m\u001b[0m\u001b[0m\n\u001b[0m",
      "\u001b[1;31mNameError\u001b[0m: name 'scanraw' is not defined"
     ]
    }
   ],
   "source": [
    "scanraw()"
   ]
  },
  {
   "cell_type": "code",
   "execution_count": 116,
   "metadata": {},
   "outputs": [
    {
     "ename": "KeyError",
     "evalue": "'Element'",
     "output_type": "error",
     "traceback": [
      "\u001b[1;31m---------------------------------------------------------------------------\u001b[0m",
      "\u001b[1;31mKeyError\u001b[0m                                  Traceback (most recent call last)",
      "\u001b[1;32m~\\AppData\\Local\\Temp\\ipykernel_7340\\503955558.py\u001b[0m in \u001b[0;36m<module>\u001b[1;34m\u001b[0m\n\u001b[0;32m      2\u001b[0m \u001b[1;31m# element_df\u001b[0m\u001b[1;33m\u001b[0m\u001b[1;33m\u001b[0m\u001b[0m\n\u001b[0;32m      3\u001b[0m \u001b[1;33m\u001b[0m\u001b[0m\n\u001b[1;32m----> 4\u001b[1;33m \u001b[0mgrouped_df\u001b[0m \u001b[1;33m=\u001b[0m \u001b[0mdf\u001b[0m\u001b[1;33m.\u001b[0m\u001b[0mgroupby\u001b[0m\u001b[1;33m(\u001b[0m\u001b[1;34m'Element'\u001b[0m\u001b[1;33m)\u001b[0m\u001b[1;33m\u001b[0m\u001b[1;33m\u001b[0m\u001b[0m\n\u001b[0m\u001b[0;32m      5\u001b[0m \u001b[0mproduction\u001b[0m \u001b[1;33m=\u001b[0m \u001b[0mgrouped_df\u001b[0m\u001b[1;33m.\u001b[0m\u001b[0mget_group\u001b[0m\u001b[1;33m(\u001b[0m\u001b[1;34m'Production'\u001b[0m\u001b[1;33m)\u001b[0m\u001b[1;33m\u001b[0m\u001b[1;33m\u001b[0m\u001b[0m\n\u001b[0;32m      6\u001b[0m \u001b[0mstocks\u001b[0m \u001b[1;33m=\u001b[0m \u001b[0mgrouped_df\u001b[0m\u001b[1;33m.\u001b[0m\u001b[0mget_group\u001b[0m\u001b[1;33m(\u001b[0m\u001b[1;34m'Stocks'\u001b[0m\u001b[1;33m)\u001b[0m\u001b[1;33m\u001b[0m\u001b[1;33m\u001b[0m\u001b[0m\n",
      "\u001b[1;32m~\\anaconda3\\lib\\site-packages\\pandas\\core\\frame.py\u001b[0m in \u001b[0;36mgroupby\u001b[1;34m(self, by, axis, level, as_index, sort, group_keys, squeeze, observed, dropna)\u001b[0m\n\u001b[0;32m   7719\u001b[0m         \u001b[1;31m# error: Argument \"squeeze\" to \"DataFrameGroupBy\" has incompatible type\u001b[0m\u001b[1;33m\u001b[0m\u001b[1;33m\u001b[0m\u001b[0m\n\u001b[0;32m   7720\u001b[0m         \u001b[1;31m# \"Union[bool, NoDefault]\"; expected \"bool\"\u001b[0m\u001b[1;33m\u001b[0m\u001b[1;33m\u001b[0m\u001b[0m\n\u001b[1;32m-> 7721\u001b[1;33m         return DataFrameGroupBy(\n\u001b[0m\u001b[0;32m   7722\u001b[0m             \u001b[0mobj\u001b[0m\u001b[1;33m=\u001b[0m\u001b[0mself\u001b[0m\u001b[1;33m,\u001b[0m\u001b[1;33m\u001b[0m\u001b[1;33m\u001b[0m\u001b[0m\n\u001b[0;32m   7723\u001b[0m             \u001b[0mkeys\u001b[0m\u001b[1;33m=\u001b[0m\u001b[0mby\u001b[0m\u001b[1;33m,\u001b[0m\u001b[1;33m\u001b[0m\u001b[1;33m\u001b[0m\u001b[0m\n",
      "\u001b[1;32m~\\anaconda3\\lib\\site-packages\\pandas\\core\\groupby\\groupby.py\u001b[0m in \u001b[0;36m__init__\u001b[1;34m(self, obj, keys, axis, level, grouper, exclusions, selection, as_index, sort, group_keys, squeeze, observed, mutated, dropna)\u001b[0m\n\u001b[0;32m    880\u001b[0m             \u001b[1;32mfrom\u001b[0m \u001b[0mpandas\u001b[0m\u001b[1;33m.\u001b[0m\u001b[0mcore\u001b[0m\u001b[1;33m.\u001b[0m\u001b[0mgroupby\u001b[0m\u001b[1;33m.\u001b[0m\u001b[0mgrouper\u001b[0m \u001b[1;32mimport\u001b[0m \u001b[0mget_grouper\u001b[0m\u001b[1;33m\u001b[0m\u001b[1;33m\u001b[0m\u001b[0m\n\u001b[0;32m    881\u001b[0m \u001b[1;33m\u001b[0m\u001b[0m\n\u001b[1;32m--> 882\u001b[1;33m             grouper, exclusions, obj = get_grouper(\n\u001b[0m\u001b[0;32m    883\u001b[0m                 \u001b[0mobj\u001b[0m\u001b[1;33m,\u001b[0m\u001b[1;33m\u001b[0m\u001b[1;33m\u001b[0m\u001b[0m\n\u001b[0;32m    884\u001b[0m                 \u001b[0mkeys\u001b[0m\u001b[1;33m,\u001b[0m\u001b[1;33m\u001b[0m\u001b[1;33m\u001b[0m\u001b[0m\n",
      "\u001b[1;32m~\\anaconda3\\lib\\site-packages\\pandas\\core\\groupby\\grouper.py\u001b[0m in \u001b[0;36mget_grouper\u001b[1;34m(obj, key, axis, level, sort, observed, mutated, validate, dropna)\u001b[0m\n\u001b[0;32m    880\u001b[0m                 \u001b[0min_axis\u001b[0m\u001b[1;33m,\u001b[0m \u001b[0mlevel\u001b[0m\u001b[1;33m,\u001b[0m \u001b[0mgpr\u001b[0m \u001b[1;33m=\u001b[0m \u001b[1;32mFalse\u001b[0m\u001b[1;33m,\u001b[0m \u001b[0mgpr\u001b[0m\u001b[1;33m,\u001b[0m \u001b[1;32mNone\u001b[0m\u001b[1;33m\u001b[0m\u001b[1;33m\u001b[0m\u001b[0m\n\u001b[0;32m    881\u001b[0m             \u001b[1;32melse\u001b[0m\u001b[1;33m:\u001b[0m\u001b[1;33m\u001b[0m\u001b[1;33m\u001b[0m\u001b[0m\n\u001b[1;32m--> 882\u001b[1;33m                 \u001b[1;32mraise\u001b[0m \u001b[0mKeyError\u001b[0m\u001b[1;33m(\u001b[0m\u001b[0mgpr\u001b[0m\u001b[1;33m)\u001b[0m\u001b[1;33m\u001b[0m\u001b[1;33m\u001b[0m\u001b[0m\n\u001b[0m\u001b[0;32m    883\u001b[0m         \u001b[1;32melif\u001b[0m \u001b[0misinstance\u001b[0m\u001b[1;33m(\u001b[0m\u001b[0mgpr\u001b[0m\u001b[1;33m,\u001b[0m \u001b[0mGrouper\u001b[0m\u001b[1;33m)\u001b[0m \u001b[1;32mand\u001b[0m \u001b[0mgpr\u001b[0m\u001b[1;33m.\u001b[0m\u001b[0mkey\u001b[0m \u001b[1;32mis\u001b[0m \u001b[1;32mnot\u001b[0m \u001b[1;32mNone\u001b[0m\u001b[1;33m:\u001b[0m\u001b[1;33m\u001b[0m\u001b[1;33m\u001b[0m\u001b[0m\n\u001b[0;32m    884\u001b[0m             \u001b[1;31m# Add key to exclusions\u001b[0m\u001b[1;33m\u001b[0m\u001b[1;33m\u001b[0m\u001b[0m\n",
      "\u001b[1;31mKeyError\u001b[0m: 'Element'"
     ]
    }
   ],
   "source": [
    "# element_df = df['Element'].unique()\n",
    "# element_df  \n",
    "\n",
    "grouped_df = df.groupby('Element')\n",
    "production = grouped_df.get_group('Production')\n",
    "stocks = grouped_df.get_group('Stocks')\n",
    "production.to_csv('engineered_data/production.csv', index=False)\n",
    "stocks.to_csv('engineered_data/stocks.csv', index=False)"
   ]
  },
  {
   "cell_type": "code",
   "execution_count": 117,
   "metadata": {},
   "outputs": [
    {
     "ename": "NameError",
     "evalue": "name 'df1' is not defined",
     "output_type": "error",
     "traceback": [
      "\u001b[1;31m---------------------------------------------------------------------------\u001b[0m",
      "\u001b[1;31mNameError\u001b[0m                                 Traceback (most recent call last)",
      "\u001b[1;32m~\\AppData\\Local\\Temp\\ipykernel_7340\\661326122.py\u001b[0m in \u001b[0;36m<module>\u001b[1;34m\u001b[0m\n\u001b[1;32m----> 1\u001b[1;33m \u001b[0mdf1\u001b[0m\u001b[1;33m.\u001b[0m\u001b[0mrename\u001b[0m\u001b[1;33m(\u001b[0m\u001b[0mcolumns\u001b[0m \u001b[1;33m=\u001b[0m \u001b[1;33m{\u001b[0m\u001b[1;34m'Value'\u001b[0m\u001b[1;33m:\u001b[0m\u001b[1;34m'yield_hg_An'\u001b[0m\u001b[1;33m}\u001b[0m\u001b[1;33m,\u001b[0m \u001b[0minplace\u001b[0m \u001b[1;33m=\u001b[0m \u001b[1;32mTrue\u001b[0m\u001b[1;33m)\u001b[0m\u001b[1;33m\u001b[0m\u001b[1;33m\u001b[0m\u001b[0m\n\u001b[0m",
      "\u001b[1;31mNameError\u001b[0m: name 'df1' is not defined"
     ]
    }
   ],
   "source": [
    "\n",
    "df1.rename(columns = {'Value':'yield_hg_An'}, inplace = True)\n"
   ]
  },
  {
   "cell_type": "code",
   "execution_count": 118,
   "metadata": {
    "scrolled": true
   },
   "outputs": [
    {
     "ename": "NameError",
     "evalue": "name 'df1' is not defined",
     "output_type": "error",
     "traceback": [
      "\u001b[1;31m---------------------------------------------------------------------------\u001b[0m",
      "\u001b[1;31mNameError\u001b[0m                                 Traceback (most recent call last)",
      "\u001b[1;32m~\\AppData\\Local\\Temp\\ipykernel_7340\\2133891235.py\u001b[0m in \u001b[0;36m<module>\u001b[1;34m\u001b[0m\n\u001b[0;32m      2\u001b[0m \u001b[0mcolumns_to_keep\u001b[0m \u001b[1;33m=\u001b[0m \u001b[1;33m[\u001b[0m\u001b[1;34m\"Key\"\u001b[0m\u001b[1;33m,\u001b[0m\u001b[1;34m\"Year\"\u001b[0m\u001b[1;33m,\u001b[0m\u001b[1;34m\"Area\"\u001b[0m\u001b[1;33m,\u001b[0m\u001b[1;34m\"yield_hg_An\"\u001b[0m\u001b[1;33m]\u001b[0m \u001b[1;31m#faster than drop function here\u001b[0m\u001b[1;33m\u001b[0m\u001b[1;33m\u001b[0m\u001b[0m\n\u001b[0;32m      3\u001b[0m \u001b[1;31m# Create a new dataframe with only the specified columns\u001b[0m\u001b[1;33m\u001b[0m\u001b[1;33m\u001b[0m\u001b[0m\n\u001b[1;32m----> 4\u001b[1;33m \u001b[0mdf1\u001b[0m \u001b[1;33m=\u001b[0m \u001b[0mdf1\u001b[0m\u001b[1;33m[\u001b[0m\u001b[0mcolumns_to_keep\u001b[0m\u001b[1;33m]\u001b[0m\u001b[1;33m\u001b[0m\u001b[1;33m\u001b[0m\u001b[0m\n\u001b[0m\u001b[0;32m      5\u001b[0m \u001b[0mdf1\u001b[0m\u001b[1;33m.\u001b[0m\u001b[0mhead\u001b[0m\u001b[1;33m(\u001b[0m\u001b[1;33m)\u001b[0m\u001b[1;33m\u001b[0m\u001b[1;33m\u001b[0m\u001b[0m\n",
      "\u001b[1;31mNameError\u001b[0m: name 'df1' is not defined"
     ]
    }
   ],
   "source": [
    "# Specify the columns to keep\n",
    "columns_to_keep = [\"Key\",\"Year\",\"Area\",\"yield_hg_An\"] #faster than drop function here\n",
    "# Create a new dataframe with only the specified columns\n",
    "df1 = df1[columns_to_keep]\n",
    "df1.head()"
   ]
  },
  {
   "cell_type": "code",
   "execution_count": 119,
   "metadata": {},
   "outputs": [
    {
     "ename": "NameError",
     "evalue": "name 'df1' is not defined",
     "output_type": "error",
     "traceback": [
      "\u001b[1;31m---------------------------------------------------------------------------\u001b[0m",
      "\u001b[1;31mNameError\u001b[0m                                 Traceback (most recent call last)",
      "\u001b[1;32m~\\AppData\\Local\\Temp\\ipykernel_7340\\2325013459.py\u001b[0m in \u001b[0;36m<module>\u001b[1;34m\u001b[0m\n\u001b[1;32m----> 1\u001b[1;33m \u001b[0mdf1\u001b[0m\u001b[1;33m.\u001b[0m\u001b[0mto_csv\u001b[0m\u001b[1;33m(\u001b[0m\u001b[1;34m\"df1.csv\"\u001b[0m\u001b[1;33m,\u001b[0m \u001b[0mindex\u001b[0m\u001b[1;33m=\u001b[0m\u001b[1;32mFalse\u001b[0m\u001b[1;33m)\u001b[0m\u001b[1;33m\u001b[0m\u001b[1;33m\u001b[0m\u001b[0m\n\u001b[0m\u001b[0;32m      2\u001b[0m \u001b[0mmerged_df\u001b[0m\u001b[1;33m=\u001b[0m\u001b[0mdf1\u001b[0m\u001b[1;33m\u001b[0m\u001b[1;33m\u001b[0m\u001b[0m\n",
      "\u001b[1;31mNameError\u001b[0m: name 'df1' is not defined"
     ]
    }
   ],
   "source": [
    "df1.to_csv(\"df1.csv\", index=False)\n",
    "merged_df=df1"
   ]
  },
  {
   "cell_type": "markdown",
   "metadata": {
    "scrolled": true
   },
   "source": [
    "### EDA code lines commented out below and the distribution of yields  all indicated that no cleaning or imputation was required "
   ]
  },
  {
   "cell_type": "code",
   "execution_count": 120,
   "metadata": {
    "scrolled": false
   },
   "outputs": [
    {
     "ename": "NameError",
     "evalue": "name 'df1' is not defined",
     "output_type": "error",
     "traceback": [
      "\u001b[1;31m---------------------------------------------------------------------------\u001b[0m",
      "\u001b[1;31mNameError\u001b[0m                                 Traceback (most recent call last)",
      "\u001b[1;32m~\\AppData\\Local\\Temp\\ipykernel_7340\\2348783085.py\u001b[0m in \u001b[0;36m<module>\u001b[1;34m\u001b[0m\n\u001b[0;32m      1\u001b[0m \u001b[0mplt\u001b[0m\u001b[1;33m.\u001b[0m\u001b[0mfigure\u001b[0m\u001b[1;33m(\u001b[0m\u001b[0mfigsize\u001b[0m\u001b[1;33m=\u001b[0m\u001b[1;33m(\u001b[0m\u001b[1;36m10\u001b[0m\u001b[1;33m,\u001b[0m \u001b[1;36m20\u001b[0m\u001b[1;33m)\u001b[0m\u001b[1;33m)\u001b[0m\u001b[1;33m\u001b[0m\u001b[1;33m\u001b[0m\u001b[0m\n\u001b[1;32m----> 2\u001b[1;33m \u001b[0msns\u001b[0m\u001b[1;33m.\u001b[0m\u001b[0mdisplot\u001b[0m\u001b[1;33m(\u001b[0m\u001b[0mdf1\u001b[0m\u001b[1;33m,\u001b[0m \u001b[0mx\u001b[0m\u001b[1;33m=\u001b[0m\u001b[1;34m\"yield_hg_An\"\u001b[0m\u001b[1;33m)\u001b[0m\u001b[1;33m\u001b[0m\u001b[1;33m\u001b[0m\u001b[0m\n\u001b[0m\u001b[0;32m      3\u001b[0m \u001b[0mplt\u001b[0m\u001b[1;33m.\u001b[0m\u001b[0msavefig\u001b[0m\u001b[1;33m(\u001b[0m\u001b[1;34m\"Yield_distribution.png\"\u001b[0m\u001b[1;33m,\u001b[0m \u001b[0mdpi\u001b[0m\u001b[1;33m=\u001b[0m\u001b[1;36m300\u001b[0m\u001b[1;33m)\u001b[0m\u001b[1;33m\u001b[0m\u001b[1;33m\u001b[0m\u001b[0m\n\u001b[0;32m      4\u001b[0m \u001b[0mplt\u001b[0m\u001b[1;33m.\u001b[0m\u001b[0mshow\u001b[0m\u001b[1;33m(\u001b[0m\u001b[1;33m)\u001b[0m\u001b[1;33m\u001b[0m\u001b[1;33m\u001b[0m\u001b[0m\n",
      "\u001b[1;31mNameError\u001b[0m: name 'df1' is not defined"
     ]
    },
    {
     "data": {
      "text/plain": [
       "<Figure size 1000x2000 with 0 Axes>"
      ]
     },
     "metadata": {},
     "output_type": "display_data"
    }
   ],
   "source": [
    "   \n",
    "    plt.figure(figsize=(10, 20))\n",
    "    sns.displot(df1, x=\"yield_hg_An\")\n",
    "    plt.savefig(\"Yield_distribution.png\", dpi=300)\n",
    "    plt.show()"
   ]
  },
  {
   "cell_type": "code",
   "execution_count": 121,
   "metadata": {},
   "outputs": [
    {
     "ename": "NameError",
     "evalue": "name 'df1' is not defined",
     "output_type": "error",
     "traceback": [
      "\u001b[1;31m---------------------------------------------------------------------------\u001b[0m",
      "\u001b[1;31mNameError\u001b[0m                                 Traceback (most recent call last)",
      "\u001b[1;32m~\\AppData\\Local\\Temp\\ipykernel_7340\\4035691994.py\u001b[0m in \u001b[0;36m<module>\u001b[1;34m\u001b[0m\n\u001b[0;32m      1\u001b[0m \u001b[1;31m# Extract values of a specific column\u001b[0m\u001b[1;33m\u001b[0m\u001b[1;33m\u001b[0m\u001b[0m\n\u001b[1;32m----> 2\u001b[1;33m \u001b[0mcolumn\u001b[0m \u001b[1;33m=\u001b[0m \u001b[0mdf1\u001b[0m\u001b[1;33m[\u001b[0m\u001b[1;34m'yield_hg_An'\u001b[0m\u001b[1;33m]\u001b[0m\u001b[1;33m\u001b[0m\u001b[1;33m\u001b[0m\u001b[0m\n\u001b[0m\u001b[0;32m      3\u001b[0m \u001b[1;33m\u001b[0m\u001b[0m\n\u001b[0;32m      4\u001b[0m \u001b[1;31m# Perform the Shapiro-Wilk test\u001b[0m\u001b[1;33m\u001b[0m\u001b[1;33m\u001b[0m\u001b[0m\n\u001b[0;32m      5\u001b[0m \u001b[0mstat\u001b[0m\u001b[1;33m,\u001b[0m \u001b[0mp\u001b[0m \u001b[1;33m=\u001b[0m \u001b[0mshapiro\u001b[0m\u001b[1;33m(\u001b[0m\u001b[0mcolumn\u001b[0m\u001b[1;33m)\u001b[0m\u001b[1;33m\u001b[0m\u001b[1;33m\u001b[0m\u001b[0m\n",
      "\u001b[1;31mNameError\u001b[0m: name 'df1' is not defined"
     ]
    }
   ],
   "source": [
    "# Extract values of a specific column\n",
    "column = df1['yield_hg_An']\n",
    "\n",
    "# Perform the Shapiro-Wilk test\n",
    "stat, p = shapiro(column)\n",
    "p"
   ]
  },
  {
   "cell_type": "code",
   "execution_count": 122,
   "metadata": {},
   "outputs": [
    {
     "ename": "NameError",
     "evalue": "name 'p' is not defined",
     "output_type": "error",
     "traceback": [
      "\u001b[1;31m---------------------------------------------------------------------------\u001b[0m",
      "\u001b[1;31mNameError\u001b[0m                                 Traceback (most recent call last)",
      "\u001b[1;32m~\\AppData\\Local\\Temp\\ipykernel_7340\\2072975853.py\u001b[0m in \u001b[0;36m<module>\u001b[1;34m\u001b[0m\n\u001b[0;32m      1\u001b[0m \u001b[1;31m# Interpret the results\u001b[0m\u001b[1;33m\u001b[0m\u001b[1;33m\u001b[0m\u001b[0m\n\u001b[0;32m      2\u001b[0m \u001b[0malpha\u001b[0m \u001b[1;33m=\u001b[0m \u001b[1;36m0.05\u001b[0m\u001b[1;33m\u001b[0m\u001b[1;33m\u001b[0m\u001b[0m\n\u001b[1;32m----> 3\u001b[1;33m \u001b[1;32mif\u001b[0m \u001b[0mp\u001b[0m \u001b[1;33m<\u001b[0m \u001b[0malpha\u001b[0m\u001b[1;33m:\u001b[0m\u001b[1;33m\u001b[0m\u001b[1;33m\u001b[0m\u001b[0m\n\u001b[0m\u001b[0;32m      4\u001b[0m     \u001b[0mprint\u001b[0m\u001b[1;33m(\u001b[0m\u001b[1;34m\"Sample looks Gaussian (fail to reject H0)\"\u001b[0m\u001b[1;33m)\u001b[0m\u001b[1;33m\u001b[0m\u001b[1;33m\u001b[0m\u001b[0m\n\u001b[0;32m      5\u001b[0m \u001b[1;32melse\u001b[0m\u001b[1;33m:\u001b[0m\u001b[1;33m\u001b[0m\u001b[1;33m\u001b[0m\u001b[0m\n",
      "\u001b[1;31mNameError\u001b[0m: name 'p' is not defined"
     ]
    }
   ],
   "source": [
    "# Interpret the results\n",
    "alpha = 0.05\n",
    "if p < alpha:\n",
    "    print(\"Sample looks Gaussian (fail to reject H0)\")\n",
    "else:\n",
    "    print(\"Sample does not look Gaussian (reject H0)\")"
   ]
  },
  {
   "cell_type": "code",
   "execution_count": 123,
   "metadata": {},
   "outputs": [
    {
     "ename": "FileNotFoundError",
     "evalue": "[Errno 2] No such file or directory: 'FAOSTAT\\\\produce_primary_slaughtered.csv'",
     "output_type": "error",
     "traceback": [
      "\u001b[1;31m---------------------------------------------------------------------------\u001b[0m",
      "\u001b[1;31mFileNotFoundError\u001b[0m                         Traceback (most recent call last)",
      "\u001b[1;32m~\\AppData\\Local\\Temp\\ipykernel_7340\\1926506291.py\u001b[0m in \u001b[0;36m<module>\u001b[1;34m\u001b[0m\n\u001b[0;32m      2\u001b[0m \u001b[1;31m# csv data but the human intervention for renaming value fields mitigated against it.\u001b[0m\u001b[1;33m\u001b[0m\u001b[1;33m\u001b[0m\u001b[0m\n\u001b[0;32m      3\u001b[0m \u001b[1;33m\u001b[0m\u001b[0m\n\u001b[1;32m----> 4\u001b[1;33m \u001b[0mdf2\u001b[0m \u001b[1;33m=\u001b[0m \u001b[0mpd\u001b[0m\u001b[1;33m.\u001b[0m\u001b[0mread_csv\u001b[0m\u001b[1;33m(\u001b[0m\u001b[1;34m'FAOSTAT\\produce_primary_slaughtered.csv'\u001b[0m\u001b[1;33m,\u001b[0m \u001b[0mon_bad_lines\u001b[0m\u001b[1;33m=\u001b[0m\u001b[1;34m'skip'\u001b[0m\u001b[1;33m)\u001b[0m\u001b[1;33m\u001b[0m\u001b[1;33m\u001b[0m\u001b[0m\n\u001b[0m\u001b[0;32m      5\u001b[0m \u001b[0mdf2\u001b[0m\u001b[1;33m=\u001b[0m \u001b[0mdf2\u001b[0m\u001b[1;33m[\u001b[0m\u001b[1;33m(\u001b[0m\u001b[0mdf2\u001b[0m\u001b[1;33m[\u001b[0m\u001b[1;34m'Area'\u001b[0m\u001b[1;33m]\u001b[0m\u001b[1;33m.\u001b[0m\u001b[0misin\u001b[0m\u001b[1;33m(\u001b[0m\u001b[0mEUROPEAN_UNION\u001b[0m\u001b[1;33m.\u001b[0m\u001b[0mnames\u001b[0m\u001b[1;33m)\u001b[0m\u001b[1;33m)\u001b[0m\u001b[1;33m]\u001b[0m \u001b[1;31m#EU only\u001b[0m\u001b[1;33m\u001b[0m\u001b[1;33m\u001b[0m\u001b[0m\n\u001b[0;32m      6\u001b[0m \u001b[0mdf2\u001b[0m\u001b[1;33m[\u001b[0m\u001b[1;34m'Key'\u001b[0m\u001b[1;33m]\u001b[0m \u001b[1;33m=\u001b[0m \u001b[0mdf2\u001b[0m\u001b[1;33m[\u001b[0m\u001b[1;34m'Area'\u001b[0m\u001b[1;33m]\u001b[0m \u001b[1;33m+\u001b[0m \u001b[0mdf2\u001b[0m\u001b[1;33m[\u001b[0m\u001b[1;34m'Year'\u001b[0m\u001b[1;33m]\u001b[0m\u001b[1;33m.\u001b[0m\u001b[0mastype\u001b[0m\u001b[1;33m(\u001b[0m\u001b[0mstr\u001b[0m\u001b[1;33m)\u001b[0m \u001b[1;31m# add a merging key\u001b[0m\u001b[1;33m\u001b[0m\u001b[1;33m\u001b[0m\u001b[0m\n",
      "\u001b[1;32m~\\anaconda3\\lib\\site-packages\\pandas\\util\\_decorators.py\u001b[0m in \u001b[0;36mwrapper\u001b[1;34m(*args, **kwargs)\u001b[0m\n\u001b[0;32m    309\u001b[0m                     \u001b[0mstacklevel\u001b[0m\u001b[1;33m=\u001b[0m\u001b[0mstacklevel\u001b[0m\u001b[1;33m,\u001b[0m\u001b[1;33m\u001b[0m\u001b[1;33m\u001b[0m\u001b[0m\n\u001b[0;32m    310\u001b[0m                 )\n\u001b[1;32m--> 311\u001b[1;33m             \u001b[1;32mreturn\u001b[0m \u001b[0mfunc\u001b[0m\u001b[1;33m(\u001b[0m\u001b[1;33m*\u001b[0m\u001b[0margs\u001b[0m\u001b[1;33m,\u001b[0m \u001b[1;33m**\u001b[0m\u001b[0mkwargs\u001b[0m\u001b[1;33m)\u001b[0m\u001b[1;33m\u001b[0m\u001b[1;33m\u001b[0m\u001b[0m\n\u001b[0m\u001b[0;32m    312\u001b[0m \u001b[1;33m\u001b[0m\u001b[0m\n\u001b[0;32m    313\u001b[0m         \u001b[1;32mreturn\u001b[0m \u001b[0mwrapper\u001b[0m\u001b[1;33m\u001b[0m\u001b[1;33m\u001b[0m\u001b[0m\n",
      "\u001b[1;32m~\\anaconda3\\lib\\site-packages\\pandas\\io\\parsers\\readers.py\u001b[0m in \u001b[0;36mread_csv\u001b[1;34m(filepath_or_buffer, sep, delimiter, header, names, index_col, usecols, squeeze, prefix, mangle_dupe_cols, dtype, engine, converters, true_values, false_values, skipinitialspace, skiprows, skipfooter, nrows, na_values, keep_default_na, na_filter, verbose, skip_blank_lines, parse_dates, infer_datetime_format, keep_date_col, date_parser, dayfirst, cache_dates, iterator, chunksize, compression, thousands, decimal, lineterminator, quotechar, quoting, doublequote, escapechar, comment, encoding, encoding_errors, dialect, error_bad_lines, warn_bad_lines, on_bad_lines, delim_whitespace, low_memory, memory_map, float_precision, storage_options)\u001b[0m\n\u001b[0;32m    676\u001b[0m     \u001b[0mkwds\u001b[0m\u001b[1;33m.\u001b[0m\u001b[0mupdate\u001b[0m\u001b[1;33m(\u001b[0m\u001b[0mkwds_defaults\u001b[0m\u001b[1;33m)\u001b[0m\u001b[1;33m\u001b[0m\u001b[1;33m\u001b[0m\u001b[0m\n\u001b[0;32m    677\u001b[0m \u001b[1;33m\u001b[0m\u001b[0m\n\u001b[1;32m--> 678\u001b[1;33m     \u001b[1;32mreturn\u001b[0m \u001b[0m_read\u001b[0m\u001b[1;33m(\u001b[0m\u001b[0mfilepath_or_buffer\u001b[0m\u001b[1;33m,\u001b[0m \u001b[0mkwds\u001b[0m\u001b[1;33m)\u001b[0m\u001b[1;33m\u001b[0m\u001b[1;33m\u001b[0m\u001b[0m\n\u001b[0m\u001b[0;32m    679\u001b[0m \u001b[1;33m\u001b[0m\u001b[0m\n\u001b[0;32m    680\u001b[0m \u001b[1;33m\u001b[0m\u001b[0m\n",
      "\u001b[1;32m~\\anaconda3\\lib\\site-packages\\pandas\\io\\parsers\\readers.py\u001b[0m in \u001b[0;36m_read\u001b[1;34m(filepath_or_buffer, kwds)\u001b[0m\n\u001b[0;32m    573\u001b[0m \u001b[1;33m\u001b[0m\u001b[0m\n\u001b[0;32m    574\u001b[0m     \u001b[1;31m# Create the parser.\u001b[0m\u001b[1;33m\u001b[0m\u001b[1;33m\u001b[0m\u001b[0m\n\u001b[1;32m--> 575\u001b[1;33m     \u001b[0mparser\u001b[0m \u001b[1;33m=\u001b[0m \u001b[0mTextFileReader\u001b[0m\u001b[1;33m(\u001b[0m\u001b[0mfilepath_or_buffer\u001b[0m\u001b[1;33m,\u001b[0m \u001b[1;33m**\u001b[0m\u001b[0mkwds\u001b[0m\u001b[1;33m)\u001b[0m\u001b[1;33m\u001b[0m\u001b[1;33m\u001b[0m\u001b[0m\n\u001b[0m\u001b[0;32m    576\u001b[0m \u001b[1;33m\u001b[0m\u001b[0m\n\u001b[0;32m    577\u001b[0m     \u001b[1;32mif\u001b[0m \u001b[0mchunksize\u001b[0m \u001b[1;32mor\u001b[0m \u001b[0miterator\u001b[0m\u001b[1;33m:\u001b[0m\u001b[1;33m\u001b[0m\u001b[1;33m\u001b[0m\u001b[0m\n",
      "\u001b[1;32m~\\anaconda3\\lib\\site-packages\\pandas\\io\\parsers\\readers.py\u001b[0m in \u001b[0;36m__init__\u001b[1;34m(self, f, engine, **kwds)\u001b[0m\n\u001b[0;32m    930\u001b[0m \u001b[1;33m\u001b[0m\u001b[0m\n\u001b[0;32m    931\u001b[0m         \u001b[0mself\u001b[0m\u001b[1;33m.\u001b[0m\u001b[0mhandles\u001b[0m\u001b[1;33m:\u001b[0m \u001b[0mIOHandles\u001b[0m \u001b[1;33m|\u001b[0m \u001b[1;32mNone\u001b[0m \u001b[1;33m=\u001b[0m \u001b[1;32mNone\u001b[0m\u001b[1;33m\u001b[0m\u001b[1;33m\u001b[0m\u001b[0m\n\u001b[1;32m--> 932\u001b[1;33m         \u001b[0mself\u001b[0m\u001b[1;33m.\u001b[0m\u001b[0m_engine\u001b[0m \u001b[1;33m=\u001b[0m \u001b[0mself\u001b[0m\u001b[1;33m.\u001b[0m\u001b[0m_make_engine\u001b[0m\u001b[1;33m(\u001b[0m\u001b[0mf\u001b[0m\u001b[1;33m,\u001b[0m \u001b[0mself\u001b[0m\u001b[1;33m.\u001b[0m\u001b[0mengine\u001b[0m\u001b[1;33m)\u001b[0m\u001b[1;33m\u001b[0m\u001b[1;33m\u001b[0m\u001b[0m\n\u001b[0m\u001b[0;32m    933\u001b[0m \u001b[1;33m\u001b[0m\u001b[0m\n\u001b[0;32m    934\u001b[0m     \u001b[1;32mdef\u001b[0m \u001b[0mclose\u001b[0m\u001b[1;33m(\u001b[0m\u001b[0mself\u001b[0m\u001b[1;33m)\u001b[0m\u001b[1;33m:\u001b[0m\u001b[1;33m\u001b[0m\u001b[1;33m\u001b[0m\u001b[0m\n",
      "\u001b[1;32m~\\anaconda3\\lib\\site-packages\\pandas\\io\\parsers\\readers.py\u001b[0m in \u001b[0;36m_make_engine\u001b[1;34m(self, f, engine)\u001b[0m\n\u001b[0;32m   1214\u001b[0m             \u001b[1;31m# \"Union[str, PathLike[str], ReadCsvBuffer[bytes], ReadCsvBuffer[str]]\"\u001b[0m\u001b[1;33m\u001b[0m\u001b[1;33m\u001b[0m\u001b[0m\n\u001b[0;32m   1215\u001b[0m             \u001b[1;31m# , \"str\", \"bool\", \"Any\", \"Any\", \"Any\", \"Any\", \"Any\"\u001b[0m\u001b[1;33m\u001b[0m\u001b[1;33m\u001b[0m\u001b[0m\n\u001b[1;32m-> 1216\u001b[1;33m             self.handles = get_handle(  # type: ignore[call-overload]\n\u001b[0m\u001b[0;32m   1217\u001b[0m                 \u001b[0mf\u001b[0m\u001b[1;33m,\u001b[0m\u001b[1;33m\u001b[0m\u001b[1;33m\u001b[0m\u001b[0m\n\u001b[0;32m   1218\u001b[0m                 \u001b[0mmode\u001b[0m\u001b[1;33m,\u001b[0m\u001b[1;33m\u001b[0m\u001b[1;33m\u001b[0m\u001b[0m\n",
      "\u001b[1;32m~\\anaconda3\\lib\\site-packages\\pandas\\io\\common.py\u001b[0m in \u001b[0;36mget_handle\u001b[1;34m(path_or_buf, mode, encoding, compression, memory_map, is_text, errors, storage_options)\u001b[0m\n\u001b[0;32m    784\u001b[0m         \u001b[1;32mif\u001b[0m \u001b[0mioargs\u001b[0m\u001b[1;33m.\u001b[0m\u001b[0mencoding\u001b[0m \u001b[1;32mand\u001b[0m \u001b[1;34m\"b\"\u001b[0m \u001b[1;32mnot\u001b[0m \u001b[1;32min\u001b[0m \u001b[0mioargs\u001b[0m\u001b[1;33m.\u001b[0m\u001b[0mmode\u001b[0m\u001b[1;33m:\u001b[0m\u001b[1;33m\u001b[0m\u001b[1;33m\u001b[0m\u001b[0m\n\u001b[0;32m    785\u001b[0m             \u001b[1;31m# Encoding\u001b[0m\u001b[1;33m\u001b[0m\u001b[1;33m\u001b[0m\u001b[0m\n\u001b[1;32m--> 786\u001b[1;33m             handle = open(\n\u001b[0m\u001b[0;32m    787\u001b[0m                 \u001b[0mhandle\u001b[0m\u001b[1;33m,\u001b[0m\u001b[1;33m\u001b[0m\u001b[1;33m\u001b[0m\u001b[0m\n\u001b[0;32m    788\u001b[0m                 \u001b[0mioargs\u001b[0m\u001b[1;33m.\u001b[0m\u001b[0mmode\u001b[0m\u001b[1;33m,\u001b[0m\u001b[1;33m\u001b[0m\u001b[1;33m\u001b[0m\u001b[0m\n",
      "\u001b[1;31mFileNotFoundError\u001b[0m: [Errno 2] No such file or directory: 'FAOSTAT\\\\produce_primary_slaughtered.csv'"
     ]
    }
   ],
   "source": [
    "# At this point I considered writing  a function for merging further\n",
    "# csv data but the human intervention for renaming value fields mitigated against it.\n",
    "\n",
    "df2 = pd.read_csv('FAOSTAT\\produce_primary_slaughtered.csv', on_bad_lines='skip')\n",
    "df2= df2[(df2['Area'].isin(EUROPEAN_UNION.names))] #EU only\n",
    "df2['Key'] = df2['Area'] + df2['Year'].astype(str) # add a merging key\n",
    "df2.rename(columns = {'Value':'Slaughter'}, inplace = True)\n",
    "\n",
    "df0 = df1.merge(df2[['Key','Year','Slaughter']], on='Key')\n",
    "df0.head()\n",
    "\n",
    "# Apologies for ordinal indescrepancy on namin dataframes   \n",
    "# I used df0 to fill in"
   ]
  },
  {
   "cell_type": "code",
   "execution_count": 124,
   "metadata": {
    "scrolled": true
   },
   "outputs": [
    {
     "ename": "NameError",
     "evalue": "name 'df0' is not defined",
     "output_type": "error",
     "traceback": [
      "\u001b[1;31m---------------------------------------------------------------------------\u001b[0m",
      "\u001b[1;31mNameError\u001b[0m                                 Traceback (most recent call last)",
      "\u001b[1;32m~\\AppData\\Local\\Temp\\ipykernel_7340\\491997935.py\u001b[0m in \u001b[0;36m<module>\u001b[1;34m\u001b[0m\n\u001b[1;32m----> 1\u001b[1;33m \u001b[0msns\u001b[0m\u001b[1;33m.\u001b[0m\u001b[0mdisplot\u001b[0m\u001b[1;33m(\u001b[0m\u001b[0mdata\u001b[0m\u001b[1;33m=\u001b[0m\u001b[0mdf0\u001b[0m\u001b[1;33m,\u001b[0m \u001b[0mx\u001b[0m\u001b[1;33m=\u001b[0m\u001b[1;34m\"Slaughter\"\u001b[0m\u001b[1;33m,\u001b[0m  \u001b[0mkde\u001b[0m\u001b[1;33m=\u001b[0m\u001b[1;32mTrue\u001b[0m\u001b[1;33m)\u001b[0m\u001b[1;33m\u001b[0m\u001b[1;33m\u001b[0m\u001b[0m\n\u001b[0m",
      "\u001b[1;31mNameError\u001b[0m: name 'df0' is not defined"
     ]
    }
   ],
   "source": [
    "sns.displot(data=df0, x=\"Slaughter\",  kde=True)"
   ]
  },
  {
   "cell_type": "code",
   "execution_count": 125,
   "metadata": {},
   "outputs": [
    {
     "ename": "FileNotFoundError",
     "evalue": "[Errno 2] No such file or directory: 'FAOSTAT\\\\produce_primary_slaughtered.csv'",
     "output_type": "error",
     "traceback": [
      "\u001b[1;31m---------------------------------------------------------------------------\u001b[0m",
      "\u001b[1;31mFileNotFoundError\u001b[0m                         Traceback (most recent call last)",
      "\u001b[1;32m~\\AppData\\Local\\Temp\\ipykernel_7340\\874822791.py\u001b[0m in \u001b[0;36m<module>\u001b[1;34m\u001b[0m\n\u001b[0;32m      2\u001b[0m \u001b[1;31m# csv data but the human intervention for renaming value fields mitigated against it.\u001b[0m\u001b[1;33m\u001b[0m\u001b[1;33m\u001b[0m\u001b[0m\n\u001b[0;32m      3\u001b[0m \u001b[1;33m\u001b[0m\u001b[0m\n\u001b[1;32m----> 4\u001b[1;33m \u001b[0mdf2\u001b[0m \u001b[1;33m=\u001b[0m \u001b[0mpd\u001b[0m\u001b[1;33m.\u001b[0m\u001b[0mread_csv\u001b[0m\u001b[1;33m(\u001b[0m\u001b[1;34m'FAOSTAT\\produce_primary_slaughtered.csv'\u001b[0m\u001b[1;33m,\u001b[0m \u001b[0mon_bad_lines\u001b[0m\u001b[1;33m=\u001b[0m\u001b[1;34m'skip'\u001b[0m\u001b[1;33m)\u001b[0m\u001b[1;33m\u001b[0m\u001b[1;33m\u001b[0m\u001b[0m\n\u001b[0m\u001b[0;32m      5\u001b[0m \u001b[0mdf2\u001b[0m\u001b[1;33m=\u001b[0m \u001b[0mdf2\u001b[0m\u001b[1;33m[\u001b[0m\u001b[1;33m(\u001b[0m\u001b[0mdf2\u001b[0m\u001b[1;33m[\u001b[0m\u001b[1;34m'Area'\u001b[0m\u001b[1;33m]\u001b[0m\u001b[1;33m.\u001b[0m\u001b[0misin\u001b[0m\u001b[1;33m(\u001b[0m\u001b[0mEUROPEAN_UNION\u001b[0m\u001b[1;33m.\u001b[0m\u001b[0mnames\u001b[0m\u001b[1;33m)\u001b[0m\u001b[1;33m)\u001b[0m\u001b[1;33m]\u001b[0m \u001b[1;31m#EU only\u001b[0m\u001b[1;33m\u001b[0m\u001b[1;33m\u001b[0m\u001b[0m\n\u001b[0;32m      6\u001b[0m \u001b[0mdf2\u001b[0m\u001b[1;33m[\u001b[0m\u001b[1;34m'Key'\u001b[0m\u001b[1;33m]\u001b[0m \u001b[1;33m=\u001b[0m \u001b[0mdf2\u001b[0m\u001b[1;33m[\u001b[0m\u001b[1;34m'Area'\u001b[0m\u001b[1;33m]\u001b[0m \u001b[1;33m+\u001b[0m \u001b[0mdf2\u001b[0m\u001b[1;33m[\u001b[0m\u001b[1;34m'Year'\u001b[0m\u001b[1;33m]\u001b[0m\u001b[1;33m.\u001b[0m\u001b[0mastype\u001b[0m\u001b[1;33m(\u001b[0m\u001b[0mstr\u001b[0m\u001b[1;33m)\u001b[0m \u001b[1;31m# add a merging key\u001b[0m\u001b[1;33m\u001b[0m\u001b[1;33m\u001b[0m\u001b[0m\n",
      "\u001b[1;32m~\\anaconda3\\lib\\site-packages\\pandas\\util\\_decorators.py\u001b[0m in \u001b[0;36mwrapper\u001b[1;34m(*args, **kwargs)\u001b[0m\n\u001b[0;32m    309\u001b[0m                     \u001b[0mstacklevel\u001b[0m\u001b[1;33m=\u001b[0m\u001b[0mstacklevel\u001b[0m\u001b[1;33m,\u001b[0m\u001b[1;33m\u001b[0m\u001b[1;33m\u001b[0m\u001b[0m\n\u001b[0;32m    310\u001b[0m                 )\n\u001b[1;32m--> 311\u001b[1;33m             \u001b[1;32mreturn\u001b[0m \u001b[0mfunc\u001b[0m\u001b[1;33m(\u001b[0m\u001b[1;33m*\u001b[0m\u001b[0margs\u001b[0m\u001b[1;33m,\u001b[0m \u001b[1;33m**\u001b[0m\u001b[0mkwargs\u001b[0m\u001b[1;33m)\u001b[0m\u001b[1;33m\u001b[0m\u001b[1;33m\u001b[0m\u001b[0m\n\u001b[0m\u001b[0;32m    312\u001b[0m \u001b[1;33m\u001b[0m\u001b[0m\n\u001b[0;32m    313\u001b[0m         \u001b[1;32mreturn\u001b[0m \u001b[0mwrapper\u001b[0m\u001b[1;33m\u001b[0m\u001b[1;33m\u001b[0m\u001b[0m\n",
      "\u001b[1;32m~\\anaconda3\\lib\\site-packages\\pandas\\io\\parsers\\readers.py\u001b[0m in \u001b[0;36mread_csv\u001b[1;34m(filepath_or_buffer, sep, delimiter, header, names, index_col, usecols, squeeze, prefix, mangle_dupe_cols, dtype, engine, converters, true_values, false_values, skipinitialspace, skiprows, skipfooter, nrows, na_values, keep_default_na, na_filter, verbose, skip_blank_lines, parse_dates, infer_datetime_format, keep_date_col, date_parser, dayfirst, cache_dates, iterator, chunksize, compression, thousands, decimal, lineterminator, quotechar, quoting, doublequote, escapechar, comment, encoding, encoding_errors, dialect, error_bad_lines, warn_bad_lines, on_bad_lines, delim_whitespace, low_memory, memory_map, float_precision, storage_options)\u001b[0m\n\u001b[0;32m    676\u001b[0m     \u001b[0mkwds\u001b[0m\u001b[1;33m.\u001b[0m\u001b[0mupdate\u001b[0m\u001b[1;33m(\u001b[0m\u001b[0mkwds_defaults\u001b[0m\u001b[1;33m)\u001b[0m\u001b[1;33m\u001b[0m\u001b[1;33m\u001b[0m\u001b[0m\n\u001b[0;32m    677\u001b[0m \u001b[1;33m\u001b[0m\u001b[0m\n\u001b[1;32m--> 678\u001b[1;33m     \u001b[1;32mreturn\u001b[0m \u001b[0m_read\u001b[0m\u001b[1;33m(\u001b[0m\u001b[0mfilepath_or_buffer\u001b[0m\u001b[1;33m,\u001b[0m \u001b[0mkwds\u001b[0m\u001b[1;33m)\u001b[0m\u001b[1;33m\u001b[0m\u001b[1;33m\u001b[0m\u001b[0m\n\u001b[0m\u001b[0;32m    679\u001b[0m \u001b[1;33m\u001b[0m\u001b[0m\n\u001b[0;32m    680\u001b[0m \u001b[1;33m\u001b[0m\u001b[0m\n",
      "\u001b[1;32m~\\anaconda3\\lib\\site-packages\\pandas\\io\\parsers\\readers.py\u001b[0m in \u001b[0;36m_read\u001b[1;34m(filepath_or_buffer, kwds)\u001b[0m\n\u001b[0;32m    573\u001b[0m \u001b[1;33m\u001b[0m\u001b[0m\n\u001b[0;32m    574\u001b[0m     \u001b[1;31m# Create the parser.\u001b[0m\u001b[1;33m\u001b[0m\u001b[1;33m\u001b[0m\u001b[0m\n\u001b[1;32m--> 575\u001b[1;33m     \u001b[0mparser\u001b[0m \u001b[1;33m=\u001b[0m \u001b[0mTextFileReader\u001b[0m\u001b[1;33m(\u001b[0m\u001b[0mfilepath_or_buffer\u001b[0m\u001b[1;33m,\u001b[0m \u001b[1;33m**\u001b[0m\u001b[0mkwds\u001b[0m\u001b[1;33m)\u001b[0m\u001b[1;33m\u001b[0m\u001b[1;33m\u001b[0m\u001b[0m\n\u001b[0m\u001b[0;32m    576\u001b[0m \u001b[1;33m\u001b[0m\u001b[0m\n\u001b[0;32m    577\u001b[0m     \u001b[1;32mif\u001b[0m \u001b[0mchunksize\u001b[0m \u001b[1;32mor\u001b[0m \u001b[0miterator\u001b[0m\u001b[1;33m:\u001b[0m\u001b[1;33m\u001b[0m\u001b[1;33m\u001b[0m\u001b[0m\n",
      "\u001b[1;32m~\\anaconda3\\lib\\site-packages\\pandas\\io\\parsers\\readers.py\u001b[0m in \u001b[0;36m__init__\u001b[1;34m(self, f, engine, **kwds)\u001b[0m\n\u001b[0;32m    930\u001b[0m \u001b[1;33m\u001b[0m\u001b[0m\n\u001b[0;32m    931\u001b[0m         \u001b[0mself\u001b[0m\u001b[1;33m.\u001b[0m\u001b[0mhandles\u001b[0m\u001b[1;33m:\u001b[0m \u001b[0mIOHandles\u001b[0m \u001b[1;33m|\u001b[0m \u001b[1;32mNone\u001b[0m \u001b[1;33m=\u001b[0m \u001b[1;32mNone\u001b[0m\u001b[1;33m\u001b[0m\u001b[1;33m\u001b[0m\u001b[0m\n\u001b[1;32m--> 932\u001b[1;33m         \u001b[0mself\u001b[0m\u001b[1;33m.\u001b[0m\u001b[0m_engine\u001b[0m \u001b[1;33m=\u001b[0m \u001b[0mself\u001b[0m\u001b[1;33m.\u001b[0m\u001b[0m_make_engine\u001b[0m\u001b[1;33m(\u001b[0m\u001b[0mf\u001b[0m\u001b[1;33m,\u001b[0m \u001b[0mself\u001b[0m\u001b[1;33m.\u001b[0m\u001b[0mengine\u001b[0m\u001b[1;33m)\u001b[0m\u001b[1;33m\u001b[0m\u001b[1;33m\u001b[0m\u001b[0m\n\u001b[0m\u001b[0;32m    933\u001b[0m \u001b[1;33m\u001b[0m\u001b[0m\n\u001b[0;32m    934\u001b[0m     \u001b[1;32mdef\u001b[0m \u001b[0mclose\u001b[0m\u001b[1;33m(\u001b[0m\u001b[0mself\u001b[0m\u001b[1;33m)\u001b[0m\u001b[1;33m:\u001b[0m\u001b[1;33m\u001b[0m\u001b[1;33m\u001b[0m\u001b[0m\n",
      "\u001b[1;32m~\\anaconda3\\lib\\site-packages\\pandas\\io\\parsers\\readers.py\u001b[0m in \u001b[0;36m_make_engine\u001b[1;34m(self, f, engine)\u001b[0m\n\u001b[0;32m   1214\u001b[0m             \u001b[1;31m# \"Union[str, PathLike[str], ReadCsvBuffer[bytes], ReadCsvBuffer[str]]\"\u001b[0m\u001b[1;33m\u001b[0m\u001b[1;33m\u001b[0m\u001b[0m\n\u001b[0;32m   1215\u001b[0m             \u001b[1;31m# , \"str\", \"bool\", \"Any\", \"Any\", \"Any\", \"Any\", \"Any\"\u001b[0m\u001b[1;33m\u001b[0m\u001b[1;33m\u001b[0m\u001b[0m\n\u001b[1;32m-> 1216\u001b[1;33m             self.handles = get_handle(  # type: ignore[call-overload]\n\u001b[0m\u001b[0;32m   1217\u001b[0m                 \u001b[0mf\u001b[0m\u001b[1;33m,\u001b[0m\u001b[1;33m\u001b[0m\u001b[1;33m\u001b[0m\u001b[0m\n\u001b[0;32m   1218\u001b[0m                 \u001b[0mmode\u001b[0m\u001b[1;33m,\u001b[0m\u001b[1;33m\u001b[0m\u001b[1;33m\u001b[0m\u001b[0m\n",
      "\u001b[1;32m~\\anaconda3\\lib\\site-packages\\pandas\\io\\common.py\u001b[0m in \u001b[0;36mget_handle\u001b[1;34m(path_or_buf, mode, encoding, compression, memory_map, is_text, errors, storage_options)\u001b[0m\n\u001b[0;32m    784\u001b[0m         \u001b[1;32mif\u001b[0m \u001b[0mioargs\u001b[0m\u001b[1;33m.\u001b[0m\u001b[0mencoding\u001b[0m \u001b[1;32mand\u001b[0m \u001b[1;34m\"b\"\u001b[0m \u001b[1;32mnot\u001b[0m \u001b[1;32min\u001b[0m \u001b[0mioargs\u001b[0m\u001b[1;33m.\u001b[0m\u001b[0mmode\u001b[0m\u001b[1;33m:\u001b[0m\u001b[1;33m\u001b[0m\u001b[1;33m\u001b[0m\u001b[0m\n\u001b[0;32m    785\u001b[0m             \u001b[1;31m# Encoding\u001b[0m\u001b[1;33m\u001b[0m\u001b[1;33m\u001b[0m\u001b[0m\n\u001b[1;32m--> 786\u001b[1;33m             handle = open(\n\u001b[0m\u001b[0;32m    787\u001b[0m                 \u001b[0mhandle\u001b[0m\u001b[1;33m,\u001b[0m\u001b[1;33m\u001b[0m\u001b[1;33m\u001b[0m\u001b[0m\n\u001b[0;32m    788\u001b[0m                 \u001b[0mioargs\u001b[0m\u001b[1;33m.\u001b[0m\u001b[0mmode\u001b[0m\u001b[1;33m,\u001b[0m\u001b[1;33m\u001b[0m\u001b[1;33m\u001b[0m\u001b[0m\n",
      "\u001b[1;31mFileNotFoundError\u001b[0m: [Errno 2] No such file or directory: 'FAOSTAT\\\\produce_primary_slaughtered.csv'"
     ]
    }
   ],
   "source": [
    "\n",
    "# At this point I considered writing  a function for merging further\n",
    "# csv data but the human intervention for renaming value fields mitigated against it.\n",
    "\n",
    "df2 = pd.read_csv('FAOSTAT\\produce_primary_slaughtered.csv', on_bad_lines='skip')\n",
    "df2= df2[(df2['Area'].isin(EUROPEAN_UNION.names))] #EU only\n",
    "df2['Key'] = df2['Area'] + df2['Year'].astype(str) # add a merging key\n",
    "df2.rename(columns = {'Value':'Slaughter'}, inplace = True)\n",
    "\n",
    "merged_df = df1.merge(df2[['Key', 'Slaughter']], on='Key')\n",
    "merged_df.head()\n",
    "\n"
   ]
  },
  {
   "cell_type": "code",
   "execution_count": 126,
   "metadata": {},
   "outputs": [
    {
     "ename": "NameError",
     "evalue": "name 'df0' is not defined",
     "output_type": "error",
     "traceback": [
      "\u001b[1;31m---------------------------------------------------------------------------\u001b[0m",
      "\u001b[1;31mNameError\u001b[0m                                 Traceback (most recent call last)",
      "\u001b[1;32m~\\AppData\\Local\\Temp\\ipykernel_7340\\273860676.py\u001b[0m in \u001b[0;36m<module>\u001b[1;34m\u001b[0m\n\u001b[0;32m      8\u001b[0m \u001b[1;33m\u001b[0m\u001b[0m\n\u001b[0;32m      9\u001b[0m \u001b[0mplt\u001b[0m\u001b[1;33m.\u001b[0m\u001b[0mfigure\u001b[0m\u001b[1;33m(\u001b[0m\u001b[0mfigsize\u001b[0m\u001b[1;33m=\u001b[0m\u001b[1;33m(\u001b[0m\u001b[1;36m10\u001b[0m\u001b[1;33m,\u001b[0m \u001b[1;36m6\u001b[0m\u001b[1;33m)\u001b[0m\u001b[1;33m)\u001b[0m\u001b[1;33m\u001b[0m\u001b[1;33m\u001b[0m\u001b[0m\n\u001b[1;32m---> 10\u001b[1;33m \u001b[0msns\u001b[0m\u001b[1;33m.\u001b[0m\u001b[0mdisplot\u001b[0m\u001b[1;33m(\u001b[0m\u001b[0mdf0\u001b[0m\u001b[1;33m,\u001b[0m \u001b[0mx\u001b[0m\u001b[1;33m=\u001b[0m\u001b[1;34m\"Slaughter\"\u001b[0m\u001b[1;33m)\u001b[0m\u001b[1;33m\u001b[0m\u001b[1;33m\u001b[0m\u001b[0m\n\u001b[0m\u001b[0;32m     11\u001b[0m \u001b[0mplt\u001b[0m\u001b[1;33m.\u001b[0m\u001b[0mshow\u001b[0m\u001b[1;33m(\u001b[0m\u001b[1;33m)\u001b[0m\u001b[1;33m\u001b[0m\u001b[1;33m\u001b[0m\u001b[0m\n",
      "\u001b[1;31mNameError\u001b[0m: name 'df0' is not defined"
     ]
    },
    {
     "data": {
      "text/plain": [
       "<Figure size 1000x600 with 0 Axes>"
      ]
     },
     "metadata": {},
     "output_type": "display_data"
    }
   ],
   "source": [
    "# threshold = 1990\n",
    "\n",
    "# # Create the boolean mask\n",
    "# mask = df0[\"Year\"] > threshold\n",
    "\n",
    "# # Filter the DataFrame using the mask\n",
    "# filtered_df = df0[mask]\n",
    "\n",
    "plt.figure(figsize=(10, 6))\n",
    "sns.displot(df0, x=\"Slaughter\")\n",
    "plt.show()"
   ]
  },
  {
   "cell_type": "code",
   "execution_count": null,
   "metadata": {
    "scrolled": true
   },
   "outputs": [],
   "source": [
    "\n"
   ]
  },
  {
   "cell_type": "code",
   "execution_count": 127,
   "metadata": {},
   "outputs": [
    {
     "ename": "FileNotFoundError",
     "evalue": "[Errno 2] No such file or directory: 'FAOSTAT\\\\produce_primary_quantity.csv'",
     "output_type": "error",
     "traceback": [
      "\u001b[1;31m---------------------------------------------------------------------------\u001b[0m",
      "\u001b[1;31mFileNotFoundError\u001b[0m                         Traceback (most recent call last)",
      "\u001b[1;32m~\\AppData\\Local\\Temp\\ipykernel_7340\\92033859.py\u001b[0m in \u001b[0;36m<module>\u001b[1;34m\u001b[0m\n\u001b[1;32m----> 1\u001b[1;33m \u001b[0mdf3\u001b[0m \u001b[1;33m=\u001b[0m \u001b[0mpd\u001b[0m\u001b[1;33m.\u001b[0m\u001b[0mread_csv\u001b[0m\u001b[1;33m(\u001b[0m\u001b[1;34m'FAOSTAT\\produce_primary_quantity.csv'\u001b[0m\u001b[1;33m,\u001b[0m \u001b[0mon_bad_lines\u001b[0m\u001b[1;33m=\u001b[0m\u001b[1;34m'skip'\u001b[0m\u001b[1;33m)\u001b[0m\u001b[1;33m\u001b[0m\u001b[1;33m\u001b[0m\u001b[0m\n\u001b[0m\u001b[0;32m      2\u001b[0m \u001b[0mdf3\u001b[0m\u001b[1;33m=\u001b[0m \u001b[0mdf3\u001b[0m\u001b[1;33m[\u001b[0m\u001b[1;33m(\u001b[0m\u001b[0mdf3\u001b[0m\u001b[1;33m[\u001b[0m\u001b[1;34m'Area'\u001b[0m\u001b[1;33m]\u001b[0m\u001b[1;33m.\u001b[0m\u001b[0misin\u001b[0m\u001b[1;33m(\u001b[0m\u001b[0mEUROPEAN_UNION\u001b[0m\u001b[1;33m.\u001b[0m\u001b[0mnames\u001b[0m\u001b[1;33m)\u001b[0m\u001b[1;33m)\u001b[0m\u001b[1;33m]\u001b[0m \u001b[1;31m#EU only\u001b[0m\u001b[1;33m\u001b[0m\u001b[1;33m\u001b[0m\u001b[0m\n\u001b[0;32m      3\u001b[0m \u001b[0mdf3\u001b[0m\u001b[1;33m[\u001b[0m\u001b[1;34m'Key'\u001b[0m\u001b[1;33m]\u001b[0m \u001b[1;33m=\u001b[0m \u001b[0mdf3\u001b[0m\u001b[1;33m[\u001b[0m\u001b[1;34m'Area'\u001b[0m\u001b[1;33m]\u001b[0m \u001b[1;33m+\u001b[0m \u001b[0mdf3\u001b[0m\u001b[1;33m[\u001b[0m\u001b[1;34m'Year'\u001b[0m\u001b[1;33m]\u001b[0m\u001b[1;33m.\u001b[0m\u001b[0mastype\u001b[0m\u001b[1;33m(\u001b[0m\u001b[0mstr\u001b[0m\u001b[1;33m)\u001b[0m \u001b[1;31m# add a merging key\u001b[0m\u001b[1;33m\u001b[0m\u001b[1;33m\u001b[0m\u001b[0m\n\u001b[0;32m      4\u001b[0m \u001b[1;33m\u001b[0m\u001b[0m\n\u001b[0;32m      5\u001b[0m \u001b[1;31m# df3['Value'] = df['Value'].astype(int)\u001b[0m\u001b[1;33m\u001b[0m\u001b[1;33m\u001b[0m\u001b[0m\n",
      "\u001b[1;32m~\\anaconda3\\lib\\site-packages\\pandas\\util\\_decorators.py\u001b[0m in \u001b[0;36mwrapper\u001b[1;34m(*args, **kwargs)\u001b[0m\n\u001b[0;32m    309\u001b[0m                     \u001b[0mstacklevel\u001b[0m\u001b[1;33m=\u001b[0m\u001b[0mstacklevel\u001b[0m\u001b[1;33m,\u001b[0m\u001b[1;33m\u001b[0m\u001b[1;33m\u001b[0m\u001b[0m\n\u001b[0;32m    310\u001b[0m                 )\n\u001b[1;32m--> 311\u001b[1;33m             \u001b[1;32mreturn\u001b[0m \u001b[0mfunc\u001b[0m\u001b[1;33m(\u001b[0m\u001b[1;33m*\u001b[0m\u001b[0margs\u001b[0m\u001b[1;33m,\u001b[0m \u001b[1;33m**\u001b[0m\u001b[0mkwargs\u001b[0m\u001b[1;33m)\u001b[0m\u001b[1;33m\u001b[0m\u001b[1;33m\u001b[0m\u001b[0m\n\u001b[0m\u001b[0;32m    312\u001b[0m \u001b[1;33m\u001b[0m\u001b[0m\n\u001b[0;32m    313\u001b[0m         \u001b[1;32mreturn\u001b[0m \u001b[0mwrapper\u001b[0m\u001b[1;33m\u001b[0m\u001b[1;33m\u001b[0m\u001b[0m\n",
      "\u001b[1;32m~\\anaconda3\\lib\\site-packages\\pandas\\io\\parsers\\readers.py\u001b[0m in \u001b[0;36mread_csv\u001b[1;34m(filepath_or_buffer, sep, delimiter, header, names, index_col, usecols, squeeze, prefix, mangle_dupe_cols, dtype, engine, converters, true_values, false_values, skipinitialspace, skiprows, skipfooter, nrows, na_values, keep_default_na, na_filter, verbose, skip_blank_lines, parse_dates, infer_datetime_format, keep_date_col, date_parser, dayfirst, cache_dates, iterator, chunksize, compression, thousands, decimal, lineterminator, quotechar, quoting, doublequote, escapechar, comment, encoding, encoding_errors, dialect, error_bad_lines, warn_bad_lines, on_bad_lines, delim_whitespace, low_memory, memory_map, float_precision, storage_options)\u001b[0m\n\u001b[0;32m    676\u001b[0m     \u001b[0mkwds\u001b[0m\u001b[1;33m.\u001b[0m\u001b[0mupdate\u001b[0m\u001b[1;33m(\u001b[0m\u001b[0mkwds_defaults\u001b[0m\u001b[1;33m)\u001b[0m\u001b[1;33m\u001b[0m\u001b[1;33m\u001b[0m\u001b[0m\n\u001b[0;32m    677\u001b[0m \u001b[1;33m\u001b[0m\u001b[0m\n\u001b[1;32m--> 678\u001b[1;33m     \u001b[1;32mreturn\u001b[0m \u001b[0m_read\u001b[0m\u001b[1;33m(\u001b[0m\u001b[0mfilepath_or_buffer\u001b[0m\u001b[1;33m,\u001b[0m \u001b[0mkwds\u001b[0m\u001b[1;33m)\u001b[0m\u001b[1;33m\u001b[0m\u001b[1;33m\u001b[0m\u001b[0m\n\u001b[0m\u001b[0;32m    679\u001b[0m \u001b[1;33m\u001b[0m\u001b[0m\n\u001b[0;32m    680\u001b[0m \u001b[1;33m\u001b[0m\u001b[0m\n",
      "\u001b[1;32m~\\anaconda3\\lib\\site-packages\\pandas\\io\\parsers\\readers.py\u001b[0m in \u001b[0;36m_read\u001b[1;34m(filepath_or_buffer, kwds)\u001b[0m\n\u001b[0;32m    573\u001b[0m \u001b[1;33m\u001b[0m\u001b[0m\n\u001b[0;32m    574\u001b[0m     \u001b[1;31m# Create the parser.\u001b[0m\u001b[1;33m\u001b[0m\u001b[1;33m\u001b[0m\u001b[0m\n\u001b[1;32m--> 575\u001b[1;33m     \u001b[0mparser\u001b[0m \u001b[1;33m=\u001b[0m \u001b[0mTextFileReader\u001b[0m\u001b[1;33m(\u001b[0m\u001b[0mfilepath_or_buffer\u001b[0m\u001b[1;33m,\u001b[0m \u001b[1;33m**\u001b[0m\u001b[0mkwds\u001b[0m\u001b[1;33m)\u001b[0m\u001b[1;33m\u001b[0m\u001b[1;33m\u001b[0m\u001b[0m\n\u001b[0m\u001b[0;32m    576\u001b[0m \u001b[1;33m\u001b[0m\u001b[0m\n\u001b[0;32m    577\u001b[0m     \u001b[1;32mif\u001b[0m \u001b[0mchunksize\u001b[0m \u001b[1;32mor\u001b[0m \u001b[0miterator\u001b[0m\u001b[1;33m:\u001b[0m\u001b[1;33m\u001b[0m\u001b[1;33m\u001b[0m\u001b[0m\n",
      "\u001b[1;32m~\\anaconda3\\lib\\site-packages\\pandas\\io\\parsers\\readers.py\u001b[0m in \u001b[0;36m__init__\u001b[1;34m(self, f, engine, **kwds)\u001b[0m\n\u001b[0;32m    930\u001b[0m \u001b[1;33m\u001b[0m\u001b[0m\n\u001b[0;32m    931\u001b[0m         \u001b[0mself\u001b[0m\u001b[1;33m.\u001b[0m\u001b[0mhandles\u001b[0m\u001b[1;33m:\u001b[0m \u001b[0mIOHandles\u001b[0m \u001b[1;33m|\u001b[0m \u001b[1;32mNone\u001b[0m \u001b[1;33m=\u001b[0m \u001b[1;32mNone\u001b[0m\u001b[1;33m\u001b[0m\u001b[1;33m\u001b[0m\u001b[0m\n\u001b[1;32m--> 932\u001b[1;33m         \u001b[0mself\u001b[0m\u001b[1;33m.\u001b[0m\u001b[0m_engine\u001b[0m \u001b[1;33m=\u001b[0m \u001b[0mself\u001b[0m\u001b[1;33m.\u001b[0m\u001b[0m_make_engine\u001b[0m\u001b[1;33m(\u001b[0m\u001b[0mf\u001b[0m\u001b[1;33m,\u001b[0m \u001b[0mself\u001b[0m\u001b[1;33m.\u001b[0m\u001b[0mengine\u001b[0m\u001b[1;33m)\u001b[0m\u001b[1;33m\u001b[0m\u001b[1;33m\u001b[0m\u001b[0m\n\u001b[0m\u001b[0;32m    933\u001b[0m \u001b[1;33m\u001b[0m\u001b[0m\n\u001b[0;32m    934\u001b[0m     \u001b[1;32mdef\u001b[0m \u001b[0mclose\u001b[0m\u001b[1;33m(\u001b[0m\u001b[0mself\u001b[0m\u001b[1;33m)\u001b[0m\u001b[1;33m:\u001b[0m\u001b[1;33m\u001b[0m\u001b[1;33m\u001b[0m\u001b[0m\n",
      "\u001b[1;32m~\\anaconda3\\lib\\site-packages\\pandas\\io\\parsers\\readers.py\u001b[0m in \u001b[0;36m_make_engine\u001b[1;34m(self, f, engine)\u001b[0m\n\u001b[0;32m   1214\u001b[0m             \u001b[1;31m# \"Union[str, PathLike[str], ReadCsvBuffer[bytes], ReadCsvBuffer[str]]\"\u001b[0m\u001b[1;33m\u001b[0m\u001b[1;33m\u001b[0m\u001b[0m\n\u001b[0;32m   1215\u001b[0m             \u001b[1;31m# , \"str\", \"bool\", \"Any\", \"Any\", \"Any\", \"Any\", \"Any\"\u001b[0m\u001b[1;33m\u001b[0m\u001b[1;33m\u001b[0m\u001b[0m\n\u001b[1;32m-> 1216\u001b[1;33m             self.handles = get_handle(  # type: ignore[call-overload]\n\u001b[0m\u001b[0;32m   1217\u001b[0m                 \u001b[0mf\u001b[0m\u001b[1;33m,\u001b[0m\u001b[1;33m\u001b[0m\u001b[1;33m\u001b[0m\u001b[0m\n\u001b[0;32m   1218\u001b[0m                 \u001b[0mmode\u001b[0m\u001b[1;33m,\u001b[0m\u001b[1;33m\u001b[0m\u001b[1;33m\u001b[0m\u001b[0m\n",
      "\u001b[1;32m~\\anaconda3\\lib\\site-packages\\pandas\\io\\common.py\u001b[0m in \u001b[0;36mget_handle\u001b[1;34m(path_or_buf, mode, encoding, compression, memory_map, is_text, errors, storage_options)\u001b[0m\n\u001b[0;32m    784\u001b[0m         \u001b[1;32mif\u001b[0m \u001b[0mioargs\u001b[0m\u001b[1;33m.\u001b[0m\u001b[0mencoding\u001b[0m \u001b[1;32mand\u001b[0m \u001b[1;34m\"b\"\u001b[0m \u001b[1;32mnot\u001b[0m \u001b[1;32min\u001b[0m \u001b[0mioargs\u001b[0m\u001b[1;33m.\u001b[0m\u001b[0mmode\u001b[0m\u001b[1;33m:\u001b[0m\u001b[1;33m\u001b[0m\u001b[1;33m\u001b[0m\u001b[0m\n\u001b[0;32m    785\u001b[0m             \u001b[1;31m# Encoding\u001b[0m\u001b[1;33m\u001b[0m\u001b[1;33m\u001b[0m\u001b[0m\n\u001b[1;32m--> 786\u001b[1;33m             handle = open(\n\u001b[0m\u001b[0;32m    787\u001b[0m                 \u001b[0mhandle\u001b[0m\u001b[1;33m,\u001b[0m\u001b[1;33m\u001b[0m\u001b[1;33m\u001b[0m\u001b[0m\n\u001b[0;32m    788\u001b[0m                 \u001b[0mioargs\u001b[0m\u001b[1;33m.\u001b[0m\u001b[0mmode\u001b[0m\u001b[1;33m,\u001b[0m\u001b[1;33m\u001b[0m\u001b[1;33m\u001b[0m\u001b[0m\n",
      "\u001b[1;31mFileNotFoundError\u001b[0m: [Errno 2] No such file or directory: 'FAOSTAT\\\\produce_primary_quantity.csv'"
     ]
    }
   ],
   "source": [
    "df3 = pd.read_csv('FAOSTAT\\produce_primary_quantity.csv', on_bad_lines='skip')\n",
    "df3= df3[(df3['Area'].isin(EUROPEAN_UNION.names))] #EU only\n",
    "df3['Key'] = df3['Area'] + df3['Year'].astype(str) # add a merging key\n",
    "\n",
    "# df3['Value'] = df['Value'].astype(int)\n",
    "\n",
    "df3['Beef (T)'] = (df3['Value'] ).astype(int)\n",
    "df3 # take a look\n",
    "\n",
    "df4 = merged_df.merge(df3[['Key', 'Beef (T)']], on='Key')\n",
    "df4.head()\n",
    "# msno.matrix(df4)  # When uncommented indicates no missing data "
   ]
  },
  {
   "cell_type": "code",
   "execution_count": 128,
   "metadata": {},
   "outputs": [
    {
     "ename": "FileNotFoundError",
     "evalue": "[Errno 2] No such file or directory: 'FAOSTAT\\\\produce_live_animals.csv'",
     "output_type": "error",
     "traceback": [
      "\u001b[1;31m---------------------------------------------------------------------------\u001b[0m",
      "\u001b[1;31mFileNotFoundError\u001b[0m                         Traceback (most recent call last)",
      "\u001b[1;32m~\\AppData\\Local\\Temp\\ipykernel_7340\\2981031944.py\u001b[0m in \u001b[0;36m<module>\u001b[1;34m\u001b[0m\n\u001b[1;32m----> 1\u001b[1;33m \u001b[0mdf5\u001b[0m \u001b[1;33m=\u001b[0m \u001b[0mpd\u001b[0m\u001b[1;33m.\u001b[0m\u001b[0mread_csv\u001b[0m\u001b[1;33m(\u001b[0m\u001b[1;34m'FAOSTAT\\produce_live_animals.csv'\u001b[0m\u001b[1;33m,\u001b[0m \u001b[0mon_bad_lines\u001b[0m\u001b[1;33m=\u001b[0m\u001b[1;34m'skip'\u001b[0m\u001b[1;33m)\u001b[0m\u001b[1;33m\u001b[0m\u001b[1;33m\u001b[0m\u001b[0m\n\u001b[0m\u001b[0;32m      2\u001b[0m \u001b[0mdf5\u001b[0m\u001b[1;33m=\u001b[0m \u001b[0mdf5\u001b[0m\u001b[1;33m[\u001b[0m\u001b[1;33m(\u001b[0m\u001b[0mdf5\u001b[0m\u001b[1;33m[\u001b[0m\u001b[1;34m'Area'\u001b[0m\u001b[1;33m]\u001b[0m\u001b[1;33m.\u001b[0m\u001b[0misin\u001b[0m\u001b[1;33m(\u001b[0m\u001b[0mEUROPEAN_UNION\u001b[0m\u001b[1;33m.\u001b[0m\u001b[0mnames\u001b[0m\u001b[1;33m)\u001b[0m\u001b[1;33m)\u001b[0m\u001b[1;33m]\u001b[0m \u001b[1;31m#EU only\u001b[0m\u001b[1;33m\u001b[0m\u001b[1;33m\u001b[0m\u001b[0m\n\u001b[0;32m      3\u001b[0m \u001b[0mdf5\u001b[0m\u001b[1;33m[\u001b[0m\u001b[1;34m'Key'\u001b[0m\u001b[1;33m]\u001b[0m \u001b[1;33m=\u001b[0m \u001b[0mdf5\u001b[0m\u001b[1;33m[\u001b[0m\u001b[1;34m'Area'\u001b[0m\u001b[1;33m]\u001b[0m \u001b[1;33m+\u001b[0m \u001b[0mdf5\u001b[0m\u001b[1;33m[\u001b[0m\u001b[1;34m'Year'\u001b[0m\u001b[1;33m]\u001b[0m\u001b[1;33m.\u001b[0m\u001b[0mastype\u001b[0m\u001b[1;33m(\u001b[0m\u001b[0mstr\u001b[0m\u001b[1;33m)\u001b[0m \u001b[1;31m# add a merging key\u001b[0m\u001b[1;33m\u001b[0m\u001b[1;33m\u001b[0m\u001b[0m\n\u001b[0;32m      4\u001b[0m \u001b[0mdf5\u001b[0m\u001b[1;33m.\u001b[0m\u001b[0mrename\u001b[0m\u001b[1;33m(\u001b[0m\u001b[0mcolumns\u001b[0m \u001b[1;33m=\u001b[0m \u001b[1;33m{\u001b[0m\u001b[1;34m'Value'\u001b[0m\u001b[1;33m:\u001b[0m\u001b[1;34m'Live Animals'\u001b[0m\u001b[1;33m}\u001b[0m\u001b[1;33m,\u001b[0m \u001b[0minplace\u001b[0m \u001b[1;33m=\u001b[0m \u001b[1;32mTrue\u001b[0m\u001b[1;33m)\u001b[0m\u001b[1;33m\u001b[0m\u001b[1;33m\u001b[0m\u001b[0m\n\u001b[0;32m      5\u001b[0m \u001b[0mdf5\u001b[0m \u001b[1;31m# take a look\u001b[0m\u001b[1;33m\u001b[0m\u001b[1;33m\u001b[0m\u001b[0m\n",
      "\u001b[1;32m~\\anaconda3\\lib\\site-packages\\pandas\\util\\_decorators.py\u001b[0m in \u001b[0;36mwrapper\u001b[1;34m(*args, **kwargs)\u001b[0m\n\u001b[0;32m    309\u001b[0m                     \u001b[0mstacklevel\u001b[0m\u001b[1;33m=\u001b[0m\u001b[0mstacklevel\u001b[0m\u001b[1;33m,\u001b[0m\u001b[1;33m\u001b[0m\u001b[1;33m\u001b[0m\u001b[0m\n\u001b[0;32m    310\u001b[0m                 )\n\u001b[1;32m--> 311\u001b[1;33m             \u001b[1;32mreturn\u001b[0m \u001b[0mfunc\u001b[0m\u001b[1;33m(\u001b[0m\u001b[1;33m*\u001b[0m\u001b[0margs\u001b[0m\u001b[1;33m,\u001b[0m \u001b[1;33m**\u001b[0m\u001b[0mkwargs\u001b[0m\u001b[1;33m)\u001b[0m\u001b[1;33m\u001b[0m\u001b[1;33m\u001b[0m\u001b[0m\n\u001b[0m\u001b[0;32m    312\u001b[0m \u001b[1;33m\u001b[0m\u001b[0m\n\u001b[0;32m    313\u001b[0m         \u001b[1;32mreturn\u001b[0m \u001b[0mwrapper\u001b[0m\u001b[1;33m\u001b[0m\u001b[1;33m\u001b[0m\u001b[0m\n",
      "\u001b[1;32m~\\anaconda3\\lib\\site-packages\\pandas\\io\\parsers\\readers.py\u001b[0m in \u001b[0;36mread_csv\u001b[1;34m(filepath_or_buffer, sep, delimiter, header, names, index_col, usecols, squeeze, prefix, mangle_dupe_cols, dtype, engine, converters, true_values, false_values, skipinitialspace, skiprows, skipfooter, nrows, na_values, keep_default_na, na_filter, verbose, skip_blank_lines, parse_dates, infer_datetime_format, keep_date_col, date_parser, dayfirst, cache_dates, iterator, chunksize, compression, thousands, decimal, lineterminator, quotechar, quoting, doublequote, escapechar, comment, encoding, encoding_errors, dialect, error_bad_lines, warn_bad_lines, on_bad_lines, delim_whitespace, low_memory, memory_map, float_precision, storage_options)\u001b[0m\n\u001b[0;32m    676\u001b[0m     \u001b[0mkwds\u001b[0m\u001b[1;33m.\u001b[0m\u001b[0mupdate\u001b[0m\u001b[1;33m(\u001b[0m\u001b[0mkwds_defaults\u001b[0m\u001b[1;33m)\u001b[0m\u001b[1;33m\u001b[0m\u001b[1;33m\u001b[0m\u001b[0m\n\u001b[0;32m    677\u001b[0m \u001b[1;33m\u001b[0m\u001b[0m\n\u001b[1;32m--> 678\u001b[1;33m     \u001b[1;32mreturn\u001b[0m \u001b[0m_read\u001b[0m\u001b[1;33m(\u001b[0m\u001b[0mfilepath_or_buffer\u001b[0m\u001b[1;33m,\u001b[0m \u001b[0mkwds\u001b[0m\u001b[1;33m)\u001b[0m\u001b[1;33m\u001b[0m\u001b[1;33m\u001b[0m\u001b[0m\n\u001b[0m\u001b[0;32m    679\u001b[0m \u001b[1;33m\u001b[0m\u001b[0m\n\u001b[0;32m    680\u001b[0m \u001b[1;33m\u001b[0m\u001b[0m\n",
      "\u001b[1;32m~\\anaconda3\\lib\\site-packages\\pandas\\io\\parsers\\readers.py\u001b[0m in \u001b[0;36m_read\u001b[1;34m(filepath_or_buffer, kwds)\u001b[0m\n\u001b[0;32m    573\u001b[0m \u001b[1;33m\u001b[0m\u001b[0m\n\u001b[0;32m    574\u001b[0m     \u001b[1;31m# Create the parser.\u001b[0m\u001b[1;33m\u001b[0m\u001b[1;33m\u001b[0m\u001b[0m\n\u001b[1;32m--> 575\u001b[1;33m     \u001b[0mparser\u001b[0m \u001b[1;33m=\u001b[0m \u001b[0mTextFileReader\u001b[0m\u001b[1;33m(\u001b[0m\u001b[0mfilepath_or_buffer\u001b[0m\u001b[1;33m,\u001b[0m \u001b[1;33m**\u001b[0m\u001b[0mkwds\u001b[0m\u001b[1;33m)\u001b[0m\u001b[1;33m\u001b[0m\u001b[1;33m\u001b[0m\u001b[0m\n\u001b[0m\u001b[0;32m    576\u001b[0m \u001b[1;33m\u001b[0m\u001b[0m\n\u001b[0;32m    577\u001b[0m     \u001b[1;32mif\u001b[0m \u001b[0mchunksize\u001b[0m \u001b[1;32mor\u001b[0m \u001b[0miterator\u001b[0m\u001b[1;33m:\u001b[0m\u001b[1;33m\u001b[0m\u001b[1;33m\u001b[0m\u001b[0m\n",
      "\u001b[1;32m~\\anaconda3\\lib\\site-packages\\pandas\\io\\parsers\\readers.py\u001b[0m in \u001b[0;36m__init__\u001b[1;34m(self, f, engine, **kwds)\u001b[0m\n\u001b[0;32m    930\u001b[0m \u001b[1;33m\u001b[0m\u001b[0m\n\u001b[0;32m    931\u001b[0m         \u001b[0mself\u001b[0m\u001b[1;33m.\u001b[0m\u001b[0mhandles\u001b[0m\u001b[1;33m:\u001b[0m \u001b[0mIOHandles\u001b[0m \u001b[1;33m|\u001b[0m \u001b[1;32mNone\u001b[0m \u001b[1;33m=\u001b[0m \u001b[1;32mNone\u001b[0m\u001b[1;33m\u001b[0m\u001b[1;33m\u001b[0m\u001b[0m\n\u001b[1;32m--> 932\u001b[1;33m         \u001b[0mself\u001b[0m\u001b[1;33m.\u001b[0m\u001b[0m_engine\u001b[0m \u001b[1;33m=\u001b[0m \u001b[0mself\u001b[0m\u001b[1;33m.\u001b[0m\u001b[0m_make_engine\u001b[0m\u001b[1;33m(\u001b[0m\u001b[0mf\u001b[0m\u001b[1;33m,\u001b[0m \u001b[0mself\u001b[0m\u001b[1;33m.\u001b[0m\u001b[0mengine\u001b[0m\u001b[1;33m)\u001b[0m\u001b[1;33m\u001b[0m\u001b[1;33m\u001b[0m\u001b[0m\n\u001b[0m\u001b[0;32m    933\u001b[0m \u001b[1;33m\u001b[0m\u001b[0m\n\u001b[0;32m    934\u001b[0m     \u001b[1;32mdef\u001b[0m \u001b[0mclose\u001b[0m\u001b[1;33m(\u001b[0m\u001b[0mself\u001b[0m\u001b[1;33m)\u001b[0m\u001b[1;33m:\u001b[0m\u001b[1;33m\u001b[0m\u001b[1;33m\u001b[0m\u001b[0m\n",
      "\u001b[1;32m~\\anaconda3\\lib\\site-packages\\pandas\\io\\parsers\\readers.py\u001b[0m in \u001b[0;36m_make_engine\u001b[1;34m(self, f, engine)\u001b[0m\n\u001b[0;32m   1214\u001b[0m             \u001b[1;31m# \"Union[str, PathLike[str], ReadCsvBuffer[bytes], ReadCsvBuffer[str]]\"\u001b[0m\u001b[1;33m\u001b[0m\u001b[1;33m\u001b[0m\u001b[0m\n\u001b[0;32m   1215\u001b[0m             \u001b[1;31m# , \"str\", \"bool\", \"Any\", \"Any\", \"Any\", \"Any\", \"Any\"\u001b[0m\u001b[1;33m\u001b[0m\u001b[1;33m\u001b[0m\u001b[0m\n\u001b[1;32m-> 1216\u001b[1;33m             self.handles = get_handle(  # type: ignore[call-overload]\n\u001b[0m\u001b[0;32m   1217\u001b[0m                 \u001b[0mf\u001b[0m\u001b[1;33m,\u001b[0m\u001b[1;33m\u001b[0m\u001b[1;33m\u001b[0m\u001b[0m\n\u001b[0;32m   1218\u001b[0m                 \u001b[0mmode\u001b[0m\u001b[1;33m,\u001b[0m\u001b[1;33m\u001b[0m\u001b[1;33m\u001b[0m\u001b[0m\n",
      "\u001b[1;32m~\\anaconda3\\lib\\site-packages\\pandas\\io\\common.py\u001b[0m in \u001b[0;36mget_handle\u001b[1;34m(path_or_buf, mode, encoding, compression, memory_map, is_text, errors, storage_options)\u001b[0m\n\u001b[0;32m    784\u001b[0m         \u001b[1;32mif\u001b[0m \u001b[0mioargs\u001b[0m\u001b[1;33m.\u001b[0m\u001b[0mencoding\u001b[0m \u001b[1;32mand\u001b[0m \u001b[1;34m\"b\"\u001b[0m \u001b[1;32mnot\u001b[0m \u001b[1;32min\u001b[0m \u001b[0mioargs\u001b[0m\u001b[1;33m.\u001b[0m\u001b[0mmode\u001b[0m\u001b[1;33m:\u001b[0m\u001b[1;33m\u001b[0m\u001b[1;33m\u001b[0m\u001b[0m\n\u001b[0;32m    785\u001b[0m             \u001b[1;31m# Encoding\u001b[0m\u001b[1;33m\u001b[0m\u001b[1;33m\u001b[0m\u001b[0m\n\u001b[1;32m--> 786\u001b[1;33m             handle = open(\n\u001b[0m\u001b[0;32m    787\u001b[0m                 \u001b[0mhandle\u001b[0m\u001b[1;33m,\u001b[0m\u001b[1;33m\u001b[0m\u001b[1;33m\u001b[0m\u001b[0m\n\u001b[0;32m    788\u001b[0m                 \u001b[0mioargs\u001b[0m\u001b[1;33m.\u001b[0m\u001b[0mmode\u001b[0m\u001b[1;33m,\u001b[0m\u001b[1;33m\u001b[0m\u001b[1;33m\u001b[0m\u001b[0m\n",
      "\u001b[1;31mFileNotFoundError\u001b[0m: [Errno 2] No such file or directory: 'FAOSTAT\\\\produce_live_animals.csv'"
     ]
    }
   ],
   "source": [
    "df5 = pd.read_csv('FAOSTAT\\produce_live_animals.csv', on_bad_lines='skip')\n",
    "df5= df5[(df5['Area'].isin(EUROPEAN_UNION.names))] #EU only\n",
    "df5['Key'] = df5['Area'] + df5['Year'].astype(str) # add a merging key\n",
    "df5.rename(columns = {'Value':'Live Animals'}, inplace = True)\n",
    "df5 # take a look\n",
    "df6 = df4.merge(df5[['Key', 'Live Animals']], on='Key')\n",
    "df6.head() \n",
    "# msno.matrix(df6)  # When uncommented indicates no missing data "
   ]
  },
  {
   "cell_type": "code",
   "execution_count": null,
   "metadata": {},
   "outputs": [],
   "source": []
  },
  {
   "cell_type": "markdown",
   "metadata": {},
   "source": [
    "## The price a farmer gets for her meat ppi should be an influencial predictor variable"
   ]
  },
  {
   "cell_type": "code",
   "execution_count": 129,
   "metadata": {},
   "outputs": [
    {
     "ename": "FileNotFoundError",
     "evalue": "[Errno 2] No such file or directory: 'FAOSTAT\\\\price_meat_ppi.csv'",
     "output_type": "error",
     "traceback": [
      "\u001b[1;31m---------------------------------------------------------------------------\u001b[0m",
      "\u001b[1;31mFileNotFoundError\u001b[0m                         Traceback (most recent call last)",
      "\u001b[1;32m~\\AppData\\Local\\Temp\\ipykernel_7340\\2243967252.py\u001b[0m in \u001b[0;36m<module>\u001b[1;34m\u001b[0m\n\u001b[1;32m----> 1\u001b[1;33m \u001b[0mdf7\u001b[0m \u001b[1;33m=\u001b[0m \u001b[0mpd\u001b[0m\u001b[1;33m.\u001b[0m\u001b[0mread_csv\u001b[0m\u001b[1;33m(\u001b[0m\u001b[1;34m'FAOSTAT\\price_meat_ppi.csv'\u001b[0m\u001b[1;33m,\u001b[0m \u001b[0mon_bad_lines\u001b[0m\u001b[1;33m=\u001b[0m\u001b[1;34m'skip'\u001b[0m\u001b[1;33m)\u001b[0m\u001b[1;33m\u001b[0m\u001b[1;33m\u001b[0m\u001b[0m\n\u001b[0m\u001b[0;32m      2\u001b[0m \u001b[0mdf7\u001b[0m\u001b[1;33m\u001b[0m\u001b[1;33m\u001b[0m\u001b[0m\n\u001b[0;32m      3\u001b[0m \u001b[1;31m# msno.matrix(df7)  # ppi is dimensionless so NaN for units is not an issue\u001b[0m\u001b[1;33m\u001b[0m\u001b[1;33m\u001b[0m\u001b[0m\n\u001b[0;32m      4\u001b[0m \u001b[0mdf7\u001b[0m\u001b[1;33m=\u001b[0m \u001b[0mdf7\u001b[0m\u001b[1;33m[\u001b[0m\u001b[1;33m(\u001b[0m\u001b[0mdf7\u001b[0m\u001b[1;33m[\u001b[0m\u001b[1;34m'Area'\u001b[0m\u001b[1;33m]\u001b[0m\u001b[1;33m.\u001b[0m\u001b[0misin\u001b[0m\u001b[1;33m(\u001b[0m\u001b[0mEUROPEAN_UNION\u001b[0m\u001b[1;33m.\u001b[0m\u001b[0mnames\u001b[0m\u001b[1;33m)\u001b[0m\u001b[1;33m)\u001b[0m\u001b[1;33m]\u001b[0m \u001b[1;31m#EU only\u001b[0m\u001b[1;33m\u001b[0m\u001b[1;33m\u001b[0m\u001b[0m\n\u001b[0;32m      5\u001b[0m \u001b[0mdf7\u001b[0m\u001b[1;33m[\u001b[0m\u001b[1;34m'Key'\u001b[0m\u001b[1;33m]\u001b[0m \u001b[1;33m=\u001b[0m \u001b[0mdf7\u001b[0m\u001b[1;33m[\u001b[0m\u001b[1;34m'Area'\u001b[0m\u001b[1;33m]\u001b[0m \u001b[1;33m+\u001b[0m \u001b[0mdf7\u001b[0m\u001b[1;33m[\u001b[0m\u001b[1;34m'Year'\u001b[0m\u001b[1;33m]\u001b[0m\u001b[1;33m.\u001b[0m\u001b[0mastype\u001b[0m\u001b[1;33m(\u001b[0m\u001b[0mstr\u001b[0m\u001b[1;33m)\u001b[0m \u001b[1;31m# add a merging key\u001b[0m\u001b[1;33m\u001b[0m\u001b[1;33m\u001b[0m\u001b[0m\n",
      "\u001b[1;32m~\\anaconda3\\lib\\site-packages\\pandas\\util\\_decorators.py\u001b[0m in \u001b[0;36mwrapper\u001b[1;34m(*args, **kwargs)\u001b[0m\n\u001b[0;32m    309\u001b[0m                     \u001b[0mstacklevel\u001b[0m\u001b[1;33m=\u001b[0m\u001b[0mstacklevel\u001b[0m\u001b[1;33m,\u001b[0m\u001b[1;33m\u001b[0m\u001b[1;33m\u001b[0m\u001b[0m\n\u001b[0;32m    310\u001b[0m                 )\n\u001b[1;32m--> 311\u001b[1;33m             \u001b[1;32mreturn\u001b[0m \u001b[0mfunc\u001b[0m\u001b[1;33m(\u001b[0m\u001b[1;33m*\u001b[0m\u001b[0margs\u001b[0m\u001b[1;33m,\u001b[0m \u001b[1;33m**\u001b[0m\u001b[0mkwargs\u001b[0m\u001b[1;33m)\u001b[0m\u001b[1;33m\u001b[0m\u001b[1;33m\u001b[0m\u001b[0m\n\u001b[0m\u001b[0;32m    312\u001b[0m \u001b[1;33m\u001b[0m\u001b[0m\n\u001b[0;32m    313\u001b[0m         \u001b[1;32mreturn\u001b[0m \u001b[0mwrapper\u001b[0m\u001b[1;33m\u001b[0m\u001b[1;33m\u001b[0m\u001b[0m\n",
      "\u001b[1;32m~\\anaconda3\\lib\\site-packages\\pandas\\io\\parsers\\readers.py\u001b[0m in \u001b[0;36mread_csv\u001b[1;34m(filepath_or_buffer, sep, delimiter, header, names, index_col, usecols, squeeze, prefix, mangle_dupe_cols, dtype, engine, converters, true_values, false_values, skipinitialspace, skiprows, skipfooter, nrows, na_values, keep_default_na, na_filter, verbose, skip_blank_lines, parse_dates, infer_datetime_format, keep_date_col, date_parser, dayfirst, cache_dates, iterator, chunksize, compression, thousands, decimal, lineterminator, quotechar, quoting, doublequote, escapechar, comment, encoding, encoding_errors, dialect, error_bad_lines, warn_bad_lines, on_bad_lines, delim_whitespace, low_memory, memory_map, float_precision, storage_options)\u001b[0m\n\u001b[0;32m    676\u001b[0m     \u001b[0mkwds\u001b[0m\u001b[1;33m.\u001b[0m\u001b[0mupdate\u001b[0m\u001b[1;33m(\u001b[0m\u001b[0mkwds_defaults\u001b[0m\u001b[1;33m)\u001b[0m\u001b[1;33m\u001b[0m\u001b[1;33m\u001b[0m\u001b[0m\n\u001b[0;32m    677\u001b[0m \u001b[1;33m\u001b[0m\u001b[0m\n\u001b[1;32m--> 678\u001b[1;33m     \u001b[1;32mreturn\u001b[0m \u001b[0m_read\u001b[0m\u001b[1;33m(\u001b[0m\u001b[0mfilepath_or_buffer\u001b[0m\u001b[1;33m,\u001b[0m \u001b[0mkwds\u001b[0m\u001b[1;33m)\u001b[0m\u001b[1;33m\u001b[0m\u001b[1;33m\u001b[0m\u001b[0m\n\u001b[0m\u001b[0;32m    679\u001b[0m \u001b[1;33m\u001b[0m\u001b[0m\n\u001b[0;32m    680\u001b[0m \u001b[1;33m\u001b[0m\u001b[0m\n",
      "\u001b[1;32m~\\anaconda3\\lib\\site-packages\\pandas\\io\\parsers\\readers.py\u001b[0m in \u001b[0;36m_read\u001b[1;34m(filepath_or_buffer, kwds)\u001b[0m\n\u001b[0;32m    573\u001b[0m \u001b[1;33m\u001b[0m\u001b[0m\n\u001b[0;32m    574\u001b[0m     \u001b[1;31m# Create the parser.\u001b[0m\u001b[1;33m\u001b[0m\u001b[1;33m\u001b[0m\u001b[0m\n\u001b[1;32m--> 575\u001b[1;33m     \u001b[0mparser\u001b[0m \u001b[1;33m=\u001b[0m \u001b[0mTextFileReader\u001b[0m\u001b[1;33m(\u001b[0m\u001b[0mfilepath_or_buffer\u001b[0m\u001b[1;33m,\u001b[0m \u001b[1;33m**\u001b[0m\u001b[0mkwds\u001b[0m\u001b[1;33m)\u001b[0m\u001b[1;33m\u001b[0m\u001b[1;33m\u001b[0m\u001b[0m\n\u001b[0m\u001b[0;32m    576\u001b[0m \u001b[1;33m\u001b[0m\u001b[0m\n\u001b[0;32m    577\u001b[0m     \u001b[1;32mif\u001b[0m \u001b[0mchunksize\u001b[0m \u001b[1;32mor\u001b[0m \u001b[0miterator\u001b[0m\u001b[1;33m:\u001b[0m\u001b[1;33m\u001b[0m\u001b[1;33m\u001b[0m\u001b[0m\n",
      "\u001b[1;32m~\\anaconda3\\lib\\site-packages\\pandas\\io\\parsers\\readers.py\u001b[0m in \u001b[0;36m__init__\u001b[1;34m(self, f, engine, **kwds)\u001b[0m\n\u001b[0;32m    930\u001b[0m \u001b[1;33m\u001b[0m\u001b[0m\n\u001b[0;32m    931\u001b[0m         \u001b[0mself\u001b[0m\u001b[1;33m.\u001b[0m\u001b[0mhandles\u001b[0m\u001b[1;33m:\u001b[0m \u001b[0mIOHandles\u001b[0m \u001b[1;33m|\u001b[0m \u001b[1;32mNone\u001b[0m \u001b[1;33m=\u001b[0m \u001b[1;32mNone\u001b[0m\u001b[1;33m\u001b[0m\u001b[1;33m\u001b[0m\u001b[0m\n\u001b[1;32m--> 932\u001b[1;33m         \u001b[0mself\u001b[0m\u001b[1;33m.\u001b[0m\u001b[0m_engine\u001b[0m \u001b[1;33m=\u001b[0m \u001b[0mself\u001b[0m\u001b[1;33m.\u001b[0m\u001b[0m_make_engine\u001b[0m\u001b[1;33m(\u001b[0m\u001b[0mf\u001b[0m\u001b[1;33m,\u001b[0m \u001b[0mself\u001b[0m\u001b[1;33m.\u001b[0m\u001b[0mengine\u001b[0m\u001b[1;33m)\u001b[0m\u001b[1;33m\u001b[0m\u001b[1;33m\u001b[0m\u001b[0m\n\u001b[0m\u001b[0;32m    933\u001b[0m \u001b[1;33m\u001b[0m\u001b[0m\n\u001b[0;32m    934\u001b[0m     \u001b[1;32mdef\u001b[0m \u001b[0mclose\u001b[0m\u001b[1;33m(\u001b[0m\u001b[0mself\u001b[0m\u001b[1;33m)\u001b[0m\u001b[1;33m:\u001b[0m\u001b[1;33m\u001b[0m\u001b[1;33m\u001b[0m\u001b[0m\n",
      "\u001b[1;32m~\\anaconda3\\lib\\site-packages\\pandas\\io\\parsers\\readers.py\u001b[0m in \u001b[0;36m_make_engine\u001b[1;34m(self, f, engine)\u001b[0m\n\u001b[0;32m   1214\u001b[0m             \u001b[1;31m# \"Union[str, PathLike[str], ReadCsvBuffer[bytes], ReadCsvBuffer[str]]\"\u001b[0m\u001b[1;33m\u001b[0m\u001b[1;33m\u001b[0m\u001b[0m\n\u001b[0;32m   1215\u001b[0m             \u001b[1;31m# , \"str\", \"bool\", \"Any\", \"Any\", \"Any\", \"Any\", \"Any\"\u001b[0m\u001b[1;33m\u001b[0m\u001b[1;33m\u001b[0m\u001b[0m\n\u001b[1;32m-> 1216\u001b[1;33m             self.handles = get_handle(  # type: ignore[call-overload]\n\u001b[0m\u001b[0;32m   1217\u001b[0m                 \u001b[0mf\u001b[0m\u001b[1;33m,\u001b[0m\u001b[1;33m\u001b[0m\u001b[1;33m\u001b[0m\u001b[0m\n\u001b[0;32m   1218\u001b[0m                 \u001b[0mmode\u001b[0m\u001b[1;33m,\u001b[0m\u001b[1;33m\u001b[0m\u001b[1;33m\u001b[0m\u001b[0m\n",
      "\u001b[1;32m~\\anaconda3\\lib\\site-packages\\pandas\\io\\common.py\u001b[0m in \u001b[0;36mget_handle\u001b[1;34m(path_or_buf, mode, encoding, compression, memory_map, is_text, errors, storage_options)\u001b[0m\n\u001b[0;32m    784\u001b[0m         \u001b[1;32mif\u001b[0m \u001b[0mioargs\u001b[0m\u001b[1;33m.\u001b[0m\u001b[0mencoding\u001b[0m \u001b[1;32mand\u001b[0m \u001b[1;34m\"b\"\u001b[0m \u001b[1;32mnot\u001b[0m \u001b[1;32min\u001b[0m \u001b[0mioargs\u001b[0m\u001b[1;33m.\u001b[0m\u001b[0mmode\u001b[0m\u001b[1;33m:\u001b[0m\u001b[1;33m\u001b[0m\u001b[1;33m\u001b[0m\u001b[0m\n\u001b[0;32m    785\u001b[0m             \u001b[1;31m# Encoding\u001b[0m\u001b[1;33m\u001b[0m\u001b[1;33m\u001b[0m\u001b[0m\n\u001b[1;32m--> 786\u001b[1;33m             handle = open(\n\u001b[0m\u001b[0;32m    787\u001b[0m                 \u001b[0mhandle\u001b[0m\u001b[1;33m,\u001b[0m\u001b[1;33m\u001b[0m\u001b[1;33m\u001b[0m\u001b[0m\n\u001b[0;32m    788\u001b[0m                 \u001b[0mioargs\u001b[0m\u001b[1;33m.\u001b[0m\u001b[0mmode\u001b[0m\u001b[1;33m,\u001b[0m\u001b[1;33m\u001b[0m\u001b[1;33m\u001b[0m\u001b[0m\n",
      "\u001b[1;31mFileNotFoundError\u001b[0m: [Errno 2] No such file or directory: 'FAOSTAT\\\\price_meat_ppi.csv'"
     ]
    }
   ],
   "source": [
    "df7 = pd.read_csv('FAOSTAT\\price_meat_ppi.csv', on_bad_lines='skip')\n",
    "df7\n",
    "# msno.matrix(df7)  # ppi is dimensionless so NaN for units is not an issue\n",
    "df7= df7[(df7['Area'].isin(EUROPEAN_UNION.names))] #EU only\n",
    "df7['Key'] = df7['Area'] + df7['Year'].astype(str) # add a merging key\n",
    "df7.rename(columns = {'Value':'PPI'}, inplace = True)\n",
    "df7 # take a look\n",
    "df8 = df6.merge(df7[['Key', 'PPI']], on='Key')\n",
    "df8.head()\n",
    "# msno.matrix(df8)  # When uncommented indicates no missing data "
   ]
  },
  {
   "cell_type": "markdown",
   "metadata": {},
   "source": [
    "## Shit happens!"
   ]
  },
  {
   "cell_type": "code",
   "execution_count": 130,
   "metadata": {},
   "outputs": [
    {
     "ename": "FileNotFoundError",
     "evalue": "[Errno 2] No such file or directory: 'FAOSTAT\\\\manure_nondairy_lefton_withNulls.csv'",
     "output_type": "error",
     "traceback": [
      "\u001b[1;31m---------------------------------------------------------------------------\u001b[0m",
      "\u001b[1;31mFileNotFoundError\u001b[0m                         Traceback (most recent call last)",
      "\u001b[1;32m~\\AppData\\Local\\Temp\\ipykernel_7340\\1933739038.py\u001b[0m in \u001b[0;36m<module>\u001b[1;34m\u001b[0m\n\u001b[1;32m----> 1\u001b[1;33m \u001b[0mdf9\u001b[0m \u001b[1;33m=\u001b[0m \u001b[0mpd\u001b[0m\u001b[1;33m.\u001b[0m\u001b[0mread_csv\u001b[0m\u001b[1;33m(\u001b[0m\u001b[1;34m'FAOSTAT\\manure_nondairy_lefton_withNulls.csv'\u001b[0m\u001b[1;33m,\u001b[0m \u001b[0mon_bad_lines\u001b[0m\u001b[1;33m=\u001b[0m\u001b[1;34m'skip'\u001b[0m\u001b[1;33m)\u001b[0m\u001b[1;33m\u001b[0m\u001b[1;33m\u001b[0m\u001b[0m\n\u001b[0m\u001b[0;32m      2\u001b[0m \u001b[0mdf9\u001b[0m\u001b[1;33m=\u001b[0m \u001b[0mdf9\u001b[0m\u001b[1;33m[\u001b[0m\u001b[1;33m(\u001b[0m\u001b[0mdf9\u001b[0m\u001b[1;33m[\u001b[0m\u001b[1;34m'Area'\u001b[0m\u001b[1;33m]\u001b[0m\u001b[1;33m.\u001b[0m\u001b[0misin\u001b[0m\u001b[1;33m(\u001b[0m\u001b[0mEUROPEAN_UNION\u001b[0m\u001b[1;33m.\u001b[0m\u001b[0mnames\u001b[0m\u001b[1;33m)\u001b[0m\u001b[1;33m)\u001b[0m\u001b[1;33m]\u001b[0m \u001b[1;31m#EU only\u001b[0m\u001b[1;33m\u001b[0m\u001b[1;33m\u001b[0m\u001b[0m\n\u001b[0;32m      3\u001b[0m \u001b[0mdf9\u001b[0m\u001b[1;33m[\u001b[0m\u001b[1;34m'Key'\u001b[0m\u001b[1;33m]\u001b[0m \u001b[1;33m=\u001b[0m \u001b[0mdf9\u001b[0m\u001b[1;33m[\u001b[0m\u001b[1;34m'Area'\u001b[0m\u001b[1;33m]\u001b[0m \u001b[1;33m+\u001b[0m \u001b[0mdf9\u001b[0m\u001b[1;33m[\u001b[0m\u001b[1;34m'Year'\u001b[0m\u001b[1;33m]\u001b[0m\u001b[1;33m.\u001b[0m\u001b[0mastype\u001b[0m\u001b[1;33m(\u001b[0m\u001b[0mstr\u001b[0m\u001b[1;33m)\u001b[0m \u001b[1;31m# add a merging key\u001b[0m\u001b[1;33m\u001b[0m\u001b[1;33m\u001b[0m\u001b[0m\n\u001b[0;32m      4\u001b[0m \u001b[1;31m# convert from kg to tonnes and round for readibility\u001b[0m\u001b[1;33m\u001b[0m\u001b[1;33m\u001b[0m\u001b[0m\n\u001b[0;32m      5\u001b[0m \u001b[0mdf9\u001b[0m\u001b[1;33m[\u001b[0m\u001b[1;34m'MOn(T)'\u001b[0m\u001b[1;33m]\u001b[0m \u001b[1;33m=\u001b[0m \u001b[1;33m(\u001b[0m\u001b[0mdf9\u001b[0m\u001b[1;33m[\u001b[0m\u001b[1;34m'Value'\u001b[0m\u001b[1;33m]\u001b[0m \u001b[1;33m/\u001b[0m \u001b[1;36m1000\u001b[0m\u001b[1;33m)\u001b[0m\u001b[1;33m.\u001b[0m\u001b[0mround\u001b[0m\u001b[1;33m(\u001b[0m\u001b[1;36m0\u001b[0m\u001b[1;33m)\u001b[0m\u001b[1;33m.\u001b[0m\u001b[0mastype\u001b[0m\u001b[1;33m(\u001b[0m\u001b[0mint\u001b[0m\u001b[1;33m)\u001b[0m\u001b[1;33m\u001b[0m\u001b[1;33m\u001b[0m\u001b[0m\n",
      "\u001b[1;32m~\\anaconda3\\lib\\site-packages\\pandas\\util\\_decorators.py\u001b[0m in \u001b[0;36mwrapper\u001b[1;34m(*args, **kwargs)\u001b[0m\n\u001b[0;32m    309\u001b[0m                     \u001b[0mstacklevel\u001b[0m\u001b[1;33m=\u001b[0m\u001b[0mstacklevel\u001b[0m\u001b[1;33m,\u001b[0m\u001b[1;33m\u001b[0m\u001b[1;33m\u001b[0m\u001b[0m\n\u001b[0;32m    310\u001b[0m                 )\n\u001b[1;32m--> 311\u001b[1;33m             \u001b[1;32mreturn\u001b[0m \u001b[0mfunc\u001b[0m\u001b[1;33m(\u001b[0m\u001b[1;33m*\u001b[0m\u001b[0margs\u001b[0m\u001b[1;33m,\u001b[0m \u001b[1;33m**\u001b[0m\u001b[0mkwargs\u001b[0m\u001b[1;33m)\u001b[0m\u001b[1;33m\u001b[0m\u001b[1;33m\u001b[0m\u001b[0m\n\u001b[0m\u001b[0;32m    312\u001b[0m \u001b[1;33m\u001b[0m\u001b[0m\n\u001b[0;32m    313\u001b[0m         \u001b[1;32mreturn\u001b[0m \u001b[0mwrapper\u001b[0m\u001b[1;33m\u001b[0m\u001b[1;33m\u001b[0m\u001b[0m\n",
      "\u001b[1;32m~\\anaconda3\\lib\\site-packages\\pandas\\io\\parsers\\readers.py\u001b[0m in \u001b[0;36mread_csv\u001b[1;34m(filepath_or_buffer, sep, delimiter, header, names, index_col, usecols, squeeze, prefix, mangle_dupe_cols, dtype, engine, converters, true_values, false_values, skipinitialspace, skiprows, skipfooter, nrows, na_values, keep_default_na, na_filter, verbose, skip_blank_lines, parse_dates, infer_datetime_format, keep_date_col, date_parser, dayfirst, cache_dates, iterator, chunksize, compression, thousands, decimal, lineterminator, quotechar, quoting, doublequote, escapechar, comment, encoding, encoding_errors, dialect, error_bad_lines, warn_bad_lines, on_bad_lines, delim_whitespace, low_memory, memory_map, float_precision, storage_options)\u001b[0m\n\u001b[0;32m    676\u001b[0m     \u001b[0mkwds\u001b[0m\u001b[1;33m.\u001b[0m\u001b[0mupdate\u001b[0m\u001b[1;33m(\u001b[0m\u001b[0mkwds_defaults\u001b[0m\u001b[1;33m)\u001b[0m\u001b[1;33m\u001b[0m\u001b[1;33m\u001b[0m\u001b[0m\n\u001b[0;32m    677\u001b[0m \u001b[1;33m\u001b[0m\u001b[0m\n\u001b[1;32m--> 678\u001b[1;33m     \u001b[1;32mreturn\u001b[0m \u001b[0m_read\u001b[0m\u001b[1;33m(\u001b[0m\u001b[0mfilepath_or_buffer\u001b[0m\u001b[1;33m,\u001b[0m \u001b[0mkwds\u001b[0m\u001b[1;33m)\u001b[0m\u001b[1;33m\u001b[0m\u001b[1;33m\u001b[0m\u001b[0m\n\u001b[0m\u001b[0;32m    679\u001b[0m \u001b[1;33m\u001b[0m\u001b[0m\n\u001b[0;32m    680\u001b[0m \u001b[1;33m\u001b[0m\u001b[0m\n",
      "\u001b[1;32m~\\anaconda3\\lib\\site-packages\\pandas\\io\\parsers\\readers.py\u001b[0m in \u001b[0;36m_read\u001b[1;34m(filepath_or_buffer, kwds)\u001b[0m\n\u001b[0;32m    573\u001b[0m \u001b[1;33m\u001b[0m\u001b[0m\n\u001b[0;32m    574\u001b[0m     \u001b[1;31m# Create the parser.\u001b[0m\u001b[1;33m\u001b[0m\u001b[1;33m\u001b[0m\u001b[0m\n\u001b[1;32m--> 575\u001b[1;33m     \u001b[0mparser\u001b[0m \u001b[1;33m=\u001b[0m \u001b[0mTextFileReader\u001b[0m\u001b[1;33m(\u001b[0m\u001b[0mfilepath_or_buffer\u001b[0m\u001b[1;33m,\u001b[0m \u001b[1;33m**\u001b[0m\u001b[0mkwds\u001b[0m\u001b[1;33m)\u001b[0m\u001b[1;33m\u001b[0m\u001b[1;33m\u001b[0m\u001b[0m\n\u001b[0m\u001b[0;32m    576\u001b[0m \u001b[1;33m\u001b[0m\u001b[0m\n\u001b[0;32m    577\u001b[0m     \u001b[1;32mif\u001b[0m \u001b[0mchunksize\u001b[0m \u001b[1;32mor\u001b[0m \u001b[0miterator\u001b[0m\u001b[1;33m:\u001b[0m\u001b[1;33m\u001b[0m\u001b[1;33m\u001b[0m\u001b[0m\n",
      "\u001b[1;32m~\\anaconda3\\lib\\site-packages\\pandas\\io\\parsers\\readers.py\u001b[0m in \u001b[0;36m__init__\u001b[1;34m(self, f, engine, **kwds)\u001b[0m\n\u001b[0;32m    930\u001b[0m \u001b[1;33m\u001b[0m\u001b[0m\n\u001b[0;32m    931\u001b[0m         \u001b[0mself\u001b[0m\u001b[1;33m.\u001b[0m\u001b[0mhandles\u001b[0m\u001b[1;33m:\u001b[0m \u001b[0mIOHandles\u001b[0m \u001b[1;33m|\u001b[0m \u001b[1;32mNone\u001b[0m \u001b[1;33m=\u001b[0m \u001b[1;32mNone\u001b[0m\u001b[1;33m\u001b[0m\u001b[1;33m\u001b[0m\u001b[0m\n\u001b[1;32m--> 932\u001b[1;33m         \u001b[0mself\u001b[0m\u001b[1;33m.\u001b[0m\u001b[0m_engine\u001b[0m \u001b[1;33m=\u001b[0m \u001b[0mself\u001b[0m\u001b[1;33m.\u001b[0m\u001b[0m_make_engine\u001b[0m\u001b[1;33m(\u001b[0m\u001b[0mf\u001b[0m\u001b[1;33m,\u001b[0m \u001b[0mself\u001b[0m\u001b[1;33m.\u001b[0m\u001b[0mengine\u001b[0m\u001b[1;33m)\u001b[0m\u001b[1;33m\u001b[0m\u001b[1;33m\u001b[0m\u001b[0m\n\u001b[0m\u001b[0;32m    933\u001b[0m \u001b[1;33m\u001b[0m\u001b[0m\n\u001b[0;32m    934\u001b[0m     \u001b[1;32mdef\u001b[0m \u001b[0mclose\u001b[0m\u001b[1;33m(\u001b[0m\u001b[0mself\u001b[0m\u001b[1;33m)\u001b[0m\u001b[1;33m:\u001b[0m\u001b[1;33m\u001b[0m\u001b[1;33m\u001b[0m\u001b[0m\n",
      "\u001b[1;32m~\\anaconda3\\lib\\site-packages\\pandas\\io\\parsers\\readers.py\u001b[0m in \u001b[0;36m_make_engine\u001b[1;34m(self, f, engine)\u001b[0m\n\u001b[0;32m   1214\u001b[0m             \u001b[1;31m# \"Union[str, PathLike[str], ReadCsvBuffer[bytes], ReadCsvBuffer[str]]\"\u001b[0m\u001b[1;33m\u001b[0m\u001b[1;33m\u001b[0m\u001b[0m\n\u001b[0;32m   1215\u001b[0m             \u001b[1;31m# , \"str\", \"bool\", \"Any\", \"Any\", \"Any\", \"Any\", \"Any\"\u001b[0m\u001b[1;33m\u001b[0m\u001b[1;33m\u001b[0m\u001b[0m\n\u001b[1;32m-> 1216\u001b[1;33m             self.handles = get_handle(  # type: ignore[call-overload]\n\u001b[0m\u001b[0;32m   1217\u001b[0m                 \u001b[0mf\u001b[0m\u001b[1;33m,\u001b[0m\u001b[1;33m\u001b[0m\u001b[1;33m\u001b[0m\u001b[0m\n\u001b[0;32m   1218\u001b[0m                 \u001b[0mmode\u001b[0m\u001b[1;33m,\u001b[0m\u001b[1;33m\u001b[0m\u001b[1;33m\u001b[0m\u001b[0m\n",
      "\u001b[1;32m~\\anaconda3\\lib\\site-packages\\pandas\\io\\common.py\u001b[0m in \u001b[0;36mget_handle\u001b[1;34m(path_or_buf, mode, encoding, compression, memory_map, is_text, errors, storage_options)\u001b[0m\n\u001b[0;32m    784\u001b[0m         \u001b[1;32mif\u001b[0m \u001b[0mioargs\u001b[0m\u001b[1;33m.\u001b[0m\u001b[0mencoding\u001b[0m \u001b[1;32mand\u001b[0m \u001b[1;34m\"b\"\u001b[0m \u001b[1;32mnot\u001b[0m \u001b[1;32min\u001b[0m \u001b[0mioargs\u001b[0m\u001b[1;33m.\u001b[0m\u001b[0mmode\u001b[0m\u001b[1;33m:\u001b[0m\u001b[1;33m\u001b[0m\u001b[1;33m\u001b[0m\u001b[0m\n\u001b[0;32m    785\u001b[0m             \u001b[1;31m# Encoding\u001b[0m\u001b[1;33m\u001b[0m\u001b[1;33m\u001b[0m\u001b[0m\n\u001b[1;32m--> 786\u001b[1;33m             handle = open(\n\u001b[0m\u001b[0;32m    787\u001b[0m                 \u001b[0mhandle\u001b[0m\u001b[1;33m,\u001b[0m\u001b[1;33m\u001b[0m\u001b[1;33m\u001b[0m\u001b[0m\n\u001b[0;32m    788\u001b[0m                 \u001b[0mioargs\u001b[0m\u001b[1;33m.\u001b[0m\u001b[0mmode\u001b[0m\u001b[1;33m,\u001b[0m\u001b[1;33m\u001b[0m\u001b[1;33m\u001b[0m\u001b[0m\n",
      "\u001b[1;31mFileNotFoundError\u001b[0m: [Errno 2] No such file or directory: 'FAOSTAT\\\\manure_nondairy_lefton_withNulls.csv'"
     ]
    }
   ],
   "source": [
    "df9 = pd.read_csv('FAOSTAT\\manure_nondairy_lefton_withNulls.csv', on_bad_lines='skip')\n",
    "df9= df9[(df9['Area'].isin(EUROPEAN_UNION.names))] #EU only\n",
    "df9['Key'] = df9['Area'] + df9['Year'].astype(str) # add a merging key\n",
    "# convert from kg to tonnes and round for readibility\n",
    "df9['MOn(T)'] = (df9['Value'] / 1000).round(0).astype(int)\n",
    "df9.sample(3)\n",
    "df10 = df8.merge(df9[['Key', 'MOn(T)']], on='Key') # Man_on is not from sport but means manure left on pasture\n",
    "df10.head(4)\n",
    "# msno.matrix(df10)  # When uncommented indicates no missing data "
   ]
  },
  {
   "cell_type": "code",
   "execution_count": 131,
   "metadata": {},
   "outputs": [],
   "source": [
    "# df9 = pd.read_csv('FAOSTAT\\manure_nondairy_lefton.csv', on_bad_lines='skip')\n",
    "# df9= df9[(df9['Area'].isin(EUROPEAN_UNION.names))] #EU only\n",
    "# df9['Key'] = df9['Area'] + df9['Year'].astype(str) # add a merging key\n",
    "# # convert from kg to tonnes and round for readibility\n",
    "# df9['MOn(T)'] = (df9['Value'] / 1000).round(0).astype(int)\n",
    "# df9.sample(3)\n",
    "# df10 = df8.merge(df9[['Key', 'MOn(T)']], on='Key') # Man_on is not from sport but means manure left on pasture\n",
    "# df10.head(4)\n",
    "# # msno.matrix(df10)  # When uncommented indicates no missing data "
   ]
  },
  {
   "cell_type": "code",
   "execution_count": 132,
   "metadata": {},
   "outputs": [
    {
     "ename": "FileNotFoundError",
     "evalue": "[Errno 2] No such file or directory: 'FAOSTAT\\\\manure_nondairy_applied.csv'",
     "output_type": "error",
     "traceback": [
      "\u001b[1;31m---------------------------------------------------------------------------\u001b[0m",
      "\u001b[1;31mFileNotFoundError\u001b[0m                         Traceback (most recent call last)",
      "\u001b[1;32m~\\AppData\\Local\\Temp\\ipykernel_7340\\1067447090.py\u001b[0m in \u001b[0;36m<module>\u001b[1;34m\u001b[0m\n\u001b[1;32m----> 1\u001b[1;33m \u001b[0mdf11\u001b[0m \u001b[1;33m=\u001b[0m \u001b[0mpd\u001b[0m\u001b[1;33m.\u001b[0m\u001b[0mread_csv\u001b[0m\u001b[1;33m(\u001b[0m\u001b[1;34m'FAOSTAT\\manure_nondairy_applied.csv'\u001b[0m\u001b[1;33m,\u001b[0m \u001b[0mon_bad_lines\u001b[0m\u001b[1;33m=\u001b[0m\u001b[1;34m'skip'\u001b[0m\u001b[1;33m)\u001b[0m\u001b[1;33m\u001b[0m\u001b[1;33m\u001b[0m\u001b[0m\n\u001b[0m\u001b[0;32m      2\u001b[0m \u001b[0mdf11\u001b[0m\u001b[1;33m=\u001b[0m \u001b[0mdf11\u001b[0m\u001b[1;33m[\u001b[0m\u001b[1;33m(\u001b[0m\u001b[0mdf11\u001b[0m\u001b[1;33m[\u001b[0m\u001b[1;34m'Area'\u001b[0m\u001b[1;33m]\u001b[0m\u001b[1;33m.\u001b[0m\u001b[0misin\u001b[0m\u001b[1;33m(\u001b[0m\u001b[0mEUROPEAN_UNION\u001b[0m\u001b[1;33m.\u001b[0m\u001b[0mnames\u001b[0m\u001b[1;33m)\u001b[0m\u001b[1;33m)\u001b[0m\u001b[1;33m]\u001b[0m \u001b[1;31m#EU only\u001b[0m\u001b[1;33m\u001b[0m\u001b[1;33m\u001b[0m\u001b[0m\n\u001b[0;32m      3\u001b[0m \u001b[0mdf11\u001b[0m\u001b[1;33m[\u001b[0m\u001b[1;34m'Key'\u001b[0m\u001b[1;33m]\u001b[0m \u001b[1;33m=\u001b[0m \u001b[0mdf11\u001b[0m\u001b[1;33m[\u001b[0m\u001b[1;34m'Area'\u001b[0m\u001b[1;33m]\u001b[0m \u001b[1;33m+\u001b[0m \u001b[0mdf11\u001b[0m\u001b[1;33m[\u001b[0m\u001b[1;34m'Year'\u001b[0m\u001b[1;33m]\u001b[0m\u001b[1;33m.\u001b[0m\u001b[0mastype\u001b[0m\u001b[1;33m(\u001b[0m\u001b[0mstr\u001b[0m\u001b[1;33m)\u001b[0m \u001b[1;31m# add a merging key\u001b[0m\u001b[1;33m\u001b[0m\u001b[1;33m\u001b[0m\u001b[0m\n\u001b[0;32m      4\u001b[0m \u001b[1;31m# convert from kg to tonnes and round for readibility\u001b[0m\u001b[1;33m\u001b[0m\u001b[1;33m\u001b[0m\u001b[0m\n\u001b[0;32m      5\u001b[0m \u001b[0mdf11\u001b[0m\u001b[1;33m[\u001b[0m\u001b[1;34m'MAp(T)'\u001b[0m\u001b[1;33m]\u001b[0m \u001b[1;33m=\u001b[0m \u001b[1;33m(\u001b[0m\u001b[0mdf11\u001b[0m\u001b[1;33m[\u001b[0m\u001b[1;34m'Value'\u001b[0m\u001b[1;33m]\u001b[0m \u001b[1;33m/\u001b[0m \u001b[1;36m1000\u001b[0m\u001b[1;33m)\u001b[0m\u001b[1;33m.\u001b[0m\u001b[0mround\u001b[0m\u001b[1;33m(\u001b[0m\u001b[1;36m0\u001b[0m\u001b[1;33m)\u001b[0m\u001b[1;33m.\u001b[0m\u001b[0mastype\u001b[0m\u001b[1;33m(\u001b[0m\u001b[0mint\u001b[0m\u001b[1;33m)\u001b[0m\u001b[1;33m\u001b[0m\u001b[1;33m\u001b[0m\u001b[0m\n",
      "\u001b[1;32m~\\anaconda3\\lib\\site-packages\\pandas\\util\\_decorators.py\u001b[0m in \u001b[0;36mwrapper\u001b[1;34m(*args, **kwargs)\u001b[0m\n\u001b[0;32m    309\u001b[0m                     \u001b[0mstacklevel\u001b[0m\u001b[1;33m=\u001b[0m\u001b[0mstacklevel\u001b[0m\u001b[1;33m,\u001b[0m\u001b[1;33m\u001b[0m\u001b[1;33m\u001b[0m\u001b[0m\n\u001b[0;32m    310\u001b[0m                 )\n\u001b[1;32m--> 311\u001b[1;33m             \u001b[1;32mreturn\u001b[0m \u001b[0mfunc\u001b[0m\u001b[1;33m(\u001b[0m\u001b[1;33m*\u001b[0m\u001b[0margs\u001b[0m\u001b[1;33m,\u001b[0m \u001b[1;33m**\u001b[0m\u001b[0mkwargs\u001b[0m\u001b[1;33m)\u001b[0m\u001b[1;33m\u001b[0m\u001b[1;33m\u001b[0m\u001b[0m\n\u001b[0m\u001b[0;32m    312\u001b[0m \u001b[1;33m\u001b[0m\u001b[0m\n\u001b[0;32m    313\u001b[0m         \u001b[1;32mreturn\u001b[0m \u001b[0mwrapper\u001b[0m\u001b[1;33m\u001b[0m\u001b[1;33m\u001b[0m\u001b[0m\n",
      "\u001b[1;32m~\\anaconda3\\lib\\site-packages\\pandas\\io\\parsers\\readers.py\u001b[0m in \u001b[0;36mread_csv\u001b[1;34m(filepath_or_buffer, sep, delimiter, header, names, index_col, usecols, squeeze, prefix, mangle_dupe_cols, dtype, engine, converters, true_values, false_values, skipinitialspace, skiprows, skipfooter, nrows, na_values, keep_default_na, na_filter, verbose, skip_blank_lines, parse_dates, infer_datetime_format, keep_date_col, date_parser, dayfirst, cache_dates, iterator, chunksize, compression, thousands, decimal, lineterminator, quotechar, quoting, doublequote, escapechar, comment, encoding, encoding_errors, dialect, error_bad_lines, warn_bad_lines, on_bad_lines, delim_whitespace, low_memory, memory_map, float_precision, storage_options)\u001b[0m\n\u001b[0;32m    676\u001b[0m     \u001b[0mkwds\u001b[0m\u001b[1;33m.\u001b[0m\u001b[0mupdate\u001b[0m\u001b[1;33m(\u001b[0m\u001b[0mkwds_defaults\u001b[0m\u001b[1;33m)\u001b[0m\u001b[1;33m\u001b[0m\u001b[1;33m\u001b[0m\u001b[0m\n\u001b[0;32m    677\u001b[0m \u001b[1;33m\u001b[0m\u001b[0m\n\u001b[1;32m--> 678\u001b[1;33m     \u001b[1;32mreturn\u001b[0m \u001b[0m_read\u001b[0m\u001b[1;33m(\u001b[0m\u001b[0mfilepath_or_buffer\u001b[0m\u001b[1;33m,\u001b[0m \u001b[0mkwds\u001b[0m\u001b[1;33m)\u001b[0m\u001b[1;33m\u001b[0m\u001b[1;33m\u001b[0m\u001b[0m\n\u001b[0m\u001b[0;32m    679\u001b[0m \u001b[1;33m\u001b[0m\u001b[0m\n\u001b[0;32m    680\u001b[0m \u001b[1;33m\u001b[0m\u001b[0m\n",
      "\u001b[1;32m~\\anaconda3\\lib\\site-packages\\pandas\\io\\parsers\\readers.py\u001b[0m in \u001b[0;36m_read\u001b[1;34m(filepath_or_buffer, kwds)\u001b[0m\n\u001b[0;32m    573\u001b[0m \u001b[1;33m\u001b[0m\u001b[0m\n\u001b[0;32m    574\u001b[0m     \u001b[1;31m# Create the parser.\u001b[0m\u001b[1;33m\u001b[0m\u001b[1;33m\u001b[0m\u001b[0m\n\u001b[1;32m--> 575\u001b[1;33m     \u001b[0mparser\u001b[0m \u001b[1;33m=\u001b[0m \u001b[0mTextFileReader\u001b[0m\u001b[1;33m(\u001b[0m\u001b[0mfilepath_or_buffer\u001b[0m\u001b[1;33m,\u001b[0m \u001b[1;33m**\u001b[0m\u001b[0mkwds\u001b[0m\u001b[1;33m)\u001b[0m\u001b[1;33m\u001b[0m\u001b[1;33m\u001b[0m\u001b[0m\n\u001b[0m\u001b[0;32m    576\u001b[0m \u001b[1;33m\u001b[0m\u001b[0m\n\u001b[0;32m    577\u001b[0m     \u001b[1;32mif\u001b[0m \u001b[0mchunksize\u001b[0m \u001b[1;32mor\u001b[0m \u001b[0miterator\u001b[0m\u001b[1;33m:\u001b[0m\u001b[1;33m\u001b[0m\u001b[1;33m\u001b[0m\u001b[0m\n",
      "\u001b[1;32m~\\anaconda3\\lib\\site-packages\\pandas\\io\\parsers\\readers.py\u001b[0m in \u001b[0;36m__init__\u001b[1;34m(self, f, engine, **kwds)\u001b[0m\n\u001b[0;32m    930\u001b[0m \u001b[1;33m\u001b[0m\u001b[0m\n\u001b[0;32m    931\u001b[0m         \u001b[0mself\u001b[0m\u001b[1;33m.\u001b[0m\u001b[0mhandles\u001b[0m\u001b[1;33m:\u001b[0m \u001b[0mIOHandles\u001b[0m \u001b[1;33m|\u001b[0m \u001b[1;32mNone\u001b[0m \u001b[1;33m=\u001b[0m \u001b[1;32mNone\u001b[0m\u001b[1;33m\u001b[0m\u001b[1;33m\u001b[0m\u001b[0m\n\u001b[1;32m--> 932\u001b[1;33m         \u001b[0mself\u001b[0m\u001b[1;33m.\u001b[0m\u001b[0m_engine\u001b[0m \u001b[1;33m=\u001b[0m \u001b[0mself\u001b[0m\u001b[1;33m.\u001b[0m\u001b[0m_make_engine\u001b[0m\u001b[1;33m(\u001b[0m\u001b[0mf\u001b[0m\u001b[1;33m,\u001b[0m \u001b[0mself\u001b[0m\u001b[1;33m.\u001b[0m\u001b[0mengine\u001b[0m\u001b[1;33m)\u001b[0m\u001b[1;33m\u001b[0m\u001b[1;33m\u001b[0m\u001b[0m\n\u001b[0m\u001b[0;32m    933\u001b[0m \u001b[1;33m\u001b[0m\u001b[0m\n\u001b[0;32m    934\u001b[0m     \u001b[1;32mdef\u001b[0m \u001b[0mclose\u001b[0m\u001b[1;33m(\u001b[0m\u001b[0mself\u001b[0m\u001b[1;33m)\u001b[0m\u001b[1;33m:\u001b[0m\u001b[1;33m\u001b[0m\u001b[1;33m\u001b[0m\u001b[0m\n",
      "\u001b[1;32m~\\anaconda3\\lib\\site-packages\\pandas\\io\\parsers\\readers.py\u001b[0m in \u001b[0;36m_make_engine\u001b[1;34m(self, f, engine)\u001b[0m\n\u001b[0;32m   1214\u001b[0m             \u001b[1;31m# \"Union[str, PathLike[str], ReadCsvBuffer[bytes], ReadCsvBuffer[str]]\"\u001b[0m\u001b[1;33m\u001b[0m\u001b[1;33m\u001b[0m\u001b[0m\n\u001b[0;32m   1215\u001b[0m             \u001b[1;31m# , \"str\", \"bool\", \"Any\", \"Any\", \"Any\", \"Any\", \"Any\"\u001b[0m\u001b[1;33m\u001b[0m\u001b[1;33m\u001b[0m\u001b[0m\n\u001b[1;32m-> 1216\u001b[1;33m             self.handles = get_handle(  # type: ignore[call-overload]\n\u001b[0m\u001b[0;32m   1217\u001b[0m                 \u001b[0mf\u001b[0m\u001b[1;33m,\u001b[0m\u001b[1;33m\u001b[0m\u001b[1;33m\u001b[0m\u001b[0m\n\u001b[0;32m   1218\u001b[0m                 \u001b[0mmode\u001b[0m\u001b[1;33m,\u001b[0m\u001b[1;33m\u001b[0m\u001b[1;33m\u001b[0m\u001b[0m\n",
      "\u001b[1;32m~\\anaconda3\\lib\\site-packages\\pandas\\io\\common.py\u001b[0m in \u001b[0;36mget_handle\u001b[1;34m(path_or_buf, mode, encoding, compression, memory_map, is_text, errors, storage_options)\u001b[0m\n\u001b[0;32m    784\u001b[0m         \u001b[1;32mif\u001b[0m \u001b[0mioargs\u001b[0m\u001b[1;33m.\u001b[0m\u001b[0mencoding\u001b[0m \u001b[1;32mand\u001b[0m \u001b[1;34m\"b\"\u001b[0m \u001b[1;32mnot\u001b[0m \u001b[1;32min\u001b[0m \u001b[0mioargs\u001b[0m\u001b[1;33m.\u001b[0m\u001b[0mmode\u001b[0m\u001b[1;33m:\u001b[0m\u001b[1;33m\u001b[0m\u001b[1;33m\u001b[0m\u001b[0m\n\u001b[0;32m    785\u001b[0m             \u001b[1;31m# Encoding\u001b[0m\u001b[1;33m\u001b[0m\u001b[1;33m\u001b[0m\u001b[0m\n\u001b[1;32m--> 786\u001b[1;33m             handle = open(\n\u001b[0m\u001b[0;32m    787\u001b[0m                 \u001b[0mhandle\u001b[0m\u001b[1;33m,\u001b[0m\u001b[1;33m\u001b[0m\u001b[1;33m\u001b[0m\u001b[0m\n\u001b[0;32m    788\u001b[0m                 \u001b[0mioargs\u001b[0m\u001b[1;33m.\u001b[0m\u001b[0mmode\u001b[0m\u001b[1;33m,\u001b[0m\u001b[1;33m\u001b[0m\u001b[1;33m\u001b[0m\u001b[0m\n",
      "\u001b[1;31mFileNotFoundError\u001b[0m: [Errno 2] No such file or directory: 'FAOSTAT\\\\manure_nondairy_applied.csv'"
     ]
    }
   ],
   "source": [
    "df11 = pd.read_csv('FAOSTAT\\manure_nondairy_applied.csv', on_bad_lines='skip')\n",
    "df11= df11[(df11['Area'].isin(EUROPEAN_UNION.names))] #EU only\n",
    "df11['Key'] = df11['Area'] + df11['Year'].astype(str) # add a merging key\n",
    "# convert from kg to tonnes and round for readibility\n",
    "df11['MAp(T)'] = (df11['Value'] / 1000).round(0).astype(int)\n",
    "# df11.sample(3) # Look at a sample\n",
    "df12 = df10.merge(df11[['Key', 'MAp(T)']], on='Key') # Manure applied in tonnes is appended\n",
    "df12.sample(4)\n",
    "# msno.matrix(df12)  # When uncommented indicates no missing data "
   ]
  },
  {
   "cell_type": "code",
   "execution_count": 133,
   "metadata": {},
   "outputs": [
    {
     "ename": "FileNotFoundError",
     "evalue": "[Errno 2] No such file or directory: 'FAOSTAT\\\\livestock_density.csv'",
     "output_type": "error",
     "traceback": [
      "\u001b[1;31m---------------------------------------------------------------------------\u001b[0m",
      "\u001b[1;31mFileNotFoundError\u001b[0m                         Traceback (most recent call last)",
      "\u001b[1;32m~\\AppData\\Local\\Temp\\ipykernel_7340\\3443155095.py\u001b[0m in \u001b[0;36m<module>\u001b[1;34m\u001b[0m\n\u001b[1;32m----> 1\u001b[1;33m \u001b[0mdf13\u001b[0m \u001b[1;33m=\u001b[0m \u001b[0mpd\u001b[0m\u001b[1;33m.\u001b[0m\u001b[0mread_csv\u001b[0m\u001b[1;33m(\u001b[0m\u001b[1;34m'FAOSTAT\\livestock_density.csv'\u001b[0m\u001b[1;33m,\u001b[0m \u001b[0mon_bad_lines\u001b[0m\u001b[1;33m=\u001b[0m\u001b[1;34m'skip'\u001b[0m\u001b[1;33m)\u001b[0m\u001b[1;33m\u001b[0m\u001b[1;33m\u001b[0m\u001b[0m\n\u001b[0m\u001b[0;32m      2\u001b[0m \u001b[1;31m# # msno.matrix(df13)  # ppi is dimensionless so NaN for units is not an issue\u001b[0m\u001b[1;33m\u001b[0m\u001b[1;33m\u001b[0m\u001b[0m\n\u001b[0;32m      3\u001b[0m \u001b[0mdf13\u001b[0m\u001b[1;33m=\u001b[0m \u001b[0mdf13\u001b[0m\u001b[1;33m[\u001b[0m\u001b[1;33m(\u001b[0m\u001b[0mdf13\u001b[0m\u001b[1;33m[\u001b[0m\u001b[1;34m'Area'\u001b[0m\u001b[1;33m]\u001b[0m\u001b[1;33m.\u001b[0m\u001b[0misin\u001b[0m\u001b[1;33m(\u001b[0m\u001b[0mEUROPEAN_UNION\u001b[0m\u001b[1;33m.\u001b[0m\u001b[0mnames\u001b[0m\u001b[1;33m)\u001b[0m\u001b[1;33m)\u001b[0m\u001b[1;33m]\u001b[0m \u001b[1;31m#EU only\u001b[0m\u001b[1;33m\u001b[0m\u001b[1;33m\u001b[0m\u001b[0m\n\u001b[0;32m      4\u001b[0m \u001b[0mdf13\u001b[0m\u001b[1;33m[\u001b[0m\u001b[1;34m'Key'\u001b[0m\u001b[1;33m]\u001b[0m \u001b[1;33m=\u001b[0m \u001b[0mdf13\u001b[0m\u001b[1;33m[\u001b[0m\u001b[1;34m'Area'\u001b[0m\u001b[1;33m]\u001b[0m \u001b[1;33m+\u001b[0m \u001b[0mdf13\u001b[0m\u001b[1;33m[\u001b[0m\u001b[1;34m'Year'\u001b[0m\u001b[1;33m]\u001b[0m\u001b[1;33m.\u001b[0m\u001b[0mastype\u001b[0m\u001b[1;33m(\u001b[0m\u001b[0mstr\u001b[0m\u001b[1;33m)\u001b[0m \u001b[1;31m# add a merging key\u001b[0m\u001b[1;33m\u001b[0m\u001b[1;33m\u001b[0m\u001b[0m\n\u001b[0;32m      5\u001b[0m \u001b[0mdf13\u001b[0m\u001b[1;33m.\u001b[0m\u001b[0mrename\u001b[0m\u001b[1;33m(\u001b[0m\u001b[0mcolumns\u001b[0m \u001b[1;33m=\u001b[0m \u001b[1;33m{\u001b[0m\u001b[1;34m'Value'\u001b[0m\u001b[1;33m:\u001b[0m\u001b[1;34m'LSU/ha'\u001b[0m\u001b[1;33m}\u001b[0m\u001b[1;33m,\u001b[0m \u001b[0minplace\u001b[0m \u001b[1;33m=\u001b[0m \u001b[1;32mTrue\u001b[0m\u001b[1;33m)\u001b[0m\u001b[1;33m\u001b[0m\u001b[1;33m\u001b[0m\u001b[0m\n",
      "\u001b[1;32m~\\anaconda3\\lib\\site-packages\\pandas\\util\\_decorators.py\u001b[0m in \u001b[0;36mwrapper\u001b[1;34m(*args, **kwargs)\u001b[0m\n\u001b[0;32m    309\u001b[0m                     \u001b[0mstacklevel\u001b[0m\u001b[1;33m=\u001b[0m\u001b[0mstacklevel\u001b[0m\u001b[1;33m,\u001b[0m\u001b[1;33m\u001b[0m\u001b[1;33m\u001b[0m\u001b[0m\n\u001b[0;32m    310\u001b[0m                 )\n\u001b[1;32m--> 311\u001b[1;33m             \u001b[1;32mreturn\u001b[0m \u001b[0mfunc\u001b[0m\u001b[1;33m(\u001b[0m\u001b[1;33m*\u001b[0m\u001b[0margs\u001b[0m\u001b[1;33m,\u001b[0m \u001b[1;33m**\u001b[0m\u001b[0mkwargs\u001b[0m\u001b[1;33m)\u001b[0m\u001b[1;33m\u001b[0m\u001b[1;33m\u001b[0m\u001b[0m\n\u001b[0m\u001b[0;32m    312\u001b[0m \u001b[1;33m\u001b[0m\u001b[0m\n\u001b[0;32m    313\u001b[0m         \u001b[1;32mreturn\u001b[0m \u001b[0mwrapper\u001b[0m\u001b[1;33m\u001b[0m\u001b[1;33m\u001b[0m\u001b[0m\n",
      "\u001b[1;32m~\\anaconda3\\lib\\site-packages\\pandas\\io\\parsers\\readers.py\u001b[0m in \u001b[0;36mread_csv\u001b[1;34m(filepath_or_buffer, sep, delimiter, header, names, index_col, usecols, squeeze, prefix, mangle_dupe_cols, dtype, engine, converters, true_values, false_values, skipinitialspace, skiprows, skipfooter, nrows, na_values, keep_default_na, na_filter, verbose, skip_blank_lines, parse_dates, infer_datetime_format, keep_date_col, date_parser, dayfirst, cache_dates, iterator, chunksize, compression, thousands, decimal, lineterminator, quotechar, quoting, doublequote, escapechar, comment, encoding, encoding_errors, dialect, error_bad_lines, warn_bad_lines, on_bad_lines, delim_whitespace, low_memory, memory_map, float_precision, storage_options)\u001b[0m\n\u001b[0;32m    676\u001b[0m     \u001b[0mkwds\u001b[0m\u001b[1;33m.\u001b[0m\u001b[0mupdate\u001b[0m\u001b[1;33m(\u001b[0m\u001b[0mkwds_defaults\u001b[0m\u001b[1;33m)\u001b[0m\u001b[1;33m\u001b[0m\u001b[1;33m\u001b[0m\u001b[0m\n\u001b[0;32m    677\u001b[0m \u001b[1;33m\u001b[0m\u001b[0m\n\u001b[1;32m--> 678\u001b[1;33m     \u001b[1;32mreturn\u001b[0m \u001b[0m_read\u001b[0m\u001b[1;33m(\u001b[0m\u001b[0mfilepath_or_buffer\u001b[0m\u001b[1;33m,\u001b[0m \u001b[0mkwds\u001b[0m\u001b[1;33m)\u001b[0m\u001b[1;33m\u001b[0m\u001b[1;33m\u001b[0m\u001b[0m\n\u001b[0m\u001b[0;32m    679\u001b[0m \u001b[1;33m\u001b[0m\u001b[0m\n\u001b[0;32m    680\u001b[0m \u001b[1;33m\u001b[0m\u001b[0m\n",
      "\u001b[1;32m~\\anaconda3\\lib\\site-packages\\pandas\\io\\parsers\\readers.py\u001b[0m in \u001b[0;36m_read\u001b[1;34m(filepath_or_buffer, kwds)\u001b[0m\n\u001b[0;32m    573\u001b[0m \u001b[1;33m\u001b[0m\u001b[0m\n\u001b[0;32m    574\u001b[0m     \u001b[1;31m# Create the parser.\u001b[0m\u001b[1;33m\u001b[0m\u001b[1;33m\u001b[0m\u001b[0m\n\u001b[1;32m--> 575\u001b[1;33m     \u001b[0mparser\u001b[0m \u001b[1;33m=\u001b[0m \u001b[0mTextFileReader\u001b[0m\u001b[1;33m(\u001b[0m\u001b[0mfilepath_or_buffer\u001b[0m\u001b[1;33m,\u001b[0m \u001b[1;33m**\u001b[0m\u001b[0mkwds\u001b[0m\u001b[1;33m)\u001b[0m\u001b[1;33m\u001b[0m\u001b[1;33m\u001b[0m\u001b[0m\n\u001b[0m\u001b[0;32m    576\u001b[0m \u001b[1;33m\u001b[0m\u001b[0m\n\u001b[0;32m    577\u001b[0m     \u001b[1;32mif\u001b[0m \u001b[0mchunksize\u001b[0m \u001b[1;32mor\u001b[0m \u001b[0miterator\u001b[0m\u001b[1;33m:\u001b[0m\u001b[1;33m\u001b[0m\u001b[1;33m\u001b[0m\u001b[0m\n",
      "\u001b[1;32m~\\anaconda3\\lib\\site-packages\\pandas\\io\\parsers\\readers.py\u001b[0m in \u001b[0;36m__init__\u001b[1;34m(self, f, engine, **kwds)\u001b[0m\n\u001b[0;32m    930\u001b[0m \u001b[1;33m\u001b[0m\u001b[0m\n\u001b[0;32m    931\u001b[0m         \u001b[0mself\u001b[0m\u001b[1;33m.\u001b[0m\u001b[0mhandles\u001b[0m\u001b[1;33m:\u001b[0m \u001b[0mIOHandles\u001b[0m \u001b[1;33m|\u001b[0m \u001b[1;32mNone\u001b[0m \u001b[1;33m=\u001b[0m \u001b[1;32mNone\u001b[0m\u001b[1;33m\u001b[0m\u001b[1;33m\u001b[0m\u001b[0m\n\u001b[1;32m--> 932\u001b[1;33m         \u001b[0mself\u001b[0m\u001b[1;33m.\u001b[0m\u001b[0m_engine\u001b[0m \u001b[1;33m=\u001b[0m \u001b[0mself\u001b[0m\u001b[1;33m.\u001b[0m\u001b[0m_make_engine\u001b[0m\u001b[1;33m(\u001b[0m\u001b[0mf\u001b[0m\u001b[1;33m,\u001b[0m \u001b[0mself\u001b[0m\u001b[1;33m.\u001b[0m\u001b[0mengine\u001b[0m\u001b[1;33m)\u001b[0m\u001b[1;33m\u001b[0m\u001b[1;33m\u001b[0m\u001b[0m\n\u001b[0m\u001b[0;32m    933\u001b[0m \u001b[1;33m\u001b[0m\u001b[0m\n\u001b[0;32m    934\u001b[0m     \u001b[1;32mdef\u001b[0m \u001b[0mclose\u001b[0m\u001b[1;33m(\u001b[0m\u001b[0mself\u001b[0m\u001b[1;33m)\u001b[0m\u001b[1;33m:\u001b[0m\u001b[1;33m\u001b[0m\u001b[1;33m\u001b[0m\u001b[0m\n",
      "\u001b[1;32m~\\anaconda3\\lib\\site-packages\\pandas\\io\\parsers\\readers.py\u001b[0m in \u001b[0;36m_make_engine\u001b[1;34m(self, f, engine)\u001b[0m\n\u001b[0;32m   1214\u001b[0m             \u001b[1;31m# \"Union[str, PathLike[str], ReadCsvBuffer[bytes], ReadCsvBuffer[str]]\"\u001b[0m\u001b[1;33m\u001b[0m\u001b[1;33m\u001b[0m\u001b[0m\n\u001b[0;32m   1215\u001b[0m             \u001b[1;31m# , \"str\", \"bool\", \"Any\", \"Any\", \"Any\", \"Any\", \"Any\"\u001b[0m\u001b[1;33m\u001b[0m\u001b[1;33m\u001b[0m\u001b[0m\n\u001b[1;32m-> 1216\u001b[1;33m             self.handles = get_handle(  # type: ignore[call-overload]\n\u001b[0m\u001b[0;32m   1217\u001b[0m                 \u001b[0mf\u001b[0m\u001b[1;33m,\u001b[0m\u001b[1;33m\u001b[0m\u001b[1;33m\u001b[0m\u001b[0m\n\u001b[0;32m   1218\u001b[0m                 \u001b[0mmode\u001b[0m\u001b[1;33m,\u001b[0m\u001b[1;33m\u001b[0m\u001b[1;33m\u001b[0m\u001b[0m\n",
      "\u001b[1;32m~\\anaconda3\\lib\\site-packages\\pandas\\io\\common.py\u001b[0m in \u001b[0;36mget_handle\u001b[1;34m(path_or_buf, mode, encoding, compression, memory_map, is_text, errors, storage_options)\u001b[0m\n\u001b[0;32m    784\u001b[0m         \u001b[1;32mif\u001b[0m \u001b[0mioargs\u001b[0m\u001b[1;33m.\u001b[0m\u001b[0mencoding\u001b[0m \u001b[1;32mand\u001b[0m \u001b[1;34m\"b\"\u001b[0m \u001b[1;32mnot\u001b[0m \u001b[1;32min\u001b[0m \u001b[0mioargs\u001b[0m\u001b[1;33m.\u001b[0m\u001b[0mmode\u001b[0m\u001b[1;33m:\u001b[0m\u001b[1;33m\u001b[0m\u001b[1;33m\u001b[0m\u001b[0m\n\u001b[0;32m    785\u001b[0m             \u001b[1;31m# Encoding\u001b[0m\u001b[1;33m\u001b[0m\u001b[1;33m\u001b[0m\u001b[0m\n\u001b[1;32m--> 786\u001b[1;33m             handle = open(\n\u001b[0m\u001b[0;32m    787\u001b[0m                 \u001b[0mhandle\u001b[0m\u001b[1;33m,\u001b[0m\u001b[1;33m\u001b[0m\u001b[1;33m\u001b[0m\u001b[0m\n\u001b[0;32m    788\u001b[0m                 \u001b[0mioargs\u001b[0m\u001b[1;33m.\u001b[0m\u001b[0mmode\u001b[0m\u001b[1;33m,\u001b[0m\u001b[1;33m\u001b[0m\u001b[1;33m\u001b[0m\u001b[0m\n",
      "\u001b[1;31mFileNotFoundError\u001b[0m: [Errno 2] No such file or directory: 'FAOSTAT\\\\livestock_density.csv'"
     ]
    }
   ],
   "source": [
    "df13 = pd.read_csv('FAOSTAT\\livestock_density.csv', on_bad_lines='skip')\n",
    "# # msno.matrix(df13)  # ppi is dimensionless so NaN for units is not an issue\n",
    "df13= df13[(df13['Area'].isin(EUROPEAN_UNION.names))] #EU only\n",
    "df13['Key'] = df13['Area'] + df13['Year'].astype(str) # add a merging key\n",
    "df13.rename(columns = {'Value':'LSU/ha'}, inplace = True)\n",
    "# df13 # take a look\n",
    "df14 = df12.merge(df13[['Key', 'LSU/ha']], on='Key')\n",
    "df14.head()\n",
    "# msno.matrix(df14)  # When uncommented indicates no missing data "
   ]
  },
  {
   "cell_type": "code",
   "execution_count": 134,
   "metadata": {},
   "outputs": [
    {
     "ename": "FileNotFoundError",
     "evalue": "[Errno 2] No such file or directory: 'FAOSTAT\\\\land-temp.csv'",
     "output_type": "error",
     "traceback": [
      "\u001b[1;31m---------------------------------------------------------------------------\u001b[0m",
      "\u001b[1;31mFileNotFoundError\u001b[0m                         Traceback (most recent call last)",
      "\u001b[1;32m~\\AppData\\Local\\Temp\\ipykernel_7340\\324600204.py\u001b[0m in \u001b[0;36m<module>\u001b[1;34m\u001b[0m\n\u001b[1;32m----> 1\u001b[1;33m \u001b[0mdf15\u001b[0m \u001b[1;33m=\u001b[0m \u001b[0mpd\u001b[0m\u001b[1;33m.\u001b[0m\u001b[0mread_csv\u001b[0m\u001b[1;33m(\u001b[0m\u001b[1;34m'FAOSTAT\\land-temp.csv'\u001b[0m\u001b[1;33m,\u001b[0m \u001b[0mon_bad_lines\u001b[0m\u001b[1;33m=\u001b[0m\u001b[1;34m'skip'\u001b[0m\u001b[1;33m)\u001b[0m\u001b[1;33m\u001b[0m\u001b[1;33m\u001b[0m\u001b[0m\n\u001b[0m\u001b[0;32m      2\u001b[0m \u001b[1;31m# # msno.matrix(df15)  # ppi is dimensionless so NaN for units is not an issue\u001b[0m\u001b[1;33m\u001b[0m\u001b[1;33m\u001b[0m\u001b[0m\n\u001b[0;32m      3\u001b[0m \u001b[0mdf15\u001b[0m\u001b[1;33m=\u001b[0m \u001b[0mdf15\u001b[0m\u001b[1;33m[\u001b[0m\u001b[1;33m(\u001b[0m\u001b[0mdf15\u001b[0m\u001b[1;33m[\u001b[0m\u001b[1;34m'Area'\u001b[0m\u001b[1;33m]\u001b[0m\u001b[1;33m.\u001b[0m\u001b[0misin\u001b[0m\u001b[1;33m(\u001b[0m\u001b[0mEUROPEAN_UNION\u001b[0m\u001b[1;33m.\u001b[0m\u001b[0mnames\u001b[0m\u001b[1;33m)\u001b[0m\u001b[1;33m)\u001b[0m\u001b[1;33m]\u001b[0m \u001b[1;31m#EU only\u001b[0m\u001b[1;33m\u001b[0m\u001b[1;33m\u001b[0m\u001b[0m\n\u001b[0;32m      4\u001b[0m \u001b[0mdf15\u001b[0m\u001b[1;33m[\u001b[0m\u001b[1;34m'Key'\u001b[0m\u001b[1;33m]\u001b[0m \u001b[1;33m=\u001b[0m \u001b[0mdf15\u001b[0m\u001b[1;33m[\u001b[0m\u001b[1;34m'Area'\u001b[0m\u001b[1;33m]\u001b[0m \u001b[1;33m+\u001b[0m \u001b[0mdf15\u001b[0m\u001b[1;33m[\u001b[0m\u001b[1;34m'Year'\u001b[0m\u001b[1;33m]\u001b[0m\u001b[1;33m.\u001b[0m\u001b[0mastype\u001b[0m\u001b[1;33m(\u001b[0m\u001b[0mstr\u001b[0m\u001b[1;33m)\u001b[0m \u001b[1;31m# add a merging key\u001b[0m\u001b[1;33m\u001b[0m\u001b[1;33m\u001b[0m\u001b[0m\n\u001b[0;32m      5\u001b[0m \u001b[1;31m# df15 # take a quick look\u001b[0m\u001b[1;33m\u001b[0m\u001b[1;33m\u001b[0m\u001b[0m\n",
      "\u001b[1;32m~\\anaconda3\\lib\\site-packages\\pandas\\util\\_decorators.py\u001b[0m in \u001b[0;36mwrapper\u001b[1;34m(*args, **kwargs)\u001b[0m\n\u001b[0;32m    309\u001b[0m                     \u001b[0mstacklevel\u001b[0m\u001b[1;33m=\u001b[0m\u001b[0mstacklevel\u001b[0m\u001b[1;33m,\u001b[0m\u001b[1;33m\u001b[0m\u001b[1;33m\u001b[0m\u001b[0m\n\u001b[0;32m    310\u001b[0m                 )\n\u001b[1;32m--> 311\u001b[1;33m             \u001b[1;32mreturn\u001b[0m \u001b[0mfunc\u001b[0m\u001b[1;33m(\u001b[0m\u001b[1;33m*\u001b[0m\u001b[0margs\u001b[0m\u001b[1;33m,\u001b[0m \u001b[1;33m**\u001b[0m\u001b[0mkwargs\u001b[0m\u001b[1;33m)\u001b[0m\u001b[1;33m\u001b[0m\u001b[1;33m\u001b[0m\u001b[0m\n\u001b[0m\u001b[0;32m    312\u001b[0m \u001b[1;33m\u001b[0m\u001b[0m\n\u001b[0;32m    313\u001b[0m         \u001b[1;32mreturn\u001b[0m \u001b[0mwrapper\u001b[0m\u001b[1;33m\u001b[0m\u001b[1;33m\u001b[0m\u001b[0m\n",
      "\u001b[1;32m~\\anaconda3\\lib\\site-packages\\pandas\\io\\parsers\\readers.py\u001b[0m in \u001b[0;36mread_csv\u001b[1;34m(filepath_or_buffer, sep, delimiter, header, names, index_col, usecols, squeeze, prefix, mangle_dupe_cols, dtype, engine, converters, true_values, false_values, skipinitialspace, skiprows, skipfooter, nrows, na_values, keep_default_na, na_filter, verbose, skip_blank_lines, parse_dates, infer_datetime_format, keep_date_col, date_parser, dayfirst, cache_dates, iterator, chunksize, compression, thousands, decimal, lineterminator, quotechar, quoting, doublequote, escapechar, comment, encoding, encoding_errors, dialect, error_bad_lines, warn_bad_lines, on_bad_lines, delim_whitespace, low_memory, memory_map, float_precision, storage_options)\u001b[0m\n\u001b[0;32m    676\u001b[0m     \u001b[0mkwds\u001b[0m\u001b[1;33m.\u001b[0m\u001b[0mupdate\u001b[0m\u001b[1;33m(\u001b[0m\u001b[0mkwds_defaults\u001b[0m\u001b[1;33m)\u001b[0m\u001b[1;33m\u001b[0m\u001b[1;33m\u001b[0m\u001b[0m\n\u001b[0;32m    677\u001b[0m \u001b[1;33m\u001b[0m\u001b[0m\n\u001b[1;32m--> 678\u001b[1;33m     \u001b[1;32mreturn\u001b[0m \u001b[0m_read\u001b[0m\u001b[1;33m(\u001b[0m\u001b[0mfilepath_or_buffer\u001b[0m\u001b[1;33m,\u001b[0m \u001b[0mkwds\u001b[0m\u001b[1;33m)\u001b[0m\u001b[1;33m\u001b[0m\u001b[1;33m\u001b[0m\u001b[0m\n\u001b[0m\u001b[0;32m    679\u001b[0m \u001b[1;33m\u001b[0m\u001b[0m\n\u001b[0;32m    680\u001b[0m \u001b[1;33m\u001b[0m\u001b[0m\n",
      "\u001b[1;32m~\\anaconda3\\lib\\site-packages\\pandas\\io\\parsers\\readers.py\u001b[0m in \u001b[0;36m_read\u001b[1;34m(filepath_or_buffer, kwds)\u001b[0m\n\u001b[0;32m    573\u001b[0m \u001b[1;33m\u001b[0m\u001b[0m\n\u001b[0;32m    574\u001b[0m     \u001b[1;31m# Create the parser.\u001b[0m\u001b[1;33m\u001b[0m\u001b[1;33m\u001b[0m\u001b[0m\n\u001b[1;32m--> 575\u001b[1;33m     \u001b[0mparser\u001b[0m \u001b[1;33m=\u001b[0m \u001b[0mTextFileReader\u001b[0m\u001b[1;33m(\u001b[0m\u001b[0mfilepath_or_buffer\u001b[0m\u001b[1;33m,\u001b[0m \u001b[1;33m**\u001b[0m\u001b[0mkwds\u001b[0m\u001b[1;33m)\u001b[0m\u001b[1;33m\u001b[0m\u001b[1;33m\u001b[0m\u001b[0m\n\u001b[0m\u001b[0;32m    576\u001b[0m \u001b[1;33m\u001b[0m\u001b[0m\n\u001b[0;32m    577\u001b[0m     \u001b[1;32mif\u001b[0m \u001b[0mchunksize\u001b[0m \u001b[1;32mor\u001b[0m \u001b[0miterator\u001b[0m\u001b[1;33m:\u001b[0m\u001b[1;33m\u001b[0m\u001b[1;33m\u001b[0m\u001b[0m\n",
      "\u001b[1;32m~\\anaconda3\\lib\\site-packages\\pandas\\io\\parsers\\readers.py\u001b[0m in \u001b[0;36m__init__\u001b[1;34m(self, f, engine, **kwds)\u001b[0m\n\u001b[0;32m    930\u001b[0m \u001b[1;33m\u001b[0m\u001b[0m\n\u001b[0;32m    931\u001b[0m         \u001b[0mself\u001b[0m\u001b[1;33m.\u001b[0m\u001b[0mhandles\u001b[0m\u001b[1;33m:\u001b[0m \u001b[0mIOHandles\u001b[0m \u001b[1;33m|\u001b[0m \u001b[1;32mNone\u001b[0m \u001b[1;33m=\u001b[0m \u001b[1;32mNone\u001b[0m\u001b[1;33m\u001b[0m\u001b[1;33m\u001b[0m\u001b[0m\n\u001b[1;32m--> 932\u001b[1;33m         \u001b[0mself\u001b[0m\u001b[1;33m.\u001b[0m\u001b[0m_engine\u001b[0m \u001b[1;33m=\u001b[0m \u001b[0mself\u001b[0m\u001b[1;33m.\u001b[0m\u001b[0m_make_engine\u001b[0m\u001b[1;33m(\u001b[0m\u001b[0mf\u001b[0m\u001b[1;33m,\u001b[0m \u001b[0mself\u001b[0m\u001b[1;33m.\u001b[0m\u001b[0mengine\u001b[0m\u001b[1;33m)\u001b[0m\u001b[1;33m\u001b[0m\u001b[1;33m\u001b[0m\u001b[0m\n\u001b[0m\u001b[0;32m    933\u001b[0m \u001b[1;33m\u001b[0m\u001b[0m\n\u001b[0;32m    934\u001b[0m     \u001b[1;32mdef\u001b[0m \u001b[0mclose\u001b[0m\u001b[1;33m(\u001b[0m\u001b[0mself\u001b[0m\u001b[1;33m)\u001b[0m\u001b[1;33m:\u001b[0m\u001b[1;33m\u001b[0m\u001b[1;33m\u001b[0m\u001b[0m\n",
      "\u001b[1;32m~\\anaconda3\\lib\\site-packages\\pandas\\io\\parsers\\readers.py\u001b[0m in \u001b[0;36m_make_engine\u001b[1;34m(self, f, engine)\u001b[0m\n\u001b[0;32m   1214\u001b[0m             \u001b[1;31m# \"Union[str, PathLike[str], ReadCsvBuffer[bytes], ReadCsvBuffer[str]]\"\u001b[0m\u001b[1;33m\u001b[0m\u001b[1;33m\u001b[0m\u001b[0m\n\u001b[0;32m   1215\u001b[0m             \u001b[1;31m# , \"str\", \"bool\", \"Any\", \"Any\", \"Any\", \"Any\", \"Any\"\u001b[0m\u001b[1;33m\u001b[0m\u001b[1;33m\u001b[0m\u001b[0m\n\u001b[1;32m-> 1216\u001b[1;33m             self.handles = get_handle(  # type: ignore[call-overload]\n\u001b[0m\u001b[0;32m   1217\u001b[0m                 \u001b[0mf\u001b[0m\u001b[1;33m,\u001b[0m\u001b[1;33m\u001b[0m\u001b[1;33m\u001b[0m\u001b[0m\n\u001b[0;32m   1218\u001b[0m                 \u001b[0mmode\u001b[0m\u001b[1;33m,\u001b[0m\u001b[1;33m\u001b[0m\u001b[1;33m\u001b[0m\u001b[0m\n",
      "\u001b[1;32m~\\anaconda3\\lib\\site-packages\\pandas\\io\\common.py\u001b[0m in \u001b[0;36mget_handle\u001b[1;34m(path_or_buf, mode, encoding, compression, memory_map, is_text, errors, storage_options)\u001b[0m\n\u001b[0;32m    784\u001b[0m         \u001b[1;32mif\u001b[0m \u001b[0mioargs\u001b[0m\u001b[1;33m.\u001b[0m\u001b[0mencoding\u001b[0m \u001b[1;32mand\u001b[0m \u001b[1;34m\"b\"\u001b[0m \u001b[1;32mnot\u001b[0m \u001b[1;32min\u001b[0m \u001b[0mioargs\u001b[0m\u001b[1;33m.\u001b[0m\u001b[0mmode\u001b[0m\u001b[1;33m:\u001b[0m\u001b[1;33m\u001b[0m\u001b[1;33m\u001b[0m\u001b[0m\n\u001b[0;32m    785\u001b[0m             \u001b[1;31m# Encoding\u001b[0m\u001b[1;33m\u001b[0m\u001b[1;33m\u001b[0m\u001b[0m\n\u001b[1;32m--> 786\u001b[1;33m             handle = open(\n\u001b[0m\u001b[0;32m    787\u001b[0m                 \u001b[0mhandle\u001b[0m\u001b[1;33m,\u001b[0m\u001b[1;33m\u001b[0m\u001b[1;33m\u001b[0m\u001b[0m\n\u001b[0;32m    788\u001b[0m                 \u001b[0mioargs\u001b[0m\u001b[1;33m.\u001b[0m\u001b[0mmode\u001b[0m\u001b[1;33m,\u001b[0m\u001b[1;33m\u001b[0m\u001b[1;33m\u001b[0m\u001b[0m\n",
      "\u001b[1;31mFileNotFoundError\u001b[0m: [Errno 2] No such file or directory: 'FAOSTAT\\\\land-temp.csv'"
     ]
    }
   ],
   "source": [
    "df15 = pd.read_csv('FAOSTAT\\land-temp.csv', on_bad_lines='skip')\n",
    "# # msno.matrix(df15)  # ppi is dimensionless so NaN for units is not an issue\n",
    "df15= df15[(df15['Area'].isin(EUROPEAN_UNION.names))] #EU only\n",
    "df15['Key'] = df15['Area'] + df15['Year'].astype(str) # add a merging key\n",
    "# df15 # take a quick look\n",
    "df15['Tem kha'] = (df15['Value'] ).astype(int)\n",
    "# \n",
    "\n",
    "# print(df15['Tem kha'].unique())  # No NaNs!"
   ]
  },
  {
   "cell_type": "code",
   "execution_count": 135,
   "metadata": {},
   "outputs": [
    {
     "ename": "NameError",
     "evalue": "name 'df15' is not defined",
     "output_type": "error",
     "traceback": [
      "\u001b[1;31m---------------------------------------------------------------------------\u001b[0m",
      "\u001b[1;31mNameError\u001b[0m                                 Traceback (most recent call last)",
      "\u001b[1;32m~\\AppData\\Local\\Temp\\ipykernel_7340\\280336476.py\u001b[0m in \u001b[0;36m<module>\u001b[1;34m\u001b[0m\n\u001b[1;32m----> 1\u001b[1;33m \u001b[0mdf15\u001b[0m\u001b[1;33m\u001b[0m\u001b[1;33m\u001b[0m\u001b[0m\n\u001b[0m",
      "\u001b[1;31mNameError\u001b[0m: name 'df15' is not defined"
     ]
    }
   ],
   "source": [
    "df15"
   ]
  },
  {
   "cell_type": "code",
   "execution_count": 136,
   "metadata": {},
   "outputs": [
    {
     "ename": "NameError",
     "evalue": "name 'df14' is not defined",
     "output_type": "error",
     "traceback": [
      "\u001b[1;31m---------------------------------------------------------------------------\u001b[0m",
      "\u001b[1;31mNameError\u001b[0m                                 Traceback (most recent call last)",
      "\u001b[1;32m~\\AppData\\Local\\Temp\\ipykernel_7340\\2019435931.py\u001b[0m in \u001b[0;36m<module>\u001b[1;34m\u001b[0m\n\u001b[1;32m----> 1\u001b[1;33m \u001b[0mdf16\u001b[0m \u001b[1;33m=\u001b[0m \u001b[0mdf14\u001b[0m\u001b[1;33m.\u001b[0m\u001b[0mmerge\u001b[0m\u001b[1;33m(\u001b[0m\u001b[0mdf15\u001b[0m\u001b[1;33m[\u001b[0m\u001b[1;33m[\u001b[0m\u001b[1;34m'Key'\u001b[0m\u001b[1;33m,\u001b[0m \u001b[1;34m'Tem kha'\u001b[0m\u001b[1;33m]\u001b[0m\u001b[1;33m]\u001b[0m\u001b[1;33m,\u001b[0m \u001b[0mon\u001b[0m\u001b[1;33m=\u001b[0m\u001b[1;34m'Key'\u001b[0m\u001b[1;33m)\u001b[0m\u001b[1;33m\u001b[0m\u001b[1;33m\u001b[0m\u001b[0m\n\u001b[0m\u001b[0;32m      2\u001b[0m \u001b[0mdf16\u001b[0m\u001b[1;33m.\u001b[0m\u001b[0mhead\u001b[0m\u001b[1;33m(\u001b[0m\u001b[1;33m)\u001b[0m\u001b[1;33m\u001b[0m\u001b[1;33m\u001b[0m\u001b[0m\n",
      "\u001b[1;31mNameError\u001b[0m: name 'df14' is not defined"
     ]
    }
   ],
   "source": [
    "df16 = df14.merge(df15[['Key', 'Tem kha']], on='Key')\n",
    "df16.head()"
   ]
  },
  {
   "cell_type": "code",
   "execution_count": 137,
   "metadata": {},
   "outputs": [
    {
     "ename": "NameError",
     "evalue": "name 'df16' is not defined",
     "output_type": "error",
     "traceback": [
      "\u001b[1;31m---------------------------------------------------------------------------\u001b[0m",
      "\u001b[1;31mNameError\u001b[0m                                 Traceback (most recent call last)",
      "\u001b[1;32m~\\AppData\\Local\\Temp\\ipykernel_7340\\3235450460.py\u001b[0m in \u001b[0;36m<module>\u001b[1;34m\u001b[0m\n\u001b[0;32m      1\u001b[0m \u001b[0mplt\u001b[0m\u001b[1;33m.\u001b[0m\u001b[0mfigure\u001b[0m\u001b[1;33m(\u001b[0m\u001b[0mfigsize\u001b[0m\u001b[1;33m=\u001b[0m\u001b[1;33m(\u001b[0m\u001b[1;36m10\u001b[0m\u001b[1;33m,\u001b[0m \u001b[1;36m6\u001b[0m\u001b[1;33m)\u001b[0m\u001b[1;33m)\u001b[0m\u001b[1;33m\u001b[0m\u001b[1;33m\u001b[0m\u001b[0m\n\u001b[1;32m----> 2\u001b[1;33m \u001b[0msns\u001b[0m\u001b[1;33m.\u001b[0m\u001b[0mdisplot\u001b[0m\u001b[1;33m(\u001b[0m\u001b[0mdf16\u001b[0m\u001b[1;33m,\u001b[0m \u001b[0mx\u001b[0m\u001b[1;33m=\u001b[0m\u001b[1;34m\"Tem kha\"\u001b[0m\u001b[1;33m)\u001b[0m\u001b[1;33m\u001b[0m\u001b[1;33m\u001b[0m\u001b[0m\n\u001b[0m\u001b[0;32m      3\u001b[0m \u001b[0mplt\u001b[0m\u001b[1;33m.\u001b[0m\u001b[0mshow\u001b[0m\u001b[1;33m(\u001b[0m\u001b[1;33m)\u001b[0m\u001b[1;33m\u001b[0m\u001b[1;33m\u001b[0m\u001b[0m\n",
      "\u001b[1;31mNameError\u001b[0m: name 'df16' is not defined"
     ]
    },
    {
     "data": {
      "text/plain": [
       "<Figure size 1000x600 with 0 Axes>"
      ]
     },
     "metadata": {},
     "output_type": "display_data"
    }
   ],
   "source": [
    "plt.figure(figsize=(10, 6))\n",
    "sns.displot(df16, x=\"Tem kha\")\n",
    "plt.show()"
   ]
  },
  {
   "cell_type": "code",
   "execution_count": 138,
   "metadata": {},
   "outputs": [
    {
     "ename": "FileNotFoundError",
     "evalue": "[Errno 2] No such file or directory: 'FAOSTAT\\\\land-perm.csv'",
     "output_type": "error",
     "traceback": [
      "\u001b[1;31m---------------------------------------------------------------------------\u001b[0m",
      "\u001b[1;31mFileNotFoundError\u001b[0m                         Traceback (most recent call last)",
      "\u001b[1;32m~\\AppData\\Local\\Temp\\ipykernel_7340\\2720571686.py\u001b[0m in \u001b[0;36m<module>\u001b[1;34m\u001b[0m\n\u001b[1;32m----> 1\u001b[1;33m \u001b[0mdf17\u001b[0m \u001b[1;33m=\u001b[0m \u001b[0mpd\u001b[0m\u001b[1;33m.\u001b[0m\u001b[0mread_csv\u001b[0m\u001b[1;33m(\u001b[0m\u001b[1;34m'FAOSTAT\\land-perm.csv'\u001b[0m\u001b[1;33m,\u001b[0m \u001b[0mon_bad_lines\u001b[0m\u001b[1;33m=\u001b[0m\u001b[1;34m'skip'\u001b[0m\u001b[1;33m)\u001b[0m\u001b[1;33m\u001b[0m\u001b[1;33m\u001b[0m\u001b[0m\n\u001b[0m\u001b[0;32m      2\u001b[0m \u001b[1;31m# # msno.matrix(df17)  # ppi is dimensionless so NaN for units is not an issue\u001b[0m\u001b[1;33m\u001b[0m\u001b[1;33m\u001b[0m\u001b[0m\n\u001b[0;32m      3\u001b[0m \u001b[0mdf17\u001b[0m\u001b[1;33m=\u001b[0m \u001b[0mdf17\u001b[0m\u001b[1;33m[\u001b[0m\u001b[1;33m(\u001b[0m\u001b[0mdf17\u001b[0m\u001b[1;33m[\u001b[0m\u001b[1;34m'Area'\u001b[0m\u001b[1;33m]\u001b[0m\u001b[1;33m.\u001b[0m\u001b[0misin\u001b[0m\u001b[1;33m(\u001b[0m\u001b[0mEUROPEAN_UNION\u001b[0m\u001b[1;33m.\u001b[0m\u001b[0mnames\u001b[0m\u001b[1;33m)\u001b[0m\u001b[1;33m)\u001b[0m\u001b[1;33m]\u001b[0m \u001b[1;31m#EU only\u001b[0m\u001b[1;33m\u001b[0m\u001b[1;33m\u001b[0m\u001b[0m\n\u001b[0;32m      4\u001b[0m \u001b[0mdf17\u001b[0m\u001b[1;33m[\u001b[0m\u001b[1;34m'Key'\u001b[0m\u001b[1;33m]\u001b[0m \u001b[1;33m=\u001b[0m \u001b[0mdf17\u001b[0m\u001b[1;33m[\u001b[0m\u001b[1;34m'Area'\u001b[0m\u001b[1;33m]\u001b[0m \u001b[1;33m+\u001b[0m \u001b[0mdf17\u001b[0m\u001b[1;33m[\u001b[0m\u001b[1;34m'Year'\u001b[0m\u001b[1;33m]\u001b[0m\u001b[1;33m.\u001b[0m\u001b[0mastype\u001b[0m\u001b[1;33m(\u001b[0m\u001b[0mstr\u001b[0m\u001b[1;33m)\u001b[0m \u001b[1;31m# add a merging key\u001b[0m\u001b[1;33m\u001b[0m\u001b[1;33m\u001b[0m\u001b[0m\n\u001b[0;32m      5\u001b[0m \u001b[0mdf17\u001b[0m\u001b[1;33m[\u001b[0m\u001b[1;34m'Per kha'\u001b[0m\u001b[1;33m]\u001b[0m \u001b[1;33m=\u001b[0m \u001b[1;33m(\u001b[0m\u001b[0mdf17\u001b[0m\u001b[1;33m[\u001b[0m\u001b[1;34m'Value'\u001b[0m\u001b[1;33m]\u001b[0m \u001b[1;33m)\u001b[0m\u001b[1;33m.\u001b[0m\u001b[0mastype\u001b[0m\u001b[1;33m(\u001b[0m\u001b[0mint\u001b[0m\u001b[1;33m)\u001b[0m\u001b[1;33m\u001b[0m\u001b[1;33m\u001b[0m\u001b[0m\n",
      "\u001b[1;32m~\\anaconda3\\lib\\site-packages\\pandas\\util\\_decorators.py\u001b[0m in \u001b[0;36mwrapper\u001b[1;34m(*args, **kwargs)\u001b[0m\n\u001b[0;32m    309\u001b[0m                     \u001b[0mstacklevel\u001b[0m\u001b[1;33m=\u001b[0m\u001b[0mstacklevel\u001b[0m\u001b[1;33m,\u001b[0m\u001b[1;33m\u001b[0m\u001b[1;33m\u001b[0m\u001b[0m\n\u001b[0;32m    310\u001b[0m                 )\n\u001b[1;32m--> 311\u001b[1;33m             \u001b[1;32mreturn\u001b[0m \u001b[0mfunc\u001b[0m\u001b[1;33m(\u001b[0m\u001b[1;33m*\u001b[0m\u001b[0margs\u001b[0m\u001b[1;33m,\u001b[0m \u001b[1;33m**\u001b[0m\u001b[0mkwargs\u001b[0m\u001b[1;33m)\u001b[0m\u001b[1;33m\u001b[0m\u001b[1;33m\u001b[0m\u001b[0m\n\u001b[0m\u001b[0;32m    312\u001b[0m \u001b[1;33m\u001b[0m\u001b[0m\n\u001b[0;32m    313\u001b[0m         \u001b[1;32mreturn\u001b[0m \u001b[0mwrapper\u001b[0m\u001b[1;33m\u001b[0m\u001b[1;33m\u001b[0m\u001b[0m\n",
      "\u001b[1;32m~\\anaconda3\\lib\\site-packages\\pandas\\io\\parsers\\readers.py\u001b[0m in \u001b[0;36mread_csv\u001b[1;34m(filepath_or_buffer, sep, delimiter, header, names, index_col, usecols, squeeze, prefix, mangle_dupe_cols, dtype, engine, converters, true_values, false_values, skipinitialspace, skiprows, skipfooter, nrows, na_values, keep_default_na, na_filter, verbose, skip_blank_lines, parse_dates, infer_datetime_format, keep_date_col, date_parser, dayfirst, cache_dates, iterator, chunksize, compression, thousands, decimal, lineterminator, quotechar, quoting, doublequote, escapechar, comment, encoding, encoding_errors, dialect, error_bad_lines, warn_bad_lines, on_bad_lines, delim_whitespace, low_memory, memory_map, float_precision, storage_options)\u001b[0m\n\u001b[0;32m    676\u001b[0m     \u001b[0mkwds\u001b[0m\u001b[1;33m.\u001b[0m\u001b[0mupdate\u001b[0m\u001b[1;33m(\u001b[0m\u001b[0mkwds_defaults\u001b[0m\u001b[1;33m)\u001b[0m\u001b[1;33m\u001b[0m\u001b[1;33m\u001b[0m\u001b[0m\n\u001b[0;32m    677\u001b[0m \u001b[1;33m\u001b[0m\u001b[0m\n\u001b[1;32m--> 678\u001b[1;33m     \u001b[1;32mreturn\u001b[0m \u001b[0m_read\u001b[0m\u001b[1;33m(\u001b[0m\u001b[0mfilepath_or_buffer\u001b[0m\u001b[1;33m,\u001b[0m \u001b[0mkwds\u001b[0m\u001b[1;33m)\u001b[0m\u001b[1;33m\u001b[0m\u001b[1;33m\u001b[0m\u001b[0m\n\u001b[0m\u001b[0;32m    679\u001b[0m \u001b[1;33m\u001b[0m\u001b[0m\n\u001b[0;32m    680\u001b[0m \u001b[1;33m\u001b[0m\u001b[0m\n",
      "\u001b[1;32m~\\anaconda3\\lib\\site-packages\\pandas\\io\\parsers\\readers.py\u001b[0m in \u001b[0;36m_read\u001b[1;34m(filepath_or_buffer, kwds)\u001b[0m\n\u001b[0;32m    573\u001b[0m \u001b[1;33m\u001b[0m\u001b[0m\n\u001b[0;32m    574\u001b[0m     \u001b[1;31m# Create the parser.\u001b[0m\u001b[1;33m\u001b[0m\u001b[1;33m\u001b[0m\u001b[0m\n\u001b[1;32m--> 575\u001b[1;33m     \u001b[0mparser\u001b[0m \u001b[1;33m=\u001b[0m \u001b[0mTextFileReader\u001b[0m\u001b[1;33m(\u001b[0m\u001b[0mfilepath_or_buffer\u001b[0m\u001b[1;33m,\u001b[0m \u001b[1;33m**\u001b[0m\u001b[0mkwds\u001b[0m\u001b[1;33m)\u001b[0m\u001b[1;33m\u001b[0m\u001b[1;33m\u001b[0m\u001b[0m\n\u001b[0m\u001b[0;32m    576\u001b[0m \u001b[1;33m\u001b[0m\u001b[0m\n\u001b[0;32m    577\u001b[0m     \u001b[1;32mif\u001b[0m \u001b[0mchunksize\u001b[0m \u001b[1;32mor\u001b[0m \u001b[0miterator\u001b[0m\u001b[1;33m:\u001b[0m\u001b[1;33m\u001b[0m\u001b[1;33m\u001b[0m\u001b[0m\n",
      "\u001b[1;32m~\\anaconda3\\lib\\site-packages\\pandas\\io\\parsers\\readers.py\u001b[0m in \u001b[0;36m__init__\u001b[1;34m(self, f, engine, **kwds)\u001b[0m\n\u001b[0;32m    930\u001b[0m \u001b[1;33m\u001b[0m\u001b[0m\n\u001b[0;32m    931\u001b[0m         \u001b[0mself\u001b[0m\u001b[1;33m.\u001b[0m\u001b[0mhandles\u001b[0m\u001b[1;33m:\u001b[0m \u001b[0mIOHandles\u001b[0m \u001b[1;33m|\u001b[0m \u001b[1;32mNone\u001b[0m \u001b[1;33m=\u001b[0m \u001b[1;32mNone\u001b[0m\u001b[1;33m\u001b[0m\u001b[1;33m\u001b[0m\u001b[0m\n\u001b[1;32m--> 932\u001b[1;33m         \u001b[0mself\u001b[0m\u001b[1;33m.\u001b[0m\u001b[0m_engine\u001b[0m \u001b[1;33m=\u001b[0m \u001b[0mself\u001b[0m\u001b[1;33m.\u001b[0m\u001b[0m_make_engine\u001b[0m\u001b[1;33m(\u001b[0m\u001b[0mf\u001b[0m\u001b[1;33m,\u001b[0m \u001b[0mself\u001b[0m\u001b[1;33m.\u001b[0m\u001b[0mengine\u001b[0m\u001b[1;33m)\u001b[0m\u001b[1;33m\u001b[0m\u001b[1;33m\u001b[0m\u001b[0m\n\u001b[0m\u001b[0;32m    933\u001b[0m \u001b[1;33m\u001b[0m\u001b[0m\n\u001b[0;32m    934\u001b[0m     \u001b[1;32mdef\u001b[0m \u001b[0mclose\u001b[0m\u001b[1;33m(\u001b[0m\u001b[0mself\u001b[0m\u001b[1;33m)\u001b[0m\u001b[1;33m:\u001b[0m\u001b[1;33m\u001b[0m\u001b[1;33m\u001b[0m\u001b[0m\n",
      "\u001b[1;32m~\\anaconda3\\lib\\site-packages\\pandas\\io\\parsers\\readers.py\u001b[0m in \u001b[0;36m_make_engine\u001b[1;34m(self, f, engine)\u001b[0m\n\u001b[0;32m   1214\u001b[0m             \u001b[1;31m# \"Union[str, PathLike[str], ReadCsvBuffer[bytes], ReadCsvBuffer[str]]\"\u001b[0m\u001b[1;33m\u001b[0m\u001b[1;33m\u001b[0m\u001b[0m\n\u001b[0;32m   1215\u001b[0m             \u001b[1;31m# , \"str\", \"bool\", \"Any\", \"Any\", \"Any\", \"Any\", \"Any\"\u001b[0m\u001b[1;33m\u001b[0m\u001b[1;33m\u001b[0m\u001b[0m\n\u001b[1;32m-> 1216\u001b[1;33m             self.handles = get_handle(  # type: ignore[call-overload]\n\u001b[0m\u001b[0;32m   1217\u001b[0m                 \u001b[0mf\u001b[0m\u001b[1;33m,\u001b[0m\u001b[1;33m\u001b[0m\u001b[1;33m\u001b[0m\u001b[0m\n\u001b[0;32m   1218\u001b[0m                 \u001b[0mmode\u001b[0m\u001b[1;33m,\u001b[0m\u001b[1;33m\u001b[0m\u001b[1;33m\u001b[0m\u001b[0m\n",
      "\u001b[1;32m~\\anaconda3\\lib\\site-packages\\pandas\\io\\common.py\u001b[0m in \u001b[0;36mget_handle\u001b[1;34m(path_or_buf, mode, encoding, compression, memory_map, is_text, errors, storage_options)\u001b[0m\n\u001b[0;32m    784\u001b[0m         \u001b[1;32mif\u001b[0m \u001b[0mioargs\u001b[0m\u001b[1;33m.\u001b[0m\u001b[0mencoding\u001b[0m \u001b[1;32mand\u001b[0m \u001b[1;34m\"b\"\u001b[0m \u001b[1;32mnot\u001b[0m \u001b[1;32min\u001b[0m \u001b[0mioargs\u001b[0m\u001b[1;33m.\u001b[0m\u001b[0mmode\u001b[0m\u001b[1;33m:\u001b[0m\u001b[1;33m\u001b[0m\u001b[1;33m\u001b[0m\u001b[0m\n\u001b[0;32m    785\u001b[0m             \u001b[1;31m# Encoding\u001b[0m\u001b[1;33m\u001b[0m\u001b[1;33m\u001b[0m\u001b[0m\n\u001b[1;32m--> 786\u001b[1;33m             handle = open(\n\u001b[0m\u001b[0;32m    787\u001b[0m                 \u001b[0mhandle\u001b[0m\u001b[1;33m,\u001b[0m\u001b[1;33m\u001b[0m\u001b[1;33m\u001b[0m\u001b[0m\n\u001b[0;32m    788\u001b[0m                 \u001b[0mioargs\u001b[0m\u001b[1;33m.\u001b[0m\u001b[0mmode\u001b[0m\u001b[1;33m,\u001b[0m\u001b[1;33m\u001b[0m\u001b[1;33m\u001b[0m\u001b[0m\n",
      "\u001b[1;31mFileNotFoundError\u001b[0m: [Errno 2] No such file or directory: 'FAOSTAT\\\\land-perm.csv'"
     ]
    }
   ],
   "source": [
    "df17 = pd.read_csv('FAOSTAT\\land-perm.csv', on_bad_lines='skip')\n",
    "# # msno.matrix(df17)  # ppi is dimensionless so NaN for units is not an issue\n",
    "df17= df17[(df17['Area'].isin(EUROPEAN_UNION.names))] #EU only\n",
    "df17['Key'] = df17['Area'] + df17['Year'].astype(str) # add a merging key\n",
    "df17['Per kha'] = (df17['Value'] ).astype(int)\n",
    "# df17 # take a look\n",
    "df18 = df16.merge(df17[['Key', 'Per kha']], on='Key')\n",
    "df18.head()\n",
    "msno.matrix(df18)  # When uncommented indicates no missing data "
   ]
  },
  {
   "cell_type": "code",
   "execution_count": 139,
   "metadata": {
    "scrolled": true
   },
   "outputs": [
    {
     "ename": "FileNotFoundError",
     "evalue": "[Errno 2] No such file or directory: 'FAOSTAT\\\\land-agri.csv'",
     "output_type": "error",
     "traceback": [
      "\u001b[1;31m---------------------------------------------------------------------------\u001b[0m",
      "\u001b[1;31mFileNotFoundError\u001b[0m                         Traceback (most recent call last)",
      "\u001b[1;32m~\\AppData\\Local\\Temp\\ipykernel_7340\\680821251.py\u001b[0m in \u001b[0;36m<module>\u001b[1;34m\u001b[0m\n\u001b[1;32m----> 1\u001b[1;33m \u001b[0mdf19\u001b[0m \u001b[1;33m=\u001b[0m \u001b[0mpd\u001b[0m\u001b[1;33m.\u001b[0m\u001b[0mread_csv\u001b[0m\u001b[1;33m(\u001b[0m\u001b[1;34m'FAOSTAT\\land-agri.csv'\u001b[0m\u001b[1;33m,\u001b[0m \u001b[0mon_bad_lines\u001b[0m\u001b[1;33m=\u001b[0m\u001b[1;34m'skip'\u001b[0m\u001b[1;33m)\u001b[0m\u001b[1;33m\u001b[0m\u001b[1;33m\u001b[0m\u001b[0m\n\u001b[0m\u001b[0;32m      2\u001b[0m \u001b[1;31m# # msno.matrix(df19)  # ppi is dimensionless so NaN for units is not an issue\u001b[0m\u001b[1;33m\u001b[0m\u001b[1;33m\u001b[0m\u001b[0m\n\u001b[0;32m      3\u001b[0m \u001b[0mdf19\u001b[0m\u001b[1;33m=\u001b[0m \u001b[0mdf19\u001b[0m\u001b[1;33m[\u001b[0m\u001b[1;33m(\u001b[0m\u001b[0mdf19\u001b[0m\u001b[1;33m[\u001b[0m\u001b[1;34m'Area'\u001b[0m\u001b[1;33m]\u001b[0m\u001b[1;33m.\u001b[0m\u001b[0misin\u001b[0m\u001b[1;33m(\u001b[0m\u001b[0mEUROPEAN_UNION\u001b[0m\u001b[1;33m.\u001b[0m\u001b[0mnames\u001b[0m\u001b[1;33m)\u001b[0m\u001b[1;33m)\u001b[0m\u001b[1;33m]\u001b[0m \u001b[1;31m#EU only\u001b[0m\u001b[1;33m\u001b[0m\u001b[1;33m\u001b[0m\u001b[0m\n\u001b[0;32m      4\u001b[0m \u001b[0mdf19\u001b[0m\u001b[1;33m[\u001b[0m\u001b[1;34m'Key'\u001b[0m\u001b[1;33m]\u001b[0m \u001b[1;33m=\u001b[0m \u001b[0mdf19\u001b[0m\u001b[1;33m[\u001b[0m\u001b[1;34m'Area'\u001b[0m\u001b[1;33m]\u001b[0m \u001b[1;33m+\u001b[0m \u001b[0mdf19\u001b[0m\u001b[1;33m[\u001b[0m\u001b[1;34m'Year'\u001b[0m\u001b[1;33m]\u001b[0m\u001b[1;33m.\u001b[0m\u001b[0mastype\u001b[0m\u001b[1;33m(\u001b[0m\u001b[0mstr\u001b[0m\u001b[1;33m)\u001b[0m \u001b[1;31m# add a merging key\u001b[0m\u001b[1;33m\u001b[0m\u001b[1;33m\u001b[0m\u001b[0m\n\u001b[0;32m      5\u001b[0m \u001b[0mdf19\u001b[0m\u001b[1;33m[\u001b[0m\u001b[1;34m'Ag_kha'\u001b[0m\u001b[1;33m]\u001b[0m \u001b[1;33m=\u001b[0m \u001b[1;33m(\u001b[0m\u001b[0mdf19\u001b[0m\u001b[1;33m[\u001b[0m\u001b[1;34m'Value'\u001b[0m\u001b[1;33m]\u001b[0m\u001b[1;33m)\u001b[0m\u001b[1;33m.\u001b[0m\u001b[0mastype\u001b[0m\u001b[1;33m(\u001b[0m\u001b[0mint\u001b[0m\u001b[1;33m)\u001b[0m\u001b[1;33m\u001b[0m\u001b[1;33m\u001b[0m\u001b[0m\n",
      "\u001b[1;32m~\\anaconda3\\lib\\site-packages\\pandas\\util\\_decorators.py\u001b[0m in \u001b[0;36mwrapper\u001b[1;34m(*args, **kwargs)\u001b[0m\n\u001b[0;32m    309\u001b[0m                     \u001b[0mstacklevel\u001b[0m\u001b[1;33m=\u001b[0m\u001b[0mstacklevel\u001b[0m\u001b[1;33m,\u001b[0m\u001b[1;33m\u001b[0m\u001b[1;33m\u001b[0m\u001b[0m\n\u001b[0;32m    310\u001b[0m                 )\n\u001b[1;32m--> 311\u001b[1;33m             \u001b[1;32mreturn\u001b[0m \u001b[0mfunc\u001b[0m\u001b[1;33m(\u001b[0m\u001b[1;33m*\u001b[0m\u001b[0margs\u001b[0m\u001b[1;33m,\u001b[0m \u001b[1;33m**\u001b[0m\u001b[0mkwargs\u001b[0m\u001b[1;33m)\u001b[0m\u001b[1;33m\u001b[0m\u001b[1;33m\u001b[0m\u001b[0m\n\u001b[0m\u001b[0;32m    312\u001b[0m \u001b[1;33m\u001b[0m\u001b[0m\n\u001b[0;32m    313\u001b[0m         \u001b[1;32mreturn\u001b[0m \u001b[0mwrapper\u001b[0m\u001b[1;33m\u001b[0m\u001b[1;33m\u001b[0m\u001b[0m\n",
      "\u001b[1;32m~\\anaconda3\\lib\\site-packages\\pandas\\io\\parsers\\readers.py\u001b[0m in \u001b[0;36mread_csv\u001b[1;34m(filepath_or_buffer, sep, delimiter, header, names, index_col, usecols, squeeze, prefix, mangle_dupe_cols, dtype, engine, converters, true_values, false_values, skipinitialspace, skiprows, skipfooter, nrows, na_values, keep_default_na, na_filter, verbose, skip_blank_lines, parse_dates, infer_datetime_format, keep_date_col, date_parser, dayfirst, cache_dates, iterator, chunksize, compression, thousands, decimal, lineterminator, quotechar, quoting, doublequote, escapechar, comment, encoding, encoding_errors, dialect, error_bad_lines, warn_bad_lines, on_bad_lines, delim_whitespace, low_memory, memory_map, float_precision, storage_options)\u001b[0m\n\u001b[0;32m    676\u001b[0m     \u001b[0mkwds\u001b[0m\u001b[1;33m.\u001b[0m\u001b[0mupdate\u001b[0m\u001b[1;33m(\u001b[0m\u001b[0mkwds_defaults\u001b[0m\u001b[1;33m)\u001b[0m\u001b[1;33m\u001b[0m\u001b[1;33m\u001b[0m\u001b[0m\n\u001b[0;32m    677\u001b[0m \u001b[1;33m\u001b[0m\u001b[0m\n\u001b[1;32m--> 678\u001b[1;33m     \u001b[1;32mreturn\u001b[0m \u001b[0m_read\u001b[0m\u001b[1;33m(\u001b[0m\u001b[0mfilepath_or_buffer\u001b[0m\u001b[1;33m,\u001b[0m \u001b[0mkwds\u001b[0m\u001b[1;33m)\u001b[0m\u001b[1;33m\u001b[0m\u001b[1;33m\u001b[0m\u001b[0m\n\u001b[0m\u001b[0;32m    679\u001b[0m \u001b[1;33m\u001b[0m\u001b[0m\n\u001b[0;32m    680\u001b[0m \u001b[1;33m\u001b[0m\u001b[0m\n",
      "\u001b[1;32m~\\anaconda3\\lib\\site-packages\\pandas\\io\\parsers\\readers.py\u001b[0m in \u001b[0;36m_read\u001b[1;34m(filepath_or_buffer, kwds)\u001b[0m\n\u001b[0;32m    573\u001b[0m \u001b[1;33m\u001b[0m\u001b[0m\n\u001b[0;32m    574\u001b[0m     \u001b[1;31m# Create the parser.\u001b[0m\u001b[1;33m\u001b[0m\u001b[1;33m\u001b[0m\u001b[0m\n\u001b[1;32m--> 575\u001b[1;33m     \u001b[0mparser\u001b[0m \u001b[1;33m=\u001b[0m \u001b[0mTextFileReader\u001b[0m\u001b[1;33m(\u001b[0m\u001b[0mfilepath_or_buffer\u001b[0m\u001b[1;33m,\u001b[0m \u001b[1;33m**\u001b[0m\u001b[0mkwds\u001b[0m\u001b[1;33m)\u001b[0m\u001b[1;33m\u001b[0m\u001b[1;33m\u001b[0m\u001b[0m\n\u001b[0m\u001b[0;32m    576\u001b[0m \u001b[1;33m\u001b[0m\u001b[0m\n\u001b[0;32m    577\u001b[0m     \u001b[1;32mif\u001b[0m \u001b[0mchunksize\u001b[0m \u001b[1;32mor\u001b[0m \u001b[0miterator\u001b[0m\u001b[1;33m:\u001b[0m\u001b[1;33m\u001b[0m\u001b[1;33m\u001b[0m\u001b[0m\n",
      "\u001b[1;32m~\\anaconda3\\lib\\site-packages\\pandas\\io\\parsers\\readers.py\u001b[0m in \u001b[0;36m__init__\u001b[1;34m(self, f, engine, **kwds)\u001b[0m\n\u001b[0;32m    930\u001b[0m \u001b[1;33m\u001b[0m\u001b[0m\n\u001b[0;32m    931\u001b[0m         \u001b[0mself\u001b[0m\u001b[1;33m.\u001b[0m\u001b[0mhandles\u001b[0m\u001b[1;33m:\u001b[0m \u001b[0mIOHandles\u001b[0m \u001b[1;33m|\u001b[0m \u001b[1;32mNone\u001b[0m \u001b[1;33m=\u001b[0m \u001b[1;32mNone\u001b[0m\u001b[1;33m\u001b[0m\u001b[1;33m\u001b[0m\u001b[0m\n\u001b[1;32m--> 932\u001b[1;33m         \u001b[0mself\u001b[0m\u001b[1;33m.\u001b[0m\u001b[0m_engine\u001b[0m \u001b[1;33m=\u001b[0m \u001b[0mself\u001b[0m\u001b[1;33m.\u001b[0m\u001b[0m_make_engine\u001b[0m\u001b[1;33m(\u001b[0m\u001b[0mf\u001b[0m\u001b[1;33m,\u001b[0m \u001b[0mself\u001b[0m\u001b[1;33m.\u001b[0m\u001b[0mengine\u001b[0m\u001b[1;33m)\u001b[0m\u001b[1;33m\u001b[0m\u001b[1;33m\u001b[0m\u001b[0m\n\u001b[0m\u001b[0;32m    933\u001b[0m \u001b[1;33m\u001b[0m\u001b[0m\n\u001b[0;32m    934\u001b[0m     \u001b[1;32mdef\u001b[0m \u001b[0mclose\u001b[0m\u001b[1;33m(\u001b[0m\u001b[0mself\u001b[0m\u001b[1;33m)\u001b[0m\u001b[1;33m:\u001b[0m\u001b[1;33m\u001b[0m\u001b[1;33m\u001b[0m\u001b[0m\n",
      "\u001b[1;32m~\\anaconda3\\lib\\site-packages\\pandas\\io\\parsers\\readers.py\u001b[0m in \u001b[0;36m_make_engine\u001b[1;34m(self, f, engine)\u001b[0m\n\u001b[0;32m   1214\u001b[0m             \u001b[1;31m# \"Union[str, PathLike[str], ReadCsvBuffer[bytes], ReadCsvBuffer[str]]\"\u001b[0m\u001b[1;33m\u001b[0m\u001b[1;33m\u001b[0m\u001b[0m\n\u001b[0;32m   1215\u001b[0m             \u001b[1;31m# , \"str\", \"bool\", \"Any\", \"Any\", \"Any\", \"Any\", \"Any\"\u001b[0m\u001b[1;33m\u001b[0m\u001b[1;33m\u001b[0m\u001b[0m\n\u001b[1;32m-> 1216\u001b[1;33m             self.handles = get_handle(  # type: ignore[call-overload]\n\u001b[0m\u001b[0;32m   1217\u001b[0m                 \u001b[0mf\u001b[0m\u001b[1;33m,\u001b[0m\u001b[1;33m\u001b[0m\u001b[1;33m\u001b[0m\u001b[0m\n\u001b[0;32m   1218\u001b[0m                 \u001b[0mmode\u001b[0m\u001b[1;33m,\u001b[0m\u001b[1;33m\u001b[0m\u001b[1;33m\u001b[0m\u001b[0m\n",
      "\u001b[1;32m~\\anaconda3\\lib\\site-packages\\pandas\\io\\common.py\u001b[0m in \u001b[0;36mget_handle\u001b[1;34m(path_or_buf, mode, encoding, compression, memory_map, is_text, errors, storage_options)\u001b[0m\n\u001b[0;32m    784\u001b[0m         \u001b[1;32mif\u001b[0m \u001b[0mioargs\u001b[0m\u001b[1;33m.\u001b[0m\u001b[0mencoding\u001b[0m \u001b[1;32mand\u001b[0m \u001b[1;34m\"b\"\u001b[0m \u001b[1;32mnot\u001b[0m \u001b[1;32min\u001b[0m \u001b[0mioargs\u001b[0m\u001b[1;33m.\u001b[0m\u001b[0mmode\u001b[0m\u001b[1;33m:\u001b[0m\u001b[1;33m\u001b[0m\u001b[1;33m\u001b[0m\u001b[0m\n\u001b[0;32m    785\u001b[0m             \u001b[1;31m# Encoding\u001b[0m\u001b[1;33m\u001b[0m\u001b[1;33m\u001b[0m\u001b[0m\n\u001b[1;32m--> 786\u001b[1;33m             handle = open(\n\u001b[0m\u001b[0;32m    787\u001b[0m                 \u001b[0mhandle\u001b[0m\u001b[1;33m,\u001b[0m\u001b[1;33m\u001b[0m\u001b[1;33m\u001b[0m\u001b[0m\n\u001b[0;32m    788\u001b[0m                 \u001b[0mioargs\u001b[0m\u001b[1;33m.\u001b[0m\u001b[0mmode\u001b[0m\u001b[1;33m,\u001b[0m\u001b[1;33m\u001b[0m\u001b[1;33m\u001b[0m\u001b[0m\n",
      "\u001b[1;31mFileNotFoundError\u001b[0m: [Errno 2] No such file or directory: 'FAOSTAT\\\\land-agri.csv'"
     ]
    }
   ],
   "source": [
    "df19 = pd.read_csv('FAOSTAT\\land-agri.csv', on_bad_lines='skip')\n",
    "# # msno.matrix(df19)  # ppi is dimensionless so NaN for units is not an issue\n",
    "df19= df19[(df19['Area'].isin(EUROPEAN_UNION.names))] #EU only\n",
    "df19['Key'] = df19['Area'] + df19['Year'].astype(str) # add a merging key\n",
    "df19['Ag_kha'] = (df19['Value']).astype(int)\n",
    "df20 = df18.merge(df19[['Key','Ag_kha']], on='Key')\n",
    "df20.head()\n",
    "# # msno.matrix(df20)  # When uncommented indicates no missing data "
   ]
  },
  {
   "cell_type": "code",
   "execution_count": 140,
   "metadata": {},
   "outputs": [
    {
     "ename": "NameError",
     "evalue": "name 'df20' is not defined",
     "output_type": "error",
     "traceback": [
      "\u001b[1;31m---------------------------------------------------------------------------\u001b[0m",
      "\u001b[1;31mNameError\u001b[0m                                 Traceback (most recent call last)",
      "\u001b[1;32m~\\AppData\\Local\\Temp\\ipykernel_7340\\1139023302.py\u001b[0m in \u001b[0;36m<module>\u001b[1;34m\u001b[0m\n\u001b[0;32m      1\u001b[0m \u001b[0mplt\u001b[0m\u001b[1;33m.\u001b[0m\u001b[0mfigure\u001b[0m\u001b[1;33m(\u001b[0m\u001b[0mfigsize\u001b[0m\u001b[1;33m=\u001b[0m\u001b[1;33m(\u001b[0m\u001b[1;36m10\u001b[0m\u001b[1;33m,\u001b[0m \u001b[1;36m6\u001b[0m\u001b[1;33m)\u001b[0m\u001b[1;33m)\u001b[0m\u001b[1;33m\u001b[0m\u001b[1;33m\u001b[0m\u001b[0m\n\u001b[1;32m----> 2\u001b[1;33m \u001b[0msns\u001b[0m\u001b[1;33m.\u001b[0m\u001b[0mdisplot\u001b[0m\u001b[1;33m(\u001b[0m\u001b[0mdf20\u001b[0m\u001b[1;33m,\u001b[0m \u001b[0mx\u001b[0m\u001b[1;33m=\u001b[0m\u001b[1;34m\"LSU/ha\"\u001b[0m\u001b[1;33m)\u001b[0m\u001b[1;33m\u001b[0m\u001b[1;33m\u001b[0m\u001b[0m\n\u001b[0m\u001b[0;32m      3\u001b[0m \u001b[0mplt\u001b[0m\u001b[1;33m.\u001b[0m\u001b[0mshow\u001b[0m\u001b[1;33m(\u001b[0m\u001b[1;33m)\u001b[0m\u001b[1;33m\u001b[0m\u001b[1;33m\u001b[0m\u001b[0m\n",
      "\u001b[1;31mNameError\u001b[0m: name 'df20' is not defined"
     ]
    },
    {
     "data": {
      "text/plain": [
       "<Figure size 1000x600 with 0 Axes>"
      ]
     },
     "metadata": {},
     "output_type": "display_data"
    }
   ],
   "source": [
    "plt.figure(figsize=(10, 6))\n",
    "sns.displot(df20, x=\"LSU/ha\")\n",
    "plt.show()"
   ]
  },
  {
   "cell_type": "code",
   "execution_count": 141,
   "metadata": {},
   "outputs": [
    {
     "ename": "FileNotFoundError",
     "evalue": "[Errno 2] No such file or directory: 'FAOSTAT\\\\import_value.csv'",
     "output_type": "error",
     "traceback": [
      "\u001b[1;31m---------------------------------------------------------------------------\u001b[0m",
      "\u001b[1;31mFileNotFoundError\u001b[0m                         Traceback (most recent call last)",
      "\u001b[1;32m~\\AppData\\Local\\Temp\\ipykernel_7340\\2016029695.py\u001b[0m in \u001b[0;36m<module>\u001b[1;34m\u001b[0m\n\u001b[1;32m----> 1\u001b[1;33m \u001b[0mdf21\u001b[0m \u001b[1;33m=\u001b[0m \u001b[0mpd\u001b[0m\u001b[1;33m.\u001b[0m\u001b[0mread_csv\u001b[0m\u001b[1;33m(\u001b[0m\u001b[1;34m'FAOSTAT\\import_value.csv'\u001b[0m\u001b[1;33m,\u001b[0m \u001b[0mon_bad_lines\u001b[0m\u001b[1;33m=\u001b[0m\u001b[1;34m'skip'\u001b[0m\u001b[1;33m)\u001b[0m\u001b[1;33m\u001b[0m\u001b[1;33m\u001b[0m\u001b[0m\n\u001b[0m\u001b[0;32m      2\u001b[0m \u001b[1;31m# # msno.matrix(df21)  # ppi is dimensionless so NaN for units is not an issue\u001b[0m\u001b[1;33m\u001b[0m\u001b[1;33m\u001b[0m\u001b[0m\n\u001b[0;32m      3\u001b[0m \u001b[0mdf21\u001b[0m\u001b[1;33m=\u001b[0m \u001b[0mdf21\u001b[0m\u001b[1;33m[\u001b[0m\u001b[1;33m(\u001b[0m\u001b[0mdf21\u001b[0m\u001b[1;33m[\u001b[0m\u001b[1;34m'Area'\u001b[0m\u001b[1;33m]\u001b[0m\u001b[1;33m.\u001b[0m\u001b[0misin\u001b[0m\u001b[1;33m(\u001b[0m\u001b[0mEUROPEAN_UNION\u001b[0m\u001b[1;33m.\u001b[0m\u001b[0mnames\u001b[0m\u001b[1;33m)\u001b[0m\u001b[1;33m)\u001b[0m\u001b[1;33m]\u001b[0m \u001b[1;31m#EU only\u001b[0m\u001b[1;33m\u001b[0m\u001b[1;33m\u001b[0m\u001b[0m\n\u001b[0;32m      4\u001b[0m \u001b[0mdf21\u001b[0m\u001b[1;33m[\u001b[0m\u001b[1;34m'Key'\u001b[0m\u001b[1;33m]\u001b[0m \u001b[1;33m=\u001b[0m \u001b[0mdf21\u001b[0m\u001b[1;33m[\u001b[0m\u001b[1;34m'Area'\u001b[0m\u001b[1;33m]\u001b[0m \u001b[1;33m+\u001b[0m \u001b[0mdf21\u001b[0m\u001b[1;33m[\u001b[0m\u001b[1;34m'Year'\u001b[0m\u001b[1;33m]\u001b[0m\u001b[1;33m.\u001b[0m\u001b[0mastype\u001b[0m\u001b[1;33m(\u001b[0m\u001b[0mstr\u001b[0m\u001b[1;33m)\u001b[0m \u001b[1;31m# add a merging key\u001b[0m\u001b[1;33m\u001b[0m\u001b[1;33m\u001b[0m\u001b[0m\n\u001b[0;32m      5\u001b[0m \u001b[0mdf21\u001b[0m\u001b[1;33m.\u001b[0m\u001b[0mrename\u001b[0m\u001b[1;33m(\u001b[0m\u001b[0mcolumns\u001b[0m \u001b[1;33m=\u001b[0m \u001b[1;33m{\u001b[0m\u001b[1;34m'Value'\u001b[0m\u001b[1;33m:\u001b[0m\u001b[1;34m'Imp$1000'\u001b[0m\u001b[1;33m}\u001b[0m\u001b[1;33m,\u001b[0m \u001b[0minplace\u001b[0m \u001b[1;33m=\u001b[0m \u001b[1;32mTrue\u001b[0m\u001b[1;33m)\u001b[0m\u001b[1;33m\u001b[0m\u001b[1;33m\u001b[0m\u001b[0m\n",
      "\u001b[1;32m~\\anaconda3\\lib\\site-packages\\pandas\\util\\_decorators.py\u001b[0m in \u001b[0;36mwrapper\u001b[1;34m(*args, **kwargs)\u001b[0m\n\u001b[0;32m    309\u001b[0m                     \u001b[0mstacklevel\u001b[0m\u001b[1;33m=\u001b[0m\u001b[0mstacklevel\u001b[0m\u001b[1;33m,\u001b[0m\u001b[1;33m\u001b[0m\u001b[1;33m\u001b[0m\u001b[0m\n\u001b[0;32m    310\u001b[0m                 )\n\u001b[1;32m--> 311\u001b[1;33m             \u001b[1;32mreturn\u001b[0m \u001b[0mfunc\u001b[0m\u001b[1;33m(\u001b[0m\u001b[1;33m*\u001b[0m\u001b[0margs\u001b[0m\u001b[1;33m,\u001b[0m \u001b[1;33m**\u001b[0m\u001b[0mkwargs\u001b[0m\u001b[1;33m)\u001b[0m\u001b[1;33m\u001b[0m\u001b[1;33m\u001b[0m\u001b[0m\n\u001b[0m\u001b[0;32m    312\u001b[0m \u001b[1;33m\u001b[0m\u001b[0m\n\u001b[0;32m    313\u001b[0m         \u001b[1;32mreturn\u001b[0m \u001b[0mwrapper\u001b[0m\u001b[1;33m\u001b[0m\u001b[1;33m\u001b[0m\u001b[0m\n",
      "\u001b[1;32m~\\anaconda3\\lib\\site-packages\\pandas\\io\\parsers\\readers.py\u001b[0m in \u001b[0;36mread_csv\u001b[1;34m(filepath_or_buffer, sep, delimiter, header, names, index_col, usecols, squeeze, prefix, mangle_dupe_cols, dtype, engine, converters, true_values, false_values, skipinitialspace, skiprows, skipfooter, nrows, na_values, keep_default_na, na_filter, verbose, skip_blank_lines, parse_dates, infer_datetime_format, keep_date_col, date_parser, dayfirst, cache_dates, iterator, chunksize, compression, thousands, decimal, lineterminator, quotechar, quoting, doublequote, escapechar, comment, encoding, encoding_errors, dialect, error_bad_lines, warn_bad_lines, on_bad_lines, delim_whitespace, low_memory, memory_map, float_precision, storage_options)\u001b[0m\n\u001b[0;32m    676\u001b[0m     \u001b[0mkwds\u001b[0m\u001b[1;33m.\u001b[0m\u001b[0mupdate\u001b[0m\u001b[1;33m(\u001b[0m\u001b[0mkwds_defaults\u001b[0m\u001b[1;33m)\u001b[0m\u001b[1;33m\u001b[0m\u001b[1;33m\u001b[0m\u001b[0m\n\u001b[0;32m    677\u001b[0m \u001b[1;33m\u001b[0m\u001b[0m\n\u001b[1;32m--> 678\u001b[1;33m     \u001b[1;32mreturn\u001b[0m \u001b[0m_read\u001b[0m\u001b[1;33m(\u001b[0m\u001b[0mfilepath_or_buffer\u001b[0m\u001b[1;33m,\u001b[0m \u001b[0mkwds\u001b[0m\u001b[1;33m)\u001b[0m\u001b[1;33m\u001b[0m\u001b[1;33m\u001b[0m\u001b[0m\n\u001b[0m\u001b[0;32m    679\u001b[0m \u001b[1;33m\u001b[0m\u001b[0m\n\u001b[0;32m    680\u001b[0m \u001b[1;33m\u001b[0m\u001b[0m\n",
      "\u001b[1;32m~\\anaconda3\\lib\\site-packages\\pandas\\io\\parsers\\readers.py\u001b[0m in \u001b[0;36m_read\u001b[1;34m(filepath_or_buffer, kwds)\u001b[0m\n\u001b[0;32m    573\u001b[0m \u001b[1;33m\u001b[0m\u001b[0m\n\u001b[0;32m    574\u001b[0m     \u001b[1;31m# Create the parser.\u001b[0m\u001b[1;33m\u001b[0m\u001b[1;33m\u001b[0m\u001b[0m\n\u001b[1;32m--> 575\u001b[1;33m     \u001b[0mparser\u001b[0m \u001b[1;33m=\u001b[0m \u001b[0mTextFileReader\u001b[0m\u001b[1;33m(\u001b[0m\u001b[0mfilepath_or_buffer\u001b[0m\u001b[1;33m,\u001b[0m \u001b[1;33m**\u001b[0m\u001b[0mkwds\u001b[0m\u001b[1;33m)\u001b[0m\u001b[1;33m\u001b[0m\u001b[1;33m\u001b[0m\u001b[0m\n\u001b[0m\u001b[0;32m    576\u001b[0m \u001b[1;33m\u001b[0m\u001b[0m\n\u001b[0;32m    577\u001b[0m     \u001b[1;32mif\u001b[0m \u001b[0mchunksize\u001b[0m \u001b[1;32mor\u001b[0m \u001b[0miterator\u001b[0m\u001b[1;33m:\u001b[0m\u001b[1;33m\u001b[0m\u001b[1;33m\u001b[0m\u001b[0m\n",
      "\u001b[1;32m~\\anaconda3\\lib\\site-packages\\pandas\\io\\parsers\\readers.py\u001b[0m in \u001b[0;36m__init__\u001b[1;34m(self, f, engine, **kwds)\u001b[0m\n\u001b[0;32m    930\u001b[0m \u001b[1;33m\u001b[0m\u001b[0m\n\u001b[0;32m    931\u001b[0m         \u001b[0mself\u001b[0m\u001b[1;33m.\u001b[0m\u001b[0mhandles\u001b[0m\u001b[1;33m:\u001b[0m \u001b[0mIOHandles\u001b[0m \u001b[1;33m|\u001b[0m \u001b[1;32mNone\u001b[0m \u001b[1;33m=\u001b[0m \u001b[1;32mNone\u001b[0m\u001b[1;33m\u001b[0m\u001b[1;33m\u001b[0m\u001b[0m\n\u001b[1;32m--> 932\u001b[1;33m         \u001b[0mself\u001b[0m\u001b[1;33m.\u001b[0m\u001b[0m_engine\u001b[0m \u001b[1;33m=\u001b[0m \u001b[0mself\u001b[0m\u001b[1;33m.\u001b[0m\u001b[0m_make_engine\u001b[0m\u001b[1;33m(\u001b[0m\u001b[0mf\u001b[0m\u001b[1;33m,\u001b[0m \u001b[0mself\u001b[0m\u001b[1;33m.\u001b[0m\u001b[0mengine\u001b[0m\u001b[1;33m)\u001b[0m\u001b[1;33m\u001b[0m\u001b[1;33m\u001b[0m\u001b[0m\n\u001b[0m\u001b[0;32m    933\u001b[0m \u001b[1;33m\u001b[0m\u001b[0m\n\u001b[0;32m    934\u001b[0m     \u001b[1;32mdef\u001b[0m \u001b[0mclose\u001b[0m\u001b[1;33m(\u001b[0m\u001b[0mself\u001b[0m\u001b[1;33m)\u001b[0m\u001b[1;33m:\u001b[0m\u001b[1;33m\u001b[0m\u001b[1;33m\u001b[0m\u001b[0m\n",
      "\u001b[1;32m~\\anaconda3\\lib\\site-packages\\pandas\\io\\parsers\\readers.py\u001b[0m in \u001b[0;36m_make_engine\u001b[1;34m(self, f, engine)\u001b[0m\n\u001b[0;32m   1214\u001b[0m             \u001b[1;31m# \"Union[str, PathLike[str], ReadCsvBuffer[bytes], ReadCsvBuffer[str]]\"\u001b[0m\u001b[1;33m\u001b[0m\u001b[1;33m\u001b[0m\u001b[0m\n\u001b[0;32m   1215\u001b[0m             \u001b[1;31m# , \"str\", \"bool\", \"Any\", \"Any\", \"Any\", \"Any\", \"Any\"\u001b[0m\u001b[1;33m\u001b[0m\u001b[1;33m\u001b[0m\u001b[0m\n\u001b[1;32m-> 1216\u001b[1;33m             self.handles = get_handle(  # type: ignore[call-overload]\n\u001b[0m\u001b[0;32m   1217\u001b[0m                 \u001b[0mf\u001b[0m\u001b[1;33m,\u001b[0m\u001b[1;33m\u001b[0m\u001b[1;33m\u001b[0m\u001b[0m\n\u001b[0;32m   1218\u001b[0m                 \u001b[0mmode\u001b[0m\u001b[1;33m,\u001b[0m\u001b[1;33m\u001b[0m\u001b[1;33m\u001b[0m\u001b[0m\n",
      "\u001b[1;32m~\\anaconda3\\lib\\site-packages\\pandas\\io\\common.py\u001b[0m in \u001b[0;36mget_handle\u001b[1;34m(path_or_buf, mode, encoding, compression, memory_map, is_text, errors, storage_options)\u001b[0m\n\u001b[0;32m    784\u001b[0m         \u001b[1;32mif\u001b[0m \u001b[0mioargs\u001b[0m\u001b[1;33m.\u001b[0m\u001b[0mencoding\u001b[0m \u001b[1;32mand\u001b[0m \u001b[1;34m\"b\"\u001b[0m \u001b[1;32mnot\u001b[0m \u001b[1;32min\u001b[0m \u001b[0mioargs\u001b[0m\u001b[1;33m.\u001b[0m\u001b[0mmode\u001b[0m\u001b[1;33m:\u001b[0m\u001b[1;33m\u001b[0m\u001b[1;33m\u001b[0m\u001b[0m\n\u001b[0;32m    785\u001b[0m             \u001b[1;31m# Encoding\u001b[0m\u001b[1;33m\u001b[0m\u001b[1;33m\u001b[0m\u001b[0m\n\u001b[1;32m--> 786\u001b[1;33m             handle = open(\n\u001b[0m\u001b[0;32m    787\u001b[0m                 \u001b[0mhandle\u001b[0m\u001b[1;33m,\u001b[0m\u001b[1;33m\u001b[0m\u001b[1;33m\u001b[0m\u001b[0m\n\u001b[0;32m    788\u001b[0m                 \u001b[0mioargs\u001b[0m\u001b[1;33m.\u001b[0m\u001b[0mmode\u001b[0m\u001b[1;33m,\u001b[0m\u001b[1;33m\u001b[0m\u001b[1;33m\u001b[0m\u001b[0m\n",
      "\u001b[1;31mFileNotFoundError\u001b[0m: [Errno 2] No such file or directory: 'FAOSTAT\\\\import_value.csv'"
     ]
    }
   ],
   "source": [
    "df21 = pd.read_csv('FAOSTAT\\import_value.csv', on_bad_lines='skip')\n",
    "# # msno.matrix(df21)  # ppi is dimensionless so NaN for units is not an issue\n",
    "df21= df21[(df21['Area'].isin(EUROPEAN_UNION.names))] #EU only\n",
    "df21['Key'] = df21['Area'] + df21['Year'].astype(str) # add a merging key\n",
    "df21.rename(columns = {'Value':'Imp$1000'}, inplace = True)\n",
    "df22 = df20.merge(df21[['Key', 'Imp$1000']], on='Key')\n",
    "df22.head()\n",
    "# # msno.matrix(df22)  # When uncommented indicates no missing data "
   ]
  },
  {
   "cell_type": "code",
   "execution_count": 142,
   "metadata": {},
   "outputs": [
    {
     "ename": "FileNotFoundError",
     "evalue": "[Errno 2] No such file or directory: 'FAOSTAT\\\\import_quantity.csv'",
     "output_type": "error",
     "traceback": [
      "\u001b[1;31m---------------------------------------------------------------------------\u001b[0m",
      "\u001b[1;31mFileNotFoundError\u001b[0m                         Traceback (most recent call last)",
      "\u001b[1;32m~\\AppData\\Local\\Temp\\ipykernel_7340\\2060749206.py\u001b[0m in \u001b[0;36m<module>\u001b[1;34m\u001b[0m\n\u001b[1;32m----> 1\u001b[1;33m \u001b[0mdf23\u001b[0m \u001b[1;33m=\u001b[0m \u001b[0mpd\u001b[0m\u001b[1;33m.\u001b[0m\u001b[0mread_csv\u001b[0m\u001b[1;33m(\u001b[0m\u001b[1;34m'FAOSTAT\\import_quantity.csv'\u001b[0m\u001b[1;33m,\u001b[0m \u001b[0mon_bad_lines\u001b[0m\u001b[1;33m=\u001b[0m\u001b[1;34m'skip'\u001b[0m\u001b[1;33m)\u001b[0m\u001b[1;33m\u001b[0m\u001b[1;33m\u001b[0m\u001b[0m\n\u001b[0m\u001b[0;32m      2\u001b[0m \u001b[1;31m# # msno.matrix(df23)  # ppi is dimensionless so NaN for units is not an issue\u001b[0m\u001b[1;33m\u001b[0m\u001b[1;33m\u001b[0m\u001b[0m\n\u001b[0;32m      3\u001b[0m \u001b[0mdf23\u001b[0m\u001b[1;33m=\u001b[0m \u001b[0mdf23\u001b[0m\u001b[1;33m[\u001b[0m\u001b[1;33m(\u001b[0m\u001b[0mdf23\u001b[0m\u001b[1;33m[\u001b[0m\u001b[1;34m'Area'\u001b[0m\u001b[1;33m]\u001b[0m\u001b[1;33m.\u001b[0m\u001b[0misin\u001b[0m\u001b[1;33m(\u001b[0m\u001b[0mEUROPEAN_UNION\u001b[0m\u001b[1;33m.\u001b[0m\u001b[0mnames\u001b[0m\u001b[1;33m)\u001b[0m\u001b[1;33m)\u001b[0m\u001b[1;33m]\u001b[0m \u001b[1;31m#EU only\u001b[0m\u001b[1;33m\u001b[0m\u001b[1;33m\u001b[0m\u001b[0m\n\u001b[0;32m      4\u001b[0m \u001b[0mdf23\u001b[0m\u001b[1;33m[\u001b[0m\u001b[1;34m'Key'\u001b[0m\u001b[1;33m]\u001b[0m \u001b[1;33m=\u001b[0m \u001b[0mdf23\u001b[0m\u001b[1;33m[\u001b[0m\u001b[1;34m'Area'\u001b[0m\u001b[1;33m]\u001b[0m \u001b[1;33m+\u001b[0m \u001b[0mdf23\u001b[0m\u001b[1;33m[\u001b[0m\u001b[1;34m'Year'\u001b[0m\u001b[1;33m]\u001b[0m\u001b[1;33m.\u001b[0m\u001b[0mastype\u001b[0m\u001b[1;33m(\u001b[0m\u001b[0mstr\u001b[0m\u001b[1;33m)\u001b[0m \u001b[1;31m# add a merging key\u001b[0m\u001b[1;33m\u001b[0m\u001b[1;33m\u001b[0m\u001b[0m\n\u001b[0;32m      5\u001b[0m \u001b[0mdf23\u001b[0m\u001b[1;33m\u001b[0m\u001b[1;33m\u001b[0m\u001b[0m\n",
      "\u001b[1;32m~\\anaconda3\\lib\\site-packages\\pandas\\util\\_decorators.py\u001b[0m in \u001b[0;36mwrapper\u001b[1;34m(*args, **kwargs)\u001b[0m\n\u001b[0;32m    309\u001b[0m                     \u001b[0mstacklevel\u001b[0m\u001b[1;33m=\u001b[0m\u001b[0mstacklevel\u001b[0m\u001b[1;33m,\u001b[0m\u001b[1;33m\u001b[0m\u001b[1;33m\u001b[0m\u001b[0m\n\u001b[0;32m    310\u001b[0m                 )\n\u001b[1;32m--> 311\u001b[1;33m             \u001b[1;32mreturn\u001b[0m \u001b[0mfunc\u001b[0m\u001b[1;33m(\u001b[0m\u001b[1;33m*\u001b[0m\u001b[0margs\u001b[0m\u001b[1;33m,\u001b[0m \u001b[1;33m**\u001b[0m\u001b[0mkwargs\u001b[0m\u001b[1;33m)\u001b[0m\u001b[1;33m\u001b[0m\u001b[1;33m\u001b[0m\u001b[0m\n\u001b[0m\u001b[0;32m    312\u001b[0m \u001b[1;33m\u001b[0m\u001b[0m\n\u001b[0;32m    313\u001b[0m         \u001b[1;32mreturn\u001b[0m \u001b[0mwrapper\u001b[0m\u001b[1;33m\u001b[0m\u001b[1;33m\u001b[0m\u001b[0m\n",
      "\u001b[1;32m~\\anaconda3\\lib\\site-packages\\pandas\\io\\parsers\\readers.py\u001b[0m in \u001b[0;36mread_csv\u001b[1;34m(filepath_or_buffer, sep, delimiter, header, names, index_col, usecols, squeeze, prefix, mangle_dupe_cols, dtype, engine, converters, true_values, false_values, skipinitialspace, skiprows, skipfooter, nrows, na_values, keep_default_na, na_filter, verbose, skip_blank_lines, parse_dates, infer_datetime_format, keep_date_col, date_parser, dayfirst, cache_dates, iterator, chunksize, compression, thousands, decimal, lineterminator, quotechar, quoting, doublequote, escapechar, comment, encoding, encoding_errors, dialect, error_bad_lines, warn_bad_lines, on_bad_lines, delim_whitespace, low_memory, memory_map, float_precision, storage_options)\u001b[0m\n\u001b[0;32m    676\u001b[0m     \u001b[0mkwds\u001b[0m\u001b[1;33m.\u001b[0m\u001b[0mupdate\u001b[0m\u001b[1;33m(\u001b[0m\u001b[0mkwds_defaults\u001b[0m\u001b[1;33m)\u001b[0m\u001b[1;33m\u001b[0m\u001b[1;33m\u001b[0m\u001b[0m\n\u001b[0;32m    677\u001b[0m \u001b[1;33m\u001b[0m\u001b[0m\n\u001b[1;32m--> 678\u001b[1;33m     \u001b[1;32mreturn\u001b[0m \u001b[0m_read\u001b[0m\u001b[1;33m(\u001b[0m\u001b[0mfilepath_or_buffer\u001b[0m\u001b[1;33m,\u001b[0m \u001b[0mkwds\u001b[0m\u001b[1;33m)\u001b[0m\u001b[1;33m\u001b[0m\u001b[1;33m\u001b[0m\u001b[0m\n\u001b[0m\u001b[0;32m    679\u001b[0m \u001b[1;33m\u001b[0m\u001b[0m\n\u001b[0;32m    680\u001b[0m \u001b[1;33m\u001b[0m\u001b[0m\n",
      "\u001b[1;32m~\\anaconda3\\lib\\site-packages\\pandas\\io\\parsers\\readers.py\u001b[0m in \u001b[0;36m_read\u001b[1;34m(filepath_or_buffer, kwds)\u001b[0m\n\u001b[0;32m    573\u001b[0m \u001b[1;33m\u001b[0m\u001b[0m\n\u001b[0;32m    574\u001b[0m     \u001b[1;31m# Create the parser.\u001b[0m\u001b[1;33m\u001b[0m\u001b[1;33m\u001b[0m\u001b[0m\n\u001b[1;32m--> 575\u001b[1;33m     \u001b[0mparser\u001b[0m \u001b[1;33m=\u001b[0m \u001b[0mTextFileReader\u001b[0m\u001b[1;33m(\u001b[0m\u001b[0mfilepath_or_buffer\u001b[0m\u001b[1;33m,\u001b[0m \u001b[1;33m**\u001b[0m\u001b[0mkwds\u001b[0m\u001b[1;33m)\u001b[0m\u001b[1;33m\u001b[0m\u001b[1;33m\u001b[0m\u001b[0m\n\u001b[0m\u001b[0;32m    576\u001b[0m \u001b[1;33m\u001b[0m\u001b[0m\n\u001b[0;32m    577\u001b[0m     \u001b[1;32mif\u001b[0m \u001b[0mchunksize\u001b[0m \u001b[1;32mor\u001b[0m \u001b[0miterator\u001b[0m\u001b[1;33m:\u001b[0m\u001b[1;33m\u001b[0m\u001b[1;33m\u001b[0m\u001b[0m\n",
      "\u001b[1;32m~\\anaconda3\\lib\\site-packages\\pandas\\io\\parsers\\readers.py\u001b[0m in \u001b[0;36m__init__\u001b[1;34m(self, f, engine, **kwds)\u001b[0m\n\u001b[0;32m    930\u001b[0m \u001b[1;33m\u001b[0m\u001b[0m\n\u001b[0;32m    931\u001b[0m         \u001b[0mself\u001b[0m\u001b[1;33m.\u001b[0m\u001b[0mhandles\u001b[0m\u001b[1;33m:\u001b[0m \u001b[0mIOHandles\u001b[0m \u001b[1;33m|\u001b[0m \u001b[1;32mNone\u001b[0m \u001b[1;33m=\u001b[0m \u001b[1;32mNone\u001b[0m\u001b[1;33m\u001b[0m\u001b[1;33m\u001b[0m\u001b[0m\n\u001b[1;32m--> 932\u001b[1;33m         \u001b[0mself\u001b[0m\u001b[1;33m.\u001b[0m\u001b[0m_engine\u001b[0m \u001b[1;33m=\u001b[0m \u001b[0mself\u001b[0m\u001b[1;33m.\u001b[0m\u001b[0m_make_engine\u001b[0m\u001b[1;33m(\u001b[0m\u001b[0mf\u001b[0m\u001b[1;33m,\u001b[0m \u001b[0mself\u001b[0m\u001b[1;33m.\u001b[0m\u001b[0mengine\u001b[0m\u001b[1;33m)\u001b[0m\u001b[1;33m\u001b[0m\u001b[1;33m\u001b[0m\u001b[0m\n\u001b[0m\u001b[0;32m    933\u001b[0m \u001b[1;33m\u001b[0m\u001b[0m\n\u001b[0;32m    934\u001b[0m     \u001b[1;32mdef\u001b[0m \u001b[0mclose\u001b[0m\u001b[1;33m(\u001b[0m\u001b[0mself\u001b[0m\u001b[1;33m)\u001b[0m\u001b[1;33m:\u001b[0m\u001b[1;33m\u001b[0m\u001b[1;33m\u001b[0m\u001b[0m\n",
      "\u001b[1;32m~\\anaconda3\\lib\\site-packages\\pandas\\io\\parsers\\readers.py\u001b[0m in \u001b[0;36m_make_engine\u001b[1;34m(self, f, engine)\u001b[0m\n\u001b[0;32m   1214\u001b[0m             \u001b[1;31m# \"Union[str, PathLike[str], ReadCsvBuffer[bytes], ReadCsvBuffer[str]]\"\u001b[0m\u001b[1;33m\u001b[0m\u001b[1;33m\u001b[0m\u001b[0m\n\u001b[0;32m   1215\u001b[0m             \u001b[1;31m# , \"str\", \"bool\", \"Any\", \"Any\", \"Any\", \"Any\", \"Any\"\u001b[0m\u001b[1;33m\u001b[0m\u001b[1;33m\u001b[0m\u001b[0m\n\u001b[1;32m-> 1216\u001b[1;33m             self.handles = get_handle(  # type: ignore[call-overload]\n\u001b[0m\u001b[0;32m   1217\u001b[0m                 \u001b[0mf\u001b[0m\u001b[1;33m,\u001b[0m\u001b[1;33m\u001b[0m\u001b[1;33m\u001b[0m\u001b[0m\n\u001b[0;32m   1218\u001b[0m                 \u001b[0mmode\u001b[0m\u001b[1;33m,\u001b[0m\u001b[1;33m\u001b[0m\u001b[1;33m\u001b[0m\u001b[0m\n",
      "\u001b[1;32m~\\anaconda3\\lib\\site-packages\\pandas\\io\\common.py\u001b[0m in \u001b[0;36mget_handle\u001b[1;34m(path_or_buf, mode, encoding, compression, memory_map, is_text, errors, storage_options)\u001b[0m\n\u001b[0;32m    784\u001b[0m         \u001b[1;32mif\u001b[0m \u001b[0mioargs\u001b[0m\u001b[1;33m.\u001b[0m\u001b[0mencoding\u001b[0m \u001b[1;32mand\u001b[0m \u001b[1;34m\"b\"\u001b[0m \u001b[1;32mnot\u001b[0m \u001b[1;32min\u001b[0m \u001b[0mioargs\u001b[0m\u001b[1;33m.\u001b[0m\u001b[0mmode\u001b[0m\u001b[1;33m:\u001b[0m\u001b[1;33m\u001b[0m\u001b[1;33m\u001b[0m\u001b[0m\n\u001b[0;32m    785\u001b[0m             \u001b[1;31m# Encoding\u001b[0m\u001b[1;33m\u001b[0m\u001b[1;33m\u001b[0m\u001b[0m\n\u001b[1;32m--> 786\u001b[1;33m             handle = open(\n\u001b[0m\u001b[0;32m    787\u001b[0m                 \u001b[0mhandle\u001b[0m\u001b[1;33m,\u001b[0m\u001b[1;33m\u001b[0m\u001b[1;33m\u001b[0m\u001b[0m\n\u001b[0;32m    788\u001b[0m                 \u001b[0mioargs\u001b[0m\u001b[1;33m.\u001b[0m\u001b[0mmode\u001b[0m\u001b[1;33m,\u001b[0m\u001b[1;33m\u001b[0m\u001b[1;33m\u001b[0m\u001b[0m\n",
      "\u001b[1;31mFileNotFoundError\u001b[0m: [Errno 2] No such file or directory: 'FAOSTAT\\\\import_quantity.csv'"
     ]
    }
   ],
   "source": [
    "df23 = pd.read_csv('FAOSTAT\\import_quantity.csv', on_bad_lines='skip')\n",
    "# # msno.matrix(df23)  # ppi is dimensionless so NaN for units is not an issue\n",
    "df23= df23[(df23['Area'].isin(EUROPEAN_UNION.names))] #EU only\n",
    "df23['Key'] = df23['Area'] + df23['Year'].astype(str) # add a merging key\n",
    "df23\n",
    "df23.rename(columns = {'Value':'Imp#'}, inplace = True)\n",
    "df24 = df22.merge(df23[['Key', 'Imp#']], on='Key')\n",
    "df24.head()\n",
    "# msno.matrix(df24)  # When uncommented indicates no missing data "
   ]
  },
  {
   "cell_type": "code",
   "execution_count": 143,
   "metadata": {
    "scrolled": true
   },
   "outputs": [
    {
     "ename": "FileNotFoundError",
     "evalue": "[Errno 2] No such file or directory: 'FAOSTAT\\\\gross_meat_production.csv'",
     "output_type": "error",
     "traceback": [
      "\u001b[1;31m---------------------------------------------------------------------------\u001b[0m",
      "\u001b[1;31mFileNotFoundError\u001b[0m                         Traceback (most recent call last)",
      "\u001b[1;32m~\\AppData\\Local\\Temp\\ipykernel_7340\\3304997701.py\u001b[0m in \u001b[0;36m<module>\u001b[1;34m\u001b[0m\n\u001b[1;32m----> 1\u001b[1;33m \u001b[0mdf25\u001b[0m \u001b[1;33m=\u001b[0m \u001b[0mpd\u001b[0m\u001b[1;33m.\u001b[0m\u001b[0mread_csv\u001b[0m\u001b[1;33m(\u001b[0m\u001b[1;34m'FAOSTAT\\gross_meat_production.csv'\u001b[0m\u001b[1;33m,\u001b[0m \u001b[0mon_bad_lines\u001b[0m\u001b[1;33m=\u001b[0m\u001b[1;34m'skip'\u001b[0m\u001b[1;33m)\u001b[0m\u001b[1;33m\u001b[0m\u001b[1;33m\u001b[0m\u001b[0m\n\u001b[0m\u001b[0;32m      2\u001b[0m \u001b[1;31m# # msno.matrix(df25)  # ppi is dimensionless so NaN for units is not an issue\u001b[0m\u001b[1;33m\u001b[0m\u001b[1;33m\u001b[0m\u001b[0m\n\u001b[0;32m      3\u001b[0m \u001b[0mdf25\u001b[0m\u001b[1;33m=\u001b[0m \u001b[0mdf25\u001b[0m\u001b[1;33m[\u001b[0m\u001b[1;33m(\u001b[0m\u001b[0mdf25\u001b[0m\u001b[1;33m[\u001b[0m\u001b[1;34m'Area'\u001b[0m\u001b[1;33m]\u001b[0m\u001b[1;33m.\u001b[0m\u001b[0misin\u001b[0m\u001b[1;33m(\u001b[0m\u001b[0mEUROPEAN_UNION\u001b[0m\u001b[1;33m.\u001b[0m\u001b[0mnames\u001b[0m\u001b[1;33m)\u001b[0m\u001b[1;33m)\u001b[0m\u001b[1;33m]\u001b[0m \u001b[1;31m#EU only\u001b[0m\u001b[1;33m\u001b[0m\u001b[1;33m\u001b[0m\u001b[0m\n\u001b[0;32m      4\u001b[0m \u001b[0mdf25\u001b[0m\u001b[1;33m[\u001b[0m\u001b[1;34m'Key'\u001b[0m\u001b[1;33m]\u001b[0m \u001b[1;33m=\u001b[0m \u001b[0mdf25\u001b[0m\u001b[1;33m[\u001b[0m\u001b[1;34m'Area'\u001b[0m\u001b[1;33m]\u001b[0m \u001b[1;33m+\u001b[0m \u001b[0mdf25\u001b[0m\u001b[1;33m[\u001b[0m\u001b[1;34m'Year'\u001b[0m\u001b[1;33m]\u001b[0m\u001b[1;33m.\u001b[0m\u001b[0mastype\u001b[0m\u001b[1;33m(\u001b[0m\u001b[0mstr\u001b[0m\u001b[1;33m)\u001b[0m \u001b[1;31m# add a merging key\u001b[0m\u001b[1;33m\u001b[0m\u001b[1;33m\u001b[0m\u001b[0m\n\u001b[0;32m      5\u001b[0m \u001b[0mdf25\u001b[0m\u001b[1;33m\u001b[0m\u001b[1;33m\u001b[0m\u001b[0m\n",
      "\u001b[1;32m~\\anaconda3\\lib\\site-packages\\pandas\\util\\_decorators.py\u001b[0m in \u001b[0;36mwrapper\u001b[1;34m(*args, **kwargs)\u001b[0m\n\u001b[0;32m    309\u001b[0m                     \u001b[0mstacklevel\u001b[0m\u001b[1;33m=\u001b[0m\u001b[0mstacklevel\u001b[0m\u001b[1;33m,\u001b[0m\u001b[1;33m\u001b[0m\u001b[1;33m\u001b[0m\u001b[0m\n\u001b[0;32m    310\u001b[0m                 )\n\u001b[1;32m--> 311\u001b[1;33m             \u001b[1;32mreturn\u001b[0m \u001b[0mfunc\u001b[0m\u001b[1;33m(\u001b[0m\u001b[1;33m*\u001b[0m\u001b[0margs\u001b[0m\u001b[1;33m,\u001b[0m \u001b[1;33m**\u001b[0m\u001b[0mkwargs\u001b[0m\u001b[1;33m)\u001b[0m\u001b[1;33m\u001b[0m\u001b[1;33m\u001b[0m\u001b[0m\n\u001b[0m\u001b[0;32m    312\u001b[0m \u001b[1;33m\u001b[0m\u001b[0m\n\u001b[0;32m    313\u001b[0m         \u001b[1;32mreturn\u001b[0m \u001b[0mwrapper\u001b[0m\u001b[1;33m\u001b[0m\u001b[1;33m\u001b[0m\u001b[0m\n",
      "\u001b[1;32m~\\anaconda3\\lib\\site-packages\\pandas\\io\\parsers\\readers.py\u001b[0m in \u001b[0;36mread_csv\u001b[1;34m(filepath_or_buffer, sep, delimiter, header, names, index_col, usecols, squeeze, prefix, mangle_dupe_cols, dtype, engine, converters, true_values, false_values, skipinitialspace, skiprows, skipfooter, nrows, na_values, keep_default_na, na_filter, verbose, skip_blank_lines, parse_dates, infer_datetime_format, keep_date_col, date_parser, dayfirst, cache_dates, iterator, chunksize, compression, thousands, decimal, lineterminator, quotechar, quoting, doublequote, escapechar, comment, encoding, encoding_errors, dialect, error_bad_lines, warn_bad_lines, on_bad_lines, delim_whitespace, low_memory, memory_map, float_precision, storage_options)\u001b[0m\n\u001b[0;32m    676\u001b[0m     \u001b[0mkwds\u001b[0m\u001b[1;33m.\u001b[0m\u001b[0mupdate\u001b[0m\u001b[1;33m(\u001b[0m\u001b[0mkwds_defaults\u001b[0m\u001b[1;33m)\u001b[0m\u001b[1;33m\u001b[0m\u001b[1;33m\u001b[0m\u001b[0m\n\u001b[0;32m    677\u001b[0m \u001b[1;33m\u001b[0m\u001b[0m\n\u001b[1;32m--> 678\u001b[1;33m     \u001b[1;32mreturn\u001b[0m \u001b[0m_read\u001b[0m\u001b[1;33m(\u001b[0m\u001b[0mfilepath_or_buffer\u001b[0m\u001b[1;33m,\u001b[0m \u001b[0mkwds\u001b[0m\u001b[1;33m)\u001b[0m\u001b[1;33m\u001b[0m\u001b[1;33m\u001b[0m\u001b[0m\n\u001b[0m\u001b[0;32m    679\u001b[0m \u001b[1;33m\u001b[0m\u001b[0m\n\u001b[0;32m    680\u001b[0m \u001b[1;33m\u001b[0m\u001b[0m\n",
      "\u001b[1;32m~\\anaconda3\\lib\\site-packages\\pandas\\io\\parsers\\readers.py\u001b[0m in \u001b[0;36m_read\u001b[1;34m(filepath_or_buffer, kwds)\u001b[0m\n\u001b[0;32m    573\u001b[0m \u001b[1;33m\u001b[0m\u001b[0m\n\u001b[0;32m    574\u001b[0m     \u001b[1;31m# Create the parser.\u001b[0m\u001b[1;33m\u001b[0m\u001b[1;33m\u001b[0m\u001b[0m\n\u001b[1;32m--> 575\u001b[1;33m     \u001b[0mparser\u001b[0m \u001b[1;33m=\u001b[0m \u001b[0mTextFileReader\u001b[0m\u001b[1;33m(\u001b[0m\u001b[0mfilepath_or_buffer\u001b[0m\u001b[1;33m,\u001b[0m \u001b[1;33m**\u001b[0m\u001b[0mkwds\u001b[0m\u001b[1;33m)\u001b[0m\u001b[1;33m\u001b[0m\u001b[1;33m\u001b[0m\u001b[0m\n\u001b[0m\u001b[0;32m    576\u001b[0m \u001b[1;33m\u001b[0m\u001b[0m\n\u001b[0;32m    577\u001b[0m     \u001b[1;32mif\u001b[0m \u001b[0mchunksize\u001b[0m \u001b[1;32mor\u001b[0m \u001b[0miterator\u001b[0m\u001b[1;33m:\u001b[0m\u001b[1;33m\u001b[0m\u001b[1;33m\u001b[0m\u001b[0m\n",
      "\u001b[1;32m~\\anaconda3\\lib\\site-packages\\pandas\\io\\parsers\\readers.py\u001b[0m in \u001b[0;36m__init__\u001b[1;34m(self, f, engine, **kwds)\u001b[0m\n\u001b[0;32m    930\u001b[0m \u001b[1;33m\u001b[0m\u001b[0m\n\u001b[0;32m    931\u001b[0m         \u001b[0mself\u001b[0m\u001b[1;33m.\u001b[0m\u001b[0mhandles\u001b[0m\u001b[1;33m:\u001b[0m \u001b[0mIOHandles\u001b[0m \u001b[1;33m|\u001b[0m \u001b[1;32mNone\u001b[0m \u001b[1;33m=\u001b[0m \u001b[1;32mNone\u001b[0m\u001b[1;33m\u001b[0m\u001b[1;33m\u001b[0m\u001b[0m\n\u001b[1;32m--> 932\u001b[1;33m         \u001b[0mself\u001b[0m\u001b[1;33m.\u001b[0m\u001b[0m_engine\u001b[0m \u001b[1;33m=\u001b[0m \u001b[0mself\u001b[0m\u001b[1;33m.\u001b[0m\u001b[0m_make_engine\u001b[0m\u001b[1;33m(\u001b[0m\u001b[0mf\u001b[0m\u001b[1;33m,\u001b[0m \u001b[0mself\u001b[0m\u001b[1;33m.\u001b[0m\u001b[0mengine\u001b[0m\u001b[1;33m)\u001b[0m\u001b[1;33m\u001b[0m\u001b[1;33m\u001b[0m\u001b[0m\n\u001b[0m\u001b[0;32m    933\u001b[0m \u001b[1;33m\u001b[0m\u001b[0m\n\u001b[0;32m    934\u001b[0m     \u001b[1;32mdef\u001b[0m \u001b[0mclose\u001b[0m\u001b[1;33m(\u001b[0m\u001b[0mself\u001b[0m\u001b[1;33m)\u001b[0m\u001b[1;33m:\u001b[0m\u001b[1;33m\u001b[0m\u001b[1;33m\u001b[0m\u001b[0m\n",
      "\u001b[1;32m~\\anaconda3\\lib\\site-packages\\pandas\\io\\parsers\\readers.py\u001b[0m in \u001b[0;36m_make_engine\u001b[1;34m(self, f, engine)\u001b[0m\n\u001b[0;32m   1214\u001b[0m             \u001b[1;31m# \"Union[str, PathLike[str], ReadCsvBuffer[bytes], ReadCsvBuffer[str]]\"\u001b[0m\u001b[1;33m\u001b[0m\u001b[1;33m\u001b[0m\u001b[0m\n\u001b[0;32m   1215\u001b[0m             \u001b[1;31m# , \"str\", \"bool\", \"Any\", \"Any\", \"Any\", \"Any\", \"Any\"\u001b[0m\u001b[1;33m\u001b[0m\u001b[1;33m\u001b[0m\u001b[0m\n\u001b[1;32m-> 1216\u001b[1;33m             self.handles = get_handle(  # type: ignore[call-overload]\n\u001b[0m\u001b[0;32m   1217\u001b[0m                 \u001b[0mf\u001b[0m\u001b[1;33m,\u001b[0m\u001b[1;33m\u001b[0m\u001b[1;33m\u001b[0m\u001b[0m\n\u001b[0;32m   1218\u001b[0m                 \u001b[0mmode\u001b[0m\u001b[1;33m,\u001b[0m\u001b[1;33m\u001b[0m\u001b[1;33m\u001b[0m\u001b[0m\n",
      "\u001b[1;32m~\\anaconda3\\lib\\site-packages\\pandas\\io\\common.py\u001b[0m in \u001b[0;36mget_handle\u001b[1;34m(path_or_buf, mode, encoding, compression, memory_map, is_text, errors, storage_options)\u001b[0m\n\u001b[0;32m    784\u001b[0m         \u001b[1;32mif\u001b[0m \u001b[0mioargs\u001b[0m\u001b[1;33m.\u001b[0m\u001b[0mencoding\u001b[0m \u001b[1;32mand\u001b[0m \u001b[1;34m\"b\"\u001b[0m \u001b[1;32mnot\u001b[0m \u001b[1;32min\u001b[0m \u001b[0mioargs\u001b[0m\u001b[1;33m.\u001b[0m\u001b[0mmode\u001b[0m\u001b[1;33m:\u001b[0m\u001b[1;33m\u001b[0m\u001b[1;33m\u001b[0m\u001b[0m\n\u001b[0;32m    785\u001b[0m             \u001b[1;31m# Encoding\u001b[0m\u001b[1;33m\u001b[0m\u001b[1;33m\u001b[0m\u001b[0m\n\u001b[1;32m--> 786\u001b[1;33m             handle = open(\n\u001b[0m\u001b[0;32m    787\u001b[0m                 \u001b[0mhandle\u001b[0m\u001b[1;33m,\u001b[0m\u001b[1;33m\u001b[0m\u001b[1;33m\u001b[0m\u001b[0m\n\u001b[0;32m    788\u001b[0m                 \u001b[0mioargs\u001b[0m\u001b[1;33m.\u001b[0m\u001b[0mmode\u001b[0m\u001b[1;33m,\u001b[0m\u001b[1;33m\u001b[0m\u001b[1;33m\u001b[0m\u001b[0m\n",
      "\u001b[1;31mFileNotFoundError\u001b[0m: [Errno 2] No such file or directory: 'FAOSTAT\\\\gross_meat_production.csv'"
     ]
    }
   ],
   "source": [
    "df25 = pd.read_csv('FAOSTAT\\gross_meat_production.csv', on_bad_lines='skip')\n",
    "# # msno.matrix(df25)  # ppi is dimensionless so NaN for units is not an issue\n",
    "df25= df25[(df25['Area'].isin(EUROPEAN_UNION.names))] #EU only\n",
    "df25['Key'] = df25['Area'] + df25['Year'].astype(str) # add a merging key\n",
    "df25\n",
    "# print(df25['Value'].unique())\n",
    "df25.rename(columns = {'Value':'1000SLC'}, inplace = True)\n",
    "df26 = df24.merge(df25[['Key', '1000SLC']], on='Key')\n",
    "df26.head()\n",
    "\n",
    "# # msno.matrix(df26)  # When uncommented indicates no missing data "
   ]
  },
  {
   "cell_type": "code",
   "execution_count": 144,
   "metadata": {},
   "outputs": [
    {
     "ename": "NameError",
     "evalue": "name 'df26' is not defined",
     "output_type": "error",
     "traceback": [
      "\u001b[1;31m---------------------------------------------------------------------------\u001b[0m",
      "\u001b[1;31mNameError\u001b[0m                                 Traceback (most recent call last)",
      "\u001b[1;32m~\\AppData\\Local\\Temp\\ipykernel_7340\\2147043681.py\u001b[0m in \u001b[0;36m<module>\u001b[1;34m\u001b[0m\n\u001b[1;32m----> 1\u001b[1;33m \u001b[0mdf26\u001b[0m\u001b[1;33m.\u001b[0m\u001b[0mto_csv\u001b[0m\u001b[1;33m(\u001b[0m\u001b[1;34m'data\\data26.csv'\u001b[0m\u001b[1;33m,\u001b[0m \u001b[0mindex\u001b[0m\u001b[1;33m=\u001b[0m\u001b[1;32mFalse\u001b[0m\u001b[1;33m)\u001b[0m\u001b[1;33m\u001b[0m\u001b[1;33m\u001b[0m\u001b[0m\n\u001b[0m",
      "\u001b[1;31mNameError\u001b[0m: name 'df26' is not defined"
     ]
    }
   ],
   "source": [
    "df26.to_csv('data\\data26.csv', index=False)"
   ]
  },
  {
   "cell_type": "code",
   "execution_count": 145,
   "metadata": {
    "scrolled": false
   },
   "outputs": [
    {
     "ename": "FileNotFoundError",
     "evalue": "[WinError 3] The system cannot find the path specified: 'FAOSTAT'",
     "output_type": "error",
     "traceback": [
      "\u001b[1;31m---------------------------------------------------------------------------\u001b[0m",
      "\u001b[1;31mFileNotFoundError\u001b[0m                         Traceback (most recent call last)",
      "\u001b[1;32m~\\AppData\\Local\\Temp\\ipykernel_7340\\4060669988.py\u001b[0m in \u001b[0;36m<module>\u001b[1;34m\u001b[0m\n\u001b[1;32m----> 1\u001b[1;33m \u001b[0mrawdata\u001b[0m\u001b[1;33m=\u001b[0m\u001b[0mos\u001b[0m\u001b[1;33m.\u001b[0m\u001b[0mlistdir\u001b[0m\u001b[1;33m(\u001b[0m\u001b[1;34m'FAOSTAT'\u001b[0m\u001b[1;33m)\u001b[0m\u001b[1;33m\u001b[0m\u001b[1;33m\u001b[0m\u001b[0m\n\u001b[0m\u001b[0;32m      2\u001b[0m \u001b[0mrawdata\u001b[0m\u001b[1;33m\u001b[0m\u001b[1;33m\u001b[0m\u001b[0m\n",
      "\u001b[1;31mFileNotFoundError\u001b[0m: [WinError 3] The system cannot find the path specified: 'FAOSTAT'"
     ]
    }
   ],
   "source": [
    "rawdata=os.listdir('FAOSTAT')\n",
    "rawdata"
   ]
  },
  {
   "cell_type": "code",
   "execution_count": null,
   "metadata": {},
   "outputs": [],
   "source": []
  },
  {
   "cell_type": "code",
   "execution_count": 146,
   "metadata": {},
   "outputs": [
    {
     "ename": "FileNotFoundError",
     "evalue": "[Errno 2] No such file or directory: 'FAOSTAT\\\\p2o5.csv'",
     "output_type": "error",
     "traceback": [
      "\u001b[1;31m---------------------------------------------------------------------------\u001b[0m",
      "\u001b[1;31mFileNotFoundError\u001b[0m                         Traceback (most recent call last)",
      "\u001b[1;32m~\\AppData\\Local\\Temp\\ipykernel_7340\\382943129.py\u001b[0m in \u001b[0;36m<module>\u001b[1;34m\u001b[0m\n\u001b[1;32m----> 1\u001b[1;33m \u001b[0mdf27\u001b[0m \u001b[1;33m=\u001b[0m \u001b[0mpd\u001b[0m\u001b[1;33m.\u001b[0m\u001b[0mread_csv\u001b[0m\u001b[1;33m(\u001b[0m\u001b[1;34m'FAOSTAT\\p2o5.csv'\u001b[0m\u001b[1;33m,\u001b[0m \u001b[0mon_bad_lines\u001b[0m\u001b[1;33m=\u001b[0m\u001b[1;34m'skip'\u001b[0m\u001b[1;33m)\u001b[0m \u001b[1;31m# Fertiliser tonnes of p2o5 (phosphate)\u001b[0m\u001b[1;33m\u001b[0m\u001b[1;33m\u001b[0m\u001b[0m\n\u001b[0m\u001b[0;32m      2\u001b[0m \u001b[1;31m# # msno.matrix(df27)  # ppi is dimensionless so NaN for units is not an issue\u001b[0m\u001b[1;33m\u001b[0m\u001b[1;33m\u001b[0m\u001b[0m\n\u001b[0;32m      3\u001b[0m \u001b[0mdf27\u001b[0m\u001b[1;33m=\u001b[0m \u001b[0mdf27\u001b[0m\u001b[1;33m[\u001b[0m\u001b[1;33m(\u001b[0m\u001b[0mdf27\u001b[0m\u001b[1;33m[\u001b[0m\u001b[1;34m'Area'\u001b[0m\u001b[1;33m]\u001b[0m\u001b[1;33m.\u001b[0m\u001b[0misin\u001b[0m\u001b[1;33m(\u001b[0m\u001b[0mEUROPEAN_UNION\u001b[0m\u001b[1;33m.\u001b[0m\u001b[0mnames\u001b[0m\u001b[1;33m)\u001b[0m\u001b[1;33m)\u001b[0m\u001b[1;33m]\u001b[0m \u001b[1;31m#EU only\u001b[0m\u001b[1;33m\u001b[0m\u001b[1;33m\u001b[0m\u001b[0m\n\u001b[0;32m      4\u001b[0m \u001b[0mdf27\u001b[0m\u001b[1;33m[\u001b[0m\u001b[1;34m'Key'\u001b[0m\u001b[1;33m]\u001b[0m \u001b[1;33m=\u001b[0m \u001b[0mdf27\u001b[0m\u001b[1;33m[\u001b[0m\u001b[1;34m'Area'\u001b[0m\u001b[1;33m]\u001b[0m \u001b[1;33m+\u001b[0m \u001b[0mdf27\u001b[0m\u001b[1;33m[\u001b[0m\u001b[1;34m'Year'\u001b[0m\u001b[1;33m]\u001b[0m\u001b[1;33m.\u001b[0m\u001b[0mastype\u001b[0m\u001b[1;33m(\u001b[0m\u001b[0mstr\u001b[0m\u001b[1;33m)\u001b[0m \u001b[1;31m# add a merging key\u001b[0m\u001b[1;33m\u001b[0m\u001b[1;33m\u001b[0m\u001b[0m\n\u001b[0;32m      5\u001b[0m \u001b[0mdf27\u001b[0m\u001b[1;33m.\u001b[0m\u001b[0mrename\u001b[0m\u001b[1;33m(\u001b[0m\u001b[0mcolumns\u001b[0m \u001b[1;33m=\u001b[0m \u001b[1;33m{\u001b[0m\u001b[1;34m'Value'\u001b[0m\u001b[1;33m:\u001b[0m\u001b[1;34m'p2o5-T'\u001b[0m\u001b[1;33m}\u001b[0m\u001b[1;33m,\u001b[0m \u001b[0minplace\u001b[0m \u001b[1;33m=\u001b[0m \u001b[1;32mTrue\u001b[0m\u001b[1;33m)\u001b[0m\u001b[1;33m\u001b[0m\u001b[1;33m\u001b[0m\u001b[0m\n",
      "\u001b[1;32m~\\anaconda3\\lib\\site-packages\\pandas\\util\\_decorators.py\u001b[0m in \u001b[0;36mwrapper\u001b[1;34m(*args, **kwargs)\u001b[0m\n\u001b[0;32m    309\u001b[0m                     \u001b[0mstacklevel\u001b[0m\u001b[1;33m=\u001b[0m\u001b[0mstacklevel\u001b[0m\u001b[1;33m,\u001b[0m\u001b[1;33m\u001b[0m\u001b[1;33m\u001b[0m\u001b[0m\n\u001b[0;32m    310\u001b[0m                 )\n\u001b[1;32m--> 311\u001b[1;33m             \u001b[1;32mreturn\u001b[0m \u001b[0mfunc\u001b[0m\u001b[1;33m(\u001b[0m\u001b[1;33m*\u001b[0m\u001b[0margs\u001b[0m\u001b[1;33m,\u001b[0m \u001b[1;33m**\u001b[0m\u001b[0mkwargs\u001b[0m\u001b[1;33m)\u001b[0m\u001b[1;33m\u001b[0m\u001b[1;33m\u001b[0m\u001b[0m\n\u001b[0m\u001b[0;32m    312\u001b[0m \u001b[1;33m\u001b[0m\u001b[0m\n\u001b[0;32m    313\u001b[0m         \u001b[1;32mreturn\u001b[0m \u001b[0mwrapper\u001b[0m\u001b[1;33m\u001b[0m\u001b[1;33m\u001b[0m\u001b[0m\n",
      "\u001b[1;32m~\\anaconda3\\lib\\site-packages\\pandas\\io\\parsers\\readers.py\u001b[0m in \u001b[0;36mread_csv\u001b[1;34m(filepath_or_buffer, sep, delimiter, header, names, index_col, usecols, squeeze, prefix, mangle_dupe_cols, dtype, engine, converters, true_values, false_values, skipinitialspace, skiprows, skipfooter, nrows, na_values, keep_default_na, na_filter, verbose, skip_blank_lines, parse_dates, infer_datetime_format, keep_date_col, date_parser, dayfirst, cache_dates, iterator, chunksize, compression, thousands, decimal, lineterminator, quotechar, quoting, doublequote, escapechar, comment, encoding, encoding_errors, dialect, error_bad_lines, warn_bad_lines, on_bad_lines, delim_whitespace, low_memory, memory_map, float_precision, storage_options)\u001b[0m\n\u001b[0;32m    676\u001b[0m     \u001b[0mkwds\u001b[0m\u001b[1;33m.\u001b[0m\u001b[0mupdate\u001b[0m\u001b[1;33m(\u001b[0m\u001b[0mkwds_defaults\u001b[0m\u001b[1;33m)\u001b[0m\u001b[1;33m\u001b[0m\u001b[1;33m\u001b[0m\u001b[0m\n\u001b[0;32m    677\u001b[0m \u001b[1;33m\u001b[0m\u001b[0m\n\u001b[1;32m--> 678\u001b[1;33m     \u001b[1;32mreturn\u001b[0m \u001b[0m_read\u001b[0m\u001b[1;33m(\u001b[0m\u001b[0mfilepath_or_buffer\u001b[0m\u001b[1;33m,\u001b[0m \u001b[0mkwds\u001b[0m\u001b[1;33m)\u001b[0m\u001b[1;33m\u001b[0m\u001b[1;33m\u001b[0m\u001b[0m\n\u001b[0m\u001b[0;32m    679\u001b[0m \u001b[1;33m\u001b[0m\u001b[0m\n\u001b[0;32m    680\u001b[0m \u001b[1;33m\u001b[0m\u001b[0m\n",
      "\u001b[1;32m~\\anaconda3\\lib\\site-packages\\pandas\\io\\parsers\\readers.py\u001b[0m in \u001b[0;36m_read\u001b[1;34m(filepath_or_buffer, kwds)\u001b[0m\n\u001b[0;32m    573\u001b[0m \u001b[1;33m\u001b[0m\u001b[0m\n\u001b[0;32m    574\u001b[0m     \u001b[1;31m# Create the parser.\u001b[0m\u001b[1;33m\u001b[0m\u001b[1;33m\u001b[0m\u001b[0m\n\u001b[1;32m--> 575\u001b[1;33m     \u001b[0mparser\u001b[0m \u001b[1;33m=\u001b[0m \u001b[0mTextFileReader\u001b[0m\u001b[1;33m(\u001b[0m\u001b[0mfilepath_or_buffer\u001b[0m\u001b[1;33m,\u001b[0m \u001b[1;33m**\u001b[0m\u001b[0mkwds\u001b[0m\u001b[1;33m)\u001b[0m\u001b[1;33m\u001b[0m\u001b[1;33m\u001b[0m\u001b[0m\n\u001b[0m\u001b[0;32m    576\u001b[0m \u001b[1;33m\u001b[0m\u001b[0m\n\u001b[0;32m    577\u001b[0m     \u001b[1;32mif\u001b[0m \u001b[0mchunksize\u001b[0m \u001b[1;32mor\u001b[0m \u001b[0miterator\u001b[0m\u001b[1;33m:\u001b[0m\u001b[1;33m\u001b[0m\u001b[1;33m\u001b[0m\u001b[0m\n",
      "\u001b[1;32m~\\anaconda3\\lib\\site-packages\\pandas\\io\\parsers\\readers.py\u001b[0m in \u001b[0;36m__init__\u001b[1;34m(self, f, engine, **kwds)\u001b[0m\n\u001b[0;32m    930\u001b[0m \u001b[1;33m\u001b[0m\u001b[0m\n\u001b[0;32m    931\u001b[0m         \u001b[0mself\u001b[0m\u001b[1;33m.\u001b[0m\u001b[0mhandles\u001b[0m\u001b[1;33m:\u001b[0m \u001b[0mIOHandles\u001b[0m \u001b[1;33m|\u001b[0m \u001b[1;32mNone\u001b[0m \u001b[1;33m=\u001b[0m \u001b[1;32mNone\u001b[0m\u001b[1;33m\u001b[0m\u001b[1;33m\u001b[0m\u001b[0m\n\u001b[1;32m--> 932\u001b[1;33m         \u001b[0mself\u001b[0m\u001b[1;33m.\u001b[0m\u001b[0m_engine\u001b[0m \u001b[1;33m=\u001b[0m \u001b[0mself\u001b[0m\u001b[1;33m.\u001b[0m\u001b[0m_make_engine\u001b[0m\u001b[1;33m(\u001b[0m\u001b[0mf\u001b[0m\u001b[1;33m,\u001b[0m \u001b[0mself\u001b[0m\u001b[1;33m.\u001b[0m\u001b[0mengine\u001b[0m\u001b[1;33m)\u001b[0m\u001b[1;33m\u001b[0m\u001b[1;33m\u001b[0m\u001b[0m\n\u001b[0m\u001b[0;32m    933\u001b[0m \u001b[1;33m\u001b[0m\u001b[0m\n\u001b[0;32m    934\u001b[0m     \u001b[1;32mdef\u001b[0m \u001b[0mclose\u001b[0m\u001b[1;33m(\u001b[0m\u001b[0mself\u001b[0m\u001b[1;33m)\u001b[0m\u001b[1;33m:\u001b[0m\u001b[1;33m\u001b[0m\u001b[1;33m\u001b[0m\u001b[0m\n",
      "\u001b[1;32m~\\anaconda3\\lib\\site-packages\\pandas\\io\\parsers\\readers.py\u001b[0m in \u001b[0;36m_make_engine\u001b[1;34m(self, f, engine)\u001b[0m\n\u001b[0;32m   1214\u001b[0m             \u001b[1;31m# \"Union[str, PathLike[str], ReadCsvBuffer[bytes], ReadCsvBuffer[str]]\"\u001b[0m\u001b[1;33m\u001b[0m\u001b[1;33m\u001b[0m\u001b[0m\n\u001b[0;32m   1215\u001b[0m             \u001b[1;31m# , \"str\", \"bool\", \"Any\", \"Any\", \"Any\", \"Any\", \"Any\"\u001b[0m\u001b[1;33m\u001b[0m\u001b[1;33m\u001b[0m\u001b[0m\n\u001b[1;32m-> 1216\u001b[1;33m             self.handles = get_handle(  # type: ignore[call-overload]\n\u001b[0m\u001b[0;32m   1217\u001b[0m                 \u001b[0mf\u001b[0m\u001b[1;33m,\u001b[0m\u001b[1;33m\u001b[0m\u001b[1;33m\u001b[0m\u001b[0m\n\u001b[0;32m   1218\u001b[0m                 \u001b[0mmode\u001b[0m\u001b[1;33m,\u001b[0m\u001b[1;33m\u001b[0m\u001b[1;33m\u001b[0m\u001b[0m\n",
      "\u001b[1;32m~\\anaconda3\\lib\\site-packages\\pandas\\io\\common.py\u001b[0m in \u001b[0;36mget_handle\u001b[1;34m(path_or_buf, mode, encoding, compression, memory_map, is_text, errors, storage_options)\u001b[0m\n\u001b[0;32m    784\u001b[0m         \u001b[1;32mif\u001b[0m \u001b[0mioargs\u001b[0m\u001b[1;33m.\u001b[0m\u001b[0mencoding\u001b[0m \u001b[1;32mand\u001b[0m \u001b[1;34m\"b\"\u001b[0m \u001b[1;32mnot\u001b[0m \u001b[1;32min\u001b[0m \u001b[0mioargs\u001b[0m\u001b[1;33m.\u001b[0m\u001b[0mmode\u001b[0m\u001b[1;33m:\u001b[0m\u001b[1;33m\u001b[0m\u001b[1;33m\u001b[0m\u001b[0m\n\u001b[0;32m    785\u001b[0m             \u001b[1;31m# Encoding\u001b[0m\u001b[1;33m\u001b[0m\u001b[1;33m\u001b[0m\u001b[0m\n\u001b[1;32m--> 786\u001b[1;33m             handle = open(\n\u001b[0m\u001b[0;32m    787\u001b[0m                 \u001b[0mhandle\u001b[0m\u001b[1;33m,\u001b[0m\u001b[1;33m\u001b[0m\u001b[1;33m\u001b[0m\u001b[0m\n\u001b[0;32m    788\u001b[0m                 \u001b[0mioargs\u001b[0m\u001b[1;33m.\u001b[0m\u001b[0mmode\u001b[0m\u001b[1;33m,\u001b[0m\u001b[1;33m\u001b[0m\u001b[1;33m\u001b[0m\u001b[0m\n",
      "\u001b[1;31mFileNotFoundError\u001b[0m: [Errno 2] No such file or directory: 'FAOSTAT\\\\p2o5.csv'"
     ]
    }
   ],
   "source": [
    "df27 = pd.read_csv('FAOSTAT\\p2o5.csv', on_bad_lines='skip') # Fertiliser tonnes of p2o5 (phosphate)\n",
    "# # msno.matrix(df27)  # ppi is dimensionless so NaN for units is not an issue\n",
    "df27= df27[(df27['Area'].isin(EUROPEAN_UNION.names))] #EU only\n",
    "df27['Key'] = df27['Area'] + df27['Year'].astype(str) # add a merging key\n",
    "df27.rename(columns = {'Value':'p2o5-T'}, inplace = True)\n",
    "df27['p2o5-T'] = df27['p2o5-T'].astype(int)  # Converts phosphate float column to an integer number of tonnes\n",
    "df28 = df26.merge(df27[['Key', 'p2o5-T']], on='Key')\n",
    "df28.head()\n",
    "# msno.matrix(df28)  # When uncommented indicates no missing data "
   ]
  },
  {
   "cell_type": "code",
   "execution_count": 147,
   "metadata": {},
   "outputs": [
    {
     "ename": "NameError",
     "evalue": "name 'df27' is not defined",
     "output_type": "error",
     "traceback": [
      "\u001b[1;31m---------------------------------------------------------------------------\u001b[0m",
      "\u001b[1;31mNameError\u001b[0m                                 Traceback (most recent call last)",
      "\u001b[1;32m~\\AppData\\Local\\Temp\\ipykernel_7340\\2512255605.py\u001b[0m in \u001b[0;36m<module>\u001b[1;34m\u001b[0m\n\u001b[1;32m----> 1\u001b[1;33m \u001b[0mmsno\u001b[0m\u001b[1;33m.\u001b[0m\u001b[0mbar\u001b[0m\u001b[1;33m(\u001b[0m\u001b[0mdf27\u001b[0m\u001b[1;33m)\u001b[0m\u001b[1;33m\u001b[0m\u001b[1;33m\u001b[0m\u001b[0m\n\u001b[0m\u001b[0;32m      2\u001b[0m \u001b[1;31m# # # msno.matrix(df16)  # When uncommented indicates no missing data\u001b[0m\u001b[1;33m\u001b[0m\u001b[1;33m\u001b[0m\u001b[0m\n\u001b[0;32m      3\u001b[0m \u001b[0mdf27\u001b[0m\u001b[1;33m.\u001b[0m\u001b[0misna\u001b[0m\u001b[1;33m(\u001b[0m\u001b[1;33m)\u001b[0m\u001b[1;33m.\u001b[0m\u001b[0msum\u001b[0m\u001b[1;33m(\u001b[0m\u001b[1;33m)\u001b[0m\u001b[1;33m\u001b[0m\u001b[1;33m\u001b[0m\u001b[0m\n",
      "\u001b[1;31mNameError\u001b[0m: name 'df27' is not defined"
     ]
    }
   ],
   "source": [
    "msno.bar(df27)\n",
    "# # # msno.matrix(df16)  # When uncommented indicates no missing data \n",
    "df27.isna().sum()"
   ]
  },
  {
   "cell_type": "code",
   "execution_count": 148,
   "metadata": {},
   "outputs": [
    {
     "ename": "FileNotFoundError",
     "evalue": "[Errno 2] No such file or directory: 'FAOSTAT\\\\k2o.csv'",
     "output_type": "error",
     "traceback": [
      "\u001b[1;31m---------------------------------------------------------------------------\u001b[0m",
      "\u001b[1;31mFileNotFoundError\u001b[0m                         Traceback (most recent call last)",
      "\u001b[1;32m~\\AppData\\Local\\Temp\\ipykernel_7340\\383972558.py\u001b[0m in \u001b[0;36m<module>\u001b[1;34m\u001b[0m\n\u001b[1;32m----> 1\u001b[1;33m \u001b[0mdf29\u001b[0m \u001b[1;33m=\u001b[0m \u001b[0mpd\u001b[0m\u001b[1;33m.\u001b[0m\u001b[0mread_csv\u001b[0m\u001b[1;33m(\u001b[0m\u001b[1;34m'FAOSTAT\\k2o.csv'\u001b[0m\u001b[1;33m,\u001b[0m \u001b[0mon_bad_lines\u001b[0m\u001b[1;33m=\u001b[0m\u001b[1;34m'skip'\u001b[0m\u001b[1;33m)\u001b[0m \u001b[1;31m# Fertiliser tonnes of k20 (phosphate)\u001b[0m\u001b[1;33m\u001b[0m\u001b[1;33m\u001b[0m\u001b[0m\n\u001b[0m\u001b[0;32m      2\u001b[0m \u001b[0mdf29\u001b[0m\u001b[1;33m=\u001b[0m \u001b[0mdf29\u001b[0m\u001b[1;33m[\u001b[0m\u001b[1;33m(\u001b[0m\u001b[0mdf29\u001b[0m\u001b[1;33m[\u001b[0m\u001b[1;34m'Area'\u001b[0m\u001b[1;33m]\u001b[0m\u001b[1;33m.\u001b[0m\u001b[0misin\u001b[0m\u001b[1;33m(\u001b[0m\u001b[0mEUROPEAN_UNION\u001b[0m\u001b[1;33m.\u001b[0m\u001b[0mnames\u001b[0m\u001b[1;33m)\u001b[0m\u001b[1;33m)\u001b[0m\u001b[1;33m]\u001b[0m \u001b[1;31m#EU only\u001b[0m\u001b[1;33m\u001b[0m\u001b[1;33m\u001b[0m\u001b[0m\n\u001b[0;32m      3\u001b[0m \u001b[0mdf29\u001b[0m\u001b[1;33m[\u001b[0m\u001b[1;34m'Key'\u001b[0m\u001b[1;33m]\u001b[0m \u001b[1;33m=\u001b[0m \u001b[0mdf29\u001b[0m\u001b[1;33m[\u001b[0m\u001b[1;34m'Area'\u001b[0m\u001b[1;33m]\u001b[0m \u001b[1;33m+\u001b[0m \u001b[0mdf29\u001b[0m\u001b[1;33m[\u001b[0m\u001b[1;34m'Year'\u001b[0m\u001b[1;33m]\u001b[0m\u001b[1;33m.\u001b[0m\u001b[0mastype\u001b[0m\u001b[1;33m(\u001b[0m\u001b[0mstr\u001b[0m\u001b[1;33m)\u001b[0m \u001b[1;31m# add a merging key\u001b[0m\u001b[1;33m\u001b[0m\u001b[1;33m\u001b[0m\u001b[0m\n\u001b[0;32m      4\u001b[0m \u001b[0mdf29\u001b[0m\u001b[1;33m[\u001b[0m\u001b[1;34m'k2o-T'\u001b[0m\u001b[1;33m]\u001b[0m \u001b[1;33m=\u001b[0m \u001b[1;33m(\u001b[0m\u001b[0mdf29\u001b[0m\u001b[1;33m[\u001b[0m\u001b[1;34m'Value'\u001b[0m\u001b[1;33m]\u001b[0m \u001b[1;33m)\u001b[0m\u001b[1;33m.\u001b[0m\u001b[0mastype\u001b[0m\u001b[1;33m(\u001b[0m\u001b[0mint\u001b[0m\u001b[1;33m)\u001b[0m\u001b[1;33m\u001b[0m\u001b[1;33m\u001b[0m\u001b[0m\n\u001b[0;32m      5\u001b[0m \u001b[0mdf29\u001b[0m\u001b[1;33m.\u001b[0m\u001b[0mfillna\u001b[0m\u001b[1;33m(\u001b[0m\u001b[1;36m0\u001b[0m\u001b[1;33m,\u001b[0m \u001b[0minplace\u001b[0m\u001b[1;33m=\u001b[0m\u001b[1;32mTrue\u001b[0m\u001b[1;33m)\u001b[0m\u001b[1;33m\u001b[0m\u001b[1;33m\u001b[0m\u001b[0m\n",
      "\u001b[1;32m~\\anaconda3\\lib\\site-packages\\pandas\\util\\_decorators.py\u001b[0m in \u001b[0;36mwrapper\u001b[1;34m(*args, **kwargs)\u001b[0m\n\u001b[0;32m    309\u001b[0m                     \u001b[0mstacklevel\u001b[0m\u001b[1;33m=\u001b[0m\u001b[0mstacklevel\u001b[0m\u001b[1;33m,\u001b[0m\u001b[1;33m\u001b[0m\u001b[1;33m\u001b[0m\u001b[0m\n\u001b[0;32m    310\u001b[0m                 )\n\u001b[1;32m--> 311\u001b[1;33m             \u001b[1;32mreturn\u001b[0m \u001b[0mfunc\u001b[0m\u001b[1;33m(\u001b[0m\u001b[1;33m*\u001b[0m\u001b[0margs\u001b[0m\u001b[1;33m,\u001b[0m \u001b[1;33m**\u001b[0m\u001b[0mkwargs\u001b[0m\u001b[1;33m)\u001b[0m\u001b[1;33m\u001b[0m\u001b[1;33m\u001b[0m\u001b[0m\n\u001b[0m\u001b[0;32m    312\u001b[0m \u001b[1;33m\u001b[0m\u001b[0m\n\u001b[0;32m    313\u001b[0m         \u001b[1;32mreturn\u001b[0m \u001b[0mwrapper\u001b[0m\u001b[1;33m\u001b[0m\u001b[1;33m\u001b[0m\u001b[0m\n",
      "\u001b[1;32m~\\anaconda3\\lib\\site-packages\\pandas\\io\\parsers\\readers.py\u001b[0m in \u001b[0;36mread_csv\u001b[1;34m(filepath_or_buffer, sep, delimiter, header, names, index_col, usecols, squeeze, prefix, mangle_dupe_cols, dtype, engine, converters, true_values, false_values, skipinitialspace, skiprows, skipfooter, nrows, na_values, keep_default_na, na_filter, verbose, skip_blank_lines, parse_dates, infer_datetime_format, keep_date_col, date_parser, dayfirst, cache_dates, iterator, chunksize, compression, thousands, decimal, lineterminator, quotechar, quoting, doublequote, escapechar, comment, encoding, encoding_errors, dialect, error_bad_lines, warn_bad_lines, on_bad_lines, delim_whitespace, low_memory, memory_map, float_precision, storage_options)\u001b[0m\n\u001b[0;32m    676\u001b[0m     \u001b[0mkwds\u001b[0m\u001b[1;33m.\u001b[0m\u001b[0mupdate\u001b[0m\u001b[1;33m(\u001b[0m\u001b[0mkwds_defaults\u001b[0m\u001b[1;33m)\u001b[0m\u001b[1;33m\u001b[0m\u001b[1;33m\u001b[0m\u001b[0m\n\u001b[0;32m    677\u001b[0m \u001b[1;33m\u001b[0m\u001b[0m\n\u001b[1;32m--> 678\u001b[1;33m     \u001b[1;32mreturn\u001b[0m \u001b[0m_read\u001b[0m\u001b[1;33m(\u001b[0m\u001b[0mfilepath_or_buffer\u001b[0m\u001b[1;33m,\u001b[0m \u001b[0mkwds\u001b[0m\u001b[1;33m)\u001b[0m\u001b[1;33m\u001b[0m\u001b[1;33m\u001b[0m\u001b[0m\n\u001b[0m\u001b[0;32m    679\u001b[0m \u001b[1;33m\u001b[0m\u001b[0m\n\u001b[0;32m    680\u001b[0m \u001b[1;33m\u001b[0m\u001b[0m\n",
      "\u001b[1;32m~\\anaconda3\\lib\\site-packages\\pandas\\io\\parsers\\readers.py\u001b[0m in \u001b[0;36m_read\u001b[1;34m(filepath_or_buffer, kwds)\u001b[0m\n\u001b[0;32m    573\u001b[0m \u001b[1;33m\u001b[0m\u001b[0m\n\u001b[0;32m    574\u001b[0m     \u001b[1;31m# Create the parser.\u001b[0m\u001b[1;33m\u001b[0m\u001b[1;33m\u001b[0m\u001b[0m\n\u001b[1;32m--> 575\u001b[1;33m     \u001b[0mparser\u001b[0m \u001b[1;33m=\u001b[0m \u001b[0mTextFileReader\u001b[0m\u001b[1;33m(\u001b[0m\u001b[0mfilepath_or_buffer\u001b[0m\u001b[1;33m,\u001b[0m \u001b[1;33m**\u001b[0m\u001b[0mkwds\u001b[0m\u001b[1;33m)\u001b[0m\u001b[1;33m\u001b[0m\u001b[1;33m\u001b[0m\u001b[0m\n\u001b[0m\u001b[0;32m    576\u001b[0m \u001b[1;33m\u001b[0m\u001b[0m\n\u001b[0;32m    577\u001b[0m     \u001b[1;32mif\u001b[0m \u001b[0mchunksize\u001b[0m \u001b[1;32mor\u001b[0m \u001b[0miterator\u001b[0m\u001b[1;33m:\u001b[0m\u001b[1;33m\u001b[0m\u001b[1;33m\u001b[0m\u001b[0m\n",
      "\u001b[1;32m~\\anaconda3\\lib\\site-packages\\pandas\\io\\parsers\\readers.py\u001b[0m in \u001b[0;36m__init__\u001b[1;34m(self, f, engine, **kwds)\u001b[0m\n\u001b[0;32m    930\u001b[0m \u001b[1;33m\u001b[0m\u001b[0m\n\u001b[0;32m    931\u001b[0m         \u001b[0mself\u001b[0m\u001b[1;33m.\u001b[0m\u001b[0mhandles\u001b[0m\u001b[1;33m:\u001b[0m \u001b[0mIOHandles\u001b[0m \u001b[1;33m|\u001b[0m \u001b[1;32mNone\u001b[0m \u001b[1;33m=\u001b[0m \u001b[1;32mNone\u001b[0m\u001b[1;33m\u001b[0m\u001b[1;33m\u001b[0m\u001b[0m\n\u001b[1;32m--> 932\u001b[1;33m         \u001b[0mself\u001b[0m\u001b[1;33m.\u001b[0m\u001b[0m_engine\u001b[0m \u001b[1;33m=\u001b[0m \u001b[0mself\u001b[0m\u001b[1;33m.\u001b[0m\u001b[0m_make_engine\u001b[0m\u001b[1;33m(\u001b[0m\u001b[0mf\u001b[0m\u001b[1;33m,\u001b[0m \u001b[0mself\u001b[0m\u001b[1;33m.\u001b[0m\u001b[0mengine\u001b[0m\u001b[1;33m)\u001b[0m\u001b[1;33m\u001b[0m\u001b[1;33m\u001b[0m\u001b[0m\n\u001b[0m\u001b[0;32m    933\u001b[0m \u001b[1;33m\u001b[0m\u001b[0m\n\u001b[0;32m    934\u001b[0m     \u001b[1;32mdef\u001b[0m \u001b[0mclose\u001b[0m\u001b[1;33m(\u001b[0m\u001b[0mself\u001b[0m\u001b[1;33m)\u001b[0m\u001b[1;33m:\u001b[0m\u001b[1;33m\u001b[0m\u001b[1;33m\u001b[0m\u001b[0m\n",
      "\u001b[1;32m~\\anaconda3\\lib\\site-packages\\pandas\\io\\parsers\\readers.py\u001b[0m in \u001b[0;36m_make_engine\u001b[1;34m(self, f, engine)\u001b[0m\n\u001b[0;32m   1214\u001b[0m             \u001b[1;31m# \"Union[str, PathLike[str], ReadCsvBuffer[bytes], ReadCsvBuffer[str]]\"\u001b[0m\u001b[1;33m\u001b[0m\u001b[1;33m\u001b[0m\u001b[0m\n\u001b[0;32m   1215\u001b[0m             \u001b[1;31m# , \"str\", \"bool\", \"Any\", \"Any\", \"Any\", \"Any\", \"Any\"\u001b[0m\u001b[1;33m\u001b[0m\u001b[1;33m\u001b[0m\u001b[0m\n\u001b[1;32m-> 1216\u001b[1;33m             self.handles = get_handle(  # type: ignore[call-overload]\n\u001b[0m\u001b[0;32m   1217\u001b[0m                 \u001b[0mf\u001b[0m\u001b[1;33m,\u001b[0m\u001b[1;33m\u001b[0m\u001b[1;33m\u001b[0m\u001b[0m\n\u001b[0;32m   1218\u001b[0m                 \u001b[0mmode\u001b[0m\u001b[1;33m,\u001b[0m\u001b[1;33m\u001b[0m\u001b[1;33m\u001b[0m\u001b[0m\n",
      "\u001b[1;32m~\\anaconda3\\lib\\site-packages\\pandas\\io\\common.py\u001b[0m in \u001b[0;36mget_handle\u001b[1;34m(path_or_buf, mode, encoding, compression, memory_map, is_text, errors, storage_options)\u001b[0m\n\u001b[0;32m    784\u001b[0m         \u001b[1;32mif\u001b[0m \u001b[0mioargs\u001b[0m\u001b[1;33m.\u001b[0m\u001b[0mencoding\u001b[0m \u001b[1;32mand\u001b[0m \u001b[1;34m\"b\"\u001b[0m \u001b[1;32mnot\u001b[0m \u001b[1;32min\u001b[0m \u001b[0mioargs\u001b[0m\u001b[1;33m.\u001b[0m\u001b[0mmode\u001b[0m\u001b[1;33m:\u001b[0m\u001b[1;33m\u001b[0m\u001b[1;33m\u001b[0m\u001b[0m\n\u001b[0;32m    785\u001b[0m             \u001b[1;31m# Encoding\u001b[0m\u001b[1;33m\u001b[0m\u001b[1;33m\u001b[0m\u001b[0m\n\u001b[1;32m--> 786\u001b[1;33m             handle = open(\n\u001b[0m\u001b[0;32m    787\u001b[0m                 \u001b[0mhandle\u001b[0m\u001b[1;33m,\u001b[0m\u001b[1;33m\u001b[0m\u001b[1;33m\u001b[0m\u001b[0m\n\u001b[0;32m    788\u001b[0m                 \u001b[0mioargs\u001b[0m\u001b[1;33m.\u001b[0m\u001b[0mmode\u001b[0m\u001b[1;33m,\u001b[0m\u001b[1;33m\u001b[0m\u001b[1;33m\u001b[0m\u001b[0m\n",
      "\u001b[1;31mFileNotFoundError\u001b[0m: [Errno 2] No such file or directory: 'FAOSTAT\\\\k2o.csv'"
     ]
    }
   ],
   "source": [
    "df29 = pd.read_csv('FAOSTAT\\k2o.csv', on_bad_lines='skip') # Fertiliser tonnes of k20 (phosphate)\n",
    "df29= df29[(df29['Area'].isin(EUROPEAN_UNION.names))] #EU only\n",
    "df29['Key'] = df29['Area'] + df29['Year'].astype(str) # add a merging key\n",
    "df29['k2o-T'] = (df29['Value'] ).astype(int)\n",
    "df29.fillna(0, inplace=True)\n",
    "df30 = df28.merge(df29[['Key', 'k2o-T']], on='Key')\n",
    "df30.head()"
   ]
  },
  {
   "cell_type": "code",
   "execution_count": 149,
   "metadata": {},
   "outputs": [
    {
     "ename": "FileNotFoundError",
     "evalue": "[WinError 3] The system cannot find the path specified: 'FAOSTAT'",
     "output_type": "error",
     "traceback": [
      "\u001b[1;31m---------------------------------------------------------------------------\u001b[0m",
      "\u001b[1;31mFileNotFoundError\u001b[0m                         Traceback (most recent call last)",
      "\u001b[1;32m~\\AppData\\Local\\Temp\\ipykernel_7340\\4060669988.py\u001b[0m in \u001b[0;36m<module>\u001b[1;34m\u001b[0m\n\u001b[1;32m----> 1\u001b[1;33m \u001b[0mrawdata\u001b[0m\u001b[1;33m=\u001b[0m\u001b[0mos\u001b[0m\u001b[1;33m.\u001b[0m\u001b[0mlistdir\u001b[0m\u001b[1;33m(\u001b[0m\u001b[1;34m'FAOSTAT'\u001b[0m\u001b[1;33m)\u001b[0m\u001b[1;33m\u001b[0m\u001b[1;33m\u001b[0m\u001b[0m\n\u001b[0m\u001b[0;32m      2\u001b[0m \u001b[0mrawdata\u001b[0m\u001b[1;33m\u001b[0m\u001b[1;33m\u001b[0m\u001b[0m\n",
      "\u001b[1;31mFileNotFoundError\u001b[0m: [WinError 3] The system cannot find the path specified: 'FAOSTAT'"
     ]
    }
   ],
   "source": [
    "rawdata=os.listdir('FAOSTAT')\n",
    "rawdata"
   ]
  },
  {
   "cell_type": "code",
   "execution_count": 150,
   "metadata": {},
   "outputs": [
    {
     "ename": "FileNotFoundError",
     "evalue": "[Errno 2] No such file or directory: 'FAOSTAT\\\\FAOSTAT_data_en_2-6-2023 (4).csv'",
     "output_type": "error",
     "traceback": [
      "\u001b[1;31m---------------------------------------------------------------------------\u001b[0m",
      "\u001b[1;31mFileNotFoundError\u001b[0m                         Traceback (most recent call last)",
      "\u001b[1;32m~\\AppData\\Local\\Temp\\ipykernel_7340\\1433715441.py\u001b[0m in \u001b[0;36m<module>\u001b[1;34m\u001b[0m\n\u001b[1;32m----> 1\u001b[1;33m \u001b[0mdf40\u001b[0m\u001b[1;33m=\u001b[0m \u001b[0mpd\u001b[0m\u001b[1;33m.\u001b[0m\u001b[0mread_csv\u001b[0m\u001b[1;33m(\u001b[0m\u001b[1;34m'FAOSTAT\\FAOSTAT_data_en_2-6-2023 (4).csv'\u001b[0m\u001b[1;33m,\u001b[0m \u001b[0mon_bad_lines\u001b[0m\u001b[1;33m=\u001b[0m\u001b[1;34m'skip'\u001b[0m\u001b[1;33m)\u001b[0m\u001b[1;33m\u001b[0m\u001b[1;33m\u001b[0m\u001b[0m\n\u001b[0m\u001b[0;32m      2\u001b[0m \u001b[1;33m\u001b[0m\u001b[0m\n\u001b[0;32m      3\u001b[0m \u001b[1;33m\u001b[0m\u001b[0m\n\u001b[0;32m      4\u001b[0m \u001b[1;31m# dfA = pd.read_csv('FAOSTAT\\FAOSTAT_data_en_2-6-2023 (4).csv', on_bad_lines='skip')\u001b[0m\u001b[1;33m\u001b[0m\u001b[1;33m\u001b[0m\u001b[0m\n\u001b[0;32m      5\u001b[0m \u001b[1;31m# dfA\u001b[0m\u001b[1;33m\u001b[0m\u001b[1;33m\u001b[0m\u001b[0m\n",
      "\u001b[1;32m~\\anaconda3\\lib\\site-packages\\pandas\\util\\_decorators.py\u001b[0m in \u001b[0;36mwrapper\u001b[1;34m(*args, **kwargs)\u001b[0m\n\u001b[0;32m    309\u001b[0m                     \u001b[0mstacklevel\u001b[0m\u001b[1;33m=\u001b[0m\u001b[0mstacklevel\u001b[0m\u001b[1;33m,\u001b[0m\u001b[1;33m\u001b[0m\u001b[1;33m\u001b[0m\u001b[0m\n\u001b[0;32m    310\u001b[0m                 )\n\u001b[1;32m--> 311\u001b[1;33m             \u001b[1;32mreturn\u001b[0m \u001b[0mfunc\u001b[0m\u001b[1;33m(\u001b[0m\u001b[1;33m*\u001b[0m\u001b[0margs\u001b[0m\u001b[1;33m,\u001b[0m \u001b[1;33m**\u001b[0m\u001b[0mkwargs\u001b[0m\u001b[1;33m)\u001b[0m\u001b[1;33m\u001b[0m\u001b[1;33m\u001b[0m\u001b[0m\n\u001b[0m\u001b[0;32m    312\u001b[0m \u001b[1;33m\u001b[0m\u001b[0m\n\u001b[0;32m    313\u001b[0m         \u001b[1;32mreturn\u001b[0m \u001b[0mwrapper\u001b[0m\u001b[1;33m\u001b[0m\u001b[1;33m\u001b[0m\u001b[0m\n",
      "\u001b[1;32m~\\anaconda3\\lib\\site-packages\\pandas\\io\\parsers\\readers.py\u001b[0m in \u001b[0;36mread_csv\u001b[1;34m(filepath_or_buffer, sep, delimiter, header, names, index_col, usecols, squeeze, prefix, mangle_dupe_cols, dtype, engine, converters, true_values, false_values, skipinitialspace, skiprows, skipfooter, nrows, na_values, keep_default_na, na_filter, verbose, skip_blank_lines, parse_dates, infer_datetime_format, keep_date_col, date_parser, dayfirst, cache_dates, iterator, chunksize, compression, thousands, decimal, lineterminator, quotechar, quoting, doublequote, escapechar, comment, encoding, encoding_errors, dialect, error_bad_lines, warn_bad_lines, on_bad_lines, delim_whitespace, low_memory, memory_map, float_precision, storage_options)\u001b[0m\n\u001b[0;32m    676\u001b[0m     \u001b[0mkwds\u001b[0m\u001b[1;33m.\u001b[0m\u001b[0mupdate\u001b[0m\u001b[1;33m(\u001b[0m\u001b[0mkwds_defaults\u001b[0m\u001b[1;33m)\u001b[0m\u001b[1;33m\u001b[0m\u001b[1;33m\u001b[0m\u001b[0m\n\u001b[0;32m    677\u001b[0m \u001b[1;33m\u001b[0m\u001b[0m\n\u001b[1;32m--> 678\u001b[1;33m     \u001b[1;32mreturn\u001b[0m \u001b[0m_read\u001b[0m\u001b[1;33m(\u001b[0m\u001b[0mfilepath_or_buffer\u001b[0m\u001b[1;33m,\u001b[0m \u001b[0mkwds\u001b[0m\u001b[1;33m)\u001b[0m\u001b[1;33m\u001b[0m\u001b[1;33m\u001b[0m\u001b[0m\n\u001b[0m\u001b[0;32m    679\u001b[0m \u001b[1;33m\u001b[0m\u001b[0m\n\u001b[0;32m    680\u001b[0m \u001b[1;33m\u001b[0m\u001b[0m\n",
      "\u001b[1;32m~\\anaconda3\\lib\\site-packages\\pandas\\io\\parsers\\readers.py\u001b[0m in \u001b[0;36m_read\u001b[1;34m(filepath_or_buffer, kwds)\u001b[0m\n\u001b[0;32m    573\u001b[0m \u001b[1;33m\u001b[0m\u001b[0m\n\u001b[0;32m    574\u001b[0m     \u001b[1;31m# Create the parser.\u001b[0m\u001b[1;33m\u001b[0m\u001b[1;33m\u001b[0m\u001b[0m\n\u001b[1;32m--> 575\u001b[1;33m     \u001b[0mparser\u001b[0m \u001b[1;33m=\u001b[0m \u001b[0mTextFileReader\u001b[0m\u001b[1;33m(\u001b[0m\u001b[0mfilepath_or_buffer\u001b[0m\u001b[1;33m,\u001b[0m \u001b[1;33m**\u001b[0m\u001b[0mkwds\u001b[0m\u001b[1;33m)\u001b[0m\u001b[1;33m\u001b[0m\u001b[1;33m\u001b[0m\u001b[0m\n\u001b[0m\u001b[0;32m    576\u001b[0m \u001b[1;33m\u001b[0m\u001b[0m\n\u001b[0;32m    577\u001b[0m     \u001b[1;32mif\u001b[0m \u001b[0mchunksize\u001b[0m \u001b[1;32mor\u001b[0m \u001b[0miterator\u001b[0m\u001b[1;33m:\u001b[0m\u001b[1;33m\u001b[0m\u001b[1;33m\u001b[0m\u001b[0m\n",
      "\u001b[1;32m~\\anaconda3\\lib\\site-packages\\pandas\\io\\parsers\\readers.py\u001b[0m in \u001b[0;36m__init__\u001b[1;34m(self, f, engine, **kwds)\u001b[0m\n\u001b[0;32m    930\u001b[0m \u001b[1;33m\u001b[0m\u001b[0m\n\u001b[0;32m    931\u001b[0m         \u001b[0mself\u001b[0m\u001b[1;33m.\u001b[0m\u001b[0mhandles\u001b[0m\u001b[1;33m:\u001b[0m \u001b[0mIOHandles\u001b[0m \u001b[1;33m|\u001b[0m \u001b[1;32mNone\u001b[0m \u001b[1;33m=\u001b[0m \u001b[1;32mNone\u001b[0m\u001b[1;33m\u001b[0m\u001b[1;33m\u001b[0m\u001b[0m\n\u001b[1;32m--> 932\u001b[1;33m         \u001b[0mself\u001b[0m\u001b[1;33m.\u001b[0m\u001b[0m_engine\u001b[0m \u001b[1;33m=\u001b[0m \u001b[0mself\u001b[0m\u001b[1;33m.\u001b[0m\u001b[0m_make_engine\u001b[0m\u001b[1;33m(\u001b[0m\u001b[0mf\u001b[0m\u001b[1;33m,\u001b[0m \u001b[0mself\u001b[0m\u001b[1;33m.\u001b[0m\u001b[0mengine\u001b[0m\u001b[1;33m)\u001b[0m\u001b[1;33m\u001b[0m\u001b[1;33m\u001b[0m\u001b[0m\n\u001b[0m\u001b[0;32m    933\u001b[0m \u001b[1;33m\u001b[0m\u001b[0m\n\u001b[0;32m    934\u001b[0m     \u001b[1;32mdef\u001b[0m \u001b[0mclose\u001b[0m\u001b[1;33m(\u001b[0m\u001b[0mself\u001b[0m\u001b[1;33m)\u001b[0m\u001b[1;33m:\u001b[0m\u001b[1;33m\u001b[0m\u001b[1;33m\u001b[0m\u001b[0m\n",
      "\u001b[1;32m~\\anaconda3\\lib\\site-packages\\pandas\\io\\parsers\\readers.py\u001b[0m in \u001b[0;36m_make_engine\u001b[1;34m(self, f, engine)\u001b[0m\n\u001b[0;32m   1214\u001b[0m             \u001b[1;31m# \"Union[str, PathLike[str], ReadCsvBuffer[bytes], ReadCsvBuffer[str]]\"\u001b[0m\u001b[1;33m\u001b[0m\u001b[1;33m\u001b[0m\u001b[0m\n\u001b[0;32m   1215\u001b[0m             \u001b[1;31m# , \"str\", \"bool\", \"Any\", \"Any\", \"Any\", \"Any\", \"Any\"\u001b[0m\u001b[1;33m\u001b[0m\u001b[1;33m\u001b[0m\u001b[0m\n\u001b[1;32m-> 1216\u001b[1;33m             self.handles = get_handle(  # type: ignore[call-overload]\n\u001b[0m\u001b[0;32m   1217\u001b[0m                 \u001b[0mf\u001b[0m\u001b[1;33m,\u001b[0m\u001b[1;33m\u001b[0m\u001b[1;33m\u001b[0m\u001b[0m\n\u001b[0;32m   1218\u001b[0m                 \u001b[0mmode\u001b[0m\u001b[1;33m,\u001b[0m\u001b[1;33m\u001b[0m\u001b[1;33m\u001b[0m\u001b[0m\n",
      "\u001b[1;32m~\\anaconda3\\lib\\site-packages\\pandas\\io\\common.py\u001b[0m in \u001b[0;36mget_handle\u001b[1;34m(path_or_buf, mode, encoding, compression, memory_map, is_text, errors, storage_options)\u001b[0m\n\u001b[0;32m    784\u001b[0m         \u001b[1;32mif\u001b[0m \u001b[0mioargs\u001b[0m\u001b[1;33m.\u001b[0m\u001b[0mencoding\u001b[0m \u001b[1;32mand\u001b[0m \u001b[1;34m\"b\"\u001b[0m \u001b[1;32mnot\u001b[0m \u001b[1;32min\u001b[0m \u001b[0mioargs\u001b[0m\u001b[1;33m.\u001b[0m\u001b[0mmode\u001b[0m\u001b[1;33m:\u001b[0m\u001b[1;33m\u001b[0m\u001b[1;33m\u001b[0m\u001b[0m\n\u001b[0;32m    785\u001b[0m             \u001b[1;31m# Encoding\u001b[0m\u001b[1;33m\u001b[0m\u001b[1;33m\u001b[0m\u001b[0m\n\u001b[1;32m--> 786\u001b[1;33m             handle = open(\n\u001b[0m\u001b[0;32m    787\u001b[0m                 \u001b[0mhandle\u001b[0m\u001b[1;33m,\u001b[0m\u001b[1;33m\u001b[0m\u001b[1;33m\u001b[0m\u001b[0m\n\u001b[0;32m    788\u001b[0m                 \u001b[0mioargs\u001b[0m\u001b[1;33m.\u001b[0m\u001b[0mmode\u001b[0m\u001b[1;33m,\u001b[0m\u001b[1;33m\u001b[0m\u001b[1;33m\u001b[0m\u001b[0m\n",
      "\u001b[1;31mFileNotFoundError\u001b[0m: [Errno 2] No such file or directory: 'FAOSTAT\\\\FAOSTAT_data_en_2-6-2023 (4).csv'"
     ]
    }
   ],
   "source": [
    "df40= pd.read_csv('FAOSTAT\\FAOSTAT_data_en_2-6-2023 (4).csv', on_bad_lines='skip') \n",
    "\n",
    "\n",
    "# dfA = pd.read_csv('FAOSTAT\\FAOSTAT_data_en_2-6-2023 (4).csv', on_bad_lines='skip') \n",
    "# dfA\n",
    "\n",
    "\n",
    "df40= df40[(df40['Area'].isin(EUROPEAN_UNION.names))] #EU only\n",
    "\n",
    "df40['Key'] = df40['Area'] + df40['Year'].astype(str) # add a merging key\n",
    "df40\n",
    "df40['N2_T'] = (df40['Value'] ).astype(int)\n",
    "# df40.rename(columns = {'Value':'n-T'}, inplace = True)\n",
    "df41 = df30.merge(df40[['Key', 'N2_T']], on='Key')\n",
    "df41.head()\n",
    "# # msno.matrix(df28)  # When uncommented indicates no missing data "
   ]
  },
  {
   "cell_type": "code",
   "execution_count": 151,
   "metadata": {},
   "outputs": [
    {
     "ename": "FileNotFoundError",
     "evalue": "[Errno 2] No such file or directory: 'FAOSTAT\\\\export-value.csv'",
     "output_type": "error",
     "traceback": [
      "\u001b[1;31m---------------------------------------------------------------------------\u001b[0m",
      "\u001b[1;31mFileNotFoundError\u001b[0m                         Traceback (most recent call last)",
      "\u001b[1;32m~\\AppData\\Local\\Temp\\ipykernel_7340\\165517107.py\u001b[0m in \u001b[0;36m<module>\u001b[1;34m\u001b[0m\n\u001b[1;32m----> 1\u001b[1;33m \u001b[0mdf31\u001b[0m \u001b[1;33m=\u001b[0m \u001b[0mpd\u001b[0m\u001b[1;33m.\u001b[0m\u001b[0mread_csv\u001b[0m\u001b[1;33m(\u001b[0m\u001b[1;34m'FAOSTAT\\export-value.csv'\u001b[0m\u001b[1;33m,\u001b[0m \u001b[0mon_bad_lines\u001b[0m\u001b[1;33m=\u001b[0m\u001b[1;34m'skip'\u001b[0m\u001b[1;33m)\u001b[0m \u001b[1;31m# Fertiliser tonnes of k20 (phosphate)\u001b[0m\u001b[1;33m\u001b[0m\u001b[1;33m\u001b[0m\u001b[0m\n\u001b[0m\u001b[0;32m      2\u001b[0m \u001b[0mdf31\u001b[0m\u001b[1;33m=\u001b[0m \u001b[0mdf31\u001b[0m\u001b[1;33m[\u001b[0m\u001b[1;33m(\u001b[0m\u001b[0mdf31\u001b[0m\u001b[1;33m[\u001b[0m\u001b[1;34m'Area'\u001b[0m\u001b[1;33m]\u001b[0m\u001b[1;33m.\u001b[0m\u001b[0misin\u001b[0m\u001b[1;33m(\u001b[0m\u001b[0mEUROPEAN_UNION\u001b[0m\u001b[1;33m.\u001b[0m\u001b[0mnames\u001b[0m\u001b[1;33m)\u001b[0m\u001b[1;33m)\u001b[0m\u001b[1;33m]\u001b[0m \u001b[1;31m#EU only\u001b[0m\u001b[1;33m\u001b[0m\u001b[1;33m\u001b[0m\u001b[0m\n\u001b[0;32m      3\u001b[0m \u001b[0mdf31\u001b[0m\u001b[1;33m[\u001b[0m\u001b[1;34m'Key'\u001b[0m\u001b[1;33m]\u001b[0m \u001b[1;33m=\u001b[0m \u001b[0mdf31\u001b[0m\u001b[1;33m[\u001b[0m\u001b[1;34m'Area'\u001b[0m\u001b[1;33m]\u001b[0m \u001b[1;33m+\u001b[0m \u001b[0mdf31\u001b[0m\u001b[1;33m[\u001b[0m\u001b[1;34m'Year'\u001b[0m\u001b[1;33m]\u001b[0m\u001b[1;33m.\u001b[0m\u001b[0mastype\u001b[0m\u001b[1;33m(\u001b[0m\u001b[0mstr\u001b[0m\u001b[1;33m)\u001b[0m \u001b[1;31m# add a merging key\u001b[0m\u001b[1;33m\u001b[0m\u001b[1;33m\u001b[0m\u001b[0m\n",
      "\u001b[1;32m~\\anaconda3\\lib\\site-packages\\pandas\\util\\_decorators.py\u001b[0m in \u001b[0;36mwrapper\u001b[1;34m(*args, **kwargs)\u001b[0m\n\u001b[0;32m    309\u001b[0m                     \u001b[0mstacklevel\u001b[0m\u001b[1;33m=\u001b[0m\u001b[0mstacklevel\u001b[0m\u001b[1;33m,\u001b[0m\u001b[1;33m\u001b[0m\u001b[1;33m\u001b[0m\u001b[0m\n\u001b[0;32m    310\u001b[0m                 )\n\u001b[1;32m--> 311\u001b[1;33m             \u001b[1;32mreturn\u001b[0m \u001b[0mfunc\u001b[0m\u001b[1;33m(\u001b[0m\u001b[1;33m*\u001b[0m\u001b[0margs\u001b[0m\u001b[1;33m,\u001b[0m \u001b[1;33m**\u001b[0m\u001b[0mkwargs\u001b[0m\u001b[1;33m)\u001b[0m\u001b[1;33m\u001b[0m\u001b[1;33m\u001b[0m\u001b[0m\n\u001b[0m\u001b[0;32m    312\u001b[0m \u001b[1;33m\u001b[0m\u001b[0m\n\u001b[0;32m    313\u001b[0m         \u001b[1;32mreturn\u001b[0m \u001b[0mwrapper\u001b[0m\u001b[1;33m\u001b[0m\u001b[1;33m\u001b[0m\u001b[0m\n",
      "\u001b[1;32m~\\anaconda3\\lib\\site-packages\\pandas\\io\\parsers\\readers.py\u001b[0m in \u001b[0;36mread_csv\u001b[1;34m(filepath_or_buffer, sep, delimiter, header, names, index_col, usecols, squeeze, prefix, mangle_dupe_cols, dtype, engine, converters, true_values, false_values, skipinitialspace, skiprows, skipfooter, nrows, na_values, keep_default_na, na_filter, verbose, skip_blank_lines, parse_dates, infer_datetime_format, keep_date_col, date_parser, dayfirst, cache_dates, iterator, chunksize, compression, thousands, decimal, lineterminator, quotechar, quoting, doublequote, escapechar, comment, encoding, encoding_errors, dialect, error_bad_lines, warn_bad_lines, on_bad_lines, delim_whitespace, low_memory, memory_map, float_precision, storage_options)\u001b[0m\n\u001b[0;32m    676\u001b[0m     \u001b[0mkwds\u001b[0m\u001b[1;33m.\u001b[0m\u001b[0mupdate\u001b[0m\u001b[1;33m(\u001b[0m\u001b[0mkwds_defaults\u001b[0m\u001b[1;33m)\u001b[0m\u001b[1;33m\u001b[0m\u001b[1;33m\u001b[0m\u001b[0m\n\u001b[0;32m    677\u001b[0m \u001b[1;33m\u001b[0m\u001b[0m\n\u001b[1;32m--> 678\u001b[1;33m     \u001b[1;32mreturn\u001b[0m \u001b[0m_read\u001b[0m\u001b[1;33m(\u001b[0m\u001b[0mfilepath_or_buffer\u001b[0m\u001b[1;33m,\u001b[0m \u001b[0mkwds\u001b[0m\u001b[1;33m)\u001b[0m\u001b[1;33m\u001b[0m\u001b[1;33m\u001b[0m\u001b[0m\n\u001b[0m\u001b[0;32m    679\u001b[0m \u001b[1;33m\u001b[0m\u001b[0m\n\u001b[0;32m    680\u001b[0m \u001b[1;33m\u001b[0m\u001b[0m\n",
      "\u001b[1;32m~\\anaconda3\\lib\\site-packages\\pandas\\io\\parsers\\readers.py\u001b[0m in \u001b[0;36m_read\u001b[1;34m(filepath_or_buffer, kwds)\u001b[0m\n\u001b[0;32m    573\u001b[0m \u001b[1;33m\u001b[0m\u001b[0m\n\u001b[0;32m    574\u001b[0m     \u001b[1;31m# Create the parser.\u001b[0m\u001b[1;33m\u001b[0m\u001b[1;33m\u001b[0m\u001b[0m\n\u001b[1;32m--> 575\u001b[1;33m     \u001b[0mparser\u001b[0m \u001b[1;33m=\u001b[0m \u001b[0mTextFileReader\u001b[0m\u001b[1;33m(\u001b[0m\u001b[0mfilepath_or_buffer\u001b[0m\u001b[1;33m,\u001b[0m \u001b[1;33m**\u001b[0m\u001b[0mkwds\u001b[0m\u001b[1;33m)\u001b[0m\u001b[1;33m\u001b[0m\u001b[1;33m\u001b[0m\u001b[0m\n\u001b[0m\u001b[0;32m    576\u001b[0m \u001b[1;33m\u001b[0m\u001b[0m\n\u001b[0;32m    577\u001b[0m     \u001b[1;32mif\u001b[0m \u001b[0mchunksize\u001b[0m \u001b[1;32mor\u001b[0m \u001b[0miterator\u001b[0m\u001b[1;33m:\u001b[0m\u001b[1;33m\u001b[0m\u001b[1;33m\u001b[0m\u001b[0m\n",
      "\u001b[1;32m~\\anaconda3\\lib\\site-packages\\pandas\\io\\parsers\\readers.py\u001b[0m in \u001b[0;36m__init__\u001b[1;34m(self, f, engine, **kwds)\u001b[0m\n\u001b[0;32m    930\u001b[0m \u001b[1;33m\u001b[0m\u001b[0m\n\u001b[0;32m    931\u001b[0m         \u001b[0mself\u001b[0m\u001b[1;33m.\u001b[0m\u001b[0mhandles\u001b[0m\u001b[1;33m:\u001b[0m \u001b[0mIOHandles\u001b[0m \u001b[1;33m|\u001b[0m \u001b[1;32mNone\u001b[0m \u001b[1;33m=\u001b[0m \u001b[1;32mNone\u001b[0m\u001b[1;33m\u001b[0m\u001b[1;33m\u001b[0m\u001b[0m\n\u001b[1;32m--> 932\u001b[1;33m         \u001b[0mself\u001b[0m\u001b[1;33m.\u001b[0m\u001b[0m_engine\u001b[0m \u001b[1;33m=\u001b[0m \u001b[0mself\u001b[0m\u001b[1;33m.\u001b[0m\u001b[0m_make_engine\u001b[0m\u001b[1;33m(\u001b[0m\u001b[0mf\u001b[0m\u001b[1;33m,\u001b[0m \u001b[0mself\u001b[0m\u001b[1;33m.\u001b[0m\u001b[0mengine\u001b[0m\u001b[1;33m)\u001b[0m\u001b[1;33m\u001b[0m\u001b[1;33m\u001b[0m\u001b[0m\n\u001b[0m\u001b[0;32m    933\u001b[0m \u001b[1;33m\u001b[0m\u001b[0m\n\u001b[0;32m    934\u001b[0m     \u001b[1;32mdef\u001b[0m \u001b[0mclose\u001b[0m\u001b[1;33m(\u001b[0m\u001b[0mself\u001b[0m\u001b[1;33m)\u001b[0m\u001b[1;33m:\u001b[0m\u001b[1;33m\u001b[0m\u001b[1;33m\u001b[0m\u001b[0m\n",
      "\u001b[1;32m~\\anaconda3\\lib\\site-packages\\pandas\\io\\parsers\\readers.py\u001b[0m in \u001b[0;36m_make_engine\u001b[1;34m(self, f, engine)\u001b[0m\n\u001b[0;32m   1214\u001b[0m             \u001b[1;31m# \"Union[str, PathLike[str], ReadCsvBuffer[bytes], ReadCsvBuffer[str]]\"\u001b[0m\u001b[1;33m\u001b[0m\u001b[1;33m\u001b[0m\u001b[0m\n\u001b[0;32m   1215\u001b[0m             \u001b[1;31m# , \"str\", \"bool\", \"Any\", \"Any\", \"Any\", \"Any\", \"Any\"\u001b[0m\u001b[1;33m\u001b[0m\u001b[1;33m\u001b[0m\u001b[0m\n\u001b[1;32m-> 1216\u001b[1;33m             self.handles = get_handle(  # type: ignore[call-overload]\n\u001b[0m\u001b[0;32m   1217\u001b[0m                 \u001b[0mf\u001b[0m\u001b[1;33m,\u001b[0m\u001b[1;33m\u001b[0m\u001b[1;33m\u001b[0m\u001b[0m\n\u001b[0;32m   1218\u001b[0m                 \u001b[0mmode\u001b[0m\u001b[1;33m,\u001b[0m\u001b[1;33m\u001b[0m\u001b[1;33m\u001b[0m\u001b[0m\n",
      "\u001b[1;32m~\\anaconda3\\lib\\site-packages\\pandas\\io\\common.py\u001b[0m in \u001b[0;36mget_handle\u001b[1;34m(path_or_buf, mode, encoding, compression, memory_map, is_text, errors, storage_options)\u001b[0m\n\u001b[0;32m    784\u001b[0m         \u001b[1;32mif\u001b[0m \u001b[0mioargs\u001b[0m\u001b[1;33m.\u001b[0m\u001b[0mencoding\u001b[0m \u001b[1;32mand\u001b[0m \u001b[1;34m\"b\"\u001b[0m \u001b[1;32mnot\u001b[0m \u001b[1;32min\u001b[0m \u001b[0mioargs\u001b[0m\u001b[1;33m.\u001b[0m\u001b[0mmode\u001b[0m\u001b[1;33m:\u001b[0m\u001b[1;33m\u001b[0m\u001b[1;33m\u001b[0m\u001b[0m\n\u001b[0;32m    785\u001b[0m             \u001b[1;31m# Encoding\u001b[0m\u001b[1;33m\u001b[0m\u001b[1;33m\u001b[0m\u001b[0m\n\u001b[1;32m--> 786\u001b[1;33m             handle = open(\n\u001b[0m\u001b[0;32m    787\u001b[0m                 \u001b[0mhandle\u001b[0m\u001b[1;33m,\u001b[0m\u001b[1;33m\u001b[0m\u001b[1;33m\u001b[0m\u001b[0m\n\u001b[0;32m    788\u001b[0m                 \u001b[0mioargs\u001b[0m\u001b[1;33m.\u001b[0m\u001b[0mmode\u001b[0m\u001b[1;33m,\u001b[0m\u001b[1;33m\u001b[0m\u001b[1;33m\u001b[0m\u001b[0m\n",
      "\u001b[1;31mFileNotFoundError\u001b[0m: [Errno 2] No such file or directory: 'FAOSTAT\\\\export-value.csv'"
     ]
    }
   ],
   "source": [
    "df31 = pd.read_csv('FAOSTAT\\export-value.csv', on_bad_lines='skip') # Fertiliser tonnes of k20 (phosphate)\n",
    "df31= df31[(df31['Area'].isin(EUROPEAN_UNION.names))] #EU only\n",
    "df31['Key'] = df31['Area'] + df31['Year'].astype(str) # add a merging key"
   ]
  },
  {
   "cell_type": "code",
   "execution_count": 152,
   "metadata": {},
   "outputs": [
    {
     "ename": "NameError",
     "evalue": "name 'df31' is not defined",
     "output_type": "error",
     "traceback": [
      "\u001b[1;31m---------------------------------------------------------------------------\u001b[0m",
      "\u001b[1;31mNameError\u001b[0m                                 Traceback (most recent call last)",
      "\u001b[1;32m~\\AppData\\Local\\Temp\\ipykernel_7340\\1259985154.py\u001b[0m in \u001b[0;36m<module>\u001b[1;34m\u001b[0m\n\u001b[0;32m      1\u001b[0m \u001b[1;31m# df31\u001b[0m\u001b[1;33m\u001b[0m\u001b[1;33m\u001b[0m\u001b[0m\n\u001b[1;32m----> 2\u001b[1;33m \u001b[0mdf31\u001b[0m\u001b[1;33m[\u001b[0m\u001b[1;34m'ex$1000'\u001b[0m\u001b[1;33m]\u001b[0m \u001b[1;33m=\u001b[0m \u001b[1;33m(\u001b[0m\u001b[0mdf31\u001b[0m\u001b[1;33m[\u001b[0m\u001b[1;34m'Value'\u001b[0m\u001b[1;33m]\u001b[0m \u001b[1;33m)\u001b[0m\u001b[1;33m.\u001b[0m\u001b[0mastype\u001b[0m\u001b[1;33m(\u001b[0m\u001b[0mint\u001b[0m\u001b[1;33m)\u001b[0m\u001b[1;33m\u001b[0m\u001b[1;33m\u001b[0m\u001b[0m\n\u001b[0m\u001b[0;32m      3\u001b[0m \u001b[0mdf31\u001b[0m\u001b[1;33m.\u001b[0m\u001b[0mhead\u001b[0m\u001b[1;33m(\u001b[0m\u001b[1;33m)\u001b[0m\u001b[1;33m\u001b[0m\u001b[1;33m\u001b[0m\u001b[0m\n\u001b[0;32m      4\u001b[0m \u001b[1;31m# msno.bar(df)\u001b[0m\u001b[1;33m\u001b[0m\u001b[1;33m\u001b[0m\u001b[0m\n\u001b[0;32m      5\u001b[0m \u001b[1;31m#msno.matrix(df)\u001b[0m\u001b[1;33m\u001b[0m\u001b[1;33m\u001b[0m\u001b[0m\n",
      "\u001b[1;31mNameError\u001b[0m: name 'df31' is not defined"
     ]
    }
   ],
   "source": [
    "# df31\n",
    "df31['ex$1000'] = (df31['Value'] ).astype(int)\n",
    "df31.head()\n",
    "# msno.bar(df)\n",
    "#msno.matrix(df)"
   ]
  },
  {
   "cell_type": "code",
   "execution_count": 153,
   "metadata": {},
   "outputs": [
    {
     "ename": "NameError",
     "evalue": "name 'df41' is not defined",
     "output_type": "error",
     "traceback": [
      "\u001b[1;31m---------------------------------------------------------------------------\u001b[0m",
      "\u001b[1;31mNameError\u001b[0m                                 Traceback (most recent call last)",
      "\u001b[1;32m~\\AppData\\Local\\Temp\\ipykernel_7340\\1134299286.py\u001b[0m in \u001b[0;36m<module>\u001b[1;34m\u001b[0m\n\u001b[0;32m      1\u001b[0m \u001b[1;31m# df31.rename(columns = {'Value':'export-value-T'}, inplace = True)\u001b[0m\u001b[1;33m\u001b[0m\u001b[1;33m\u001b[0m\u001b[0m\n\u001b[1;32m----> 2\u001b[1;33m \u001b[0mdf32\u001b[0m \u001b[1;33m=\u001b[0m \u001b[0mdf41\u001b[0m\u001b[1;33m.\u001b[0m\u001b[0mmerge\u001b[0m\u001b[1;33m(\u001b[0m\u001b[0mdf31\u001b[0m\u001b[1;33m[\u001b[0m\u001b[1;33m[\u001b[0m\u001b[1;34m'Key'\u001b[0m\u001b[1;33m,\u001b[0m \u001b[1;34m'ex$1000'\u001b[0m\u001b[1;33m]\u001b[0m\u001b[1;33m]\u001b[0m\u001b[1;33m,\u001b[0m \u001b[0mon\u001b[0m\u001b[1;33m=\u001b[0m\u001b[1;34m'Key'\u001b[0m\u001b[1;33m)\u001b[0m\u001b[1;33m\u001b[0m\u001b[1;33m\u001b[0m\u001b[0m\n\u001b[0m\u001b[0;32m      3\u001b[0m \u001b[0mdf32\u001b[0m\u001b[1;33m.\u001b[0m\u001b[0mhead\u001b[0m\u001b[1;33m(\u001b[0m\u001b[1;33m)\u001b[0m\u001b[1;33m\u001b[0m\u001b[1;33m\u001b[0m\u001b[0m\n\u001b[0;32m      4\u001b[0m \u001b[1;31m# print(df32['Ex$1000'].unique())\u001b[0m\u001b[1;33m\u001b[0m\u001b[1;33m\u001b[0m\u001b[0m\n\u001b[0;32m      5\u001b[0m \u001b[1;33m\u001b[0m\u001b[0m\n",
      "\u001b[1;31mNameError\u001b[0m: name 'df41' is not defined"
     ]
    }
   ],
   "source": [
    "# df31.rename(columns = {'Value':'export-value-T'}, inplace = True)\n",
    "df32 = df41.merge(df31[['Key', 'ex$1000']], on='Key')\n",
    "df32.head()\n",
    "# print(df32['Ex$1000'].unique())\n",
    "\n",
    "# msno.matrix(df32)  # When uncommented indicates no missing data"
   ]
  },
  {
   "cell_type": "code",
   "execution_count": 154,
   "metadata": {},
   "outputs": [
    {
     "ename": "FileNotFoundError",
     "evalue": "[Errno 2] No such file or directory: 'FAOSTAT\\\\export-quantity.csv'",
     "output_type": "error",
     "traceback": [
      "\u001b[1;31m---------------------------------------------------------------------------\u001b[0m",
      "\u001b[1;31mFileNotFoundError\u001b[0m                         Traceback (most recent call last)",
      "\u001b[1;32m~\\AppData\\Local\\Temp\\ipykernel_7340\\1170310967.py\u001b[0m in \u001b[0;36m<module>\u001b[1;34m\u001b[0m\n\u001b[1;32m----> 1\u001b[1;33m \u001b[0mdf33\u001b[0m \u001b[1;33m=\u001b[0m \u001b[0mpd\u001b[0m\u001b[1;33m.\u001b[0m\u001b[0mread_csv\u001b[0m\u001b[1;33m(\u001b[0m\u001b[1;34m'FAOSTAT\\export-quantity.csv'\u001b[0m\u001b[1;33m,\u001b[0m \u001b[0mon_bad_lines\u001b[0m\u001b[1;33m=\u001b[0m\u001b[1;34m'skip'\u001b[0m\u001b[1;33m)\u001b[0m \u001b[1;31m# Fertiliser tonnes of k20 (phosphate)\u001b[0m\u001b[1;33m\u001b[0m\u001b[1;33m\u001b[0m\u001b[0m\n\u001b[0m\u001b[0;32m      2\u001b[0m \u001b[0mdf33\u001b[0m\u001b[1;33m=\u001b[0m \u001b[0mdf33\u001b[0m\u001b[1;33m[\u001b[0m\u001b[1;33m(\u001b[0m\u001b[0mdf33\u001b[0m\u001b[1;33m[\u001b[0m\u001b[1;34m'Area'\u001b[0m\u001b[1;33m]\u001b[0m\u001b[1;33m.\u001b[0m\u001b[0misin\u001b[0m\u001b[1;33m(\u001b[0m\u001b[0mEUROPEAN_UNION\u001b[0m\u001b[1;33m.\u001b[0m\u001b[0mnames\u001b[0m\u001b[1;33m)\u001b[0m\u001b[1;33m)\u001b[0m\u001b[1;33m]\u001b[0m \u001b[1;31m#EU only\u001b[0m\u001b[1;33m\u001b[0m\u001b[1;33m\u001b[0m\u001b[0m\n\u001b[0;32m      3\u001b[0m \u001b[0mdf33\u001b[0m\u001b[1;33m[\u001b[0m\u001b[1;34m'Key'\u001b[0m\u001b[1;33m]\u001b[0m \u001b[1;33m=\u001b[0m \u001b[0mdf33\u001b[0m\u001b[1;33m[\u001b[0m\u001b[1;34m'Area'\u001b[0m\u001b[1;33m]\u001b[0m \u001b[1;33m+\u001b[0m \u001b[0mdf33\u001b[0m\u001b[1;33m[\u001b[0m\u001b[1;34m'Year'\u001b[0m\u001b[1;33m]\u001b[0m\u001b[1;33m.\u001b[0m\u001b[0mastype\u001b[0m\u001b[1;33m(\u001b[0m\u001b[0mstr\u001b[0m\u001b[1;33m)\u001b[0m \u001b[1;31m# add a merging key\u001b[0m\u001b[1;33m\u001b[0m\u001b[1;33m\u001b[0m\u001b[0m\n\u001b[0;32m      4\u001b[0m \u001b[1;33m\u001b[0m\u001b[0m\n\u001b[0;32m      5\u001b[0m \u001b[1;31m# print(df33['Value'].unique())\u001b[0m\u001b[1;33m\u001b[0m\u001b[1;33m\u001b[0m\u001b[0m\n",
      "\u001b[1;32m~\\anaconda3\\lib\\site-packages\\pandas\\util\\_decorators.py\u001b[0m in \u001b[0;36mwrapper\u001b[1;34m(*args, **kwargs)\u001b[0m\n\u001b[0;32m    309\u001b[0m                     \u001b[0mstacklevel\u001b[0m\u001b[1;33m=\u001b[0m\u001b[0mstacklevel\u001b[0m\u001b[1;33m,\u001b[0m\u001b[1;33m\u001b[0m\u001b[1;33m\u001b[0m\u001b[0m\n\u001b[0;32m    310\u001b[0m                 )\n\u001b[1;32m--> 311\u001b[1;33m             \u001b[1;32mreturn\u001b[0m \u001b[0mfunc\u001b[0m\u001b[1;33m(\u001b[0m\u001b[1;33m*\u001b[0m\u001b[0margs\u001b[0m\u001b[1;33m,\u001b[0m \u001b[1;33m**\u001b[0m\u001b[0mkwargs\u001b[0m\u001b[1;33m)\u001b[0m\u001b[1;33m\u001b[0m\u001b[1;33m\u001b[0m\u001b[0m\n\u001b[0m\u001b[0;32m    312\u001b[0m \u001b[1;33m\u001b[0m\u001b[0m\n\u001b[0;32m    313\u001b[0m         \u001b[1;32mreturn\u001b[0m \u001b[0mwrapper\u001b[0m\u001b[1;33m\u001b[0m\u001b[1;33m\u001b[0m\u001b[0m\n",
      "\u001b[1;32m~\\anaconda3\\lib\\site-packages\\pandas\\io\\parsers\\readers.py\u001b[0m in \u001b[0;36mread_csv\u001b[1;34m(filepath_or_buffer, sep, delimiter, header, names, index_col, usecols, squeeze, prefix, mangle_dupe_cols, dtype, engine, converters, true_values, false_values, skipinitialspace, skiprows, skipfooter, nrows, na_values, keep_default_na, na_filter, verbose, skip_blank_lines, parse_dates, infer_datetime_format, keep_date_col, date_parser, dayfirst, cache_dates, iterator, chunksize, compression, thousands, decimal, lineterminator, quotechar, quoting, doublequote, escapechar, comment, encoding, encoding_errors, dialect, error_bad_lines, warn_bad_lines, on_bad_lines, delim_whitespace, low_memory, memory_map, float_precision, storage_options)\u001b[0m\n\u001b[0;32m    676\u001b[0m     \u001b[0mkwds\u001b[0m\u001b[1;33m.\u001b[0m\u001b[0mupdate\u001b[0m\u001b[1;33m(\u001b[0m\u001b[0mkwds_defaults\u001b[0m\u001b[1;33m)\u001b[0m\u001b[1;33m\u001b[0m\u001b[1;33m\u001b[0m\u001b[0m\n\u001b[0;32m    677\u001b[0m \u001b[1;33m\u001b[0m\u001b[0m\n\u001b[1;32m--> 678\u001b[1;33m     \u001b[1;32mreturn\u001b[0m \u001b[0m_read\u001b[0m\u001b[1;33m(\u001b[0m\u001b[0mfilepath_or_buffer\u001b[0m\u001b[1;33m,\u001b[0m \u001b[0mkwds\u001b[0m\u001b[1;33m)\u001b[0m\u001b[1;33m\u001b[0m\u001b[1;33m\u001b[0m\u001b[0m\n\u001b[0m\u001b[0;32m    679\u001b[0m \u001b[1;33m\u001b[0m\u001b[0m\n\u001b[0;32m    680\u001b[0m \u001b[1;33m\u001b[0m\u001b[0m\n",
      "\u001b[1;32m~\\anaconda3\\lib\\site-packages\\pandas\\io\\parsers\\readers.py\u001b[0m in \u001b[0;36m_read\u001b[1;34m(filepath_or_buffer, kwds)\u001b[0m\n\u001b[0;32m    573\u001b[0m \u001b[1;33m\u001b[0m\u001b[0m\n\u001b[0;32m    574\u001b[0m     \u001b[1;31m# Create the parser.\u001b[0m\u001b[1;33m\u001b[0m\u001b[1;33m\u001b[0m\u001b[0m\n\u001b[1;32m--> 575\u001b[1;33m     \u001b[0mparser\u001b[0m \u001b[1;33m=\u001b[0m \u001b[0mTextFileReader\u001b[0m\u001b[1;33m(\u001b[0m\u001b[0mfilepath_or_buffer\u001b[0m\u001b[1;33m,\u001b[0m \u001b[1;33m**\u001b[0m\u001b[0mkwds\u001b[0m\u001b[1;33m)\u001b[0m\u001b[1;33m\u001b[0m\u001b[1;33m\u001b[0m\u001b[0m\n\u001b[0m\u001b[0;32m    576\u001b[0m \u001b[1;33m\u001b[0m\u001b[0m\n\u001b[0;32m    577\u001b[0m     \u001b[1;32mif\u001b[0m \u001b[0mchunksize\u001b[0m \u001b[1;32mor\u001b[0m \u001b[0miterator\u001b[0m\u001b[1;33m:\u001b[0m\u001b[1;33m\u001b[0m\u001b[1;33m\u001b[0m\u001b[0m\n",
      "\u001b[1;32m~\\anaconda3\\lib\\site-packages\\pandas\\io\\parsers\\readers.py\u001b[0m in \u001b[0;36m__init__\u001b[1;34m(self, f, engine, **kwds)\u001b[0m\n\u001b[0;32m    930\u001b[0m \u001b[1;33m\u001b[0m\u001b[0m\n\u001b[0;32m    931\u001b[0m         \u001b[0mself\u001b[0m\u001b[1;33m.\u001b[0m\u001b[0mhandles\u001b[0m\u001b[1;33m:\u001b[0m \u001b[0mIOHandles\u001b[0m \u001b[1;33m|\u001b[0m \u001b[1;32mNone\u001b[0m \u001b[1;33m=\u001b[0m \u001b[1;32mNone\u001b[0m\u001b[1;33m\u001b[0m\u001b[1;33m\u001b[0m\u001b[0m\n\u001b[1;32m--> 932\u001b[1;33m         \u001b[0mself\u001b[0m\u001b[1;33m.\u001b[0m\u001b[0m_engine\u001b[0m \u001b[1;33m=\u001b[0m \u001b[0mself\u001b[0m\u001b[1;33m.\u001b[0m\u001b[0m_make_engine\u001b[0m\u001b[1;33m(\u001b[0m\u001b[0mf\u001b[0m\u001b[1;33m,\u001b[0m \u001b[0mself\u001b[0m\u001b[1;33m.\u001b[0m\u001b[0mengine\u001b[0m\u001b[1;33m)\u001b[0m\u001b[1;33m\u001b[0m\u001b[1;33m\u001b[0m\u001b[0m\n\u001b[0m\u001b[0;32m    933\u001b[0m \u001b[1;33m\u001b[0m\u001b[0m\n\u001b[0;32m    934\u001b[0m     \u001b[1;32mdef\u001b[0m \u001b[0mclose\u001b[0m\u001b[1;33m(\u001b[0m\u001b[0mself\u001b[0m\u001b[1;33m)\u001b[0m\u001b[1;33m:\u001b[0m\u001b[1;33m\u001b[0m\u001b[1;33m\u001b[0m\u001b[0m\n",
      "\u001b[1;32m~\\anaconda3\\lib\\site-packages\\pandas\\io\\parsers\\readers.py\u001b[0m in \u001b[0;36m_make_engine\u001b[1;34m(self, f, engine)\u001b[0m\n\u001b[0;32m   1214\u001b[0m             \u001b[1;31m# \"Union[str, PathLike[str], ReadCsvBuffer[bytes], ReadCsvBuffer[str]]\"\u001b[0m\u001b[1;33m\u001b[0m\u001b[1;33m\u001b[0m\u001b[0m\n\u001b[0;32m   1215\u001b[0m             \u001b[1;31m# , \"str\", \"bool\", \"Any\", \"Any\", \"Any\", \"Any\", \"Any\"\u001b[0m\u001b[1;33m\u001b[0m\u001b[1;33m\u001b[0m\u001b[0m\n\u001b[1;32m-> 1216\u001b[1;33m             self.handles = get_handle(  # type: ignore[call-overload]\n\u001b[0m\u001b[0;32m   1217\u001b[0m                 \u001b[0mf\u001b[0m\u001b[1;33m,\u001b[0m\u001b[1;33m\u001b[0m\u001b[1;33m\u001b[0m\u001b[0m\n\u001b[0;32m   1218\u001b[0m                 \u001b[0mmode\u001b[0m\u001b[1;33m,\u001b[0m\u001b[1;33m\u001b[0m\u001b[1;33m\u001b[0m\u001b[0m\n",
      "\u001b[1;32m~\\anaconda3\\lib\\site-packages\\pandas\\io\\common.py\u001b[0m in \u001b[0;36mget_handle\u001b[1;34m(path_or_buf, mode, encoding, compression, memory_map, is_text, errors, storage_options)\u001b[0m\n\u001b[0;32m    784\u001b[0m         \u001b[1;32mif\u001b[0m \u001b[0mioargs\u001b[0m\u001b[1;33m.\u001b[0m\u001b[0mencoding\u001b[0m \u001b[1;32mand\u001b[0m \u001b[1;34m\"b\"\u001b[0m \u001b[1;32mnot\u001b[0m \u001b[1;32min\u001b[0m \u001b[0mioargs\u001b[0m\u001b[1;33m.\u001b[0m\u001b[0mmode\u001b[0m\u001b[1;33m:\u001b[0m\u001b[1;33m\u001b[0m\u001b[1;33m\u001b[0m\u001b[0m\n\u001b[0;32m    785\u001b[0m             \u001b[1;31m# Encoding\u001b[0m\u001b[1;33m\u001b[0m\u001b[1;33m\u001b[0m\u001b[0m\n\u001b[1;32m--> 786\u001b[1;33m             handle = open(\n\u001b[0m\u001b[0;32m    787\u001b[0m                 \u001b[0mhandle\u001b[0m\u001b[1;33m,\u001b[0m\u001b[1;33m\u001b[0m\u001b[1;33m\u001b[0m\u001b[0m\n\u001b[0;32m    788\u001b[0m                 \u001b[0mioargs\u001b[0m\u001b[1;33m.\u001b[0m\u001b[0mmode\u001b[0m\u001b[1;33m,\u001b[0m\u001b[1;33m\u001b[0m\u001b[1;33m\u001b[0m\u001b[0m\n",
      "\u001b[1;31mFileNotFoundError\u001b[0m: [Errno 2] No such file or directory: 'FAOSTAT\\\\export-quantity.csv'"
     ]
    }
   ],
   "source": [
    "df33 = pd.read_csv('FAOSTAT\\export-quantity.csv', on_bad_lines='skip') # Fertiliser tonnes of k20 (phosphate)\n",
    "df33= df33[(df33['Area'].isin(EUROPEAN_UNION.names))] #EU only\n",
    "df33['Key'] = df33['Area'] + df33['Year'].astype(str) # add a merging key\n",
    "\n",
    "# print(df33['Value'].unique())\n",
    "df33.rename(columns = {'Value':'ex#'}, inplace = True)\n",
    "df34 = df32.merge(df33[['Key', 'ex#']], on='Key')\n",
    "df34.head()\n",
    "fao_df=df34\n",
    "fao_df # easier to remember later\n"
   ]
  },
  {
   "cell_type": "code",
   "execution_count": null,
   "metadata": {},
   "outputs": [],
   "source": [
    "df53 = pd.read_csv('FAOSTAT\\population.csv', on_bad_lines='skip') # Fertiliser tonnes of k20 (phosphate)\n",
    "df53= df53[(df53['Area'].isin(EUROPEAN_UNION.names))] #EU only\n",
    "df53['Key'] = df53['Area'] + df53['Year'].astype(str) # add a merging key\n",
    "df53\n",
    "\n",
    "\n",
    "\n",
    "df53.rename(columns = {'Value':'Pop'}, inplace = True)\n",
    "df54 = df32.merge(df53[['Key', 'Pop']], on='Key')\n",
    "df54.head()\n",
    "fao_df=df54\n",
    "fao_df # easier to remember later"
   ]
  },
  {
   "cell_type": "code",
   "execution_count": null,
   "metadata": {},
   "outputs": [],
   "source": [
    "# df53 = pd.read_csv('FAOSTAT\\population.csv', on_bad_lines='skip') # Fertiliser tonnes of k20 (phosphate)\n",
    "# df53= df53[(df53['Area'].isin(EUROPEAN_UNION.names))] #EU only\n",
    "# df53['Key'] = df53['Area'] + df53['Year'].astype(str) # add a merging key\n",
    "# df53.rename(columns = {'Value':'Pop'}, inplace = True)\n",
    "# df54 = df32.merge(df53[['Key', 'Pop']], on='Key')\n",
    "# df54['Pop'] = df54['pop'].astype(int)  # Converts phosphate float column to an integer number of tonnes\n",
    "# df54.head()\n",
    "# fao_df=df54\n",
    "# fao_df.head() # easier to remember later"
   ]
  },
  {
   "cell_type": "code",
   "execution_count": null,
   "metadata": {},
   "outputs": [],
   "source": [
    "fao_df['SL/kpop'] = fao_df['Slaughter'] / fao_df['Pop']\n",
    "fao_df['SL/kpop'] = fao_df['SL/kpop'].astype(int)"
   ]
  },
  {
   "cell_type": "code",
   "execution_count": null,
   "metadata": {
    "scrolled": true
   },
   "outputs": [],
   "source": [
    "fao_df"
   ]
  },
  {
   "cell_type": "code",
   "execution_count": null,
   "metadata": {},
   "outputs": [],
   "source": [
    "msno.matrix(fao_df)  # This matrix demonstrates the quality of the FAO data \n",
    "# and only a few NaN needed to be replaced by zero values"
   ]
  },
  {
   "cell_type": "code",
   "execution_count": null,
   "metadata": {},
   "outputs": [],
   "source": [
    "plt.figure(figsize=(10, 6))\n",
    "sns.displot(fao_df, x=\"SL/kpop\")\n",
    "plt.show()\n",
    "# For beef production at its most intense there is one carcuss produced per two people per year!\n",
    "    "
   ]
  },
  {
   "cell_type": "markdown",
   "metadata": {},
   "source": [
    "## Processing the  CCKP weather \n",
    "\n",
    "data was a little trickier because they are aggregated on a per country basis annually and so as well as downlaoding them individually we need to concatenate their values to single files\n",
    "\n",
    "A number of custom functions  and list creation will help!\n",
    "\n"
   ]
  },
  {
   "cell_type": "code",
   "execution_count": null,
   "metadata": {
    "scrolled": true
   },
   "outputs": [],
   "source": [
    "rainfiles=os.listdir('cckp-rain')\n",
    "rainfiles "
   ]
  },
  {
   "cell_type": "code",
   "execution_count": null,
   "metadata": {},
   "outputs": [],
   "source": [
    "scan('cckp-rain')"
   ]
  },
  {
   "cell_type": "code",
   "execution_count": null,
   "metadata": {},
   "outputs": [],
   "source": [
    "tempfiles=os.listdir('cckp-temp')\n",
    "tempfiles"
   ]
  },
  {
   "cell_type": "code",
   "execution_count": null,
   "metadata": {},
   "outputs": [],
   "source": [
    "# We explore a rain file to understand the structure by copy pasting its long name from above list\n",
    "\n",
    "df35 = pd.read_csv('cckp-rain\\pr_timeseries_annual_cru_1901-2021_AUT.csv', on_bad_lines='skip') \n",
    "# sample precipitation rain (pr)file\n",
    "df35.head() \n",
    "# We can see that rainfall is given for major cities but this is not of interest.\n"
   ]
  },
  {
   "cell_type": "code",
   "execution_count": null,
   "metadata": {},
   "outputs": [],
   "source": [
    "#function to process the CCKP csv files to suitable format\n",
    "def process(file, col_name):\n",
    "    df = pd.read_csv(file, on_bad_lines='skip', skiprows=1)\n",
    "    df.rename(columns={'Unnamed: 0': 'Year'}, inplace=True)\n",
    "    #Columate the country code from its single entry\n",
    "    df['Key'] = df.columns[1] + df['Year'].astype(str)  # pluck the country with absolute referencing\n",
    "    df.rename(columns={df.columns[1]: col_name}, inplace=True)\n",
    "    df = df.filter(['Key', col_name] )\n",
    "    return df\n",
    "\n",
    "#function to create a dataframe from all of the csv files in a folder, and apply the pre processing steps \n",
    "#detailed in the process function\n",
    "\n",
    "def files_to_df(path, col_name):\n",
    "    csv_files = glob.glob(path + \"/*.csv\")\n",
    "    df_list = (process(filename, col_name) for filename in csv_files)\n",
    "    df = pd.concat(df_list, ignore_index=True)\n",
    "    return df\n",
    "\n",
    "#creating a dataframe for the rain data\n",
    "rain_df = files_to_df('cckp-rain', 'Rainfall_mm/yr')\n",
    " \n",
    "#creating a dataframe for the temp data\n",
    "temp_df = files_to_df('cckp-temp', 'Temp_C')\n",
    "\n",
    "#We can form a list of EU countries from any dataframe from the FAOSTAT data\n",
    "\n",
    "df3.head(2)"
   ]
  },
  {
   "cell_type": "code",
   "execution_count": null,
   "metadata": {},
   "outputs": [],
   "source": [
    "countries = df3['Area'].unique().tolist()"
   ]
  },
  {
   "cell_type": "code",
   "execution_count": null,
   "metadata": {
    "scrolled": true
   },
   "outputs": [],
   "source": [
    "countries"
   ]
  },
  {
   "cell_type": "code",
   "execution_count": null,
   "metadata": {},
   "outputs": [],
   "source": [
    "##now we define our column value splitting function\n",
    "def reformat(dataframe, column):\n",
    "    container = {} #create an empty dictionary to store the dataframes\n",
    "    for i in dataframe[column].unique(): #loop through the unique values in the column of interest\n",
    "        container[f'{i}'] = dataframe[(dataframe[column] == i) & (dataframe['Area'].isin(countries))] #create a dataframe for each unique value in the column of interest\n",
    "        container[f'{i}']['Key'] = container[f'{i}']['Area'] + container[f'{i}']['Year'].astype(str)   #create a key column to merge the dataframes later\n",
    "\n",
    "    for i in container: #loop through dataframes in the dict and apply some conditions\n",
    "        container[i] = container[i][['Key', 'Area', 'Value']]#filter the dataframes to only include the key, area and value columns\n",
    "        container[i].rename(columns={'Value': f'{i}'}, inplace=True)#rename the value column to the name of the item\n",
    "\n",
    "\n",
    "    my_reduce = partial(pd.merge, on=['Key', 'Area'], how='right')  #create a function to merge the dataframes in the dict                                                           \n",
    "    df =  reduce(my_reduce, container.values()) #calling that function on the values in the dict\n",
    "    return df\n",
    "\n"
   ]
  },
  {
   "cell_type": "code",
   "execution_count": null,
   "metadata": {},
   "outputs": [],
   "source": [
    "#function to create a dataframe from all of the csv files in a folder, and apply the pre processing steps \n",
    "#detailed in the process function\n",
    "def files_to_df(path, col_name):\n",
    "    csv_files = glob.glob(path + \"/*.csv\")\n",
    "    df_list = (process(filename, col_name) for filename in csv_files)\n",
    "    df = pd.concat(df_list, ignore_index=True)\n",
    "    return df"
   ]
  },
  {
   "cell_type": "code",
   "execution_count": null,
   "metadata": {},
   "outputs": [],
   "source": [
    "#Dataframe for the rain\n",
    "rain_df = files_to_df('cckp-rain', 'Rain_mm/yr')\n",
    "rain_df.head()\n",
    " "
   ]
  },
  {
   "cell_type": "code",
   "execution_count": null,
   "metadata": {},
   "outputs": [],
   "source": [
    "#Dataframe for the temperature\n",
    "temp_df = files_to_df('cckp-temp', 'Temp_C')\n",
    "temp_df.head()"
   ]
  },
  {
   "cell_type": "code",
   "execution_count": null,
   "metadata": {
    "scrolled": true
   },
   "outputs": [],
   "source": [
    "\n",
    "# Penultimate data wrangling step merges  rain data to faostat data\n",
    "\n",
    "fao_with_rain_df = fao_df.merge(rain_df[['Key', 'Rain_mm/yr']], on='Key')\n",
    "fao_with_rain_df.head() # one predictor to go now!"
   ]
  },
  {
   "cell_type": "code",
   "execution_count": null,
   "metadata": {},
   "outputs": [],
   "source": [
    "# And finally\n",
    "# Drum Role PLease!!!\n",
    "# fao_with_rain merges with temp data into master_df\n",
    "\n",
    "\n",
    "master_df = fao_with_rain_df.merge(temp_df[['Key', 'Temp_C']], on='Key')\n",
    "master_df.head() # one predictor to go now!"
   ]
  },
  {
   "cell_type": "code",
   "execution_count": null,
   "metadata": {
    "scrolled": true
   },
   "outputs": [],
   "source": [
    "master_df.head(11)\n"
   ]
  },
  {
   "cell_type": "code",
   "execution_count": null,
   "metadata": {
    "scrolled": false
   },
   "outputs": [],
   "source": [
    "master_df.info()"
   ]
  },
  {
   "cell_type": "code",
   "execution_count": null,
   "metadata": {},
   "outputs": [],
   "source": [
    "master_df.describe()"
   ]
  },
  {
   "cell_type": "code",
   "execution_count": null,
   "metadata": {
    "scrolled": true
   },
   "outputs": [],
   "source": [
    "master_df.shape"
   ]
  },
  {
   "cell_type": "code",
   "execution_count": null,
   "metadata": {
    "scrolled": true
   },
   "outputs": [],
   "source": [
    "master_df.to_csv('data\\master.csv', index=False)"
   ]
  },
  {
   "cell_type": "code",
   "execution_count": null,
   "metadata": {
    "scrolled": true
   },
   "outputs": [],
   "source": [
    "master_df.isna().sum() # Confirms we do not have any missing data"
   ]
  },
  {
   "cell_type": "code",
   "execution_count": null,
   "metadata": {},
   "outputs": [],
   "source": [
    "msno.bar(master_df)"
   ]
  },
  {
   "cell_type": "code",
   "execution_count": null,
   "metadata": {},
   "outputs": [],
   "source": [
    "master_df.sample(11)"
   ]
  },
  {
   "cell_type": "code",
   "execution_count": null,
   "metadata": {},
   "outputs": [],
   "source": [
    "master_df.isna().sum()"
   ]
  },
  {
   "cell_type": "markdown",
   "metadata": {},
   "source": [
    "# 2) Data cleaning & feature engineering stage"
   ]
  },
  {
   "cell_type": "markdown",
   "metadata": {},
   "source": [
    "Lets kick things off by building a function that will loop over many imputation techniques and will compare their results, spitting out the best one. "
   ]
  },
  {
   "cell_type": "code",
   "execution_count": null,
   "metadata": {},
   "outputs": [],
   "source": [
    "# #dropping redundant columns\n",
    "# milk_eu.drop(['Domain Code', 'Domain', 'Area Code (M49)',\n",
    "#  'Element Code', 'Element', 'Item Code (CPC)', 'Item', 'Year Code', 'Flag', 'key', 'Flag Description'], axis=1, inplace=True)"
   ]
  },
  {
   "cell_type": "code",
   "execution_count": null,
   "metadata": {},
   "outputs": [],
   "source": [
    "#wilcoxon test\n",
    "from scipy.stats import wilcoxon\n",
    "def impute_data(milk_eu, columns, k, iter, target):\n",
    "    #defining the imputation methods\n",
    "    imputation_type = ['.mean()', '.mode()', '.median()','bfill', 'ffill', 'knn', 'mice']\n",
    "    #dropping null columns and making nan values are np.nan format\n",
    "    master_df = master_df.fillna(np.nan).drop(columns, axis=1).select_dtypes(exclude=['object'])\n",
    "    results = {}#creating a dictionary to store the results\n",
    "    best = {}#creating a dictionary to store the best results\n",
    "\n",
    "    \n",
    "    \n",
    "    #defining the mannwhitneyu test\n",
    "    def score_dataset(milk_eu, impute):\n",
    "        #take a random sample of n = 500 from the dataset\n",
    "        sample_milk = milk_eu.dropna().sample(n=700, random_state=0)\n",
    "        sample_imp = impute.dropna().sample(n=700, random_state=0)ss\n",
    "        u, p = wilcoxon(sample_milk, sample_imp)\n",
    "\n",
    "        return p #returning the p value\n",
    "\n",
    "    #looping through the columns to be imputed\n",
    "    for col in columns:\n",
    "\n",
    "        #defining the imputation methods in a dictionary to allow iteration\n",
    "        #this is done to avoid having to write out each method individually\n",
    "        functions = {\n",
    "        'mean': milk_eu[col].mean(),\n",
    "        'mode': milk_eu[col].mode(),\n",
    "        'median': milk_eu[col].median(),\n",
    "        'bfill': milk_eu[col].fillna(method='bfill'),\n",
    "        'ffill': milk_eu[col].fillna(method='ffill')\n",
    "    }\n",
    "\n",
    "        #looping through the imputation methods\n",
    "        for type in imputation_type:\n",
    "\n",
    "            if type in functions:#if the imputation method is in the dictionary\n",
    "                impute = functions[type]\n",
    "                results[f'{type}_{col}'] = score_dataset(milk_eu[col], impute)#adding the results to the results dictionary\n",
    "\n",
    "            elif type == 'knn':#if the imputation method is knn\n",
    "                for i in k:#looping through the k values\n",
    "                    milk_eu_imp[col] = milk_eu[col].fillna(np.nan)\n",
    "                    impute = pd.DataFrame(fancyimpute.KNN(k=i, verbose=False).fit_transform(milk_eu_imp))\n",
    "                    impute.columns = milk_eu_imp.columns #setting the column names to the original column names\n",
    "                    results[f'{type}_{i}_{col}'] = score_dataset(milk_eu[col], impute[col])#adding the results to the results dictionary\n",
    "\n",
    "            elif type == 'mice':#if the imputation method is mice\n",
    "                for iterations in iter:#looping through the iterations\n",
    "                    milk_eu_imp[col] = milk_eu[col].fillna(np.nan)\n",
    "                    imputed = pd.DataFrame(fancyimpute.IterativeImputer(max_iter=iterations).fit_transform(milk_eu_imp))\n",
    "                    impute.columns = milk_eu_imp.columns #setting the column names to the original column names\n",
    "                    results[f'{type}_{iterations}_{col}'] = score_dataset(milk_eu[col], impute[col]) #adding the results to the results dictionary \n",
    "\n",
    "        #put max value in 'best' dict, this returrns the best imputation method\n",
    "        best[col] = max(results, key=results.get)\n",
    "        \n",
    "    return results, best"
   ]
  },
  {
   "cell_type": "code",
   "execution_count": null,
   "metadata": {},
   "outputs": [],
   "source": [
    "milk_eu.isna().sum()"
   ]
  },
  {
   "cell_type": "markdown",
   "metadata": {},
   "source": [
    "### a) First we will deal with the missing values using the method constructed above"
   ]
  },
  {
   "cell_type": "markdown",
   "metadata": {},
   "source": [
    "## Modeling"
   ]
  },
  {
   "cell_type": "markdown",
   "metadata": {},
   "source": [
    "## Results"
   ]
  },
  {
   "cell_type": "markdown",
   "metadata": {},
   "source": [
    "## Conclusion"
   ]
  },
  {
   "cell_type": "markdown",
   "metadata": {},
   "source": [
    "## References"
   ]
  },
  {
   "cell_type": "markdown",
   "metadata": {},
   "source": [
    "## Snippets"
   ]
  },
  {
   "cell_type": "markdown",
   "metadata": {},
   "source": [
    "## Appendices"
   ]
  },
  {
   "cell_type": "code",
   "execution_count": null,
   "metadata": {},
   "outputs": [],
   "source": [
    "cover=readr('land_cover','cover')\n",
    "cover.head(2\n",
    "writee(cover,'cover')\n",
    "scane()\n",
    "\n",
    "missing=reade('missing','missing')\n",
    "missing\n",
    "\n",
    "lu = readr('land_use', 'lu')\n"
   ]
  },
  {
   "cell_type": "code",
   "execution_count": null,
   "metadata": {},
   "outputs": [],
   "source": [
    "lu = readr('land_use', 'lu')\n",
    "lu"
   ]
  },
  {
   "cell_type": "code",
   "execution_count": null,
   "metadata": {},
   "outputs": [],
   "source": []
  },
  {
   "cell_type": "code",
   "execution_count": null,
   "metadata": {},
   "outputs": [],
   "source": [
    "print(os.getcwd())"
   ]
  },
  {
   "cell_type": "code",
   "execution_count": null,
   "metadata": {},
   "outputs": [],
   "source": [
    "readr('land_use','land_use_df')"
   ]
  },
  {
   "cell_type": "code",
   "execution_count": null,
   "metadata": {},
   "outputs": [],
   "source": []
  },
  {
   "cell_type": "code",
   "execution_count": null,
   "metadata": {},
   "outputs": [],
   "source": []
  },
  {
   "cell_type": "code",
   "execution_count": null,
   "metadata": {},
   "outputs": [],
   "source": []
  },
  {
   "cell_type": "code",
   "execution_count": null,
   "metadata": {},
   "outputs": [],
   "source": []
  },
  {
   "cell_type": "code",
   "execution_count": null,
   "metadata": {},
   "outputs": [],
   "source": []
  },
  {
   "cell_type": "code",
   "execution_count": null,
   "metadata": {},
   "outputs": [],
   "source": []
  },
  {
   "cell_type": "code",
   "execution_count": null,
   "metadata": {},
   "outputs": [],
   "source": []
  }
 ],
 "metadata": {
  "celltoolbar": "Tags",
  "kernelspec": {
   "display_name": "Python 3 (ipykernel)",
   "language": "python",
   "name": "python3"
  },
  "language_info": {
   "codemirror_mode": {
    "name": "ipython",
    "version": 3
   },
   "file_extension": ".py",
   "mimetype": "text/x-python",
   "name": "python",
   "nbconvert_exporter": "python",
   "pygments_lexer": "ipython3",
   "version": "3.9.13"
  },
  "toc": {
   "base_numbering": 1,
   "nav_menu": {},
   "number_sections": true,
   "sideBar": false,
   "skip_h1_title": true,
   "title_cell": "Table of Contents (Clickable in sidebar)",
   "title_sidebar": "Contents",
   "toc_cell": true,
   "toc_position": {
    "height": "1714.7px",
    "left": "817px",
    "top": "170.219px",
    "width": "165px"
   },
   "toc_section_display": true,
   "toc_window_display": true
  },
  "vscode": {
   "interpreter": {
    "hash": "890563eb1401dd7c5eac482b2070a231034cb0eabe59bf1a3eb86f9e36919f52"
   }
  }
 },
 "nbformat": 4,
 "nbformat_minor": 2
}
