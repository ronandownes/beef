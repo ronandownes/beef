{
 "cells": [
  {
   "cell_type": "markdown",
   "metadata": {
    "toc": true
   },
   "source": [
    "<h1>Table of Contents (Clickable in sidebar)<span class=\"tocSkip\"></span></h1>\n",
    "<div class=\"toc\"><ul class=\"toc-item\"><li><span><a href=\"#The-revised-research-question\" data-toc-modified-id=\"The-revised-research-question-1\"><span class=\"toc-item-num\">1&nbsp;&nbsp;</span>The revised research question</a></span></li><li><span><a href=\"#Libraries,---modules-and-orientation\" data-toc-modified-id=\"Libraries,---modules-and-orientation-2\"><span class=\"toc-item-num\">2&nbsp;&nbsp;</span>Libraries,   modules and orientation</a></span></li><li><span><a href=\"#Combine-CCKP--Timeseries-Files-and-Add-a-CountryYear-Key\" data-toc-modified-id=\"Combine-CCKP--Timeseries-Files-and-Add-a-CountryYear-Key-3\"><span class=\"toc-item-num\">3&nbsp;&nbsp;</span>Combine CCKP  Timeseries Files and Add a CountryYear Key</a></span></li><li><span><a href=\"#The-Climate-Change-Knowledge-Portal.-(n.d.).-Retrieved-February-20,-2023,-from-https://climateknowledgeportal.worldbank.org/\" data-toc-modified-id=\"The-Climate-Change-Knowledge-Portal.-(n.d.).-Retrieved-February-20,-2023,-from-https://climateknowledgeportal.worldbank.org/-4\"><span class=\"toc-item-num\">4&nbsp;&nbsp;</span>The Climate Change Knowledge Portal. (n.d.). Retrieved February 20, 2023, from <a href=\"https://climateknowledgeportal.worldbank.org/\" rel=\"nofollow\" target=\"_blank\">https://climateknowledgeportal.worldbank.org/</a></a></span></li><li><span><a href=\"#The-FAOSTAT-and-CCKP-data-become-one!\" data-toc-modified-id=\"The-FAOSTAT-and-CCKP-data-become-one!-5\"><span class=\"toc-item-num\">5&nbsp;&nbsp;</span>The FAOSTAT and CCKP data become one!</a></span></li><li><span><a href=\"#Balancing-Statistical-confidence--with-model-simplicity\" data-toc-modified-id=\"Balancing-Statistical-confidence--with-model-simplicity-6\"><span class=\"toc-item-num\">6&nbsp;&nbsp;</span>Balancing Statistical confidence  with model simplicity</a></span></li><li><span><a href=\"#Processing-predictor-data\" data-toc-modified-id=\"Processing-predictor-data-7\"><span class=\"toc-item-num\">7&nbsp;&nbsp;</span>Processing predictor data</a></span><ul class=\"toc-item\"><li><span><a href=\"#Image-below-shows-download-control-panel\" data-toc-modified-id=\"Image-below-shows-download-control-panel-7.1\"><span class=\"toc-item-num\">7.1&nbsp;&nbsp;</span>Image below shows download control panel</a></span></li><li><span><a href=\"#Basic-code-is-explained-line-by-line-below\" data-toc-modified-id=\"Basic-code-is-explained-line-by-line-below-7.2\"><span class=\"toc-item-num\">7.2&nbsp;&nbsp;</span>Basic code is explained line by line below</a></span></li><li><span><a href=\"#Rationale-for-data-frame-reductions--and-other-EDA-decisions\" data-toc-modified-id=\"Rationale-for-data-frame-reductions--and-other-EDA-decisions-7.3\"><span class=\"toc-item-num\">7.3&nbsp;&nbsp;</span>Rationale for data frame reductions  and other EDA decisions</a></span><ul class=\"toc-item\"><li><span><a href=\"#Post-2002-missing-data-beahavior\" data-toc-modified-id=\"Post-2002-missing-data-beahavior-7.3.1\"><span class=\"toc-item-num\">7.3.1&nbsp;&nbsp;</span>Post 2002 missing data beahavior</a></span></li><li><span><a href=\"#Top-EU-Cattle-Stock-Countries\" data-toc-modified-id=\"Top-EU-Cattle-Stock-Countries-7.3.2\"><span class=\"toc-item-num\">7.3.2&nbsp;&nbsp;</span>Top EU Cattle Stock Countries</a></span></li><li><span><a href=\"#Further-variables\" data-toc-modified-id=\"Further-variables-7.3.3\"><span class=\"toc-item-num\">7.3.3&nbsp;&nbsp;</span>Further variables</a></span></li><li><span><a href=\"#Pascal\" data-toc-modified-id=\"Pascal-7.3.4\"><span class=\"toc-item-num\">7.3.4&nbsp;&nbsp;</span>Pascal</a></span></li><li><span><a href=\"#Rename\" data-toc-modified-id=\"Rename-7.3.5\"><span class=\"toc-item-num\">7.3.5&nbsp;&nbsp;</span>Rename</a></span></li><li><span><a href=\"#Replace\" data-toc-modified-id=\"Replace-7.3.6\"><span class=\"toc-item-num\">7.3.6&nbsp;&nbsp;</span>Replace</a></span></li></ul></li></ul></li></ul></div>"
   ]
  },
  {
   "cell_type": "markdown",
   "metadata": {},
   "source": [
    "# Data Wrangling   for Irish Beef \n",
    "\n",
    "## The revised research question\n",
    "How has Ireland's beef sector performed compared to the EU 27 countries since 2000, and can we forecast future prices using this historical data? Additionally, what can we learn from sentiment analysis of the beef industry during this time period? By focusing on data from 2000 onwards, we can better capture the current state of the beef industry and make more relevant predictions about future trends. \n",
    "## Libraries,   modules and orientation"
   ]
  },
  {
   "cell_type": "code",
   "execution_count": 1,
   "metadata": {},
   "outputs": [],
   "source": [
    "\n",
    "### Data Manipulation and Analysis\n",
    "import csv\n",
    "import pandas as pd\n",
    "import numpy as np\n",
    "import fancyimpute\n",
    "import missingno as msno\n",
    "from functools import partial, reduce\n",
    "### Data Visualization\n",
    "import matplotlib.pyplot as plt\n",
    "import seaborn as sns\n",
    "import plotly.express as px\n",
    "import matplotlib.image as mpimg\n",
    "### Statistical Analysis\n",
    "from scipy.stats import ks_2samp, shapiro\n",
    "### Machine Learning\n",
    "from sklearn.ensemble import GradientBoostingRegressor, RandomForestRegressor\n",
    "from sklearn.impute import SimpleImputer\n",
    "from sklearn.linear_model import ElasticNet, Lasso, LinearRegression, Ridge\n",
    "from sklearn.metrics import mean_absolute_error, r2_score\n",
    "from sklearn.model_selection import GridSearchCV, RandomizedSearchCV, train_test_split\n",
    "from sklearn.neighbors import KNeighborsRegressor\n",
    "from sklearn.svm import LinearSVR\n",
    "### Text Processing\n",
    "import html\n",
    "import re\n",
    "import inflection\n",
    "### Country Information\n",
    "from countryinfo import CountryInfo\n",
    "import pycountry\n",
    "from countrygroups import EUROPEAN_UNION\n",
    "### File System and OS\n",
    "import glob\n",
    "import os\n",
    "from IPython.display import display, HTML\n",
    "### Date and Time\n",
    "import datetime\n",
    "import time\n",
    "### Data Presentation\n",
    "from tabulate import tabulate\n",
    "from IPython.display import HTML, Image, display\n",
    "\n",
    "### Data Types\n",
    "from typing import Dict, List, Tuple\n",
    "import warnings\n",
    "\n",
    "# Filter out the FutureWarning with the level keyword\n",
    "# warnings.filterwarnings('ignore', message='Using the level keyword in DataFrame and Series aggregations is deprecated')\n",
    "\n",
    "# Reset the warning filter to default\n",
    "# warnings.filterwarnings('default')\n",
    "\n"
   ]
  },
  {
   "cell_type": "code",
   "execution_count": 2,
   "metadata": {},
   "outputs": [],
   "source": [
    "\n",
    "\n",
    "# print(os.listdir('rain'))\n",
    "# print(os.listdir('temperature'))\n",
    "# # create a list of HTML strings for each file name\n",
    "# html_list = [\"<tr><td>{}</td><td>{}</td></tr>\".format(file_list[i], file_list[i+1]) \n",
    "#              for i in range(0, len(file_list), 2)]\n",
    "\n",
    "# # combine the HTML strings into a table\n",
    "# html_table = \"<table>{}</table>\".format(\"\".join(html_list))\n",
    "\n",
    "# # display the table in the notebook output window\n",
    "# display(HTML(html_table))\n"
   ]
  },
  {
   "cell_type": "markdown",
   "metadata": {},
   "source": [
    "\n",
    "##  Combine CCKP  Timeseries Files and Add a CountryYear Key\n",
    "\n",
    "The combine_timeseries_files function reads multiple CSV files from the rain or temperature subfolders.Referencing the first five rows of Rain_IRL_df  below  the first unnamed column gives the year and based on position the name of the country is extracted. The function then forms a Key by concatrenating the Country and Year values together. This 'Key' column  will be  used to merge with our Cattle Stocks data   to single dataframe. It filters to only include the first two columns, which are Year and corresponding weather measurements and as such, it drops all redundant regional readings. The resulting dataframe contains the weather data of 27 European countries."
   ]
  },
  {
   "cell_type": "code",
   "execution_count": 3,
   "metadata": {},
   "outputs": [
    {
     "data": {
      "text/html": [
       "<div>\n",
       "<style scoped>\n",
       "    .dataframe tbody tr th:only-of-type {\n",
       "        vertical-align: middle;\n",
       "    }\n",
       "\n",
       "    .dataframe tbody tr th {\n",
       "        vertical-align: top;\n",
       "    }\n",
       "\n",
       "    .dataframe thead th {\n",
       "        text-align: right;\n",
       "    }\n",
       "</style>\n",
       "<table border=\"1\" class=\"dataframe\">\n",
       "  <thead>\n",
       "    <tr style=\"text-align: right;\">\n",
       "      <th></th>\n",
       "      <th>Unnamed: 0</th>\n",
       "      <th>Ireland</th>\n",
       "      <th>Carlow</th>\n",
       "      <th>Cavan</th>\n",
       "      <th>Clare</th>\n",
       "      <th>Cork</th>\n",
       "      <th>Donegal</th>\n",
       "      <th>Dublin</th>\n",
       "      <th>Galway</th>\n",
       "      <th>Kerry</th>\n",
       "      <th>...</th>\n",
       "      <th>Monaghan</th>\n",
       "      <th>Munster</th>\n",
       "      <th>Offaly</th>\n",
       "      <th>Roscommon</th>\n",
       "      <th>Sligo</th>\n",
       "      <th>Tipperary</th>\n",
       "      <th>Waterford</th>\n",
       "      <th>Westmeath</th>\n",
       "      <th>Wexford</th>\n",
       "      <th>Wicklow</th>\n",
       "    </tr>\n",
       "  </thead>\n",
       "  <tbody>\n",
       "    <tr>\n",
       "      <th>0</th>\n",
       "      <td>1901</td>\n",
       "      <td>1068.52</td>\n",
       "      <td>983.20</td>\n",
       "      <td>1018.93</td>\n",
       "      <td>1055.24</td>\n",
       "      <td>1153.06</td>\n",
       "      <td>1288.02</td>\n",
       "      <td>942.31</td>\n",
       "      <td>1044.95</td>\n",
       "      <td>1323.52</td>\n",
       "      <td>...</td>\n",
       "      <td>933.47</td>\n",
       "      <td>933.47</td>\n",
       "      <td>851.14</td>\n",
       "      <td>1008.41</td>\n",
       "      <td>1206.83</td>\n",
       "      <td>1030.92</td>\n",
       "      <td>1129.96</td>\n",
       "      <td>901.61</td>\n",
       "      <td>988.85</td>\n",
       "      <td>978.16</td>\n",
       "    </tr>\n",
       "    <tr>\n",
       "      <th>1</th>\n",
       "      <td>1902</td>\n",
       "      <td>1016.31</td>\n",
       "      <td>965.42</td>\n",
       "      <td>939.44</td>\n",
       "      <td>1004.48</td>\n",
       "      <td>1119.44</td>\n",
       "      <td>1167.77</td>\n",
       "      <td>934.83</td>\n",
       "      <td>984.17</td>\n",
       "      <td>1277.05</td>\n",
       "      <td>...</td>\n",
       "      <td>864.39</td>\n",
       "      <td>864.39</td>\n",
       "      <td>831.83</td>\n",
       "      <td>943.86</td>\n",
       "      <td>1087.75</td>\n",
       "      <td>1002.13</td>\n",
       "      <td>1101.99</td>\n",
       "      <td>852.81</td>\n",
       "      <td>967.98</td>\n",
       "      <td>966.45</td>\n",
       "    </tr>\n",
       "  </tbody>\n",
       "</table>\n",
       "<p>2 rows × 29 columns</p>\n",
       "</div>"
      ],
      "text/plain": [
       "   Unnamed: 0  Ireland  Carlow    Cavan    Clare     Cork  Donegal  Dublin  \\\n",
       "0        1901  1068.52  983.20  1018.93  1055.24  1153.06  1288.02  942.31   \n",
       "1        1902  1016.31  965.42   939.44  1004.48  1119.44  1167.77  934.83   \n",
       "\n",
       "    Galway    Kerry  ...  Monaghan  Munster  Offaly  Roscommon    Sligo  \\\n",
       "0  1044.95  1323.52  ...    933.47   933.47  851.14    1008.41  1206.83   \n",
       "1   984.17  1277.05  ...    864.39   864.39  831.83     943.86  1087.75   \n",
       "\n",
       "   Tipperary  Waterford  Westmeath  Wexford  Wicklow  \n",
       "0    1030.92    1129.96     901.61   988.85   978.16  \n",
       "1    1002.13    1101.99     852.81   967.98   966.45  \n",
       "\n",
       "[2 rows x 29 columns]"
      ]
     },
     "execution_count": 3,
     "metadata": {},
     "output_type": "execute_result"
    }
   ],
   "source": [
    "import pandas as pd\n",
    "\n",
    "# Read the first two rows of data, with headers in the second row\n",
    "Rain_IRL_df = pd.read_csv('rain/pr_timeseries_annual_cru_1901-2021_IRL.csv', header=1, nrows=2)\n",
    "\n",
    "# Show the dataframe\n",
    "Rain_IRL_df.head()"
   ]
  },
  {
   "cell_type": "markdown",
   "metadata": {},
   "source": [
    "\n",
    "\n",
    "## The Climate Change Knowledge Portal. (n.d.). Retrieved February 20, 2023, from https://climateknowledgeportal.worldbank.org/\n",
    "\n",
    "The Climate Change Knowledge Portal. (n.d.). Retrieved February 20, 2023, from https://climateknowledgeportal.worldbank.org/\n",
    "To maintain consistency with the FAO data, annual and not monthly time series  aggregates were taken from the Climatic Research Unit (CRU) dataset for **precipitation** and   **mean-temperature**. These datasets are provided by the CRU TS 4.04 dataset, a gridded climate dataset produced by the Climatic Research Unit (CRU) at the University of East Anglia in the United Kingdom. In the statistics section, range, variance, and standard deviation of monthly data may be revisited for insights.\n",
    "\n",
    "The file names and folder names of the CCKP data used in this project are tabulated below.\n",
    "\n",
    "<span style=\"font-size: 24px;\">     </span>\n",
    "        \n",
    "All datasets from the CCKP are licensed under the Creative Commons Attribution-NonCommercial-ShareAlike 3.0 IGO (CC BY-NC-SA 3.0 IGO). \n",
    "Source: CCKP (2023). Time Series datasets. Retrieved from [https://climateknowledgeportal.worldbank.org/download-data]."
   ]
  },
  {
   "cell_type": "code",
   "execution_count": 4,
   "metadata": {},
   "outputs": [],
   "source": [
    "def combine_timeseries_files(path: str, subfolder: str, col_name: str) -> pd.DataFrame:\n",
    "    \"\"\"Reads in all CSV files in the given subfolder of the directory, renames the first unnamed column based on its position,\n",
    "    and combines the resulting dataframes together into a single dataframe.\n",
    "    Args:\n",
    "        path (str): The relative path of the directory containing the data.\n",
    "        subfolder (str): The name of the subfolder within the directory to read the CSV files from.\n",
    "        col_name (str): The name to assign to the specified column in the resulting dataframe.\n",
    "    Returns:\n",
    "        pandas.DataFrame: The resulting dataframe after combining data from all CSV files in the specified subfolder.\n",
    "    \"\"\"\n",
    "    try:\n",
    "        folder_path = os.path.join(path, subfolder)\n",
    "        csv_filenames = glob.glob(folder_path + \"/*.csv\")\n",
    "        # Read in all CSV files, rename the first unnamed column based on position, and filter to only include the 'key' and specified column\n",
    "        processed_dfs = []\n",
    "        for filename in csv_filenames:\n",
    "            file_path = os.path.join(path, subfolder, os.path.basename(filename))\n",
    "            df = pd.read_csv(file_path, on_bad_lines='skip', skiprows=1)\n",
    "            if df.columns[0].startswith(\"Unnamed\"):\n",
    "                df.rename(columns={df.columns[0]: \"Year\"}, inplace=True)\n",
    "            df['Key'] = df.columns[1] + df['Year'].astype(str)\n",
    "            df.rename(columns={df.columns[1]: col_name}, inplace=True)\n",
    "            df = df.filter(['Key', col_name])\n",
    "            processed_dfs.append(df)\n",
    "        # Concatenate all dataframes into a single dataframe\n",
    "        df = pd.concat(processed_dfs, ignore_index=True)\n",
    "        return df\n",
    "    except Exception as e:\n",
    "        print(f\"Error combining CSV files in folder {folder_path}: {e}\")"
   ]
  },
  {
   "cell_type": "markdown",
   "metadata": {},
   "source": [
    "## The FAOSTAT and CCKP data become one!"
   ]
  },
  {
   "cell_type": "code",
   "execution_count": 5,
   "metadata": {
    "scrolled": true
   },
   "outputs": [
    {
     "data": {
      "text/html": [
       "<div>\n",
       "<style scoped>\n",
       "    .dataframe tbody tr th:only-of-type {\n",
       "        vertical-align: middle;\n",
       "    }\n",
       "\n",
       "    .dataframe tbody tr th {\n",
       "        vertical-align: top;\n",
       "    }\n",
       "\n",
       "    .dataframe thead th {\n",
       "        text-align: right;\n",
       "    }\n",
       "</style>\n",
       "<table border=\"1\" class=\"dataframe\">\n",
       "  <thead>\n",
       "    <tr style=\"text-align: right;\">\n",
       "      <th></th>\n",
       "      <th>Key</th>\n",
       "      <th>Rmmy</th>\n",
       "    </tr>\n",
       "  </thead>\n",
       "  <tbody>\n",
       "    <tr>\n",
       "      <th>0</th>\n",
       "      <td>Austria1901</td>\n",
       "      <td>1052.84</td>\n",
       "    </tr>\n",
       "    <tr>\n",
       "      <th>1</th>\n",
       "      <td>Austria1902</td>\n",
       "      <td>1061.55</td>\n",
       "    </tr>\n",
       "  </tbody>\n",
       "</table>\n",
       "</div>"
      ],
      "text/plain": [
       "           Key     Rmmy\n",
       "0  Austria1901  1052.84\n",
       "1  Austria1902  1061.55"
      ]
     },
     "execution_count": 5,
     "metadata": {},
     "output_type": "execute_result"
    }
   ],
   "source": [
    "# Rmmy stands for rain in mm/year\n",
    "rain_df = combine_timeseries_files('', 'rain', 'Rmmy')\n",
    "# save the rain DataFrame to a CSV file\n",
    "rain_df.to_csv('clean/rain.csv', index=False)\n",
    "rain_df.head(2)"
   ]
  },
  {
   "cell_type": "code",
   "execution_count": 6,
   "metadata": {},
   "outputs": [
    {
     "data": {
      "text/html": [
       "<div>\n",
       "<style scoped>\n",
       "    .dataframe tbody tr th:only-of-type {\n",
       "        vertical-align: middle;\n",
       "    }\n",
       "\n",
       "    .dataframe tbody tr th {\n",
       "        vertical-align: top;\n",
       "    }\n",
       "\n",
       "    .dataframe thead th {\n",
       "        text-align: right;\n",
       "    }\n",
       "</style>\n",
       "<table border=\"1\" class=\"dataframe\">\n",
       "  <thead>\n",
       "    <tr style=\"text-align: right;\">\n",
       "      <th></th>\n",
       "      <th>Key</th>\n",
       "      <th>T°C</th>\n",
       "    </tr>\n",
       "  </thead>\n",
       "  <tbody>\n",
       "    <tr>\n",
       "      <th>3265</th>\n",
       "      <td>Sweden2020</td>\n",
       "      <td>4.47</td>\n",
       "    </tr>\n",
       "    <tr>\n",
       "      <th>3266</th>\n",
       "      <td>Sweden2021</td>\n",
       "      <td>3.02</td>\n",
       "    </tr>\n",
       "  </tbody>\n",
       "</table>\n",
       "</div>"
      ],
      "text/plain": [
       "             Key   T°C\n",
       "3265  Sweden2020  4.47\n",
       "3266  Sweden2021  3.02"
      ]
     },
     "execution_count": 6,
     "metadata": {},
     "output_type": "execute_result"
    }
   ],
   "source": [
    "temperature_df = combine_timeseries_files('', 'temperature', 'T\\u00b0C')\n",
    "# save the rain DataFrame to a CSV file\n",
    "temperature_df.to_csv('clean/temperature.csv', index=False)\n",
    "temperature_df.tail(2)"
   ]
  },
  {
   "cell_type": "code",
   "execution_count": 7,
   "metadata": {},
   "outputs": [
    {
     "data": {
      "text/html": [
       "<div>\n",
       "<style scoped>\n",
       "    .dataframe tbody tr th:only-of-type {\n",
       "        vertical-align: middle;\n",
       "    }\n",
       "\n",
       "    .dataframe tbody tr th {\n",
       "        vertical-align: top;\n",
       "    }\n",
       "\n",
       "    .dataframe thead th {\n",
       "        text-align: right;\n",
       "    }\n",
       "</style>\n",
       "<table border=\"1\" class=\"dataframe\">\n",
       "  <thead>\n",
       "    <tr style=\"text-align: right;\">\n",
       "      <th></th>\n",
       "      <th>Country</th>\n",
       "      <th>Year</th>\n",
       "      <th>Stock</th>\n",
       "    </tr>\n",
       "  </thead>\n",
       "  <tbody>\n",
       "    <tr>\n",
       "      <th>196</th>\n",
       "      <td>Finland</td>\n",
       "      <td>2020</td>\n",
       "      <td>835380</td>\n",
       "    </tr>\n",
       "    <tr>\n",
       "      <th>369</th>\n",
       "      <td>Lithuania</td>\n",
       "      <td>2017</td>\n",
       "      <td>694752</td>\n",
       "    </tr>\n",
       "    <tr>\n",
       "      <th>79</th>\n",
       "      <td>Croatia</td>\n",
       "      <td>2013</td>\n",
       "      <td>442000</td>\n",
       "    </tr>\n",
       "    <tr>\n",
       "      <th>25</th>\n",
       "      <td>Belgium</td>\n",
       "      <td>2003</td>\n",
       "      <td>2778077</td>\n",
       "    </tr>\n",
       "  </tbody>\n",
       "</table>\n",
       "</div>"
      ],
      "text/plain": [
       "       Country  Year    Stock\n",
       "196    Finland  2020   835380\n",
       "369  Lithuania  2017   694752\n",
       "79     Croatia  2013   442000\n",
       "25     Belgium  2003  2778077"
      ]
     },
     "execution_count": 7,
     "metadata": {},
     "output_type": "execute_result"
    }
   ],
   "source": [
    "# Cleaned file saved in 'beef/clean folder' in first notebook\n",
    "main_df = pd.read_csv('clean/stock.csv')# loads the cleaned cattle stock  CSV file to pandas DataFrame n df\n",
    "main_df.sample(4)"
   ]
  },
  {
   "cell_type": "code",
   "execution_count": 8,
   "metadata": {},
   "outputs": [
    {
     "data": {
      "text/html": [
       "<div>\n",
       "<style scoped>\n",
       "    .dataframe tbody tr th:only-of-type {\n",
       "        vertical-align: middle;\n",
       "    }\n",
       "\n",
       "    .dataframe tbody tr th {\n",
       "        vertical-align: top;\n",
       "    }\n",
       "\n",
       "    .dataframe thead th {\n",
       "        text-align: right;\n",
       "    }\n",
       "</style>\n",
       "<table border=\"1\" class=\"dataframe\">\n",
       "  <thead>\n",
       "    <tr style=\"text-align: right;\">\n",
       "      <th></th>\n",
       "      <th>Country</th>\n",
       "      <th>Year</th>\n",
       "      <th>Stock</th>\n",
       "      <th>Key</th>\n",
       "    </tr>\n",
       "  </thead>\n",
       "  <tbody>\n",
       "    <tr>\n",
       "      <th>0</th>\n",
       "      <td>Austria</td>\n",
       "      <td>2000</td>\n",
       "      <td>2152811</td>\n",
       "      <td>Austria_2000</td>\n",
       "    </tr>\n",
       "    <tr>\n",
       "      <th>1</th>\n",
       "      <td>Austria</td>\n",
       "      <td>2001</td>\n",
       "      <td>2155447</td>\n",
       "      <td>Austria_2001</td>\n",
       "    </tr>\n",
       "    <tr>\n",
       "      <th>2</th>\n",
       "      <td>Austria</td>\n",
       "      <td>2002</td>\n",
       "      <td>2118454</td>\n",
       "      <td>Austria_2002</td>\n",
       "    </tr>\n",
       "    <tr>\n",
       "      <th>3</th>\n",
       "      <td>Austria</td>\n",
       "      <td>2003</td>\n",
       "      <td>2066942</td>\n",
       "      <td>Austria_2003</td>\n",
       "    </tr>\n",
       "    <tr>\n",
       "      <th>4</th>\n",
       "      <td>Austria</td>\n",
       "      <td>2004</td>\n",
       "      <td>2052033</td>\n",
       "      <td>Austria_2004</td>\n",
       "    </tr>\n",
       "    <tr>\n",
       "      <th>...</th>\n",
       "      <td>...</td>\n",
       "      <td>...</td>\n",
       "      <td>...</td>\n",
       "      <td>...</td>\n",
       "    </tr>\n",
       "    <tr>\n",
       "      <th>589</th>\n",
       "      <td>Sweden</td>\n",
       "      <td>2017</td>\n",
       "      <td>1448590</td>\n",
       "      <td>Sweden_2017</td>\n",
       "    </tr>\n",
       "    <tr>\n",
       "      <th>590</th>\n",
       "      <td>Sweden</td>\n",
       "      <td>2018</td>\n",
       "      <td>1435450</td>\n",
       "      <td>Sweden_2018</td>\n",
       "    </tr>\n",
       "    <tr>\n",
       "      <th>591</th>\n",
       "      <td>Sweden</td>\n",
       "      <td>2019</td>\n",
       "      <td>1404670</td>\n",
       "      <td>Sweden_2019</td>\n",
       "    </tr>\n",
       "    <tr>\n",
       "      <th>592</th>\n",
       "      <td>Sweden</td>\n",
       "      <td>2020</td>\n",
       "      <td>1390960</td>\n",
       "      <td>Sweden_2020</td>\n",
       "    </tr>\n",
       "    <tr>\n",
       "      <th>593</th>\n",
       "      <td>Sweden</td>\n",
       "      <td>2021</td>\n",
       "      <td>1389890</td>\n",
       "      <td>Sweden_2021</td>\n",
       "    </tr>\n",
       "  </tbody>\n",
       "</table>\n",
       "<p>594 rows × 4 columns</p>\n",
       "</div>"
      ],
      "text/plain": [
       "     Country  Year    Stock           Key\n",
       "0    Austria  2000  2152811  Austria_2000\n",
       "1    Austria  2001  2155447  Austria_2001\n",
       "2    Austria  2002  2118454  Austria_2002\n",
       "3    Austria  2003  2066942  Austria_2003\n",
       "4    Austria  2004  2052033  Austria_2004\n",
       "..       ...   ...      ...           ...\n",
       "589   Sweden  2017  1448590   Sweden_2017\n",
       "590   Sweden  2018  1435450   Sweden_2018\n",
       "591   Sweden  2019  1404670   Sweden_2019\n",
       "592   Sweden  2020  1390960   Sweden_2020\n",
       "593   Sweden  2021  1389890   Sweden_2021\n",
       "\n",
       "[594 rows x 4 columns]"
      ]
     },
     "execution_count": 8,
     "metadata": {},
     "output_type": "execute_result"
    }
   ],
   "source": [
    "# assuming the dataframe is called 'df'\n",
    "main_df['Key'] = main_df['Country'].str.cat(main_df['Year'].astype(str), sep='_')\n",
    "main_df"
   ]
  },
  {
   "cell_type": "code",
   "execution_count": 9,
   "metadata": {},
   "outputs": [
    {
     "data": {
      "text/html": [
       "<div>\n",
       "<style scoped>\n",
       "    .dataframe tbody tr th:only-of-type {\n",
       "        vertical-align: middle;\n",
       "    }\n",
       "\n",
       "    .dataframe tbody tr th {\n",
       "        vertical-align: top;\n",
       "    }\n",
       "\n",
       "    .dataframe thead th {\n",
       "        text-align: right;\n",
       "    }\n",
       "</style>\n",
       "<table border=\"1\" class=\"dataframe\">\n",
       "  <thead>\n",
       "    <tr style=\"text-align: right;\">\n",
       "      <th></th>\n",
       "      <th>Country</th>\n",
       "      <th>Year</th>\n",
       "      <th>Stock</th>\n",
       "      <th>Key</th>\n",
       "    </tr>\n",
       "  </thead>\n",
       "  <tbody>\n",
       "    <tr>\n",
       "      <th>0</th>\n",
       "      <td>Austria</td>\n",
       "      <td>2000</td>\n",
       "      <td>2152811</td>\n",
       "      <td>Austria2000</td>\n",
       "    </tr>\n",
       "    <tr>\n",
       "      <th>1</th>\n",
       "      <td>Austria</td>\n",
       "      <td>2001</td>\n",
       "      <td>2155447</td>\n",
       "      <td>Austria2001</td>\n",
       "    </tr>\n",
       "    <tr>\n",
       "      <th>2</th>\n",
       "      <td>Austria</td>\n",
       "      <td>2002</td>\n",
       "      <td>2118454</td>\n",
       "      <td>Austria2002</td>\n",
       "    </tr>\n",
       "    <tr>\n",
       "      <th>3</th>\n",
       "      <td>Austria</td>\n",
       "      <td>2003</td>\n",
       "      <td>2066942</td>\n",
       "      <td>Austria2003</td>\n",
       "    </tr>\n",
       "    <tr>\n",
       "      <th>4</th>\n",
       "      <td>Austria</td>\n",
       "      <td>2004</td>\n",
       "      <td>2052033</td>\n",
       "      <td>Austria2004</td>\n",
       "    </tr>\n",
       "    <tr>\n",
       "      <th>...</th>\n",
       "      <td>...</td>\n",
       "      <td>...</td>\n",
       "      <td>...</td>\n",
       "      <td>...</td>\n",
       "    </tr>\n",
       "    <tr>\n",
       "      <th>589</th>\n",
       "      <td>Sweden</td>\n",
       "      <td>2017</td>\n",
       "      <td>1448590</td>\n",
       "      <td>Sweden2017</td>\n",
       "    </tr>\n",
       "    <tr>\n",
       "      <th>590</th>\n",
       "      <td>Sweden</td>\n",
       "      <td>2018</td>\n",
       "      <td>1435450</td>\n",
       "      <td>Sweden2018</td>\n",
       "    </tr>\n",
       "    <tr>\n",
       "      <th>591</th>\n",
       "      <td>Sweden</td>\n",
       "      <td>2019</td>\n",
       "      <td>1404670</td>\n",
       "      <td>Sweden2019</td>\n",
       "    </tr>\n",
       "    <tr>\n",
       "      <th>592</th>\n",
       "      <td>Sweden</td>\n",
       "      <td>2020</td>\n",
       "      <td>1390960</td>\n",
       "      <td>Sweden2020</td>\n",
       "    </tr>\n",
       "    <tr>\n",
       "      <th>593</th>\n",
       "      <td>Sweden</td>\n",
       "      <td>2021</td>\n",
       "      <td>1389890</td>\n",
       "      <td>Sweden2021</td>\n",
       "    </tr>\n",
       "  </tbody>\n",
       "</table>\n",
       "<p>594 rows × 4 columns</p>\n",
       "</div>"
      ],
      "text/plain": [
       "     Country  Year    Stock          Key\n",
       "0    Austria  2000  2152811  Austria2000\n",
       "1    Austria  2001  2155447  Austria2001\n",
       "2    Austria  2002  2118454  Austria2002\n",
       "3    Austria  2003  2066942  Austria2003\n",
       "4    Austria  2004  2052033  Austria2004\n",
       "..       ...   ...      ...          ...\n",
       "589   Sweden  2017  1448590   Sweden2017\n",
       "590   Sweden  2018  1435450   Sweden2018\n",
       "591   Sweden  2019  1404670   Sweden2019\n",
       "592   Sweden  2020  1390960   Sweden2020\n",
       "593   Sweden  2021  1389890   Sweden2021\n",
       "\n",
       "[594 rows x 4 columns]"
      ]
     },
     "execution_count": 9,
     "metadata": {},
     "output_type": "execute_result"
    }
   ],
   "source": [
    "\"\"\"\n",
    "Adds a unique key column to our dataframe \n",
    "based on the \"Country\" and \"Year\" columns by casting year to string type.\n",
    "\"\"\"\n",
    "main_df['Key'] = main_df['Country'] + main_df['Year'].astype(str)# adds a unique key column \n",
    "main_df\n"
   ]
  },
  {
   "cell_type": "code",
   "execution_count": 10,
   "metadata": {},
   "outputs": [
    {
     "data": {
      "text/html": [
       "<div>\n",
       "<style scoped>\n",
       "    .dataframe tbody tr th:only-of-type {\n",
       "        vertical-align: middle;\n",
       "    }\n",
       "\n",
       "    .dataframe tbody tr th {\n",
       "        vertical-align: top;\n",
       "    }\n",
       "\n",
       "    .dataframe thead th {\n",
       "        text-align: right;\n",
       "    }\n",
       "</style>\n",
       "<table border=\"1\" class=\"dataframe\">\n",
       "  <thead>\n",
       "    <tr style=\"text-align: right;\">\n",
       "      <th></th>\n",
       "      <th>Country</th>\n",
       "      <th>Year</th>\n",
       "      <th>Stock</th>\n",
       "      <th>Key</th>\n",
       "      <th>Rmmy</th>\n",
       "    </tr>\n",
       "  </thead>\n",
       "  <tbody>\n",
       "    <tr>\n",
       "      <th>0</th>\n",
       "      <td>Austria</td>\n",
       "      <td>2000</td>\n",
       "      <td>2152811</td>\n",
       "      <td>Austria2000</td>\n",
       "      <td>1171.79</td>\n",
       "    </tr>\n",
       "    <tr>\n",
       "      <th>1</th>\n",
       "      <td>Austria</td>\n",
       "      <td>2001</td>\n",
       "      <td>2155447</td>\n",
       "      <td>Austria2001</td>\n",
       "      <td>1058.36</td>\n",
       "    </tr>\n",
       "    <tr>\n",
       "      <th>2</th>\n",
       "      <td>Austria</td>\n",
       "      <td>2002</td>\n",
       "      <td>2118454</td>\n",
       "      <td>Austria2002</td>\n",
       "      <td>1212.56</td>\n",
       "    </tr>\n",
       "    <tr>\n",
       "      <th>3</th>\n",
       "      <td>Austria</td>\n",
       "      <td>2003</td>\n",
       "      <td>2066942</td>\n",
       "      <td>Austria2003</td>\n",
       "      <td>891.80</td>\n",
       "    </tr>\n",
       "    <tr>\n",
       "      <th>4</th>\n",
       "      <td>Austria</td>\n",
       "      <td>2004</td>\n",
       "      <td>2052033</td>\n",
       "      <td>Austria2004</td>\n",
       "      <td>1080.30</td>\n",
       "    </tr>\n",
       "  </tbody>\n",
       "</table>\n",
       "</div>"
      ],
      "text/plain": [
       "   Country  Year    Stock          Key     Rmmy\n",
       "0  Austria  2000  2152811  Austria2000  1171.79\n",
       "1  Austria  2001  2155447  Austria2001  1058.36\n",
       "2  Austria  2002  2118454  Austria2002  1212.56\n",
       "3  Austria  2003  2066942  Austria2003   891.80\n",
       "4  Austria  2004  2052033  Austria2004  1080.30"
      ]
     },
     "execution_count": 10,
     "metadata": {},
     "output_type": "execute_result"
    }
   ],
   "source": [
    "main_df = pd.merge(main_df, rain_df, on='Key')\n",
    "main_df.head()"
   ]
  },
  {
   "cell_type": "code",
   "execution_count": 11,
   "metadata": {},
   "outputs": [
    {
     "data": {
      "text/html": [
       "<div>\n",
       "<style scoped>\n",
       "    .dataframe tbody tr th:only-of-type {\n",
       "        vertical-align: middle;\n",
       "    }\n",
       "\n",
       "    .dataframe tbody tr th {\n",
       "        vertical-align: top;\n",
       "    }\n",
       "\n",
       "    .dataframe thead th {\n",
       "        text-align: right;\n",
       "    }\n",
       "</style>\n",
       "<table border=\"1\" class=\"dataframe\">\n",
       "  <thead>\n",
       "    <tr style=\"text-align: right;\">\n",
       "      <th></th>\n",
       "      <th>Country</th>\n",
       "      <th>Year</th>\n",
       "      <th>Stock</th>\n",
       "      <th>Key</th>\n",
       "      <th>Rmmy</th>\n",
       "      <th>T°C</th>\n",
       "    </tr>\n",
       "  </thead>\n",
       "  <tbody>\n",
       "    <tr>\n",
       "      <th>0</th>\n",
       "      <td>Austria</td>\n",
       "      <td>2000</td>\n",
       "      <td>2152811</td>\n",
       "      <td>Austria2000</td>\n",
       "      <td>1171.79</td>\n",
       "      <td>7.97</td>\n",
       "    </tr>\n",
       "    <tr>\n",
       "      <th>1</th>\n",
       "      <td>Austria</td>\n",
       "      <td>2001</td>\n",
       "      <td>2155447</td>\n",
       "      <td>Austria2001</td>\n",
       "      <td>1058.36</td>\n",
       "      <td>7.03</td>\n",
       "    </tr>\n",
       "    <tr>\n",
       "      <th>2</th>\n",
       "      <td>Austria</td>\n",
       "      <td>2002</td>\n",
       "      <td>2118454</td>\n",
       "      <td>Austria2002</td>\n",
       "      <td>1212.56</td>\n",
       "      <td>7.73</td>\n",
       "    </tr>\n",
       "    <tr>\n",
       "      <th>3</th>\n",
       "      <td>Austria</td>\n",
       "      <td>2003</td>\n",
       "      <td>2066942</td>\n",
       "      <td>Austria2003</td>\n",
       "      <td>891.80</td>\n",
       "      <td>7.35</td>\n",
       "    </tr>\n",
       "    <tr>\n",
       "      <th>4</th>\n",
       "      <td>Austria</td>\n",
       "      <td>2004</td>\n",
       "      <td>2052033</td>\n",
       "      <td>Austria2004</td>\n",
       "      <td>1080.30</td>\n",
       "      <td>6.75</td>\n",
       "    </tr>\n",
       "    <tr>\n",
       "      <th>...</th>\n",
       "      <td>...</td>\n",
       "      <td>...</td>\n",
       "      <td>...</td>\n",
       "      <td>...</td>\n",
       "      <td>...</td>\n",
       "      <td>...</td>\n",
       "    </tr>\n",
       "    <tr>\n",
       "      <th>589</th>\n",
       "      <td>Sweden</td>\n",
       "      <td>2017</td>\n",
       "      <td>1448590</td>\n",
       "      <td>Sweden2017</td>\n",
       "      <td>678.22</td>\n",
       "      <td>3.16</td>\n",
       "    </tr>\n",
       "    <tr>\n",
       "      <th>590</th>\n",
       "      <td>Sweden</td>\n",
       "      <td>2018</td>\n",
       "      <td>1435450</td>\n",
       "      <td>Sweden2018</td>\n",
       "      <td>539.63</td>\n",
       "      <td>3.62</td>\n",
       "    </tr>\n",
       "    <tr>\n",
       "      <th>591</th>\n",
       "      <td>Sweden</td>\n",
       "      <td>2019</td>\n",
       "      <td>1404670</td>\n",
       "      <td>Sweden2019</td>\n",
       "      <td>682.36</td>\n",
       "      <td>3.34</td>\n",
       "    </tr>\n",
       "    <tr>\n",
       "      <th>592</th>\n",
       "      <td>Sweden</td>\n",
       "      <td>2020</td>\n",
       "      <td>1390960</td>\n",
       "      <td>Sweden2020</td>\n",
       "      <td>669.34</td>\n",
       "      <td>4.47</td>\n",
       "    </tr>\n",
       "    <tr>\n",
       "      <th>593</th>\n",
       "      <td>Sweden</td>\n",
       "      <td>2021</td>\n",
       "      <td>1389890</td>\n",
       "      <td>Sweden2021</td>\n",
       "      <td>608.87</td>\n",
       "      <td>3.02</td>\n",
       "    </tr>\n",
       "  </tbody>\n",
       "</table>\n",
       "<p>594 rows × 6 columns</p>\n",
       "</div>"
      ],
      "text/plain": [
       "     Country  Year    Stock          Key     Rmmy   T°C\n",
       "0    Austria  2000  2152811  Austria2000  1171.79  7.97\n",
       "1    Austria  2001  2155447  Austria2001  1058.36  7.03\n",
       "2    Austria  2002  2118454  Austria2002  1212.56  7.73\n",
       "3    Austria  2003  2066942  Austria2003   891.80  7.35\n",
       "4    Austria  2004  2052033  Austria2004  1080.30  6.75\n",
       "..       ...   ...      ...          ...      ...   ...\n",
       "589   Sweden  2017  1448590   Sweden2017   678.22  3.16\n",
       "590   Sweden  2018  1435450   Sweden2018   539.63  3.62\n",
       "591   Sweden  2019  1404670   Sweden2019   682.36  3.34\n",
       "592   Sweden  2020  1390960   Sweden2020   669.34  4.47\n",
       "593   Sweden  2021  1389890   Sweden2021   608.87  3.02\n",
       "\n",
       "[594 rows x 6 columns]"
      ]
     },
     "execution_count": 11,
     "metadata": {},
     "output_type": "execute_result"
    }
   ],
   "source": [
    "main_df = pd.merge(main_df, temperature_df, on='Key')\n",
    "main_df"
   ]
  },
  {
   "cell_type": "code",
   "execution_count": 12,
   "metadata": {},
   "outputs": [
    {
     "name": "stdout",
     "output_type": "stream",
     "text": [
      "this_is_a_text_with_pe_riods_and_other_characters\n"
     ]
    }
   ],
   "source": [
    "#### Snake\n",
    "def snake(text, default='default'):\n",
    "    \"\"\"\n",
    "    Converts a given string to snake_case by replacing any whitespace characters with underscores,\n",
    "    converting to all lowercase, and removing any non-alphanumeric characters from the beginning and end.\n",
    "\n",
    "    Parameters:\n",
    "        text (str): The string to convert to snake_case.\n",
    "        default (str): The default value to return if the input text is empty.\n",
    "\n",
    "    Returns:\n",
    "        str: The resulting string in snake_case format, or the default value if the input text is empty.\n",
    "    \"\"\"\n",
    "    if not text:\n",
    "        return default\n",
    "    # Convert to string and replace any non-alphanumeric characters at the beginning and end with an empty string\n",
    "    text = re.sub(r'^\\W+|\\W+$', '', str(text))\n",
    "    # Replace any period symbols with underscores\n",
    "    text = text.replace('.', '')\n",
    "    # Replace any other non-alphanumeric characters with empty strings\n",
    "    text = re.sub(r'\\W+', '_', text)\n",
    "    # Convert to all lowercase\n",
    "    text = text.lower()\n",
    "    return text\n",
    "\n",
    "# Example usage:\n",
    "text = \"This is a text with pe,  ,  ,  ,riods. (And other characters   .)\"\n",
    "result = snake(text)\n",
    "print(result)  # Output: \"this_is_a_text_with_periods_and_other_characters\"\n",
    "\n",
    "\n",
    "# snake('does snake Work')\n",
    "\n",
    "# snake('                  ')\n",
    "# snake('                  ')\n",
    "# snake('                  ')"
   ]
  },
  {
   "cell_type": "markdown",
   "metadata": {},
   "source": [
    "##  Balancing Statistical confidence  with model simplicity\n",
    "\n",
    "- The extent of the data we use in terms of Countries, Time, Variables can be narrrowed while solving missing values issues \n",
    "- Sample size: The larger the sample size, the smaller the confidence interval will be.\n",
    "- At the same time the sample size across variables , time and counries must be sufficient to provide reliable results.But we will still further cut countries and years in the interest of simplicity and processing times.\n",
    "- Margin of error: The margin of error is the range of values within which the realised future  predictions of production nd price will likely lie.\n",
    "-  By reducing the margin of error, the confidence interval becomes smaller.\n",
    "- Significance level: The significance level is the probability of rejecting the null hypothesis when it is actually true. By using a smaller significance level (e.g., 0.01 instead of 0.05), the confidence interval will be narrower.\n",
    "- Confidence level: The confidence level is the degree of certainty that the population parameter falls within the confidence interval. By increasing the confidence level (e.g., from 90% to 95%), the confidence interval will become wider, but the predictions will be more reliable.\n",
    "- Model complexity: By using simpler models with fewer parameters, the predictions may be more focused and easier to interpret. \n",
    "- We will prepare a wide range of data but agressively jettison most of it during pre-processing.\n",
    "- Variable selection: Choosing the most relevant variables will be based on the data not hunches.\n",
    "- Data quality: Ensuring that the data is accurate, complete, and representative of the population of interest can help to reduce uncertainty and increase the precision of the predictions.\n",
    "- Using the 'nutrient.csv' data to  narrow  range of data\n",
    "- Overall, a combination of all of these  factors can help to ensure that statistical research results are reliable, actionable, and focused while keeping processing loads and project comlpexity under control.\n",
    "\n"
   ]
  },
  {
   "cell_type": "markdown",
   "metadata": {},
   "source": [
    "## Processing predictor data\n",
    "### Image below shows download control panel\n",
    "- db [https://www.fao.org/faostat/en/#data/domains_table](https://www.fao.org/faostat/en/#data/domains_table) /Land, Inputs and Sustainability/Inputs/ Fertilizers by Nutrient\n",
    "- The  image below demonstrates retrieval settings for 'Fertilizers by Nutrient' database was \n",
    "- European Union (27) > (List) \n",
    "- >1999 as per revised research question\n",
    "- All 'Items' and All 'Elemement' selected for later grouping\n",
    "![image1](images/beef002.png)\n",
    "\n",
    "### Basic code is explained line by line below"
   ]
  },
  {
   "cell_type": "code",
   "execution_count": 13,
   "metadata": {
    "scrolled": true
   },
   "outputs": [
    {
     "name": "stdout",
     "output_type": "stream",
     "text": [
      "Index(['Country', 'Year', 'Element', 'Item', 'Value', 'Key'], dtype='object')\n",
      "['production' 'import_quantity' 'export_quantity' 'agricultural_use']\n",
      "['nutrient_nitrogen_n_total' 'nutrient_phosphate_p2o5_total'\n",
      " 'nutrient_potash_k2o_total']\n"
     ]
    },
    {
     "data": {
      "text/html": [
       "<div>\n",
       "<style scoped>\n",
       "    .dataframe tbody tr th:only-of-type {\n",
       "        vertical-align: middle;\n",
       "    }\n",
       "\n",
       "    .dataframe tbody tr th {\n",
       "        vertical-align: top;\n",
       "    }\n",
       "\n",
       "    .dataframe thead th {\n",
       "        text-align: right;\n",
       "    }\n",
       "</style>\n",
       "<table border=\"1\" class=\"dataframe\">\n",
       "  <thead>\n",
       "    <tr style=\"text-align: right;\">\n",
       "      <th></th>\n",
       "      <th>Country</th>\n",
       "      <th>Year</th>\n",
       "      <th>Element</th>\n",
       "      <th>Item</th>\n",
       "      <th>Value</th>\n",
       "      <th>Key</th>\n",
       "    </tr>\n",
       "  </thead>\n",
       "  <tbody>\n",
       "    <tr>\n",
       "      <th>39</th>\n",
       "      <td>Austria</td>\n",
       "      <td>2000</td>\n",
       "      <td>production</td>\n",
       "      <td>nutrient_nitrogen_n_total</td>\n",
       "      <td>186000.0</td>\n",
       "      <td>Austria2000</td>\n",
       "    </tr>\n",
       "    <tr>\n",
       "      <th>40</th>\n",
       "      <td>Austria</td>\n",
       "      <td>2001</td>\n",
       "      <td>production</td>\n",
       "      <td>nutrient_nitrogen_n_total</td>\n",
       "      <td>216000.0</td>\n",
       "      <td>Austria2001</td>\n",
       "    </tr>\n",
       "    <tr>\n",
       "      <th>41</th>\n",
       "      <td>Austria</td>\n",
       "      <td>2002</td>\n",
       "      <td>production</td>\n",
       "      <td>nutrient_nitrogen_n_total</td>\n",
       "      <td>NaN</td>\n",
       "      <td>Austria2002</td>\n",
       "    </tr>\n",
       "    <tr>\n",
       "      <th>42</th>\n",
       "      <td>Austria</td>\n",
       "      <td>2003</td>\n",
       "      <td>production</td>\n",
       "      <td>nutrient_nitrogen_n_total</td>\n",
       "      <td>NaN</td>\n",
       "      <td>Austria2003</td>\n",
       "    </tr>\n",
       "    <tr>\n",
       "      <th>43</th>\n",
       "      <td>Austria</td>\n",
       "      <td>2004</td>\n",
       "      <td>production</td>\n",
       "      <td>nutrient_nitrogen_n_total</td>\n",
       "      <td>NaN</td>\n",
       "      <td>Austria2004</td>\n",
       "    </tr>\n",
       "  </tbody>\n",
       "</table>\n",
       "</div>"
      ],
      "text/plain": [
       "    Country  Year     Element                       Item     Value  \\\n",
       "39  Austria  2000  production  nutrient_nitrogen_n_total  186000.0   \n",
       "40  Austria  2001  production  nutrient_nitrogen_n_total  216000.0   \n",
       "41  Austria  2002  production  nutrient_nitrogen_n_total       NaN   \n",
       "42  Austria  2003  production  nutrient_nitrogen_n_total       NaN   \n",
       "43  Austria  2004  production  nutrient_nitrogen_n_total       NaN   \n",
       "\n",
       "            Key  \n",
       "39  Austria2000  \n",
       "40  Austria2001  \n",
       "41  Austria2002  \n",
       "42  Austria2003  \n",
       "43  Austria2004  "
      ]
     },
     "execution_count": 13,
     "metadata": {},
     "output_type": "execute_result"
    }
   ],
   "source": [
    "# Read in the original/source/raw DataFrame\n",
    "df = pd.read_csv('raw/nutrient.csv')\n",
    "# filter for time\n",
    "df = df[df['Year'] >= 2000]\n",
    "# remove  \"Belgium-Luxembourg\" based on 01...ijpnb decision\n",
    "df = df[df['Area'] != 'Belgium-Luxembourg']\n",
    "# rename the 'Area' column to 'Country' \n",
    "df = df.rename(columns={'Area': 'Country'})\n",
    "# create a 'Key' column by concatenating 'Country' and 'Year'\n",
    "df['Key'] = df['Country'] + df['Year'].astype(str)\n",
    "# keep required varient columns\n",
    "df = df[['Country','Year','Element','Item', 'Value','Key']]\n",
    "# Convert  values in the Item  and Element columns to clean snake\n",
    "df['Item'] = df['Item'].apply(snake)\n",
    "df['Element'] = df['Element'].apply(snake)\n",
    "# Generate item and element lists as per image above\n",
    "item_df=df['Item'].unique()\n",
    "element_df = df['Element'].unique()\n",
    "# Print several objects for critical thinking and EDA\n",
    "print(df.columns)\n",
    "print(df['Element'].unique())\n",
    "print(df['Item'].unique())\n",
    "# print the final dataframe\n",
    "df.head()"
   ]
  },
  {
   "cell_type": "code",
   "execution_count": 14,
   "metadata": {},
   "outputs": [],
   "source": [
    "\n",
    "# get the unique combinations of Element and Item\n",
    "combinations = df[['Element', 'Item']].drop_duplicates()\n",
    "# loop through all combinations of Element and Item\n",
    "for i, row in combinations.iterrows():\n",
    "    # get the current combination of Element and Item\n",
    "    e = row['Element']\n",
    "    it = row['Item']    \n",
    "    # create a DataFrame for the current combination\n",
    "    df_name = f\"{e}_{it}_df\"\n",
    "    globals()[df_name] = df[(df['Element'] == e) & (df['Item'] == it)].reset_index(drop=True)\n"
   ]
  },
  {
   "cell_type": "code",
   "execution_count": 15,
   "metadata": {
    "scrolled": true
   },
   "outputs": [
    {
     "data": {
      "text/plain": [
       "'missing_values_by_country_and_year'"
      ]
     },
     "execution_count": 15,
     "metadata": {},
     "output_type": "execute_result"
    }
   ],
   "source": [
    "# Calculate the number of missing values for each country and year\n",
    "missing_values = df.groupby(['Country', 'Year'])['Value'].apply(lambda x: x.isna().sum())\n",
    "# Reshape the data to a pivot table for plotting\n",
    "missing_values = missing_values.unstack('Country')\n",
    "snake('Missing Values by Country and Year')"
   ]
  },
  {
   "cell_type": "markdown",
   "metadata": {},
   "source": [
    "### Rationale for data frame reductions  and other EDA decisions\n",
    "\n",
    "\n",
    "- Decision to drop 2000, 2001 and 2002 is based on heatmap below\n",
    "- A visual inspection of missing data shows almost all countries in our sample have disproportionate levels of missing data in 2000 and 2001\n",
    "- That is why 2000 and 2001 are cut"
   ]
  },
  {
   "cell_type": "code",
   "execution_count": 16,
   "metadata": {
    "scrolled": true
   },
   "outputs": [
    {
     "data": {
      "image/png": "[encoded data removed]",
      "text/plain": [
       "<Figure size 640x480 with 2 Axes>"
      ]
     },
     "metadata": {},
     "output_type": "display_data"
    }
   ],
   "source": [
    "# Heatmap of missing values\n",
    "sns.heatmap(missing_values, cmap='Blues')\n",
    "plt.title('Missing Values by Country and Year')\n",
    "plt.show()"
   ]
  },
  {
   "cell_type": "code",
   "execution_count": 17,
   "metadata": {
    "scrolled": true
   },
   "outputs": [
    {
     "data": {
      "image/png": "[encoded data removed]",
      "text/plain": [
       "<Figure size 640x480 with 1 Axes>"
      ]
     },
     "metadata": {},
     "output_type": "display_data"
    }
   ],
   "source": [
    "# Missing value count by year\n",
    "missing_by_year = missing_values.sum(axis=1)\n",
    "plt.plot(missing_by_year.index, missing_by_year.values)\n",
    "plt.title('Missing Values by Year')\n",
    "plt.xlabel('Year')\n",
    "plt.ylabel('Number of Missing Values')\n",
    "plt.show()"
   ]
  },
  {
   "cell_type": "code",
   "execution_count": null,
   "metadata": {},
   "outputs": [],
   "source": [
    "# Missing value count by year\n",
    "missing_by_year = missing_values.sum(axis=1)\n",
    "plt.plot(missing_by_year.index, missing_by_year.values)\n",
    "plt.title('Missing Values by Year')\n",
    "plt.xlabel('Year')\n",
    "plt.ylabel('Number of Missing Values')\n",
    "plt.show()\n",
    "\n",
    "# Top 10 countries with the most missing values\n",
    "top_10_countries = missing_by_country.nlargest(10).index.tolist()\n",
    "\n",
    "# Missing value count by year for top 10 countries\n",
    "missing_top_10 = missing_values[top_10_countries]\n",
    "plt.plot(missing_top_10.index, missing_top_10.values)\n",
    "plt.legend(top_10_countries)\n",
    "plt.title('Missing Values by Year for Top 10 Countries')\n",
    "plt.xlabel('Year')\n",
    "plt.ylabel('Number of Missing Values')\n",
    "plt.show()\n",
    "\n",
    "# Percentage of missing values by country\n",
    "missing_percentage = missing_values.apply(lambda x: x.isna().sum()/len(x))\n",
    "plt.bar(missing_percentage.index, missing_percentage.values)\n",
    "plt.title('Percentage of Missing Values by Country')\n",
    "plt.xlabel('Country')\n",
    "plt.ylabel('Percentage of Missing Values')\n",
    "plt.show()\n",
    "\n",
    "# Percentage of missing values by year\n",
    "missing_percentage_by_year = missing_values.apply(lambda x: x.isna().sum()/len(x.index))\n",
    "plt.plot(missing_percentage_by_year.index, missing_percentage_by_year.values)\n",
    "plt.title('Percentage of Missing Values by Year')\n",
    "plt.xlabel('Year')\n",
    "plt.ylabel('Percentage of Missing Values')\n",
    "plt.show()\n",
    "\n",
    "# Percentage of missing values for top 10 countries\n",
    "missing_percentage_top_10 = missing_percentage[top_10_countries]\n",
    "plt.bar(missing_percentage_top_10.index, missing_percentage_top_10.values)\n",
    "plt.title('Percentage of Missing Values for Top 10 Countries')\n",
    "plt.xlabel('Country')\n",
    "plt.ylabel('Percentage of Missing Values')\n",
    "plt.show()\n",
    "\n",
    "# Distribution of missing values by country and year\n",
    "missing_values_stacked = missing_values.stack().reset_index()\n",
    "missing_values_stacked.columns = ['Year', 'Country', 'Missing Values']\n",
    "sns.lineplot(data=missing_values_stacked, x='Year', y='Missing Values', hue='Country')\n",
    "plt.title('Distribution of Missing Values by Country and Year')\n",
    "plt.show()\n",
    "\n",
    "# Density plot of missing values by year\n",
    "sns.kdeplot(missing_by_year, shade=True)\n",
    "plt.title('Density Plot of Missing Values by Year')\n",
    "plt.xlabel('Number of Missing Values')\n",
    "plt.show()\n",
    "\n",
    "# Box plot of missing values by country\n",
    "missing_values_melted = missing_values.melt(var_name='Country', value_name='Missing Values')\n",
    "sns.boxplot(data=missing_values_melted, x='Country', y='Missing Values')\n",
    "plt.title('Box Plot of Missing Values by Country')\n",
    "plt.show()"
   ]
  },
  {
   "cell_type": "markdown",
   "metadata": {},
   "source": [
    "\n",
    "\n",
    "Verification  and Culling countries\n",
    "\n",
    "A visual inspection now suggest we drop the \n",
    "\n",
    "#### Post 2002 missing data beahavior\n",
    "- Post 2002 missing data beahavior is exclusive to these 5 countries\n",
    "- This is an ordered list\n",
    "- Austria had the most missing data\n",
    "- The Netherlands the least\n",
    "\n",
    "| Index | Country     |\n",
    "|-------|-------------|\n",
    "| 1     | Austria     |\n",
    "| 2     | Malta       |\n",
    "| 3     | Bulgaria    |\n",
    "| 4     | Slovakia    |\n",
    "| 5     | Netherlands |\n",
    "\n",
    "- Strategy solves a missing data problem \n",
    "- While meeting project aim to jettison data\n",
    "- We see the Netherlands is 7th in the average stock league table \n",
    "- We could simply remove it \n",
    "- or we could simplify the project greatly and narrow our research question to the top 6 producers?\n",
    "- The ML stage will infor this\n",
    "\n",
    "#### Top EU Cattle Stock Countries\n",
    "\n",
    "| Index | Country      |\n",
    "|-------|--------------|\n",
    "| 1     | France       |\n",
    "| 2     | Germany      |\n",
    "| 3     | Ireland      |\n",
    "| 4     | Spain        |\n",
    "| 5     | Italy        |\n",
    "| 6     | Poland       |\n",
    "| 7     | Netherlands  |\n",
    "| 8     | Belgium      |\n",
    "\n",
    "####  Further variables\n",
    "\n",
    "- Here we only looked at the Soil Nutrient data \n",
    "- From it we decided to remove 2000 and 2001 \n",
    "- Furthermore we removed 5 countries including the 7th in the stock league tables\n",
    "- We may narrow our zone of interest further but will import and grow our main data file based on the YearCountry merging key and unique Element Item combos\n",
    "- Finally we will keep the headers painfully abreviated but generate a data dictionary for clarity of communifiaction"
   ]
  },
  {
   "cell_type": "code",
   "execution_count": null,
   "metadata": {},
   "outputs": [],
   "source": [
    "df = df[df['Year'] >= 2002]\n",
    "\n",
    "df.to_csv('clean/nutrient2002.csv', index=False)\n",
    "# Calculate the number of missing values for each country and year\n",
    "missing_values = df.groupby(['Country', 'Year'])['Value'].apply(lambda x: x.isna().sum())\n",
    "\n",
    "# Reshape the data to a pivot table for plotting\n",
    "missing_values = missing_values.unstack('Country')\n",
    "\n",
    "# Heatmap of missing values\n",
    "sns.heatmap(missing_values, cmap='Blues')\n",
    "plt.title('Missing Values by Country and Year')\n",
    "plt.show()\n",
    "\n",
    "# Read the text topstock.txt file into a DataFrame\n",
    "toppers= pd.read_csv('clean/topstock.txt', sep='\\t', header=None)\n",
    "\n",
    "\n"
   ]
  },
  {
   "cell_type": "code",
   "execution_count": 26,
   "metadata": {},
   "outputs": [
    {
     "data": {
      "image/png": "[encoded data removed]",
      "text/plain": [
       "<Figure size 640x480 with 1 Axes>"
      ]
     },
     "metadata": {},
     "output_type": "display_data"
    }
   ],
   "source": [
    "# Missing value count by country\n",
    "missing_by_country = missing_values.sum()\n",
    "plt.bar(missing_by_country.index, missing_by_country.values)\n",
    "plt.title('Missing Values by Country')\n",
    "plt.xlabel('Country')\n",
    "plt.ylabel('Number of Missing Values')\n",
    "plt.show()"
   ]
  },
  {
   "cell_type": "code",
   "execution_count": null,
   "metadata": {
    "scrolled": true
   },
   "outputs": [],
   "source": [
    "# Calculate the number of missing values for each country and year\n",
    "missing_values = df.groupby(['Country', 'Year'])['Value'].apply(lambda x: x.isna().sum())\n",
    "\n",
    "# Reshape the data to a pivot table for plotting\n",
    "missing_values = missing_values.unstack('Country')\n",
    "\n",
    "# Heatmap of missing values\n",
    "sns.heatmap(missing_values, cmap='Blues')\n",
    "plt.title('Missing Values by Country and Year')\n",
    "plt.show()\n",
    "# Heat map is clear\n"
   ]
  },
  {
   "cell_type": "code",
   "execution_count": null,
   "metadata": {},
   "outputs": [],
   "source": []
  },
  {
   "cell_type": "code",
   "execution_count": null,
   "metadata": {},
   "outputs": [],
   "source": [
    "# Missing value count by country\n",
    "missing_by_country = missing_values.sum()\n",
    "plt.bar(missing_by_country.index, missing_by_country.values)\n",
    "plt.title('Missing Values by Country')\n",
    "plt.xlabel('Country')\n",
    "plt.ylabel('Number of Missing Values')\n",
    "plt.show()"
   ]
  },
  {
   "cell_type": "code",
   "execution_count": 27,
   "metadata": {},
   "outputs": [
    {
     "data": {
      "text/plain": [
       "(4788, 6)"
      ]
     },
     "execution_count": 27,
     "metadata": {},
     "output_type": "execute_result"
    }
   ],
   "source": [
    "\n",
    "droppedCountries = ['Austria', 'Malta', 'Bulgaria', 'Slovakia', 'Netherlands','Latvia']\n",
    "\n",
    "# Read the saved csv file back into a dataframe\n",
    "df = pd.read_csv('clean/nutrient2002')\n",
    "\n",
    "# Drop the rows for the countries in droppedCountries\n",
    "df = df[~df['Country'].isin(droppedCountries)]\n",
    "\n",
    "df.shape\n"
   ]
  },
  {
   "cell_type": "code",
   "execution_count": null,
   "metadata": {
    "scrolled": true
   },
   "outputs": [],
   "source": [
    "\n",
    "\n",
    "# assuming your dataframe is called \"df\"\n",
    "# get the unique combinations of Element and Item\n",
    "combinations = df[['Element', 'Item']].drop_duplicates()\n",
    "\n",
    "# loop through all combinations of Element and Item\n",
    "for i, row in combinations.iterrows():\n",
    "    # get the current combination of Element and Item\n",
    "    e = row['Element']\n",
    "    it = row['Item']\n",
    "    \n",
    "    # create a DataFrame for the current combination\n",
    "    df_name = f\"{e}_{it}_df\"\n",
    "    globals()[df_name] = df[(df['Element'] == e) & (df['Item'] == it)].reset_index(drop=True)\n",
    "\n",
    "# print a list of the DataFrames created\n",
    "df_list = [var for var in globals() if var.endswith('_df')]\n",
    "df_list\n"
   ]
  },
  {
   "cell_type": "code",
   "execution_count": null,
   "metadata": {},
   "outputs": [],
   "source": [
    "production_nutrient_nitrogen_n_total_df"
   ]
  },
  {
   "cell_type": "code",
   "execution_count": null,
   "metadata": {},
   "outputs": [],
   "source": [
    "\n",
    "\n",
    "# # Define a function to create a new DataFrame for a given group\n",
    "# def create_df(group):\n",
    "#     element_name = group['Element'].iloc[0]\n",
    "#     item_name = group['Item'].iloc[0]\n",
    "#     new_df = group.copy()\n",
    "#     new_df['Element'] = element_name\n",
    "#     new_df['Item'] = item_name\n",
    "#     new_df.columns = [inflection.underscore(col) for col in new_df.columns] # rename columns to snake_case\n",
    "#     df_name = f'{inflection.underscore(element_name)}_{inflection.underscore(item_name)}'\n",
    "#     return df_name, new_df\n",
    "\n",
    "# # Group the original dataframe by Element and Item, and loop through the resulting groups to create new DataFrames\n",
    "# dfs = {}\n",
    "# for (element, item), group in df.groupby(['Element', 'Item']):\n",
    "#     df_name, new_df = create_df(group)\n",
    "#     dfs[df_name] = new_df\n",
    "\n",
    "# # Print the resulting DataFrames\n",
    "# for name, df in dfs.items():\n",
    "#     print(name)\n",
    "# df"
   ]
  },
  {
   "cell_type": "code",
   "execution_count": null,
   "metadata": {},
   "outputs": [],
   "source": [
    "create_df('df')"
   ]
  },
  {
   "cell_type": "code",
   "execution_count": null,
   "metadata": {},
   "outputs": [],
   "source": []
  },
  {
   "cell_type": "code",
   "execution_count": null,
   "metadata": {},
   "outputs": [],
   "source": []
  },
  {
   "cell_type": "code",
   "execution_count": null,
   "metadata": {},
   "outputs": [],
   "source": []
  },
  {
   "cell_type": "code",
   "execution_count": null,
   "metadata": {},
   "outputs": [],
   "source": []
  },
  {
   "cell_type": "code",
   "execution_count": null,
   "metadata": {},
   "outputs": [],
   "source": [
    "replace_dict = {'Nutrient nitrogen N (total)': 'N', 'Nutrient phosphate P2O5 (total)': 'P2O5', 'Nutrient potash K2O (total)': 'K2O'}"
   ]
  },
  {
   "cell_type": "code",
   "execution_count": null,
   "metadata": {},
   "outputs": [],
   "source": [
    "df['Item'] = df['Item'].replace(replace_dict)\n",
    "item=df['Item'].unique()\n",
    "item"
   ]
  },
  {
   "cell_type": "code",
   "execution_count": null,
   "metadata": {},
   "outputs": [],
   "source": [
    "df['Item'] = df['Item'].apply(snake)\n",
    "item=df['Item'].unique()\n",
    "item"
   ]
  },
  {
   "cell_type": "code",
   "execution_count": null,
   "metadata": {},
   "outputs": [],
   "source": [
    "coun= df_11['Area'].unique()\n",
    "coun"
   ]
  },
  {
   "cell_type": "code",
   "execution_count": null,
   "metadata": {},
   "outputs": [],
   "source": [
    "df_11 = df[(df['Element'] == 'production') & (df['Item'] == 'N')]\n",
    "df_12 = df[(df['Element'] == 'production') & (df['Item'] == 'P2O5')]\n",
    "df_13 = df[(df['Element'] == 'production') & (df['Item'] == 'K20')]\n",
    "df_14 = df[(df['Element'] == 'import_quantity') & (df['Item'] == 'N')]\n",
    "df_15 = df[(df['Element'] == 'import_quantity') & (df['Item'] == 'P2O5')]\n",
    "df_16 = df[(df['Element'] == 'import_quantity') & (df['Item'] == 'K20')]\n",
    "df_17 = df[(df['Element'] == 'export_quantity') & (df['Item'] == 'N')]\n",
    "df_18 = df[(df['Element'] == 'export_quantity') & (df['Item'] == 'P2O5')]\n",
    "df_19 = df[(df['Element'] == 'export_quantity') & (df['Item'] == 'K20')]\n",
    "df_20 = df[(df['Element'] == 'agricultural_use') & (df['Item'] == 'N')]\n",
    "df_21 = df[(df['Element'] == 'agricultural_use') & (df['Item'] == 'P2O5')]\n",
    "df_22 = df[(df['Element'] == 'agricultural_use') & (df['Item'] == 'K20')]"
   ]
  },
  {
   "cell_type": "code",
   "execution_count": null,
   "metadata": {},
   "outputs": [],
   "source": [
    "def key(df)\n",
    " df['Key'] = df['Country'] + df['Year'].astype(str)# adds a unique key column \n",
    "\n"
   ]
  },
  {
   "cell_type": "code",
   "execution_count": null,
   "metadata": {},
   "outputs": [],
   "source": [
    "p2o5_production_df=df_12\n",
    "p2o5_production_df\n",
    "\n"
   ]
  },
  {
   "cell_type": "code",
   "execution_count": null,
   "metadata": {},
   "outputs": [],
   "source": [
    "\n",
    "# Create a dictionary of DataFrames for each unique pair of Element and Item\n",
    "groups = df.groupby(['Element', 'Item'])\n",
    "dfs = {}\n",
    "for name, group in groups:\n",
    "    dfs[name] = group\n",
    "\n",
    "# Print the contents of each DataFrame\n",
    "for name, df in dfs.items():\n",
    "    print(f\"DataFrame for Element '{name[0]}' and Item '{name[1]}':\")\n",
    "    print(df)"
   ]
  },
  {
   "cell_type": "code",
   "execution_count": null,
   "metadata": {
    "scrolled": true
   },
   "outputs": [],
   "source": [
    "dfs[1]"
   ]
  },
  {
   "cell_type": "code",
   "execution_count": null,
   "metadata": {},
   "outputs": [],
   "source": [
    "# Group the DataFrame by 'Element' and 'Item'\n",
    "groups = df.groupby(['Element', 'Item'])"
   ]
  },
  {
   "cell_type": "code",
   "execution_count": null,
   "metadata": {},
   "outputs": [],
   "source": [
    "# Group the DataFrame by Element and Item\n",
    "grouped = nutrient_df.groupby(['Element', 'Item'])"
   ]
  },
  {
   "cell_type": "code",
   "execution_count": null,
   "metadata": {},
   "outputs": [],
   "source": [
    "for name, group in groups:\n",
    "    element, item = name\n",
    "    filename = f\"{element}_{item}.csv\"\n",
    "    group.to_csv(filename, index=False)"
   ]
  },
  {
   "cell_type": "code",
   "execution_count": null,
   "metadata": {},
   "outputs": [],
   "source": [
    "# Loop over each group and create a new DataFrame for each\n",
    "for name, group in grouped:\n",
    "    # Create a new DataFrame using the group\n",
    "    new_df = pd.DataFrame(group)"
   ]
  },
  {
   "cell_type": "code",
   "execution_count": null,
   "metadata": {},
   "outputs": [],
   "source": [
    "# Create an empty dictionary to store the new DataFrames\n",
    "dfs = {}\n",
    "\n",
    "# Loop over each group and create a new DataFrame for each\n",
    "for name, group in grouped:\n",
    "    # Create a new DataFrame using the group\n",
    "    new_df = pd.DataFrame(group)\n",
    "    \n",
    "    # Get the names of the Element and Item for this group\n",
    "    element_name = name[0]\n",
    "    item_name = name[1]\n",
    "    \n",
    "    # Create a unique name for this new DataFrame\n",
    "    df_name = f'{element_name}_{item_name}_df'\n",
    "    \n",
    "    # Store the new DataFrame in the dictionary\n",
    "    dfs[df_name] = new_df\n",
    "\n",
    "dfs['Nitrogen_Fertilizers_df']"
   ]
  },
  {
   "cell_type": "code",
   "execution_count": null,
   "metadata": {},
   "outputs": [],
   "source": [
    "    \n",
    "    # Do EDA on the new DataFrame as desired\n",
    "    # ...\n",
    "    \n",
    "    # Store the new DataFrame however you like (e.g. in a dictionary)\n",
    "    # ..."
   ]
  },
  {
   "cell_type": "code",
   "execution_count": null,
   "metadata": {},
   "outputs": [],
   "source": [
    "# Group by country and item and calculate the mean value\n",
    "df_grouped = dfs['Production_Crops_Economic'].groupby(['Area', 'Item']).mean()\n",
    "\n",
    "# Print the first 5 rows\n",
    "print(df_grouped.head())\n"
   ]
  },
  {
   "cell_type": "code",
   "execution_count": null,
   "metadata": {},
   "outputs": [],
   "source": [
    "\"\"\"We will bring in another predictor manually before automating\n",
    "The unwanted area and years are filtered out by the process Next  LandCover \"\"\"\n",
    "os.listdir('./raw') "
   ]
  },
  {
   "cell_type": "markdown",
   "metadata": {},
   "source": [
    "predictor variables to include in the analysis.\n",
    "-  production volume\n",
    "- imports\n",
    "- exports and \n",
    "- slaughter numbers."
   ]
  },
  {
   "cell_type": "code",
   "execution_count": null,
   "metadata": {},
   "outputs": [],
   "source": [
    "import pandas as pd\n",
    "\n",
    "def read_data(file_path):\n",
    "    # Read in the data\n",
    "    df = pd.read_csv(file_path)\n",
    "    return df\n",
    "\n",
    "def clean_column_names(df):\n",
    "    # Replace forward slashes, backslashes, and commas in column names with underscores\n",
    "    df.columns = df.columns.str.replace('[/\\\\\\\\, (,) ,=  ]', '_')\n",
    "    return df\n",
    "\n",
    "def clean_element_item_values(df):\n",
    "    # Replace forward slashes, backslashes, commas, periods, and hyphens in Element and Item values with underscores\n",
    "    df['Element'] = df['Element'].str.replace('[/\\\\\\\\, (,) , =  ]', '_')\n",
    "    df['Item'] = df['Item'].str.replace('[/\\\\\\\\, (,), =   -\\.]', '_')\n",
    "    return df\n",
    "\n",
    "\n",
    "def drop_rows(df):\n",
    "    # Drop rows where Area is 'Belgium-Luxembourg'\n",
    "    df = df[df['Area'] != 'Belgium-Luxembourg']\n",
    "    return df\n",
    "\n",
    "def generate_key_column(df):\n",
    "    # Merge Area and Year columns into a new Key column\n",
    "    df['Key'] = df['Area'] + '_' + df['Year'].astype(str)\n",
    "    return df\n",
    "\n",
    "def filter_dataframes(df):\n",
    "    # Generate a list of dataframes, with each dataframe filtered by Element and Item\n",
    "    dfs = []\n",
    "    for element in df['Element'].unique():\n",
    "        for item in df['Item'].unique():\n",
    "            element_item_df = df[(df['Element'] == element) & (df['Item'] == item)]\n",
    "            if not element_item_df.empty:\n",
    "                # Replace spaces and decimal points with underscores in dataframe names\n",
    "                element_item_name = element.replace(' ', '_').replace('.', '_') + '_' + item.replace(' ', '_').replace('.', '_') + '_df'\n",
    "                dfs.append(element_item_name)\n",
    "                # Replace spaces and decimal points with underscores in dataframe variable names\n",
    "                exec(element_item_name.replace(' ', '_').replace('.', '_') + ' = element_item_df')\n",
    "\n",
    "    # Debugging line: print out the list of dataframe names\n",
    "    print(dfs)\n",
    "    \n",
    "    # Return a dictionary of the dataframes\n",
    "    return {name: globals()[name] for name in dfs}\n",
    "\n",
    "\n",
    "def preprocess_data(file_path):\n",
    "    df = read_data(file_path)\n",
    "    df = drop_rows(df)\n",
    "    df = clean_column_names(df)\n",
    "    df = clean_element_item_values(df)\n",
    "    return filter_dataframes(df)\n",
    "\n",
    "#     df = generate_key_column(df)"
   ]
  },
  {
   "cell_type": "code",
   "execution_count": null,
   "metadata": {},
   "outputs": [],
   "source": [
    "\n",
    "\n",
    "# Group by element and item and calculate the mean value\n",
    "df_grouped = dfs['Production_Crops_Economic'].groupby(['Area', 'Item']).mean()\n",
    "\n",
    "# Print the first 5 rows\n",
    "print(df_grouped.head())\n"
   ]
  },
  {
   "cell_type": "code",
   "execution_count": null,
   "metadata": {
    "scrolled": false
   },
   "outputs": [],
   "source": [
    "dfs = preprocess_data('raw/nutrient.csv')\n",
    "print(dfs.keys())"
   ]
  },
  {
   "cell_type": "code",
   "execution_count": null,
   "metadata": {},
   "outputs": [],
   "source": [
    "Yield_Carcass_Weight_Beef_and_Buffalo_Meat__primary_df\n"
   ]
  },
  {
   "cell_type": "code",
   "execution_count": null,
   "metadata": {
    "scrolled": true
   },
   "outputs": [],
   "source": [
    "dfs = preprocess_data('raw/beefandbuffalo.csv')\n",
    "print(dfs.keys())  # prints a list of the names of the processed dataframes\n"
   ]
  },
  {
   "cell_type": "code",
   "execution_count": null,
   "metadata": {},
   "outputs": [],
   "source": [
    "Yield_Carcass_Weight_Meat_of_cattle_with_the_bone__fresh_or_chilled_df"
   ]
  },
  {
   "cell_type": "code",
   "execution_count": null,
   "metadata": {},
   "outputs": [],
   "source": [
    "\n",
    "def preprocess_data(file_path):\n",
    "    # Read in the data\n",
    "    df = pd.read_csv(file_path)\n",
    "\n",
    "    # Replace forward slashes, backslashes, and commas in column names with underscores\n",
    "    df.columns = df.columns.str.replace('[/\\\\\\\\, ]', '_')\n",
    "\n",
    "    # Replace forward slashes, backslashes, and commas in Element and Item values with underscores\n",
    "    df['Element'] = df['Element'].str.replace('[/\\\\\\\\, ]', '_')\n",
    "    df['Item'] = df['Item'].str.replace('[/\\\\\\\\, ]', '_')\n",
    "\n",
    "    # Drop rows where Area is 'Belgium-Luxembourg'\n",
    "    df = df[df['Area'] != 'Belgium-Luxembourg']\n",
    "\n",
    "    # Merge Area and Year columns into a new Key column\n",
    "    df['Key'] = df['Area'] + '_' + df['Year'].astype(str)\n",
    "\n",
    "    # Generate a list of dataframes, with each dataframe filtered by Element and Item\n",
    "    dfs = []\n",
    "    for element in df['Element'].unique():\n",
    "        for item in df['Item'].unique():\n",
    "            element_item_df = df[(df['Element'] == element) & (df['Item'] == item)]\n",
    "            if not element_item_df.empty:\n",
    "                # Replace spaces with underscores in dataframe names\n",
    "                element_item_name = element + '_' + item.replace(' ', '_') + '_df'\n",
    "                dfs.append(element_item_name)\n",
    "                # Replace spaces with underscores in dataframe variable names\n",
    "                exec(element_item_name.replace(' ', '_') + ' = element_item_df')\n",
    "\n",
    "    # Return a dictionary of the dataframes\n",
    "    return {name: globals()[name] for name in dfs}\n"
   ]
  },
  {
   "cell_type": "code",
   "execution_count": null,
   "metadata": {},
   "outputs": [],
   "source": [
    "YiCaMe_df=Yield_Carcass_Weight_Meat_of_cattle_with_the_bone__fresh_or_chilled_df\n",
    "\n",
    "YiCaMe_df\n"
   ]
  },
  {
   "cell_type": "code",
   "execution_count": null,
   "metadata": {
    "scrolled": true
   },
   "outputs": [],
   "source": [
    "beefandbuffalo_df = pd.read_csv( 'raw/beefandbuffalo.csv', on_bad_lines='skip')   # loads Land USe Domain\n",
    "beefandbuffalo_df.head(5)"
   ]
  },
  {
   "cell_type": "code",
   "execution_count": null,
   "metadata": {
    "scrolled": false
   },
   "outputs": [],
   "source": [
    "dfs = create_dfs(beefandbuffalo_df)\n",
    "df_names = [name for name, _ in dfs]\n",
    "df_names"
   ]
  },
  {
   "cell_type": "code",
   "execution_count": null,
   "metadata": {},
   "outputs": [],
   "source": [
    "Producing_Animals_Slaughtered_Beef_and_Buffalo_Meat__primary_df.head()"
   ]
  },
  {
   "cell_type": "code",
   "execution_count": null,
   "metadata": {},
   "outputs": [],
   "source": [
    "df_list = group_by_element_item(beefandbuffalo_df)\n",
    "\n",
    "# loop over the list and print the name of each dataframe and its first few rows\n",
    "for i, df in enumerate(df_list):\n",
    "    print(f\"Dataframe {i}: {df.columns[0]} - {df.columns[1]}\")\n",
    "    print(df.head())\n",
    "    print()\n"
   ]
  },
  {
   "cell_type": "code",
   "execution_count": null,
   "metadata": {},
   "outputs": [],
   "source": [
    "Dataframe 1"
   ]
  },
  {
   "cell_type": "code",
   "execution_count": null,
   "metadata": {
    "scrolled": true
   },
   "outputs": [],
   "source": [
    "# iterate over the groups and create new dataframes\n",
    "for group_name, group_data in grouped_df:\n",
    "    # create a new dataframe with the group data\n",
    "    new_df = group_data.copy()\n",
    "\n",
    "    # append the new dataframe to the list\n",
    "    df_list.append(new_df)\n",
    "\n",
    "    # print the first few rows of the new dataframe\n",
    "    print(\"New dataframe created: \", group_name)\n",
    "    new_df.head()"
   ]
  },
  {
   "cell_type": "code",
   "execution_count": null,
   "metadata": {},
   "outputs": [],
   "source": [
    "Production=df_list[1]\n",
    "Production\n",
    "# assuming the dataframe is called 'Production'\n",
    "unique_items = Production['Item'].unique()\n",
    "print(unique_items)"
   ]
  },
  {
   "cell_type": "code",
   "execution_count": null,
   "metadata": {},
   "outputs": [],
   "source": [
    "# \n",
    "grouped_df = beefandbuffalo_df.groupby('Element')"
   ]
  },
  {
   "cell_type": "code",
   "execution_count": null,
   "metadata": {},
   "outputs": [],
   "source": []
  },
  {
   "cell_type": "code",
   "execution_count": null,
   "metadata": {},
   "outputs": [],
   "source": [
    "# iterate over the groups and create new dataframes\n",
    "for group_name, group_data in grouped_df:\n",
    "    # create a new dataframe with the group data\n",
    "    new_df_name = group_name + \"_df\"\n",
    "    locals()[new_df_name] = group_data"
   ]
  },
  {
   "cell_type": "code",
   "execution_count": null,
   "metadata": {},
   "outputs": [],
   "source": [
    "# assuming the original dataframe is called 'df'\n",
    "grouped_df = df.groupby('Element')\n",
    "df_list = []"
   ]
  },
  {
   "cell_type": "code",
   "execution_count": null,
   "metadata": {
    "scrolled": true
   },
   "outputs": [],
   "source": [
    "    # print the first few rows of the new dataframe\n",
    "    print(\"New dataframe created: \", new_df_name)\n",
    "    print(locals()[new_df_name].head())"
   ]
  },
  {
   "cell_type": "code",
   "execution_count": null,
   "metadata": {},
   "outputs": [],
   "source": [
    "\n",
    "\n",
    "def filters(df):\n",
    "    # Delete the \"Belgium-Luxembourg\" column\n",
    "    if \"Belgium-Luxembourg\" in df.columns:\n",
    "        df = df.drop(\"Belgium-Luxembourg\", axis=1)\n",
    "\n",
    "    # Filter the \"Year\" column to only include years greater than or equal to 2000\n",
    "    df = df[df[\"Year\"] >= 2000]\n",
    "\n",
    "    return df\n"
   ]
  },
  {
   "cell_type": "code",
   "execution_count": null,
   "metadata": {},
   "outputs": [],
   "source": []
  },
  {
   "cell_type": "code",
   "execution_count": null,
   "metadata": {},
   "outputs": [],
   "source": [
    "# Get a list of unique countries from the \"Area\" column\n",
    "countries = df['Area'].unique()\n",
    "countries"
   ]
  },
  {
   "cell_type": "code",
   "execution_count": null,
   "metadata": {
    "scrolled": false
   },
   "outputs": [],
   "source": [
    "# count the number of missing values in each column\n",
    "missing_values = df.isnull().sum()\n",
    "\n",
    "# print the result\n",
    "print(missing_values)"
   ]
  },
  {
   "cell_type": "code",
   "execution_count": null,
   "metadata": {},
   "outputs": [],
   "source": [
    "# Count the number of areas with missing values\n",
    "num_missing_areas = df['Area'][df.isna().any(axis=1)].nunique()\n",
    "\n",
    "# Print the result\n",
    "print(\"The number of areas with missing values is:\", num_missing_areas)\n"
   ]
  },
  {
   "cell_type": "code",
   "execution_count": null,
   "metadata": {},
   "outputs": [],
   "source": [
    "31900/1708 # 20% data is missing"
   ]
  },
  {
   "cell_type": "code",
   "execution_count": null,
   "metadata": {
    "scrolled": true
   },
   "outputs": [],
   "source": [
    "df.shape    "
   ]
  },
  {
   "cell_type": "code",
   "execution_count": null,
   "metadata": {},
   "outputs": [],
   "source": [
    "snake('Distribution of Missing Values by Area')"
   ]
  },
  {
   "cell_type": "code",
   "execution_count": null,
   "metadata": {},
   "outputs": [],
   "source": [
    "snake('msno.matrix(df)')"
   ]
  },
  {
   "cell_type": "code",
   "execution_count": null,
   "metadata": {},
   "outputs": [],
   "source": [
    "msno.matrix(df)"
   ]
  },
  {
   "cell_type": "code",
   "execution_count": null,
   "metadata": {
    "scrolled": true
   },
   "outputs": [],
   "source": [
    "# create a bar chart of the missing value counts by year\n",
    "plt.figure(figsize=(20,8))  # increase the figure size for better readability\n",
    "ax = year_counts.plot(kind='bar')\n",
    "plt.xlabel('Year', fontsize=14)\n",
    "plt.ylabel('Number of Missing Values', fontsize=14)\n",
    "plt.title('Distribution of Missing Values by Year', fontsize=18)\n",
    "plt.xticks(rotation=0, fontsize=12)  # rotate x-axis labels to 0 degrees\n",
    "ax.tick_params(axis='y', labelsize=12)  # adjust y-axis label size\n",
    "ax.tick_params(axis='x', pad=10)  # adjust x-axis tick padding\n",
    "\n",
    "# add value labels to the bars\n",
    "for i, v in enumerate(year_counts):\n",
    "    ax.text(i, v, str(v), ha='center', va='bottom', fontweight='bold', fontsize=12)\n",
    "\n",
    "# set year labels vertically\n",
    "ax.set_xticklabels(year_counts.index, rotation=90)\n",
    "\n",
    "plt.show()\n"
   ]
  },
  {
   "cell_type": "code",
   "execution_count": null,
   "metadata": {
    "scrolled": true
   },
   "outputs": [],
   "source": [
    "\"\"\" \n",
    "A new dataframe with counts of missing values \n",
    "for each country was sorted in descending order\n",
    "revealing  the top 10 countries\n",
    "\n",
    "\"\"\"\n",
    "\n",
    "\n",
    "# create a new dataframe to hold the counts of missing values by country\n",
    "country_counts = df.isnull().sum(axis=1).groupby(df.Area).sum().sort_values(ascending=False)\n",
    "\n",
    "# get the top 10 countries with the most missing values\n",
    "top_10_countries = country_counts.head(10)\n",
    "\n",
    "# print the list of top 10 countries\n",
    "print(top_10_countries)"
   ]
  },
  {
   "cell_type": "code",
   "execution_count": null,
   "metadata": {},
   "outputs": [],
   "source": [
    "# create a new dataframe to hold the counts of missing values by country\n",
    "country_counts = df.isnull().sum(axis=1).groupby(df.Area).sum().sort_values(ascending=True)\n",
    "\n",
    "# get the list of countries with any missing values\n",
    "missing_countries = country_counts[country_counts > 0].index\n",
    "\n",
    "# print the list of countries with missing values\n",
    "print(\"Countries with missing values:\\n\", missing_countries)\n"
   ]
  },
  {
   "cell_type": "code",
   "execution_count": null,
   "metadata": {},
   "outputs": [],
   "source": [
    "# create a new dataframe to hold the counts of missing values by country\n",
    "country_counts = df.isnull().sum(axis=1).groupby(df.Area).sum().sort_values(ascending=True)\n",
    "\n",
    "# get the list of countries with any missing values\n",
    "missing_countries = country_counts[country_counts > 0].index\n",
    "\n",
    "# print the list of countries with missing values\n",
    "print(\"Countries with missing values:\\n\", missing_countries)\n"
   ]
  },
  {
   "cell_type": "code",
   "execution_count": null,
   "metadata": {},
   "outputs": [],
   "source": [
    "# create a new dataframe to hold the counts of missing values by country\n",
    "country_counts = df.isnull().sum(axis=1).groupby(df.Area).sum().sort_values(ascending=True)\n",
    "\n",
    "# get the list of countries with any missing values\n",
    "missing_countries = country_counts[country_counts > 0]\n",
    "\n",
    "# create a new dataframe with the missing value counts and the total number of observations for each country\n",
    "mv_counts = pd.concat([missing_countries, df.groupby('Area').size()], axis=1)\n",
    "mv_counts.columns = ['Missing Values', 'Total Observations']\n",
    "\n",
    "# calculate the proportion of missing values for each country\n",
    "mv_counts['% Missing'] = mv_counts['Missing Values'] / mv_counts['Total Observations'] * 100\n",
    "\n",
    "# sort the dataframe by the proportion of missing values in descending order\n",
    "mv_counts = mv_counts.sort_values('% Missing', ascending=False)\n",
    "\n",
    "# display the table\n",
    "print(mv_counts.to_string())\n"
   ]
  },
  {
   "cell_type": "code",
   "execution_count": null,
   "metadata": {},
   "outputs": [],
   "source": [
    "\n",
    "# group the data by Area and compute the total count of missing values for each group\n",
    "area_counts = df.isnull().sum(axis=1).groupby(df.Area).sum()\n",
    "\n",
    "# create a bar chart of the missing value counts by Area\n",
    "plt.figure(figsize=(10,5))\n",
    "ax = area_counts.plot(kind='bar')\n",
    "plt.xlabel('Area')\n",
    "plt.ylabel('Number of Missing Values')\n",
    "plt.title('Distribution of Missing Values by Area')\n",
    "plt.xticks(rotation=45)\n",
    "\n",
    "# add value labels to the bars\n",
    "for i, v in enumerate(area_counts):\n",
    "    ax.text(i, v, str(v), ha='center', va='bottom', fontweight='bold')\n",
    "\n",
    "plt.show()"
   ]
  },
  {
   "cell_type": "code",
   "execution_count": null,
   "metadata": {
    "scrolled": false
   },
   "outputs": [],
   "source": [
    "df.dtypes"
   ]
  },
  {
   "cell_type": "code",
   "execution_count": null,
   "metadata": {},
   "outputs": [],
   "source": [
    "\"\"\"\n",
    "#### Title \n",
    "The 'title' naming convention is where each word starts\n",
    "with a capital letter, except for prepositions and conjunctions, which start with a lowercase letter. \n",
    "The function takes a string as input and converts it to title case, \n",
    "where the first letter of each non-conjunction/preposition word is capitalized, and all other letters are lowercase.\n",
    "It achieves this by splitting the input string into a list of words, identifying which words are prepositions or conjunctions based on a predefined list, and then capitalizing the first letter of all other words while converting prepositions and conjunctions to lowercase. The resulting list of processed words is then joined back into a single string with proper spacing and returned.\n",
    "\"\"\"\n",
    "def title(sentence):\n",
    "    \"\"\"\n",
    "    Takes a string and converts it to title case, where the first letter of each\n",
    "    non-conjunction/preposition word is capitalized, and all other letters are lowercase.\n",
    "    \n",
    "    Args:\n",
    "        sentence (str): The string to convert to title case.\n",
    "        \n",
    "    Returns:\n",
    "        str: The input string converted to title case.\n",
    "    \"\"\"\n",
    "    # Define a list of common prepositions and conjunctions\n",
    "    prepositions_conjunctions = ['a', 'this', 'an', 'the', 'and', 'but', 'or', 'for', 'has', 'nor', 'on', 'at', 'to', 'from', 'by', 'over', 'under', 'in', 'out', 'of']\n",
    "    # Split the input string into a list of words\n",
    "    words = sentence.split()\n",
    "    processed_words = []\n",
    "    for word in words:\n",
    "        # If the word is not a preposition or conjunction, capitalize the first letter and lowercase the rest\n",
    "        if word.lower() not in prepositions_conjunctions:\n",
    "            processed_words.append(word.capitalize())\n",
    "        # If the word is a preposition or conjunction, convert to lowercase\n",
    "        else:\n",
    "            processed_words.append(word.lower())\n",
    "    # Join the list of processed words into a single string, with proper spacing\n",
    "    output = \" \".join(processed_words)\n",
    "    # Remove any leading/trailing whitespace and add some padding\n",
    "    return \"     \" + re.sub('\\s+', ' ', output.strip()) + \"     \"\n",
    "\n"
   ]
  },
  {
   "cell_type": "code",
   "execution_count": null,
   "metadata": {},
   "outputs": [],
   "source": [
    "unique_describtions = df['Flag Description'].unique()\n",
    "print(unique_describtions)"
   ]
  },
  {
   "cell_type": "code",
   "execution_count": null,
   "metadata": {
    "scrolled": true
   },
   "outputs": [],
   "source": [
    "df"
   ]
  },
  {
   "cell_type": "code",
   "execution_count": null,
   "metadata": {},
   "outputs": [],
   "source": [
    "df= df[df['Year'] > 1999]"
   ]
  },
  {
   "cell_type": "code",
   "execution_count": null,
   "metadata": {},
   "outputs": [],
   "source": [
    "df['Key'] = df['Area'] + '_' + df['Year'].astype(str)"
   ]
  },
  {
   "cell_type": "code",
   "execution_count": null,
   "metadata": {},
   "outputs": [],
   "source": []
  },
  {
   "cell_type": "code",
   "execution_count": null,
   "metadata": {},
   "outputs": [],
   "source": [
    "import matplotlib.pyplot as plt\n",
    "\n",
    "# count the frequency of NaN and 'Official figure' values in the 'Flag Description' column\n",
    "flag_counts = df['Flag Description'].value_counts(dropna=False)\n",
    "\n",
    "# plot a pie chart of the flag counts\n",
    "plt.figure(figsize=(6, 6))\n",
    "plt.pie(flag_counts, labels=flag_counts.index, autopct='%1.1f%%')\n",
    "plt.title('Flag Description Frequencies')\n",
    "plt.show()\n"
   ]
  },
  {
   "cell_type": "code",
   "execution_count": null,
   "metadata": {},
   "outputs": [],
   "source": [
    "nan_countries = df[df.isna().any(axis=1)]['Area'].unique()\n",
    "\n",
    "print(nan_countries)"
   ]
  },
  {
   "cell_type": "code",
   "execution_count": null,
   "metadata": {},
   "outputs": [],
   "source": [
    "unique_areas = df['Area'].unique()\n",
    "print(unique_areas)\n"
   ]
  },
  {
   "cell_type": "code",
   "execution_count": null,
   "metadata": {},
   "outputs": [],
   "source": [
    "bl_data = df[df['Area'] == 'Belgium-Luxembourg']\n",
    "bl_data.head(60)"
   ]
  },
  {
   "cell_type": "code",
   "execution_count": null,
   "metadata": {},
   "outputs": [],
   "source": [
    "luxembourg_data = df[df[\"Area\"] == \"Luxembourg\"]"
   ]
  },
  {
   "cell_type": "code",
   "execution_count": null,
   "metadata": {},
   "outputs": [],
   "source": [
    "df[df[\"Area\"] == \"Luxembourg\"].head(70)"
   ]
  },
  {
   "cell_type": "code",
   "execution_count": null,
   "metadata": {},
   "outputs": [],
   "source": [
    "df[df['Area'] == 'Belgium'].head(60)"
   ]
  },
  {
   "cell_type": "code",
   "execution_count": null,
   "metadata": {},
   "outputs": [],
   "source": [
    "num_areas = df['Area'].nunique()\n",
    "print('Number of unique areas:', num_areas)"
   ]
  },
  {
   "cell_type": "code",
   "execution_count": null,
   "metadata": {},
   "outputs": [],
   "source": [
    "# drop rows for Belgium-Luxembourg\n",
    "df = df.drop(index=df[df[\"Area\"] == \"Belgium-Luxembourg\"].index)\n"
   ]
  },
  {
   "cell_type": "code",
   "execution_count": null,
   "metadata": {},
   "outputs": [],
   "source": [
    "df.head(60)"
   ]
  },
  {
   "cell_type": "code",
   "execution_count": null,
   "metadata": {},
   "outputs": [],
   "source": []
  },
  {
   "cell_type": "code",
   "execution_count": null,
   "metadata": {},
   "outputs": [],
   "source": [
    "\"\"\"\n",
    "removeing extraneous columns\n",
    "\"\"\"\n",
    "\n",
    "df = df.drop(['flag','Domain Code', 'Domain', 'Area Code (M49)', 'Element Code', 'Element', 'Item Code (CPC)', 'Year Code', 'Year', 'Unit', 'Flag Description'], axis=1)\n"
   ]
  },
  {
   "cell_type": "code",
   "execution_count": null,
   "metadata": {},
   "outputs": [],
   "source": []
  },
  {
   "cell_type": "code",
   "execution_count": null,
   "metadata": {},
   "outputs": [],
   "source": []
  },
  {
   "cell_type": "code",
   "execution_count": null,
   "metadata": {},
   "outputs": [],
   "source": []
  },
  {
   "cell_type": "code",
   "execution_count": null,
   "metadata": {},
   "outputs": [],
   "source": []
  },
  {
   "cell_type": "code",
   "execution_count": null,
   "metadata": {},
   "outputs": [],
   "source": [
    "snake('\"This is a text with periods. (And other characters.)\"')"
   ]
  },
  {
   "cell_type": "markdown",
   "metadata": {},
   "source": [
    "####  Pascal\n",
    "The 'pascal' naming function takes in a string as input and converts it to a PascalCase format. PascalCase is a naming convention where the first letter of each word is capitalized, and there are no spaces or separators between the words."
   ]
  },
  {
   "cell_type": "code",
   "execution_count": null,
   "metadata": {},
   "outputs": [],
   "source": [
    "def pascal(string):\n",
    "    \"\"\"\n",
    "    Convert a space- or snake-separated string to PascalCase.\n",
    "\n",
    "    Parameters:\n",
    "        string (str): The input string to convert to PascalCase.\n",
    "\n",
    "    Returns:\n",
    "        str: The input string in PascalCase format.\n",
    "\n",
    "    \"\"\"\n",
    "    # Replace any underscores with spaces\n",
    "    string = string.replace(\"_\", \" \")\n",
    "    # Capitalize the first letter of each word\n",
    "    words = string.title()\n",
    "    # Remove any remaining spaces\n",
    "    words = words.replace(\" \", \"\")\n",
    "    return words\n"
   ]
  },
  {
   "cell_type": "code",
   "execution_count": null,
   "metadata": {},
   "outputs": [],
   "source": [
    "\"\"\"\n",
    "#### Camel\n",
    "\n",
    "Camel case is a naming convention in which each word in a compound word is capitalized, except for the first word which is in lower case. It is commonly used in programming languages for naming variables and functions.\n",
    "\n",
    "handles both snake_case and space-separated strings\n",
    "\"\"\"\n",
    "def camel(string):\n",
    "    \"\"\"\n",
    "    Convert a space-separated or snake_case string to camelCase.\n",
    "\n",
    "    Parameters:\n",
    "        string (str): The string to convert.\n",
    "\n",
    "    Returns:\n",
    "        str: The converted string in camelCase.\n",
    "    \"\"\"\n",
    "    # Replace underscores with spaces and split the string into a list of words\n",
    "    words = string.replace(\"_\", \" \").split()\n",
    "    # Convert the first word to lowercase and capitalize all subsequent words\n",
    "    camel_cased = [words[0].lower()] + [word.capitalize() for word in words[1:]]\n",
    "    # Concatenate the words together and return the resulting string\n",
    "    return \"    \" + ''.join(camel_cased) + \"    \"\n"
   ]
  },
  {
   "cell_type": "markdown",
   "metadata": {},
   "source": [
    "\n"
   ]
  },
  {
   "cell_type": "code",
   "execution_count": null,
   "metadata": {},
   "outputs": [],
   "source": [
    "\n",
    "\n",
    "def delete(file_name):\n",
    "    file_path = os.path.join(\"..\", \"data\", \"raw\", file_name)\n",
    "    expected_ext = \".csv\"\n",
    "    if not file_path.endswith(expected_ext):\n",
    "        print(\"Error: Invalid file extension. File extension must be .csv.\")\n",
    "    elif os.path.exists(file_path):\n",
    "        os.remove(file_path)\n",
    "        print(f\"{file_name} deleted successfully\")\n",
    "    else:\n",
    "        print(f\"{file_name} not found\")\n"
   ]
  },
  {
   "cell_type": "markdown",
   "metadata": {},
   "source": [
    "#### Rename\n",
    "\n",
    "This function first constructs the file_path by joining the ../data/raw directory with the given file_name. It then sets the expected file extension to .csv. The function then checks if the file_path ends with the expected file extension. If it doesn't, the function prints an error message. If it does, the function checks if the file exists at file_path, and if it does, it removes it and prints a success message. If the file doesn't exist, the function prints a \"not found\" message. like this:"
   ]
  },
  {
   "cell_type": "code",
   "execution_count": null,
   "metadata": {},
   "outputs": [],
   "source": [
    "def rename(old_filename, new_filename):\n",
    "    old_file_path = os.path.join(\"..\", \"data\", old_filename)\n",
    "    new_file_path = os.path.join(\"..\", \"data\", new_filename)\n",
    "    try:\n",
    "        os.rename(old_file_path, new_file_path)\n",
    "        print(f\"{old_filename} renamed to {new_filename} successfully\")\n",
    "    except FileNotFoundError:\n",
    "        print(f\"{old_filename} not found\")\n",
    "    except FileExistsError:\n",
    "        print(f\"A file with the name {new_filename} already exists\")\n",
    "    except OSError:\n",
    "        print(\"Invalid file path or name\")"
   ]
  },
  {
   "cell_type": "markdown",
   "metadata": {},
   "source": [
    "#### Replace"
   ]
  },
  {
   "cell_type": "code",
   "execution_count": null,
   "metadata": {},
   "outputs": [],
   "source": [
    "def replace(input_str, find_str, replace_str):\n",
    "    output_str = re.sub(find_str, replace_str, input_str)\n",
    "    \n",
    "    if output_str == input_str:\n",
    "        warnings.warn(\"Replacement unsuccessful: '{}' not found in input string.\".format(find_str))\n",
    "    \n",
    "    return output_str"
   ]
  },
  {
   "cell_type": "code",
   "execution_count": null,
   "metadata": {},
   "outputs": [],
   "source": [
    "####  tabler\n",
    "\n",
    "\"\"\"The code defines a function tabler that generates an HTML table with information on the files in a given folder and\n",
    "adds a section header that contains the directory path \n",
    "\"\"\"\n",
    "\n",
    "def tabler(folder_path):\n",
    "    \"\"\"\n",
    "    Generate an HTML table with information on files in a given folder.\n",
    "\n",
    "    Parameters:\n",
    "    - folder_path (str): The path to the folder containing the files.\n",
    "\n",
    "    Returns:\n",
    "    - str: The HTML code for the table.\n",
    "    \"\"\"\n",
    "    # Get the contents of the folder\n",
    "    try:\n",
    "        contents = os.listdir(folder_path)\n",
    "    except FileNotFoundError:\n",
    "        return \"Directory not found\"\n",
    "    except OSError:\n",
    "        return \"Invalid folder path\"\n",
    "\n",
    "    # Create the section header\n",
    "    header = f\"### {folder_path}\\n\\n\"\n",
    "\n",
    "    # Create the table header\n",
    "    table = '<table style=\"font-size:100%\"><thead><tr><th>File Name</th><th>Size</th><th>Modified Time</th></tr></thead><tbody>'\n",
    "\n",
    "    # Add a row for each file\n",
    "    for item in contents:\n",
    "        item_path = os.path.join(folder_path, item)\n",
    "        if os.path.isfile(item_path):\n",
    "            # Get the file size and modified time\n",
    "            size_bytes = os.path.getsize(item_path)\n",
    "            size_kb = size_bytes / 1024\n",
    "            size_str = '{:,.2f} KB'.format(size_kb)\n",
    "            modified_time = datetime.datetime.fromtimestamp(os.path.getmtime(item_path)).strftime('%Y-%m-%d %H:%M')\n",
    "            # Add a row to the table\n",
    "            table += '<tr><td>{}</td><td>{}</td><td>{}</td></tr>'.format(item, size_str, modified_time)\n",
    "\n",
    "    # Close the table\n",
    "    table += '</tbody></table>'\n",
    "\n",
    "    return header + table\n"
   ]
  },
  {
   "cell_type": "markdown",
   "metadata": {},
   "source": [
    "\n",
    "\n"
   ]
  },
  {
   "cell_type": "markdown",
   "metadata": {},
   "source": []
  }
 ],
 "metadata": {
  "kernelspec": {
   "display_name": "Python 3 (ipykernel)",
   "language": "python",
   "name": "python3"
  },
  "language_info": {
   "codemirror_mode": {
    "name": "ipython",
    "version": 3
   },
   "file_extension": ".py",
   "mimetype": "text/x-python",
   "name": "python",
   "nbconvert_exporter": "python",
   "pygments_lexer": "ipython3",
   "version": "3.9.13"
  },
  "toc": {
   "base_numbering": 1,
   "nav_menu": {
    "height": "1012.78px",
    "width": "507.775px"
   },
   "number_sections": true,
   "sideBar": false,
   "skip_h1_title": true,
   "title_cell": "Table of Contents (Clickable in sidebar)",
   "title_sidebar": "Contents",
   "toc_cell": true,
   "toc_position": {
    "height": "1166.7px",
    "left": "1576px",
    "top": "1389.19px",
    "width": "497px"
   },
   "toc_section_display": true,
   "toc_window_display": false
  },
  "vscode": {
   "interpreter": {
    "hash": "890563eb1401dd7c5eac482b2070a231034cb0eabe59bf1a3eb86f9e36919f52"
   }
  }
 },
 "nbformat": 4,
 "nbformat_minor": 2
}
