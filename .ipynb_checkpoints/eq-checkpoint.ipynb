{
 "cells": [
  {
   "cell_type": "code",
   "execution_count": 5,
   "id": "1fe66881",
   "metadata": {},
   "outputs": [
    {
     "name": "stdout",
     "output_type": "stream",
     "text": [
      "21x^2 + 29x + 10 = 0\n"
     ]
    }
   ],
   "source": [
    "\n",
    "import random\n",
    "\n",
    "# Generate a list of primes\n",
    "primes = [2, 3, 5, 7, 11]\n",
    "\n",
    "# Randomly choose 4 primes\n",
    "a, b, c, d = random.sample(primes, 4)\n",
    "\n",
    "# Expand (ax+b)(cx+d)\n",
    "A = a*c\n",
    "B = a*d + b*c\n",
    "C = b*d\n",
    "\n",
    "# Create the quadratic equation\n",
    "equation = f\"{A}x^2 + {B}x + {C} = 0\"\n",
    "\n",
    "print(equation)"
   ]
  },
  {
   "cell_type": "code",
   "execution_count": 6,
   "id": "ea4819fe",
   "metadata": {},
   "outputs": [],
   "source": [
    "import random\n",
    "\n",
    "def quad():\n",
    "    # Generate a list of primes\n",
    "    primes = [2,3, 5, 7, 11, 13]\n",
    "\n",
    "    # Randomly choose 4 primes\n",
    "    a, b, c, d = random.sample(primes, 4)\n",
    "\n",
    "    # Expand (ax+b)(cx+d)\n",
    "    A = a*c\n",
    "    B = a*d + b*c\n",
    "    C = b*d\n",
    "\n",
    "    # Create the quadratic equation\n",
    "    equation = f\"{A}x^2 + {B}x + {C} = 0\"\n",
    "\n",
    "    return equation\n"
   ]
  },
  {
   "cell_type": "code",
   "execution_count": 10,
   "id": "72c16244",
   "metadata": {},
   "outputs": [
    {
     "name": "stdout",
     "output_type": "stream",
     "text": [
      "77x^2 + 157x + 26 = 0\n",
      "26x^2 + 53x + 21 = 0\n",
      "15x^2 + 71x + 26 = 0\n",
      "77x^2 + 124x + 39 = 0\n",
      "91x^2 + 164x + 33 = 0\n",
      "10x^2 + 61x + 91 = 0\n",
      "39x^2 + 158x + 55 = 0\n"
     ]
    }
   ],
   "source": [
    "print(quad())\n",
    "print(quad())\n",
    "print(quad())\n",
    "print(quad())\n",
    "print(quad())\n",
    "print(quad())\n",
    "print(quad())\n"
   ]
  },
  {
   "cell_type": "code",
   "execution_count": 15,
   "id": "338417f7",
   "metadata": {},
   "outputs": [],
   "source": [
    "import random\n",
    "\n",
    "def quadlow():\n",
    "    # Generate a list of primes sorted in ascending order\n",
    "    primes = sorted([2, 3, 5, 7, 11, 13])\n",
    "\n",
    "    # Randomly choose 4 primes, with preference given to lower primes\n",
    "    a = random.choice(primes[:3])\n",
    "    b = random.choice(primes)\n",
    "    c = random.choice(primes[:primes.index(a)+1])\n",
    "    d = random.choice(primes)\n",
    "\n",
    "    # Expand (ax+b)(cx+d)\n",
    "    A = a*c\n",
    "    B = a*d + b*c\n",
    "    C = b*d\n",
    "\n",
    "    # Create the quadratic equation\n",
    "    equation = f\"{A}x^2 + {B}x + {C} = 0\"\n",
    "\n",
    "    return equation"
   ]
  },
  {
   "cell_type": "code",
   "execution_count": 16,
   "id": "34499b30",
   "metadata": {},
   "outputs": [
    {
     "data": {
      "text/plain": [
       "'9x^2 + 45x + 26 = 0'"
      ]
     },
     "execution_count": 16,
     "metadata": {},
     "output_type": "execute_result"
    }
   ],
   "source": [
    "quadlow()"
   ]
  },
  {
   "cell_type": "code",
   "execution_count": 21,
   "id": "9ad8b552",
   "metadata": {},
   "outputs": [
    {
     "name": "stdout",
     "output_type": "stream",
     "text": [
      "\\part 10x^2 + 45x + 35 = 0  \u000b",
      "space{1.8cm}\n",
      "\\part 10x^2 + 47x + 55 = 0  \u000b",
      "space{1.8cm}\n",
      "\\part 6x^2 + 49x + 65 = 0  \u000b",
      "space{1.8cm}\n",
      "\\part 4x^2 + 36x + 65 = 0  \u000b",
      "space{1.8cm}\n",
      "\\part 9x^2 + 48x + 39 = 0  \u000b",
      "space{1.8cm}\n",
      "\\part 4x^2 + 26x + 22 = 0  \u000b",
      "space{1.8cm}\n",
      "\\part 4x^2 + 36x + 65 = 0  \u000b",
      "space{1.8cm}\n",
      "\\part 6x^2 + 61x + 143 = 0  \u000b",
      "space{1.8cm}\n",
      "\\part 25x^2 + 20x + 4 = 0  \u000b",
      "space{1.8cm}\n",
      "\\part 4x^2 + 30x + 26 = 0  \u000b",
      "space{1.8cm}\n",
      "\\part 6x^2 + 43x + 55 = 0  \u000b",
      "space{1.8cm}\n",
      "\\part 4x^2 + 32x + 39 = 0  \u000b",
      "space{1.8cm}\n",
      "\\part 4x^2 + 36x + 77 = 0  \u000b",
      "space{1.8cm}\n",
      "\\part 6x^2 + 35x + 49 = 0  \u000b",
      "space{1.8cm}\n",
      "\\part 4x^2 + 14x + 10 = 0  \u000b",
      "space{1.8cm}\n",
      "\\part 4x^2 + 26x + 22 = 0  \u000b",
      "space{1.8cm}\n",
      "\\part 15x^2 + 41x + 14 = 0  \u000b",
      "space{1.8cm}\n",
      "\\part 15x^2 + 68x + 77 = 0  \u000b",
      "space{1.8cm}\n",
      "\\part 9x^2 + 48x + 39 = 0  \u000b",
      "space{1.8cm}\n",
      "\\part 15x^2 + 64x + 65 = 0  \u000b",
      "space{1.8cm}\n",
      "\\part 10x^2 + 20x + 10 = 0  \u000b",
      "space{1.8cm}\n",
      "\\part 9x^2 + 60x + 91 = 0  \u000b",
      "space{1.8cm}\n",
      "\\part 6x^2 + 61x + 143 = 0  \u000b",
      "space{1.8cm}\n",
      "\\part 15x^2 + 49x + 26 = 0  \u000b",
      "space{1.8cm}\n",
      "\\part 4x^2 + 8x + 4 = 0  \u000b",
      "space{1.8cm}\n",
      "\\part 4x^2 + 10x + 6 = 0  \u000b",
      "space{1.8cm}\n",
      "\\part 10x^2 + 39x + 14 = 0  \u000b",
      "space{1.8cm}\n",
      "\\part 15x^2 + 48x + 33 = 0  \u000b",
      "space{1.8cm}\n",
      "\\part 6x^2 + 35x + 39 = 0  \u000b",
      "space{1.8cm}\n",
      "\\part 6x^2 + 12x + 6 = 0  \u000b",
      "space{1.8cm}\n",
      "\\part 25x^2 + 90x + 65 = 0  \u000b",
      "space{1.8cm}\n",
      "\\part 15x^2 + 30x + 15 = 0  \u000b",
      "space{1.8cm}\n",
      "\\part 25x^2 + 25x + 6 = 0  \u000b",
      "space{1.8cm}\n",
      "\\part 10x^2 + 36x + 26 = 0  \u000b",
      "space{1.8cm}\n",
      "\\part 6x^2 + 47x + 91 = 0  \u000b",
      "space{1.8cm}\n",
      "\\part 6x^2 + 43x + 77 = 0  \u000b",
      "space{1.8cm}\n",
      "\\part 25x^2 + 70x + 49 = 0  \u000b",
      "space{1.8cm}\n",
      "\\part 15x^2 + 64x + 65 = 0  \u000b",
      "space{1.8cm}\n",
      "\\part 4x^2 + 12x + 9 = 0  \u000b",
      "space{1.8cm}\n",
      "\\part 9x^2 + 78x + 169 = 0  \u000b",
      "space{1.8cm}\n"
     ]
    }
   ],
   "source": [
    "for i in range(40):\n",
    "    equation = quadlow()\n",
    "    print('\\part',equation,' \\vspace{1.8cm}')"
   ]
  },
  {
   "cell_type": "code",
   "execution_count": 23,
   "id": "d23d8924",
   "metadata": {},
   "outputs": [
    {
     "ename": "ModuleNotFoundError",
     "evalue": "No module named 'pylatex'",
     "output_type": "error",
     "traceback": [
      "\u001b[1;31m---------------------------------------------------------------------------\u001b[0m",
      "\u001b[1;31mModuleNotFoundError\u001b[0m                       Traceback (most recent call last)",
      "\u001b[1;32m~\\AppData\\Local\\Temp\\ipykernel_12140\\1847579166.py\u001b[0m in \u001b[0;36m<module>\u001b[1;34m\u001b[0m\n\u001b[1;32m----> 1\u001b[1;33m \u001b[1;32mfrom\u001b[0m \u001b[0mpylatex\u001b[0m \u001b[1;32mimport\u001b[0m \u001b[0mDocument\u001b[0m\u001b[1;33m,\u001b[0m \u001b[0mSection\u001b[0m\u001b[1;33m,\u001b[0m \u001b[0mSubsection\u001b[0m\u001b[1;33m,\u001b[0m \u001b[0mCommand\u001b[0m\u001b[1;33m\u001b[0m\u001b[1;33m\u001b[0m\u001b[0m\n\u001b[0m\u001b[0;32m      2\u001b[0m \u001b[1;32mfrom\u001b[0m \u001b[0mpylatex\u001b[0m\u001b[1;33m.\u001b[0m\u001b[0mutils\u001b[0m \u001b[1;32mimport\u001b[0m \u001b[0mitalic\u001b[0m\u001b[1;33m,\u001b[0m \u001b[0mNoEscape\u001b[0m\u001b[1;33m\u001b[0m\u001b[1;33m\u001b[0m\u001b[0m\n\u001b[0;32m      3\u001b[0m \u001b[1;33m\u001b[0m\u001b[0m\n\u001b[0;32m      4\u001b[0m \u001b[1;32mdef\u001b[0m \u001b[0mquadlow\u001b[0m\u001b[1;33m(\u001b[0m\u001b[1;33m)\u001b[0m\u001b[1;33m:\u001b[0m\u001b[1;33m\u001b[0m\u001b[1;33m\u001b[0m\u001b[0m\n\u001b[0;32m      5\u001b[0m     \u001b[1;31m# Generate a list of primes sorted in ascending order\u001b[0m\u001b[1;33m\u001b[0m\u001b[1;33m\u001b[0m\u001b[0m\n",
      "\u001b[1;31mModuleNotFoundError\u001b[0m: No module named 'pylatex'"
     ]
    }
   ],
   "source": [
    "from pylatex import Document, Section, Subsection, Command\n",
    "from pylatex.utils import italic, NoEscape\n",
    "\n",
    "def quadlow():\n",
    "    # Generate a list of primes sorted in ascending order\n",
    "    primes = sorted([2, 3, 5, 7, 11, 13])\n",
    "\n",
    "    # Randomly choose 4 primes, with preference given to lower primes\n",
    "    a = random.choice(primes[:3])\n",
    "    b = random.choice(primes)\n",
    "    c = random.choice(primes[:primes.index(a)+1])\n",
    "    d = random.choice(primes)\n",
    "\n",
    "    # Expand (ax+b)(cx+d)\n",
    "    A = a*c\n",
    "    B = a*d + b*c\n",
    "    C = b*d\n",
    "\n",
    "    # Create the quadratic equation\n",
    "    equation = f\"{A}x^2 + {B}x + {C} = 0\"\n",
    "\n",
    "    return equation\n",
    "\n",
    "# Create the document\n",
    "doc = Document('quadratics')\n",
    "\n",
    "# Add a section with 40 subsections\n",
    "with doc.create(Section('Quadratic Equations')):\n",
    "    for i in range(40):\n",
    "        equation = quadlow()\n",
    "        with doc.create(Subsection()):\n",
    "            doc.append(Command('part'))\n",
    "            doc.append(NoEscape(f\"{equation}\"))\n",
    "            doc.append(NoEscape(r\" \\vspace{1.8cm}\"))\n",
    "\n",
    "# Generate the PDF\n",
    "doc.generate_pdf()\n"
   ]
  },
  {
   "cell_type": "code",
   "execution_count": null,
   "id": "d37cc581",
   "metadata": {},
   "outputs": [],
   "source": [
    "I would like the pdf to be a two page pdf "
   ]
  }
 ],
 "metadata": {
  "kernelspec": {
   "display_name": "Python 3 (ipykernel)",
   "language": "python",
   "name": "python3"
  },
  "language_info": {
   "codemirror_mode": {
    "name": "ipython",
    "version": 3
   },
   "file_extension": ".py",
   "mimetype": "text/x-python",
   "name": "python",
   "nbconvert_exporter": "python",
   "pygments_lexer": "ipython3",
   "version": "3.9.13"
  }
 },
 "nbformat": 4,
 "nbformat_minor": 5
}
