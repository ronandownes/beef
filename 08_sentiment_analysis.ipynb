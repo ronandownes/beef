{
 "cells": [
  {
   "cell_type": "code",
   "execution_count": 30,
   "id": "cec156c1",
   "metadata": {},
   "outputs": [],
   "source": [
    "# !pip install pandas\n",
    "# !pip install nltk\n",
    "# !pip install textblob"
   ]
  },
  {
   "cell_type": "code",
   "execution_count": 31,
   "id": "d2b3aacf",
   "metadata": {},
   "outputs": [
    {
     "name": "stderr",
     "output_type": "stream",
     "text": [
      "[nltk_data] Downloading package punkt to\n",
      "[nltk_data]     C:\\Users\\ronan\\AppData\\Roaming\\nltk_data...\n",
      "[nltk_data]   Package punkt is already up-to-date!\n"
     ]
    },
    {
     "data": {
      "text/plain": [
       "True"
      ]
     },
     "execution_count": 31,
     "metadata": {},
     "output_type": "execute_result"
    }
   ],
   "source": [
    "import pandas as pd\n",
    "import nltk\n",
    "from textblob import TextBlob\n",
    "# Download the 'punkt' resource\n",
    "nltk.download('punkt')"
   ]
  },
  {
   "cell_type": "code",
   "execution_count": 32,
   "id": "4b62e9e6",
   "metadata": {},
   "outputs": [
    {
     "data": {
      "text/plain": [
       "-0.015151515151515152"
      ]
     },
     "execution_count": 32,
     "metadata": {},
     "output_type": "execute_result"
    }
   ],
   "source": [
    "#CAP text denoted text_cp\n",
    "\n",
    "text_cp = \"\"\"The CAP has been a subject of debate and criticism over the years, \n",
    "with some arguing that it has led to overproduction, environmental degradation, \n",
    "and inefficiencies in the agricultural sector. In response to these concerns, \n",
    "the EU has been implementing reforms to the CAP, including changes to its funding \n",
    "structure and the introduction of new measures aimed at promoting sustainability \n",
    "and environmental protection.\"\"\"\n",
    "\n",
    "# Tokenize the text\n",
    "tokens = nltk.word_tokenize(text_cp)\n",
    "\n",
    "# Remove stop words\n",
    "stop_words = nltk.corpus.stopwords.words('english')\n",
    "tokens = [token for token in tokens if token.lower() not in stop_words]\n",
    "\n",
    "# Perform other preprocessing steps, such as stemming or lemmatization\n",
    "\n",
    "blob = TextBlob(text_cp)\n",
    "sentiment_cp = blob.sentiment.polarity\n",
    "sentiment_cp"
   ]
  },
  {
   "cell_type": "code",
   "execution_count": 29,
   "id": "c3f35328",
   "metadata": {},
   "outputs": [
    {
     "data": {
      "text/plain": [
       "0.06666666666666667"
      ]
     },
     "execution_count": 29,
     "metadata": {},
     "output_type": "execute_result"
    }
   ],
   "source": [
    "# direct payments text denoted text_dp\n",
    "\n",
    "text_dp = \"\"\"Direct payments to farmers \n",
    "provide  direct financial support to farmers  and these  help to stabilize\n",
    "their incomes and ensure a stable food supply for consumers.\"\"\"\n",
    "\n",
    "# Tokenize the text\n",
    "tokens = nltk.word_tokenize(text_dp)\n",
    "\n",
    "# Remove stop words\n",
    "stop_words = nltk.corpus.stopwords.words('english')\n",
    "tokens = [token for token in tokens if token.lower() not in stop_words]\n",
    "\n",
    "\n",
    "# Perform other preprocessing steps, such as stemming or lemmatization\n",
    "\n",
    "\n",
    "blob = TextBlob(direct_payments)\n",
    "sentiment_dp = blob.sentiment.polarity\n",
    "sentiment_dp"
   ]
  },
  {
   "cell_type": "markdown",
   "id": "ce3eb2af",
   "metadata": {},
   "source": [
    "To analyze Twitter data, Tweets, and/or Twitter users, we use a combination of Python libraries and the Twitter API. Our methodology involves the following steps:\n",
    "\n",
    "Collect Twitter data: We use the Twitter API to search for Tweets based on keywords, hashtags, or other criteria, and we retrieve information about individual Tweets, such as the text, the user who posted the Tweet, and the time the Tweet was posted.\n",
    "\n",
    "Clean and preprocess the Twitter data: We clean and preprocess the Twitter data to prepare it for analysis. This can involve removing unnecessary characters, such as hashtags and mentions, and performing other preprocessing steps, such as tokenization and stop word removal.\n",
    "\n",
    "Perform sentiment analysis: We use a library such as TextBlob or VADER to perform sentiment analysis on the Twitter data. This involves assigning a sentiment score to each Tweet based on its polarity, or the degree of positivity or negativity expressed in the text.\n",
    "\n",
    "Analyze Twitter users: We can analyze Twitter users based on their profiles and their activities on Twitter, such as the frequency and timing of their Tweets, the number of followers they have, and the topics they tend to Tweet about.\n",
    "\n",
    "Visualize the results: We can visualize the results of our analysis using charts, graphs, or other visualizations. This can help to communicate our findings more effectively and to identify trends or patterns in the data.\n",
    "\n",
    "Overall, our methodology is designed to provide insights into the opinions, attitudes, and behaviors of Twitter users, and to help inform decision-making in various domains, such as marketing, politics, and public opinion research."
   ]
  },
  {
   "cell_type": "markdown",
   "id": "07b82aaf",
   "metadata": {},
   "source": [
    "To share the outcomes of our research, we will use a variety of tools, data, and resources that are appropriate for the specific context and audience of the research.\n",
    "\n",
    "Reports and presentations: We will prepare reports and presentations that summarize the key findings and insights from our research. These reports and presentations may include charts, graphs, or other visualizations that help to communicate our findings more effectively.\n",
    "\n",
    "Interactive dashboards: We can create interactive dashboards that allow users to explore the data and the results of our analysis in more detail. These dashboards can be hosted online and can provide users with a more immersive and interactive experience.\n",
    "\n",
    "Open data resources: We may make the data we have collected and analyzed available as an open data resource that can be accessed and used by other researchers and practitioners. This can help to foster collaboration and accelerate research in the field.\n",
    "\n",
    "Social media: We can use social media platforms, such as Twitter or LinkedIn, to share our research and engage with other researchers and practitioners in the field. This can help to increase the visibility and impact of our research and to connect us with a wider community of people who are interested in our work.\n",
    "\n",
    "Conferences and workshops: We can present our research at conferences and workshops, and engage with other researchers and practitioners in the field. This can help to receive feedback on our work, generate new ideas, and establish new collaborations.\n",
    "\n",
    "Overall, our goal is to share the outcomes of our research in a way that is accessible, informative, and engaging for our target audience, and that helps to advance the state of the art in the field."
   ]
  },
  {
   "cell_type": "code",
   "execution_count": null,
   "id": "f5797c86",
   "metadata": {},
   "outputs": [],
   "source": []
  }
 ],
 "metadata": {
  "kernelspec": {
   "display_name": "Python 3 (ipykernel)",
   "language": "python",
   "name": "python3"
  },
  "language_info": {
   "codemirror_mode": {
    "name": "ipython",
    "version": 3
   },
   "file_extension": ".py",
   "mimetype": "text/x-python",
   "name": "python",
   "nbconvert_exporter": "python",
   "pygments_lexer": "ipython3",
   "version": "3.9.13"
  },
  "toc": {
   "base_numbering": 1,
   "nav_menu": {},
   "number_sections": true,
   "sideBar": true,
   "skip_h1_title": true,
   "title_cell": "Table of Contents",
   "title_sidebar": "Contents",
   "toc_cell": false,
   "toc_position": {},
   "toc_section_display": true,
   "toc_window_display": true
  }
 },
 "nbformat": 4,
 "nbformat_minor": 5
}
