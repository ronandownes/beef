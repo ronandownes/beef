{
 "cells": [
  {
   "cell_type": "code",
   "execution_count": null,
   "id": "4fa5fdd3",
   "metadata": {},
   "outputs": [],
   "source": [
    "# calculate the sum of a DataFrame column\n",
    "total = df['column1'].sum()\n",
    "\n",
    "# calculate the average of a DataFrame column\n",
    "average = df['column1'].mean()\n",
    "\n",
    "# calculate the maximum value in a DataFrame column\n",
    "max_val = df['column1'].max()\n",
    "\n",
    "# calculate the minimum value in a DataFrame column\n",
    "min_val = df['column1'].min()\n",
    "\n",
    "# calculate the count of non-null values in a DataFrame column\n",
    "count = df['column1'].count()\n",
    "\n",
    "# calculate the unique values in a DataFrame column\n",
    "unique_vals = df['column1'].unique()\n",
    "\n",
    "# calculate the number of unique values in a DataFrame column\n",
    "num_unique_vals = df['column1'].nunique()\n",
    "\n",
    "# calculate the value counts of unique values in a DataFrame column\n",
    "value_counts = df['column1'].value_counts()\n",
    "\n",
    "# create a pivot table from a DataFrame\n",
    "pivot_table = df.pivot_table(index='column1', values='column2', aggfunc='mean')\n",
    "\n",
    "# create a new DataFrame from a groupby object\n",
    "grouped_df = df.groupby('column1').sum().reset_index()\n",
    "\n",
    "# calculate the correlation between columns in a DataFrame\n",
    "correlation = df.corr()\n",
    "\n",
    "# calculate the covariance between columns\n"
   ]
  }
 ],
 "metadata": {
  "kernelspec": {
   "display_name": "Python 3 (ipykernel)",
   "language": "python",
   "name": "python3"
  },
  "language_info": {
   "codemirror_mode": {
    "name": "ipython",
    "version": 3
   },
   "file_extension": ".py",
   "mimetype": "text/x-python",
   "name": "python",
   "nbconvert_exporter": "python",
   "pygments_lexer": "ipython3",
   "version": "3.9.13"
  },
  "toc": {
   "base_numbering": 1,
   "nav_menu": {},
   "number_sections": true,
   "sideBar": true,
   "skip_h1_title": true,
   "title_cell": "Table of Contents",
   "title_sidebar": "Contents",
   "toc_cell": false,
   "toc_position": {},
   "toc_section_display": true,
   "toc_window_display": true
  }
 },
 "nbformat": 4,
 "nbformat_minor": 5
}
