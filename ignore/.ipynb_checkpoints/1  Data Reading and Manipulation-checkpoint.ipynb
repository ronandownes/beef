{
 "cells": [
  {
   "cell_type": "markdown",
   "id": "3fa75df2",
   "metadata": {},
   "source": [
    "## Data Reading and Manipulation:"
   ]
  },
  {
   "cell_type": "code",
   "execution_count": null,
   "id": "6ba151e0",
   "metadata": {},
   "outputs": [],
   "source": [
    "df = pd.read_csv('filename.csv')"
   ]
  },
  {
   "cell_type": "code",
   "execution_count": null,
   "id": "339543d1",
   "metadata": {},
   "outputs": [],
   "source": [
    "subset = df[['column1', 'column2', 'column3']]"
   ]
  },
  {
   "cell_type": "code",
   "execution_count": null,
   "id": "b7492878",
   "metadata": {},
   "outputs": [],
   "source": [
    "filtered = df[df['column1'] > 10]\n",
    "\n",
    "\n",
    "grouped = df.groupby('column1')\n",
    "\n",
    "\n",
    "df['new_column'] = df['column1'].apply(lambda x: x * 2)\n",
    "\n",
    "\n",
    "sorted = df.sort_values('column1')\n",
    "\n",
    "\n",
    "merged = pd.merge(df1, df2, on='column1')\n",
    "\n",
    "\n",
    "grouped_df = df.groupby('column1').sum().reset_index()\n",
    "\n",
    "df['date_column'] = pd.to_datetime(df['date_column'])\n",
    "\n",
    "\n",
    "indexed = df.set_index('column1')\n",
    "\n",
    "\n",
    "reset = df.reset_index()\n",
    "\n",
    "row = df.loc[2]\n",
    "\n",
    "\n",
    "subset = df.loc[[1, 3, 5]]\n",
    "\n",
    "\n",
    "subset = df.loc[df['column1'] > 10, ['column2', 'column3']]\n",
    "\n",
    "# select rows of a DataFrame by a condition and column indexes\n",
    "subset = df.iloc[df['column1'] > 10, [1, 2]]\n",
    "\n",
    "# rename the index of a DataFrame\n",
    "df.index.name = 'new_index_name'\n",
    "\n",
    "# set the names of columns in a MultiIndex DataFrame\n",
    "df.columns.names = ['column1', 'column2']\n",
    "\n",
    "# stack columns of a DataFrame into a MultiIndex Series\n",
    "stacked = df.stack()\n",
    "\n",
    "# unstack a MultiIndex Series into a DataFrame\n",
    "unstacked = stacked.unstack()\n",
    "\n",
    "# remove duplicate rows from a DataFrame\n",
    "deduplicated = df.drop_duplicates()\n",
    " \n",
    "# replace values in a DataFrame column\n",
    "df['column1'] = df['column1'].replace('old_value', 'new_value')"
   ]
  }
 ],
 "metadata": {
  "kernelspec": {
   "display_name": "Python 3 (ipykernel)",
   "language": "python",
   "name": "python3"
  },
  "language_info": {
   "codemirror_mode": {
    "name": "ipython",
    "version": 3
   },
   "file_extension": ".py",
   "mimetype": "text/x-python",
   "name": "python",
   "nbconvert_exporter": "python",
   "pygments_lexer": "ipython3",
   "version": "3.9.13"
  },
  "toc": {
   "base_numbering": 1,
   "nav_menu": {},
   "number_sections": true,
   "sideBar": true,
   "skip_h1_title": true,
   "title_cell": "Table of Contents",
   "title_sidebar": "Contents",
   "toc_cell": false,
   "toc_position": {},
   "toc_section_display": true,
   "toc_window_display": true
  }
 },
 "nbformat": 4,
 "nbformat_minor": 5
}
