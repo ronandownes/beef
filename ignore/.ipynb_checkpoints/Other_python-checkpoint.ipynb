{
 "cells": [
  {
   "cell_type": "code",
   "execution_count": null,
   "id": "17741bcb",
   "metadata": {},
   "outputs": [],
   "source": [
    "# calculate the rolling mean of a DataFrame column\n",
    "rolling_mean = df['column1'].rolling(window=3).mean()\n",
    "\n",
    "# calculate the rolling sum of a DataFrame column\n",
    "rolling_sum = df['column1'].rolling(window=3).sum()\n",
    "\n",
    "# calculate the exponentially-weighted moving average of a DataFrame column\n",
    "ewma = df['column1'].ewm(span=10).mean()\n",
    "\n",
    "# calculate the difference between consecutive values in a DataFrame column\n",
    "diff = df['column1'].diff()\n",
    "\n",
    "# calculate the cumulative sum of a DataFrame column\n",
    "cumulative_sum = df['column1'].cumsum()\n",
    "\n",
    "# calculate the cumulative maximum of a DataFrame column\n",
    "cumulative_max = df['column1'].cummax()\n",
    "\n",
    "# calculate the cumulative minimum of a DataFrame column\n",
    "cumulative_min = df['column1'].cummin()\n",
    "\n",
    "# calculate the difference between a DataFrame column and its lagged value\n",
    "lagged_diff = df['column1'] - df['column1'].shift(1)\n",
    "\n",
    "# calculate the percentage change of a DataFrame column\n",
    "percent_change = df['column1'].pct_change()\n",
    "\n",
    "# calculate the rank of values in a DataFrame column\n",
    "ranked = df['column1'].rank(method='min')\n",
    "\n",
    "# calculate the bin labels for a DataFrame column based on equal-width bins\n",
    "binned_labels = pd.cut(df['column1\n"
   ]
  }
 ],
 "metadata": {
  "kernelspec": {
   "display_name": "Python 3 (ipykernel)",
   "language": "python",
   "name": "python3"
  },
  "language_info": {
   "codemirror_mode": {
    "name": "ipython",
    "version": 3
   },
   "file_extension": ".py",
   "mimetype": "text/x-python",
   "name": "python",
   "nbconvert_exporter": "python",
   "pygments_lexer": "ipython3",
   "version": "3.9.13"
  },
  "toc": {
   "base_numbering": 1,
   "nav_menu": {},
   "number_sections": true,
   "sideBar": true,
   "skip_h1_title": true,
   "title_cell": "Table of Contents",
   "title_sidebar": "Contents",
   "toc_cell": false,
   "toc_position": {},
   "toc_section_display": true,
   "toc_window_display": true
  }
 },
 "nbformat": 4,
 "nbformat_minor": 5
}
