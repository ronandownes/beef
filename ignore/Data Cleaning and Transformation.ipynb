{
 "cells": [
  {
   "cell_type": "code",
   "execution_count": null,
   "id": "5531e177",
   "metadata": {},
   "outputs": [],
   "source": [
    "# rename columns in a DataFrame\n",
    "renamed = df.rename(columns={'column1': 'new_column1', 'column2': 'new_column2'})\n",
    "\n",
    "# drop columns from a DataFrame\n",
    "dropped_cols = df.drop(['column1', 'column2'], axis=1)\n",
    "\n",
    "# apply a function to each row of a DataFrame\n",
    "df['new_column'] = df.apply(lambda row: row['column1'] + row['column2'], axis=1)\n",
    "\n",
    "# add a new column to a DataFrame\n",
    "df['new_column'] = [1, 2, 3, 4, 5]\n",
    "\n",
    "# fill in missing values in a DataFrame with a specific value\n",
    "filled = df.fillna(0)\n",
    "\n",
    "# drop rows with missing values from a DataFrame\n",
    "dropped = df.dropna()\n",
    "\n",
    "# remove duplicate rows from a DataFrame\n",
    "deduplicated = df.drop_duplicates()\n",
    "\n",
    "# interpolate missing values in a DataFrame\n",
    "interpolated = df.interpolate()\n",
    "\n",
    "# interpolate missing values in a DataFrame using a specific method\n",
    "interpolated_method = df.interpolate(method='spline', order=2)\n",
    "\n",
    "# replace values in a DataFrame column\n",
    "df['column1'] = df['column1'].replace('old_value', 'new_value')\n",
    "\n",
    "# pivot a DataFrame from long to wide format\n",
    "pivoted = df.pivot(index='column1', columns='column2', values='column3')\n",
    "\n",
    "# melt a DataFrame from wide to long format\n",
    "melted = pd.melt(df, id_vars=['column1'], value_vars=['column2', 'column3'])\n",
    "\n",
    "# transform a DataFrame by applying a function to each group\n",
    "transformed = df.groupby('column1').transform(lambda x: (x - x.mean()) / x.std())\n"
   ]
  }
 ],
 "metadata": {
  "kernelspec": {
   "display_name": "Python 3 (ipykernel)",
   "language": "python",
   "name": "python3"
  },
  "language_info": {
   "codemirror_mode": {
    "name": "ipython",
    "version": 3
   },
   "file_extension": ".py",
   "mimetype": "text/x-python",
   "name": "python",
   "nbconvert_exporter": "python",
   "pygments_lexer": "ipython3",
   "version": "3.9.13"
  },
  "toc": {
   "base_numbering": 1,
   "nav_menu": {},
   "number_sections": true,
   "sideBar": true,
   "skip_h1_title": true,
   "title_cell": "Table of Contents",
   "title_sidebar": "Contents",
   "toc_cell": false,
   "toc_position": {},
   "toc_section_display": true,
   "toc_window_display": true
  }
 },
 "nbformat": 4,
 "nbformat_minor": 5
}
