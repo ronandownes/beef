{
 "cells": [
  {
   "cell_type": "code",
   "execution_count": null,
   "id": "bb667e14",
   "metadata": {},
   "outputs": [],
   "source": [
    "# create a line plot of a DataFrame column\n",
    "df['column1'].plot()\n",
    "\n",
    "# create a scatter plot of two DataFrame columns\n",
    "df.plot.scatter(x='column1', y='column2')\n",
    "\n",
    "# create a bar chart of a DataFrame column\n",
    "df['column1'].plot.bar()\n",
    "\n",
    "# create a histogram of a DataFrame column\n",
    "df['column1'].plot.hist()\n",
    "\n",
    "# create a box plot of a DataFrame column\n",
    "df['column1'].plot.box()\n",
    "\n",
    "# create a heatmap of a DataFrame\n",
    "sns.heatmap(df)\n",
    "\n",
    "# create a pairplot of a DataFrame\n",
    "sns.pairplot(df)"
   ]
  }
 ],
 "metadata": {
  "kernelspec": {
   "display_name": "Python 3 (ipykernel)",
   "language": "python",
   "name": "python3"
  },
  "language_info": {
   "codemirror_mode": {
    "name": "ipython",
    "version": 3
   },
   "file_extension": ".py",
   "mimetype": "text/x-python",
   "name": "python",
   "nbconvert_exporter": "python",
   "pygments_lexer": "ipython3",
   "version": "3.9.13"
  },
  "toc": {
   "base_numbering": 1,
   "nav_menu": {},
   "number_sections": true,
   "sideBar": true,
   "skip_h1_title": true,
   "title_cell": "Table of Contents",
   "title_sidebar": "Contents",
   "toc_cell": false,
   "toc_position": {},
   "toc_section_display": true,
   "toc_window_display": true
  }
 },
 "nbformat": 4,
 "nbformat_minor": 5
}
