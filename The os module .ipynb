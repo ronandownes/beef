{
 "cells": [
  {
   "cell_type": "markdown",
   "id": "cd24edb2",
   "metadata": {},
   "source": [
    "# The os module \n",
    "\n",
    "\n",
    "provides a large number of functions for working with the operating system, and the number of available functions can vary depending on the version of Python and the operating system you are using.\n",
    "\n",
    "As of Python 3.10, there are over 50 functions in the os module."
   ]
  },
  {
   "cell_type": "code",
   "execution_count": 1,
   "id": "ab6ba287",
   "metadata": {},
   "outputs": [],
   "source": [
    "import os"
   ]
  },
  {
   "cell_type": "code",
   "execution_count": 2,
   "id": "2140ad0f",
   "metadata": {},
   "outputs": [
    {
     "data": {
      "text/plain": [
       "'nt'"
      ]
     },
     "execution_count": 2,
     "metadata": {},
     "output_type": "execute_result"
    }
   ],
   "source": [
    "# Return the name of the operating system\n",
    "os.name"
   ]
  },
  {
   "cell_type": "code",
   "execution_count": 3,
   "id": "6d4fe9f2",
   "metadata": {},
   "outputs": [
    {
     "data": {
      "text/plain": [
       "'C:\\\\Users\\\\ronan\\\\beef'"
      ]
     },
     "execution_count": 3,
     "metadata": {},
     "output_type": "execute_result"
    }
   ],
   "source": [
    "# Return the current working directory\n",
    "os.getcwd()"
   ]
  },
  {
   "cell_type": "code",
   "execution_count": 6,
   "id": "c7d3ba15",
   "metadata": {},
   "outputs": [
    {
     "data": {
      "text/plain": [
       "['arch',\n",
       " 'areas.npy',\n",
       " 'AreasEU.csv',\n",
       " 'beluxPivot.csv',\n",
       " 'beneluxPivot.csv',\n",
       " 'beneluxPivot.npy',\n",
       " 'benelux_pivot.csv',\n",
       " 'cattle_stocks.csv',\n",
       " 'kept_countries.txt',\n",
       " 'main.csv',\n",
       " 'main_stock_cckp.csv',\n",
       " 'meadowpasture.csv',\n",
       " 'missing.csv',\n",
       " 'missing.npy',\n",
       " 'nutrient2002',\n",
       " 'nutrient2002.csv',\n",
       " 'orderedstock.csv',\n",
       " 'rain.csv',\n",
       " 'stock.csv',\n",
       " 'stockkey.csv',\n",
       " 'stock_cckp.csv',\n",
       " 'temperature.csv',\n",
       " 'topstock.txt',\n",
       " 'top_10_countries_stock.csv',\n",
       " 'top_countries.txt',\n",
       " 'top_countries_stock.csv']"
      ]
     },
     "execution_count": 6,
     "metadata": {},
     "output_type": "execute_result"
    }
   ],
   "source": [
    "# Return a list of files in a directory\n",
    "os.listdir('clean')"
   ]
  },
  {
   "cell_type": "code",
   "execution_count": 7,
   "id": "1976fb42",
   "metadata": {},
   "outputs": [
    {
     "data": {
      "text/plain": [
       "['.git',\n",
       " '.ipynb_checkpoints',\n",
       " '01_eda_beef.ipynb',\n",
       " '01_stock_beef.ipynb',\n",
       " '02_dw_FAO_CCKP.ipynb',\n",
       " '03_Clean_predictors.ipynb',\n",
       " '03_indyd.ipynb',\n",
       " '03_ml_beef.ipynb',\n",
       " '05_eda_snippets.ipynb',\n",
       " '07-numpy functions.ipynb',\n",
       " '08_sentiment_analysis.ipynb',\n",
       " '09_brief.ipynb',\n",
       " 'add commit pull push origin main',\n",
       " 'arch',\n",
       " 'beef.pdf',\n",
       " 'clean',\n",
       " 'cleanareas.csv',\n",
       " 'countries_to_keep.pickle',\n",
       " 'css',\n",
       " 'data',\n",
       " 'Data exploration-Copy1.ipynb',\n",
       " 'FETCH_HEAD',\n",
       " 'git',\n",
       " 'ignore',\n",
       " 'images',\n",
       " 'main',\n",
       " 'output',\n",
       " 'rain',\n",
       " 'raw',\n",
       " 'README.md',\n",
       " 'temperature',\n",
       " 'The Common Agricultural Policy (CAP) .ipynb',\n",
       " 'The os module .ipynb',\n",
       " 'Untitled Folder']"
      ]
     },
     "execution_count": 7,
     "metadata": {},
     "output_type": "execute_result"
    }
   ],
   "source": [
    "# Create a directory\n",
    "os.mkdir('output')\n",
    "os.listdir('.')"
   ]
  },
  {
   "cell_type": "code",
   "execution_count": 8,
   "id": "3276ea7d",
   "metadata": {},
   "outputs": [
    {
     "data": {
      "text/plain": [
       "['.git',\n",
       " '.ipynb_checkpoints',\n",
       " '01_eda_beef.ipynb',\n",
       " '01_stock_beef.ipynb',\n",
       " '02_dw_FAO_CCKP.ipynb',\n",
       " '03_Clean_predictors.ipynb',\n",
       " '03_indyd.ipynb',\n",
       " '03_ml_beef.ipynb',\n",
       " '05_eda_snippets.ipynb',\n",
       " '07-numpy functions.ipynb',\n",
       " '08_sentiment_analysis.ipynb',\n",
       " '09_brief.ipynb',\n",
       " 'add commit pull push origin main',\n",
       " 'arch',\n",
       " 'beef.pdf',\n",
       " 'clean',\n",
       " 'cleanareas.csv',\n",
       " 'countries_to_keep.pickle',\n",
       " 'css',\n",
       " 'data',\n",
       " 'Data exploration-Copy1.ipynb',\n",
       " 'FETCH_HEAD',\n",
       " 'git',\n",
       " 'ignore',\n",
       " 'images',\n",
       " 'input',\n",
       " 'main',\n",
       " 'output',\n",
       " 'rain',\n",
       " 'raw',\n",
       " 'README.md',\n",
       " 'temperature',\n",
       " 'The Common Agricultural Policy (CAP) .ipynb',\n",
       " 'The os module .ipynb',\n",
       " 'Untitled Folder']"
      ]
     },
     "execution_count": 8,
     "metadata": {},
     "output_type": "execute_result"
    }
   ],
   "source": [
    "os.mkdir('input')\n",
    "os.listdir('.')"
   ]
  },
  {
   "cell_type": "code",
   "execution_count": 10,
   "id": "3ae72148",
   "metadata": {},
   "outputs": [
    {
     "data": {
      "text/plain": [
       "['.git',\n",
       " '.ipynb_checkpoints',\n",
       " '01_eda_beef.ipynb',\n",
       " '01_stock_beef.ipynb',\n",
       " '02_dw_FAO_CCKP.ipynb',\n",
       " '03_Clean_predictors.ipynb',\n",
       " '03_indyd.ipynb',\n",
       " '03_ml_beef.ipynb',\n",
       " '05_eda_snippets.ipynb',\n",
       " '07-numpy functions.ipynb',\n",
       " '08_sentiment_analysis.ipynb',\n",
       " '09_brief.ipynb',\n",
       " 'add commit pull push origin main',\n",
       " 'arch',\n",
       " 'beef.pdf',\n",
       " 'clean',\n",
       " 'cleanareas.csv',\n",
       " 'countries_to_keep.pickle',\n",
       " 'css',\n",
       " 'data',\n",
       " 'Data exploration-Copy1.ipynb',\n",
       " 'FETCH_HEAD',\n",
       " 'git',\n",
       " 'IAMAFOLDER',\n",
       " 'ignore',\n",
       " 'images',\n",
       " 'input',\n",
       " 'main',\n",
       " 'output',\n",
       " 'rain',\n",
       " 'raw',\n",
       " 'README.md',\n",
       " 'temperature',\n",
       " 'The Common Agricultural Policy (CAP) .ipynb',\n",
       " 'The os module .ipynb',\n",
       " 'Untitled Folder']"
      ]
     },
     "execution_count": 10,
     "metadata": {},
     "output_type": "execute_result"
    }
   ],
   "source": [
    "# Delete a file\n",
    "os.mkdir('IAMAFOLDER')\n",
    "os.listdir('.')\n",
    "     "
   ]
  },
  {
   "cell_type": "code",
   "execution_count": 11,
   "id": "d2cbb75c",
   "metadata": {},
   "outputs": [
    {
     "ename": "PermissionError",
     "evalue": "[WinError 5] Access is denied: 'IAMAFOLDER'",
     "output_type": "error",
     "traceback": [
      "\u001b[1;31m---------------------------------------------------------------------------\u001b[0m",
      "\u001b[1;31mPermissionError\u001b[0m                           Traceback (most recent call last)",
      "\u001b[1;32m~\\AppData\\Local\\Temp\\ipykernel_15592\\3830476854.py\u001b[0m in \u001b[0;36m<module>\u001b[1;34m\u001b[0m\n\u001b[1;32m----> 1\u001b[1;33m \u001b[0mos\u001b[0m\u001b[1;33m.\u001b[0m\u001b[0mremove\u001b[0m\u001b[1;33m(\u001b[0m\u001b[1;34m'IAMAFOLDER'\u001b[0m\u001b[1;33m)\u001b[0m\u001b[1;33m\u001b[0m\u001b[1;33m\u001b[0m\u001b[0m\n\u001b[0m\u001b[0;32m      2\u001b[0m \u001b[0mos\u001b[0m\u001b[1;33m.\u001b[0m\u001b[0mlistdir\u001b[0m\u001b[1;33m(\u001b[0m\u001b[1;34m'.'\u001b[0m\u001b[1;33m)\u001b[0m\u001b[1;33m\u001b[0m\u001b[1;33m\u001b[0m\u001b[0m\n",
      "\u001b[1;31mPermissionError\u001b[0m: [WinError 5] Access is denied: 'IAMAFOLDER'"
     ]
    }
   ],
   "source": [
    "os.remove('IAMAFOLDER')\n",
    "os.listdir('.')    \n"
   ]
  },
  {
   "cell_type": "code",
   "execution_count": null,
   "id": "f72c8805",
   "metadata": {},
   "outputs": [],
   "source": [
    "# Rename a file or directory\n",
    "os.rename(src, dst)"
   ]
  },
  {
   "cell_type": "code",
   "execution_count": 1,
   "id": "bc7f7980",
   "metadata": {},
   "outputs": [
    {
     "ename": "IndentationError",
     "evalue": "expected an indented block (47966453.py, line 64)",
     "output_type": "error",
     "traceback": [
      "\u001b[1;36m  File \u001b[1;32m\"C:\\Users\\ronan\\AppData\\Local\\Temp\\ipykernel_1148\\47966453.py\"\u001b[1;36m, line \u001b[1;32m64\u001b[0m\n\u001b[1;33m    os.path.isabs(path)\u001b[0m\n\u001b[1;37m    ^\u001b[0m\n\u001b[1;31mIndentationError\u001b[0m\u001b[1;31m:\u001b[0m expected an indented block\n"
     ]
    }
   ],
   "source": [
    "# Check if a file exists\n",
    "os.path.isfile(path)\n",
    "\n",
    "# Check if a directory exists\n",
    "os.path.isdir(path)\n",
    "\n",
    "# Get the size of a file in bytes\n",
    "os.path.getsize(path)\n",
    "\n",
    "# Get the absolute path of a file\n",
    "os.path.abspath(path)\n",
    "\n",
    "# Get the file extension\n",
    "os.path.splitext(path)[1]\n",
    "\n",
    "# Get the filename without the path\n",
    "os.path.basename(path)\n",
    "\n",
    "# Get the path without the filename\n",
    "os.path.dirname(path)\n",
    "\n",
    "# Join two or more paths into a single path\n",
    "os.path.join(path1, path2, ...)\n",
    "\n",
    "# Execute a shell command\n",
    "os.system(command)\n",
    "\n",
    "# Set the current working directory\n",
    "os.chdir(path)\n",
    "\n",
    "# Get the user's home directory\n",
    "os.path.expanduser('~')\n",
    "\n",
    "# Get the value of an environment variable\n",
    "os.getenv(var)\n",
    "\n",
    "# Set the value of an environment variable\n",
    "os.environ[var] = value\n",
    "\n",
    "# Get the list of files in a directory and its subdirectories\n",
    "for dirpath, dirnames, filenames in os.walk(path):\n",
    "\n",
    "# Check if a path is an absolute path\n",
    "os.path.isabs(path)\n",
    "\n",
    "# Get the real path (resolved symbolic links) of a path\n",
    "os.path.realpath(path)\n",
    "\n",
    "# Get the modification time of a file\n",
    "os.path.getmtime(path)\n",
    "\n",
    "# Get the creation time of a file\n",
    "os.path.getctime(path)\n",
    "\n",
    "# Get the last access time of a file\n",
    "os.path.getatime(path)\n",
    "\n",
    "# Split a path into a directory and filename\n",
    "os.path.split(path)\n",
    "\n",
    "# Split a path into its components\n",
    "os.path.splitdrive(path)\n",
    "\n",
    "# Check if a file is readable\n",
    "os.access(path, os.R_OK)\n",
    "\n",
    "# Check if a file is writable\n",
    "os.access(path, os.W_OK)\n",
    "\n",
    "# Check if a file is executable\n",
    "os.access(path, os.X_OK)\n",
    "\n",
    "# Change the owner of a file\n",
    "os.chown(path, uid, gid)\n",
    "\n",
    "# Change the mode of a file\n",
    "os.chmod(path, mode)\n",
    "\n",
    "# Change the owner and mode of a file\n",
    "os.chown(path, uid, gid)\n",
    "\n",
    "# Get the effective group id\n",
    "os.getegid()\n",
    "\n",
    "# Get the effective user id\n",
    "os.geteuid()\n",
    "\n",
    "# Get the group id for a given group name\n",
    "os.getgrnam(name).gr_gid\n",
    "\n",
    "# Get the user id for a given user name\n",
    "os.getpwnam(name).pw_uid\n",
    "\n",
    "# Get the process id of the current process\n",
    "os.getpid()\n",
    "\n",
    "# Get the process id of the parent process\n",
    "os.getppid()\n",
    "\n",
    "# Get the effective process id\n",
    "os.geteuid()\n",
    "\n",
    "# Get the real process id\n",
    "os.getuid()\n",
    "\n",
    "# Get the list of groups that the current user belongs to\n",
    "os.getgroups()\n",
    "\n",
    "# Set the process group id\n",
    "os.setpgrp()\n",
    "\n",
    "# Get the process group id\n",
    "os.getpgrp()\n",
    "\n",
    "# Set the user id and group id of a process\n",
    "os.setreuid(ruid, euid)\n",
    "\n",
    "# Set the group id of a process\n",
    "os.setgid(gid)\n",
    "\n",
    "# Set the user id of a process\n",
    "os.setuid(uid)\n",
    "\n",
    "# Set the process group id of a process\n",
    "os.setpgid(pid, pgrp)\n",
    "\n",
    "# Set the effective user id and group id of a process\n",
    "os.seteuid(euid)\n",
    "\n",
    "# Set the effective group id of a process\n",
    "os.set"
   ]
  },
  {
   "cell_type": "code",
   "execution_count": null,
   "id": "8e8d4b3a",
   "metadata": {},
   "outputs": [],
   "source": []
  }
 ],
 "metadata": {
  "kernelspec": {
   "display_name": "Python 3 (ipykernel)",
   "language": "python",
   "name": "python3"
  },
  "language_info": {
   "codemirror_mode": {
    "name": "ipython",
    "version": 3
   },
   "file_extension": ".py",
   "mimetype": "text/x-python",
   "name": "python",
   "nbconvert_exporter": "python",
   "pygments_lexer": "ipython3",
   "version": "3.9.13"
  },
  "toc": {
   "base_numbering": 1,
   "nav_menu": {},
   "number_sections": true,
   "sideBar": true,
   "skip_h1_title": true,
   "title_cell": "Table of Contents",
   "title_sidebar": "Contents",
   "toc_cell": false,
   "toc_position": {},
   "toc_section_display": true,
   "toc_window_display": true
  }
 },
 "nbformat": 4,
 "nbformat_minor": 5
}
