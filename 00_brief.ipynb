{
 "cells": [
  {
   "cell_type": "markdown",
   "id": "0d9e732f",
   "metadata": {},
   "source": [
    "# CA2  Analysis of Ireland's Beef Sector and comparison to EU Countries\n",
    "## Project Workflow\n",
    "\n",
    "### source appropriate datasets from available repositories, \n",
    "### analyze the data\n",
    "### and make evidence-based recommendations for the sector. \n",
    "### Forecasting\n",
    "### Sentiment analysis\n",
    "### Rationale of the entire process used to discover your findings\n",
    "\n",
    "### Agricultural impact on climate change is not discused\n",
    "### Consideration is given to  the Common Agricultural Policy implemented by the European Union, which has a significant statistical impact. \n",
    "###  United Kingdom is excluded entirely\n",
    "\n",
    "### Choice of project management framework that you have deemed suitable for this project.\n",
    "### Version control software used  GitHub  with \n",
    "### Command line git Commits were used to track the history of changes to the repository \n",
    "\n",
    "###  [Github version controlled  repository](https://github.com/ronandownes/beef)\n",
    "\n",
    "\n",
    "### Iw was a complex and multi-faceted project requiring\n",
    "#### careful planning \n",
    "#### data analysis ####critical thinking\n",
    "#### Arrival at at informed recommendations for Ireland's agricultural sector."
   ]
  },
  {
   "cell_type": "code",
   "execution_count": null,
   "id": "f4d5ec9c",
   "metadata": {},
   "outputs": [],
   "source": []
  }
 ],
 "metadata": {
  "kernelspec": {
   "display_name": "Python 3 (ipykernel)",
   "language": "python",
   "name": "python3"
  },
  "language_info": {
   "codemirror_mode": {
    "name": "ipython",
    "version": 3
   },
   "file_extension": ".py",
   "mimetype": "text/x-python",
   "name": "python",
   "nbconvert_exporter": "python",
   "pygments_lexer": "ipython3",
   "version": "3.9.13"
  },
  "toc": {
   "base_numbering": 1,
   "nav_menu": {},
   "number_sections": true,
   "sideBar": true,
   "skip_h1_title": true,
   "title_cell": "Table of Contents",
   "title_sidebar": "Contents",
   "toc_cell": false,
   "toc_position": {
    "height": "calc(100% - 180px)",
    "left": "10px",
    "top": "150px",
    "width": "320px"
   },
   "toc_section_display": true,
   "toc_window_display": true
  }
 },
 "nbformat": 4,
 "nbformat_minor": 5
}
