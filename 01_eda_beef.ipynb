{
 "cells": [
  {
   "cell_type": "markdown",
   "metadata": {
    "toc": true
   },
   "source": [
    "<h1>Table of Contents (Clickable in sidebar)<span class=\"tocSkip\"></span></h1>\n",
    "<div class=\"toc\"><ul class=\"toc-item\"><li><span><a href=\"#Research-Question\" data-toc-modified-id=\"Research-Question-1\"><span class=\"toc-item-num\">1&nbsp;&nbsp;</span>Research Question</a></span></li><li><span><a href=\"#Libraries-and-modules\" data-toc-modified-id=\"Libraries-and-modules-2\"><span class=\"toc-item-num\">2&nbsp;&nbsp;</span>Libraries and modules</a></span></li><li><span><a href=\"#Load-main-'stocks'-df-and-begin-EDA\" data-toc-modified-id=\"Load-main-'stocks'-df-and-begin-EDA-3\"><span class=\"toc-item-num\">3&nbsp;&nbsp;</span>Load main 'stocks' df and begin EDA</a></span><ul class=\"toc-item\"><li><span><a href=\"#pd.read_csv('raw/stocks.csv')\" data-toc-modified-id=\"pd.read_csv('raw/stocks.csv')-3.1\"><span class=\"toc-item-num\">3.1&nbsp;&nbsp;</span>pd.read_csv('raw/stocks.csv')</a></span></li><li><span><a href=\"#df.head()\" data-toc-modified-id=\"df.head()-3.2\"><span class=\"toc-item-num\">3.2&nbsp;&nbsp;</span>df.head()</a></span></li><li><span><a href=\"#df-shape-is--small-(1708,-14)\" data-toc-modified-id=\"df-shape-is--small-(1708,-14)-3.3\"><span class=\"toc-item-num\">3.3&nbsp;&nbsp;</span>df shape is  small (1708, 14)</a></span></li><li><span><a href=\"#df.dtypes\" data-toc-modified-id=\"df.dtypes-3.4\"><span class=\"toc-item-num\">3.4&nbsp;&nbsp;</span>df.dtypes</a></span></li><li><span><a href=\"#The-df.nunique()-method-reveals--following-2-issues-in-categorical-data:\" data-toc-modified-id=\"The-df.nunique()-method-reveals--following-2-issues-in-categorical-data:-3.5\"><span class=\"toc-item-num\">3.5&nbsp;&nbsp;</span>The df.nunique() method reveals  following 2 issues in categorical data:</a></span></li><li><span><a href=\"#'Flag-Description'\" data-toc-modified-id=\"'Flag-Description'-3.6\"><span class=\"toc-item-num\">3.6&nbsp;&nbsp;</span>'Flag Description'</a></span></li></ul></li><li><span><a href=\"#Why-do-we-have-one-more-area-than-expected?\" data-toc-modified-id=\"Why-do-we-have-one-more-area-than-expected?-4\"><span class=\"toc-item-num\">4&nbsp;&nbsp;</span>Why do we have one more area than expected?</a></span></li><li><span><a href=\"#Investigate-historical--cattle-stock-reporting-in-the-BENELUX-and---BELUX-union-areas\" data-toc-modified-id=\"Investigate-historical--cattle-stock-reporting-in-the-BENELUX-and---BELUX-union-areas-5\"><span class=\"toc-item-num\">5&nbsp;&nbsp;</span>Investigate historical  cattle stock reporting in the BENELUX and   BELUX union areas</a></span></li><li><span><a href=\"#Revise-a-research-question-to-more-recent-years-of-2000-2021\" data-toc-modified-id=\"Revise-a-research-question-to-more-recent-years-of-2000-2021-6\"><span class=\"toc-item-num\">6&nbsp;&nbsp;</span>Revise a research question to more recent years of 2000-2021</a></span></li><li><span><a href=\"#Update-the-time-frame-of-our-main-Dataframe-df\" data-toc-modified-id=\"Update-the-time-frame-of-our-main-Dataframe-df-7\"><span class=\"toc-item-num\">7&nbsp;&nbsp;</span>Update the time frame of our main Dataframe df</a></span></li><li><span><a href=\"#Lack-of-estimated-and-unofficial-reporting\" data-toc-modified-id=\"Lack-of-estimated-and-unofficial-reporting-8\"><span class=\"toc-item-num\">8&nbsp;&nbsp;</span>Lack of estimated and unofficial reporting</a></span></li><li><span><a href=\"#The-devil-is-in-the-dtypes!\" data-toc-modified-id=\"The-devil-is-in-the-dtypes!-9\"><span class=\"toc-item-num\">9&nbsp;&nbsp;</span>The devil is in the dtypes!</a></span></li><li><span><a href=\"#The-Cattle-Stock---cast-them-as-32-bit-integers\" data-toc-modified-id=\"The-Cattle-Stock---cast-them-as-32-bit-integers-10\"><span class=\"toc-item-num\">10&nbsp;&nbsp;</span>The Cattle Stock   cast them as 32-bit integers</a></span></li><li><span><a href=\"#This-Jupyter-Notebook-has-focussed-on-cleaning-our-target-variable\" data-toc-modified-id=\"This-Jupyter-Notebook-has-focussed-on-cleaning-our-target-variable-11\"><span class=\"toc-item-num\">11&nbsp;&nbsp;</span>This Jupyter Notebook has focussed on cleaning our target variable</a></span></li><li><span><a href=\"#We-finished-up-with-...\" data-toc-modified-id=\"We-finished-up-with-...-12\"><span class=\"toc-item-num\">12&nbsp;&nbsp;</span>We finished up with ...</a></span></li><li><span><a href=\"#Run-notebook-02_data_wrangling_beef.jpynb-from-the--root-directory-next.\" data-toc-modified-id=\"Run-notebook-02_data_wrangling_beef.jpynb-from-the--root-directory-next.-13\"><span class=\"toc-item-num\">13&nbsp;&nbsp;</span>Run notebook 02_data_wrangling_beef.jpynb from the  root directory next.</a></span></li></ul></div>"
   ]
  },
  {
   "cell_type": "markdown",
   "metadata": {},
   "source": [
    "# Exploratory Data Analysis EU Beef\n",
    "## Research Question\n",
    "How has Ireland's beef sector performed compared to the EU 27 countries from 1961 to 2021, and can we forecast future prices using historical data? Additionally, what can we learn from sentiment analysis of the beef industry during this time period?\n",
    "## Libraries and modules"
   ]
  },
  {
   "cell_type": "code",
   "execution_count": 1,
   "metadata": {},
   "outputs": [],
   "source": [
    "\n",
    "### Data Manipulation and Analysis\n",
    "import csv\n",
    "import pandas as pd\n",
    "import numpy as np\n",
    "import fancyimpute\n",
    "import missingno as msno\n",
    "from functools import partial, reduce\n",
    "\n",
    "### Data Visualization\n",
    "import matplotlib.pyplot as plt\n",
    "import seaborn as sns\n",
    "import plotly.express as px\n",
    "import matplotlib.image as mpimg\n",
    "\n",
    "\n",
    "### Text Processing\n",
    "import html\n",
    "import re\n",
    "\n",
    "\n",
    "### File System and OS\n",
    "import glob\n",
    "import os\n",
    "\n",
    "### Date and Time\n",
    "import datetime\n",
    "import time\n",
    "\n",
    "### Data Presentation\n",
    "from tabulate import tabulate\n",
    "from IPython.display import HTML, Image, display\n",
    "\n",
    "### Data Types\n",
    "from typing import Dict, List, Tuple\n"
   ]
  },
  {
   "cell_type": "markdown",
   "metadata": {},
   "source": [
    "## Load main 'stocks' df and begin EDA\n",
    "\n",
    "### pd.read_csv('raw/stocks.csv') \n",
    "Data downloaded from [FAOSTAT](https://www.fao.org/faostat/en/#data/domains_table)\n",
    "\n",
    "### df.head() \n",
    "Direct look at first 5 rows\n",
    "###  df shape is  small (1708, 14)\n",
    "The shape  of rows and columns, is relatively small (1708, 14).\n",
    "\n",
    "1708 is enough rows for training without overfitting  while small enough for simple and  interpretable model. Nevertheless this will likely be reduced. \n",
    "\n",
    "The 14 columns wont all be features available for the model as only most relevant and informative features  will be kept and irrelevant or redundant ones will be dropped.\n",
    "\n",
    "### df.dtypes \n",
    "\n",
    "We will change the Year column data  type of a  in a Pandas DataFrame from int64 to int32 using the astype() method\n",
    "\n",
    "We will change the 'Value'column type from              float64 to int32\n",
    "\n",
    "### The df.nunique() method reveals  following 2 issues in categorical data:\n",
    "\n",
    "1. Flag Description \n",
    "- We have 1160\t\tEstimated values\n",
    "- and 1182 \tUnofficial figure\n",
    "- In the context of this data analysis, these \"estimated value\" and \"unofficial figures\" might have  significant impact on the accuracy and reliability of our conclusion. \n",
    "2. The European Union (EU) is a political and economic union of 27 member states and yet we have 28  unique values of Area. This is more pressing than the flag describtiopns and is investigated first.\n",
    "### 'Flag Description' \n",
    "Apply .drop_duplicates()\n",
    "\n",
    "61\tNaN\tNaN\n",
    "\n",
    "1160\tE\tEstimated value\n",
    "\n",
    "1182\tT\tUnofficial figure\n",
    "\n"
   ]
  },
  {
   "cell_type": "code",
   "execution_count": 2,
   "metadata": {},
   "outputs": [
    {
     "name": "stdout",
     "output_type": "stream",
     "text": [
      "C:\\Users\\ronan\\beef\n",
      "['.git', '.ipynb_checkpoints', '00_brief.ipynb', '01_eda_beef.ipynb', '02_dw_beef.ipynb', '02_dw_beef2202-Copy1.ipynb', '03_ml_beef.ipynb', '05_eda_snippets.ipynb', '07-numpy functions.ipynb', 'Agricultural Use_Nutrient nitrogen N (total).csv', 'Agricultural Use_Nutrient phosphate P2O5 (total).csv', 'Agricultural Use_Nutrient potash K2O (total).csv', 'arch', 'beef.pdf', 'clean', 'cleanareas.csv', 'css', 'Export Quantity_Nutrient nitrogen N (total).csv', 'Export Quantity_Nutrient phosphate P2O5 (total).csv', 'Export Quantity_Nutrient potash K2O (total).csv', 'git', 'ignore', 'images', 'Import Quantity_Nutrient nitrogen N (total).csv', 'Import Quantity_Nutrient phosphate P2O5 (total).csv', 'Import Quantity_Nutrient potash K2O (total).csv', 'MadeWith___os_mkdir', 'Production_Nutrient nitrogen N (total).csv', 'Production_Nutrient phosphate P2O5 (total).csv', 'Production_Nutrient potash K2O (total).csv', 'rain', 'raw', 'README.md', 'temperature', 'The os module .ipynb']\n",
      "['.ipynb_checkpoints', 'AnnualPopulation.csv', 'arch', 'beefandbuffalo.csv', 'ConsumerPriceIndices.csv', 'CropsAndlivestockCattleFeed.csv', 'Deflators.csv', 'DetailedTradeMatrix.csv', 'DSC_7881.JPG', 'ExchangeRates.csv', 'FertilizersByNutrient.csv', 'grasslands.csv', 'LandCover.csv', 'LandUse.csv', 'LandUseIndicators.csv', 'land_pasture.csv', 'land_use_all_items_area_eu28.csv', 'Livestock Manure.csv', 'LivestockManure.csv', 'LivestockPatterns.csv', 'manure.csv', 'ManureManagement.csv', 'meat.csv', 'nutrient.csv', 'price.csv', 'ProducerPrices.csv', 'ProductionIndices.csv', 'pr_timeseries__IRL.csv', 'stocks.csv', 'tas_timeseries_IRL.csv', 'TCC-Metadata.csv', 'temperature_change.csv', 'temperature_sd.csv', 'TradeIndices.csv', 'ValueofAgricultural Production.csv', 'yield.csv']\n",
      "(1708, 14)\n",
      "Domain Code          object\n",
      "Domain               object\n",
      "Area Code (M49)       int64\n",
      "Area                 object\n",
      "Element Code          int64\n",
      "Element              object\n",
      "Item Code (CPC)       int64\n",
      "Item                 object\n",
      "Year Code             int64\n",
      "Year                  int64\n",
      "Unit                 object\n",
      "Value               float64\n",
      "Flag                 object\n",
      "Flag Description     object\n",
      "dtype: object\n",
      "Domain Code            1\n",
      "Domain                 1\n",
      "Area Code (M49)       28\n",
      "Area                  28\n",
      "Element Code           1\n",
      "Element                1\n",
      "Item Code (CPC)        1\n",
      "Item                   1\n",
      "Year Code             61\n",
      "Year                  61\n",
      "Unit                   1\n",
      "Value               1365\n",
      "Flag                   3\n",
      "Flag Description       3\n",
      "dtype: int64\n",
      "Domain Code           0\n",
      "Domain                0\n",
      "Area Code (M49)       0\n",
      "Area                  0\n",
      "Element Code          0\n",
      "Element               0\n",
      "Item Code (CPC)       0\n",
      "Item                  0\n",
      "Year Code             0\n",
      "Year                  0\n",
      "Unit                319\n",
      "Value               319\n",
      "Flag                319\n",
      "Flag Description    319\n",
      "dtype: int64\n"
     ]
    },
    {
     "data": {
      "text/html": [
       "<div>\n",
       "<style scoped>\n",
       "    .dataframe tbody tr th:only-of-type {\n",
       "        vertical-align: middle;\n",
       "    }\n",
       "\n",
       "    .dataframe tbody tr th {\n",
       "        vertical-align: top;\n",
       "    }\n",
       "\n",
       "    .dataframe thead th {\n",
       "        text-align: right;\n",
       "    }\n",
       "</style>\n",
       "<table border=\"1\" class=\"dataframe\">\n",
       "  <thead>\n",
       "    <tr style=\"text-align: right;\">\n",
       "      <th></th>\n",
       "      <th>Domain Code</th>\n",
       "      <th>Domain</th>\n",
       "      <th>Area Code (M49)</th>\n",
       "      <th>Area</th>\n",
       "      <th>Element Code</th>\n",
       "      <th>Element</th>\n",
       "      <th>Item Code (CPC)</th>\n",
       "      <th>Item</th>\n",
       "      <th>Year Code</th>\n",
       "      <th>Year</th>\n",
       "      <th>Unit</th>\n",
       "      <th>Value</th>\n",
       "      <th>Flag</th>\n",
       "      <th>Flag Description</th>\n",
       "    </tr>\n",
       "  </thead>\n",
       "  <tbody>\n",
       "    <tr>\n",
       "      <th>0</th>\n",
       "      <td>QCL</td>\n",
       "      <td>Crops and livestock products</td>\n",
       "      <td>40</td>\n",
       "      <td>Austria</td>\n",
       "      <td>5111</td>\n",
       "      <td>Stocks</td>\n",
       "      <td>2111</td>\n",
       "      <td>Cattle</td>\n",
       "      <td>1961</td>\n",
       "      <td>1961</td>\n",
       "      <td>Head</td>\n",
       "      <td>2386761.0</td>\n",
       "      <td>A</td>\n",
       "      <td>Official figure</td>\n",
       "    </tr>\n",
       "    <tr>\n",
       "      <th>1</th>\n",
       "      <td>QCL</td>\n",
       "      <td>Crops and livestock products</td>\n",
       "      <td>40</td>\n",
       "      <td>Austria</td>\n",
       "      <td>5111</td>\n",
       "      <td>Stocks</td>\n",
       "      <td>2111</td>\n",
       "      <td>Cattle</td>\n",
       "      <td>1962</td>\n",
       "      <td>1962</td>\n",
       "      <td>Head</td>\n",
       "      <td>2456557.0</td>\n",
       "      <td>A</td>\n",
       "      <td>Official figure</td>\n",
       "    </tr>\n",
       "    <tr>\n",
       "      <th>2</th>\n",
       "      <td>QCL</td>\n",
       "      <td>Crops and livestock products</td>\n",
       "      <td>40</td>\n",
       "      <td>Austria</td>\n",
       "      <td>5111</td>\n",
       "      <td>Stocks</td>\n",
       "      <td>2111</td>\n",
       "      <td>Cattle</td>\n",
       "      <td>1963</td>\n",
       "      <td>1963</td>\n",
       "      <td>Head</td>\n",
       "      <td>2437123.0</td>\n",
       "      <td>A</td>\n",
       "      <td>Official figure</td>\n",
       "    </tr>\n",
       "    <tr>\n",
       "      <th>3</th>\n",
       "      <td>QCL</td>\n",
       "      <td>Crops and livestock products</td>\n",
       "      <td>40</td>\n",
       "      <td>Austria</td>\n",
       "      <td>5111</td>\n",
       "      <td>Stocks</td>\n",
       "      <td>2111</td>\n",
       "      <td>Cattle</td>\n",
       "      <td>1964</td>\n",
       "      <td>1964</td>\n",
       "      <td>Head</td>\n",
       "      <td>2310667.0</td>\n",
       "      <td>A</td>\n",
       "      <td>Official figure</td>\n",
       "    </tr>\n",
       "    <tr>\n",
       "      <th>4</th>\n",
       "      <td>QCL</td>\n",
       "      <td>Crops and livestock products</td>\n",
       "      <td>40</td>\n",
       "      <td>Austria</td>\n",
       "      <td>5111</td>\n",
       "      <td>Stocks</td>\n",
       "      <td>2111</td>\n",
       "      <td>Cattle</td>\n",
       "      <td>1965</td>\n",
       "      <td>1965</td>\n",
       "      <td>Head</td>\n",
       "      <td>2350269.0</td>\n",
       "      <td>A</td>\n",
       "      <td>Official figure</td>\n",
       "    </tr>\n",
       "  </tbody>\n",
       "</table>\n",
       "</div>"
      ],
      "text/plain": [
       "  Domain Code                        Domain  Area Code (M49)     Area  \\\n",
       "0         QCL  Crops and livestock products               40  Austria   \n",
       "1         QCL  Crops and livestock products               40  Austria   \n",
       "2         QCL  Crops and livestock products               40  Austria   \n",
       "3         QCL  Crops and livestock products               40  Austria   \n",
       "4         QCL  Crops and livestock products               40  Austria   \n",
       "\n",
       "   Element Code Element  Item Code (CPC)    Item  Year Code  Year  Unit  \\\n",
       "0          5111  Stocks             2111  Cattle       1961  1961  Head   \n",
       "1          5111  Stocks             2111  Cattle       1962  1962  Head   \n",
       "2          5111  Stocks             2111  Cattle       1963  1963  Head   \n",
       "3          5111  Stocks             2111  Cattle       1964  1964  Head   \n",
       "4          5111  Stocks             2111  Cattle       1965  1965  Head   \n",
       "\n",
       "       Value Flag Flag Description  \n",
       "0  2386761.0    A  Official figure  \n",
       "1  2456557.0    A  Official figure  \n",
       "2  2437123.0    A  Official figure  \n",
       "3  2310667.0    A  Official figure  \n",
       "4  2350269.0    A  Official figure  "
      ]
     },
     "execution_count": 2,
     "metadata": {},
     "output_type": "execute_result"
    }
   ],
   "source": [
    "\"\"\"\n",
    "Become aquainted with data structure management system\n",
    "\"\"\"\n",
    "print(os.getcwd()) # working directory.\n",
    "print(os.listdir('.')) #List current directory\n",
    "print(os.listdir('raw')) # Our source files from FAOSTAT are in 'data' folder\n",
    "df = pd.read_csv('raw/stocks.csv') # read  stock CSV file  df\n",
    "print(df.shape) # Inspect the dimensions of the dataset (number of rows and columns). (1708, 14)\n",
    "print(df.dtypes)\n",
    "#Check for missing values \n",
    "print(df.nunique()) #  We have 28  country/ regions repoorting and 61 years of data\n",
    "df[['Flag', 'Flag Description']].drop_duplicates() \n",
    "missing_df=df.isnull().sum()\n",
    "missing = missing_df.values  #NumPy array\n",
    "missing_df.to_csv('clean/missing.csv', index=False)\n",
    "np.save('clean/missing.npy', missing)\n",
    "print(df.isnull().sum()) #  Check for missing values throughout df and shows 319 cases\n",
    "df.head() #: returns the first few rows of the DataFrame indicating many fields may be invariant and reduntant"
   ]
  },
  {
   "cell_type": "markdown",
   "metadata": {},
   "source": [
    "## Why do we have one more area than expected?\n",
    "Belgium and Luxembourg used to act as an economic union called 'BELUX'\n",
    "This extended at times to Belgium, the Netherlands, and Luxembourg collectively termedd  'Benelux' \n",
    "\n",
    "\n",
    "The unique() method returns an array of unique values in the order in which they appear in the original DataFrame column. In this case, the array contains all the unique values in the \"Area\" column.\n",
    "\n",
    "After executing the statement, the resulting array is assigned to a variable called areasEu.\n",
    "\n",
    "\n",
    "Belgium-Luxembourg started reporting beef stocks independently in 2000\n",
    "As part of the BLEU,  1999. After 1999, they started reporting independently.\n",
    "We zoom in on the df around 2000 and compare the three countries by plot with the Netherland s now acting as an exemplar of the rest of the coutries"
   ]
  },
  {
   "cell_type": "code",
   "execution_count": 3,
   "metadata": {},
   "outputs": [
    {
     "name": "stdout",
     "output_type": "stream",
     "text": [
      "['Austria' 'Belgium' 'Belgium-Luxembourg' 'Bulgaria' 'Croatia' 'Cyprus'\n",
      " 'Czechia' 'Denmark' 'Estonia' 'Finland' 'France' 'Germany' 'Greece'\n",
      " 'Hungary' 'Ireland' 'Italy' 'Latvia' 'Lithuania' 'Luxembourg' 'Malta'\n",
      " 'Netherlands' 'Poland' 'Portugal' 'Romania' 'Slovakia' 'Slovenia' 'Spain'\n",
      " 'Sweden']\n"
     ]
    },
    {
     "data": {
      "text/html": [
       "<div>\n",
       "<style scoped>\n",
       "    .dataframe tbody tr th:only-of-type {\n",
       "        vertical-align: middle;\n",
       "    }\n",
       "\n",
       "    .dataframe tbody tr th {\n",
       "        vertical-align: top;\n",
       "    }\n",
       "\n",
       "    .dataframe thead th {\n",
       "        text-align: right;\n",
       "    }\n",
       "</style>\n",
       "<table border=\"1\" class=\"dataframe\">\n",
       "  <thead>\n",
       "    <tr style=\"text-align: right;\">\n",
       "      <th></th>\n",
       "      <th>Domain Code</th>\n",
       "      <th>Domain</th>\n",
       "      <th>Area Code (M49)</th>\n",
       "      <th>Area</th>\n",
       "      <th>Element Code</th>\n",
       "      <th>Element</th>\n",
       "      <th>Item Code (CPC)</th>\n",
       "      <th>Item</th>\n",
       "      <th>Year Code</th>\n",
       "      <th>Year</th>\n",
       "      <th>Unit</th>\n",
       "      <th>Value</th>\n",
       "      <th>Flag</th>\n",
       "      <th>Flag Description</th>\n",
       "    </tr>\n",
       "  </thead>\n",
       "  <tbody>\n",
       "    <tr>\n",
       "      <th>1258</th>\n",
       "      <td>QCL</td>\n",
       "      <td>Crops and livestock products</td>\n",
       "      <td>528</td>\n",
       "      <td>Netherlands</td>\n",
       "      <td>5111</td>\n",
       "      <td>Stocks</td>\n",
       "      <td>2111</td>\n",
       "      <td>Cattle</td>\n",
       "      <td>1999</td>\n",
       "      <td>1999</td>\n",
       "      <td>Head</td>\n",
       "      <td>4206000.0</td>\n",
       "      <td>A</td>\n",
       "      <td>Official figure</td>\n",
       "    </tr>\n",
       "    <tr>\n",
       "      <th>80</th>\n",
       "      <td>QCL</td>\n",
       "      <td>Crops and livestock products</td>\n",
       "      <td>56</td>\n",
       "      <td>Belgium</td>\n",
       "      <td>5111</td>\n",
       "      <td>Stocks</td>\n",
       "      <td>2111</td>\n",
       "      <td>Cattle</td>\n",
       "      <td>1980</td>\n",
       "      <td>1980</td>\n",
       "      <td>NaN</td>\n",
       "      <td>NaN</td>\n",
       "      <td>NaN</td>\n",
       "      <td>NaN</td>\n",
       "    </tr>\n",
       "    <tr>\n",
       "      <th>65</th>\n",
       "      <td>QCL</td>\n",
       "      <td>Crops and livestock products</td>\n",
       "      <td>56</td>\n",
       "      <td>Belgium</td>\n",
       "      <td>5111</td>\n",
       "      <td>Stocks</td>\n",
       "      <td>2111</td>\n",
       "      <td>Cattle</td>\n",
       "      <td>1965</td>\n",
       "      <td>1965</td>\n",
       "      <td>NaN</td>\n",
       "      <td>NaN</td>\n",
       "      <td>NaN</td>\n",
       "      <td>NaN</td>\n",
       "    </tr>\n",
       "    <tr>\n",
       "      <th>133</th>\n",
       "      <td>QCL</td>\n",
       "      <td>Crops and livestock products</td>\n",
       "      <td>58</td>\n",
       "      <td>Belgium-Luxembourg</td>\n",
       "      <td>5111</td>\n",
       "      <td>Stocks</td>\n",
       "      <td>2111</td>\n",
       "      <td>Cattle</td>\n",
       "      <td>1972</td>\n",
       "      <td>1972</td>\n",
       "      <td>Head</td>\n",
       "      <td>2829000.0</td>\n",
       "      <td>A</td>\n",
       "      <td>Official figure</td>\n",
       "    </tr>\n",
       "    <tr>\n",
       "      <th>150</th>\n",
       "      <td>QCL</td>\n",
       "      <td>Crops and livestock products</td>\n",
       "      <td>58</td>\n",
       "      <td>Belgium-Luxembourg</td>\n",
       "      <td>5111</td>\n",
       "      <td>Stocks</td>\n",
       "      <td>2111</td>\n",
       "      <td>Cattle</td>\n",
       "      <td>1989</td>\n",
       "      <td>1989</td>\n",
       "      <td>Head</td>\n",
       "      <td>3174000.0</td>\n",
       "      <td>A</td>\n",
       "      <td>Official figure</td>\n",
       "    </tr>\n",
       "  </tbody>\n",
       "</table>\n",
       "</div>"
      ],
      "text/plain": [
       "     Domain Code                        Domain  Area Code (M49)  \\\n",
       "1258         QCL  Crops and livestock products              528   \n",
       "80           QCL  Crops and livestock products               56   \n",
       "65           QCL  Crops and livestock products               56   \n",
       "133          QCL  Crops and livestock products               58   \n",
       "150          QCL  Crops and livestock products               58   \n",
       "\n",
       "                    Area  Element Code Element  Item Code (CPC)    Item  \\\n",
       "1258         Netherlands          5111  Stocks             2111  Cattle   \n",
       "80               Belgium          5111  Stocks             2111  Cattle   \n",
       "65               Belgium          5111  Stocks             2111  Cattle   \n",
       "133   Belgium-Luxembourg          5111  Stocks             2111  Cattle   \n",
       "150   Belgium-Luxembourg          5111  Stocks             2111  Cattle   \n",
       "\n",
       "      Year Code  Year  Unit      Value Flag Flag Description  \n",
       "1258       1999  1999  Head  4206000.0    A  Official figure  \n",
       "80         1980  1980   NaN        NaN  NaN              NaN  \n",
       "65         1965  1965   NaN        NaN  NaN              NaN  \n",
       "133        1972  1972  Head  2829000.0    A  Official figure  \n",
       "150        1989  1989  Head  3174000.0    A  Official figure  "
      ]
     },
     "execution_count": 3,
     "metadata": {},
     "output_type": "execute_result"
    }
   ],
   "source": [
    "# Define an 'areas'  array\n",
    "areas = df['Area'].unique() #  one-dimensional NumPy array\n",
    "# print the areas array\n",
    "print(areas)\n",
    "# Save the array to a file\n",
    "np.save('clean/areas.npy', areas)\n",
    "# Convert the 'areas' array to areas_df DataFrame \n",
    "areas_df = pd.DataFrame({'Area':areas})\n",
    "areas_df.to_csv('cleanareas.csv')\n",
    "# and take a look to discover BELUX anomoly\n",
    "belux_df=df[df['Area'].isin(['Belgium-Luxembourg', 'Belgium', 'Luxembourg'])]\n",
    "benelux_df = df[df['Area'].isin(['Belgium-Luxembourg', 'Belgium', 'Luxembourg', 'Netherlands'])]\n",
    "benelux_df.sample(5) "
   ]
  },
  {
   "cell_type": "markdown",
   "metadata": {},
   "source": [
    "\n",
    "## Investigate historical  cattle stock reporting in the BENELUX and   BELUX union areas\n",
    "We discovered above that there were 28 unique entries for \"Area\" despite there being only 27 EU countries. Further investigation beloe reveals that Belgium and Luxembourg reported economic data as one region but the Netherlands who also participated in an economic union with  Belgium and Luxembourg known collectively as Benelux reported cattle stock independantly as did all other 24 EU countries. To ensure a focussed investigation, we will filter the DataFrame to only include data from these three countries and use the pivot() method in pandas to reshape the DataFrame and compare reporting practice patterns between all three. The conclusion will be that: The  Netherlands reported cattle stock independently for all 61 years of our research interval, while Belgium \n",
    "and Luxembourg reported collectively as the Benelux region from 1961 to 1999 when they split and started reporting individually."
   ]
  },
  {
   "cell_type": "code",
   "execution_count": 4,
   "metadata": {},
   "outputs": [],
   "source": [
    "# Reshape the DataFrame with pivot()\n",
    "beluxPivot_df = belux_df.pivot(index='Year', columns='Area', values='Value')\n",
    "# Reshape the DataFrame with pivot()\n",
    "beneluxPivot_df = benelux_df.pivot(index='Year', columns='Area', values='Value')\n",
    "# Rename the columns of the pivot table\n",
    "beluxPivot=beluxPivot_df.columns = ['{}_stock'.format(col.replace(' ', '_')) for col in beluxPivot_df.columns]\n",
    "# Rename the columns of the pivot table\n",
    "beneluxPivot=beneluxPivot_df.columns = ['{}_stock'.format(col.replace(' ', '_')) for col in beneluxPivot_df.columns]"
   ]
  },
  {
   "cell_type": "code",
   "execution_count": 5,
   "metadata": {
    "scrolled": true
   },
   "outputs": [],
   "source": [
    "\n",
    "# Write all 4 CSV file\n",
    "beneluxPivot_df.to_csv('clean/beneluxPivot.csv', index=False)\n",
    "beluxPivot_df.to_csv('clean/beluxPivot.csv', index=False)\n",
    "np.save('clean/beneluxPivot.npy', beneluxPivot)\n",
    "beneluxPivot_df.to_csv('clean/beneluxPivot.csv', index=False)"
   ]
  },
  {
   "cell_type": "code",
   "execution_count": 6,
   "metadata": {},
   "outputs": [
    {
     "name": "stdout",
     "output_type": "stream",
     "text": [
      "['arch', 'areas.npy', 'AreasEU.csv', 'beluxPivot.csv', 'beneluxPivot.csv', 'beneluxPivot.npy', 'benelux_pivot.csv', 'cattle_stocks.csv', 'missing.csv', 'missing.npy', 'nutrient2002', 'nutrient2002.csv', 'orderedstock.csv', 'rain.csv', 'stock.csv', 'temperature.csv', 'topstock.txt', 'top_10_countries_stock.csv', 'top_countries.txt', 'top_countries_stock.csv']\n"
     ]
    },
    {
     "data": {
      "text/html": [
       "<div>\n",
       "<style scoped>\n",
       "    .dataframe tbody tr th:only-of-type {\n",
       "        vertical-align: middle;\n",
       "    }\n",
       "\n",
       "    .dataframe tbody tr th {\n",
       "        vertical-align: top;\n",
       "    }\n",
       "\n",
       "    .dataframe thead th {\n",
       "        text-align: right;\n",
       "    }\n",
       "</style>\n",
       "<table border=\"1\" class=\"dataframe\">\n",
       "  <thead>\n",
       "    <tr style=\"text-align: right;\">\n",
       "      <th></th>\n",
       "      <th>Belgium_stock</th>\n",
       "      <th>Belgium-Luxembourg_stock</th>\n",
       "      <th>Luxembourg_stock</th>\n",
       "      <th>Netherlands_stock</th>\n",
       "    </tr>\n",
       "    <tr>\n",
       "      <th>Year</th>\n",
       "      <th></th>\n",
       "      <th></th>\n",
       "      <th></th>\n",
       "      <th></th>\n",
       "    </tr>\n",
       "  </thead>\n",
       "  <tbody>\n",
       "    <tr>\n",
       "      <th>1961</th>\n",
       "      <td>NaN</td>\n",
       "      <td>2684120.0</td>\n",
       "      <td>NaN</td>\n",
       "      <td>3622588.0</td>\n",
       "    </tr>\n",
       "    <tr>\n",
       "      <th>1962</th>\n",
       "      <td>NaN</td>\n",
       "      <td>2798130.0</td>\n",
       "      <td>NaN</td>\n",
       "      <td>3816942.0</td>\n",
       "    </tr>\n",
       "    <tr>\n",
       "      <th>1963</th>\n",
       "      <td>NaN</td>\n",
       "      <td>2847478.0</td>\n",
       "      <td>NaN</td>\n",
       "      <td>3695185.0</td>\n",
       "    </tr>\n",
       "    <tr>\n",
       "      <th>1964</th>\n",
       "      <td>NaN</td>\n",
       "      <td>2641407.0</td>\n",
       "      <td>NaN</td>\n",
       "      <td>3567379.0</td>\n",
       "    </tr>\n",
       "    <tr>\n",
       "      <th>1965</th>\n",
       "      <td>NaN</td>\n",
       "      <td>2685510.0</td>\n",
       "      <td>NaN</td>\n",
       "      <td>3750629.0</td>\n",
       "    </tr>\n",
       "    <tr>\n",
       "      <th>...</th>\n",
       "      <td>...</td>\n",
       "      <td>...</td>\n",
       "      <td>...</td>\n",
       "      <td>...</td>\n",
       "    </tr>\n",
       "    <tr>\n",
       "      <th>2017</th>\n",
       "      <td>2385988.0</td>\n",
       "      <td>NaN</td>\n",
       "      <td>202281.0</td>\n",
       "      <td>4030000.0</td>\n",
       "    </tr>\n",
       "    <tr>\n",
       "      <th>2018</th>\n",
       "      <td>2398090.0</td>\n",
       "      <td>NaN</td>\n",
       "      <td>194390.0</td>\n",
       "      <td>3690000.0</td>\n",
       "    </tr>\n",
       "    <tr>\n",
       "      <th>2019</th>\n",
       "      <td>2373100.0</td>\n",
       "      <td>NaN</td>\n",
       "      <td>192100.0</td>\n",
       "      <td>3721000.0</td>\n",
       "    </tr>\n",
       "    <tr>\n",
       "      <th>2020</th>\n",
       "      <td>2335440.0</td>\n",
       "      <td>NaN</td>\n",
       "      <td>190690.0</td>\n",
       "      <td>3691000.0</td>\n",
       "    </tr>\n",
       "    <tr>\n",
       "      <th>2021</th>\n",
       "      <td>2310440.0</td>\n",
       "      <td>NaN</td>\n",
       "      <td>187200.0</td>\n",
       "      <td>3705000.0</td>\n",
       "    </tr>\n",
       "  </tbody>\n",
       "</table>\n",
       "<p>61 rows × 4 columns</p>\n",
       "</div>"
      ],
      "text/plain": [
       "      Belgium_stock  Belgium-Luxembourg_stock  Luxembourg_stock  \\\n",
       "Year                                                              \n",
       "1961            NaN                 2684120.0               NaN   \n",
       "1962            NaN                 2798130.0               NaN   \n",
       "1963            NaN                 2847478.0               NaN   \n",
       "1964            NaN                 2641407.0               NaN   \n",
       "1965            NaN                 2685510.0               NaN   \n",
       "...             ...                       ...               ...   \n",
       "2017      2385988.0                       NaN          202281.0   \n",
       "2018      2398090.0                       NaN          194390.0   \n",
       "2019      2373100.0                       NaN          192100.0   \n",
       "2020      2335440.0                       NaN          190690.0   \n",
       "2021      2310440.0                       NaN          187200.0   \n",
       "\n",
       "      Netherlands_stock  \n",
       "Year                     \n",
       "1961          3622588.0  \n",
       "1962          3816942.0  \n",
       "1963          3695185.0  \n",
       "1964          3567379.0  \n",
       "1965          3750629.0  \n",
       "...                 ...  \n",
       "2017          4030000.0  \n",
       "2018          3690000.0  \n",
       "2019          3721000.0  \n",
       "2020          3691000.0  \n",
       "2021          3705000.0  \n",
       "\n",
       "[61 rows x 4 columns]"
      ]
     },
     "execution_count": 6,
     "metadata": {},
     "output_type": "execute_result"
    }
   ],
   "source": [
    "print(os.listdir('clean'))\n",
    "beneluxPivot_df"
   ]
  },
  {
   "cell_type": "code",
   "execution_count": 7,
   "metadata": {},
   "outputs": [
    {
     "data": {
      "text/html": [
       "<div>\n",
       "<style scoped>\n",
       "    .dataframe tbody tr th:only-of-type {\n",
       "        vertical-align: middle;\n",
       "    }\n",
       "\n",
       "    .dataframe tbody tr th {\n",
       "        vertical-align: top;\n",
       "    }\n",
       "\n",
       "    .dataframe thead th {\n",
       "        text-align: right;\n",
       "    }\n",
       "</style>\n",
       "<table border=\"1\" class=\"dataframe\">\n",
       "  <thead>\n",
       "    <tr style=\"text-align: right;\">\n",
       "      <th></th>\n",
       "      <th>Belgium_stock</th>\n",
       "      <th>Belgium-Luxembourg_stock</th>\n",
       "      <th>Luxembourg_stock</th>\n",
       "      <th>Netherlands_stock</th>\n",
       "    </tr>\n",
       "    <tr>\n",
       "      <th>Year</th>\n",
       "      <th></th>\n",
       "      <th></th>\n",
       "      <th></th>\n",
       "      <th></th>\n",
       "    </tr>\n",
       "  </thead>\n",
       "  <tbody>\n",
       "    <tr>\n",
       "      <th>1997</th>\n",
       "      <td>NaN</td>\n",
       "      <td>3280000.0</td>\n",
       "      <td>NaN</td>\n",
       "      <td>4411000.0</td>\n",
       "    </tr>\n",
       "    <tr>\n",
       "      <th>1998</th>\n",
       "      <td>NaN</td>\n",
       "      <td>3184000.0</td>\n",
       "      <td>NaN</td>\n",
       "      <td>4283000.0</td>\n",
       "    </tr>\n",
       "    <tr>\n",
       "      <th>1999</th>\n",
       "      <td>NaN</td>\n",
       "      <td>3395000.0</td>\n",
       "      <td>NaN</td>\n",
       "      <td>4206000.0</td>\n",
       "    </tr>\n",
       "    <tr>\n",
       "      <th>2000</th>\n",
       "      <td>3041560.0</td>\n",
       "      <td>NaN</td>\n",
       "      <td>205072.0</td>\n",
       "      <td>4070000.0</td>\n",
       "    </tr>\n",
       "    <tr>\n",
       "      <th>2001</th>\n",
       "      <td>3037760.0</td>\n",
       "      <td>NaN</td>\n",
       "      <td>205193.0</td>\n",
       "      <td>4047000.0</td>\n",
       "    </tr>\n",
       "    <tr>\n",
       "      <th>2002</th>\n",
       "      <td>2891260.0</td>\n",
       "      <td>NaN</td>\n",
       "      <td>197257.0</td>\n",
       "      <td>3858000.0</td>\n",
       "    </tr>\n",
       "  </tbody>\n",
       "</table>\n",
       "</div>"
      ],
      "text/plain": [
       "      Belgium_stock  Belgium-Luxembourg_stock  Luxembourg_stock  \\\n",
       "Year                                                              \n",
       "1997            NaN                 3280000.0               NaN   \n",
       "1998            NaN                 3184000.0               NaN   \n",
       "1999            NaN                 3395000.0               NaN   \n",
       "2000      3041560.0                       NaN          205072.0   \n",
       "2001      3037760.0                       NaN          205193.0   \n",
       "2002      2891260.0                       NaN          197257.0   \n",
       "\n",
       "      Netherlands_stock  \n",
       "Year                     \n",
       "1997          4411000.0  \n",
       "1998          4283000.0  \n",
       "1999          4206000.0  \n",
       "2000          4070000.0  \n",
       "2001          4047000.0  \n",
       "2002          3858000.0  "
      ]
     },
     "execution_count": 7,
     "metadata": {},
     "output_type": "execute_result"
    }
   ],
   "source": [
    "benelux_1997_2002_df = beneluxPivot_df.loc['1997':'2003']\n",
    "benelux_1997_2002_df.head(6)"
   ]
  },
  {
   "cell_type": "code",
   "execution_count": 8,
   "metadata": {},
   "outputs": [
    {
     "data": {
      "image/png": "[encoded data removed]",
      "text/plain": [
       "<Figure size 640x480 with 1 Axes>"
      ]
     },
     "metadata": {},
     "output_type": "display_data"
    }
   ],
   "source": [
    "\"\"\"This block of code creates a stacked bar chart using Matplotlib \n",
    "to visualize the cattle stock in the Benelux region by country and year.\"\"\"\n",
    "\n",
    "fig, ax = plt.subplots()\n",
    "\n",
    "beneluxPivot_df.plot(kind='bar', stacked=True, ax=ax)\n",
    "\n",
    "ax.set_xlabel('Year')\n",
    "ax.set_ylabel('Cattle Stock')\n",
    "ax.set_title('Cattle Stock by Country and Year')\n",
    "\n",
    "plt.show()"
   ]
  },
  {
   "cell_type": "markdown",
   "metadata": {},
   "source": [
    "## Revise a research question to more recent years of 2000-2021\n",
    "\n",
    "We  update the time frame of the researh  to 2000 to 2021 completely mitihgating against any need to fill missing data in Luxemburg and Belbium to approximate shares of the BELUX stock reports for these years.\n",
    "\n",
    "How has Ireland's beef sector performed compared to the EU 27 countries since 2000, and can we forecast future prices using this historical data? Additionally, what can we learn from sentiment analysis of the beef industry during this time period? By focusing on data from 2000 onwards, we can better capture the current state of the beef industry and make more relevant predictions about future trends. At the end of 1999, the Benelux union ceased to report beef stock data as a single entity, as each member country began reporting its data individually. This change reflected the increasing economic development and growth of the individual countries within the union. This not only created the data reason for us to only researh the 21st era but it also provides a fiscal reason for the refining of the researh question."
   ]
  },
  {
   "cell_type": "markdown",
   "metadata": {},
   "source": [
    "## Update the time frame of our main Dataframe df\n",
    "Apart from solving the BELUX data cleaning problem recasting the research question to 2000-2021 acknowledges\n",
    " that \n",
    "farming in the 20th centuary was significantly different than from now so dropping this old data makes the data we keep more  relevant  for modelling current multivariate trends and predicting future trends along with suggested mittigations.\n",
    "\n",
    "\n",
    "\n",
    "By fixing our **BELUX** problem the estimation and unoffial stock reportig flags hae also dissapeared and we have killed two birds with the one stone so to speak! We will also do some relabelling and reduce dimesionality based on nvariant data.\n",
    "\n",
    "The df.nunique() method to identify invariant data\n",
    "The df.nunique() method returns the number of unique values in each column of our beef stocks data. This isuseful for identifying columns that have only one value like the **Domain** which is **Crops and livestock products**. All of this invariant data is redundant data that can be dropped to reduce the size of the DataFrame or improve the performance of data analyses. Note the Element header had **Stock** as every value and this was useful in that we used it to rename the Value field. It no longer of any use and gets the chop. selecting a subset of columns from a Pandas DataFrame. Selecting a  relatively small subset of columns is useful when you are keeping less than half of the fields.\n",
    "\n"
   ]
  },
  {
   "cell_type": "code",
   "execution_count": 9,
   "metadata": {
    "scrolled": true
   },
   "outputs": [
    {
     "name": "stdout",
     "output_type": "stream",
     "text": [
      "(594, 14)\n"
     ]
    },
    {
     "data": {
      "text/plain": [
       "Domain Code           1\n",
       "Domain                1\n",
       "Area Code (M49)      27\n",
       "Country              27\n",
       "Element Code          1\n",
       "Element               1\n",
       "Item Code (CPC)       1\n",
       "Item                  1\n",
       "Year Code            22\n",
       "Year                 22\n",
       "Unit                  1\n",
       "Stock               592\n",
       "Flag                  1\n",
       "Flag Description      1\n",
       "dtype: int64"
      ]
     },
     "execution_count": 9,
     "metadata": {},
     "output_type": "execute_result"
    }
   ],
   "source": [
    "\"\"\"Creats a new DataFrame with Year>=2000 and keeps old  familiar name df\"\"\"\n",
    "df = df[df['Year'] >= 2000]\n",
    "df = df.loc[df['Area'] != 'Belgium-Luxembourg'] #Exclude 'Belgium-Luxembourg' from the 'Area' column in df.\n",
    "df = df.rename(columns={'Value': 'Stock', 'Area': 'Country'}) #Renamed 'Value' column to 'Stocks' and Area column to Country.\n",
    "print(df.shape)\n",
    "#Check the revised df for  missing values \n",
    "df.nunique() #  The df.nunique() method reveals 27 areas"
   ]
  },
  {
   "cell_type": "code",
   "execution_count": 10,
   "metadata": {
    "scrolled": true
   },
   "outputs": [
    {
     "data": {
      "text/html": [
       "<div>\n",
       "<style scoped>\n",
       "    .dataframe tbody tr th:only-of-type {\n",
       "        vertical-align: middle;\n",
       "    }\n",
       "\n",
       "    .dataframe tbody tr th {\n",
       "        vertical-align: top;\n",
       "    }\n",
       "\n",
       "    .dataframe thead th {\n",
       "        text-align: right;\n",
       "    }\n",
       "</style>\n",
       "<table border=\"1\" class=\"dataframe\">\n",
       "  <thead>\n",
       "    <tr style=\"text-align: right;\">\n",
       "      <th></th>\n",
       "      <th>Domain Code</th>\n",
       "      <th>Domain</th>\n",
       "      <th>Area Code (M49)</th>\n",
       "      <th>Country</th>\n",
       "      <th>Element Code</th>\n",
       "      <th>Element</th>\n",
       "      <th>Item Code (CPC)</th>\n",
       "      <th>Item</th>\n",
       "      <th>Year Code</th>\n",
       "      <th>Year</th>\n",
       "      <th>Unit</th>\n",
       "      <th>Stock</th>\n",
       "      <th>Flag</th>\n",
       "      <th>Flag Description</th>\n",
       "    </tr>\n",
       "  </thead>\n",
       "  <tbody>\n",
       "    <tr>\n",
       "      <th>39</th>\n",
       "      <td>QCL</td>\n",
       "      <td>Crops and livestock products</td>\n",
       "      <td>40</td>\n",
       "      <td>Austria</td>\n",
       "      <td>5111</td>\n",
       "      <td>Stocks</td>\n",
       "      <td>2111</td>\n",
       "      <td>Cattle</td>\n",
       "      <td>2000</td>\n",
       "      <td>2000</td>\n",
       "      <td>Head</td>\n",
       "      <td>2152811.0</td>\n",
       "      <td>A</td>\n",
       "      <td>Official figure</td>\n",
       "    </tr>\n",
       "    <tr>\n",
       "      <th>40</th>\n",
       "      <td>QCL</td>\n",
       "      <td>Crops and livestock products</td>\n",
       "      <td>40</td>\n",
       "      <td>Austria</td>\n",
       "      <td>5111</td>\n",
       "      <td>Stocks</td>\n",
       "      <td>2111</td>\n",
       "      <td>Cattle</td>\n",
       "      <td>2001</td>\n",
       "      <td>2001</td>\n",
       "      <td>Head</td>\n",
       "      <td>2155447.0</td>\n",
       "      <td>A</td>\n",
       "      <td>Official figure</td>\n",
       "    </tr>\n",
       "    <tr>\n",
       "      <th>41</th>\n",
       "      <td>QCL</td>\n",
       "      <td>Crops and livestock products</td>\n",
       "      <td>40</td>\n",
       "      <td>Austria</td>\n",
       "      <td>5111</td>\n",
       "      <td>Stocks</td>\n",
       "      <td>2111</td>\n",
       "      <td>Cattle</td>\n",
       "      <td>2002</td>\n",
       "      <td>2002</td>\n",
       "      <td>Head</td>\n",
       "      <td>2118454.0</td>\n",
       "      <td>A</td>\n",
       "      <td>Official figure</td>\n",
       "    </tr>\n",
       "    <tr>\n",
       "      <th>42</th>\n",
       "      <td>QCL</td>\n",
       "      <td>Crops and livestock products</td>\n",
       "      <td>40</td>\n",
       "      <td>Austria</td>\n",
       "      <td>5111</td>\n",
       "      <td>Stocks</td>\n",
       "      <td>2111</td>\n",
       "      <td>Cattle</td>\n",
       "      <td>2003</td>\n",
       "      <td>2003</td>\n",
       "      <td>Head</td>\n",
       "      <td>2066942.0</td>\n",
       "      <td>A</td>\n",
       "      <td>Official figure</td>\n",
       "    </tr>\n",
       "    <tr>\n",
       "      <th>43</th>\n",
       "      <td>QCL</td>\n",
       "      <td>Crops and livestock products</td>\n",
       "      <td>40</td>\n",
       "      <td>Austria</td>\n",
       "      <td>5111</td>\n",
       "      <td>Stocks</td>\n",
       "      <td>2111</td>\n",
       "      <td>Cattle</td>\n",
       "      <td>2004</td>\n",
       "      <td>2004</td>\n",
       "      <td>Head</td>\n",
       "      <td>2052033.0</td>\n",
       "      <td>A</td>\n",
       "      <td>Official figure</td>\n",
       "    </tr>\n",
       "  </tbody>\n",
       "</table>\n",
       "</div>"
      ],
      "text/plain": [
       "   Domain Code                        Domain  Area Code (M49)  Country  \\\n",
       "39         QCL  Crops and livestock products               40  Austria   \n",
       "40         QCL  Crops and livestock products               40  Austria   \n",
       "41         QCL  Crops and livestock products               40  Austria   \n",
       "42         QCL  Crops and livestock products               40  Austria   \n",
       "43         QCL  Crops and livestock products               40  Austria   \n",
       "\n",
       "    Element Code Element  Item Code (CPC)    Item  Year Code  Year  Unit  \\\n",
       "39          5111  Stocks             2111  Cattle       2000  2000  Head   \n",
       "40          5111  Stocks             2111  Cattle       2001  2001  Head   \n",
       "41          5111  Stocks             2111  Cattle       2002  2002  Head   \n",
       "42          5111  Stocks             2111  Cattle       2003  2003  Head   \n",
       "43          5111  Stocks             2111  Cattle       2004  2004  Head   \n",
       "\n",
       "        Stock Flag Flag Description  \n",
       "39  2152811.0    A  Official figure  \n",
       "40  2155447.0    A  Official figure  \n",
       "41  2118454.0    A  Official figure  \n",
       "42  2066942.0    A  Official figure  \n",
       "43  2052033.0    A  Official figure  "
      ]
     },
     "execution_count": 10,
     "metadata": {},
     "output_type": "execute_result"
    }
   ],
   "source": [
    "df.head() # Check that  filtering and renaming worked correctly"
   ]
  },
  {
   "cell_type": "code",
   "execution_count": 11,
   "metadata": {},
   "outputs": [],
   "source": [
    "df = df[[\"Country\", \"Year\", \"Stock\", \"Flag\", \"Flag Description\"]] # Easier to stipulate what we keep "
   ]
  },
  {
   "cell_type": "code",
   "execution_count": 12,
   "metadata": {},
   "outputs": [
    {
     "data": {
      "text/html": [
       "<div>\n",
       "<style scoped>\n",
       "    .dataframe tbody tr th:only-of-type {\n",
       "        vertical-align: middle;\n",
       "    }\n",
       "\n",
       "    .dataframe tbody tr th {\n",
       "        vertical-align: top;\n",
       "    }\n",
       "\n",
       "    .dataframe thead th {\n",
       "        text-align: right;\n",
       "    }\n",
       "</style>\n",
       "<table border=\"1\" class=\"dataframe\">\n",
       "  <thead>\n",
       "    <tr style=\"text-align: right;\">\n",
       "      <th></th>\n",
       "      <th>Country</th>\n",
       "      <th>Year</th>\n",
       "      <th>Stock</th>\n",
       "      <th>Flag</th>\n",
       "      <th>Flag Description</th>\n",
       "    </tr>\n",
       "  </thead>\n",
       "  <tbody>\n",
       "    <tr>\n",
       "      <th>1703</th>\n",
       "      <td>Sweden</td>\n",
       "      <td>2017</td>\n",
       "      <td>1448590.0</td>\n",
       "      <td>A</td>\n",
       "      <td>Official figure</td>\n",
       "    </tr>\n",
       "    <tr>\n",
       "      <th>1704</th>\n",
       "      <td>Sweden</td>\n",
       "      <td>2018</td>\n",
       "      <td>1435450.0</td>\n",
       "      <td>A</td>\n",
       "      <td>Official figure</td>\n",
       "    </tr>\n",
       "    <tr>\n",
       "      <th>1705</th>\n",
       "      <td>Sweden</td>\n",
       "      <td>2019</td>\n",
       "      <td>1404670.0</td>\n",
       "      <td>A</td>\n",
       "      <td>Official figure</td>\n",
       "    </tr>\n",
       "    <tr>\n",
       "      <th>1706</th>\n",
       "      <td>Sweden</td>\n",
       "      <td>2020</td>\n",
       "      <td>1390960.0</td>\n",
       "      <td>A</td>\n",
       "      <td>Official figure</td>\n",
       "    </tr>\n",
       "    <tr>\n",
       "      <th>1707</th>\n",
       "      <td>Sweden</td>\n",
       "      <td>2021</td>\n",
       "      <td>1389890.0</td>\n",
       "      <td>A</td>\n",
       "      <td>Official figure</td>\n",
       "    </tr>\n",
       "  </tbody>\n",
       "</table>\n",
       "</div>"
      ],
      "text/plain": [
       "     Country  Year      Stock Flag Flag Description\n",
       "1703  Sweden  2017  1448590.0    A  Official figure\n",
       "1704  Sweden  2018  1435450.0    A  Official figure\n",
       "1705  Sweden  2019  1404670.0    A  Official figure\n",
       "1706  Sweden  2020  1390960.0    A  Official figure\n",
       "1707  Sweden  2021  1389890.0    A  Official figure"
      ]
     },
     "execution_count": 12,
     "metadata": {},
     "output_type": "execute_result"
    }
   ],
   "source": [
    "df.shape# returns the dimensions of the DataFrame as (1708, 14)\n",
    "df.tail()"
   ]
  },
  {
   "cell_type": "code",
   "execution_count": 13,
   "metadata": {},
   "outputs": [
    {
     "name": "stdout",
     "output_type": "stream",
     "text": [
      "Country              object\n",
      "Year                  int64\n",
      "Stock               float64\n",
      "Flag                 object\n",
      "Flag Description     object\n",
      "dtype: object\n"
     ]
    }
   ],
   "source": [
    "print(df.dtypes)"
   ]
  },
  {
   "cell_type": "markdown",
   "metadata": {},
   "source": [
    "## Lack of estimated and unofficial reporting\n",
    "Lack of estimated and unofficial reporting makes the Flag and  Flag Description field reduntant so we drop them"
   ]
  },
  {
   "cell_type": "code",
   "execution_count": 14,
   "metadata": {
    "scrolled": true
   },
   "outputs": [
    {
     "data": {
      "text/html": [
       "<div>\n",
       "<style scoped>\n",
       "    .dataframe tbody tr th:only-of-type {\n",
       "        vertical-align: middle;\n",
       "    }\n",
       "\n",
       "    .dataframe tbody tr th {\n",
       "        vertical-align: top;\n",
       "    }\n",
       "\n",
       "    .dataframe thead th {\n",
       "        text-align: right;\n",
       "    }\n",
       "</style>\n",
       "<table border=\"1\" class=\"dataframe\">\n",
       "  <thead>\n",
       "    <tr style=\"text-align: right;\">\n",
       "      <th></th>\n",
       "      <th>Flag</th>\n",
       "      <th>Flag Description</th>\n",
       "    </tr>\n",
       "  </thead>\n",
       "  <tbody>\n",
       "    <tr>\n",
       "      <th>39</th>\n",
       "      <td>A</td>\n",
       "      <td>Official figure</td>\n",
       "    </tr>\n",
       "  </tbody>\n",
       "</table>\n",
       "</div>"
      ],
      "text/plain": [
       "   Flag Flag Description\n",
       "39    A  Official figure"
      ]
     },
     "execution_count": 14,
     "metadata": {},
     "output_type": "execute_result"
    }
   ],
   "source": [
    "flag_df = df[['Flag', 'Flag Description']].drop_duplicates()\n",
    "flag_df # Unofficial and estimated reports were illiminated with other interventions!"
   ]
  },
  {
   "cell_type": "code",
   "execution_count": 15,
   "metadata": {},
   "outputs": [
    {
     "data": {
      "text/plain": [
       "Country              object\n",
       "Year                  int64\n",
       "Stock               float64\n",
       "Flag                 object\n",
       "Flag Description     object\n",
       "dtype: object"
      ]
     },
     "execution_count": 15,
     "metadata": {},
     "output_type": "execute_result"
    }
   ],
   "source": [
    "df.dtypes"
   ]
  },
  {
   "cell_type": "markdown",
   "metadata": {},
   "source": [
    "## The devil is in the dtypes!\n",
    "\n",
    "While there is a somewhat academic exposition into the importance of approriate use of the Int type for discreet values $\\mathbb{Z} $  and the floating type to represent real numbers  $\\mathbb{R}$ suffice to say here that integers are for counting and as well as counting sheep we count cattle and that is the end of it. Bad things can  happen when floating points are used for discreet values and even if they don't we slow down our modelling.\n",
    "\n",
    "Also int64 can represent a much larger range of values than int32, but it also requires more memory so we will recast the Year type from INT64 to INT32.  If we are still farning in two billion years in the year  2,147,483,647  someone or some bovine  can cast it back up to INT64 depending on evolution and who is in charge!"
   ]
  },
  {
   "cell_type": "code",
   "execution_count": 16,
   "metadata": {
    "scrolled": false
   },
   "outputs": [
    {
     "data": {
      "text/plain": [
       "Country             0\n",
       "Year                0\n",
       "Stock               0\n",
       "Flag                0\n",
       "Flag Description    0\n",
       "dtype: int64"
      ]
     },
     "execution_count": 16,
     "metadata": {},
     "output_type": "execute_result"
    }
   ],
   "source": [
    "df.isnull().sum()# returns the number of missing values in each column."
   ]
  },
  {
   "cell_type": "code",
   "execution_count": 17,
   "metadata": {},
   "outputs": [
    {
     "name": "stdout",
     "output_type": "stream",
     "text": [
      "2147483647\n"
     ]
    }
   ],
   "source": [
    "max_int32 = int(2**32/2-1)\n",
    "print(max_int32)  # the /2 is because integers are directed numbers and the -1 accounts for 0!\n"
   ]
  },
  {
   "cell_type": "code",
   "execution_count": 18,
   "metadata": {},
   "outputs": [
    {
     "data": {
      "text/plain": [
       "Country             object\n",
       "Year                 int32\n",
       "Stock                int32\n",
       "Flag                object\n",
       "Flag Description    object\n",
       "dtype: object"
      ]
     },
     "execution_count": 18,
     "metadata": {},
     "output_type": "execute_result"
    }
   ],
   "source": [
    "## The absence of mising values frees us up to cast values to integers. We can't have live bovine parts!\n",
    "df['Stock'] = df['Stock'].astype(int)\n",
    "# Cast the 'Year' column from int64 to int32\n",
    "df['Year'] = df['Year'].astype('int32')\n",
    "df.dtypes # Check\n"
   ]
  },
  {
   "cell_type": "code",
   "execution_count": 19,
   "metadata": {
    "scrolled": true
   },
   "outputs": [
    {
     "name": "stdout",
     "output_type": "stream",
     "text": [
      "<class 'pandas.core.frame.DataFrame'>\n",
      "Int64Index: 594 entries, 39 to 1707\n",
      "Data columns (total 5 columns):\n",
      " #   Column            Non-Null Count  Dtype \n",
      "---  ------            --------------  ----- \n",
      " 0   Country           594 non-null    object\n",
      " 1   Year              594 non-null    int32 \n",
      " 2   Stock             594 non-null    int32 \n",
      " 3   Flag              594 non-null    object\n",
      " 4   Flag Description  594 non-null    object\n",
      "dtypes: int32(2), object(3)\n",
      "memory usage: 23.2+ KB\n"
     ]
    }
   ],
   "source": [
    "df.info()# provides a concise summary of the DataFrame, including column data types, non-null values, and memory usage."
   ]
  },
  {
   "cell_type": "code",
   "execution_count": 20,
   "metadata": {},
   "outputs": [
    {
     "data": {
      "text/html": [
       "<div>\n",
       "<style scoped>\n",
       "    .dataframe tbody tr th:only-of-type {\n",
       "        vertical-align: middle;\n",
       "    }\n",
       "\n",
       "    .dataframe tbody tr th {\n",
       "        vertical-align: top;\n",
       "    }\n",
       "\n",
       "    .dataframe thead th {\n",
       "        text-align: right;\n",
       "    }\n",
       "</style>\n",
       "<table border=\"1\" class=\"dataframe\">\n",
       "  <thead>\n",
       "    <tr style=\"text-align: right;\">\n",
       "      <th></th>\n",
       "      <th>Country</th>\n",
       "      <th>Year</th>\n",
       "      <th>Stock</th>\n",
       "      <th>Flag</th>\n",
       "      <th>Flag Description</th>\n",
       "    </tr>\n",
       "  </thead>\n",
       "  <tbody>\n",
       "    <tr>\n",
       "      <th>39</th>\n",
       "      <td>Austria</td>\n",
       "      <td>2000</td>\n",
       "      <td>2152811</td>\n",
       "      <td>A</td>\n",
       "      <td>Official figure</td>\n",
       "    </tr>\n",
       "    <tr>\n",
       "      <th>40</th>\n",
       "      <td>Austria</td>\n",
       "      <td>2001</td>\n",
       "      <td>2155447</td>\n",
       "      <td>A</td>\n",
       "      <td>Official figure</td>\n",
       "    </tr>\n",
       "    <tr>\n",
       "      <th>41</th>\n",
       "      <td>Austria</td>\n",
       "      <td>2002</td>\n",
       "      <td>2118454</td>\n",
       "      <td>A</td>\n",
       "      <td>Official figure</td>\n",
       "    </tr>\n",
       "    <tr>\n",
       "      <th>42</th>\n",
       "      <td>Austria</td>\n",
       "      <td>2003</td>\n",
       "      <td>2066942</td>\n",
       "      <td>A</td>\n",
       "      <td>Official figure</td>\n",
       "    </tr>\n",
       "    <tr>\n",
       "      <th>43</th>\n",
       "      <td>Austria</td>\n",
       "      <td>2004</td>\n",
       "      <td>2052033</td>\n",
       "      <td>A</td>\n",
       "      <td>Official figure</td>\n",
       "    </tr>\n",
       "  </tbody>\n",
       "</table>\n",
       "</div>"
      ],
      "text/plain": [
       "    Country  Year    Stock Flag Flag Description\n",
       "39  Austria  2000  2152811    A  Official figure\n",
       "40  Austria  2001  2155447    A  Official figure\n",
       "41  Austria  2002  2118454    A  Official figure\n",
       "42  Austria  2003  2066942    A  Official figure\n",
       "43  Austria  2004  2052033    A  Official figure"
      ]
     },
     "execution_count": 20,
     "metadata": {},
     "output_type": "execute_result"
    }
   ],
   "source": [
    "df.head()\n"
   ]
  },
  {
   "cell_type": "code",
   "execution_count": 21,
   "metadata": {},
   "outputs": [],
   "source": [
    "df = df.drop(['Flag', 'Flag Description'], axis=1) # Removed two columns from the DataFrame as all reporting is official"
   ]
  },
  {
   "cell_type": "markdown",
   "metadata": {},
   "source": [
    "## The Cattle Stock   cast them as 32-bit integers\n",
    "\n",
    "\n",
    "If the output of df.isnull().sum()  tells us that the cattle stock array has no null values, and assumed to be  non-null and valid.\n",
    "\n",
    "The cattle stock column was originally stored as a float but should be an integer and we cast it to the integer data type.  Weuse the astype() method in pandas to convert the column to an integer data type as follows:"
   ]
  },
  {
   "cell_type": "code",
   "execution_count": 22,
   "metadata": {},
   "outputs": [],
   "source": [
    "df['Stock'] = df['Stock'].astype(int) # Naive reason: Integers are for counting!"
   ]
  },
  {
   "cell_type": "markdown",
   "metadata": {},
   "source": [
    "## This Jupyter Notebook has focussed on cleaning our target variable \n",
    "- Lets punctuate the workflow by  continue with quality checking, visualisation, and merging data in the next Notebook.\n",
    "- We will need to do some rigorous testing and visualisaton on it as well as merging it with expected predictor variables before any modelling and machine learning but progress has been made along with piles of enjoyable learning on the authors part."
   ]
  },
  {
   "cell_type": "code",
   "execution_count": 23,
   "metadata": {},
   "outputs": [
    {
     "data": {
      "text/html": [
       "<div>\n",
       "<style scoped>\n",
       "    .dataframe tbody tr th:only-of-type {\n",
       "        vertical-align: middle;\n",
       "    }\n",
       "\n",
       "    .dataframe tbody tr th {\n",
       "        vertical-align: top;\n",
       "    }\n",
       "\n",
       "    .dataframe thead th {\n",
       "        text-align: right;\n",
       "    }\n",
       "</style>\n",
       "<table border=\"1\" class=\"dataframe\">\n",
       "  <thead>\n",
       "    <tr style=\"text-align: right;\">\n",
       "      <th></th>\n",
       "      <th>Country</th>\n",
       "      <th>Year</th>\n",
       "      <th>Stock</th>\n",
       "    </tr>\n",
       "  </thead>\n",
       "  <tbody>\n",
       "    <tr>\n",
       "      <th>39</th>\n",
       "      <td>Austria</td>\n",
       "      <td>2000</td>\n",
       "      <td>2152811</td>\n",
       "    </tr>\n",
       "    <tr>\n",
       "      <th>40</th>\n",
       "      <td>Austria</td>\n",
       "      <td>2001</td>\n",
       "      <td>2155447</td>\n",
       "    </tr>\n",
       "    <tr>\n",
       "      <th>41</th>\n",
       "      <td>Austria</td>\n",
       "      <td>2002</td>\n",
       "      <td>2118454</td>\n",
       "    </tr>\n",
       "    <tr>\n",
       "      <th>42</th>\n",
       "      <td>Austria</td>\n",
       "      <td>2003</td>\n",
       "      <td>2066942</td>\n",
       "    </tr>\n",
       "    <tr>\n",
       "      <th>43</th>\n",
       "      <td>Austria</td>\n",
       "      <td>2004</td>\n",
       "      <td>2052033</td>\n",
       "    </tr>\n",
       "    <tr>\n",
       "      <th>...</th>\n",
       "      <td>...</td>\n",
       "      <td>...</td>\n",
       "      <td>...</td>\n",
       "    </tr>\n",
       "    <tr>\n",
       "      <th>1703</th>\n",
       "      <td>Sweden</td>\n",
       "      <td>2017</td>\n",
       "      <td>1448590</td>\n",
       "    </tr>\n",
       "    <tr>\n",
       "      <th>1704</th>\n",
       "      <td>Sweden</td>\n",
       "      <td>2018</td>\n",
       "      <td>1435450</td>\n",
       "    </tr>\n",
       "    <tr>\n",
       "      <th>1705</th>\n",
       "      <td>Sweden</td>\n",
       "      <td>2019</td>\n",
       "      <td>1404670</td>\n",
       "    </tr>\n",
       "    <tr>\n",
       "      <th>1706</th>\n",
       "      <td>Sweden</td>\n",
       "      <td>2020</td>\n",
       "      <td>1390960</td>\n",
       "    </tr>\n",
       "    <tr>\n",
       "      <th>1707</th>\n",
       "      <td>Sweden</td>\n",
       "      <td>2021</td>\n",
       "      <td>1389890</td>\n",
       "    </tr>\n",
       "  </tbody>\n",
       "</table>\n",
       "<p>594 rows × 3 columns</p>\n",
       "</div>"
      ],
      "text/plain": [
       "      Country  Year    Stock\n",
       "39    Austria  2000  2152811\n",
       "40    Austria  2001  2155447\n",
       "41    Austria  2002  2118454\n",
       "42    Austria  2003  2066942\n",
       "43    Austria  2004  2052033\n",
       "...       ...   ...      ...\n",
       "1703   Sweden  2017  1448590\n",
       "1704   Sweden  2018  1435450\n",
       "1705   Sweden  2019  1404670\n",
       "1706   Sweden  2020  1390960\n",
       "1707   Sweden  2021  1389890\n",
       "\n",
       "[594 rows x 3 columns]"
      ]
     },
     "execution_count": 23,
     "metadata": {},
     "output_type": "execute_result"
    }
   ],
   "source": [
    "df"
   ]
  },
  {
   "cell_type": "code",
   "execution_count": 24,
   "metadata": {},
   "outputs": [
    {
     "name": "stdout",
     "output_type": "stream",
     "text": [
      "['arch', 'areas.npy', 'AreasEU.csv', 'beluxPivot.csv', 'beneluxPivot.csv', 'beneluxPivot.npy', 'benelux_pivot.csv', 'cattle_stocks.csv', 'missing.csv', 'missing.npy', 'nutrient2002', 'nutrient2002.csv', 'orderedstock.csv', 'rain.csv', 'stock.csv', 'temperature.csv', 'topstock.txt', 'top_10_countries_stock.csv', 'top_countries.txt', 'top_countries_stock.csv']\n"
     ]
    }
   ],
   "source": [
    "df.to_csv('clean/stock.csv', index=False) # Stash it away\n",
    "print(os.listdir('clean'))"
   ]
  },
  {
   "cell_type": "markdown",
   "metadata": {},
   "source": [
    "## We finished up with ...\n",
    "- We check that our cleaned files are where they shoud be\n",
    "- We read our master back into df\n",
    "- We take look \n",
    "- Deleting the df variable using del as a means of managing memory"
   ]
  },
  {
   "cell_type": "markdown",
   "metadata": {},
   "source": [
    "## Run notebook 02_data_wrangling_beef.jpynb from the  root directory next."
   ]
  },
  {
   "cell_type": "markdown",
   "metadata": {},
   "source": [
    "The main stages of data analysis (DA) can be broadly divided into six stages, which are as follows:\n",
    "\n",
    "Problem definition: This stage involves identifying and defining the problem to be solved, the data to be collected, and the questions to be answered. It involves understanding the context of the problem and defining the goals and objectives of the analysis.\n",
    "\n",
    "Data collection: In this stage, the data needed to solve the problem is collected. This can involve sourcing data from various sources, such as databases, APIs, or surveys. It also involves cleaning and preparing the data to ensure that it is accurate, complete, and consistent.\n",
    "\n",
    "Data exploration: In this stage, the data is explored to gain insights and understanding of its properties and structure. This involves using descriptive statistics, visualization tools, and exploratory data analysis techniques to identify patterns, trends, and relationships in the data.\n",
    "\n",
    "Data modeling: In this stage, statistical or machine learning models are developed to extract insights and make predictions from the data. This involves selecting the appropriate model, defining the features and labels, and training and testing the model to evaluate its performance.\n",
    "\n",
    "Data interpretation: In this stage, the results of the analysis are interpreted and presented to stakeholders. This involves communicating the insights and findings in a clear and concise manner, and making recommendations or decisions based on the results.\n",
    "\n",
    "Deployment: In this final stage, the insights and results from the analysis are implemented in the real-world setting. This may involve creating reports, dashboards, or applications that utilize the analysis, and monitoring the results to ensure that they are being applied correctly and effectively.\n",
    "\n",
    "These stages are iterative and may be revisited as needed, depending on the nature of the problem and the insights gained during the analysis. The goal of data analysis is to use data to gain insights, make informed decisions, and drive positive outcomes."
   ]
  },
  {
   "cell_type": "code",
   "execution_count": 25,
   "metadata": {},
   "outputs": [
    {
     "data": {
      "image/png": "[encoded data removed]",
      "text/plain": [
       "<Figure size 640x480 with 1 Axes>"
      ]
     },
     "metadata": {},
     "output_type": "display_data"
    }
   ],
   "source": [
    "df_grouped = df.groupby('Country')['Stock'].mean().reset_index()\n",
    "df_grouped = df_grouped.sort_values(by='Stock', ascending=False).reset_index(drop=True)\n",
    "\n",
    "plt.bar(df_grouped['Country'][:len(df_grouped)], df_grouped['Stock'][:len(df_grouped)])\n",
    "\n",
    "plt.title('Distribution of Beef  Stock  in European Union (EU) ')\n",
    "plt.xlabel('Country')\n",
    "plt.ylabel('Total Stock')\n",
    "\n",
    "plt.xticks(rotation=90)  # rotate the x-axis labels by 90 degrees\n",
    "\n",
    "plt.show()"
   ]
  },
  {
   "cell_type": "code",
   "execution_count": 26,
   "metadata": {},
   "outputs": [],
   "source": [
    "# group by country and calculate mean stock\n",
    "df_grouped = df.groupby('Country')['Stock'].mean().reset_index()\n",
    "\n",
    "# sort by mean stock in descending order\n",
    "df_grouped = df_grouped.sort_values(by='Stock', ascending=False).reset_index(drop=True)\n",
    "\n",
    "# filter out top n countries\n",
    "df_top = df_grouped.head(8)\n",
    "\n",
    "# create numpy array from mean stock values\n",
    "mean_stock_array = np.array(df_top['Stock'])"
   ]
  },
  {
   "cell_type": "code",
   "execution_count": 28,
   "metadata": {},
   "outputs": [],
   "source": [
    "df_top.to_csv('./clean/orderedstock.csv', index=False)\n"
   ]
  },
  {
   "cell_type": "code",
   "execution_count": 29,
   "metadata": {},
   "outputs": [],
   "source": [
    "# Extract the top 10 countries\n",
    "top_countries = df_top['Country'].tolist()[:8]\n",
    "\n",
    "# Save the list to a text file in the 'clean' folder\n",
    "with open('clean/topstock.txt', 'w') as f:\n",
    "    for country in top_countries:\n",
    "        f.write(country + '\\n')\n"
   ]
  },
  {
   "cell_type": "code",
   "execution_count": 30,
   "metadata": {},
   "outputs": [
    {
     "data": {
      "text/plain": [
       "['France',\n",
       " 'Germany',\n",
       " 'Ireland',\n",
       " 'Spain',\n",
       " 'Italy',\n",
       " 'Poland',\n",
       " 'Netherlands',\n",
       " 'Belgium']"
      ]
     },
     "execution_count": 30,
     "metadata": {},
     "output_type": "execute_result"
    }
   ],
   "source": [
    "top_countries"
   ]
  },
  {
   "cell_type": "code",
   "execution_count": null,
   "metadata": {},
   "outputs": [],
   "source": []
  }
 ],
 "metadata": {
  "kernelspec": {
   "display_name": "Python 3 (ipykernel)",
   "language": "python",
   "name": "python3"
  },
  "language_info": {
   "codemirror_mode": {
    "name": "ipython",
    "version": 3
   },
   "file_extension": ".py",
   "mimetype": "text/x-python",
   "name": "python",
   "nbconvert_exporter": "python",
   "pygments_lexer": "ipython3",
   "version": "3.9.13"
  },
  "toc": {
   "base_numbering": 1,
   "nav_menu": {
    "height": "1012.78px",
    "width": "507.775px"
   },
   "number_sections": true,
   "sideBar": false,
   "skip_h1_title": true,
   "title_cell": "Table of Contents (Clickable in sidebar)",
   "title_sidebar": "Contents",
   "toc_cell": true,
   "toc_position": {
    "height": "1166.7px",
    "left": "1576px",
    "top": "1389.19px",
    "width": "497px"
   },
   "toc_section_display": true,
   "toc_window_display": true
  },
  "vscode": {
   "interpreter": {
    "hash": "890563eb1401dd7c5eac482b2070a231034cb0eabe59bf1a3eb86f9e36919f52"
   }
  }
 },
 "nbformat": 4,
 "nbformat_minor": 2
}
