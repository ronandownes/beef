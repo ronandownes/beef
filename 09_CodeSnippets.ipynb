{
 "cells": [
  {
   "cell_type": "code",
   "execution_count": null,
   "id": "1a68c0b8",
   "metadata": {},
   "outputs": [],
   "source": [
    "land_df = pd.read_csv( 'data/land_use_all_items_area_eu28.csv', on_bad_lines='skip')   # loads Land USe Domain\n",
    "land_df.head()\n",
    "\n",
    "\n",
    "\n",
    "\n",
    "\n",
    "df = pd.merge(df, temperature_df, on='Key')\n",
    "\n",
    "\n",
    "\n",
    "\n",
    "\n",
    "\n",
    "\n",
    "\n",
    "\n",
    "\n",
    "\n",
    "\n",
    "df['Key'] = df['Country'] + df['Year'].astype(str)# adds a unique key column \n",
    "\n",
    "\n",
    "\n",
    "\n",
    "df['Key'] = df['Country'] + df['Year'].astype(str)# adds a unique key column \n",
    "df\n",
    "\n",
    "\n",
    "\n",
    "\n",
    "filtered_df = df.loc[(df['A'] > 10) & (df['B'] < 5)]\n",
    "\n",
    "\n",
    "\n",
    "\n"
   ]
  }
 ],
 "metadata": {
  "kernelspec": {
   "display_name": "Python 3 (ipykernel)",
   "language": "python",
   "name": "python3"
  },
  "language_info": {
   "codemirror_mode": {
    "name": "ipython",
    "version": 3
   },
   "file_extension": ".py",
   "mimetype": "text/x-python",
   "name": "python",
   "nbconvert_exporter": "python",
   "pygments_lexer": "ipython3",
   "version": "3.9.13"
  },
  "toc": {
   "base_numbering": 1,
   "nav_menu": {},
   "number_sections": true,
   "sideBar": true,
   "skip_h1_title": true,
   "title_cell": "Table of Contents",
   "title_sidebar": "Contents",
   "toc_cell": false,
   "toc_position": {},
   "toc_section_display": true,
   "toc_window_display": true
  }
 },
 "nbformat": 4,
 "nbformat_minor": 5
}
