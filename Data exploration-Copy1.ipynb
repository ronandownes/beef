{
 "cells": [
  {
   "cell_type": "markdown",
   "id": "feebe47c",
   "metadata": {},
   "source": [
    "# Describing and plotting data"
   ]
  },
  {
   "cell_type": "code",
   "execution_count": 28,
   "id": "86480401",
   "metadata": {},
   "outputs": [],
   "source": [
    "# !pip install pandas as pd\n",
    "# !pip install seaborn as sns"
   ]
  },
  {
   "cell_type": "code",
   "execution_count": 3,
   "id": "69fc6c78",
   "metadata": {},
   "outputs": [],
   "source": [
    "# Import seaborn as sns\n",
    "import pandas as pd"
   ]
  },
  {
   "cell_type": "code",
   "execution_count": 4,
   "id": "6318d2aa",
   "metadata": {},
   "outputs": [
    {
     "data": {
      "text/html": [
       "\n",
       "        <iframe\n",
       "            width=\"400\"\n",
       "            height=\"200\"\n",
       "            src=\"Descriptive.pdf\"\n",
       "            frameborder=\"0\"\n",
       "            allowfullscreen\n",
       "            \n",
       "        ></iframe>\n",
       "        "
      ],
      "text/plain": [
       "<IPython.lib.display.IFrame at 0x121f438e040>"
      ]
     },
     "execution_count": 4,
     "metadata": {},
     "output_type": "execute_result"
    }
   ],
   "source": [
    "from IPython.display import IFrame\n",
    "\n",
    "IFrame(\"Descriptive.pdf\", width=400, height=200)\n"
   ]
  },
  {
   "cell_type": "markdown",
   "id": "a1bb9afa",
   "metadata": {},
   "source": [
    "Data analysis (DA) has  six  iterative  stages:\n",
    "\n",
    "Problem definition\n",
    "\n",
    "Data collection\n",
    "\n",
    "**Data exploration**\n",
    "\n",
    "Data modeling\n",
    "\n",
    "Data interpretation\n",
    "\n",
    "Deployment\n"
   ]
  },
  {
   "cell_type": "markdown",
   "id": "e846fd15",
   "metadata": {},
   "source": [
    "When you load a dataframe (df) in Python, you can explore and summarise the data using various descriptive statistics and methods.  These  return **attributes**  of the df or use a **method()**  to return a related dataframe.  Here are eight types of descriptive analyses that can be performed on a dataframe:\n",
    "\n",
    "\n",
    "\n",
    "**Shape attribute df.shape**: Returns a tuple (\\#rows,\\#columns) like all explorations here  it uses the dot notation but no () as it is not a method.\n",
    "\n",
    "**Info**: This provides information about the data types and number of non-null values in each column of the dataframe. It can be obtained using the info() method of the dataframe. \\textbf{df.info()}\n",
    "\n",
    "**Describe**: This provides a summary of the central tendency, dispersion, and shape of the distribution of each numeric column in the dataframe. It can be obtained using the describe() method of the dataframe.\n",
    "\n",
    "**Unique**: This provides the number of unique values in each column of the dataframe. It can be obtained using the nunique() method of the dataframe.\n",
    "\n",
    "**Value counts**: This provides the count of each unique value in a specific column of the dataframe. It can be obtained using the value\\_counts () method of the dataframe.\n",
    "\n",
    "**Correlation**: This provides a measure of the linear relationship between pairs of numeric columns in the dataframe. It can be obtained using the corr() method of the dataframe.\n",
    "\n",
    "**Grouping**: This allows you to group the data based on one or more columns and apply a summary statistic to each group. It can be obtained using the groupby() method of the dataframe.\n",
    "\n",
    "**Pivot table**: This allows you to summarize and visualize the data in a more flexible and customizable way by pivoting the data along one or more columns. It can be obtained using the pivot\\_table() method of the dataframe."
   ]
  },
  {
   "cell_type": "code",
   "execution_count": 8,
   "id": "ad0a9d43",
   "metadata": {
    "scrolled": false
   },
   "outputs": [
    {
     "data": {
      "text/html": [
       "<div>\n",
       "<style scoped>\n",
       "    .dataframe tbody tr th:only-of-type {\n",
       "        vertical-align: middle;\n",
       "    }\n",
       "\n",
       "    .dataframe tbody tr th {\n",
       "        vertical-align: top;\n",
       "    }\n",
       "\n",
       "    .dataframe thead th {\n",
       "        text-align: right;\n",
       "    }\n",
       "</style>\n",
       "<table border=\"1\" class=\"dataframe\">\n",
       "  <thead>\n",
       "    <tr style=\"text-align: right;\">\n",
       "      <th></th>\n",
       "      <th>Planet</th>\n",
       "      <th>Distance (AU)</th>\n",
       "      <th>Orbital Period (years)</th>\n",
       "      <th>Mass (Earth Masses)</th>\n",
       "      <th>Diameter (km)</th>\n",
       "    </tr>\n",
       "  </thead>\n",
       "  <tbody>\n",
       "    <tr>\n",
       "      <th>0</th>\n",
       "      <td>Mercury</td>\n",
       "      <td>0.39</td>\n",
       "      <td>0.24</td>\n",
       "      <td>0.055</td>\n",
       "      <td>4879</td>\n",
       "    </tr>\n",
       "    <tr>\n",
       "      <th>1</th>\n",
       "      <td>Venus</td>\n",
       "      <td>0.72</td>\n",
       "      <td>0.62</td>\n",
       "      <td>0.815</td>\n",
       "      <td>12104</td>\n",
       "    </tr>\n",
       "    <tr>\n",
       "      <th>2</th>\n",
       "      <td>Earth</td>\n",
       "      <td>1.00</td>\n",
       "      <td>1.00</td>\n",
       "      <td>1.000</td>\n",
       "      <td>12742</td>\n",
       "    </tr>\n",
       "    <tr>\n",
       "      <th>3</th>\n",
       "      <td>Mars</td>\n",
       "      <td>1.52</td>\n",
       "      <td>1.88</td>\n",
       "      <td>0.107</td>\n",
       "      <td>6779</td>\n",
       "    </tr>\n",
       "    <tr>\n",
       "      <th>4</th>\n",
       "      <td>Jupiter</td>\n",
       "      <td>5.20</td>\n",
       "      <td>11.86</td>\n",
       "      <td>317.800</td>\n",
       "      <td>139822</td>\n",
       "    </tr>\n",
       "    <tr>\n",
       "      <th>5</th>\n",
       "      <td>Saturn</td>\n",
       "      <td>9.58</td>\n",
       "      <td>29.46</td>\n",
       "      <td>95.200</td>\n",
       "      <td>116460</td>\n",
       "    </tr>\n",
       "    <tr>\n",
       "      <th>6</th>\n",
       "      <td>Uranus</td>\n",
       "      <td>19.18</td>\n",
       "      <td>84.01</td>\n",
       "      <td>14.500</td>\n",
       "      <td>50724</td>\n",
       "    </tr>\n",
       "  </tbody>\n",
       "</table>\n",
       "</div>"
      ],
      "text/plain": [
       "    Planet  Distance (AU)  Orbital Period (years)  Mass (Earth Masses)  \\\n",
       "0  Mercury           0.39                    0.24                0.055   \n",
       "1    Venus           0.72                    0.62                0.815   \n",
       "2    Earth           1.00                    1.00                1.000   \n",
       "3     Mars           1.52                    1.88                0.107   \n",
       "4  Jupiter           5.20                   11.86              317.800   \n",
       "5   Saturn           9.58                   29.46               95.200   \n",
       "6   Uranus          19.18                   84.01               14.500   \n",
       "\n",
       "   Diameter (km)  \n",
       "0           4879  \n",
       "1          12104  \n",
       "2          12742  \n",
       "3           6779  \n",
       "4         139822  \n",
       "5         116460  \n",
       "6          50724  "
      ]
     },
     "execution_count": 8,
     "metadata": {},
     "output_type": "execute_result"
    }
   ],
   "source": [
    "import pandas as pd \n",
    "\n",
    "\n",
    "data= {\n",
    "    \"Planet\": [\"Mercury\", \"Venus\", \"Earth\", \"Mars\", \"Jupiter\", \"Saturn\", \"Uranus\", \"Neptune\"],\n",
    "    \"Distance (AU)\": [0.39, 0.72, 1.00, 1.52, 5.20, 9.58, 19.18, 30.07],\n",
    "    \"Orbital Period (years)\": [0.24, 0.62, 1.00, 1.88, 11.86, 29.46, 84.01, 164.79],\n",
    "    \"Mass (Earth Masses)\": [0.055, 0.815, 1.00, 0.107, 317.8, 95.2, 14.5, 17.1],\n",
    "    \"Diameter (km)\": [4879, 12104, 12742, 6779, 139822, 116460, 50724, 49244]\n",
    "}\n",
    "\n",
    "df = pd.DataFrame(data)\n",
    "\n",
    "df.head(7)\n"
   ]
  },
  {
   "cell_type": "code",
   "execution_count": 9,
   "id": "16e916a2",
   "metadata": {},
   "outputs": [
    {
     "name": "stdout",
     "output_type": "stream",
     "text": [
      "Shape of the dataframe: (8, 5)\n"
     ]
    }
   ],
   "source": [
    "# Shape\n",
    "print(\"Shape of the dataframe:\", df.shape)"
   ]
  },
  {
   "cell_type": "code",
   "execution_count": 10,
   "id": "04943d37",
   "metadata": {},
   "outputs": [
    {
     "name": "stdout",
     "output_type": "stream",
     "text": [
      "\n",
      "Information about the dataframe:\n",
      "<class 'pandas.core.frame.DataFrame'>\n",
      "RangeIndex: 8 entries, 0 to 7\n",
      "Data columns (total 5 columns):\n",
      " #   Column                  Non-Null Count  Dtype  \n",
      "---  ------                  --------------  -----  \n",
      " 0   Planet                  8 non-null      object \n",
      " 1   Distance (AU)           8 non-null      float64\n",
      " 2   Orbital Period (years)  8 non-null      float64\n",
      " 3   Mass (Earth Masses)     8 non-null      float64\n",
      " 4   Diameter (km)           8 non-null      int64  \n",
      "dtypes: float64(3), int64(1), object(1)\n",
      "memory usage: 448.0+ bytes\n"
     ]
    }
   ],
   "source": [
    "# Info\n",
    "print(\"\\nInformation about the dataframe:\")\n",
    "df.info()"
   ]
  },
  {
   "cell_type": "code",
   "execution_count": 34,
   "id": "25440875",
   "metadata": {},
   "outputs": [
    {
     "name": "stdout",
     "output_type": "stream",
     "text": [
      "\n",
      "Summary of the dataframe:\n"
     ]
    },
    {
     "data": {
      "text/html": [
       "<div>\n",
       "<style scoped>\n",
       "    .dataframe tbody tr th:only-of-type {\n",
       "        vertical-align: middle;\n",
       "    }\n",
       "\n",
       "    .dataframe tbody tr th {\n",
       "        vertical-align: top;\n",
       "    }\n",
       "\n",
       "    .dataframe thead th {\n",
       "        text-align: right;\n",
       "    }\n",
       "</style>\n",
       "<table border=\"1\" class=\"dataframe\">\n",
       "  <thead>\n",
       "    <tr style=\"text-align: right;\">\n",
       "      <th></th>\n",
       "      <th>Distance (AU)</th>\n",
       "      <th>Orbital Period (years)</th>\n",
       "      <th>Mass (Earth Masses)</th>\n",
       "      <th>Diameter (km)</th>\n",
       "    </tr>\n",
       "  </thead>\n",
       "  <tbody>\n",
       "    <tr>\n",
       "      <th>count</th>\n",
       "      <td>8.000000</td>\n",
       "      <td>8.000000</td>\n",
       "      <td>8.000000</td>\n",
       "      <td>8.00000</td>\n",
       "    </tr>\n",
       "    <tr>\n",
       "      <th>mean</th>\n",
       "      <td>8.457500</td>\n",
       "      <td>36.732500</td>\n",
       "      <td>55.822125</td>\n",
       "      <td>49094.25000</td>\n",
       "    </tr>\n",
       "    <tr>\n",
       "      <th>std</th>\n",
       "      <td>10.840665</td>\n",
       "      <td>59.079534</td>\n",
       "      <td>110.605697</td>\n",
       "      <td>52382.76815</td>\n",
       "    </tr>\n",
       "    <tr>\n",
       "      <th>min</th>\n",
       "      <td>0.390000</td>\n",
       "      <td>0.240000</td>\n",
       "      <td>0.055000</td>\n",
       "      <td>4879.00000</td>\n",
       "    </tr>\n",
       "    <tr>\n",
       "      <th>25%</th>\n",
       "      <td>0.930000</td>\n",
       "      <td>0.905000</td>\n",
       "      <td>0.638000</td>\n",
       "      <td>10772.75000</td>\n",
       "    </tr>\n",
       "    <tr>\n",
       "      <th>50%</th>\n",
       "      <td>3.360000</td>\n",
       "      <td>6.870000</td>\n",
       "      <td>7.750000</td>\n",
       "      <td>30993.00000</td>\n",
       "    </tr>\n",
       "    <tr>\n",
       "      <th>75%</th>\n",
       "      <td>11.980000</td>\n",
       "      <td>43.097500</td>\n",
       "      <td>36.625000</td>\n",
       "      <td>67158.00000</td>\n",
       "    </tr>\n",
       "    <tr>\n",
       "      <th>max</th>\n",
       "      <td>30.070000</td>\n",
       "      <td>164.790000</td>\n",
       "      <td>317.800000</td>\n",
       "      <td>139822.00000</td>\n",
       "    </tr>\n",
       "  </tbody>\n",
       "</table>\n",
       "</div>"
      ],
      "text/plain": [
       "       Distance (AU)  Orbital Period (years)  Mass (Earth Masses)  \\\n",
       "count       8.000000                8.000000             8.000000   \n",
       "mean        8.457500               36.732500            55.822125   \n",
       "std        10.840665               59.079534           110.605697   \n",
       "min         0.390000                0.240000             0.055000   \n",
       "25%         0.930000                0.905000             0.638000   \n",
       "50%         3.360000                6.870000             7.750000   \n",
       "75%        11.980000               43.097500            36.625000   \n",
       "max        30.070000              164.790000           317.800000   \n",
       "\n",
       "       Diameter (km)  \n",
       "count        8.00000  \n",
       "mean     49094.25000  \n",
       "std      52382.76815  \n",
       "min       4879.00000  \n",
       "25%      10772.75000  \n",
       "50%      30993.00000  \n",
       "75%      67158.00000  \n",
       "max     139822.00000  "
      ]
     },
     "execution_count": 34,
     "metadata": {},
     "output_type": "execute_result"
    }
   ],
   "source": [
    "# Describe\n",
    "print(\"\\nSummary of the dataframe:\")\n",
    "df.describe()"
   ]
  },
  {
   "cell_type": "code",
   "execution_count": 11,
   "id": "60b58909",
   "metadata": {},
   "outputs": [
    {
     "name": "stdout",
     "output_type": "stream",
     "text": [
      "\n",
      "Number of unique values in each column:\n",
      "Planet                    8\n",
      "Distance (AU)             8\n",
      "Orbital Period (years)    8\n",
      "Mass (Earth Masses)       8\n",
      "Diameter (km)             8\n",
      "dtype: int64\n"
     ]
    }
   ],
   "source": [
    "# Unique\n",
    "print(\"\\nNumber of unique values in each column:\")\n",
    "print(df.nunique())"
   ]
  },
  {
   "cell_type": "code",
   "execution_count": 16,
   "id": "8127a798",
   "metadata": {},
   "outputs": [
    {
     "name": "stdout",
     "output_type": "stream",
     "text": [
      "\n",
      "Value counts of a specific column:\n"
     ]
    },
    {
     "data": {
      "text/plain": [
       "0.39     1\n",
       "0.72     1\n",
       "1.00     1\n",
       "1.52     1\n",
       "5.20     1\n",
       "9.58     1\n",
       "19.18    1\n",
       "30.07    1\n",
       "Name: Distance (AU), dtype: int64"
      ]
     },
     "execution_count": 16,
     "metadata": {},
     "output_type": "execute_result"
    }
   ],
   "source": [
    "# Value counts\n",
    "print(\"\\nValue counts of a specific column:\")\n",
    "df['Distance (AU)'].value_counts()"
   ]
  },
  {
   "cell_type": "code",
   "execution_count": 18,
   "id": "dbfeb90d",
   "metadata": {},
   "outputs": [
    {
     "name": "stdout",
     "output_type": "stream",
     "text": [
      "\n",
      "Correlation matrix of numeric columns:\n"
     ]
    },
    {
     "data": {
      "text/html": [
       "<div>\n",
       "<style scoped>\n",
       "    .dataframe tbody tr th:only-of-type {\n",
       "        vertical-align: middle;\n",
       "    }\n",
       "\n",
       "    .dataframe tbody tr th {\n",
       "        vertical-align: top;\n",
       "    }\n",
       "\n",
       "    .dataframe thead th {\n",
       "        text-align: right;\n",
       "    }\n",
       "</style>\n",
       "<table border=\"1\" class=\"dataframe\">\n",
       "  <thead>\n",
       "    <tr style=\"text-align: right;\">\n",
       "      <th></th>\n",
       "      <th>Distance (AU)</th>\n",
       "      <th>Orbital Period (years)</th>\n",
       "      <th>Mass (Earth Masses)</th>\n",
       "      <th>Diameter (km)</th>\n",
       "    </tr>\n",
       "  </thead>\n",
       "  <tbody>\n",
       "    <tr>\n",
       "      <th>Distance (AU)</th>\n",
       "      <td>1.000000</td>\n",
       "      <td>0.988020</td>\n",
       "      <td>-0.049834</td>\n",
       "      <td>0.253673</td>\n",
       "    </tr>\n",
       "    <tr>\n",
       "      <th>Orbital Period (years)</th>\n",
       "      <td>0.988020</td>\n",
       "      <td>1.000000</td>\n",
       "      <td>-0.126633</td>\n",
       "      <td>0.141842</td>\n",
       "    </tr>\n",
       "    <tr>\n",
       "      <th>Mass (Earth Masses)</th>\n",
       "      <td>-0.049834</td>\n",
       "      <td>-0.126633</td>\n",
       "      <td>1.000000</td>\n",
       "      <td>0.867899</td>\n",
       "    </tr>\n",
       "    <tr>\n",
       "      <th>Diameter (km)</th>\n",
       "      <td>0.253673</td>\n",
       "      <td>0.141842</td>\n",
       "      <td>0.867899</td>\n",
       "      <td>1.000000</td>\n",
       "    </tr>\n",
       "  </tbody>\n",
       "</table>\n",
       "</div>"
      ],
      "text/plain": [
       "                        Distance (AU)  Orbital Period (years)  \\\n",
       "Distance (AU)                1.000000                0.988020   \n",
       "Orbital Period (years)       0.988020                1.000000   \n",
       "Mass (Earth Masses)         -0.049834               -0.126633   \n",
       "Diameter (km)                0.253673                0.141842   \n",
       "\n",
       "                        Mass (Earth Masses)  Diameter (km)  \n",
       "Distance (AU)                     -0.049834       0.253673  \n",
       "Orbital Period (years)            -0.126633       0.141842  \n",
       "Mass (Earth Masses)                1.000000       0.867899  \n",
       "Diameter (km)                      0.867899       1.000000  "
      ]
     },
     "execution_count": 18,
     "metadata": {},
     "output_type": "execute_result"
    }
   ],
   "source": [
    "# Correlation\n",
    "print(\"\\nCorrelation matrix of numeric columns:\")\n",
    "df.corr()"
   ]
  },
  {
   "cell_type": "code",
   "execution_count": 20,
   "id": "d840b000",
   "metadata": {},
   "outputs": [
    {
     "name": "stdout",
     "output_type": "stream",
     "text": [
      "\n",
      "Grouping the data by a specific column:\n"
     ]
    },
    {
     "data": {
      "text/html": [
       "<div>\n",
       "<style scoped>\n",
       "    .dataframe tbody tr th:only-of-type {\n",
       "        vertical-align: middle;\n",
       "    }\n",
       "\n",
       "    .dataframe tbody tr th {\n",
       "        vertical-align: top;\n",
       "    }\n",
       "\n",
       "    .dataframe thead th {\n",
       "        text-align: right;\n",
       "    }\n",
       "</style>\n",
       "<table border=\"1\" class=\"dataframe\">\n",
       "  <thead>\n",
       "    <tr style=\"text-align: right;\">\n",
       "      <th></th>\n",
       "      <th>Orbital Period (years)</th>\n",
       "      <th>Mass (Earth Masses)</th>\n",
       "      <th>Diameter (km)</th>\n",
       "    </tr>\n",
       "    <tr>\n",
       "      <th>Distance (AU)</th>\n",
       "      <th></th>\n",
       "      <th></th>\n",
       "      <th></th>\n",
       "    </tr>\n",
       "  </thead>\n",
       "  <tbody>\n",
       "    <tr>\n",
       "      <th>0.39</th>\n",
       "      <td>0.24</td>\n",
       "      <td>0.055</td>\n",
       "      <td>4879.0</td>\n",
       "    </tr>\n",
       "    <tr>\n",
       "      <th>0.72</th>\n",
       "      <td>0.62</td>\n",
       "      <td>0.815</td>\n",
       "      <td>12104.0</td>\n",
       "    </tr>\n",
       "    <tr>\n",
       "      <th>1.00</th>\n",
       "      <td>1.00</td>\n",
       "      <td>1.000</td>\n",
       "      <td>12742.0</td>\n",
       "    </tr>\n",
       "    <tr>\n",
       "      <th>1.52</th>\n",
       "      <td>1.88</td>\n",
       "      <td>0.107</td>\n",
       "      <td>6779.0</td>\n",
       "    </tr>\n",
       "    <tr>\n",
       "      <th>5.20</th>\n",
       "      <td>11.86</td>\n",
       "      <td>317.800</td>\n",
       "      <td>139822.0</td>\n",
       "    </tr>\n",
       "    <tr>\n",
       "      <th>9.58</th>\n",
       "      <td>29.46</td>\n",
       "      <td>95.200</td>\n",
       "      <td>116460.0</td>\n",
       "    </tr>\n",
       "    <tr>\n",
       "      <th>19.18</th>\n",
       "      <td>84.01</td>\n",
       "      <td>14.500</td>\n",
       "      <td>50724.0</td>\n",
       "    </tr>\n",
       "    <tr>\n",
       "      <th>30.07</th>\n",
       "      <td>164.79</td>\n",
       "      <td>17.100</td>\n",
       "      <td>49244.0</td>\n",
       "    </tr>\n",
       "  </tbody>\n",
       "</table>\n",
       "</div>"
      ],
      "text/plain": [
       "               Orbital Period (years)  Mass (Earth Masses)  Diameter (km)\n",
       "Distance (AU)                                                            \n",
       "0.39                             0.24                0.055         4879.0\n",
       "0.72                             0.62                0.815        12104.0\n",
       "1.00                             1.00                1.000        12742.0\n",
       "1.52                             1.88                0.107         6779.0\n",
       "5.20                            11.86              317.800       139822.0\n",
       "9.58                            29.46               95.200       116460.0\n",
       "19.18                           84.01               14.500        50724.0\n",
       "30.07                          164.79               17.100        49244.0"
      ]
     },
     "execution_count": 20,
     "metadata": {},
     "output_type": "execute_result"
    }
   ],
   "source": [
    "# Grouping\n",
    "print(\"\\nGrouping the data by a specific column:\")\n",
    "df.groupby('Distance (AU)').mean()"
   ]
  },
  {
   "cell_type": "code",
   "execution_count": 31,
   "id": "22e868bc",
   "metadata": {},
   "outputs": [
    {
     "name": "stdout",
     "output_type": "stream",
     "text": [
      "Shape of the dataframe: (8, 5)\n",
      "\n",
      "Information about the dataframe:\n",
      "<class 'pandas.core.frame.DataFrame'>\n",
      "RangeIndex: 8 entries, 0 to 7\n",
      "Data columns (total 5 columns):\n",
      " #   Column                  Non-Null Count  Dtype  \n",
      "---  ------                  --------------  -----  \n",
      " 0   Planet                  8 non-null      object \n",
      " 1   Distance (AU)           8 non-null      float64\n",
      " 2   Orbital Period (years)  8 non-null      float64\n",
      " 3   Mass (Earth Masses)     8 non-null      float64\n",
      " 4   Diameter (km)           8 non-null      int64  \n",
      "dtypes: float64(3), int64(1), object(1)\n",
      "memory usage: 448.0+ bytes\n",
      "None\n",
      "\n",
      "Summary of the dataframe:\n",
      "       Distance (AU)  Orbital Period (years)  Mass (Earth Masses)  \\\n",
      "count       8.000000                8.000000             8.000000   \n",
      "mean        8.457500               36.732500            55.822125   \n",
      "std        10.840665               59.079534           110.605697   \n",
      "min         0.390000                0.240000             0.055000   \n",
      "25%         0.930000                0.905000             0.638000   \n",
      "50%         3.360000                6.870000             7.750000   \n",
      "75%        11.980000               43.097500            36.625000   \n",
      "max        30.070000              164.790000           317.800000   \n",
      "\n",
      "       Diameter (km)  \n",
      "count        8.00000  \n",
      "mean     49094.25000  \n",
      "std      52382.76815  \n",
      "min       4879.00000  \n",
      "25%      10772.75000  \n",
      "50%      30993.00000  \n",
      "75%      67158.00000  \n",
      "max     139822.00000  \n",
      "\n",
      "Number of unique values in each column:\n",
      "Planet                    8\n",
      "Distance (AU)             8\n",
      "Orbital Period (years)    8\n",
      "Mass (Earth Masses)       8\n",
      "Diameter (km)             8\n",
      "dtype: int64\n",
      "\n",
      "Value counts of a specific column:\n"
     ]
    },
    {
     "ename": "KeyError",
     "evalue": "'column_name'",
     "output_type": "error",
     "traceback": [
      "\u001b[1;31m---------------------------------------------------------------------------\u001b[0m",
      "\u001b[1;31mKeyError\u001b[0m                                  Traceback (most recent call last)",
      "\u001b[1;32mC:\\ProgramData\\Anaconda3\\lib\\site-packages\\pandas\\core\\indexes\\base.py\u001b[0m in \u001b[0;36mget_loc\u001b[1;34m(self, key, method, tolerance)\u001b[0m\n\u001b[0;32m   3628\u001b[0m             \u001b[1;32mtry\u001b[0m\u001b[1;33m:\u001b[0m\u001b[1;33m\u001b[0m\u001b[1;33m\u001b[0m\u001b[0m\n\u001b[1;32m-> 3629\u001b[1;33m                 \u001b[1;32mreturn\u001b[0m \u001b[0mself\u001b[0m\u001b[1;33m.\u001b[0m\u001b[0m_engine\u001b[0m\u001b[1;33m.\u001b[0m\u001b[0mget_loc\u001b[0m\u001b[1;33m(\u001b[0m\u001b[0mcasted_key\u001b[0m\u001b[1;33m)\u001b[0m\u001b[1;33m\u001b[0m\u001b[1;33m\u001b[0m\u001b[0m\n\u001b[0m\u001b[0;32m   3630\u001b[0m             \u001b[1;32mexcept\u001b[0m \u001b[0mKeyError\u001b[0m \u001b[1;32mas\u001b[0m \u001b[0merr\u001b[0m\u001b[1;33m:\u001b[0m\u001b[1;33m\u001b[0m\u001b[1;33m\u001b[0m\u001b[0m\n",
      "\u001b[1;32mC:\\ProgramData\\Anaconda3\\lib\\site-packages\\pandas\\_libs\\index.pyx\u001b[0m in \u001b[0;36mpandas._libs.index.IndexEngine.get_loc\u001b[1;34m()\u001b[0m\n",
      "\u001b[1;32mC:\\ProgramData\\Anaconda3\\lib\\site-packages\\pandas\\_libs\\index.pyx\u001b[0m in \u001b[0;36mpandas._libs.index.IndexEngine.get_loc\u001b[1;34m()\u001b[0m\n",
      "\u001b[1;32mpandas\\_libs\\hashtable_class_helper.pxi\u001b[0m in \u001b[0;36mpandas._libs.hashtable.PyObjectHashTable.get_item\u001b[1;34m()\u001b[0m\n",
      "\u001b[1;32mpandas\\_libs\\hashtable_class_helper.pxi\u001b[0m in \u001b[0;36mpandas._libs.hashtable.PyObjectHashTable.get_item\u001b[1;34m()\u001b[0m\n",
      "\u001b[1;31mKeyError\u001b[0m: 'column_name'",
      "\nThe above exception was the direct cause of the following exception:\n",
      "\u001b[1;31mKeyError\u001b[0m                                  Traceback (most recent call last)",
      "\u001b[1;32m~\\AppData\\Local\\Temp\\ipykernel_8\\1147626416.py\u001b[0m in \u001b[0;36m<module>\u001b[1;34m\u001b[0m\n\u001b[0;32m     16\u001b[0m \u001b[1;31m# Value counts\u001b[0m\u001b[1;33m\u001b[0m\u001b[1;33m\u001b[0m\u001b[0m\n\u001b[0;32m     17\u001b[0m \u001b[0mprint\u001b[0m\u001b[1;33m(\u001b[0m\u001b[1;34m\"\\nValue counts of a specific column:\"\u001b[0m\u001b[1;33m)\u001b[0m\u001b[1;33m\u001b[0m\u001b[1;33m\u001b[0m\u001b[0m\n\u001b[1;32m---> 18\u001b[1;33m \u001b[0mprint\u001b[0m\u001b[1;33m(\u001b[0m\u001b[0mdf\u001b[0m\u001b[1;33m[\u001b[0m\u001b[1;34m'column_name'\u001b[0m\u001b[1;33m]\u001b[0m\u001b[1;33m.\u001b[0m\u001b[0mvalue_counts\u001b[0m\u001b[1;33m(\u001b[0m\u001b[1;33m)\u001b[0m\u001b[1;33m)\u001b[0m\u001b[1;33m\u001b[0m\u001b[1;33m\u001b[0m\u001b[0m\n\u001b[0m\u001b[0;32m     19\u001b[0m \u001b[1;33m\u001b[0m\u001b[0m\n\u001b[0;32m     20\u001b[0m \u001b[1;31m# Correlation\u001b[0m\u001b[1;33m\u001b[0m\u001b[1;33m\u001b[0m\u001b[0m\n",
      "\u001b[1;32mC:\\ProgramData\\Anaconda3\\lib\\site-packages\\pandas\\core\\frame.py\u001b[0m in \u001b[0;36m__getitem__\u001b[1;34m(self, key)\u001b[0m\n\u001b[0;32m   3503\u001b[0m             \u001b[1;32mif\u001b[0m \u001b[0mself\u001b[0m\u001b[1;33m.\u001b[0m\u001b[0mcolumns\u001b[0m\u001b[1;33m.\u001b[0m\u001b[0mnlevels\u001b[0m \u001b[1;33m>\u001b[0m \u001b[1;36m1\u001b[0m\u001b[1;33m:\u001b[0m\u001b[1;33m\u001b[0m\u001b[1;33m\u001b[0m\u001b[0m\n\u001b[0;32m   3504\u001b[0m                 \u001b[1;32mreturn\u001b[0m \u001b[0mself\u001b[0m\u001b[1;33m.\u001b[0m\u001b[0m_getitem_multilevel\u001b[0m\u001b[1;33m(\u001b[0m\u001b[0mkey\u001b[0m\u001b[1;33m)\u001b[0m\u001b[1;33m\u001b[0m\u001b[1;33m\u001b[0m\u001b[0m\n\u001b[1;32m-> 3505\u001b[1;33m             \u001b[0mindexer\u001b[0m \u001b[1;33m=\u001b[0m \u001b[0mself\u001b[0m\u001b[1;33m.\u001b[0m\u001b[0mcolumns\u001b[0m\u001b[1;33m.\u001b[0m\u001b[0mget_loc\u001b[0m\u001b[1;33m(\u001b[0m\u001b[0mkey\u001b[0m\u001b[1;33m)\u001b[0m\u001b[1;33m\u001b[0m\u001b[1;33m\u001b[0m\u001b[0m\n\u001b[0m\u001b[0;32m   3506\u001b[0m             \u001b[1;32mif\u001b[0m \u001b[0mis_integer\u001b[0m\u001b[1;33m(\u001b[0m\u001b[0mindexer\u001b[0m\u001b[1;33m)\u001b[0m\u001b[1;33m:\u001b[0m\u001b[1;33m\u001b[0m\u001b[1;33m\u001b[0m\u001b[0m\n\u001b[0;32m   3507\u001b[0m                 \u001b[0mindexer\u001b[0m \u001b[1;33m=\u001b[0m \u001b[1;33m[\u001b[0m\u001b[0mindexer\u001b[0m\u001b[1;33m]\u001b[0m\u001b[1;33m\u001b[0m\u001b[1;33m\u001b[0m\u001b[0m\n",
      "\u001b[1;32mC:\\ProgramData\\Anaconda3\\lib\\site-packages\\pandas\\core\\indexes\\base.py\u001b[0m in \u001b[0;36mget_loc\u001b[1;34m(self, key, method, tolerance)\u001b[0m\n\u001b[0;32m   3629\u001b[0m                 \u001b[1;32mreturn\u001b[0m \u001b[0mself\u001b[0m\u001b[1;33m.\u001b[0m\u001b[0m_engine\u001b[0m\u001b[1;33m.\u001b[0m\u001b[0mget_loc\u001b[0m\u001b[1;33m(\u001b[0m\u001b[0mcasted_key\u001b[0m\u001b[1;33m)\u001b[0m\u001b[1;33m\u001b[0m\u001b[1;33m\u001b[0m\u001b[0m\n\u001b[0;32m   3630\u001b[0m             \u001b[1;32mexcept\u001b[0m \u001b[0mKeyError\u001b[0m \u001b[1;32mas\u001b[0m \u001b[0merr\u001b[0m\u001b[1;33m:\u001b[0m\u001b[1;33m\u001b[0m\u001b[1;33m\u001b[0m\u001b[0m\n\u001b[1;32m-> 3631\u001b[1;33m                 \u001b[1;32mraise\u001b[0m \u001b[0mKeyError\u001b[0m\u001b[1;33m(\u001b[0m\u001b[0mkey\u001b[0m\u001b[1;33m)\u001b[0m \u001b[1;32mfrom\u001b[0m \u001b[0merr\u001b[0m\u001b[1;33m\u001b[0m\u001b[1;33m\u001b[0m\u001b[0m\n\u001b[0m\u001b[0;32m   3632\u001b[0m             \u001b[1;32mexcept\u001b[0m \u001b[0mTypeError\u001b[0m\u001b[1;33m:\u001b[0m\u001b[1;33m\u001b[0m\u001b[1;33m\u001b[0m\u001b[0m\n\u001b[0;32m   3633\u001b[0m                 \u001b[1;31m# If we have a listlike key, _check_indexing_error will raise\u001b[0m\u001b[1;33m\u001b[0m\u001b[1;33m\u001b[0m\u001b[0m\n",
      "\u001b[1;31mKeyError\u001b[0m: 'column_name'"
     ]
    }
   ],
   "source": [
    "# Pivot table\n",
    "print(\"\\nPivot table of the data:\")\n",
    "print(df.pivot_table(values='value', index='index_column', columns='column_to_pivot'))"
   ]
  },
  {
   "cell_type": "code",
   "execution_count": 13,
   "id": "70a76372",
   "metadata": {},
   "outputs": [
    {
     "data": {
      "text/plain": [
       "['anscombe',\n",
       " 'attention',\n",
       " 'brain_networks',\n",
       " 'car_crashes',\n",
       " 'diamonds',\n",
       " 'dots',\n",
       " 'exercise',\n",
       " 'flights',\n",
       " 'fmri',\n",
       " 'gammas',\n",
       " 'iris',\n",
       " 'planets',\n",
       " 'tips',\n",
       " 'titanic']"
      ]
     },
     "execution_count": 13,
     "metadata": {},
     "output_type": "execute_result"
    }
   ],
   "source": [
    "dataset_names = [\n",
    "    \"anscombe\", \n",
    "    \"attention\", \n",
    "    \"brain_networks\", \n",
    "    \"car_crashes\", \n",
    "    \"diamonds\", \n",
    "    \"dots\", \n",
    "    \"exercise\", \n",
    "    \"flights\", \n",
    "    \"fmri\", \n",
    "    \"gammas\", \n",
    "    \"iris\", \n",
    "    \"planets\", \n",
    "    \"tips\", \n",
    "    \"titanic\"\n",
    "]\n",
    "dataset_names"
   ]
  },
  {
   "cell_type": "code",
   "execution_count": 2,
   "id": "3a2d48f3",
   "metadata": {},
   "outputs": [
    {
     "data": {
      "text/html": [
       "<div>\n",
       "<style scoped>\n",
       "    .dataframe tbody tr th:only-of-type {\n",
       "        vertical-align: middle;\n",
       "    }\n",
       "\n",
       "    .dataframe tbody tr th {\n",
       "        vertical-align: top;\n",
       "    }\n",
       "\n",
       "    .dataframe thead th {\n",
       "        text-align: right;\n",
       "    }\n",
       "</style>\n",
       "<table border=\"1\" class=\"dataframe\">\n",
       "  <thead>\n",
       "    <tr style=\"text-align: right;\">\n",
       "      <th></th>\n",
       "      <th>total_bill</th>\n",
       "      <th>tip</th>\n",
       "      <th>sex</th>\n",
       "      <th>smoker</th>\n",
       "      <th>day</th>\n",
       "      <th>time</th>\n",
       "      <th>size</th>\n",
       "    </tr>\n",
       "  </thead>\n",
       "  <tbody>\n",
       "    <tr>\n",
       "      <th>0</th>\n",
       "      <td>16.99</td>\n",
       "      <td>1.01</td>\n",
       "      <td>Female</td>\n",
       "      <td>No</td>\n",
       "      <td>Sun</td>\n",
       "      <td>Dinner</td>\n",
       "      <td>2</td>\n",
       "    </tr>\n",
       "    <tr>\n",
       "      <th>1</th>\n",
       "      <td>10.34</td>\n",
       "      <td>1.66</td>\n",
       "      <td>Male</td>\n",
       "      <td>No</td>\n",
       "      <td>Sun</td>\n",
       "      <td>Dinner</td>\n",
       "      <td>3</td>\n",
       "    </tr>\n",
       "    <tr>\n",
       "      <th>2</th>\n",
       "      <td>21.01</td>\n",
       "      <td>3.50</td>\n",
       "      <td>Male</td>\n",
       "      <td>No</td>\n",
       "      <td>Sun</td>\n",
       "      <td>Dinner</td>\n",
       "      <td>3</td>\n",
       "    </tr>\n",
       "    <tr>\n",
       "      <th>3</th>\n",
       "      <td>23.68</td>\n",
       "      <td>3.31</td>\n",
       "      <td>Male</td>\n",
       "      <td>No</td>\n",
       "      <td>Sun</td>\n",
       "      <td>Dinner</td>\n",
       "      <td>2</td>\n",
       "    </tr>\n",
       "    <tr>\n",
       "      <th>4</th>\n",
       "      <td>24.59</td>\n",
       "      <td>3.61</td>\n",
       "      <td>Female</td>\n",
       "      <td>No</td>\n",
       "      <td>Sun</td>\n",
       "      <td>Dinner</td>\n",
       "      <td>4</td>\n",
       "    </tr>\n",
       "  </tbody>\n",
       "</table>\n",
       "</div>"
      ],
      "text/plain": [
       "   total_bill   tip     sex smoker  day    time  size\n",
       "0       16.99  1.01  Female     No  Sun  Dinner     2\n",
       "1       10.34  1.66    Male     No  Sun  Dinner     3\n",
       "2       21.01  3.50    Male     No  Sun  Dinner     3\n",
       "3       23.68  3.31    Male     No  Sun  Dinner     2\n",
       "4       24.59  3.61  Female     No  Sun  Dinner     4"
      ]
     },
     "execution_count": 2,
     "metadata": {},
     "output_type": "execute_result"
    }
   ],
   "source": [
    "\n",
    "import seaborn as sns\n",
    "tips = sns.load_dataset(\"tips\")\n",
    "tips.head()"
   ]
  },
  {
   "cell_type": "code",
   "execution_count": 30,
   "id": "8534ad9f",
   "metadata": {},
   "outputs": [
    {
     "name": "stdout",
     "output_type": "stream",
     "text": [
      "(1035, 6)\n"
     ]
    },
    {
     "data": {
      "text/html": [
       "<div>\n",
       "<style scoped>\n",
       "    .dataframe tbody tr th:only-of-type {\n",
       "        vertical-align: middle;\n",
       "    }\n",
       "\n",
       "    .dataframe tbody tr th {\n",
       "        vertical-align: top;\n",
       "    }\n",
       "\n",
       "    .dataframe thead th {\n",
       "        text-align: right;\n",
       "    }\n",
       "</style>\n",
       "<table border=\"1\" class=\"dataframe\">\n",
       "  <thead>\n",
       "    <tr style=\"text-align: right;\">\n",
       "      <th></th>\n",
       "      <th>method</th>\n",
       "      <th>number</th>\n",
       "      <th>orbital_period</th>\n",
       "      <th>mass</th>\n",
       "      <th>distance</th>\n",
       "      <th>year</th>\n",
       "    </tr>\n",
       "  </thead>\n",
       "  <tbody>\n",
       "    <tr>\n",
       "      <th>0</th>\n",
       "      <td>Radial Velocity</td>\n",
       "      <td>1</td>\n",
       "      <td>269.300</td>\n",
       "      <td>7.10</td>\n",
       "      <td>77.40</td>\n",
       "      <td>2006</td>\n",
       "    </tr>\n",
       "    <tr>\n",
       "      <th>1</th>\n",
       "      <td>Radial Velocity</td>\n",
       "      <td>1</td>\n",
       "      <td>874.774</td>\n",
       "      <td>2.21</td>\n",
       "      <td>56.95</td>\n",
       "      <td>2008</td>\n",
       "    </tr>\n",
       "    <tr>\n",
       "      <th>2</th>\n",
       "      <td>Radial Velocity</td>\n",
       "      <td>1</td>\n",
       "      <td>763.000</td>\n",
       "      <td>2.60</td>\n",
       "      <td>19.84</td>\n",
       "      <td>2011</td>\n",
       "    </tr>\n",
       "    <tr>\n",
       "      <th>3</th>\n",
       "      <td>Radial Velocity</td>\n",
       "      <td>1</td>\n",
       "      <td>326.030</td>\n",
       "      <td>19.40</td>\n",
       "      <td>110.62</td>\n",
       "      <td>2007</td>\n",
       "    </tr>\n",
       "    <tr>\n",
       "      <th>4</th>\n",
       "      <td>Radial Velocity</td>\n",
       "      <td>1</td>\n",
       "      <td>516.220</td>\n",
       "      <td>10.50</td>\n",
       "      <td>119.47</td>\n",
       "      <td>2009</td>\n",
       "    </tr>\n",
       "    <tr>\n",
       "      <th>5</th>\n",
       "      <td>Radial Velocity</td>\n",
       "      <td>1</td>\n",
       "      <td>185.840</td>\n",
       "      <td>4.80</td>\n",
       "      <td>76.39</td>\n",
       "      <td>2008</td>\n",
       "    </tr>\n",
       "    <tr>\n",
       "      <th>6</th>\n",
       "      <td>Radial Velocity</td>\n",
       "      <td>1</td>\n",
       "      <td>1773.400</td>\n",
       "      <td>4.64</td>\n",
       "      <td>18.15</td>\n",
       "      <td>2002</td>\n",
       "    </tr>\n",
       "    <tr>\n",
       "      <th>7</th>\n",
       "      <td>Radial Velocity</td>\n",
       "      <td>1</td>\n",
       "      <td>798.500</td>\n",
       "      <td>NaN</td>\n",
       "      <td>21.41</td>\n",
       "      <td>1996</td>\n",
       "    </tr>\n",
       "    <tr>\n",
       "      <th>8</th>\n",
       "      <td>Radial Velocity</td>\n",
       "      <td>1</td>\n",
       "      <td>993.300</td>\n",
       "      <td>10.30</td>\n",
       "      <td>73.10</td>\n",
       "      <td>2008</td>\n",
       "    </tr>\n",
       "    <tr>\n",
       "      <th>9</th>\n",
       "      <td>Radial Velocity</td>\n",
       "      <td>2</td>\n",
       "      <td>452.800</td>\n",
       "      <td>1.99</td>\n",
       "      <td>74.79</td>\n",
       "      <td>2010</td>\n",
       "    </tr>\n",
       "    <tr>\n",
       "      <th>10</th>\n",
       "      <td>Radial Velocity</td>\n",
       "      <td>2</td>\n",
       "      <td>883.000</td>\n",
       "      <td>0.86</td>\n",
       "      <td>74.79</td>\n",
       "      <td>2010</td>\n",
       "    </tr>\n",
       "  </tbody>\n",
       "</table>\n",
       "</div>"
      ],
      "text/plain": [
       "             method  number  orbital_period   mass  distance  year\n",
       "0   Radial Velocity       1         269.300   7.10     77.40  2006\n",
       "1   Radial Velocity       1         874.774   2.21     56.95  2008\n",
       "2   Radial Velocity       1         763.000   2.60     19.84  2011\n",
       "3   Radial Velocity       1         326.030  19.40    110.62  2007\n",
       "4   Radial Velocity       1         516.220  10.50    119.47  2009\n",
       "5   Radial Velocity       1         185.840   4.80     76.39  2008\n",
       "6   Radial Velocity       1        1773.400   4.64     18.15  2002\n",
       "7   Radial Velocity       1         798.500    NaN     21.41  1996\n",
       "8   Radial Velocity       1         993.300  10.30     73.10  2008\n",
       "9   Radial Velocity       2         452.800   1.99     74.79  2010\n",
       "10  Radial Velocity       2         883.000   0.86     74.79  2010"
      ]
     },
     "execution_count": 30,
     "metadata": {},
     "output_type": "execute_result"
    }
   ],
   "source": [
    "planets = sns.load_dataset(\"planets\")\n",
    "print(planets.shape)\n",
    "planets.head(11)"
   ]
  },
  {
   "cell_type": "code",
   "execution_count": 3,
   "id": "4fc81595",
   "metadata": {},
   "outputs": [
    {
     "data": {
      "text/plain": [
       "(244, 7)"
      ]
     },
     "execution_count": 3,
     "metadata": {},
     "output_type": "execute_result"
    }
   ],
   "source": [
    "tips.shape\n"
   ]
  },
  {
   "cell_type": "code",
   "execution_count": 4,
   "id": "b6a6e87f",
   "metadata": {},
   "outputs": [
    {
     "data": {
      "text/plain": [
       "<AxesSubplot:xlabel='tip', ylabel='Count'>"
      ]
     },
     "execution_count": 4,
     "metadata": {},
     "output_type": "execute_result"
    },
    {
     "data": {
      "image/png": "[encoded data removed]",
      "text/plain": [
       "<Figure size 640x480 with 1 Axes>"
      ]
     },
     "metadata": {},
     "output_type": "display_data"
    }
   ],
   "source": [
    "# Plot the distribution of tip amounts\n",
    "sns.histplot(data=tips, x=\"tip\", bins=10)"
   ]
  },
  {
   "cell_type": "code",
   "execution_count": 5,
   "id": "865dfd00",
   "metadata": {},
   "outputs": [
    {
     "data": {
      "text/plain": [
       "<AxesSubplot:xlabel='total_bill', ylabel='tip'>"
      ]
     },
     "execution_count": 5,
     "metadata": {},
     "output_type": "execute_result"
    },
    {
     "data": {
      "image/png": "[encoded data removed]",
      "text/plain": [
       "<Figure size 640x480 with 1 Axes>"
      ]
     },
     "metadata": {},
     "output_type": "display_data"
    }
   ],
   "source": [
    "# Plot the relationship between total bill amount and tip amount\n",
    "sns.scatterplot(data=tips, x=\"total_bill\", y=\"tip\")"
   ]
  },
  {
   "cell_type": "code",
   "execution_count": 8,
   "id": "bd433f0b",
   "metadata": {},
   "outputs": [
    {
     "data": {
      "text/plain": [
       "<seaborn.axisgrid.PairGrid at 0x218229b80a0>"
      ]
     },
     "execution_count": 8,
     "metadata": {},
     "output_type": "execute_result"
    },
    {
     "data": {
      "image/png": "[encoded data removed]",
      "text/plain": [
       "<Figure size 822.125x750 with 12 Axes>"
      ]
     },
     "metadata": {},
     "output_type": "display_data"
    }
   ],
   "source": [
    "\n",
    "\"\"\"\n",
    "Explore the relationship between tip amount and other variables: You can use Seaborn's pairplot function to create a matrix of scatter plots showing the relationship between tip amount and other variables in the dataset, such as the total bill amount, the size of the dining party, and whether the customer was a smoker or not:\n",
    "python\n",
    "\n",
    "\"\"\"\n",
    "\n",
    "\n",
    "sns.pairplot(data=tips, vars=[\"tip\", \"total_bill\", \"size\"], hue=\"smoker\")\n",
    "\n"
   ]
  },
  {
   "cell_type": "markdown",
   "id": "cc8c5f0c",
   "metadata": {},
   "source": [
    "This will create a grid of scatter plots, with tip amount, total bill amount, and party size on the diagonal and the other variables on the off-diagonal. The hue parameter is used to color the points by whether the customer was a smoker or not."
   ]
  },
  {
   "cell_type": "markdown",
   "id": "e982d6ff",
   "metadata": {},
   "source": [
    "## Seaborn's boxplot\n",
    "Compare the distribution of tip amounts for different days of the week: You can use Seaborn's boxplot function to create a box-and-whisker plot showing the distribution of tip amounts for each day of the week:\n",
    "\n",
    "**sns.boxplot(data=tips, x=\"day\", y=\"tip\")**\n",
    "\n",
    "This will create a boxplot with the days of the week on the x-axis and tip amount on the y-axis. This can help you see if there are any differences in the tip amounts depending on the day of the week."
   ]
  },
  {
   "cell_type": "code",
   "execution_count": 9,
   "id": "0b95ae36",
   "metadata": {
    "scrolled": true
   },
   "outputs": [
    {
     "data": {
      "text/plain": [
       "<AxesSubplot:xlabel='day', ylabel='tip'>"
      ]
     },
     "execution_count": 9,
     "metadata": {},
     "output_type": "execute_result"
    },
    {
     "data": {
      "image/png": "[encoded data removed]",
      "text/plain": [
       "<Figure size 640x480 with 1 Axes>"
      ]
     },
     "metadata": {},
     "output_type": "display_data"
    }
   ],
   "source": [
    "sns.boxplot(data=tips, x=\"day\", y=\"tip\")\n"
   ]
  },
  {
   "cell_type": "markdown",
   "id": "ca90d809",
   "metadata": {},
   "source": [
    "## Heatmap of the correlation matrix: \n",
    "You can use Seaborn's heatmap function to create a heatmap of the correlation matrix between the numerical variables in the dataset:\n",
    "python\n",
    "Copy code\n",
    "sns.heatmap(data=tips.corr(), annot=True)\n",
    "This will create a heatmap with the correlation coefficients between each pair of numerical variables. The annot parameter is used to add the actual values of the correlation coefficients to each cell of the heatmap."
   ]
  },
  {
   "cell_type": "code",
   "execution_count": 11,
   "id": "51acbc36",
   "metadata": {},
   "outputs": [
    {
     "data": {
      "text/plain": [
       "<AxesSubplot:>"
      ]
     },
     "execution_count": 11,
     "metadata": {},
     "output_type": "execute_result"
    },
    {
     "data": {
      "image/png": "[encoded data removed]",
      "text/plain": [
       "<Figure size 640x480 with 2 Axes>"
      ]
     },
     "metadata": {},
     "output_type": "display_data"
    }
   ],
   "source": [
    "sns.heatmap(data=tips.corr(), annot=True)\n"
   ]
  },
  {
   "cell_type": "code",
   "execution_count": null,
   "id": "768e1908",
   "metadata": {},
   "outputs": [],
   "source": []
  },
  {
   "cell_type": "markdown",
   "id": "2119d420",
   "metadata": {},
   "source": [
    "\n",
    "Seaborn  comes with several built-in datasets that can be used for testing and experimenting with various visualization techniques. In this lesson we look at some examples of how to load these datasets using Seaborn:\n",
    "\n",
    "This code first loads the tips dataset using Seaborn's load_dataset function and shows the first few rows of the dataset using the head() method.\n",
    "\n",
    "Then, it uses the histplot function to plot the distribution of tip amounts, with 10 bins.\n",
    "\n",
    "Finally, it uses the scatterplot function to plot the relationship between total bill amount and tip amount, with total bill amount on the x-axis and tip amount on the y-axis.\n",
    "b\n",
    "These two plots provide a simple but informative exploration of the tips dataset, showing the distribution of tip amounts and the relationship between tip amount and total bill amount. You can modify these plots and add more features as needed to further explore the dataset."
   ]
  }
 ],
 "metadata": {
  "kernelspec": {
   "display_name": "Python 3 (ipykernel)",
   "language": "python",
   "name": "python3"
  },
  "language_info": {
   "codemirror_mode": {
    "name": "ipython",
    "version": 3
   },
   "file_extension": ".py",
   "mimetype": "text/x-python",
   "name": "python",
   "nbconvert_exporter": "python",
   "pygments_lexer": "ipython3",
   "version": "3.9.13"
  },
  "toc": {
   "base_numbering": 1,
   "nav_menu": {},
   "number_sections": true,
   "sideBar": true,
   "skip_h1_title": true,
   "title_cell": "Table of Contents",
   "title_sidebar": "Contents",
   "toc_cell": false,
   "toc_position": {},
   "toc_section_display": true,
   "toc_window_display": true
  }
 },
 "nbformat": 4,
 "nbformat_minor": 5
}
