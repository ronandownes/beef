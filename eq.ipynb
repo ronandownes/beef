{
 "cells": [
  {
   "cell_type": "code",
   "execution_count": 32,
   "id": "7cfcd6dc",
   "metadata": {},
   "outputs": [],
   "source": [
    "# Generate a list of numbers\n",
    "smallprimes = [2, 3, 5]\n",
    "primes = [2, 3, 5, 7,11,13,17,19]\n",
    "singleprimes = [2, 3, 5, 7]\n",
    "squares = [1, 4, 9, 16,25,36,49,64,81]"
   ]
  },
  {
   "cell_type": "code",
   "execution_count": null,
   "id": "583df628",
   "metadata": {},
   "outputs": [],
   "source": []
  },
  {
   "cell_type": "code",
   "execution_count": 47,
   "id": "d5a0ae6c",
   "metadata": {},
   "outputs": [
    {
     "name": "stdout",
     "output_type": "stream",
     "text": [
      "$(x + 3)(5x + 2)$\n"
     ]
    }
   ],
   "source": [
    "\n",
    "import random\n",
    "\n",
    "# Generate a list of numbers\n",
    "smallprimes = [2,3,5]\n",
    "primes = [2, 3, 5, 7,11,13,17,19]\n",
    "singleprimes = [2, 3, 5, 7]\n",
    "squares = [1, 4, 9, 16,25,36,49,64,81]\n",
    "# Randomly choose 4 primes\n",
    "a, b, c = random.sample(smallprimes, 3)\n",
    "# Expand (ax+b)(cx+d)\n",
    "A = a*c\n",
    "B = a*d + b*c\n",
    "C = b*d\n",
    "s='\\vspace{22mm}'\n",
    "# Create the quadratic equation\n",
    "expansion = f\"$(x + {a})({b}x + {c})$\"\n",
    "print(expansion)"
   ]
  },
  {
   "cell_type": "code",
   "execution_count": 55,
   "id": "44c7a1b8",
   "metadata": {},
   "outputs": [
    {
     "name": "stdout",
     "output_type": "stream",
     "text": [
      "\\part $(x + 5)(3x + 2)$       \\vspace{20mm}\n",
      "\\part $(x + 3)(5x + 2)$       \\vspace{20mm}\n",
      "\\part $(x + 2)(3x + 5)$       \\vspace{20mm}\n",
      "\\part $(x + 3)(2x + 5)$       \\vspace{20mm}\n",
      "\\part $(x + 3)(2x + 5)$       \\vspace{20mm}\n",
      "\\part $(x + 3)(2x + 5)$       \\vspace{20mm}\n"
     ]
    }
   ],
   "source": [
    "\n",
    "\n",
    "\n",
    "\n",
    "for i in range(6):\n",
    "    import random\n",
    "    smallprimes = [2, 3, 5]\n",
    "    # Randomly choose 4 primes\n",
    "    a, b, c = random.sample(smallprimes, 3)\n",
    "    # Expand (ax+b)(cx+d)\n",
    "    expansion = f\"$(x + {a})({b}x + {c})$\"\n",
    "    equation_string = \"{:<30s}{}\".format(f\"\\\\part {expansion}\", r\"\\vspace{20mm}\")\n",
    "    print(equation_string)\n"
   ]
  },
  {
   "cell_type": "code",
   "execution_count": 61,
   "id": "e16874f8",
   "metadata": {},
   "outputs": [
    {
     "name": "stdout",
     "output_type": "stream",
     "text": [
      "\\part $(x + 5)(2x + 3)$       \\vspace{20mm}\\n\n",
      "\\part $(x + 2)(3x + 5)$       \\vspace{20mm}\\n\n",
      "\\part $(x + 3)(2x + 7)$       \\vspace{20mm}\\n\n",
      "\\part $(x + 7)(5x + 2)$       \\vspace{20mm}\\n\n",
      "\\part $(x + 3)(5x + 2)$       \\vspace{20mm}\\n\n",
      "\\part $(x + 5)(3x + 7)$       \\vspace{20mm}\\n\n"
     ]
    }
   ],
   "source": [
    "import random\n",
    "\n",
    "# Generate a list of numbers\n",
    "smallprimes = [2, 3, 5]\n",
    "primes = [2, 3, 5, 7, 11, 13, 17, 19]\n",
    "singleprimes = [2, 3, 5, 7]\n",
    "squares = [1, 4, 9, 16, 25, 36, 49, 64, 81]\n",
    "\n",
    "# Loop to generate 6 equations\n",
    "for i in range(6):\n",
    "    # Randomly choose 4 primes\n",
    "    a, b, c = random.sample(singleprimes, 3)\n",
    "    # Expand (ax+b)(cx+d)\n",
    "    A = a*c\n",
    "    B = a*d + b*c\n",
    "    C = b*d\n",
    "    # Create the quadratic equation\n",
    "    expansion = f\"$(x + {a})({b}x + {c})$\"\n",
    "    equation_string = \"{:<30s}{}\".format(f\"\\\\part {expansion}\", r\"\\vspace{20mm}\\n\")\n",
    "    print(equation_string)\n"
   ]
  },
  {
   "cell_type": "code",
   "execution_count": 57,
   "id": "424bb9e0",
   "metadata": {},
   "outputs": [
    {
     "name": "stdout",
     "output_type": "stream",
     "text": [
      "\\part $(x + 2)(3x + 5)$       \\vspace{20mm}\n",
      "\\part $(x + 2)(3x + 5)$       \\vspace{20mm}\n",
      "\\part $(x + 2)(3x + 5)$       \\vspace{20mm}\n",
      "\\part $(x + 2)(3x + 5)$       \\vspace{20mm}\n",
      "\\part $(x + 2)(3x + 5)$       \\vspace{20mm}\n",
      "\\part $(x + 2)(3x + 5)$       \\vspace{20mm}\n"
     ]
    }
   ],
   "source": [
    "for i in range(6):\n",
    "    equation_string = \"{:<30s}{}\".format(f\"\\\\part {expansion}\", r\"\\vspace{20mm}\")\n",
    "    print(equation_string)\n"
   ]
  },
  {
   "cell_type": "code",
   "execution_count": 60,
   "id": "1c3a1381",
   "metadata": {},
   "outputs": [
    {
     "name": "stdout",
     "output_type": "stream",
     "text": [
      "3x^2 + 17x + 10 = 0\n",
      "\n"
     ]
    }
   ],
   "source": [
    "\n",
    "import random\n",
    "\n",
    "# Generate a list of numbers\n",
    "smallprimes = [1,2,3,5]\n",
    "primes = [2, 3, 5, 7,11,13,17,19]\n",
    "singleprimes = [2, 3, 5, 7]\n",
    "squares = [1, 4, 9, 16,25,36,49,64,81]\n",
    "# Randomly choose 4 primes\n",
    "a, b, c, d = random.sample(smallprimes, 4)\n",
    "# Expand (ax+b)(cx+d)\n",
    "A = a*c\n",
    "B = a*d + b*c\n",
    "C = b*d\n",
    "# Create the quadratic equation\n",
    "equation = f\"{A}x^2 + {B}x + {C} = 0\\n\"\n",
    "\n",
    "print(equation)"
   ]
  },
  {
   "cell_type": "code",
   "execution_count": 21,
   "id": "89289fb6",
   "metadata": {},
   "outputs": [
    {
     "name": "stdout",
     "output_type": "stream",
     "text": [
      "22x^3 + 91x^2 + 104x+35 = 0\n"
     ]
    }
   ],
   "source": [
    "import random\n",
    "\n",
    "# Generate a list of primes\n",
    "primes = [2, 3, 5, 7]\n",
    "\n",
    "# Randomly choose 4 primes\n",
    "a, b, c, d = random.sample(primes, 4)\n",
    "\n",
    "# Expand (ax+b)(cx+d)\n",
    "A = a*c\n",
    "B = a*d + b*c+a*c\n",
    "C = b*d+a*d + b*c\n",
    "D =b*d\n",
    "\n",
    "# Create the quadratic equation\n",
    "cubic = f\"{A}x^3 + {B}x^2 + {C}x+{D} = 0\"\n",
    "\n",
    "print(cubic)"
   ]
  },
  {
   "cell_type": "code",
   "execution_count": 4,
   "id": "917aae25",
   "metadata": {},
   "outputs": [],
   "source": [
    "import random\n",
    "\n",
    "def quad():\n",
    "    # Generate a list of primes\n",
    "    primes = [2,3, 5, 7, 11, 13]\n",
    "\n",
    "    # Randomly choose 4 primes\n",
    "    a, b, c, d = random.sample(primes, 4)\n",
    "\n",
    "    # Expand (ax+b)(cx+d)\n",
    "    A = a*c\n",
    "    B = a*d + b*c\n",
    "    C = b*d\n",
    "\n",
    "    # Create the quadratic equation\n",
    "    equation = f\"{A}x^2 + {B}x + {C} = 0\"\n",
    "\n",
    "    return equation\n"
   ]
  },
  {
   "cell_type": "code",
   "execution_count": 28,
   "id": "8d0b6b4f",
   "metadata": {},
   "outputs": [
    {
     "name": "stdout",
     "output_type": "stream",
     "text": [
      "21x^3 + 47x^2 + -13x+-55 = 0\n"
     ]
    }
   ],
   "source": [
    "import random\n",
    "\n",
    "# Generate a list of primes\n",
    "moreprimes = [2, 3, 5, 7, 11,13]\n",
    "\n",
    "# Randomly choose 4 primes\n",
    "a, b, c, d = random.sample(primes, 4)\n",
    "\n",
    "# Expand (ax+b)(cx+d)\n",
    "A = a*c\n",
    "B = a*d + b*c-a*c\n",
    "C = b*d-a*d - b*c\n",
    "D =-b*d\n",
    "\n",
    "# Create the quadratic equation\n",
    "cubicn = f\"{A}x^3 + {B}x^2 + {C}x+{D} = 0\"\n",
    "\n",
    "print(cubicn)"
   ]
  },
  {
   "cell_type": "code",
   "execution_count": 5,
   "id": "1d4e5ac2",
   "metadata": {},
   "outputs": [],
   "source": [
    "import random\n",
    "\n",
    "def expand():\n",
    "    # Generate a list of primes\n",
    "    primes = [2,3,5,7, 11]\n",
    "\n",
    "    # Randomly choose 4 primes\n",
    "    a, b, c, d = random.sample(primes, 4)\n",
    "\n",
    "    # Expand (ax+b)(cx+d)\n",
    "#     A = a*c\n",
    "#     B = a*d + b*c\n",
    "#     C = b*d\n",
    "\n",
    "    # Create the quadratic equation\n",
    "    equation = f\"     ({a}x+{b})({c}x+{d})   \"\n",
    "\n",
    "    return equation"
   ]
  },
  {
   "cell_type": "code",
   "execution_count": 6,
   "id": "9adf4b6e",
   "metadata": {},
   "outputs": [],
   "source": [
    "import random\n",
    "\n",
    "def expandneg():\n",
    "    # Generate a list of primes\n",
    "    primes = [2,3,5,7]\n",
    "    negprimes = [-2,-3,-5,-7,-11]\n",
    "\n",
    "    # Randomly choose 4 primes\n",
    "    a, b, c, d = random.sample(primes, 4)\n",
    "    \n",
    "    e,f,g,h= random.sample(primes, 4)\n",
    "\n",
    "    # Expand (ax+b)(cx+d)\n",
    "#     A = a*c\n",
    "#     B = a*d + b*c\n",
    "#     C = b*d\n",
    "\n",
    "    # Create the quadratic equation\n",
    "    equation = f\"     ({a}x-{b})({c}x-{d})   \"\n",
    "\n",
    "    return equation"
   ]
  },
  {
   "cell_type": "code",
   "execution_count": 7,
   "id": "0af1786c",
   "metadata": {},
   "outputs": [
    {
     "name": "stdout",
     "output_type": "stream",
     "text": [
      "     (2x-7)(5x-3)   \n",
      "     (7x-5)(3x-2)   \n",
      "     (5x-2)(7x-3)   \n",
      "     (7x-3)(2x-5)   \n",
      "     (5x-2)(3x-7)   \n",
      "     (7x-5)(2x-3)   \n",
      "     (2x-7)(3x-5)   \n"
     ]
    }
   ],
   "source": [
    "print(expandneg())\n",
    "print(expandneg())\n",
    "print(expandneg())\n",
    "print(expandneg())\n",
    "print(expandneg())\n",
    "print(expandneg())\n",
    "print(expandneg())\n"
   ]
  },
  {
   "cell_type": "code",
   "execution_count": 8,
   "id": "6d648b8f",
   "metadata": {},
   "outputs": [],
   "source": [
    "import random\n",
    "\n",
    "def quadlow():\n",
    "    # Generate a list of primes sorted in ascending order\n",
    "    primes = sorted([2, 3, 5, 7, 11, 13])\n",
    "\n",
    "    # Randomly choose 4 primes, with preference given to lower primes\n",
    "    a = random.choice(primes[:3])\n",
    "    b = random.choice(primes)\n",
    "    c = random.choice(primes[:primes.index(a)+1])\n",
    "    d = random.choice(primes)\n",
    "\n",
    "    # Expand (ax+b)(cx+d)\n",
    "    A = a*c\n",
    "    B = a*d + b*c\n",
    "    C = b*d\n",
    "\n",
    "    # Create the quadratic equation\n",
    "    equation = f\"{A}x^2 + {B}x + {C} = 0\"\n",
    "\n",
    "    return equation"
   ]
  },
  {
   "cell_type": "code",
   "execution_count": 9,
   "id": "28f139c5",
   "metadata": {},
   "outputs": [
    {
     "data": {
      "text/plain": [
       "'15x^2 + 44x + 21 = 0'"
      ]
     },
     "execution_count": 9,
     "metadata": {},
     "output_type": "execute_result"
    }
   ],
   "source": [
    "quadlow()"
   ]
  },
  {
   "cell_type": "code",
   "execution_count": 14,
   "id": "5c35bc0d",
   "metadata": {},
   "outputs": [
    {
     "name": "stdout",
     "output_type": "stream",
     "text": [
      "    \\part \begin     (7x-3)(2x-5)         (7x-3)(2x-5)   \n",
      "                    \\end{equation}\\vspace{22mm} \\n\n",
      "    \\part \begin     (7x-5)(2x-3)         (7x-5)(2x-3)   \n",
      "                    \\end{equation}\\vspace{22mm} \\n\n",
      "    \\part \begin     (5x-3)(7x-2)         (5x-3)(7x-2)   \n",
      "                    \\end{equation}\\vspace{22mm} \\n\n",
      "    \\part \begin     (7x-5)(2x-3)         (7x-5)(2x-3)   \n",
      "                    \\end{equation}\\vspace{22mm} \\n\n",
      "    \\part \begin     (5x-7)(3x-2)         (5x-7)(3x-2)   \n",
      "                    \\end{equation}\\vspace{22mm} \\n\n",
      "    \\part \begin     (5x-2)(7x-3)         (5x-2)(7x-3)   \n",
      "                    \\end{equation}\\vspace{22mm} \\n\n"
     ]
    }
   ],
   "source": [
    "for i in range(6):\n",
    "    equation = expandneg()\n",
    "    print(f\"    \\part \\begin{equation} {equation}\\n\" + \" \"*20 + r\"\\end{equation}\\vspace{22mm} \\n\")\n",
    "    \n",
    "    \n",
    "    \n",
    "    \n",
    "\n"
   ]
  },
  {
   "cell_type": "code",
   "execution_count": 2,
   "id": "13e40cfb",
   "metadata": {},
   "outputs": [
    {
     "ename": "NameError",
     "evalue": "name 'quadlow' is not defined",
     "output_type": "error",
     "traceback": [
      "\u001b[1;31m---------------------------------------------------------------------------\u001b[0m",
      "\u001b[1;31mNameError\u001b[0m                                 Traceback (most recent call last)",
      "\u001b[1;32m~\\AppData\\Local\\Temp\\ipykernel_5256\\486767349.py\u001b[0m in \u001b[0;36m<module>\u001b[1;34m\u001b[0m\n\u001b[0;32m      1\u001b[0m \u001b[1;32mfor\u001b[0m \u001b[0mi\u001b[0m \u001b[1;32min\u001b[0m \u001b[0mrange\u001b[0m\u001b[1;33m(\u001b[0m\u001b[1;36m40\u001b[0m\u001b[1;33m)\u001b[0m\u001b[1;33m:\u001b[0m\u001b[1;33m\u001b[0m\u001b[1;33m\u001b[0m\u001b[0m\n\u001b[1;32m----> 2\u001b[1;33m     \u001b[0mequation\u001b[0m \u001b[1;33m=\u001b[0m \u001b[0mquadlow\u001b[0m\u001b[1;33m(\u001b[0m\u001b[1;33m)\u001b[0m\u001b[1;33m\u001b[0m\u001b[1;33m\u001b[0m\u001b[0m\n\u001b[0m\u001b[0;32m      3\u001b[0m     \u001b[0mprint\u001b[0m\u001b[1;33m(\u001b[0m\u001b[1;34mf\"Problem {i+1}: {equation}\\n\"\u001b[0m \u001b[1;33m+\u001b[0m \u001b[1;34m\" \"\u001b[0m\u001b[1;33m*\u001b[0m\u001b[1;36m20\u001b[0m \u001b[1;33m+\u001b[0m \u001b[1;34mr\"\\vspace{1.8cm}\"\u001b[0m\u001b[1;33m)\u001b[0m\u001b[1;33m\u001b[0m\u001b[1;33m\u001b[0m\u001b[0m\n",
      "\u001b[1;31mNameError\u001b[0m: name 'quadlow' is not defined"
     ]
    }
   ],
   "source": [
    "for i in range(40):\n",
    "    equation = quadlow()\n",
    "    print(f\"Problem {i+1}: {equation}\\n\" + \" \"*20 + r\"\\vspace{1.8cm}\")\n"
   ]
  },
  {
   "cell_type": "code",
   "execution_count": 10,
   "id": "978afd98",
   "metadata": {},
   "outputs": [
    {
     "ename": "ModuleNotFoundError",
     "evalue": "No module named 'pylatex'",
     "output_type": "error",
     "traceback": [
      "\u001b[1;31m---------------------------------------------------------------------------\u001b[0m",
      "\u001b[1;31mModuleNotFoundError\u001b[0m                       Traceback (most recent call last)",
      "\u001b[1;32m~\\AppData\\Local\\Temp\\ipykernel_9948\\1159680117.py\u001b[0m in \u001b[0;36m<module>\u001b[1;34m\u001b[0m\n\u001b[1;32m----> 1\u001b[1;33m \u001b[1;32mfrom\u001b[0m \u001b[0mpylatex\u001b[0m \u001b[1;32mimport\u001b[0m \u001b[0mDocument\u001b[0m\u001b[1;33m,\u001b[0m \u001b[0mSection\u001b[0m\u001b[1;33m,\u001b[0m \u001b[0mSubsection\u001b[0m\u001b[1;33m,\u001b[0m \u001b[0mCommand\u001b[0m\u001b[1;33m\u001b[0m\u001b[1;33m\u001b[0m\u001b[0m\n\u001b[0m\u001b[0;32m      2\u001b[0m \u001b[1;32mfrom\u001b[0m \u001b[0mpylatex\u001b[0m\u001b[1;33m.\u001b[0m\u001b[0mutils\u001b[0m \u001b[1;32mimport\u001b[0m \u001b[0mitalic\u001b[0m\u001b[1;33m,\u001b[0m \u001b[0mNoEscape\u001b[0m\u001b[1;33m\u001b[0m\u001b[1;33m\u001b[0m\u001b[0m\n\u001b[0;32m      3\u001b[0m \u001b[1;33m\u001b[0m\u001b[0m\n\u001b[0;32m      4\u001b[0m \u001b[1;32mimport\u001b[0m \u001b[0mrandom\u001b[0m\u001b[1;33m\u001b[0m\u001b[1;33m\u001b[0m\u001b[0m\n\u001b[0;32m      5\u001b[0m \u001b[1;32mimport\u001b[0m \u001b[0mtime\u001b[0m\u001b[1;33m\u001b[0m\u001b[1;33m\u001b[0m\u001b[0m\n",
      "\u001b[1;31mModuleNotFoundError\u001b[0m: No module named 'pylatex'"
     ]
    }
   ],
   "source": [
    "from pylatex import Document, Section, Subsection, Command\n",
    "from pylatex.utils import italic, NoEscape\n",
    "\n",
    "import random\n",
    "import time\n",
    "\n",
    "# Seed the random number generator with the current system time\n",
    "random.seed(time.time())\n",
    "\n",
    "\n",
    "\n",
    "def quadlow():\n",
    "    # Generate a list of primes sorted in ascending order\n",
    "    primes = sorted([2, 3, 5, 7, 11, 13])\n",
    "\n",
    "    # Randomly choose 4 primes, with preference given to lower primes\n",
    "    a = random.choice(primes[:3])\n",
    "    b = random.choice(primes)\n",
    "    c = random.choice(primes[:primes.index(a)+1])\n",
    "    d = random.choice(primes)\n",
    "\n",
    "    # Expand (ax+b)(cx+d)\n",
    "    A = a*c\n",
    "    B = a*d + b*c\n",
    "    C = b*d\n",
    "\n",
    "    # Create the quadratic equation\n",
    "    equation = f\"{A}x^2 + {B}x + {C} = 0\"\n",
    "\n",
    "    return equation\n",
    "\n",
    "# Create the document\n",
    "doc = Document('quadratics')\n",
    "\n",
    "# Add a section with 40 subsections\n",
    "with doc.create(Section('Quadratic Equations')):\n",
    "    for i in range(40):\n",
    "        equation = quadlow()\n",
    "        with doc.create(Subsection()):\n",
    "            doc.append(Command('part'))\n",
    "            doc.append(NoEscape(f\"{equation}\"))\n",
    "            doc.append(NoEscape(r\" \\vspace{1.8cm}\"))\n",
    "\n",
    "# Generate the PDF\n",
    "doc.generate_pdf()\n"
   ]
  },
  {
   "cell_type": "code",
   "execution_count": 12,
   "id": "433551b0",
   "metadata": {},
   "outputs": [
    {
     "ename": "SyntaxError",
     "evalue": "unexpected character after line continuation character (249014177.py, line 1)",
     "output_type": "error",
     "traceback": [
      "\u001b[1;36m  File \u001b[1;32m\"C:\\Users\\ronan\\AppData\\Local\\Temp\\ipykernel_9948\\249014177.py\"\u001b[1;36m, line \u001b[1;32m1\u001b[0m\n\u001b[1;33m    \\part 4x^2 + 20x + 25 = 0     \\vspace{1.8cm}\u001b[0m\n\u001b[1;37m     ^\u001b[0m\n\u001b[1;31mSyntaxError\u001b[0m\u001b[1;31m:\u001b[0m unexpected character after line continuation character\n"
     ]
    }
   ],
   "source": [
    "\\part 4x^2 + 20x + 25 = 0     \\vspace{1.8cm}\n",
    "\\part 6x^2 + 47x + 91 = 0     \\vspace{1.8cm}\n",
    "\\part 15x^2 + 48x + 33 = 0    \\vspace{1.8cm}\n",
    "\\part 4x^2 + 16x + 15 = 0     \\vspace{1.8cm}\n",
    "\\part 15x^2 + 25x + 10 = 0    \\vspace{1.8cm}\n",
    "\\part 6x^2 + 49x + 65 = 0     \\vspace{1.8cm}\n",
    "\\part 6x^2 + 16x + 10 = 0     \\vspace{1.8cm}\n",
    "\\part 10x^2 + 81x + 143 = 0   \\vspace{1.8cm}\n",
    "\\part 6x^2 + 27x + 21 = 0     \\vspace{1.8cm}\n",
    "\\part 4x^2 + 12x + 9 = 0      \\vspace{1.8cm}\n",
    "\\part 4x^2 + 20x + 21 = 0     \\vspace{1.8cm}\n",
    "\\part 9x^2 + 54x + 65 = 0     \\vspace{1.8cm}\n",
    "\\part 9x^2 + 48x + 39 = 0     \\vspace{1.8cm}\n",
    "\\part 4x^2 + 32x + 39 = 0     \\vspace{1.8cm}\n",
    "\\part 4x^2 + 36x + 77 = 0     \\vspace{1.8cm}\n",
    "\\part 4x^2 + 20x + 21 = 0     \\vspace{1.8cm}\n",
    "\\part 25x^2 + 90x + 77 = 0    \\vspace{1.8cm}\n",
    "\\part 6x^2 + 20x + 14 = 0     \\vspace{1.8cm}\n",
    "\\part 6x^2 + 47x + 91 = 0     \\vspace{1.8cm}\n",
    "\\part 6x^2 + 43x + 55 = 0     \\vspace{1.8cm}\n",
    "\\part 4x^2 + 24x + 35 = 0     \\vspace{1.8cm}\n",
    "\\part 9x^2 + 54x + 65 = 0     \\vspace{1.8cm}\n",
    "\\part 4x^2 + 24x + 35 = 0     \\vspace{1.8cm}\n",
    "\\part 4x^2 + 26x + 22 = 0     \\vspace{1.8cm}\n",
    "\\part 10x^2 + 69x + 26 = 0    \\vspace{1.8cm}\n",
    "\\part 4x^2 + 36x + 77 = 0     \\vspace{1.8cm}\n",
    "\\part 25x^2 + 40x + 15 = 0    \\vspace{1.8cm}\n",
    "\\part 15x^2 + 16x + 4 = 0     \\vspace{1.8cm}\n",
    "\\part 25x^2 + 20x + 4 = 0     \\vspace{1.8cm}\n",
    "\\part 9x^2 + 24x + 15 = 0     \\vspace{1.8cm}\n",
    "\\part 25x^2 + 70x + 33 = 0    \\vspace{1.8cm}\n",
    "\\part 9x^2 + 45x + 26 = 0     \\vspace{1.8cm}\n",
    "\\part 9x^2 + 39x + 22 = 0     \\vspace{1.8cm}\n",
    "\\part 9x^2 + 27x + 14 = 0     \\vspace{1.8cm}\n",
    "\\part 4x^2 + 36x + 65 = 0     \\vspace{1.8cm}\n",
    "\\part 6x^2 + 43x + 26 = 0     \\vspace{1.8cm}\n",
    "\\part 4x^2 + 16x + 15 = 0     \\vspace{1.8cm}\n",
    "\\part 9x^2 + 15x + 6 = 0      \\vspace{1.8cm}\n",
    "\\part 4x^2 + 32x + 39 = 0     \\vspace{1.8cm}\n",
    "\\part 4x^2 + 24x + 35 = 0     \\vspace{1.8cm}"
   ]
  },
  {
   "cell_type": "code",
   "execution_count": 14,
   "id": "1db659ab",
   "metadata": {},
   "outputs": [
    {
     "name": "stdout",
     "output_type": "stream",
     "text": [
      "\\part      (3x+11)(7x+2)      \\vspace{1.8cm}\n",
      "\\part      (3x+11)(2x+7)      \\vspace{1.8cm}\n",
      "\\part      (2x+11)(7x+5)      \\vspace{1.8cm}\n",
      "\\part      (5x+11)(2x+3)      \\vspace{1.8cm}\n",
      "\\part      (7x+2)(11x+5)      \\vspace{1.8cm}\n",
      "\\part      (2x+3)(7x+11)      \\vspace{1.8cm}\n",
      "\\part      (3x+11)(7x+5)      \\vspace{1.8cm}\n",
      "\\part      (7x+5)(11x+3)      \\vspace{1.8cm}\n",
      "\\part      (2x+5)(7x+3)       \\vspace{1.8cm}\n",
      "\\part      (5x+3)(7x+2)       \\vspace{1.8cm}\n",
      "\\part      (2x+3)(5x+7)       \\vspace{1.8cm}\n",
      "\\part      (7x+2)(5x+3)       \\vspace{1.8cm}\n",
      "\\part      (11x+5)(3x+2)      \\vspace{1.8cm}\n",
      "\\part      (11x+3)(2x+7)      \\vspace{1.8cm}\n",
      "\\part      (2x+7)(3x+5)       \\vspace{1.8cm}\n",
      "\\part      (7x+5)(3x+2)       \\vspace{1.8cm}\n",
      "\\part      (3x+11)(2x+5)      \\vspace{1.8cm}\n",
      "\\part      (5x+7)(3x+2)       \\vspace{1.8cm}\n",
      "\\part      (3x+7)(11x+5)      \\vspace{1.8cm}\n",
      "\\part      (11x+7)(3x+2)      \\vspace{1.8cm}\n",
      "\\part      (3x+5)(11x+7)      \\vspace{1.8cm}\n",
      "\\part      (2x+11)(7x+5)      \\vspace{1.8cm}\n",
      "\\part      (7x+5)(3x+11)      \\vspace{1.8cm}\n",
      "\\part      (3x+2)(7x+5)       \\vspace{1.8cm}\n",
      "\\part      (5x+11)(3x+7)      \\vspace{1.8cm}\n",
      "\\part      (11x+3)(7x+2)      \\vspace{1.8cm}\n",
      "\\part      (3x+5)(7x+11)      \\vspace{1.8cm}\n",
      "\\part      (11x+3)(5x+7)      \\vspace{1.8cm}\n",
      "\\part      (2x+3)(5x+7)       \\vspace{1.8cm}\n",
      "\\part      (3x+7)(2x+5)       \\vspace{1.8cm}\n",
      "\\part      (7x+11)(3x+5)      \\vspace{1.8cm}\n",
      "\\part      (7x+5)(11x+2)      \\vspace{1.8cm}\n",
      "\\part      (2x+3)(7x+11)      \\vspace{1.8cm}\n",
      "\\part      (2x+11)(5x+7)      \\vspace{1.8cm}\n",
      "\\part      (3x+2)(5x+7)       \\vspace{1.8cm}\n",
      "\\part      (7x+2)(5x+3)       \\vspace{1.8cm}\n",
      "\\part      (5x+3)(7x+2)       \\vspace{1.8cm}\n",
      "\\part      (11x+5)(7x+3)      \\vspace{1.8cm}\n",
      "\\part      (3x+11)(5x+2)      \\vspace{1.8cm}\n",
      "\\part      (7x+2)(11x+3)      \\vspace{1.8cm}\n"
     ]
    }
   ],
   "source": [
    "for i in range(40):\n",
    "    equation = expand()\n",
    "    equation_string = \"{:<30s}{}\".format(f\"\\\\part {equation}\", r\"\\vspace{1.8cm}\"    )\n",
    "    print(equation_string)\n"
   ]
  },
  {
   "cell_type": "code",
   "execution_count": null,
   "id": "c0928a22",
   "metadata": {},
   "outputs": [],
   "source": []
  }
 ],
 "metadata": {
  "kernelspec": {
   "display_name": "Python 3 (ipykernel)",
   "language": "python",
   "name": "python3"
  },
  "language_info": {
   "codemirror_mode": {
    "name": "ipython",
    "version": 3
   },
   "file_extension": ".py",
   "mimetype": "text/x-python",
   "name": "python",
   "nbconvert_exporter": "python",
   "pygments_lexer": "ipython3",
   "version": "3.9.13"
  },
  "toc": {
   "base_numbering": 1,
   "nav_menu": {},
   "number_sections": true,
   "sideBar": true,
   "skip_h1_title": true,
   "title_cell": "Table of Contents",
   "title_sidebar": "Contents",
   "toc_cell": false,
   "toc_position": {},
   "toc_section_display": true,
   "toc_window_display": true
  }
 },
 "nbformat": 4,
 "nbformat_minor": 5
}
